{
  "nbformat": 4,
  "nbformat_minor": 0,
  "metadata": {
    "colab": {
      "provenance": []
    },
    "kernelspec": {
      "name": "python3",
      "display_name": "Python 3"
    },
    "accelerator": "GPU"
  },
  "cells": [
    {
      "cell_type": "markdown",
      "metadata": {
        "id": "EK6fa7KtbdDt"
      },
      "source": [
        "--------------\n",
        "## 1.딥러닝 모델로 회귀 문제 해결하기\n"
      ]
    },
    {
      "cell_type": "markdown",
      "metadata": {
        "id": "_80TyL0341SC"
      },
      "source": [
        "\n",
        "### 1-1.문제 정의(회귀 문제)\n"
      ]
    },
    {
      "cell_type": "markdown",
      "metadata": {
        "id": "3WFqfREo42yG"
      },
      "source": [
        "### 1-2.데이터 수집(국방부 데이터 이용)\n",
        "- 육군 신체측정정보 데이터\n",
        "- https://opendata.mnd.go.kr/openinf/sheetview2.jsp?infId=OA-9425"
      ]
    },
    {
      "cell_type": "code",
      "source": [
        "import numpy as np\n",
        "import pandas as pd\n",
        "import matplotlib.pyplot as plt\n",
        "%matplotlib inline"
      ],
      "metadata": {
        "id": "WDNkuchjvhzF"
      },
      "execution_count": null,
      "outputs": []
    },
    {
      "cell_type": "code",
      "source": [
        "df = pd.read_csv('/content/육군 신체측정정보.csv', encoding='cp949')\n",
        "df"
      ],
      "metadata": {
        "id": "jbThVf9vT1Gk",
        "colab": {
          "base_uri": "https://localhost:8080/",
          "height": 519
        },
        "outputId": "53453e4b-accc-4447-908c-47b34dc3285f"
      },
      "execution_count": null,
      "outputs": [
        {
          "output_type": "stream",
          "name": "stderr",
          "text": [
            "<ipython-input-71-da680d194aa4>:1: DtypeWarning: Columns (2,3,4,5,6,7,8,9) have mixed types. Specify dtype option on import or set low_memory=False.\n",
            "  df = pd.read_csv('/content/육군 신체측정정보.csv', encoding='cp949')\n"
          ]
        },
        {
          "output_type": "execute_result",
          "data": {
            "text/plain": [
              "            순번     측정 일자 가슴 둘레 센티미터 소매길이 센티미터   신장 센티미터         허리 둘레 센티미터  \\\n",
              "0            1  20140106       96.3      92.6     185.5               82.5   \n",
              "1            2      2013      101.9      83.8     167.2               81.2   \n",
              "2            3  20140106       99.5      89.6     179.9               99.2   \n",
              "3            4      2013       98.6      85.5     171.4               85.9   \n",
              "4            5  20140106       94.7      88.1     176.9               78.3   \n",
              "...        ...       ...        ...       ...       ...                ...   \n",
              "167978  167979  20170131   100.6 cm   86.4 cm  173.2 cm  86.7 cm (34.1 in)   \n",
              "167979  167980  20170131    97.9 cm   82.7 cm  166.3 cm  90.5 cm (35.6 in)   \n",
              "167980  167981  20170131    97.9 cm   87.2 cm  175.2 cm  94.3 cm (37.1 in)   \n",
              "167981  167982  20170131    85.3 cm   86.8 cm  173.6 cm  75.9 cm (29.9 in)   \n",
              "167982  167983  20170131    86.6 cm   88.3 cm  175.8 cm  73.0 cm (28.7 in)   \n",
              "\n",
              "       샅높이 센티미터 머리 둘레 센티미터 발 길이 센티미터 몸무게 킬로그램  \n",
              "0          83.8       57.1      28.5     73.2  \n",
              "1          74.4       55.0      24.2     65.1  \n",
              "2          84.2       56.3      28.1     93.2  \n",
              "3          76.4       54.5      27.4     71.6  \n",
              "4          79.7       58.5      26.5     67.1  \n",
              "...         ...        ...       ...      ...  \n",
              "167978  77.1 cm    56.9 cm   27.1 cm  73.7 kg  \n",
              "167979  73.4 cm    61.5 cm   28.8 cm  70.7 kg  \n",
              "167980  83.1 cm    57.1 cm   27.6 cm  78.7 kg  \n",
              "167981  76.6 cm    57.6 cm   24.3 cm  57.4 kg  \n",
              "167982  77.8 cm    56.3 cm   26.1 cm  51.7 kg  \n",
              "\n",
              "[167983 rows x 10 columns]"
            ],
            "text/html": [
              "\n",
              "  <div id=\"df-90b2d9d4-abea-4a68-8500-781faf07a346\">\n",
              "    <div class=\"colab-df-container\">\n",
              "      <div>\n",
              "<style scoped>\n",
              "    .dataframe tbody tr th:only-of-type {\n",
              "        vertical-align: middle;\n",
              "    }\n",
              "\n",
              "    .dataframe tbody tr th {\n",
              "        vertical-align: top;\n",
              "    }\n",
              "\n",
              "    .dataframe thead th {\n",
              "        text-align: right;\n",
              "    }\n",
              "</style>\n",
              "<table border=\"1\" class=\"dataframe\">\n",
              "  <thead>\n",
              "    <tr style=\"text-align: right;\">\n",
              "      <th></th>\n",
              "      <th>순번</th>\n",
              "      <th>측정 일자</th>\n",
              "      <th>가슴 둘레 센티미터</th>\n",
              "      <th>소매길이 센티미터</th>\n",
              "      <th>신장 센티미터</th>\n",
              "      <th>허리 둘레 센티미터</th>\n",
              "      <th>샅높이 센티미터</th>\n",
              "      <th>머리 둘레 센티미터</th>\n",
              "      <th>발 길이 센티미터</th>\n",
              "      <th>몸무게 킬로그램</th>\n",
              "    </tr>\n",
              "  </thead>\n",
              "  <tbody>\n",
              "    <tr>\n",
              "      <th>0</th>\n",
              "      <td>1</td>\n",
              "      <td>20140106</td>\n",
              "      <td>96.3</td>\n",
              "      <td>92.6</td>\n",
              "      <td>185.5</td>\n",
              "      <td>82.5</td>\n",
              "      <td>83.8</td>\n",
              "      <td>57.1</td>\n",
              "      <td>28.5</td>\n",
              "      <td>73.2</td>\n",
              "    </tr>\n",
              "    <tr>\n",
              "      <th>1</th>\n",
              "      <td>2</td>\n",
              "      <td>2013</td>\n",
              "      <td>101.9</td>\n",
              "      <td>83.8</td>\n",
              "      <td>167.2</td>\n",
              "      <td>81.2</td>\n",
              "      <td>74.4</td>\n",
              "      <td>55.0</td>\n",
              "      <td>24.2</td>\n",
              "      <td>65.1</td>\n",
              "    </tr>\n",
              "    <tr>\n",
              "      <th>2</th>\n",
              "      <td>3</td>\n",
              "      <td>20140106</td>\n",
              "      <td>99.5</td>\n",
              "      <td>89.6</td>\n",
              "      <td>179.9</td>\n",
              "      <td>99.2</td>\n",
              "      <td>84.2</td>\n",
              "      <td>56.3</td>\n",
              "      <td>28.1</td>\n",
              "      <td>93.2</td>\n",
              "    </tr>\n",
              "    <tr>\n",
              "      <th>3</th>\n",
              "      <td>4</td>\n",
              "      <td>2013</td>\n",
              "      <td>98.6</td>\n",
              "      <td>85.5</td>\n",
              "      <td>171.4</td>\n",
              "      <td>85.9</td>\n",
              "      <td>76.4</td>\n",
              "      <td>54.5</td>\n",
              "      <td>27.4</td>\n",
              "      <td>71.6</td>\n",
              "    </tr>\n",
              "    <tr>\n",
              "      <th>4</th>\n",
              "      <td>5</td>\n",
              "      <td>20140106</td>\n",
              "      <td>94.7</td>\n",
              "      <td>88.1</td>\n",
              "      <td>176.9</td>\n",
              "      <td>78.3</td>\n",
              "      <td>79.7</td>\n",
              "      <td>58.5</td>\n",
              "      <td>26.5</td>\n",
              "      <td>67.1</td>\n",
              "    </tr>\n",
              "    <tr>\n",
              "      <th>...</th>\n",
              "      <td>...</td>\n",
              "      <td>...</td>\n",
              "      <td>...</td>\n",
              "      <td>...</td>\n",
              "      <td>...</td>\n",
              "      <td>...</td>\n",
              "      <td>...</td>\n",
              "      <td>...</td>\n",
              "      <td>...</td>\n",
              "      <td>...</td>\n",
              "    </tr>\n",
              "    <tr>\n",
              "      <th>167978</th>\n",
              "      <td>167979</td>\n",
              "      <td>20170131</td>\n",
              "      <td>100.6 cm</td>\n",
              "      <td>86.4 cm</td>\n",
              "      <td>173.2 cm</td>\n",
              "      <td>86.7 cm (34.1 in)</td>\n",
              "      <td>77.1 cm</td>\n",
              "      <td>56.9 cm</td>\n",
              "      <td>27.1 cm</td>\n",
              "      <td>73.7 kg</td>\n",
              "    </tr>\n",
              "    <tr>\n",
              "      <th>167979</th>\n",
              "      <td>167980</td>\n",
              "      <td>20170131</td>\n",
              "      <td>97.9 cm</td>\n",
              "      <td>82.7 cm</td>\n",
              "      <td>166.3 cm</td>\n",
              "      <td>90.5 cm (35.6 in)</td>\n",
              "      <td>73.4 cm</td>\n",
              "      <td>61.5 cm</td>\n",
              "      <td>28.8 cm</td>\n",
              "      <td>70.7 kg</td>\n",
              "    </tr>\n",
              "    <tr>\n",
              "      <th>167980</th>\n",
              "      <td>167981</td>\n",
              "      <td>20170131</td>\n",
              "      <td>97.9 cm</td>\n",
              "      <td>87.2 cm</td>\n",
              "      <td>175.2 cm</td>\n",
              "      <td>94.3 cm (37.1 in)</td>\n",
              "      <td>83.1 cm</td>\n",
              "      <td>57.1 cm</td>\n",
              "      <td>27.6 cm</td>\n",
              "      <td>78.7 kg</td>\n",
              "    </tr>\n",
              "    <tr>\n",
              "      <th>167981</th>\n",
              "      <td>167982</td>\n",
              "      <td>20170131</td>\n",
              "      <td>85.3 cm</td>\n",
              "      <td>86.8 cm</td>\n",
              "      <td>173.6 cm</td>\n",
              "      <td>75.9 cm (29.9 in)</td>\n",
              "      <td>76.6 cm</td>\n",
              "      <td>57.6 cm</td>\n",
              "      <td>24.3 cm</td>\n",
              "      <td>57.4 kg</td>\n",
              "    </tr>\n",
              "    <tr>\n",
              "      <th>167982</th>\n",
              "      <td>167983</td>\n",
              "      <td>20170131</td>\n",
              "      <td>86.6 cm</td>\n",
              "      <td>88.3 cm</td>\n",
              "      <td>175.8 cm</td>\n",
              "      <td>73.0 cm (28.7 in)</td>\n",
              "      <td>77.8 cm</td>\n",
              "      <td>56.3 cm</td>\n",
              "      <td>26.1 cm</td>\n",
              "      <td>51.7 kg</td>\n",
              "    </tr>\n",
              "  </tbody>\n",
              "</table>\n",
              "<p>167983 rows × 10 columns</p>\n",
              "</div>\n",
              "      <button class=\"colab-df-convert\" onclick=\"convertToInteractive('df-90b2d9d4-abea-4a68-8500-781faf07a346')\"\n",
              "              title=\"Convert this dataframe to an interactive table.\"\n",
              "              style=\"display:none;\">\n",
              "        \n",
              "  <svg xmlns=\"http://www.w3.org/2000/svg\" height=\"24px\"viewBox=\"0 0 24 24\"\n",
              "       width=\"24px\">\n",
              "    <path d=\"M0 0h24v24H0V0z\" fill=\"none\"/>\n",
              "    <path d=\"M18.56 5.44l.94 2.06.94-2.06 2.06-.94-2.06-.94-.94-2.06-.94 2.06-2.06.94zm-11 1L8.5 8.5l.94-2.06 2.06-.94-2.06-.94L8.5 2.5l-.94 2.06-2.06.94zm10 10l.94 2.06.94-2.06 2.06-.94-2.06-.94-.94-2.06-.94 2.06-2.06.94z\"/><path d=\"M17.41 7.96l-1.37-1.37c-.4-.4-.92-.59-1.43-.59-.52 0-1.04.2-1.43.59L10.3 9.45l-7.72 7.72c-.78.78-.78 2.05 0 2.83L4 21.41c.39.39.9.59 1.41.59.51 0 1.02-.2 1.41-.59l7.78-7.78 2.81-2.81c.8-.78.8-2.07 0-2.86zM5.41 20L4 18.59l7.72-7.72 1.47 1.35L5.41 20z\"/>\n",
              "  </svg>\n",
              "      </button>\n",
              "      \n",
              "  <style>\n",
              "    .colab-df-container {\n",
              "      display:flex;\n",
              "      flex-wrap:wrap;\n",
              "      gap: 12px;\n",
              "    }\n",
              "\n",
              "    .colab-df-convert {\n",
              "      background-color: #E8F0FE;\n",
              "      border: none;\n",
              "      border-radius: 50%;\n",
              "      cursor: pointer;\n",
              "      display: none;\n",
              "      fill: #1967D2;\n",
              "      height: 32px;\n",
              "      padding: 0 0 0 0;\n",
              "      width: 32px;\n",
              "    }\n",
              "\n",
              "    .colab-df-convert:hover {\n",
              "      background-color: #E2EBFA;\n",
              "      box-shadow: 0px 1px 2px rgba(60, 64, 67, 0.3), 0px 1px 3px 1px rgba(60, 64, 67, 0.15);\n",
              "      fill: #174EA6;\n",
              "    }\n",
              "\n",
              "    [theme=dark] .colab-df-convert {\n",
              "      background-color: #3B4455;\n",
              "      fill: #D2E3FC;\n",
              "    }\n",
              "\n",
              "    [theme=dark] .colab-df-convert:hover {\n",
              "      background-color: #434B5C;\n",
              "      box-shadow: 0px 1px 3px 1px rgba(0, 0, 0, 0.15);\n",
              "      filter: drop-shadow(0px 1px 2px rgba(0, 0, 0, 0.3));\n",
              "      fill: #FFFFFF;\n",
              "    }\n",
              "  </style>\n",
              "\n",
              "      <script>\n",
              "        const buttonEl =\n",
              "          document.querySelector('#df-90b2d9d4-abea-4a68-8500-781faf07a346 button.colab-df-convert');\n",
              "        buttonEl.style.display =\n",
              "          google.colab.kernel.accessAllowed ? 'block' : 'none';\n",
              "\n",
              "        async function convertToInteractive(key) {\n",
              "          const element = document.querySelector('#df-90b2d9d4-abea-4a68-8500-781faf07a346');\n",
              "          const dataTable =\n",
              "            await google.colab.kernel.invokeFunction('convertToInteractive',\n",
              "                                                     [key], {});\n",
              "          if (!dataTable) return;\n",
              "\n",
              "          const docLinkHtml = 'Like what you see? Visit the ' +\n",
              "            '<a target=\"_blank\" href=https://colab.research.google.com/notebooks/data_table.ipynb>data table notebook</a>'\n",
              "            + ' to learn more about interactive tables.';\n",
              "          element.innerHTML = '';\n",
              "          dataTable['output_type'] = 'display_data';\n",
              "          await google.colab.output.renderOutput(dataTable, element);\n",
              "          const docLink = document.createElement('div');\n",
              "          docLink.innerHTML = docLinkHtml;\n",
              "          element.appendChild(docLink);\n",
              "        }\n",
              "      </script>\n",
              "    </div>\n",
              "  </div>\n",
              "  "
            ]
          },
          "metadata": {},
          "execution_count": 71
        }
      ]
    },
    {
      "cell_type": "code",
      "source": [
        "df.info()"
      ],
      "metadata": {
        "id": "SyYsdxUyzOKY",
        "colab": {
          "base_uri": "https://localhost:8080/"
        },
        "outputId": "cbcd8437-0f44-409d-c6b9-7d7ab7012e23"
      },
      "execution_count": null,
      "outputs": [
        {
          "output_type": "stream",
          "name": "stdout",
          "text": [
            "<class 'pandas.core.frame.DataFrame'>\n",
            "RangeIndex: 167983 entries, 0 to 167982\n",
            "Data columns (total 10 columns):\n",
            " #   Column      Non-Null Count   Dtype \n",
            "---  ------      --------------   ----- \n",
            " 0   순번          167983 non-null  int64 \n",
            " 1   측정 일자       167983 non-null  int64 \n",
            " 2   가슴 둘레 센티미터  167982 non-null  object\n",
            " 3   소매길이 센티미터   167983 non-null  object\n",
            " 4   신장 센티미터     167983 non-null  object\n",
            " 5   허리 둘레 센티미터  167983 non-null  object\n",
            " 6   샅높이 센티미터    167983 non-null  object\n",
            " 7   머리 둘레 센티미터  167981 non-null  object\n",
            " 8   발 길이 센티미터   167983 non-null  object\n",
            " 9   몸무게 킬로그램    167983 non-null  object\n",
            "dtypes: int64(2), object(8)\n",
            "memory usage: 12.8+ MB\n"
          ]
        }
      ]
    },
    {
      "cell_type": "markdown",
      "source": [
        "###1-3. 데이터 전처리"
      ],
      "metadata": {
        "id": "bf_Jha4KSk9M"
      }
    },
    {
      "cell_type": "markdown",
      "source": [
        "#### 결측값 제거"
      ],
      "metadata": {
        "id": "y_ZNOwlvVRv8"
      }
    },
    {
      "cell_type": "code",
      "source": [
        "df.dropna(axis=0,inplace = True)\n",
        "df.info()"
      ],
      "metadata": {
        "id": "JWbT-nUO0VFn",
        "colab": {
          "base_uri": "https://localhost:8080/"
        },
        "outputId": "9213b27e-0927-4b85-d0ba-2c7bf7535414"
      },
      "execution_count": null,
      "outputs": [
        {
          "output_type": "stream",
          "name": "stdout",
          "text": [
            "<class 'pandas.core.frame.DataFrame'>\n",
            "Int64Index: 167980 entries, 0 to 167982\n",
            "Data columns (total 10 columns):\n",
            " #   Column      Non-Null Count   Dtype \n",
            "---  ------      --------------   ----- \n",
            " 0   순번          167980 non-null  int64 \n",
            " 1   측정 일자       167980 non-null  int64 \n",
            " 2   가슴 둘레 센티미터  167980 non-null  object\n",
            " 3   소매길이 센티미터   167980 non-null  object\n",
            " 4   신장 센티미터     167980 non-null  object\n",
            " 5   허리 둘레 센티미터  167980 non-null  object\n",
            " 6   샅높이 센티미터    167980 non-null  object\n",
            " 7   머리 둘레 센티미터  167980 non-null  object\n",
            " 8   발 길이 센티미터   167980 non-null  object\n",
            " 9   몸무게 킬로그램    167980 non-null  object\n",
            "dtypes: int64(2), object(8)\n",
            "memory usage: 14.1+ MB\n"
          ]
        }
      ]
    },
    {
      "cell_type": "markdown",
      "source": [
        "#### 'cm' 등 불필요한 문자열 제거"
      ],
      "metadata": {
        "id": "a1JRMJvxViwL"
      }
    },
    {
      "cell_type": "code",
      "source": [
        "df['가슴 둘레 센티미터'].apply(lambda x: float(str(x).split()[0]))"
      ],
      "metadata": {
        "id": "p-vkrJZ5yudR",
        "colab": {
          "base_uri": "https://localhost:8080/"
        },
        "outputId": "bd52aebe-b3d7-4d00-9a54-869919be6d68"
      },
      "execution_count": null,
      "outputs": [
        {
          "output_type": "execute_result",
          "data": {
            "text/plain": [
              "0          96.3\n",
              "1         101.9\n",
              "2          99.5\n",
              "3          98.6\n",
              "4          94.7\n",
              "          ...  \n",
              "167978    100.6\n",
              "167979     97.9\n",
              "167980     97.9\n",
              "167981     85.3\n",
              "167982     86.6\n",
              "Name: 가슴 둘레 센티미터, Length: 167980, dtype: float64"
            ]
          },
          "metadata": {},
          "execution_count": 74
        }
      ]
    },
    {
      "cell_type": "code",
      "source": [
        "cmPreprocessing = ['가슴 둘레 센티미터','소매길이 센티미터', '신장 센티미터', '허리 둘레 센티미터', '샅높이 센티미터', '머리 둘레 센티미터', '발 길이 센티미터', '몸무게 킬로그램']"
      ],
      "metadata": {
        "id": "tDbgTwomzkdN"
      },
      "execution_count": null,
      "outputs": []
    },
    {
      "cell_type": "code",
      "source": [
        "for col in cmPreprocessing:\n",
        "    df[col] = df[col].apply(lambda x: float(str(x).split()[0]))"
      ],
      "metadata": {
        "id": "hG6aOCjhz8ps"
      },
      "execution_count": null,
      "outputs": []
    },
    {
      "cell_type": "code",
      "source": [
        "df.head()"
      ],
      "metadata": {
        "id": "dp2W6Pdy0MjH",
        "colab": {
          "base_uri": "https://localhost:8080/",
          "height": 267
        },
        "outputId": "5a3783c5-3a39-45cc-c440-df30798808de"
      },
      "execution_count": null,
      "outputs": [
        {
          "output_type": "execute_result",
          "data": {
            "text/plain": [
              "   순번     측정 일자  가슴 둘레 센티미터  소매길이 센티미터  신장 센티미터  허리 둘레 센티미터  샅높이 센티미터  \\\n",
              "0   1  20140106        96.3       92.6    185.5        82.5      83.8   \n",
              "1   2      2013       101.9       83.8    167.2        81.2      74.4   \n",
              "2   3  20140106        99.5       89.6    179.9        99.2      84.2   \n",
              "3   4      2013        98.6       85.5    171.4        85.9      76.4   \n",
              "4   5  20140106        94.7       88.1    176.9        78.3      79.7   \n",
              "\n",
              "   머리 둘레 센티미터  발 길이 센티미터  몸무게 킬로그램  \n",
              "0        57.1       28.5      73.2  \n",
              "1        55.0       24.2      65.1  \n",
              "2        56.3       28.1      93.2  \n",
              "3        54.5       27.4      71.6  \n",
              "4        58.5       26.5      67.1  "
            ],
            "text/html": [
              "\n",
              "  <div id=\"df-83955d5b-1897-4b45-a89d-ef28f8d6e966\">\n",
              "    <div class=\"colab-df-container\">\n",
              "      <div>\n",
              "<style scoped>\n",
              "    .dataframe tbody tr th:only-of-type {\n",
              "        vertical-align: middle;\n",
              "    }\n",
              "\n",
              "    .dataframe tbody tr th {\n",
              "        vertical-align: top;\n",
              "    }\n",
              "\n",
              "    .dataframe thead th {\n",
              "        text-align: right;\n",
              "    }\n",
              "</style>\n",
              "<table border=\"1\" class=\"dataframe\">\n",
              "  <thead>\n",
              "    <tr style=\"text-align: right;\">\n",
              "      <th></th>\n",
              "      <th>순번</th>\n",
              "      <th>측정 일자</th>\n",
              "      <th>가슴 둘레 센티미터</th>\n",
              "      <th>소매길이 센티미터</th>\n",
              "      <th>신장 센티미터</th>\n",
              "      <th>허리 둘레 센티미터</th>\n",
              "      <th>샅높이 센티미터</th>\n",
              "      <th>머리 둘레 센티미터</th>\n",
              "      <th>발 길이 센티미터</th>\n",
              "      <th>몸무게 킬로그램</th>\n",
              "    </tr>\n",
              "  </thead>\n",
              "  <tbody>\n",
              "    <tr>\n",
              "      <th>0</th>\n",
              "      <td>1</td>\n",
              "      <td>20140106</td>\n",
              "      <td>96.3</td>\n",
              "      <td>92.6</td>\n",
              "      <td>185.5</td>\n",
              "      <td>82.5</td>\n",
              "      <td>83.8</td>\n",
              "      <td>57.1</td>\n",
              "      <td>28.5</td>\n",
              "      <td>73.2</td>\n",
              "    </tr>\n",
              "    <tr>\n",
              "      <th>1</th>\n",
              "      <td>2</td>\n",
              "      <td>2013</td>\n",
              "      <td>101.9</td>\n",
              "      <td>83.8</td>\n",
              "      <td>167.2</td>\n",
              "      <td>81.2</td>\n",
              "      <td>74.4</td>\n",
              "      <td>55.0</td>\n",
              "      <td>24.2</td>\n",
              "      <td>65.1</td>\n",
              "    </tr>\n",
              "    <tr>\n",
              "      <th>2</th>\n",
              "      <td>3</td>\n",
              "      <td>20140106</td>\n",
              "      <td>99.5</td>\n",
              "      <td>89.6</td>\n",
              "      <td>179.9</td>\n",
              "      <td>99.2</td>\n",
              "      <td>84.2</td>\n",
              "      <td>56.3</td>\n",
              "      <td>28.1</td>\n",
              "      <td>93.2</td>\n",
              "    </tr>\n",
              "    <tr>\n",
              "      <th>3</th>\n",
              "      <td>4</td>\n",
              "      <td>2013</td>\n",
              "      <td>98.6</td>\n",
              "      <td>85.5</td>\n",
              "      <td>171.4</td>\n",
              "      <td>85.9</td>\n",
              "      <td>76.4</td>\n",
              "      <td>54.5</td>\n",
              "      <td>27.4</td>\n",
              "      <td>71.6</td>\n",
              "    </tr>\n",
              "    <tr>\n",
              "      <th>4</th>\n",
              "      <td>5</td>\n",
              "      <td>20140106</td>\n",
              "      <td>94.7</td>\n",
              "      <td>88.1</td>\n",
              "      <td>176.9</td>\n",
              "      <td>78.3</td>\n",
              "      <td>79.7</td>\n",
              "      <td>58.5</td>\n",
              "      <td>26.5</td>\n",
              "      <td>67.1</td>\n",
              "    </tr>\n",
              "  </tbody>\n",
              "</table>\n",
              "</div>\n",
              "      <button class=\"colab-df-convert\" onclick=\"convertToInteractive('df-83955d5b-1897-4b45-a89d-ef28f8d6e966')\"\n",
              "              title=\"Convert this dataframe to an interactive table.\"\n",
              "              style=\"display:none;\">\n",
              "        \n",
              "  <svg xmlns=\"http://www.w3.org/2000/svg\" height=\"24px\"viewBox=\"0 0 24 24\"\n",
              "       width=\"24px\">\n",
              "    <path d=\"M0 0h24v24H0V0z\" fill=\"none\"/>\n",
              "    <path d=\"M18.56 5.44l.94 2.06.94-2.06 2.06-.94-2.06-.94-.94-2.06-.94 2.06-2.06.94zm-11 1L8.5 8.5l.94-2.06 2.06-.94-2.06-.94L8.5 2.5l-.94 2.06-2.06.94zm10 10l.94 2.06.94-2.06 2.06-.94-2.06-.94-.94-2.06-.94 2.06-2.06.94z\"/><path d=\"M17.41 7.96l-1.37-1.37c-.4-.4-.92-.59-1.43-.59-.52 0-1.04.2-1.43.59L10.3 9.45l-7.72 7.72c-.78.78-.78 2.05 0 2.83L4 21.41c.39.39.9.59 1.41.59.51 0 1.02-.2 1.41-.59l7.78-7.78 2.81-2.81c.8-.78.8-2.07 0-2.86zM5.41 20L4 18.59l7.72-7.72 1.47 1.35L5.41 20z\"/>\n",
              "  </svg>\n",
              "      </button>\n",
              "      \n",
              "  <style>\n",
              "    .colab-df-container {\n",
              "      display:flex;\n",
              "      flex-wrap:wrap;\n",
              "      gap: 12px;\n",
              "    }\n",
              "\n",
              "    .colab-df-convert {\n",
              "      background-color: #E8F0FE;\n",
              "      border: none;\n",
              "      border-radius: 50%;\n",
              "      cursor: pointer;\n",
              "      display: none;\n",
              "      fill: #1967D2;\n",
              "      height: 32px;\n",
              "      padding: 0 0 0 0;\n",
              "      width: 32px;\n",
              "    }\n",
              "\n",
              "    .colab-df-convert:hover {\n",
              "      background-color: #E2EBFA;\n",
              "      box-shadow: 0px 1px 2px rgba(60, 64, 67, 0.3), 0px 1px 3px 1px rgba(60, 64, 67, 0.15);\n",
              "      fill: #174EA6;\n",
              "    }\n",
              "\n",
              "    [theme=dark] .colab-df-convert {\n",
              "      background-color: #3B4455;\n",
              "      fill: #D2E3FC;\n",
              "    }\n",
              "\n",
              "    [theme=dark] .colab-df-convert:hover {\n",
              "      background-color: #434B5C;\n",
              "      box-shadow: 0px 1px 3px 1px rgba(0, 0, 0, 0.15);\n",
              "      filter: drop-shadow(0px 1px 2px rgba(0, 0, 0, 0.3));\n",
              "      fill: #FFFFFF;\n",
              "    }\n",
              "  </style>\n",
              "\n",
              "      <script>\n",
              "        const buttonEl =\n",
              "          document.querySelector('#df-83955d5b-1897-4b45-a89d-ef28f8d6e966 button.colab-df-convert');\n",
              "        buttonEl.style.display =\n",
              "          google.colab.kernel.accessAllowed ? 'block' : 'none';\n",
              "\n",
              "        async function convertToInteractive(key) {\n",
              "          const element = document.querySelector('#df-83955d5b-1897-4b45-a89d-ef28f8d6e966');\n",
              "          const dataTable =\n",
              "            await google.colab.kernel.invokeFunction('convertToInteractive',\n",
              "                                                     [key], {});\n",
              "          if (!dataTable) return;\n",
              "\n",
              "          const docLinkHtml = 'Like what you see? Visit the ' +\n",
              "            '<a target=\"_blank\" href=https://colab.research.google.com/notebooks/data_table.ipynb>data table notebook</a>'\n",
              "            + ' to learn more about interactive tables.';\n",
              "          element.innerHTML = '';\n",
              "          dataTable['output_type'] = 'display_data';\n",
              "          await google.colab.output.renderOutput(dataTable, element);\n",
              "          const docLink = document.createElement('div');\n",
              "          docLink.innerHTML = docLinkHtml;\n",
              "          element.appendChild(docLink);\n",
              "        }\n",
              "      </script>\n",
              "    </div>\n",
              "  </div>\n",
              "  "
            ]
          },
          "metadata": {},
          "execution_count": 77
        }
      ]
    },
    {
      "cell_type": "markdown",
      "source": [
        "#### 몸무게 킬로그램 이상치 확인 및 분리\n",
        "\n",
        "- 몸무게가 누락된 샘플의 몸무게를 딥러닝 회귀 모델로 되찾아주자!"
      ],
      "metadata": {
        "id": "TYC2yCKuVrUp"
      }
    },
    {
      "cell_type": "code",
      "source": [
        "x = df['신장 센티미터']\n",
        "y = df['몸무게 킬로그램']\n",
        "\n",
        "import matplotlib.pyplot as plt\n",
        "plt.scatter(x, y)\n",
        "plt.show()"
      ],
      "metadata": {
        "id": "CWByggr1ymH_",
        "colab": {
          "base_uri": "https://localhost:8080/",
          "height": 431
        },
        "outputId": "e1fb1966-97e5-440a-9576-70db0fe11100"
      },
      "execution_count": null,
      "outputs": [
        {
          "output_type": "display_data",
          "data": {
            "text/plain": [
              "<Figure size 640x480 with 1 Axes>"
            ],
            "image/png": "[encoded data removed]"
          },
          "metadata": {}
        }
      ]
    },
    {
      "cell_type": "code",
      "source": [
        "import matplotlib.pyplot as plt\n",
        "plt.hist(x, bins = 200)\n",
        "plt.show()\n",
        "plt.hist(y, bins = 200)\n",
        "plt.show()"
      ],
      "metadata": {
        "id": "gzT0P7UY04CJ",
        "colab": {
          "base_uri": "https://localhost:8080/",
          "height": 846
        },
        "outputId": "4f0641e9-2275-41dc-8467-f218f0b39794"
      },
      "execution_count": null,
      "outputs": [
        {
          "output_type": "display_data",
          "data": {
            "text/plain": [
              "<Figure size 640x480 with 1 Axes>"
            ],
            "image/png": "[encoded data removed]"
          },
          "metadata": {}
        },
        {
          "output_type": "display_data",
          "data": {
            "text/plain": [
              "<Figure size 640x480 with 1 Axes>"
            ],
            "image/png": "[encoded data removed]"
          },
          "metadata": {}
        }
      ]
    },
    {
      "cell_type": "code",
      "source": [
        "plt.boxplot(x)\n",
        "plt.show()\n",
        "plt.boxplot(y)\n",
        "plt.show()"
      ],
      "metadata": {
        "id": "8fTcTZah0-73",
        "colab": {
          "base_uri": "https://localhost:8080/",
          "height": 845
        },
        "outputId": "8011df72-dfc3-46e4-b378-99d7c2a2625c"
      },
      "execution_count": null,
      "outputs": [
        {
          "output_type": "display_data",
          "data": {
            "text/plain": [
              "<Figure size 640x480 with 1 Axes>"
            ],
            "image/png": "[encoded data removed]"
          },
          "metadata": {}
        },
        {
          "output_type": "display_data",
          "data": {
            "text/plain": [
              "<Figure size 640x480 with 1 Axes>"
            ],
            "image/png": "[encoded data removed]"
          },
          "metadata": {}
        }
      ]
    },
    {
      "cell_type": "code",
      "source": [
        "# 몸무게가 10kg 미만인 국군장병을 확인해보자\n",
        "len(df[df['몸무게 킬로그램']<10])"
      ],
      "metadata": {
        "id": "gWq8Z2XK1BRF",
        "colab": {
          "base_uri": "https://localhost:8080/"
        },
        "outputId": "b4adf6b0-45a2-4320-a984-000abbaa54ef"
      },
      "execution_count": null,
      "outputs": [
        {
          "output_type": "execute_result",
          "data": {
            "text/plain": [
              "26"
            ]
          },
          "metadata": {},
          "execution_count": 81
        }
      ]
    },
    {
      "cell_type": "code",
      "source": [
        "# 몸무게가 10kg 미만인 이상치 데이터 분리\n",
        "ghosts = df[df['몸무게 킬로그램']<10]"
      ],
      "metadata": {
        "id": "2zhG6w1f2NST"
      },
      "execution_count": null,
      "outputs": []
    },
    {
      "cell_type": "code",
      "source": [
        "# 몸무게 이상치 제외한 샘플을 df에 대입하기\n",
        "df = df[df['몸무게 킬로그램']>10]"
      ],
      "metadata": {
        "id": "d2L2whA52cym"
      },
      "execution_count": null,
      "outputs": []
    },
    {
      "cell_type": "code",
      "source": [
        "# 몸무게와 다른 칼럼간 상관관계 확인하기\n",
        "df.corr()['몸무게 킬로그램'].sort_values(ascending = False)"
      ],
      "metadata": {
        "id": "EOvQQ-yf4cmr",
        "colab": {
          "base_uri": "https://localhost:8080/"
        },
        "outputId": "b3bd830c-2249-41ff-ec71-9633f637e7c7"
      },
      "execution_count": null,
      "outputs": [
        {
          "output_type": "execute_result",
          "data": {
            "text/plain": [
              "몸무게 킬로그램      1.000000\n",
              "가슴 둘레 센티미터    0.893750\n",
              "허리 둘레 센티미터    0.869775\n",
              "샅높이 센티미터      0.490937\n",
              "신장 센티미터       0.403038\n",
              "소매길이 센티미터     0.401077\n",
              "머리 둘레 센티미터    0.360277\n",
              "발 길이 센티미터     0.344661\n",
              "순번            0.020382\n",
              "측정 일자         0.019323\n",
              "Name: 몸무게 킬로그램, dtype: float64"
            ]
          },
          "metadata": {},
          "execution_count": 84
        }
      ]
    },
    {
      "cell_type": "code",
      "source": [
        "# 학습 데이터, 레이블 분리하기\n",
        "from sklearn.model_selection import train_test_split\n",
        "\n",
        "x = df.drop(columns=['순번','측정 일자','몸무게 킬로그램'])\n",
        "y = df['몸무게 킬로그램']\n",
        "\n",
        "x_train, x_test, y_train, y_test = train_test_split(x, y, test_size = 0.2, random_state = 156)"
      ],
      "metadata": {
        "id": "38L48r-G1xmQ"
      },
      "execution_count": null,
      "outputs": []
    },
    {
      "cell_type": "code",
      "source": [
        "x_train.head()"
      ],
      "metadata": {
        "id": "Rb1BLInb22t8",
        "colab": {
          "base_uri": "https://localhost:8080/",
          "height": 206
        },
        "outputId": "f3c61440-b2b9-4f0a-dab7-63e9ef580a66"
      },
      "execution_count": null,
      "outputs": [
        {
          "output_type": "execute_result",
          "data": {
            "text/plain": [
              "        가슴 둘레 센티미터  소매길이 센티미터  신장 센티미터  허리 둘레 센티미터  샅높이 센티미터  머리 둘레 센티미터  \\\n",
              "87465         82.5       88.0    175.8        72.8      79.8        57.8   \n",
              "121127        90.4       91.0    181.1        89.8      83.4        54.8   \n",
              "7635         102.7       87.9    175.6        85.7      77.3        56.6   \n",
              "68798        104.9       85.6    171.8       102.5      79.0        58.4   \n",
              "80685         94.5       88.6    177.2        88.6      82.6        61.5   \n",
              "\n",
              "        발 길이 센티미터  \n",
              "87465        27.3  \n",
              "121127       25.4  \n",
              "7635         26.1  \n",
              "68798        26.8  \n",
              "80685        26.2  "
            ],
            "text/html": [
              "\n",
              "  <div id=\"df-fc8c7573-b3ce-41ed-b75f-783c24d49395\">\n",
              "    <div class=\"colab-df-container\">\n",
              "      <div>\n",
              "<style scoped>\n",
              "    .dataframe tbody tr th:only-of-type {\n",
              "        vertical-align: middle;\n",
              "    }\n",
              "\n",
              "    .dataframe tbody tr th {\n",
              "        vertical-align: top;\n",
              "    }\n",
              "\n",
              "    .dataframe thead th {\n",
              "        text-align: right;\n",
              "    }\n",
              "</style>\n",
              "<table border=\"1\" class=\"dataframe\">\n",
              "  <thead>\n",
              "    <tr style=\"text-align: right;\">\n",
              "      <th></th>\n",
              "      <th>가슴 둘레 센티미터</th>\n",
              "      <th>소매길이 센티미터</th>\n",
              "      <th>신장 센티미터</th>\n",
              "      <th>허리 둘레 센티미터</th>\n",
              "      <th>샅높이 센티미터</th>\n",
              "      <th>머리 둘레 센티미터</th>\n",
              "      <th>발 길이 센티미터</th>\n",
              "    </tr>\n",
              "  </thead>\n",
              "  <tbody>\n",
              "    <tr>\n",
              "      <th>87465</th>\n",
              "      <td>82.5</td>\n",
              "      <td>88.0</td>\n",
              "      <td>175.8</td>\n",
              "      <td>72.8</td>\n",
              "      <td>79.8</td>\n",
              "      <td>57.8</td>\n",
              "      <td>27.3</td>\n",
              "    </tr>\n",
              "    <tr>\n",
              "      <th>121127</th>\n",
              "      <td>90.4</td>\n",
              "      <td>91.0</td>\n",
              "      <td>181.1</td>\n",
              "      <td>89.8</td>\n",
              "      <td>83.4</td>\n",
              "      <td>54.8</td>\n",
              "      <td>25.4</td>\n",
              "    </tr>\n",
              "    <tr>\n",
              "      <th>7635</th>\n",
              "      <td>102.7</td>\n",
              "      <td>87.9</td>\n",
              "      <td>175.6</td>\n",
              "      <td>85.7</td>\n",
              "      <td>77.3</td>\n",
              "      <td>56.6</td>\n",
              "      <td>26.1</td>\n",
              "    </tr>\n",
              "    <tr>\n",
              "      <th>68798</th>\n",
              "      <td>104.9</td>\n",
              "      <td>85.6</td>\n",
              "      <td>171.8</td>\n",
              "      <td>102.5</td>\n",
              "      <td>79.0</td>\n",
              "      <td>58.4</td>\n",
              "      <td>26.8</td>\n",
              "    </tr>\n",
              "    <tr>\n",
              "      <th>80685</th>\n",
              "      <td>94.5</td>\n",
              "      <td>88.6</td>\n",
              "      <td>177.2</td>\n",
              "      <td>88.6</td>\n",
              "      <td>82.6</td>\n",
              "      <td>61.5</td>\n",
              "      <td>26.2</td>\n",
              "    </tr>\n",
              "  </tbody>\n",
              "</table>\n",
              "</div>\n",
              "      <button class=\"colab-df-convert\" onclick=\"convertToInteractive('df-fc8c7573-b3ce-41ed-b75f-783c24d49395')\"\n",
              "              title=\"Convert this dataframe to an interactive table.\"\n",
              "              style=\"display:none;\">\n",
              "        \n",
              "  <svg xmlns=\"http://www.w3.org/2000/svg\" height=\"24px\"viewBox=\"0 0 24 24\"\n",
              "       width=\"24px\">\n",
              "    <path d=\"M0 0h24v24H0V0z\" fill=\"none\"/>\n",
              "    <path d=\"M18.56 5.44l.94 2.06.94-2.06 2.06-.94-2.06-.94-.94-2.06-.94 2.06-2.06.94zm-11 1L8.5 8.5l.94-2.06 2.06-.94-2.06-.94L8.5 2.5l-.94 2.06-2.06.94zm10 10l.94 2.06.94-2.06 2.06-.94-2.06-.94-.94-2.06-.94 2.06-2.06.94z\"/><path d=\"M17.41 7.96l-1.37-1.37c-.4-.4-.92-.59-1.43-.59-.52 0-1.04.2-1.43.59L10.3 9.45l-7.72 7.72c-.78.78-.78 2.05 0 2.83L4 21.41c.39.39.9.59 1.41.59.51 0 1.02-.2 1.41-.59l7.78-7.78 2.81-2.81c.8-.78.8-2.07 0-2.86zM5.41 20L4 18.59l7.72-7.72 1.47 1.35L5.41 20z\"/>\n",
              "  </svg>\n",
              "      </button>\n",
              "      \n",
              "  <style>\n",
              "    .colab-df-container {\n",
              "      display:flex;\n",
              "      flex-wrap:wrap;\n",
              "      gap: 12px;\n",
              "    }\n",
              "\n",
              "    .colab-df-convert {\n",
              "      background-color: #E8F0FE;\n",
              "      border: none;\n",
              "      border-radius: 50%;\n",
              "      cursor: pointer;\n",
              "      display: none;\n",
              "      fill: #1967D2;\n",
              "      height: 32px;\n",
              "      padding: 0 0 0 0;\n",
              "      width: 32px;\n",
              "    }\n",
              "\n",
              "    .colab-df-convert:hover {\n",
              "      background-color: #E2EBFA;\n",
              "      box-shadow: 0px 1px 2px rgba(60, 64, 67, 0.3), 0px 1px 3px 1px rgba(60, 64, 67, 0.15);\n",
              "      fill: #174EA6;\n",
              "    }\n",
              "\n",
              "    [theme=dark] .colab-df-convert {\n",
              "      background-color: #3B4455;\n",
              "      fill: #D2E3FC;\n",
              "    }\n",
              "\n",
              "    [theme=dark] .colab-df-convert:hover {\n",
              "      background-color: #434B5C;\n",
              "      box-shadow: 0px 1px 3px 1px rgba(0, 0, 0, 0.15);\n",
              "      filter: drop-shadow(0px 1px 2px rgba(0, 0, 0, 0.3));\n",
              "      fill: #FFFFFF;\n",
              "    }\n",
              "  </style>\n",
              "\n",
              "      <script>\n",
              "        const buttonEl =\n",
              "          document.querySelector('#df-fc8c7573-b3ce-41ed-b75f-783c24d49395 button.colab-df-convert');\n",
              "        buttonEl.style.display =\n",
              "          google.colab.kernel.accessAllowed ? 'block' : 'none';\n",
              "\n",
              "        async function convertToInteractive(key) {\n",
              "          const element = document.querySelector('#df-fc8c7573-b3ce-41ed-b75f-783c24d49395');\n",
              "          const dataTable =\n",
              "            await google.colab.kernel.invokeFunction('convertToInteractive',\n",
              "                                                     [key], {});\n",
              "          if (!dataTable) return;\n",
              "\n",
              "          const docLinkHtml = 'Like what you see? Visit the ' +\n",
              "            '<a target=\"_blank\" href=https://colab.research.google.com/notebooks/data_table.ipynb>data table notebook</a>'\n",
              "            + ' to learn more about interactive tables.';\n",
              "          element.innerHTML = '';\n",
              "          dataTable['output_type'] = 'display_data';\n",
              "          await google.colab.output.renderOutput(dataTable, element);\n",
              "          const docLink = document.createElement('div');\n",
              "          docLink.innerHTML = docLinkHtml;\n",
              "          element.appendChild(docLink);\n",
              "        }\n",
              "      </script>\n",
              "    </div>\n",
              "  </div>\n",
              "  "
            ]
          },
          "metadata": {},
          "execution_count": 86
        }
      ]
    },
    {
      "cell_type": "code",
      "source": [
        "x_train.shape"
      ],
      "metadata": {
        "id": "ciWSTm1d295S",
        "colab": {
          "base_uri": "https://localhost:8080/"
        },
        "outputId": "8c594970-9fd1-4249-cacc-d48d46010f8e"
      },
      "execution_count": null,
      "outputs": [
        {
          "output_type": "execute_result",
          "data": {
            "text/plain": [
              "(134363, 7)"
            ]
          },
          "metadata": {},
          "execution_count": 87
        }
      ]
    },
    {
      "cell_type": "code",
      "source": [
        "y_train.head()"
      ],
      "metadata": {
        "id": "BM3gnCTL25NY",
        "colab": {
          "base_uri": "https://localhost:8080/"
        },
        "outputId": "aeaefdf1-30bf-475c-b8c3-806c57b3ed87"
      },
      "execution_count": null,
      "outputs": [
        {
          "output_type": "execute_result",
          "data": {
            "text/plain": [
              "87465     54.8\n",
              "121127    68.9\n",
              "7635      71.4\n",
              "68798     92.7\n",
              "80685     67.2\n",
              "Name: 몸무게 킬로그램, dtype: float64"
            ]
          },
          "metadata": {},
          "execution_count": 88
        }
      ]
    },
    {
      "cell_type": "code",
      "metadata": {
        "id": "_1TUxdme3QEU"
      },
      "source": [
        "from sklearn.preprocessing import MinMaxScaler\n",
        "\n",
        "# MinMaxScaler 클래스를 이용해 피처 데이터 세트에 일괄적으로 스케일링 적용\n",
        "scaler = MinMaxScaler()\n",
        "x_train_scaled = scaler.fit_transform(x_train)"
      ],
      "execution_count": null,
      "outputs": []
    },
    {
      "cell_type": "code",
      "source": [
        "x_train.shape"
      ],
      "metadata": {
        "id": "VQZ0ET4i3QEU",
        "colab": {
          "base_uri": "https://localhost:8080/"
        },
        "outputId": "2d1c8626-15d5-4d51-e1b9-a0ea1ee668c4"
      },
      "execution_count": null,
      "outputs": [
        {
          "output_type": "execute_result",
          "data": {
            "text/plain": [
              "(134363, 7)"
            ]
          },
          "metadata": {},
          "execution_count": 90
        }
      ]
    },
    {
      "cell_type": "code",
      "source": [
        "x_test_scaled = scaler.fit_transform(x_test)\n",
        "x_test_scaled.shape"
      ],
      "metadata": {
        "id": "qbBON5AW3QEU",
        "colab": {
          "base_uri": "https://localhost:8080/"
        },
        "outputId": "c56959a9-a780-4056-956a-ef41e71a381e"
      },
      "execution_count": null,
      "outputs": [
        {
          "output_type": "execute_result",
          "data": {
            "text/plain": [
              "(33591, 7)"
            ]
          },
          "metadata": {},
          "execution_count": 91
        }
      ]
    },
    {
      "cell_type": "markdown",
      "source": [
        "### 1-4. Dropout을 이용한 모델 학습"
      ],
      "metadata": {
        "id": "2xrBSTBpSwBY"
      }
    },
    {
      "cell_type": "code",
      "metadata": {
        "id": "JXCxQcXS4Hhs"
      },
      "source": [
        "from tensorflow import keras\n",
        "from keras.models import Sequential\n",
        "from keras.layers import Dense, Dropout"
      ],
      "execution_count": null,
      "outputs": []
    },
    {
      "cell_type": "code",
      "metadata": {
        "id": "k20jpyZP4Hh-"
      },
      "source": [
        "NB_EPOCHS = 5\n",
        "BATCH_SIZE = 128\n",
        "\n",
        "## 모델 정의\n",
        "model1 = Sequential()\n",
        "\n",
        "model1.add(Dense(64, input_dim=x_train.shape[-1], activation='relu'))\n",
        "model1.add(Dropout(0.5))\n",
        "model1.add(Dense(32, activation='relu'))\n",
        "model1.add(Dropout(0.5))\n",
        "model1.add(Dense(32, activation='relu'))\n",
        "model1.add(Dense(1))\n",
        "\n",
        "# 모델 컴파일\n",
        "model1.compile(loss='MSE',optimizer = 'adam',metrics = ['mae'])"
      ],
      "execution_count": null,
      "outputs": []
    },
    {
      "cell_type": "code",
      "metadata": {
        "id": "EFqQCXRc4Hh-",
        "colab": {
          "base_uri": "https://localhost:8080/"
        },
        "outputId": "6fdbc4c4-3728-45e9-cc79-1731e5ef4593"
      },
      "source": [
        "# 모델 학습\n",
        "# verbose: 0 = silent, 1 = progress bar, 2 = one line per epoch\n",
        "history1 = model1.fit(x_train_scaled, y_train,validation_data=(x_test_scaled, y_test),epochs=NB_EPOCHS,batch_size=BATCH_SIZE, verbose=2)"
      ],
      "execution_count": null,
      "outputs": [
        {
          "output_type": "stream",
          "name": "stdout",
          "text": [
            "Epoch 1/5\n",
            "1050/1050 - 5s - loss: 641.5655 - mae: 18.2466 - val_loss: 88.2749 - val_mae: 8.3410 - 5s/epoch - 5ms/step\n",
            "Epoch 2/5\n",
            "1050/1050 - 3s - loss: 219.0107 - mae: 11.5826 - val_loss: 36.6663 - val_mae: 4.6304 - 3s/epoch - 3ms/step\n",
            "Epoch 3/5\n",
            "1050/1050 - 4s - loss: 137.9679 - mae: 9.0992 - val_loss: 87.8782 - val_mae: 8.0307 - 4s/epoch - 4ms/step\n",
            "Epoch 4/5\n",
            "1050/1050 - 4s - loss: 84.6590 - mae: 7.0341 - val_loss: 91.9275 - val_mae: 8.3267 - 4s/epoch - 3ms/step\n",
            "Epoch 5/5\n",
            "1050/1050 - 4s - loss: 54.1930 - mae: 5.5404 - val_loss: 66.6167 - val_mae: 6.8526 - 4s/epoch - 3ms/step\n"
          ]
        }
      ]
    },
    {
      "cell_type": "markdown",
      "source": [
        "### 1-5. 모델 평가"
      ],
      "metadata": {
        "id": "DwTaAkRQS0wz"
      }
    },
    {
      "cell_type": "code",
      "source": [
        "# 학습 결과 그래프 출력\n",
        "def modelplot(history, data, val_data):\n",
        "  plt.plot(history.history[data])\n",
        "  plt.plot(history.history[val_data])\n",
        "  plt.title('Model '+ data)\n",
        "  plt.ylabel(data)\n",
        "  plt.xlabel('epoch')\n",
        "  plt.legend(['train', 'test'])\n",
        "  plt.show()"
      ],
      "metadata": {
        "id": "YE_tsJrQ3PzE"
      },
      "execution_count": null,
      "outputs": []
    },
    {
      "cell_type": "code",
      "source": [
        "modelplot(history1, 'loss', 'val_loss')"
      ],
      "metadata": {
        "id": "gmoU8VrB3P1Z",
        "colab": {
          "base_uri": "https://localhost:8080/",
          "height": 472
        },
        "outputId": "e7938761-fa8c-4095-fc1c-8e179d7cfc2f"
      },
      "execution_count": null,
      "outputs": [
        {
          "output_type": "display_data",
          "data": {
            "text/plain": [
              "<Figure size 640x480 with 1 Axes>"
            ],
            "image/png": "[encoded data removed]"
          },
          "metadata": {}
        }
      ]
    },
    {
      "cell_type": "code",
      "source": [
        "modelplot(history1, 'mae', 'val_mae')"
      ],
      "metadata": {
        "id": "Nr2YrOkf3P4U",
        "colab": {
          "base_uri": "https://localhost:8080/",
          "height": 472
        },
        "outputId": "98ae2b83-5583-44fc-e5d0-c0f4b429c597"
      },
      "execution_count": null,
      "outputs": [
        {
          "output_type": "display_data",
          "data": {
            "text/plain": [
              "<Figure size 640x480 with 1 Axes>"
            ],
            "image/png": "[encoded data removed]"
          },
          "metadata": {}
        }
      ]
    },
    {
      "cell_type": "code",
      "source": [
        "# model.evaluate로 평가하기\n",
        "score = model1.evaluate(x=x_test_scaled, y=y_test, verbose=1)\n",
        "print('Test loss:', score[0])\n",
        "print('Test mae:', score[1])"
      ],
      "metadata": {
        "id": "lycNHJDW7-AO",
        "colab": {
          "base_uri": "https://localhost:8080/"
        },
        "outputId": "ffb77761-9db1-4faa-fb7e-96e1e004b922"
      },
      "execution_count": null,
      "outputs": [
        {
          "output_type": "stream",
          "name": "stdout",
          "text": [
            "1050/1050 [==============================] - 3s 3ms/step - loss: 66.6166 - mae: 6.8526\n",
            "Test loss: 66.61661529541016\n",
            "Test mae: 6.8525896072387695\n"
          ]
        }
      ]
    },
    {
      "cell_type": "markdown",
      "source": [
        "### 1-6. 예측하고자 하는 칼럼과 상관관계가 높은 칼럼 4가지만 이용한 모델 학습 및 평가"
      ],
      "metadata": {
        "id": "rLIM1ZCKS-xt"
      }
    },
    {
      "cell_type": "code",
      "source": [
        "from sklearn.model_selection import train_test_split\n",
        "\n",
        "x = df.drop(columns=['순번','측정 일자','몸무게 킬로그램', '소매길이 센티미터', '머리 둘레 센티미터', '발 길이 센티미터'])\n",
        "y = df['몸무게 킬로그램']\n",
        "\n",
        "x_train, x_test, y_train, y_test = train_test_split(x, y, test_size = 0.2, random_state = 156)"
      ],
      "metadata": {
        "id": "HueP2wVU7_Tc"
      },
      "execution_count": null,
      "outputs": []
    },
    {
      "cell_type": "code",
      "source": [
        "x_train.head()"
      ],
      "metadata": {
        "id": "eRdYFBAQ7_Td",
        "colab": {
          "base_uri": "https://localhost:8080/",
          "height": 206
        },
        "outputId": "ee755a16-e99b-444e-8439-6a85b9370214"
      },
      "execution_count": null,
      "outputs": [
        {
          "output_type": "execute_result",
          "data": {
            "text/plain": [
              "        가슴 둘레 센티미터  신장 센티미터  허리 둘레 센티미터  샅높이 센티미터\n",
              "87465         82.5    175.8        72.8      79.8\n",
              "121127        90.4    181.1        89.8      83.4\n",
              "7635         102.7    175.6        85.7      77.3\n",
              "68798        104.9    171.8       102.5      79.0\n",
              "80685         94.5    177.2        88.6      82.6"
            ],
            "text/html": [
              "\n",
              "  <div id=\"df-be9b6793-26c7-42c5-abc1-397d1c8ec6a7\">\n",
              "    <div class=\"colab-df-container\">\n",
              "      <div>\n",
              "<style scoped>\n",
              "    .dataframe tbody tr th:only-of-type {\n",
              "        vertical-align: middle;\n",
              "    }\n",
              "\n",
              "    .dataframe tbody tr th {\n",
              "        vertical-align: top;\n",
              "    }\n",
              "\n",
              "    .dataframe thead th {\n",
              "        text-align: right;\n",
              "    }\n",
              "</style>\n",
              "<table border=\"1\" class=\"dataframe\">\n",
              "  <thead>\n",
              "    <tr style=\"text-align: right;\">\n",
              "      <th></th>\n",
              "      <th>가슴 둘레 센티미터</th>\n",
              "      <th>신장 센티미터</th>\n",
              "      <th>허리 둘레 센티미터</th>\n",
              "      <th>샅높이 센티미터</th>\n",
              "    </tr>\n",
              "  </thead>\n",
              "  <tbody>\n",
              "    <tr>\n",
              "      <th>87465</th>\n",
              "      <td>82.5</td>\n",
              "      <td>175.8</td>\n",
              "      <td>72.8</td>\n",
              "      <td>79.8</td>\n",
              "    </tr>\n",
              "    <tr>\n",
              "      <th>121127</th>\n",
              "      <td>90.4</td>\n",
              "      <td>181.1</td>\n",
              "      <td>89.8</td>\n",
              "      <td>83.4</td>\n",
              "    </tr>\n",
              "    <tr>\n",
              "      <th>7635</th>\n",
              "      <td>102.7</td>\n",
              "      <td>175.6</td>\n",
              "      <td>85.7</td>\n",
              "      <td>77.3</td>\n",
              "    </tr>\n",
              "    <tr>\n",
              "      <th>68798</th>\n",
              "      <td>104.9</td>\n",
              "      <td>171.8</td>\n",
              "      <td>102.5</td>\n",
              "      <td>79.0</td>\n",
              "    </tr>\n",
              "    <tr>\n",
              "      <th>80685</th>\n",
              "      <td>94.5</td>\n",
              "      <td>177.2</td>\n",
              "      <td>88.6</td>\n",
              "      <td>82.6</td>\n",
              "    </tr>\n",
              "  </tbody>\n",
              "</table>\n",
              "</div>\n",
              "      <button class=\"colab-df-convert\" onclick=\"convertToInteractive('df-be9b6793-26c7-42c5-abc1-397d1c8ec6a7')\"\n",
              "              title=\"Convert this dataframe to an interactive table.\"\n",
              "              style=\"display:none;\">\n",
              "        \n",
              "  <svg xmlns=\"http://www.w3.org/2000/svg\" height=\"24px\"viewBox=\"0 0 24 24\"\n",
              "       width=\"24px\">\n",
              "    <path d=\"M0 0h24v24H0V0z\" fill=\"none\"/>\n",
              "    <path d=\"M18.56 5.44l.94 2.06.94-2.06 2.06-.94-2.06-.94-.94-2.06-.94 2.06-2.06.94zm-11 1L8.5 8.5l.94-2.06 2.06-.94-2.06-.94L8.5 2.5l-.94 2.06-2.06.94zm10 10l.94 2.06.94-2.06 2.06-.94-2.06-.94-.94-2.06-.94 2.06-2.06.94z\"/><path d=\"M17.41 7.96l-1.37-1.37c-.4-.4-.92-.59-1.43-.59-.52 0-1.04.2-1.43.59L10.3 9.45l-7.72 7.72c-.78.78-.78 2.05 0 2.83L4 21.41c.39.39.9.59 1.41.59.51 0 1.02-.2 1.41-.59l7.78-7.78 2.81-2.81c.8-.78.8-2.07 0-2.86zM5.41 20L4 18.59l7.72-7.72 1.47 1.35L5.41 20z\"/>\n",
              "  </svg>\n",
              "      </button>\n",
              "      \n",
              "  <style>\n",
              "    .colab-df-container {\n",
              "      display:flex;\n",
              "      flex-wrap:wrap;\n",
              "      gap: 12px;\n",
              "    }\n",
              "\n",
              "    .colab-df-convert {\n",
              "      background-color: #E8F0FE;\n",
              "      border: none;\n",
              "      border-radius: 50%;\n",
              "      cursor: pointer;\n",
              "      display: none;\n",
              "      fill: #1967D2;\n",
              "      height: 32px;\n",
              "      padding: 0 0 0 0;\n",
              "      width: 32px;\n",
              "    }\n",
              "\n",
              "    .colab-df-convert:hover {\n",
              "      background-color: #E2EBFA;\n",
              "      box-shadow: 0px 1px 2px rgba(60, 64, 67, 0.3), 0px 1px 3px 1px rgba(60, 64, 67, 0.15);\n",
              "      fill: #174EA6;\n",
              "    }\n",
              "\n",
              "    [theme=dark] .colab-df-convert {\n",
              "      background-color: #3B4455;\n",
              "      fill: #D2E3FC;\n",
              "    }\n",
              "\n",
              "    [theme=dark] .colab-df-convert:hover {\n",
              "      background-color: #434B5C;\n",
              "      box-shadow: 0px 1px 3px 1px rgba(0, 0, 0, 0.15);\n",
              "      filter: drop-shadow(0px 1px 2px rgba(0, 0, 0, 0.3));\n",
              "      fill: #FFFFFF;\n",
              "    }\n",
              "  </style>\n",
              "\n",
              "      <script>\n",
              "        const buttonEl =\n",
              "          document.querySelector('#df-be9b6793-26c7-42c5-abc1-397d1c8ec6a7 button.colab-df-convert');\n",
              "        buttonEl.style.display =\n",
              "          google.colab.kernel.accessAllowed ? 'block' : 'none';\n",
              "\n",
              "        async function convertToInteractive(key) {\n",
              "          const element = document.querySelector('#df-be9b6793-26c7-42c5-abc1-397d1c8ec6a7');\n",
              "          const dataTable =\n",
              "            await google.colab.kernel.invokeFunction('convertToInteractive',\n",
              "                                                     [key], {});\n",
              "          if (!dataTable) return;\n",
              "\n",
              "          const docLinkHtml = 'Like what you see? Visit the ' +\n",
              "            '<a target=\"_blank\" href=https://colab.research.google.com/notebooks/data_table.ipynb>data table notebook</a>'\n",
              "            + ' to learn more about interactive tables.';\n",
              "          element.innerHTML = '';\n",
              "          dataTable['output_type'] = 'display_data';\n",
              "          await google.colab.output.renderOutput(dataTable, element);\n",
              "          const docLink = document.createElement('div');\n",
              "          docLink.innerHTML = docLinkHtml;\n",
              "          element.appendChild(docLink);\n",
              "        }\n",
              "      </script>\n",
              "    </div>\n",
              "  </div>\n",
              "  "
            ]
          },
          "metadata": {},
          "execution_count": 100
        }
      ]
    },
    {
      "cell_type": "code",
      "source": [
        "x_train.shape"
      ],
      "metadata": {
        "id": "8Tx1bca17_Te",
        "colab": {
          "base_uri": "https://localhost:8080/"
        },
        "outputId": "3e06f06e-12a8-4535-8255-e50d9a756289"
      },
      "execution_count": null,
      "outputs": [
        {
          "output_type": "execute_result",
          "data": {
            "text/plain": [
              "(134363, 4)"
            ]
          },
          "metadata": {},
          "execution_count": 101
        }
      ]
    },
    {
      "cell_type": "code",
      "source": [
        "y_train.head()"
      ],
      "metadata": {
        "id": "4vvEKNhh7_Tf",
        "colab": {
          "base_uri": "https://localhost:8080/"
        },
        "outputId": "872586e7-183c-432b-83c3-84965b993550"
      },
      "execution_count": null,
      "outputs": [
        {
          "output_type": "execute_result",
          "data": {
            "text/plain": [
              "87465     54.8\n",
              "121127    68.9\n",
              "7635      71.4\n",
              "68798     92.7\n",
              "80685     67.2\n",
              "Name: 몸무게 킬로그램, dtype: float64"
            ]
          },
          "metadata": {},
          "execution_count": 102
        }
      ]
    },
    {
      "cell_type": "code",
      "metadata": {
        "id": "oStOTgnR7_Tg"
      },
      "source": [
        "from sklearn.preprocessing import MinMaxScaler\n",
        "\n",
        "# MinMaxScaler 클래스를 이용해 피처 데이터 세트에 일괄적으로 스케일링 적용\n",
        "scaler = MinMaxScaler()\n",
        "x_train_scaled = scaler.fit_transform(x_train)"
      ],
      "execution_count": null,
      "outputs": []
    },
    {
      "cell_type": "code",
      "source": [
        "x_train.shape"
      ],
      "metadata": {
        "id": "y8a-Zhj57_Tg",
        "colab": {
          "base_uri": "https://localhost:8080/"
        },
        "outputId": "d2a777f8-e32d-4514-8516-d7d1e3f52d39"
      },
      "execution_count": null,
      "outputs": [
        {
          "output_type": "execute_result",
          "data": {
            "text/plain": [
              "(134363, 4)"
            ]
          },
          "metadata": {},
          "execution_count": 104
        }
      ]
    },
    {
      "cell_type": "code",
      "source": [
        "x_test_scaled = scaler.fit_transform(x_test)\n",
        "x_test_scaled.shape"
      ],
      "metadata": {
        "id": "6Alws5BZ7_Th",
        "colab": {
          "base_uri": "https://localhost:8080/"
        },
        "outputId": "86cd279a-cf22-4550-aa0f-85f6b3797922"
      },
      "execution_count": null,
      "outputs": [
        {
          "output_type": "execute_result",
          "data": {
            "text/plain": [
              "(33591, 4)"
            ]
          },
          "metadata": {},
          "execution_count": 105
        }
      ]
    },
    {
      "cell_type": "code",
      "metadata": {
        "id": "HztWCHC27_Th"
      },
      "source": [
        "from tensorflow import keras\n",
        "from keras.models import Sequential\n",
        "from keras.layers import Dense, Dropout"
      ],
      "execution_count": null,
      "outputs": []
    },
    {
      "cell_type": "code",
      "metadata": {
        "id": "__2ff9Eo7_Ti"
      },
      "source": [
        "NB_EPOCHS = 5  # num of epochs\n",
        "BATCH_SIZE = 128\n",
        "\n",
        "## 모델 정의\n",
        "model2 = Sequential()\n",
        "\n",
        "model2.add(Dense(64, input_dim=x_train.shape[-1], activation='relu'))\n",
        "model2.add(Dropout(0.5))\n",
        "model2.add(Dense(32, activation='relu'))\n",
        "model2.add(Dropout(0.5))\n",
        "model2.add(Dense(32, activation='relu'))\n",
        "model2.add(Dense(1))\n",
        "\n",
        "# 모델 컴파일\n",
        "model2.compile(loss='mse', optimizer='adam', metrics=['mae'])"
      ],
      "execution_count": null,
      "outputs": []
    },
    {
      "cell_type": "code",
      "metadata": {
        "id": "26Wsydfl7_Ti",
        "colab": {
          "base_uri": "https://localhost:8080/"
        },
        "outputId": "d1d60091-666d-445f-addb-15063b3101a4"
      },
      "source": [
        "# 모델 학습\n",
        "# verbose: 0 = silent, 1 = progress bar, 2 = one line per epoch\n",
        "history2 = model2.fit(x_train_scaled, y_train,\n",
        "                      validation_data=(x_test_scaled, y_test),\n",
        "                      epochs=NB_EPOCHS,\n",
        "                      batch_size=BATCH_SIZE, verbose=2)"
      ],
      "execution_count": null,
      "outputs": [
        {
          "output_type": "stream",
          "name": "stdout",
          "text": [
            "Epoch 1/5\n",
            "1050/1050 - 5s - loss: 667.5891 - mae: 18.5517 - val_loss: 115.3966 - val_mae: 9.7677 - 5s/epoch - 5ms/step\n",
            "Epoch 2/5\n",
            "1050/1050 - 4s - loss: 186.4223 - mae: 10.5879 - val_loss: 34.2045 - val_mae: 4.4890 - 4s/epoch - 4ms/step\n",
            "Epoch 3/5\n",
            "1050/1050 - 4s - loss: 85.7278 - mae: 7.0501 - val_loss: 54.8035 - val_mae: 5.7565 - 4s/epoch - 3ms/step\n",
            "Epoch 4/5\n",
            "1050/1050 - 3s - loss: 53.6161 - mae: 5.5021 - val_loss: 50.0947 - val_mae: 5.4831 - 3s/epoch - 3ms/step\n",
            "Epoch 5/5\n",
            "1050/1050 - 4s - loss: 40.6769 - mae: 4.7987 - val_loss: 57.5602 - val_mae: 5.6631 - 4s/epoch - 3ms/step\n"
          ]
        }
      ]
    },
    {
      "cell_type": "code",
      "source": [
        "modelplot(history2, 'loss', 'val_loss')"
      ],
      "metadata": {
        "id": "RH3NNttt793Z",
        "colab": {
          "base_uri": "https://localhost:8080/",
          "height": 472
        },
        "outputId": "74ec114a-e026-4cbb-c341-0168710b4fa5"
      },
      "execution_count": null,
      "outputs": [
        {
          "output_type": "display_data",
          "data": {
            "text/plain": [
              "<Figure size 640x480 with 1 Axes>"
            ],
            "image/png": "[encoded data removed]"
          },
          "metadata": {}
        }
      ]
    },
    {
      "cell_type": "code",
      "source": [
        "modelplot(history2, 'mae', 'val_mae')"
      ],
      "metadata": {
        "id": "cUE9MMTR796Y",
        "colab": {
          "base_uri": "https://localhost:8080/",
          "height": 472
        },
        "outputId": "8b949b9c-b75a-4f91-edb0-53653769e7c8"
      },
      "execution_count": null,
      "outputs": [
        {
          "output_type": "display_data",
          "data": {
            "text/plain": [
              "<Figure size 640x480 with 1 Axes>"
            ],
            "image/png": "[encoded data removed]"
          },
          "metadata": {}
        }
      ]
    },
    {
      "cell_type": "code",
      "source": [
        "# model.evaluate로 평가하기\n",
        "score = model2.evaluate(x=x_test_scaled, y=y_test, verbose=1)\n",
        "print('Test loss:', score[0])\n",
        "print('Test mae:', score[1])"
      ],
      "metadata": {
        "id": "tukxwY8w7985",
        "colab": {
          "base_uri": "https://localhost:8080/"
        },
        "outputId": "e2d9e417-c37e-42fe-b6fb-759a887e45e2"
      },
      "execution_count": null,
      "outputs": [
        {
          "output_type": "stream",
          "name": "stdout",
          "text": [
            "1050/1050 [==============================] - 3s 3ms/step - loss: 57.5602 - mae: 5.6631\n",
            "Test loss: 57.56017303466797\n",
            "Test mae: 5.663122653961182\n"
          ]
        }
      ]
    },
    {
      "cell_type": "markdown",
      "source": [
        "### 1-7. Batch Normalization\n",
        "\n",
        "- 학습 과정에서 각 배치 단위 별로 데이터가 다양한 분포를 가지더라도 각 배치별로 평균과 분산을 이용해 정규화하는 것\n",
        "- batch 단위나 layer에 따라서 입력 값의 분포가 모두 다르지만 정규화를 통하여 분포를 zero mean gaussian 형태로 만듦(평균은 0, 표준 편차는 1로 데이터의 분포를 조정)\n",
        "\n",
        "<img src=\"https://gaussian37.github.io/assets/img/dl/concept/batchnorm/4.png\" width=500px>"
      ],
      "metadata": {
        "id": "9wdVNUrRTFzL"
      }
    },
    {
      "cell_type": "code",
      "metadata": {
        "id": "njGPTkBmTMxM"
      },
      "source": [
        "from keras.layers import BatchNormalization\n",
        "\n",
        "NB_EPOCHS = 5  # num of epochs\n",
        "BATCH_SIZE = 128\n",
        "\n",
        "## 모델 정의\n",
        "model3 = Sequential()\n",
        "\n",
        "model3.add(Dense(64, input_dim=x_train.shape[-1], activation='relu'))\n",
        "model3.add(BatchNormalization())\n",
        "model3.add(Dropout(0.5))\n",
        "model3.add(Dense(32, activation='relu'))\n",
        "model3.add(BatchNormalization())\n",
        "model3.add(Dropout(0.5))\n",
        "model3.add(Dense(32, activation='relu'))\n",
        "model3.add(BatchNormalization())\n",
        "model3.add(Dropout(0.5))\n",
        "model3.add(Dense(1))\n",
        "\n",
        "# 모델 컴파일\n",
        "model3.compile(loss='mse', optimizer='adam', metrics=['mae'])"
      ],
      "execution_count": null,
      "outputs": []
    },
    {
      "cell_type": "code",
      "metadata": {
        "id": "gobZawYFTMxN",
        "colab": {
          "base_uri": "https://localhost:8080/"
        },
        "outputId": "74eccd3a-7533-476a-f8c1-caac45e42a82"
      },
      "source": [
        "# 모델 학습\n",
        "# verbose: 0 = silent, 1 = progress bar, 2 = one line per epoch\n",
        "history3 = model3.fit(x_train_scaled, y_train,\n",
        "                      validation_data=(x_test_scaled, y_test),\n",
        "                      epochs=NB_EPOCHS,\n",
        "                      batch_size=BATCH_SIZE, verbose=2)"
      ],
      "execution_count": null,
      "outputs": [
        {
          "output_type": "stream",
          "name": "stdout",
          "text": [
            "Epoch 1/5\n",
            "1050/1050 - 8s - loss: 2990.7375 - mae: 50.8000 - val_loss: 242.1473 - val_mae: 14.7609 - 8s/epoch - 8ms/step\n",
            "Epoch 2/5\n",
            "1050/1050 - 6s - loss: 244.8340 - mae: 12.3822 - val_loss: 29.5576 - val_mae: 4.2193 - 6s/epoch - 6ms/step\n",
            "Epoch 3/5\n",
            "1050/1050 - 5s - loss: 200.7352 - mae: 11.1351 - val_loss: 42.9108 - val_mae: 5.3584 - 5s/epoch - 5ms/step\n",
            "Epoch 4/5\n",
            "1050/1050 - 6s - loss: 196.5474 - mae: 11.0063 - val_loss: 47.4720 - val_mae: 5.6996 - 6s/epoch - 6ms/step\n",
            "Epoch 5/5\n",
            "1050/1050 - 5s - loss: 193.9566 - mae: 10.9393 - val_loss: 43.8129 - val_mae: 5.4254 - 5s/epoch - 5ms/step\n"
          ]
        }
      ]
    },
    {
      "cell_type": "code",
      "source": [
        "modelplot(history3, 'loss', 'val_loss')"
      ],
      "metadata": {
        "id": "HTsnSF1dTMxO",
        "colab": {
          "base_uri": "https://localhost:8080/",
          "height": 472
        },
        "outputId": "e0621464-d815-4ff6-922d-2b67484488a3"
      },
      "execution_count": null,
      "outputs": [
        {
          "output_type": "display_data",
          "data": {
            "text/plain": [
              "<Figure size 640x480 with 1 Axes>"
            ],
            "image/png": "[encoded data removed]"
          },
          "metadata": {}
        }
      ]
    },
    {
      "cell_type": "code",
      "source": [
        "modelplot(history3, 'mae', 'val_mae')"
      ],
      "metadata": {
        "id": "Y8BmU8aIZ691",
        "colab": {
          "base_uri": "https://localhost:8080/",
          "height": 472
        },
        "outputId": "773d03ec-3880-4262-a66d-fde7527b90fd"
      },
      "execution_count": null,
      "outputs": [
        {
          "output_type": "display_data",
          "data": {
            "text/plain": [
              "<Figure size 640x480 with 1 Axes>"
            ],
            "image/png": "[encoded data removed]"
          },
          "metadata": {}
        }
      ]
    },
    {
      "cell_type": "code",
      "source": [
        "# model.evaluate로 평가하기\n",
        "score = model3.evaluate(x=x_test_scaled, y=y_test, verbose=1)\n",
        "print('Test loss:', score[0])\n",
        "print('Test mae:', score[1])"
      ],
      "metadata": {
        "id": "E_Bte6SPaCGq",
        "colab": {
          "base_uri": "https://localhost:8080/"
        },
        "outputId": "e71205c3-aa62-4720-afc1-40f27ed0208e"
      },
      "execution_count": null,
      "outputs": [
        {
          "output_type": "stream",
          "name": "stdout",
          "text": [
            "1050/1050 [==============================] - 3s 3ms/step - loss: 43.8129 - mae: 5.4254\n",
            "Test loss: 43.812931060791016\n",
            "Test mae: 5.425445556640625\n"
          ]
        }
      ]
    },
    {
      "cell_type": "markdown",
      "source": [
        "### 1-8. MSE, MAE가 가장 낮은 모델로 몸무게 예측하여 이상치 대체하기"
      ],
      "metadata": {
        "id": "9rbyqraeaZJf"
      }
    },
    {
      "cell_type": "code",
      "source": [
        "model2.predict(x_test_scaled)"
      ],
      "metadata": {
        "id": "gmQ3ZtpC7-C3",
        "colab": {
          "base_uri": "https://localhost:8080/"
        },
        "outputId": "3272c337-cdb8-4c85-abed-590c5fe42f0f"
      },
      "execution_count": null,
      "outputs": [
        {
          "output_type": "stream",
          "name": "stdout",
          "text": [
            "1050/1050 [==============================] - 2s 2ms/step\n"
          ]
        },
        {
          "output_type": "execute_result",
          "data": {
            "text/plain": [
              "array([[82.90287 ],\n",
              "       [67.58078 ],\n",
              "       [90.540504],\n",
              "       ...,\n",
              "       [76.347404],\n",
              "       [66.380424],\n",
              "       [77.92943 ]], dtype=float32)"
            ]
          },
          "metadata": {},
          "execution_count": 117
        }
      ]
    },
    {
      "cell_type": "code",
      "source": [
        "ghosts_x = ghosts.drop(columns=['순번','측정 일자','몸무게 킬로그램', '소매길이 센티미터', '머리 둘레 센티미터', '발 길이 센티미터'])\n",
        "ghosts_x_scaled = scaler.fit_transform(ghosts_x)"
      ],
      "metadata": {
        "id": "qITB4saZ9He9"
      },
      "execution_count": null,
      "outputs": []
    },
    {
      "cell_type": "code",
      "source": [
        "model2.predict(ghosts_x_scaled)"
      ],
      "metadata": {
        "id": "6Yb3jZMy9jXZ",
        "colab": {
          "base_uri": "https://localhost:8080/"
        },
        "outputId": "3290cc6f-f684-4222-a664-8afa60a10729"
      },
      "execution_count": null,
      "outputs": [
        {
          "output_type": "stream",
          "name": "stdout",
          "text": [
            "1/1 [==============================] - 0s 82ms/step\n"
          ]
        },
        {
          "output_type": "execute_result",
          "data": {
            "text/plain": [
              "array([[ 67.4395  ],\n",
              "       [ 62.4658  ],\n",
              "       [ 62.32068 ],\n",
              "       [ 64.31655 ],\n",
              "       [ 64.967926],\n",
              "       [ 60.05714 ],\n",
              "       [ 71.203064],\n",
              "       [ 79.85505 ],\n",
              "       [ 70.82518 ],\n",
              "       [ 75.40777 ],\n",
              "       [ 83.28327 ],\n",
              "       [ 58.35335 ],\n",
              "       [ 84.56187 ],\n",
              "       [ 75.36885 ],\n",
              "       [ 71.18613 ],\n",
              "       [ 62.169445],\n",
              "       [ 64.44348 ],\n",
              "       [ 83.46211 ],\n",
              "       [ 69.221466],\n",
              "       [ 61.810425],\n",
              "       [ 67.6837  ],\n",
              "       [ 83.93649 ],\n",
              "       [100.83244 ],\n",
              "       [ 96.266716],\n",
              "       [ 70.31308 ],\n",
              "       [ 87.819435]], dtype=float32)"
            ]
          },
          "metadata": {},
          "execution_count": 120
        }
      ]
    },
    {
      "cell_type": "code",
      "source": [
        "ghosts['몸무게 킬로그램'] = np.round(model2.predict(ghosts_x_scaled),2)\n",
        "ghosts"
      ],
      "metadata": {
        "id": "m9tt4sWC9qr3",
        "colab": {
          "base_uri": "https://localhost:8080/",
          "height": 1000
        },
        "outputId": "2efa647e-d920-4603-e918-42414c66b90e"
      },
      "execution_count": null,
      "outputs": [
        {
          "output_type": "stream",
          "name": "stdout",
          "text": [
            "1/1 [==============================] - 0s 26ms/step\n"
          ]
        },
        {
          "output_type": "stream",
          "name": "stderr",
          "text": [
            "<ipython-input-121-d40d6f2f3ae4>:1: SettingWithCopyWarning: \n",
            "A value is trying to be set on a copy of a slice from a DataFrame.\n",
            "Try using .loc[row_indexer,col_indexer] = value instead\n",
            "\n",
            "See the caveats in the documentation: https://pandas.pydata.org/pandas-docs/stable/user_guide/indexing.html#returning-a-view-versus-a-copy\n",
            "  ghosts['몸무게 킬로그램'] = np.round(model2.predict(ghosts_x_scaled),2)\n"
          ]
        },
        {
          "output_type": "execute_result",
          "data": {
            "text/plain": [
              "            순번     측정 일자  가슴 둘레 센티미터  소매길이 센티미터  신장 센티미터  허리 둘레 센티미터  \\\n",
              "149764  149765  20160923        91.1       83.9    167.2        81.2   \n",
              "149781  149782  20160923       100.1       81.1    162.0        58.9   \n",
              "149789  149790  20160923        88.1       90.2    179.7        74.5   \n",
              "149792  149793  20160923        88.6       88.8    177.7        78.1   \n",
              "149796  149797  20160923        88.8       85.7    171.3        79.1   \n",
              "149798  149799  20160923        86.7       87.8    175.8        71.6   \n",
              "149799  149800  20160923        74.9       84.1    169.1       119.7   \n",
              "149800  149801  20160923       101.3       85.2    169.6        94.7   \n",
              "149801  149802  20160923        93.1       90.5    180.3        85.0   \n",
              "149802  149803  20160923        99.0       88.0    176.0        86.7   \n",
              "149803  149804  20160923       105.9       89.3    178.5        92.5   \n",
              "149831  149832  20160923        93.4       88.1    175.3        57.7   \n",
              "149832  149833  20160923       107.9       87.1    174.2        94.6   \n",
              "149833  149834  20160923        96.6       82.5    164.5        92.4   \n",
              "149834  149835  20160923        95.2       82.5    164.6        84.2   \n",
              "149835  149836  20160923        89.1       88.5    177.4        72.8   \n",
              "149837  149838  20160923        90.3       85.8    170.9        76.0   \n",
              "149838  149839  20160923       105.2       87.8    175.5        95.0   \n",
              "149839  149840  20160923        92.9       85.3    170.3        82.4   \n",
              "149847  149848  20160923        87.9       86.4    173.6        74.6   \n",
              "149855  149856  20160923        91.9       85.5    170.3        80.8   \n",
              "149863  149864  20160923       109.0       87.6    176.0        90.3   \n",
              "149864  149865  20160923       117.5       86.4    172.1       113.7   \n",
              "149865  149866  20160923       113.4       90.4    180.7       105.3   \n",
              "149866  149867  20160923        97.1       86.6    173.0        79.0   \n",
              "149867  149868  20160923       110.9       91.2    182.5        91.9   \n",
              "\n",
              "        샅높이 센티미터  머리 둘레 센티미터  발 길이 센티미터    몸무게 킬로그램  \n",
              "149764      73.8        56.5       24.9   67.440002  \n",
              "149781      71.2        58.3        9.8   62.470001  \n",
              "149789      79.4      3998.0       27.4   62.320000  \n",
              "149792      78.2        55.0       25.3   64.320000  \n",
              "149796      75.4        55.0       25.6   64.970001  \n",
              "149798      77.4        56.7       26.8   60.060001  \n",
              "149799      74.5        55.2        1.0   71.199997  \n",
              "149800      74.8        56.6       26.1   79.860001  \n",
              "149801      79.6        54.8       26.5   70.830002  \n",
              "149802      77.4        57.3       25.6   75.410004  \n",
              "149803      78.5        58.0       27.2   83.279999  \n",
              "149831      77.4        57.3       24.3   58.349998  \n",
              "149832      76.9        58.8       25.9   84.559998  \n",
              "149833      72.4        57.2       25.7   75.370003  \n",
              "149834      72.7        56.8       23.7   71.190002  \n",
              "149835      78.2        56.0       26.0   62.169998  \n",
              "149837      75.4        58.1       25.5   64.440002  \n",
              "149838      77.2        56.8       25.1   83.459999  \n",
              "149839      74.9        55.9       26.3   69.220001  \n",
              "149847      76.5        55.9       26.3   61.810001  \n",
              "149855      75.1        56.4       25.4   67.680000  \n",
              "149863      77.3        56.4       26.4   83.940002  \n",
              "149864      75.9        56.8       25.3  100.830002  \n",
              "149865      79.5        57.1       27.5   96.269997  \n",
              "149866      76.1        56.4       26.2   70.309998  \n",
              "149867      80.4        58.9       26.1   87.820000  "
            ],
            "text/html": [
              "\n",
              "  <div id=\"df-5c156951-6cb2-449c-ab85-7bc8cebf75a9\">\n",
              "    <div class=\"colab-df-container\">\n",
              "      <div>\n",
              "<style scoped>\n",
              "    .dataframe tbody tr th:only-of-type {\n",
              "        vertical-align: middle;\n",
              "    }\n",
              "\n",
              "    .dataframe tbody tr th {\n",
              "        vertical-align: top;\n",
              "    }\n",
              "\n",
              "    .dataframe thead th {\n",
              "        text-align: right;\n",
              "    }\n",
              "</style>\n",
              "<table border=\"1\" class=\"dataframe\">\n",
              "  <thead>\n",
              "    <tr style=\"text-align: right;\">\n",
              "      <th></th>\n",
              "      <th>순번</th>\n",
              "      <th>측정 일자</th>\n",
              "      <th>가슴 둘레 센티미터</th>\n",
              "      <th>소매길이 센티미터</th>\n",
              "      <th>신장 센티미터</th>\n",
              "      <th>허리 둘레 센티미터</th>\n",
              "      <th>샅높이 센티미터</th>\n",
              "      <th>머리 둘레 센티미터</th>\n",
              "      <th>발 길이 센티미터</th>\n",
              "      <th>몸무게 킬로그램</th>\n",
              "    </tr>\n",
              "  </thead>\n",
              "  <tbody>\n",
              "    <tr>\n",
              "      <th>149764</th>\n",
              "      <td>149765</td>\n",
              "      <td>20160923</td>\n",
              "      <td>91.1</td>\n",
              "      <td>83.9</td>\n",
              "      <td>167.2</td>\n",
              "      <td>81.2</td>\n",
              "      <td>73.8</td>\n",
              "      <td>56.5</td>\n",
              "      <td>24.9</td>\n",
              "      <td>67.440002</td>\n",
              "    </tr>\n",
              "    <tr>\n",
              "      <th>149781</th>\n",
              "      <td>149782</td>\n",
              "      <td>20160923</td>\n",
              "      <td>100.1</td>\n",
              "      <td>81.1</td>\n",
              "      <td>162.0</td>\n",
              "      <td>58.9</td>\n",
              "      <td>71.2</td>\n",
              "      <td>58.3</td>\n",
              "      <td>9.8</td>\n",
              "      <td>62.470001</td>\n",
              "    </tr>\n",
              "    <tr>\n",
              "      <th>149789</th>\n",
              "      <td>149790</td>\n",
              "      <td>20160923</td>\n",
              "      <td>88.1</td>\n",
              "      <td>90.2</td>\n",
              "      <td>179.7</td>\n",
              "      <td>74.5</td>\n",
              "      <td>79.4</td>\n",
              "      <td>3998.0</td>\n",
              "      <td>27.4</td>\n",
              "      <td>62.320000</td>\n",
              "    </tr>\n",
              "    <tr>\n",
              "      <th>149792</th>\n",
              "      <td>149793</td>\n",
              "      <td>20160923</td>\n",
              "      <td>88.6</td>\n",
              "      <td>88.8</td>\n",
              "      <td>177.7</td>\n",
              "      <td>78.1</td>\n",
              "      <td>78.2</td>\n",
              "      <td>55.0</td>\n",
              "      <td>25.3</td>\n",
              "      <td>64.320000</td>\n",
              "    </tr>\n",
              "    <tr>\n",
              "      <th>149796</th>\n",
              "      <td>149797</td>\n",
              "      <td>20160923</td>\n",
              "      <td>88.8</td>\n",
              "      <td>85.7</td>\n",
              "      <td>171.3</td>\n",
              "      <td>79.1</td>\n",
              "      <td>75.4</td>\n",
              "      <td>55.0</td>\n",
              "      <td>25.6</td>\n",
              "      <td>64.970001</td>\n",
              "    </tr>\n",
              "    <tr>\n",
              "      <th>149798</th>\n",
              "      <td>149799</td>\n",
              "      <td>20160923</td>\n",
              "      <td>86.7</td>\n",
              "      <td>87.8</td>\n",
              "      <td>175.8</td>\n",
              "      <td>71.6</td>\n",
              "      <td>77.4</td>\n",
              "      <td>56.7</td>\n",
              "      <td>26.8</td>\n",
              "      <td>60.060001</td>\n",
              "    </tr>\n",
              "    <tr>\n",
              "      <th>149799</th>\n",
              "      <td>149800</td>\n",
              "      <td>20160923</td>\n",
              "      <td>74.9</td>\n",
              "      <td>84.1</td>\n",
              "      <td>169.1</td>\n",
              "      <td>119.7</td>\n",
              "      <td>74.5</td>\n",
              "      <td>55.2</td>\n",
              "      <td>1.0</td>\n",
              "      <td>71.199997</td>\n",
              "    </tr>\n",
              "    <tr>\n",
              "      <th>149800</th>\n",
              "      <td>149801</td>\n",
              "      <td>20160923</td>\n",
              "      <td>101.3</td>\n",
              "      <td>85.2</td>\n",
              "      <td>169.6</td>\n",
              "      <td>94.7</td>\n",
              "      <td>74.8</td>\n",
              "      <td>56.6</td>\n",
              "      <td>26.1</td>\n",
              "      <td>79.860001</td>\n",
              "    </tr>\n",
              "    <tr>\n",
              "      <th>149801</th>\n",
              "      <td>149802</td>\n",
              "      <td>20160923</td>\n",
              "      <td>93.1</td>\n",
              "      <td>90.5</td>\n",
              "      <td>180.3</td>\n",
              "      <td>85.0</td>\n",
              "      <td>79.6</td>\n",
              "      <td>54.8</td>\n",
              "      <td>26.5</td>\n",
              "      <td>70.830002</td>\n",
              "    </tr>\n",
              "    <tr>\n",
              "      <th>149802</th>\n",
              "      <td>149803</td>\n",
              "      <td>20160923</td>\n",
              "      <td>99.0</td>\n",
              "      <td>88.0</td>\n",
              "      <td>176.0</td>\n",
              "      <td>86.7</td>\n",
              "      <td>77.4</td>\n",
              "      <td>57.3</td>\n",
              "      <td>25.6</td>\n",
              "      <td>75.410004</td>\n",
              "    </tr>\n",
              "    <tr>\n",
              "      <th>149803</th>\n",
              "      <td>149804</td>\n",
              "      <td>20160923</td>\n",
              "      <td>105.9</td>\n",
              "      <td>89.3</td>\n",
              "      <td>178.5</td>\n",
              "      <td>92.5</td>\n",
              "      <td>78.5</td>\n",
              "      <td>58.0</td>\n",
              "      <td>27.2</td>\n",
              "      <td>83.279999</td>\n",
              "    </tr>\n",
              "    <tr>\n",
              "      <th>149831</th>\n",
              "      <td>149832</td>\n",
              "      <td>20160923</td>\n",
              "      <td>93.4</td>\n",
              "      <td>88.1</td>\n",
              "      <td>175.3</td>\n",
              "      <td>57.7</td>\n",
              "      <td>77.4</td>\n",
              "      <td>57.3</td>\n",
              "      <td>24.3</td>\n",
              "      <td>58.349998</td>\n",
              "    </tr>\n",
              "    <tr>\n",
              "      <th>149832</th>\n",
              "      <td>149833</td>\n",
              "      <td>20160923</td>\n",
              "      <td>107.9</td>\n",
              "      <td>87.1</td>\n",
              "      <td>174.2</td>\n",
              "      <td>94.6</td>\n",
              "      <td>76.9</td>\n",
              "      <td>58.8</td>\n",
              "      <td>25.9</td>\n",
              "      <td>84.559998</td>\n",
              "    </tr>\n",
              "    <tr>\n",
              "      <th>149833</th>\n",
              "      <td>149834</td>\n",
              "      <td>20160923</td>\n",
              "      <td>96.6</td>\n",
              "      <td>82.5</td>\n",
              "      <td>164.5</td>\n",
              "      <td>92.4</td>\n",
              "      <td>72.4</td>\n",
              "      <td>57.2</td>\n",
              "      <td>25.7</td>\n",
              "      <td>75.370003</td>\n",
              "    </tr>\n",
              "    <tr>\n",
              "      <th>149834</th>\n",
              "      <td>149835</td>\n",
              "      <td>20160923</td>\n",
              "      <td>95.2</td>\n",
              "      <td>82.5</td>\n",
              "      <td>164.6</td>\n",
              "      <td>84.2</td>\n",
              "      <td>72.7</td>\n",
              "      <td>56.8</td>\n",
              "      <td>23.7</td>\n",
              "      <td>71.190002</td>\n",
              "    </tr>\n",
              "    <tr>\n",
              "      <th>149835</th>\n",
              "      <td>149836</td>\n",
              "      <td>20160923</td>\n",
              "      <td>89.1</td>\n",
              "      <td>88.5</td>\n",
              "      <td>177.4</td>\n",
              "      <td>72.8</td>\n",
              "      <td>78.2</td>\n",
              "      <td>56.0</td>\n",
              "      <td>26.0</td>\n",
              "      <td>62.169998</td>\n",
              "    </tr>\n",
              "    <tr>\n",
              "      <th>149837</th>\n",
              "      <td>149838</td>\n",
              "      <td>20160923</td>\n",
              "      <td>90.3</td>\n",
              "      <td>85.8</td>\n",
              "      <td>170.9</td>\n",
              "      <td>76.0</td>\n",
              "      <td>75.4</td>\n",
              "      <td>58.1</td>\n",
              "      <td>25.5</td>\n",
              "      <td>64.440002</td>\n",
              "    </tr>\n",
              "    <tr>\n",
              "      <th>149838</th>\n",
              "      <td>149839</td>\n",
              "      <td>20160923</td>\n",
              "      <td>105.2</td>\n",
              "      <td>87.8</td>\n",
              "      <td>175.5</td>\n",
              "      <td>95.0</td>\n",
              "      <td>77.2</td>\n",
              "      <td>56.8</td>\n",
              "      <td>25.1</td>\n",
              "      <td>83.459999</td>\n",
              "    </tr>\n",
              "    <tr>\n",
              "      <th>149839</th>\n",
              "      <td>149840</td>\n",
              "      <td>20160923</td>\n",
              "      <td>92.9</td>\n",
              "      <td>85.3</td>\n",
              "      <td>170.3</td>\n",
              "      <td>82.4</td>\n",
              "      <td>74.9</td>\n",
              "      <td>55.9</td>\n",
              "      <td>26.3</td>\n",
              "      <td>69.220001</td>\n",
              "    </tr>\n",
              "    <tr>\n",
              "      <th>149847</th>\n",
              "      <td>149848</td>\n",
              "      <td>20160923</td>\n",
              "      <td>87.9</td>\n",
              "      <td>86.4</td>\n",
              "      <td>173.6</td>\n",
              "      <td>74.6</td>\n",
              "      <td>76.5</td>\n",
              "      <td>55.9</td>\n",
              "      <td>26.3</td>\n",
              "      <td>61.810001</td>\n",
              "    </tr>\n",
              "    <tr>\n",
              "      <th>149855</th>\n",
              "      <td>149856</td>\n",
              "      <td>20160923</td>\n",
              "      <td>91.9</td>\n",
              "      <td>85.5</td>\n",
              "      <td>170.3</td>\n",
              "      <td>80.8</td>\n",
              "      <td>75.1</td>\n",
              "      <td>56.4</td>\n",
              "      <td>25.4</td>\n",
              "      <td>67.680000</td>\n",
              "    </tr>\n",
              "    <tr>\n",
              "      <th>149863</th>\n",
              "      <td>149864</td>\n",
              "      <td>20160923</td>\n",
              "      <td>109.0</td>\n",
              "      <td>87.6</td>\n",
              "      <td>176.0</td>\n",
              "      <td>90.3</td>\n",
              "      <td>77.3</td>\n",
              "      <td>56.4</td>\n",
              "      <td>26.4</td>\n",
              "      <td>83.940002</td>\n",
              "    </tr>\n",
              "    <tr>\n",
              "      <th>149864</th>\n",
              "      <td>149865</td>\n",
              "      <td>20160923</td>\n",
              "      <td>117.5</td>\n",
              "      <td>86.4</td>\n",
              "      <td>172.1</td>\n",
              "      <td>113.7</td>\n",
              "      <td>75.9</td>\n",
              "      <td>56.8</td>\n",
              "      <td>25.3</td>\n",
              "      <td>100.830002</td>\n",
              "    </tr>\n",
              "    <tr>\n",
              "      <th>149865</th>\n",
              "      <td>149866</td>\n",
              "      <td>20160923</td>\n",
              "      <td>113.4</td>\n",
              "      <td>90.4</td>\n",
              "      <td>180.7</td>\n",
              "      <td>105.3</td>\n",
              "      <td>79.5</td>\n",
              "      <td>57.1</td>\n",
              "      <td>27.5</td>\n",
              "      <td>96.269997</td>\n",
              "    </tr>\n",
              "    <tr>\n",
              "      <th>149866</th>\n",
              "      <td>149867</td>\n",
              "      <td>20160923</td>\n",
              "      <td>97.1</td>\n",
              "      <td>86.6</td>\n",
              "      <td>173.0</td>\n",
              "      <td>79.0</td>\n",
              "      <td>76.1</td>\n",
              "      <td>56.4</td>\n",
              "      <td>26.2</td>\n",
              "      <td>70.309998</td>\n",
              "    </tr>\n",
              "    <tr>\n",
              "      <th>149867</th>\n",
              "      <td>149868</td>\n",
              "      <td>20160923</td>\n",
              "      <td>110.9</td>\n",
              "      <td>91.2</td>\n",
              "      <td>182.5</td>\n",
              "      <td>91.9</td>\n",
              "      <td>80.4</td>\n",
              "      <td>58.9</td>\n",
              "      <td>26.1</td>\n",
              "      <td>87.820000</td>\n",
              "    </tr>\n",
              "  </tbody>\n",
              "</table>\n",
              "</div>\n",
              "      <button class=\"colab-df-convert\" onclick=\"convertToInteractive('df-5c156951-6cb2-449c-ab85-7bc8cebf75a9')\"\n",
              "              title=\"Convert this dataframe to an interactive table.\"\n",
              "              style=\"display:none;\">\n",
              "        \n",
              "  <svg xmlns=\"http://www.w3.org/2000/svg\" height=\"24px\"viewBox=\"0 0 24 24\"\n",
              "       width=\"24px\">\n",
              "    <path d=\"M0 0h24v24H0V0z\" fill=\"none\"/>\n",
              "    <path d=\"M18.56 5.44l.94 2.06.94-2.06 2.06-.94-2.06-.94-.94-2.06-.94 2.06-2.06.94zm-11 1L8.5 8.5l.94-2.06 2.06-.94-2.06-.94L8.5 2.5l-.94 2.06-2.06.94zm10 10l.94 2.06.94-2.06 2.06-.94-2.06-.94-.94-2.06-.94 2.06-2.06.94z\"/><path d=\"M17.41 7.96l-1.37-1.37c-.4-.4-.92-.59-1.43-.59-.52 0-1.04.2-1.43.59L10.3 9.45l-7.72 7.72c-.78.78-.78 2.05 0 2.83L4 21.41c.39.39.9.59 1.41.59.51 0 1.02-.2 1.41-.59l7.78-7.78 2.81-2.81c.8-.78.8-2.07 0-2.86zM5.41 20L4 18.59l7.72-7.72 1.47 1.35L5.41 20z\"/>\n",
              "  </svg>\n",
              "      </button>\n",
              "      \n",
              "  <style>\n",
              "    .colab-df-container {\n",
              "      display:flex;\n",
              "      flex-wrap:wrap;\n",
              "      gap: 12px;\n",
              "    }\n",
              "\n",
              "    .colab-df-convert {\n",
              "      background-color: #E8F0FE;\n",
              "      border: none;\n",
              "      border-radius: 50%;\n",
              "      cursor: pointer;\n",
              "      display: none;\n",
              "      fill: #1967D2;\n",
              "      height: 32px;\n",
              "      padding: 0 0 0 0;\n",
              "      width: 32px;\n",
              "    }\n",
              "\n",
              "    .colab-df-convert:hover {\n",
              "      background-color: #E2EBFA;\n",
              "      box-shadow: 0px 1px 2px rgba(60, 64, 67, 0.3), 0px 1px 3px 1px rgba(60, 64, 67, 0.15);\n",
              "      fill: #174EA6;\n",
              "    }\n",
              "\n",
              "    [theme=dark] .colab-df-convert {\n",
              "      background-color: #3B4455;\n",
              "      fill: #D2E3FC;\n",
              "    }\n",
              "\n",
              "    [theme=dark] .colab-df-convert:hover {\n",
              "      background-color: #434B5C;\n",
              "      box-shadow: 0px 1px 3px 1px rgba(0, 0, 0, 0.15);\n",
              "      filter: drop-shadow(0px 1px 2px rgba(0, 0, 0, 0.3));\n",
              "      fill: #FFFFFF;\n",
              "    }\n",
              "  </style>\n",
              "\n",
              "      <script>\n",
              "        const buttonEl =\n",
              "          document.querySelector('#df-5c156951-6cb2-449c-ab85-7bc8cebf75a9 button.colab-df-convert');\n",
              "        buttonEl.style.display =\n",
              "          google.colab.kernel.accessAllowed ? 'block' : 'none';\n",
              "\n",
              "        async function convertToInteractive(key) {\n",
              "          const element = document.querySelector('#df-5c156951-6cb2-449c-ab85-7bc8cebf75a9');\n",
              "          const dataTable =\n",
              "            await google.colab.kernel.invokeFunction('convertToInteractive',\n",
              "                                                     [key], {});\n",
              "          if (!dataTable) return;\n",
              "\n",
              "          const docLinkHtml = 'Like what you see? Visit the ' +\n",
              "            '<a target=\"_blank\" href=https://colab.research.google.com/notebooks/data_table.ipynb>data table notebook</a>'\n",
              "            + ' to learn more about interactive tables.';\n",
              "          element.innerHTML = '';\n",
              "          dataTable['output_type'] = 'display_data';\n",
              "          await google.colab.output.renderOutput(dataTable, element);\n",
              "          const docLink = document.createElement('div');\n",
              "          docLink.innerHTML = docLinkHtml;\n",
              "          element.appendChild(docLink);\n",
              "        }\n",
              "      </script>\n",
              "    </div>\n",
              "  </div>\n",
              "  "
            ]
          },
          "metadata": {},
          "execution_count": 121
        }
      ]
    },
    {
      "cell_type": "code",
      "source": [],
      "metadata": {
        "id": "G0jn-hyBqWfa"
      },
      "execution_count": null,
      "outputs": []
    }
  ]
}