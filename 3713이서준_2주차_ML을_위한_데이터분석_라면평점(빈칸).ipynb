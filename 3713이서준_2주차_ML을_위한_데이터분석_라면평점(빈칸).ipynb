{
  "nbformat": 4,
  "nbformat_minor": 0,
  "metadata": {
    "kernelspec": {
      "display_name": "Python 3",
      "language": "python",
      "name": "python3"
    },
    "language_info": {
      "codemirror_mode": {
        "name": "ipython",
        "version": 3
      },
      "file_extension": ".py",
      "mimetype": "text/x-python",
      "name": "python",
      "nbconvert_exporter": "python",
      "pygments_lexer": "ipython3",
      "version": "3.7.1"
    },
    "colab": {
      "provenance": []
    }
  },
  "cells": [
    {
      "cell_type": "markdown",
      "source": [
        "#1. 데이터 표현과 차원\n",
        "\n",
        "<img src='https://img1.daumcdn.net/thumb/R1280x0/?scode=mtistory2&fname=https%3A%2F%2Fk.kakaocdn.net%2Fdn%2FbrE6MZ%2FbtqDiaE2a0Y%2FGfpVheNi2IqJBtiPUXxlT0%2Fimg.png' width=600 title='tensor'>\n",
        "\n",
        "|종류|Scalar(0D tensor)|Vector(1D tensor)|Matrix(2D tensor)|3D Tensor|4D Tensor|\n",
        "|:---:|:---|:---|:---|:---|:---|\n",
        "|차원|0차원|1차원|2차원|3차원|4차원|\n",
        "|특징|- 숫자|    - 숫자의 배열, 1개의 축(axis)을 가짐|    - 행과 열, 2개의 축을 가짐|    - (samples, width, height) 크기의 3D 텐서<br>- 사례: mnist 이미지|    - 딥러닝에서는 보통 0D~4D까지의 데이터를 다룸<br>- (samples, channels, width, height) 크기의 4D 텐서<br>- 사례: 컬러 이미지|\n",
        "|표현| ( ) | (1, ) | (1, 10) | (1, 10, 100) | (1, 10, 100, 1000) |"
      ],
      "metadata": {
        "id": "kEZofBDVNcxE"
      }
    },
    {
      "cell_type": "markdown",
      "source": [
        "- Numpy의 Scalars\n",
        "\n",
        "https://numpy.org/doc/stable/reference/arrays.scalars.html\n",
        "\n",
        "<img src=\"https://numpy.org/doc/stable/_images/dtype-hierarchy.png\">"
      ],
      "metadata": {
        "id": "hiIbQfp5R85d"
      }
    },
    {
      "cell_type": "code",
      "source": [
        "import numpy as np\n",
        "import pandas as pd"
      ],
      "metadata": {
        "id": "JsOnNbaRN2M_"
      },
      "execution_count": null,
      "outputs": []
    },
    {
      "cell_type": "code",
      "source": [
        "# 0차원 Scalar 정의하기\n",
        "f16 = np.float16(\"0.1\")\n",
        "type(f16)"
      ],
      "metadata": {
        "id": "zJ6MgmObOCmW",
        "colab": {
          "base_uri": "https://localhost:8080/"
        },
        "outputId": "673fab82-07b9-4523-866e-a56e20193c3b"
      },
      "execution_count": null,
      "outputs": [
        {
          "output_type": "execute_result",
          "data": {
            "text/plain": [
              "numpy.float16"
            ]
          },
          "metadata": {},
          "execution_count": 3
        }
      ]
    },
    {
      "cell_type": "code",
      "source": [
        "f32 = np.float32(f16)\n",
        "f64 = np.float64(f32)\n",
        "print(f16, f32, f64)"
      ],
      "metadata": {
        "id": "2GjtS4GaSxxh",
        "colab": {
          "base_uri": "https://localhost:8080/"
        },
        "outputId": "9c0515aa-6813-4159-c821-90357a601c12"
      },
      "execution_count": null,
      "outputs": [
        {
          "output_type": "stream",
          "name": "stdout",
          "text": [
            "0.1 0.099975586 0.0999755859375\n"
          ]
        }
      ]
    },
    {
      "cell_type": "code",
      "source": [
        "f16 == f32 == f64"
      ],
      "metadata": {
        "id": "KgwpvMiBPHO2",
        "colab": {
          "base_uri": "https://localhost:8080/"
        },
        "outputId": "5d8a62f3-6c79-412f-acd2-95e07691ed9b"
      },
      "execution_count": null,
      "outputs": [
        {
          "output_type": "execute_result",
          "data": {
            "text/plain": [
              "True"
            ]
          },
          "metadata": {},
          "execution_count": 10
        }
      ]
    },
    {
      "cell_type": "code",
      "source": [
        "print(f16.shape, f32.shape, f64.shape)"
      ],
      "metadata": {
        "id": "b4Jqi2AoPIfy",
        "colab": {
          "base_uri": "https://localhost:8080/"
        },
        "outputId": "65d98b4f-b383-43cc-cdf0-326ecf30dd50"
      },
      "execution_count": null,
      "outputs": [
        {
          "output_type": "stream",
          "name": "stdout",
          "text": [
            "() () ()\n"
          ]
        }
      ]
    },
    {
      "cell_type": "code",
      "source": [
        "# 1차원 Vector 정의하기\n",
        "v = np.array()"
      ],
      "metadata": {
        "id": "NR0_xbEiTqjH"
      },
      "execution_count": null,
      "outputs": []
    },
    {
      "cell_type": "code",
      "source": [
        "v[-1]"
      ],
      "metadata": {
        "id": "bPI6i_xwT4pF"
      },
      "execution_count": null,
      "outputs": []
    },
    {
      "cell_type": "code",
      "source": [
        "v.dtype"
      ],
      "metadata": {
        "id": "860_xQTiT7Wx"
      },
      "execution_count": null,
      "outputs": []
    },
    {
      "cell_type": "code",
      "source": [
        "# 2차원 Matrix 정의하기\n",
        "x = np.array([[1,2,3],[4,5,6]],np.int32)\n",
        "type(x)"
      ],
      "metadata": {
        "id": "-x5a5jZ0SfuF",
        "colab": {
          "base_uri": "https://localhost:8080/"
        },
        "outputId": "bc6879c5-b62b-444f-d589-b76cac4a641a"
      },
      "execution_count": null,
      "outputs": [
        {
          "output_type": "execute_result",
          "data": {
            "text/plain": [
              "numpy.ndarray"
            ]
          },
          "metadata": {},
          "execution_count": 8
        }
      ]
    },
    {
      "cell_type": "code",
      "source": [
        "x.shape"
      ],
      "metadata": {
        "id": "dxsaVTH7SukY",
        "colab": {
          "base_uri": "https://localhost:8080/"
        },
        "outputId": "6de5e883-08cc-4ec4-d009-8512b656dd1f"
      },
      "execution_count": null,
      "outputs": [
        {
          "output_type": "execute_result",
          "data": {
            "text/plain": [
              "(2, 3)"
            ]
          },
          "metadata": {},
          "execution_count": 7
        }
      ]
    },
    {
      "cell_type": "code",
      "source": [
        "x.dtype"
      ],
      "metadata": {
        "id": "AEm1TLYVTD6N",
        "colab": {
          "base_uri": "https://localhost:8080/"
        },
        "outputId": "4589569b-1708-41bf-cbb4-353d004d968b"
      },
      "execution_count": null,
      "outputs": [
        {
          "output_type": "execute_result",
          "data": {
            "text/plain": [
              "dtype('int32')"
            ]
          },
          "metadata": {},
          "execution_count": 9
        }
      ]
    },
    {
      "cell_type": "code",
      "source": [
        "x[1,2]"
      ],
      "metadata": {
        "id": "utJKjZsgTJaI",
        "colab": {
          "base_uri": "https://localhost:8080/"
        },
        "outputId": "84ce0980-7ff9-48d0-df85-cd962f514741"
      },
      "execution_count": null,
      "outputs": [
        {
          "output_type": "execute_result",
          "data": {
            "text/plain": [
              "6"
            ]
          },
          "metadata": {},
          "execution_count": 11
        }
      ]
    },
    {
      "cell_type": "code",
      "source": [
        "y = x[:,1]\n",
        "y"
      ],
      "metadata": {
        "id": "agl8OFzzTMDo",
        "colab": {
          "base_uri": "https://localhost:8080/"
        },
        "outputId": "cc6672a3-5f2b-4ee2-cbd1-3e728151b956"
      },
      "execution_count": null,
      "outputs": [
        {
          "output_type": "execute_result",
          "data": {
            "text/plain": [
              "array([2, 5], dtype=int32)"
            ]
          },
          "metadata": {},
          "execution_count": 12
        }
      ]
    },
    {
      "cell_type": "code",
      "source": [
        "# 3차원 3d tensor 정의하기\n",
        "from tensorflow import keras\n",
        "from keras.datasets import mnist\n",
        "\n",
        "(train_imgs, train_labels), (test_imgs, test_labels) = mnist.load_data()"
      ],
      "metadata": {
        "id": "rDgbVsVDTjzc",
        "colab": {
          "base_uri": "https://localhost:8080/"
        },
        "outputId": "6ee28df0-1cf0-4f8d-97f8-e11cff5fccd0"
      },
      "execution_count": null,
      "outputs": [
        {
          "output_type": "stream",
          "name": "stdout",
          "text": [
            "Downloading data from https://storage.googleapis.com/tensorflow/tf-keras-datasets/mnist.npz\n",
            "11490434/11490434 [==============================] - 1s 0us/step\n"
          ]
        }
      ]
    },
    {
      "cell_type": "code",
      "source": [
        "train_imgs.shape"
      ],
      "metadata": {
        "id": "ylzcqSgKUTFX",
        "colab": {
          "base_uri": "https://localhost:8080/"
        },
        "outputId": "13739248-4ea9-48f8-cb3d-3c9406171a8a"
      },
      "execution_count": null,
      "outputs": [
        {
          "output_type": "execute_result",
          "data": {
            "text/plain": [
              "(60000, 28, 28)"
            ]
          },
          "metadata": {},
          "execution_count": 14
        }
      ]
    },
    {
      "cell_type": "code",
      "source": [
        "print(train_imgs[127])"
      ],
      "metadata": {
        "id": "FCIkUxxSUY-D",
        "colab": {
          "base_uri": "https://localhost:8080/"
        },
        "outputId": "7929890e-3a68-42b1-eec1-0db4bc457d66"
      },
      "execution_count": null,
      "outputs": [
        {
          "output_type": "stream",
          "name": "stdout",
          "text": [
            "[[  0   0   0   0   0   0   0   0   0   0   0   0   0   0   0   0   0   0\n",
            "    0   0   0   0   0   0   0   0   0   0]\n",
            " [  0   0   0   0   0   0   0   0   0   0   0   0   0   0   0   0   0   0\n",
            "    0   0   0   0   0   0   0   0   0   0]\n",
            " [  0   0   0   0   0   0   0   0   0   0   0   0   0   0   0   0   0   0\n",
            "    0   0   0   0   0   0   0   0   0   0]\n",
            " [  0   0   0   0   0   0   0   0   0   0   0   0   0   0   0   0   0   0\n",
            "    0   0   0   0   0   0   0   0   0   0]\n",
            " [  0   0   0   0   0   0   0   0   0   0   0   0   0   0   0   0   0   0\n",
            "    0   0   0   0   0   0   0   0   0   0]\n",
            " [  0   0   0   0   0   0   0   0   0   0   0   0   0   0   0   0   0   0\n",
            "    0   0   0   0   8 130 173 234   0   0]\n",
            " [  0   0   0   0   0   0   0   0   0   0   0   0   0   0   0   0   0   0\n",
            "    0   0   0   4 162 254 231  88   0   0]\n",
            " [  0   0   0   0   0   0   0   0   0   0   0   0   0   0   0   0   0   0\n",
            "    0   0   0 107 254 254  84   0   0   0]\n",
            " [  0   0   0   0   0   0   0   0   0   0   0   0   0   0   0   0   0   0\n",
            "    0   0 107 215 244 159   5   0   0   0]\n",
            " [  0   0   0   0   0   0   0   0   0   0   0   0   0 127 175  72   0   0\n",
            "    0  79 245 254  90   0   0   0   0   0]\n",
            " [  0   0   0   0   0   0   0   0   0   0   0   0   0 240 254 117   0   0\n",
            "   14 247 254 104   2   0   0   0   0   0]\n",
            " [  0   0   0   0   0   0   0   0   0   0   0  22 185 251 254  59   0   0\n",
            "  161 254 163  48   0   0   0   0   0   0]\n",
            " [  0   0   0   0   0   0   0   0   0   4  70 233 254 232  61   1  17 128\n",
            "  252 243  31   0   0   0   0   0   0   0]\n",
            " [  0   0   0   0   0   0   0   0   0  58 254 254 254  38   0   0 142 255\n",
            "  249  77   0   0   0   0   0   0   0   0]\n",
            " [  0   0   0   0   0   0   0   2 141 252 254 197  71   1   0 109 254 243\n",
            "   75   0   0   0   0   0   0   0   0   0]\n",
            " [  0   0   0   0   0   0   4 133 254 254 180  15   0   0   2 192 254 216\n",
            "   16   2   0   0   0   0   0   0   0   0]\n",
            " [  0   0   0   0   0   0 179 254 254 247 160  39   0  10 133 254 253  96\n",
            "  108  65   0   0   0   0   0   0   0   0]\n",
            " [  0   0   0   0   0   0 240 252 254 254 254 234 215 222 254 254 254 254\n",
            "  251  67   0   0   0   0   0   0   0   0]\n",
            " [  0   0   0   0   0   0   0  70  85 171 184 220 254 254 254 227 198 161\n",
            "   80   0   0   0   0   0   0   0   0   0]\n",
            " [  0   0   0   0   0   0   0   0   0   0   0  42 254 254 122  18   6   0\n",
            "    0   0   0   0   0   0   0   0   0   0]\n",
            " [  0   0   0   0   0   0   0   0   0   0   0 172 254 226  18   0   0   0\n",
            "    0   0   0   0   0   0   0   0   0   0]\n",
            " [  0   0   0   0   0   0   0   0   0   3 133 253 195  22   0   0   0   0\n",
            "    0   0   0   0   0   0   0   0   0   0]\n",
            " [  0   0   0   0   0   0   0   0   0  96 254 196  18   0   0   0   0   0\n",
            "    0   0   0   0   0   0   0   0   0   0]\n",
            " [  0   0   0   0   0   0   0   0   0 177 241  63   0   0   0   0   0   0\n",
            "    0   0   0   0   0   0   0   0   0   0]\n",
            " [  0   0   0   0   0   0   0   0   0  55 138  10   0   0   0   0   0   0\n",
            "    0   0   0   0   0   0   0   0   0   0]\n",
            " [  0   0   0   0   0   0   0   0   0   0   0   0   0   0   0   0   0   0\n",
            "    0   0   0   0   0   0   0   0   0   0]\n",
            " [  0   0   0   0   0   0   0   0   0   0   0   0   0   0   0   0   0   0\n",
            "    0   0   0   0   0   0   0   0   0   0]\n",
            " [  0   0   0   0   0   0   0   0   0   0   0   0   0   0   0   0   0   0\n",
            "    0   0   0   0   0   0   0   0   0   0]]\n"
          ]
        }
      ]
    },
    {
      "cell_type": "code",
      "source": [
        "import matplotlib.pyplot as plt\n",
        "plt.imshow(train_imgs[127],cmap = plt.cm.binary)"
      ],
      "metadata": {
        "id": "Tdu7CQ7nUc17",
        "colab": {
          "base_uri": "https://localhost:8080/",
          "height": 282
        },
        "outputId": "d9e32480-9321-4330-92dd-f6e61e50d32d"
      },
      "execution_count": null,
      "outputs": [
        {
          "output_type": "execute_result",
          "data": {
            "text/plain": [
              "<matplotlib.image.AxesImage at 0x7fbae8a86a90>"
            ]
          },
          "metadata": {},
          "execution_count": 16
        },
        {
          "output_type": "display_data",
          "data": {
            "text/plain": [
              "<Figure size 432x288 with 1 Axes>"
            ],
            "image/png": "[encoded data removed]"
          },
          "metadata": {
            "needs_background": "light"
          }
        }
      ]
    },
    {
      "cell_type": "code",
      "source": [
        "# 4차원 4d tensor 정의하기\n",
        "# 영상 출처: https://www.videvo.net/video/kittens-against-white-background/4775/\n",
        "import cv2\n",
        "cap = cv2.VideoCapture('./gatos_.mp4')"
      ],
      "metadata": {
        "id": "seXgrDv7WnA5"
      },
      "execution_count": null,
      "outputs": []
    },
    {
      "cell_type": "code",
      "source": [
        "frameCount = int(cap.get(cv2.CAP_PROP_FRAME_COUNT))\n",
        "frameWidth = int(cap.get(cv2.CAP_PROP_FRAME_WIDTH))\n",
        "frameHeight = int(cap.get(cv2.CAP_PROP_FRAME_HEIGHT))\n",
        "\n",
        "print(frameCount, frameWidth, frameHeight)"
      ],
      "metadata": {
        "id": "EcLR3pEiXosD",
        "colab": {
          "base_uri": "https://localhost:8080/"
        },
        "outputId": "23bed730-a4cd-49c9-bb8a-ab10d8401600"
      },
      "execution_count": null,
      "outputs": [
        {
          "output_type": "stream",
          "name": "stdout",
          "text": [
            "313 1920 1080\n"
          ]
        }
      ]
    },
    {
      "cell_type": "code",
      "source": [
        "path = './'\n",
        "count = 0\n",
        "every = 30\n",
        "\n",
        "while(cap.isOpened() and count < frameCount//every):\n",
        "    ret, image = cap.read()\n",
        "\n",
        "    if(int(cap.get(1)) % 30 == 0):\n",
        "        print('Saved frame number : ' + str(int(cap.get(1))))\n",
        "        cv2.imwrite(path + \"cat(%d).jpg\" % count, image)\n",
        "        print(path + \"cat(%d).jpg\" % count)\n",
        "        count += 1\n",
        "\n",
        "cap.release()"
      ],
      "metadata": {
        "id": "xxaD5KpSZe1j",
        "colab": {
          "base_uri": "https://localhost:8080/"
        },
        "outputId": "8e470ccf-ba3c-4f81-f372-db9a53df58f9"
      },
      "execution_count": null,
      "outputs": [
        {
          "output_type": "stream",
          "name": "stdout",
          "text": [
            "Saved frame number : 30\n",
            "./cat(0).jpg\n",
            "Saved frame number : 60\n",
            "./cat(1).jpg\n",
            "Saved frame number : 90\n",
            "./cat(2).jpg\n",
            "Saved frame number : 120\n",
            "./cat(3).jpg\n",
            "Saved frame number : 150\n",
            "./cat(4).jpg\n",
            "Saved frame number : 180\n",
            "./cat(5).jpg\n",
            "Saved frame number : 210\n",
            "./cat(6).jpg\n",
            "Saved frame number : 240\n",
            "./cat(7).jpg\n",
            "Saved frame number : 270\n",
            "./cat(8).jpg\n",
            "Saved frame number : 300\n",
            "./cat(9).jpg\n"
          ]
        }
      ]
    },
    {
      "cell_type": "code",
      "source": [
        "# 한 프레임을 구성하는 color 이미지\n",
        "img = cv2.imread('./cat(2).jpg')\n",
        "img.shape"
      ],
      "metadata": {
        "id": "7kHDU0ROcBjL",
        "colab": {
          "base_uri": "https://localhost:8080/"
        },
        "outputId": "cdb1c8d6-7772-45be-b221-879858a47563"
      },
      "execution_count": null,
      "outputs": [
        {
          "output_type": "execute_result",
          "data": {
            "text/plain": [
              "(1080, 1920, 3)"
            ]
          },
          "metadata": {},
          "execution_count": 21
        }
      ]
    },
    {
      "cell_type": "markdown",
      "source": [
        "#2. EDA 실습"
      ],
      "metadata": {
        "id": "LWogsoWPNmTK"
      }
    },
    {
      "cell_type": "markdown",
      "metadata": {
        "id": "XmhNEqzXrFsO"
      },
      "source": [
        "### 0. 라이브러리 import\n"
      ]
    },
    {
      "cell_type": "code",
      "metadata": {
        "id": "iY5qUPTAsr1k"
      },
      "source": [
        "import numpy as np\n",
        "import pandas as pd"
      ],
      "execution_count": null,
      "outputs": []
    },
    {
      "cell_type": "markdown",
      "metadata": {
        "id": "fNNDNjvfrFsS"
      },
      "source": [
        "### 1.데이터 로드 및 확인"
      ]
    },
    {
      "cell_type": "markdown",
      "source": [
        "- 데이터 출처: [전세계 라면 평점 정보](https://www.kaggle.com/datasets/residentmario/ramen-ratings)\n",
        "- 칼럼\n",
        "     - #Review : 리뷰글번호, 최근에 적혀있을 수록 숫자가 큼\n",
        "     - Brand : 라면 회사명\n",
        "     - Variety : 라면 제품명\n",
        "     - Country : 라면 제조국\n",
        "     - Style : 라면패키지(Cup/ Bowl/ Tray)\n",
        "     - Stars : 5점 만점의 평점 데이터\n",
        "\n",
        "- 오늘의 목표\n",
        "    - 데이터의 결측값(비어있는 값)을 다양한 방법으로 처리할 수 있다!!\n",
        "    - 다양한 시각화 방법을 이해할 수 있다!!\n",
        "- 오늘의 질문\n",
        "    - 어떤 패키징 스타일이 제일 많을까?\n",
        "        - 추가질문: 패키징 스타일이 Stars에 영향을 받을까? 등\n",
        "    - 라면으로 유명한 나라는 어디일까?\n",
        "        - 추가질문: 라면브랜드가 많으면 평균 평점도 높을까? 등\n",
        "    - 평가자들은 점수에 인색한 편일까?\n",
        "    - 사람들이 선호하는 재료 또는 맛은 무엇일까?\n",
        "    - 등등"
      ],
      "metadata": {
        "id": "Nc5pXUrTne_d"
      }
    },
    {
      "cell_type": "code",
      "metadata": {
        "id": "gp7qB2oiZvNa",
        "colab": {
          "base_uri": "https://localhost:8080/"
        },
        "outputId": "1eda115d-fd98-48bb-d128-43b7db4d7575"
      },
      "source": [
        "from google.colab import drive\n",
        "drive.mount('/content/drive')"
      ],
      "execution_count": null,
      "outputs": [
        {
          "output_type": "stream",
          "name": "stdout",
          "text": [
            "Mounted at /content/drive\n"
          ]
        }
      ]
    },
    {
      "cell_type": "code",
      "metadata": {
        "id": "Wzc7dilrM56I"
      },
      "source": [
        "import os\n",
        "os.environ['KAGGLE_CONFIG_DIR'] = '/content/drive/My Drive/Colab Notebooks/.kaggle'\n",
        "# '/content/drive/My Drive/Colab Notebooks' is the path where kaggle.json is present in the Google Drive"
      ],
      "execution_count": null,
      "outputs": []
    },
    {
      "cell_type": "code",
      "metadata": {
        "id": "hCFcw0N0eup8",
        "colab": {
          "base_uri": "https://localhost:8080/"
        },
        "outputId": "5effc1be-4f8b-42bc-8906-9b4c17ffb2b0"
      },
      "source": [
        "# 데이터셋 다운로드\n",
        "!kaggle datasets download -d residentmario/ramen-ratings"
      ],
      "execution_count": null,
      "outputs": [
        {
          "output_type": "stream",
          "name": "stdout",
          "text": [
            "Downloading ramen-ratings.zip to /content\n",
            "\r  0% 0.00/39.8k [00:00<?, ?B/s]\n",
            "\r100% 39.8k/39.8k [00:00<00:00, 1.42MB/s]\n"
          ]
        }
      ]
    },
    {
      "cell_type": "code",
      "metadata": {
        "id": "38H7JaIMfRUd",
        "colab": {
          "base_uri": "https://localhost:8080/"
        },
        "outputId": "9223d680-973c-487b-b852-4bd39dccc341"
      },
      "source": [
        "# zip파일 압축 해제 후 현재 디렉토리의 파일 리스트 보기\n",
        "!unzip ramen-ratings.zip\n",
        "!ls"
      ],
      "execution_count": null,
      "outputs": [
        {
          "output_type": "stream",
          "name": "stdout",
          "text": [
            "Archive:  ramen-ratings.zip\n",
            "  inflating: ramen-ratings.csv       \n",
            "'cat(0).jpg'  'cat(3).jpg'  'cat(6).jpg'  'cat(9).jpg'\t ramen-ratings.csv\n",
            "'cat(1).jpg'  'cat(4).jpg'  'cat(7).jpg'   drive\t ramen-ratings.zip\n",
            "'cat(2).jpg'  'cat(5).jpg'  'cat(8).jpg'   gatos_.mp4\t sample_data\n"
          ]
        }
      ]
    },
    {
      "cell_type": "code",
      "source": [
        "# 원 데이터 로드\n",
        "data = pd.read_csv('ramen-ratings.csv')"
      ],
      "metadata": {
        "id": "EXMFrWFossxJ"
      },
      "execution_count": null,
      "outputs": []
    },
    {
      "cell_type": "code",
      "metadata": {
        "id": "YGQW20_orFsS",
        "colab": {
          "base_uri": "https://localhost:8080/",
          "height": 206
        },
        "outputId": "68336a94-f23c-4ab5-a466-965bfc608966"
      },
      "source": [
        "# 데이터 head 출력\n",
        "data.head()"
      ],
      "execution_count": null,
      "outputs": [
        {
          "output_type": "execute_result",
          "data": {
            "text/plain": [
              "   Review #           Brand  \\\n",
              "0      2580       New Touch   \n",
              "1      2579        Just Way   \n",
              "2      2578          Nissin   \n",
              "3      2577         Wei Lih   \n",
              "4      2576  Ching's Secret   \n",
              "\n",
              "                                             Variety Style Country Stars  \\\n",
              "0                          T's Restaurant Tantanmen    Cup   Japan  3.75   \n",
              "1  Noodles Spicy Hot Sesame Spicy Hot Sesame Guan...  Pack  Taiwan     1   \n",
              "2                      Cup Noodles Chicken Vegetable   Cup     USA  2.25   \n",
              "3                      GGE Ramen Snack Tomato Flavor  Pack  Taiwan  2.75   \n",
              "4                                    Singapore Curry  Pack   India  3.75   \n",
              "\n",
              "  Top Ten  \n",
              "0     NaN  \n",
              "1     NaN  \n",
              "2     NaN  \n",
              "3     NaN  \n",
              "4     NaN  "
            ],
            "text/html": [
              "\n",
              "  <div id=\"df-b6693d53-8c5b-4370-84d4-7f479d5b89fd\">\n",
              "    <div class=\"colab-df-container\">\n",
              "      <div>\n",
              "<style scoped>\n",
              "    .dataframe tbody tr th:only-of-type {\n",
              "        vertical-align: middle;\n",
              "    }\n",
              "\n",
              "    .dataframe tbody tr th {\n",
              "        vertical-align: top;\n",
              "    }\n",
              "\n",
              "    .dataframe thead th {\n",
              "        text-align: right;\n",
              "    }\n",
              "</style>\n",
              "<table border=\"1\" class=\"dataframe\">\n",
              "  <thead>\n",
              "    <tr style=\"text-align: right;\">\n",
              "      <th></th>\n",
              "      <th>Review #</th>\n",
              "      <th>Brand</th>\n",
              "      <th>Variety</th>\n",
              "      <th>Style</th>\n",
              "      <th>Country</th>\n",
              "      <th>Stars</th>\n",
              "      <th>Top Ten</th>\n",
              "    </tr>\n",
              "  </thead>\n",
              "  <tbody>\n",
              "    <tr>\n",
              "      <th>0</th>\n",
              "      <td>2580</td>\n",
              "      <td>New Touch</td>\n",
              "      <td>T's Restaurant Tantanmen</td>\n",
              "      <td>Cup</td>\n",
              "      <td>Japan</td>\n",
              "      <td>3.75</td>\n",
              "      <td>NaN</td>\n",
              "    </tr>\n",
              "    <tr>\n",
              "      <th>1</th>\n",
              "      <td>2579</td>\n",
              "      <td>Just Way</td>\n",
              "      <td>Noodles Spicy Hot Sesame Spicy Hot Sesame Guan...</td>\n",
              "      <td>Pack</td>\n",
              "      <td>Taiwan</td>\n",
              "      <td>1</td>\n",
              "      <td>NaN</td>\n",
              "    </tr>\n",
              "    <tr>\n",
              "      <th>2</th>\n",
              "      <td>2578</td>\n",
              "      <td>Nissin</td>\n",
              "      <td>Cup Noodles Chicken Vegetable</td>\n",
              "      <td>Cup</td>\n",
              "      <td>USA</td>\n",
              "      <td>2.25</td>\n",
              "      <td>NaN</td>\n",
              "    </tr>\n",
              "    <tr>\n",
              "      <th>3</th>\n",
              "      <td>2577</td>\n",
              "      <td>Wei Lih</td>\n",
              "      <td>GGE Ramen Snack Tomato Flavor</td>\n",
              "      <td>Pack</td>\n",
              "      <td>Taiwan</td>\n",
              "      <td>2.75</td>\n",
              "      <td>NaN</td>\n",
              "    </tr>\n",
              "    <tr>\n",
              "      <th>4</th>\n",
              "      <td>2576</td>\n",
              "      <td>Ching's Secret</td>\n",
              "      <td>Singapore Curry</td>\n",
              "      <td>Pack</td>\n",
              "      <td>India</td>\n",
              "      <td>3.75</td>\n",
              "      <td>NaN</td>\n",
              "    </tr>\n",
              "  </tbody>\n",
              "</table>\n",
              "</div>\n",
              "      <button class=\"colab-df-convert\" onclick=\"convertToInteractive('df-b6693d53-8c5b-4370-84d4-7f479d5b89fd')\"\n",
              "              title=\"Convert this dataframe to an interactive table.\"\n",
              "              style=\"display:none;\">\n",
              "        \n",
              "  <svg xmlns=\"http://www.w3.org/2000/svg\" height=\"24px\"viewBox=\"0 0 24 24\"\n",
              "       width=\"24px\">\n",
              "    <path d=\"M0 0h24v24H0V0z\" fill=\"none\"/>\n",
              "    <path d=\"M18.56 5.44l.94 2.06.94-2.06 2.06-.94-2.06-.94-.94-2.06-.94 2.06-2.06.94zm-11 1L8.5 8.5l.94-2.06 2.06-.94-2.06-.94L8.5 2.5l-.94 2.06-2.06.94zm10 10l.94 2.06.94-2.06 2.06-.94-2.06-.94-.94-2.06-.94 2.06-2.06.94z\"/><path d=\"M17.41 7.96l-1.37-1.37c-.4-.4-.92-.59-1.43-.59-.52 0-1.04.2-1.43.59L10.3 9.45l-7.72 7.72c-.78.78-.78 2.05 0 2.83L4 21.41c.39.39.9.59 1.41.59.51 0 1.02-.2 1.41-.59l7.78-7.78 2.81-2.81c.8-.78.8-2.07 0-2.86zM5.41 20L4 18.59l7.72-7.72 1.47 1.35L5.41 20z\"/>\n",
              "  </svg>\n",
              "      </button>\n",
              "      \n",
              "  <style>\n",
              "    .colab-df-container {\n",
              "      display:flex;\n",
              "      flex-wrap:wrap;\n",
              "      gap: 12px;\n",
              "    }\n",
              "\n",
              "    .colab-df-convert {\n",
              "      background-color: #E8F0FE;\n",
              "      border: none;\n",
              "      border-radius: 50%;\n",
              "      cursor: pointer;\n",
              "      display: none;\n",
              "      fill: #1967D2;\n",
              "      height: 32px;\n",
              "      padding: 0 0 0 0;\n",
              "      width: 32px;\n",
              "    }\n",
              "\n",
              "    .colab-df-convert:hover {\n",
              "      background-color: #E2EBFA;\n",
              "      box-shadow: 0px 1px 2px rgba(60, 64, 67, 0.3), 0px 1px 3px 1px rgba(60, 64, 67, 0.15);\n",
              "      fill: #174EA6;\n",
              "    }\n",
              "\n",
              "    [theme=dark] .colab-df-convert {\n",
              "      background-color: #3B4455;\n",
              "      fill: #D2E3FC;\n",
              "    }\n",
              "\n",
              "    [theme=dark] .colab-df-convert:hover {\n",
              "      background-color: #434B5C;\n",
              "      box-shadow: 0px 1px 3px 1px rgba(0, 0, 0, 0.15);\n",
              "      filter: drop-shadow(0px 1px 2px rgba(0, 0, 0, 0.3));\n",
              "      fill: #FFFFFF;\n",
              "    }\n",
              "  </style>\n",
              "\n",
              "      <script>\n",
              "        const buttonEl =\n",
              "          document.querySelector('#df-b6693d53-8c5b-4370-84d4-7f479d5b89fd button.colab-df-convert');\n",
              "        buttonEl.style.display =\n",
              "          google.colab.kernel.accessAllowed ? 'block' : 'none';\n",
              "\n",
              "        async function convertToInteractive(key) {\n",
              "          const element = document.querySelector('#df-b6693d53-8c5b-4370-84d4-7f479d5b89fd');\n",
              "          const dataTable =\n",
              "            await google.colab.kernel.invokeFunction('convertToInteractive',\n",
              "                                                     [key], {});\n",
              "          if (!dataTable) return;\n",
              "\n",
              "          const docLinkHtml = 'Like what you see? Visit the ' +\n",
              "            '<a target=\"_blank\" href=https://colab.research.google.com/notebooks/data_table.ipynb>data table notebook</a>'\n",
              "            + ' to learn more about interactive tables.';\n",
              "          element.innerHTML = '';\n",
              "          dataTable['output_type'] = 'display_data';\n",
              "          await google.colab.output.renderOutput(dataTable, element);\n",
              "          const docLink = document.createElement('div');\n",
              "          docLink.innerHTML = docLinkHtml;\n",
              "          element.appendChild(docLink);\n",
              "        }\n",
              "      </script>\n",
              "    </div>\n",
              "  </div>\n",
              "  "
            ]
          },
          "metadata": {},
          "execution_count": 38
        }
      ]
    },
    {
      "cell_type": "code",
      "metadata": {
        "id": "k20gw-53rFsW",
        "colab": {
          "base_uri": "https://localhost:8080/"
        },
        "outputId": "9fd14e68-dd2a-47ff-9229-df3993158d19"
      },
      "source": [
        "# 데이터 shape 확인\n",
        "data.shape"
      ],
      "execution_count": null,
      "outputs": [
        {
          "output_type": "execute_result",
          "data": {
            "text/plain": [
              "(2580, 7)"
            ]
          },
          "metadata": {},
          "execution_count": 39
        }
      ]
    },
    {
      "cell_type": "code",
      "metadata": {
        "id": "mYCxsl0crFsZ",
        "colab": {
          "base_uri": "https://localhost:8080/"
        },
        "outputId": "82b74fe7-546e-4f6c-b6ce-d8f54f5ad5b2"
      },
      "source": [
        "# 데이터 정보 확인\n",
        "data.info()"
      ],
      "execution_count": null,
      "outputs": [
        {
          "output_type": "stream",
          "name": "stdout",
          "text": [
            "<class 'pandas.core.frame.DataFrame'>\n",
            "RangeIndex: 2580 entries, 0 to 2579\n",
            "Data columns (total 7 columns):\n",
            " #   Column    Non-Null Count  Dtype \n",
            "---  ------    --------------  ----- \n",
            " 0   Review #  2580 non-null   int64 \n",
            " 1   Brand     2580 non-null   object\n",
            " 2   Variety   2580 non-null   object\n",
            " 3   Style     2578 non-null   object\n",
            " 4   Country   2580 non-null   object\n",
            " 5   Stars     2580 non-null   object\n",
            " 6   Top Ten   41 non-null     object\n",
            "dtypes: int64(1), object(6)\n",
            "memory usage: 141.2+ KB\n"
          ]
        }
      ]
    },
    {
      "cell_type": "code",
      "metadata": {
        "id": "hw25W3fArFsd",
        "colab": {
          "base_uri": "https://localhost:8080/",
          "height": 394
        },
        "outputId": "bd448f38-d987-4e12-ad18-551d9909bbae"
      },
      "source": [
        "# 간단한 통계 정보 확인\n",
        "data.describe(include='all')"
      ],
      "execution_count": null,
      "outputs": [
        {
          "output_type": "execute_result",
          "data": {
            "text/plain": [
              "           Review #   Brand Variety Style Country Stars Top Ten\n",
              "count   2580.000000    2580    2580  2578    2580  2580      41\n",
              "unique          NaN     355    2413     7      38    51      38\n",
              "top             NaN  Nissin    Beef  Pack   Japan     4      \\n\n",
              "freq            NaN     381       7  1531     352   384       4\n",
              "mean    1290.500000     NaN     NaN   NaN     NaN   NaN     NaN\n",
              "std      744.926171     NaN     NaN   NaN     NaN   NaN     NaN\n",
              "min        1.000000     NaN     NaN   NaN     NaN   NaN     NaN\n",
              "25%      645.750000     NaN     NaN   NaN     NaN   NaN     NaN\n",
              "50%     1290.500000     NaN     NaN   NaN     NaN   NaN     NaN\n",
              "75%     1935.250000     NaN     NaN   NaN     NaN   NaN     NaN\n",
              "max     2580.000000     NaN     NaN   NaN     NaN   NaN     NaN"
            ],
            "text/html": [
              "\n",
              "  <div id=\"df-1c19f1d1-9fea-47ba-9b86-7e3e4ba01cc1\">\n",
              "    <div class=\"colab-df-container\">\n",
              "      <div>\n",
              "<style scoped>\n",
              "    .dataframe tbody tr th:only-of-type {\n",
              "        vertical-align: middle;\n",
              "    }\n",
              "\n",
              "    .dataframe tbody tr th {\n",
              "        vertical-align: top;\n",
              "    }\n",
              "\n",
              "    .dataframe thead th {\n",
              "        text-align: right;\n",
              "    }\n",
              "</style>\n",
              "<table border=\"1\" class=\"dataframe\">\n",
              "  <thead>\n",
              "    <tr style=\"text-align: right;\">\n",
              "      <th></th>\n",
              "      <th>Review #</th>\n",
              "      <th>Brand</th>\n",
              "      <th>Variety</th>\n",
              "      <th>Style</th>\n",
              "      <th>Country</th>\n",
              "      <th>Stars</th>\n",
              "      <th>Top Ten</th>\n",
              "    </tr>\n",
              "  </thead>\n",
              "  <tbody>\n",
              "    <tr>\n",
              "      <th>count</th>\n",
              "      <td>2580.000000</td>\n",
              "      <td>2580</td>\n",
              "      <td>2580</td>\n",
              "      <td>2578</td>\n",
              "      <td>2580</td>\n",
              "      <td>2580</td>\n",
              "      <td>41</td>\n",
              "    </tr>\n",
              "    <tr>\n",
              "      <th>unique</th>\n",
              "      <td>NaN</td>\n",
              "      <td>355</td>\n",
              "      <td>2413</td>\n",
              "      <td>7</td>\n",
              "      <td>38</td>\n",
              "      <td>51</td>\n",
              "      <td>38</td>\n",
              "    </tr>\n",
              "    <tr>\n",
              "      <th>top</th>\n",
              "      <td>NaN</td>\n",
              "      <td>Nissin</td>\n",
              "      <td>Beef</td>\n",
              "      <td>Pack</td>\n",
              "      <td>Japan</td>\n",
              "      <td>4</td>\n",
              "      <td>\\n</td>\n",
              "    </tr>\n",
              "    <tr>\n",
              "      <th>freq</th>\n",
              "      <td>NaN</td>\n",
              "      <td>381</td>\n",
              "      <td>7</td>\n",
              "      <td>1531</td>\n",
              "      <td>352</td>\n",
              "      <td>384</td>\n",
              "      <td>4</td>\n",
              "    </tr>\n",
              "    <tr>\n",
              "      <th>mean</th>\n",
              "      <td>1290.500000</td>\n",
              "      <td>NaN</td>\n",
              "      <td>NaN</td>\n",
              "      <td>NaN</td>\n",
              "      <td>NaN</td>\n",
              "      <td>NaN</td>\n",
              "      <td>NaN</td>\n",
              "    </tr>\n",
              "    <tr>\n",
              "      <th>std</th>\n",
              "      <td>744.926171</td>\n",
              "      <td>NaN</td>\n",
              "      <td>NaN</td>\n",
              "      <td>NaN</td>\n",
              "      <td>NaN</td>\n",
              "      <td>NaN</td>\n",
              "      <td>NaN</td>\n",
              "    </tr>\n",
              "    <tr>\n",
              "      <th>min</th>\n",
              "      <td>1.000000</td>\n",
              "      <td>NaN</td>\n",
              "      <td>NaN</td>\n",
              "      <td>NaN</td>\n",
              "      <td>NaN</td>\n",
              "      <td>NaN</td>\n",
              "      <td>NaN</td>\n",
              "    </tr>\n",
              "    <tr>\n",
              "      <th>25%</th>\n",
              "      <td>645.750000</td>\n",
              "      <td>NaN</td>\n",
              "      <td>NaN</td>\n",
              "      <td>NaN</td>\n",
              "      <td>NaN</td>\n",
              "      <td>NaN</td>\n",
              "      <td>NaN</td>\n",
              "    </tr>\n",
              "    <tr>\n",
              "      <th>50%</th>\n",
              "      <td>1290.500000</td>\n",
              "      <td>NaN</td>\n",
              "      <td>NaN</td>\n",
              "      <td>NaN</td>\n",
              "      <td>NaN</td>\n",
              "      <td>NaN</td>\n",
              "      <td>NaN</td>\n",
              "    </tr>\n",
              "    <tr>\n",
              "      <th>75%</th>\n",
              "      <td>1935.250000</td>\n",
              "      <td>NaN</td>\n",
              "      <td>NaN</td>\n",
              "      <td>NaN</td>\n",
              "      <td>NaN</td>\n",
              "      <td>NaN</td>\n",
              "      <td>NaN</td>\n",
              "    </tr>\n",
              "    <tr>\n",
              "      <th>max</th>\n",
              "      <td>2580.000000</td>\n",
              "      <td>NaN</td>\n",
              "      <td>NaN</td>\n",
              "      <td>NaN</td>\n",
              "      <td>NaN</td>\n",
              "      <td>NaN</td>\n",
              "      <td>NaN</td>\n",
              "    </tr>\n",
              "  </tbody>\n",
              "</table>\n",
              "</div>\n",
              "      <button class=\"colab-df-convert\" onclick=\"convertToInteractive('df-1c19f1d1-9fea-47ba-9b86-7e3e4ba01cc1')\"\n",
              "              title=\"Convert this dataframe to an interactive table.\"\n",
              "              style=\"display:none;\">\n",
              "        \n",
              "  <svg xmlns=\"http://www.w3.org/2000/svg\" height=\"24px\"viewBox=\"0 0 24 24\"\n",
              "       width=\"24px\">\n",
              "    <path d=\"M0 0h24v24H0V0z\" fill=\"none\"/>\n",
              "    <path d=\"M18.56 5.44l.94 2.06.94-2.06 2.06-.94-2.06-.94-.94-2.06-.94 2.06-2.06.94zm-11 1L8.5 8.5l.94-2.06 2.06-.94-2.06-.94L8.5 2.5l-.94 2.06-2.06.94zm10 10l.94 2.06.94-2.06 2.06-.94-2.06-.94-.94-2.06-.94 2.06-2.06.94z\"/><path d=\"M17.41 7.96l-1.37-1.37c-.4-.4-.92-.59-1.43-.59-.52 0-1.04.2-1.43.59L10.3 9.45l-7.72 7.72c-.78.78-.78 2.05 0 2.83L4 21.41c.39.39.9.59 1.41.59.51 0 1.02-.2 1.41-.59l7.78-7.78 2.81-2.81c.8-.78.8-2.07 0-2.86zM5.41 20L4 18.59l7.72-7.72 1.47 1.35L5.41 20z\"/>\n",
              "  </svg>\n",
              "      </button>\n",
              "      \n",
              "  <style>\n",
              "    .colab-df-container {\n",
              "      display:flex;\n",
              "      flex-wrap:wrap;\n",
              "      gap: 12px;\n",
              "    }\n",
              "\n",
              "    .colab-df-convert {\n",
              "      background-color: #E8F0FE;\n",
              "      border: none;\n",
              "      border-radius: 50%;\n",
              "      cursor: pointer;\n",
              "      display: none;\n",
              "      fill: #1967D2;\n",
              "      height: 32px;\n",
              "      padding: 0 0 0 0;\n",
              "      width: 32px;\n",
              "    }\n",
              "\n",
              "    .colab-df-convert:hover {\n",
              "      background-color: #E2EBFA;\n",
              "      box-shadow: 0px 1px 2px rgba(60, 64, 67, 0.3), 0px 1px 3px 1px rgba(60, 64, 67, 0.15);\n",
              "      fill: #174EA6;\n",
              "    }\n",
              "\n",
              "    [theme=dark] .colab-df-convert {\n",
              "      background-color: #3B4455;\n",
              "      fill: #D2E3FC;\n",
              "    }\n",
              "\n",
              "    [theme=dark] .colab-df-convert:hover {\n",
              "      background-color: #434B5C;\n",
              "      box-shadow: 0px 1px 3px 1px rgba(0, 0, 0, 0.15);\n",
              "      filter: drop-shadow(0px 1px 2px rgba(0, 0, 0, 0.3));\n",
              "      fill: #FFFFFF;\n",
              "    }\n",
              "  </style>\n",
              "\n",
              "      <script>\n",
              "        const buttonEl =\n",
              "          document.querySelector('#df-1c19f1d1-9fea-47ba-9b86-7e3e4ba01cc1 button.colab-df-convert');\n",
              "        buttonEl.style.display =\n",
              "          google.colab.kernel.accessAllowed ? 'block' : 'none';\n",
              "\n",
              "        async function convertToInteractive(key) {\n",
              "          const element = document.querySelector('#df-1c19f1d1-9fea-47ba-9b86-7e3e4ba01cc1');\n",
              "          const dataTable =\n",
              "            await google.colab.kernel.invokeFunction('convertToInteractive',\n",
              "                                                     [key], {});\n",
              "          if (!dataTable) return;\n",
              "\n",
              "          const docLinkHtml = 'Like what you see? Visit the ' +\n",
              "            '<a target=\"_blank\" href=https://colab.research.google.com/notebooks/data_table.ipynb>data table notebook</a>'\n",
              "            + ' to learn more about interactive tables.';\n",
              "          element.innerHTML = '';\n",
              "          dataTable['output_type'] = 'display_data';\n",
              "          await google.colab.output.renderOutput(dataTable, element);\n",
              "          const docLink = document.createElement('div');\n",
              "          docLink.innerHTML = docLinkHtml;\n",
              "          element.appendChild(docLink);\n",
              "        }\n",
              "      </script>\n",
              "    </div>\n",
              "  </div>\n",
              "  "
            ]
          },
          "metadata": {},
          "execution_count": 41
        }
      ]
    },
    {
      "cell_type": "markdown",
      "metadata": {
        "id": "8V_pjdsxrFsg"
      },
      "source": [
        "### **2.missing data 확인 및 처리**\n",
        "\n",
        "- isna() : None, numpy.NaN과 같은 NA value인지 검사하여 True/False 리턴\n",
        "- notna() : NA value가 아닌지 검사하여 True/False 리턴\n",
        "\n",
        "\n"
      ]
    },
    {
      "cell_type": "code",
      "metadata": {
        "id": "BXru5LdhrFsg",
        "colab": {
          "base_uri": "https://localhost:8080/"
        },
        "outputId": "3b4fcd60-ad20-48bb-a967-084085f8168a"
      },
      "source": [
        "# 결측값 확인을 위한 다른 방법\n",
        "data.isna().sum()"
      ],
      "execution_count": null,
      "outputs": [
        {
          "output_type": "execute_result",
          "data": {
            "text/plain": [
              "Review #       0\n",
              "Brand          0\n",
              "Variety        0\n",
              "Style          2\n",
              "Country        0\n",
              "Stars          0\n",
              "Top Ten     2539\n",
              "dtype: int64"
            ]
          },
          "metadata": {},
          "execution_count": 42
        }
      ]
    },
    {
      "cell_type": "markdown",
      "metadata": {
        "id": "Is6Rtf7yrFsk"
      },
      "source": [
        "#### Style 컬럼"
      ]
    },
    {
      "cell_type": "markdown",
      "source": [
        "\n",
        "\n",
        "```\n",
        "#특정 조건으로 필터링할 경우\n",
        "DataFrame명[조건]\n",
        "DataFrame명[(조건1) & (조건2) & ...]\n",
        "DataFrame명[DataFrame명['칼럼명'] == 값]\n",
        "\n",
        "```\n",
        "\n"
      ],
      "metadata": {
        "id": "E5dhwIWBUj5e"
      }
    },
    {
      "cell_type": "code",
      "metadata": {
        "id": "ieK6G0bOrFsk",
        "colab": {
          "base_uri": "https://localhost:8080/",
          "height": 112
        },
        "outputId": "06b279a0-70b3-4240-afa6-bf4f2ce3e197"
      },
      "source": [
        "# Style컬럼에서 비어있는 데이터 확인\n",
        "data[data['Style'].isna()]"
      ],
      "execution_count": null,
      "outputs": [
        {
          "output_type": "execute_result",
          "data": {
            "text/plain": [
              "      Review #   Brand            Variety Style Country Stars Top Ten\n",
              "2152       428  Kamfen     E Menm Chicken   NaN   China  3.75     NaN\n",
              "2442       138    Unif  100 Furong Shrimp   NaN  Taiwan     3     NaN"
            ],
            "text/html": [
              "\n",
              "  <div id=\"df-5f2d2d22-00a9-4fbb-aeac-aaf4198f664d\">\n",
              "    <div class=\"colab-df-container\">\n",
              "      <div>\n",
              "<style scoped>\n",
              "    .dataframe tbody tr th:only-of-type {\n",
              "        vertical-align: middle;\n",
              "    }\n",
              "\n",
              "    .dataframe tbody tr th {\n",
              "        vertical-align: top;\n",
              "    }\n",
              "\n",
              "    .dataframe thead th {\n",
              "        text-align: right;\n",
              "    }\n",
              "</style>\n",
              "<table border=\"1\" class=\"dataframe\">\n",
              "  <thead>\n",
              "    <tr style=\"text-align: right;\">\n",
              "      <th></th>\n",
              "      <th>Review #</th>\n",
              "      <th>Brand</th>\n",
              "      <th>Variety</th>\n",
              "      <th>Style</th>\n",
              "      <th>Country</th>\n",
              "      <th>Stars</th>\n",
              "      <th>Top Ten</th>\n",
              "    </tr>\n",
              "  </thead>\n",
              "  <tbody>\n",
              "    <tr>\n",
              "      <th>2152</th>\n",
              "      <td>428</td>\n",
              "      <td>Kamfen</td>\n",
              "      <td>E Menm Chicken</td>\n",
              "      <td>NaN</td>\n",
              "      <td>China</td>\n",
              "      <td>3.75</td>\n",
              "      <td>NaN</td>\n",
              "    </tr>\n",
              "    <tr>\n",
              "      <th>2442</th>\n",
              "      <td>138</td>\n",
              "      <td>Unif</td>\n",
              "      <td>100 Furong Shrimp</td>\n",
              "      <td>NaN</td>\n",
              "      <td>Taiwan</td>\n",
              "      <td>3</td>\n",
              "      <td>NaN</td>\n",
              "    </tr>\n",
              "  </tbody>\n",
              "</table>\n",
              "</div>\n",
              "      <button class=\"colab-df-convert\" onclick=\"convertToInteractive('df-5f2d2d22-00a9-4fbb-aeac-aaf4198f664d')\"\n",
              "              title=\"Convert this dataframe to an interactive table.\"\n",
              "              style=\"display:none;\">\n",
              "        \n",
              "  <svg xmlns=\"http://www.w3.org/2000/svg\" height=\"24px\"viewBox=\"0 0 24 24\"\n",
              "       width=\"24px\">\n",
              "    <path d=\"M0 0h24v24H0V0z\" fill=\"none\"/>\n",
              "    <path d=\"M18.56 5.44l.94 2.06.94-2.06 2.06-.94-2.06-.94-.94-2.06-.94 2.06-2.06.94zm-11 1L8.5 8.5l.94-2.06 2.06-.94-2.06-.94L8.5 2.5l-.94 2.06-2.06.94zm10 10l.94 2.06.94-2.06 2.06-.94-2.06-.94-.94-2.06-.94 2.06-2.06.94z\"/><path d=\"M17.41 7.96l-1.37-1.37c-.4-.4-.92-.59-1.43-.59-.52 0-1.04.2-1.43.59L10.3 9.45l-7.72 7.72c-.78.78-.78 2.05 0 2.83L4 21.41c.39.39.9.59 1.41.59.51 0 1.02-.2 1.41-.59l7.78-7.78 2.81-2.81c.8-.78.8-2.07 0-2.86zM5.41 20L4 18.59l7.72-7.72 1.47 1.35L5.41 20z\"/>\n",
              "  </svg>\n",
              "      </button>\n",
              "      \n",
              "  <style>\n",
              "    .colab-df-container {\n",
              "      display:flex;\n",
              "      flex-wrap:wrap;\n",
              "      gap: 12px;\n",
              "    }\n",
              "\n",
              "    .colab-df-convert {\n",
              "      background-color: #E8F0FE;\n",
              "      border: none;\n",
              "      border-radius: 50%;\n",
              "      cursor: pointer;\n",
              "      display: none;\n",
              "      fill: #1967D2;\n",
              "      height: 32px;\n",
              "      padding: 0 0 0 0;\n",
              "      width: 32px;\n",
              "    }\n",
              "\n",
              "    .colab-df-convert:hover {\n",
              "      background-color: #E2EBFA;\n",
              "      box-shadow: 0px 1px 2px rgba(60, 64, 67, 0.3), 0px 1px 3px 1px rgba(60, 64, 67, 0.15);\n",
              "      fill: #174EA6;\n",
              "    }\n",
              "\n",
              "    [theme=dark] .colab-df-convert {\n",
              "      background-color: #3B4455;\n",
              "      fill: #D2E3FC;\n",
              "    }\n",
              "\n",
              "    [theme=dark] .colab-df-convert:hover {\n",
              "      background-color: #434B5C;\n",
              "      box-shadow: 0px 1px 3px 1px rgba(0, 0, 0, 0.15);\n",
              "      filter: drop-shadow(0px 1px 2px rgba(0, 0, 0, 0.3));\n",
              "      fill: #FFFFFF;\n",
              "    }\n",
              "  </style>\n",
              "\n",
              "      <script>\n",
              "        const buttonEl =\n",
              "          document.querySelector('#df-5f2d2d22-00a9-4fbb-aeac-aaf4198f664d button.colab-df-convert');\n",
              "        buttonEl.style.display =\n",
              "          google.colab.kernel.accessAllowed ? 'block' : 'none';\n",
              "\n",
              "        async function convertToInteractive(key) {\n",
              "          const element = document.querySelector('#df-5f2d2d22-00a9-4fbb-aeac-aaf4198f664d');\n",
              "          const dataTable =\n",
              "            await google.colab.kernel.invokeFunction('convertToInteractive',\n",
              "                                                     [key], {});\n",
              "          if (!dataTable) return;\n",
              "\n",
              "          const docLinkHtml = 'Like what you see? Visit the ' +\n",
              "            '<a target=\"_blank\" href=https://colab.research.google.com/notebooks/data_table.ipynb>data table notebook</a>'\n",
              "            + ' to learn more about interactive tables.';\n",
              "          element.innerHTML = '';\n",
              "          dataTable['output_type'] = 'display_data';\n",
              "          await google.colab.output.renderOutput(dataTable, element);\n",
              "          const docLink = document.createElement('div');\n",
              "          docLink.innerHTML = docLinkHtml;\n",
              "          element.appendChild(docLink);\n",
              "        }\n",
              "      </script>\n",
              "    </div>\n",
              "  </div>\n",
              "  "
            ]
          },
          "metadata": {},
          "execution_count": 43
        }
      ]
    },
    {
      "cell_type": "code",
      "source": [
        "data[data['Style'].isna()].index"
      ],
      "metadata": {
        "id": "t0LYZhuNadWR",
        "colab": {
          "base_uri": "https://localhost:8080/"
        },
        "outputId": "7e380ad2-f488-44ee-c990-3d76cba687c3"
      },
      "execution_count": null,
      "outputs": [
        {
          "output_type": "execute_result",
          "data": {
            "text/plain": [
              "Int64Index([2152, 2442], dtype='int64')"
            ]
          },
          "metadata": {},
          "execution_count": 44
        }
      ]
    },
    {
      "cell_type": "markdown",
      "metadata": {
        "id": "Q7so3QAbrFso"
      },
      "source": [
        "- 결측값(비어있는 값) 처리방법\n",
        "    - 처리 방법 1)삭제 2)평균값 3)중앙값 4)최빈값 5)예측알고리즘 등으로 대체값 찾기\n",
        "    - 어떤 방법으로 처리 할지는 데이터 성격과 상황에 따라 다를 수밖에 없음"
      ]
    },
    {
      "cell_type": "code",
      "metadata": {
        "id": "IJRk0cGHrFso",
        "colab": {
          "base_uri": "https://localhost:8080/"
        },
        "outputId": "b330356e-d5fc-491a-c3e6-ac01b115ca82"
      },
      "source": [
        "# 2152행- Kamfen사가 China에서 어떤 Style의 라면을 주로 파는지 파악하기\n",
        "kamfen = data[data['Brand']=='Kamfen']\n",
        "kamfen_ch = kamfen[kamfen['Country']=='China']\n",
        "kamfen_ch['Style'].value_counts()"
      ],
      "execution_count": null,
      "outputs": [
        {
          "output_type": "execute_result",
          "data": {
            "text/plain": [
              "Pack    4\n",
              "Tray    3\n",
              "Name: Style, dtype: int64"
            ]
          },
          "metadata": {},
          "execution_count": 45
        }
      ]
    },
    {
      "cell_type": "code",
      "metadata": {
        "id": "MvzWYM9ErFsr",
        "colab": {
          "base_uri": "https://localhost:8080/"
        },
        "outputId": "abde8e0d-6ef5-4cc3-a0bb-26cd6901883f"
      },
      "source": [
        "# 2442행- Unif사가 Taiwan에서 어떤 Style의 라면을 주로 파는지 파악\n",
        "unif = data[data['Brand']=='Unif']\n",
        "unif_tw = unif[unif['Country']=='Taiwan']\n",
        "unif_tw['Style'].value_counts()"
      ],
      "execution_count": null,
      "outputs": [
        {
          "output_type": "execute_result",
          "data": {
            "text/plain": [
              "Bowl    7\n",
              "Pack    3\n",
              "Name: Style, dtype: int64"
            ]
          },
          "metadata": {},
          "execution_count": 47
        }
      ]
    },
    {
      "cell_type": "markdown",
      "source": [
        "```\n",
        "#데이터프레임 인덱싱하기(특정 데이터에 접근)\n",
        "dataframe명[칼럼명] #특정 칼럼만\n",
        "dataframe명.loc[행, 열]\n",
        "dataframe명.iloc[행index, 열index]\n",
        "```\n",
        "\n"
      ],
      "metadata": {
        "id": "DHAdHUToR5dU"
      }
    },
    {
      "cell_type": "markdown",
      "source": [
        "- Kamfen 사는 Pack/ Tray의 개수가 비슷하고, Unif 사는 Bowl이 2배 이상으로 많은 것을 알 수 있습니다.\n",
        "- 데이터 분석에는 분석자의 판단이 개입/적용되는 것이 보이시지요? 여기서는 간단히 최빈값으로 적용해보겠습니다!"
      ],
      "metadata": {
        "id": "TTvZbZqVBzrm"
      }
    },
    {
      "cell_type": "code",
      "metadata": {
        "id": "1wzYRcgzrFsu",
        "colab": {
          "base_uri": "https://localhost:8080/"
        },
        "outputId": "e989844e-507c-4457-e8be-6f5eb165e6fe"
      },
      "source": [
        "# 결측값을 최빈값으로 채우기\n",
        "#data의 2152행의 Style 칼럼값을 'Pack' 으로 지정함\n",
        "data.loc[2152,'Style'] = 'Pack'\n",
        "#data의 2442행의 Style 칼럼값을 'Bowl' 로 지정함\n",
        "data.loc[2442,'Style'] = 'Bowl'\n",
        "#제대로 반영이 되었나 확인\n",
        "data.isna().sum()"
      ],
      "execution_count": null,
      "outputs": [
        {
          "output_type": "execute_result",
          "data": {
            "text/plain": [
              "Review #       0\n",
              "Brand          0\n",
              "Variety        0\n",
              "Style          0\n",
              "Country        0\n",
              "Stars          0\n",
              "Top Ten     2539\n",
              "dtype: int64"
            ]
          },
          "metadata": {},
          "execution_count": 48
        }
      ]
    },
    {
      "cell_type": "markdown",
      "metadata": {
        "id": "9Qkpm0hqrFs1"
      },
      "source": [
        "- 만약 결측데이터가 가치가 없다고 판단되면 삭제하는 것도 방법\n",
        "\n",
        "\n",
        "\n",
        "```\n",
        "# dropna함수 사용\n",
        "# Style에서 결측데이터를 가지고 있는 행을 삭제\n",
        "# dropna시 subset을 명시하지 않으면 DataFrame 전체(column, row)에 대해 삭제를 진행, inplace는 원본에 반영여부를 묻는 것\n",
        "data.dropna(subset=['Style'], inplace= True)\n",
        "# 잘 반영되었나 확인\n",
        "data['Style'].isna().sum()\n",
        "```\n",
        "\n"
      ]
    },
    {
      "cell_type": "markdown",
      "metadata": {
        "id": "QBOz90rSrFs4"
      },
      "source": [
        "#### Stars 컬럼\n",
        "![image.png](data:image/png;base64,iVBORw0KGgoAAAANSUhEUgAAAOoAAAARCAYAAADTwTCUAAAAAXNSR0IArs4c6QAAAARnQU1BAACxjwv8YQUAAAAJcEhZcwAADsMAAA7DAcdvqGQAAAHzSURBVGhD7ZsBbsMgDEW73SS9/5l6la3W8jXXsx3MQkOb/yQUsDHYTgi0aj++7lwIIVPzuV4JIRPDhUrIC+Aefa/X61r74Xa7rbVzE+XFykGk1/k8Q64lxiiuTPcsWnw43E9ZqJplWdbaL1rm6c9AlpcsJ1W7bKxXpZqfZ9Piw95+Vsfj0ZeQBo7e9ZsWKpzEMU2uqGsgj3S4Wj1knm4Wjr5RmpZ8eTptY3UZmZ03jiebBS8GsKXzgE1k6+lQt/KUdWd9oOeoYuVe27Ntlc2G9hGx6QJ0HUCW6TJsn6wd1QXbjmgdH1TmyXR7E/kt9UgHemRWn+m2cHdU2T1Kq/1Oy47TuivNtHt5SF6sj9LWBblDXReRjcKOr33J0P7p8i5ILFleenKWYecTbLtCePSVQasOS1+UVjBHxeZIxM/KDUB/XWaM1fqIQnLw7KKMYvMzqtysFgekT+8Nhs3oYP8LYiQE4NnVZQR/FuqRCwWBzrhYs0U688uFvAdN3/pWqTy4fMj3xb7oshfMCGa9n1t52StnGMfOJ9h2ha5fJmlnNJ6T6CNt2x9szTcD1keg49PoGHp1EWJjx7B2GDfr59l5bNlhLkHklXky3Qjgq+efpwORn7ABto/WRzpvXAv/PUNIQmUxjYQLlZAXYMhnVELInlwu3yW4+18uvIQYAAAAAElFTkSuQmCC)\n",
        "- 현재 Stars는 문자형태의 값이 저장되어있으므로 숫자로 변경하고, 변경이 불가한  값이 있는지 확인할 필요가 있음!"
      ]
    },
    {
      "cell_type": "code",
      "source": [
        "for s in data['Stars']:\n",
        "    #Stars의 값을 실수(float)로 타입변경\n",
        "    s = float(s)"
      ],
      "metadata": {
        "id": "OeFlojIFE4xf",
        "colab": {
          "base_uri": "https://localhost:8080/",
          "height": 201
        },
        "outputId": "42324f87-46b6-4156-fe8c-7a86b91d0d05"
      },
      "execution_count": null,
      "outputs": [
        {
          "output_type": "error",
          "ename": "ValueError",
          "evalue": "ignored",
          "traceback": [
            "\u001b[0;31m---------------------------------------------------------------------------\u001b[0m",
            "\u001b[0;31mValueError\u001b[0m                                Traceback (most recent call last)",
            "\u001b[0;32m<ipython-input-49-e3f314878422>\u001b[0m in \u001b[0;36m<module>\u001b[0;34m\u001b[0m\n\u001b[1;32m      1\u001b[0m \u001b[0;32mfor\u001b[0m \u001b[0ms\u001b[0m \u001b[0;32min\u001b[0m \u001b[0mdata\u001b[0m\u001b[0;34m[\u001b[0m\u001b[0;34m'Stars'\u001b[0m\u001b[0;34m]\u001b[0m\u001b[0;34m:\u001b[0m\u001b[0;34m\u001b[0m\u001b[0;34m\u001b[0m\u001b[0m\n\u001b[1;32m      2\u001b[0m     \u001b[0;31m#Stars의 값을 실수(float)로 타입변경\u001b[0m\u001b[0;34m\u001b[0m\u001b[0;34m\u001b[0m\u001b[0m\n\u001b[0;32m----> 3\u001b[0;31m     \u001b[0ms\u001b[0m \u001b[0;34m=\u001b[0m \u001b[0mfloat\u001b[0m\u001b[0;34m(\u001b[0m\u001b[0ms\u001b[0m\u001b[0;34m)\u001b[0m\u001b[0;34m\u001b[0m\u001b[0;34m\u001b[0m\u001b[0m\n\u001b[0m",
            "\u001b[0;31mValueError\u001b[0m: could not convert string to float: 'Unrated'"
          ]
        }
      ]
    },
    {
      "cell_type": "code",
      "metadata": {
        "id": "-nu1tUPHrFs5",
        "colab": {
          "base_uri": "https://localhost:8080/"
        },
        "outputId": "1a701cf9-19e8-413b-d329-99234b8a743f"
      },
      "source": [
        "#try-except 구문: try에 적힌 명령을 시도하고, 오류가 나면 except에 따름\n",
        "for i, s in enumerate(data['Stars']):\n",
        "  try:#Stars의 값을 실수(float)로 타입변경을 시도!\n",
        "        s = float(s)\n",
        "\n",
        "  except: #try하여 오류가 날 경우 실행하는 코드\n",
        "        print(i,s)\n",
        ""
      ],
      "execution_count": null,
      "outputs": [
        {
          "output_type": "stream",
          "name": "stdout",
          "text": [
            "32 Unrated\n",
            "122 Unrated\n",
            "993 Unrated\n"
          ]
        }
      ]
    },
    {
      "cell_type": "code",
      "metadata": {
        "id": "mRqwMsV1rFs7",
        "colab": {
          "base_uri": "https://localhost:8080/",
          "height": 143
        },
        "outputId": "6618ff20-47fd-458b-f18f-fc6ffd5b5a81"
      },
      "source": [
        "#Stars값이 Unrated인것만 추출\n",
        "data[data['Stars']=='Unrated']\n"
      ],
      "execution_count": null,
      "outputs": [
        {
          "output_type": "execute_result",
          "data": {
            "text/plain": [
              "     Review #          Brand                                Variety Style  \\\n",
              "32       2548         Ottogi  Plain Instant Noodle No Soup Included  Pack   \n",
              "122      2458  Samyang Foods                             Sari Ramen  Pack   \n",
              "993      1587       Mi E-Zee                          Plain Noodles  Pack   \n",
              "\n",
              "         Country    Stars Top Ten  \n",
              "32   South Korea  Unrated     NaN  \n",
              "122  South Korea  Unrated     NaN  \n",
              "993     Malaysia  Unrated     NaN  "
            ],
            "text/html": [
              "\n",
              "  <div id=\"df-f0e60e40-b00d-4a20-83bd-072c848ecd13\">\n",
              "    <div class=\"colab-df-container\">\n",
              "      <div>\n",
              "<style scoped>\n",
              "    .dataframe tbody tr th:only-of-type {\n",
              "        vertical-align: middle;\n",
              "    }\n",
              "\n",
              "    .dataframe tbody tr th {\n",
              "        vertical-align: top;\n",
              "    }\n",
              "\n",
              "    .dataframe thead th {\n",
              "        text-align: right;\n",
              "    }\n",
              "</style>\n",
              "<table border=\"1\" class=\"dataframe\">\n",
              "  <thead>\n",
              "    <tr style=\"text-align: right;\">\n",
              "      <th></th>\n",
              "      <th>Review #</th>\n",
              "      <th>Brand</th>\n",
              "      <th>Variety</th>\n",
              "      <th>Style</th>\n",
              "      <th>Country</th>\n",
              "      <th>Stars</th>\n",
              "      <th>Top Ten</th>\n",
              "    </tr>\n",
              "  </thead>\n",
              "  <tbody>\n",
              "    <tr>\n",
              "      <th>32</th>\n",
              "      <td>2548</td>\n",
              "      <td>Ottogi</td>\n",
              "      <td>Plain Instant Noodle No Soup Included</td>\n",
              "      <td>Pack</td>\n",
              "      <td>South Korea</td>\n",
              "      <td>Unrated</td>\n",
              "      <td>NaN</td>\n",
              "    </tr>\n",
              "    <tr>\n",
              "      <th>122</th>\n",
              "      <td>2458</td>\n",
              "      <td>Samyang Foods</td>\n",
              "      <td>Sari Ramen</td>\n",
              "      <td>Pack</td>\n",
              "      <td>South Korea</td>\n",
              "      <td>Unrated</td>\n",
              "      <td>NaN</td>\n",
              "    </tr>\n",
              "    <tr>\n",
              "      <th>993</th>\n",
              "      <td>1587</td>\n",
              "      <td>Mi E-Zee</td>\n",
              "      <td>Plain Noodles</td>\n",
              "      <td>Pack</td>\n",
              "      <td>Malaysia</td>\n",
              "      <td>Unrated</td>\n",
              "      <td>NaN</td>\n",
              "    </tr>\n",
              "  </tbody>\n",
              "</table>\n",
              "</div>\n",
              "      <button class=\"colab-df-convert\" onclick=\"convertToInteractive('df-f0e60e40-b00d-4a20-83bd-072c848ecd13')\"\n",
              "              title=\"Convert this dataframe to an interactive table.\"\n",
              "              style=\"display:none;\">\n",
              "        \n",
              "  <svg xmlns=\"http://www.w3.org/2000/svg\" height=\"24px\"viewBox=\"0 0 24 24\"\n",
              "       width=\"24px\">\n",
              "    <path d=\"M0 0h24v24H0V0z\" fill=\"none\"/>\n",
              "    <path d=\"M18.56 5.44l.94 2.06.94-2.06 2.06-.94-2.06-.94-.94-2.06-.94 2.06-2.06.94zm-11 1L8.5 8.5l.94-2.06 2.06-.94-2.06-.94L8.5 2.5l-.94 2.06-2.06.94zm10 10l.94 2.06.94-2.06 2.06-.94-2.06-.94-.94-2.06-.94 2.06-2.06.94z\"/><path d=\"M17.41 7.96l-1.37-1.37c-.4-.4-.92-.59-1.43-.59-.52 0-1.04.2-1.43.59L10.3 9.45l-7.72 7.72c-.78.78-.78 2.05 0 2.83L4 21.41c.39.39.9.59 1.41.59.51 0 1.02-.2 1.41-.59l7.78-7.78 2.81-2.81c.8-.78.8-2.07 0-2.86zM5.41 20L4 18.59l7.72-7.72 1.47 1.35L5.41 20z\"/>\n",
              "  </svg>\n",
              "      </button>\n",
              "      \n",
              "  <style>\n",
              "    .colab-df-container {\n",
              "      display:flex;\n",
              "      flex-wrap:wrap;\n",
              "      gap: 12px;\n",
              "    }\n",
              "\n",
              "    .colab-df-convert {\n",
              "      background-color: #E8F0FE;\n",
              "      border: none;\n",
              "      border-radius: 50%;\n",
              "      cursor: pointer;\n",
              "      display: none;\n",
              "      fill: #1967D2;\n",
              "      height: 32px;\n",
              "      padding: 0 0 0 0;\n",
              "      width: 32px;\n",
              "    }\n",
              "\n",
              "    .colab-df-convert:hover {\n",
              "      background-color: #E2EBFA;\n",
              "      box-shadow: 0px 1px 2px rgba(60, 64, 67, 0.3), 0px 1px 3px 1px rgba(60, 64, 67, 0.15);\n",
              "      fill: #174EA6;\n",
              "    }\n",
              "\n",
              "    [theme=dark] .colab-df-convert {\n",
              "      background-color: #3B4455;\n",
              "      fill: #D2E3FC;\n",
              "    }\n",
              "\n",
              "    [theme=dark] .colab-df-convert:hover {\n",
              "      background-color: #434B5C;\n",
              "      box-shadow: 0px 1px 3px 1px rgba(0, 0, 0, 0.15);\n",
              "      filter: drop-shadow(0px 1px 2px rgba(0, 0, 0, 0.3));\n",
              "      fill: #FFFFFF;\n",
              "    }\n",
              "  </style>\n",
              "\n",
              "      <script>\n",
              "        const buttonEl =\n",
              "          document.querySelector('#df-f0e60e40-b00d-4a20-83bd-072c848ecd13 button.colab-df-convert');\n",
              "        buttonEl.style.display =\n",
              "          google.colab.kernel.accessAllowed ? 'block' : 'none';\n",
              "\n",
              "        async function convertToInteractive(key) {\n",
              "          const element = document.querySelector('#df-f0e60e40-b00d-4a20-83bd-072c848ecd13');\n",
              "          const dataTable =\n",
              "            await google.colab.kernel.invokeFunction('convertToInteractive',\n",
              "                                                     [key], {});\n",
              "          if (!dataTable) return;\n",
              "\n",
              "          const docLinkHtml = 'Like what you see? Visit the ' +\n",
              "            '<a target=\"_blank\" href=https://colab.research.google.com/notebooks/data_table.ipynb>data table notebook</a>'\n",
              "            + ' to learn more about interactive tables.';\n",
              "          element.innerHTML = '';\n",
              "          dataTable['output_type'] = 'display_data';\n",
              "          await google.colab.output.renderOutput(dataTable, element);\n",
              "          const docLink = document.createElement('div');\n",
              "          docLink.innerHTML = docLinkHtml;\n",
              "          element.appendChild(docLink);\n",
              "        }\n",
              "      </script>\n",
              "    </div>\n",
              "  </div>\n",
              "  "
            ]
          },
          "metadata": {},
          "execution_count": 53
        }
      ]
    },
    {
      "cell_type": "markdown",
      "metadata": {
        "id": "EiyBvEm3rFs-"
      },
      "source": [
        "Variety를 보고 해당 데이터들의 공통점을 찾아보세요!\n",
        "\n",
        "그럼 Stars값을 어떤 값으로 대체하면 될까요?"
      ]
    },
    {
      "cell_type": "code",
      "source": [
        "unratedlist = data[data['Stars']=='Unrated'].index"
      ],
      "metadata": {
        "id": "M4wERYJreuLN"
      },
      "execution_count": null,
      "outputs": []
    },
    {
      "cell_type": "code",
      "source": [
        "data.loc[unratedlist, 'Stars'] = 0\n",
        "# 특정값을 대체할 때 replace도 자주 사용함. 형태: DataFrame명[칼럼명].replace({변경전:변경후}, inplace=True)"
      ],
      "metadata": {
        "id": "2NwCeB0Ee1L1"
      },
      "execution_count": null,
      "outputs": []
    },
    {
      "cell_type": "code",
      "source": [
        "#반영결과 확인\n",
        "data[data['Stars']=='Unrated']['Stars'].sum()"
      ],
      "metadata": {
        "id": "uUwXJvL_fBur",
        "colab": {
          "base_uri": "https://localhost:8080/"
        },
        "outputId": "c5e74245-4fe1-4ad7-b127-55cbfc2d37f8"
      },
      "execution_count": null,
      "outputs": [
        {
          "output_type": "execute_result",
          "data": {
            "text/plain": [
              "0"
            ]
          },
          "metadata": {},
          "execution_count": 56
        }
      ]
    },
    {
      "cell_type": "markdown",
      "metadata": {
        "id": "V8A9RFw9rFtB"
      },
      "source": [
        "앞서 Stars칼럼은 object 타입(문자열)임을 확인했으므로 숫자 타입으로 변경해봅시다"
      ]
    },
    {
      "cell_type": "markdown",
      "source": [
        "\n",
        "```\n",
        "pd.to_numeric(숫자로 변경할 대상, errors='ignore/raise/coerce') #숫자 변경이 안될 경우 원본을 그대로 반환/에러일으킴/NaN으로 변경\n",
        "DataFrame명.astype(변환할 문자형)\n",
        "```\n",
        "\n"
      ],
      "metadata": {
        "id": "cKULY3wUFXCe"
      }
    },
    {
      "cell_type": "code",
      "metadata": {
        "id": "n9dpL1wLrFtC",
        "colab": {
          "base_uri": "https://localhost:8080/"
        },
        "outputId": "9c6ba82f-345a-46c9-e890-e2a2fbb4931c"
      },
      "source": [
        "print('변경 전', data['Stars'].dtypes)\n",
        "data['Stars'] = pd.to_numeric(data['Stars'])\n",
        "print('변경 후', data['Stars'].dtypes)"
      ],
      "execution_count": null,
      "outputs": [
        {
          "output_type": "stream",
          "name": "stdout",
          "text": [
            "변경 전 object\n",
            "변경 후 float64\n"
          ]
        }
      ]
    },
    {
      "cell_type": "code",
      "source": [
        "data['Stars'].describe()"
      ],
      "metadata": {
        "id": "maSKHBZpjNda",
        "colab": {
          "base_uri": "https://localhost:8080/"
        },
        "outputId": "614fd093-ea19-4103-d76a-40fd07cc434b"
      },
      "execution_count": null,
      "outputs": [
        {
          "output_type": "execute_result",
          "data": {
            "text/plain": [
              "count    2580.000000\n",
              "mean        3.650426\n",
              "std         1.022358\n",
              "min         0.000000\n",
              "25%         3.250000\n",
              "50%         3.750000\n",
              "75%         4.250000\n",
              "max         5.000000\n",
              "Name: Stars, dtype: float64"
            ]
          },
          "metadata": {},
          "execution_count": 58
        }
      ]
    },
    {
      "cell_type": "markdown",
      "metadata": {
        "id": "G_TDPtZvrFtF"
      },
      "source": [
        "### 3.데이터 시각화\n",
        "- 데이터 시각화를 통해 데이터에 대한 통찰을 얻는다."
      ]
    },
    {
      "cell_type": "code",
      "metadata": {
        "id": "PztLRE2cgX4h"
      },
      "source": [
        "import matplotlib.pyplot as plt\n",
        "import seaborn as sns"
      ],
      "execution_count": null,
      "outputs": []
    },
    {
      "cell_type": "markdown",
      "metadata": {
        "id": "ueNHud4CrFtI"
      },
      "source": [
        "#### Style별 비율"
      ]
    },
    {
      "cell_type": "code",
      "metadata": {
        "id": "hGKdOu7lrFtJ",
        "colab": {
          "base_uri": "https://localhost:8080/",
          "height": 248
        },
        "outputId": "bb993cd1-d702-4043-864d-882a5366b0a8"
      },
      "source": [
        "style_count = data['Style'].value_counts()\n",
        "labels = style_count.index\n",
        "\n",
        "plt.figure()\n",
        "plt.pie(style_count, labels=labels, autopct='%.2f%%', startangle=180)\n",
        "plt.show()"
      ],
      "execution_count": null,
      "outputs": [
        {
          "output_type": "display_data",
          "data": {
            "text/plain": [
              "<Figure size 432x288 with 1 Axes>"
            ],
            "image/png": "[encoded data removed]"
          },
          "metadata": {}
        }
      ]
    },
    {
      "cell_type": "markdown",
      "metadata": {
        "id": "hQevqZgSrFtL"
      },
      "source": [
        "#### 나라별 브랜드 개수"
      ]
    },
    {
      "cell_type": "code",
      "metadata": {
        "id": "RNEVrCjcrFtL",
        "colab": {
          "base_uri": "https://localhost:8080/",
          "height": 1000
        },
        "outputId": "81db3740-c201-45f5-8101-57b415c1950e"
      },
      "source": [
        "df_cnt_brand = pd.DataFrame(data.groupby('Country')['Brand'].unique())\n",
        "df_cnt_brand"
      ],
      "execution_count": null,
      "outputs": [
        {
          "output_type": "execute_result",
          "data": {
            "text/plain": [
              "                                                           Brand\n",
              "Country                                                         \n",
              "Australia          [Fantastic, Suimin, Singa-Me, Maggi, Trident]\n",
              "Bangladesh                                    [Pran, MAMA, Mama]\n",
              "Brazil                                                  [Nissin]\n",
              "Cambodia                                            [MAMA, Mama]\n",
              "Canada         [Great Value, Azami, Western Family, No Name, ...\n",
              "China          [Sichuan Guangyou, Uni-President, Nissin, Mast...\n",
              "Colombia                                                [Nissin]\n",
              "Dubai                                               [Golden Mie]\n",
              "Estonia                                                 [Baltix]\n",
              "Fiji                                                [Maggi, FMF]\n",
              "Finland                                                 [Pirkka]\n",
              "Germany                      [Nissin, Bonasia, Thai Chef, Bamee]\n",
              "Ghana                                            [Yum-Mie, Lele]\n",
              "Holland                                                   [Unox]\n",
              "Hong Kong      [Nissin, Sau Tao, Kang Shi Fu, Kamfen, Fuku, D...\n",
              "Hungary                  [Nissin, Bonasia, Asia Gold, Thai Chef]\n",
              "India          [Ching's Secret, TRDP, Maggi, Nissin, Wai Wai,...\n",
              "Indonesia      [Nissin, Indomie, World O' Noodle, Super Bihun...\n",
              "Japan          [New Touch, Acecook, Ikeda Shoku, Ripe'n'Dry, ...\n",
              "Malaysia       [MyKuali, The Ramen Rater Select, E-Zee, Cinta...\n",
              "Mexico                    [Nissin, Ottogi, Maruchan, La Moderna]\n",
              "Myanmar                                             [MAMA, Mama]\n",
              "Nepal                                         [Asian Thai Foods]\n",
              "Netherlands                      [Conimex, Koh Thai, Unox, iMee]\n",
              "Nigeria                                                [Indomie]\n",
              "Pakistan                                    [Knorr, Morre, Shan]\n",
              "Philippines      [Lucky Me!, Pamana, Payless, Quickchow, Nissin]\n",
              "Poland                                            [Amino, Vifon]\n",
              "Sarawak                          [Lee Fah Mee, The Kitchen Food]\n",
              "Singapore      [KOKA, Nissin, Prima, MyKuali, Myojo, Happy Fa...\n",
              "South Korea    [Samyang Foods, Nongshim, Paldo, Ottogi, Guava...\n",
              "Sweden                                              [ICA, Katoz]\n",
              "Taiwan         [Just Way, Wei Lih, Uni-President, Mom's Dry N...\n",
              "Thailand       [Tao Kae Noi, Fashion Food, Nissin, MAMA, Pres...\n",
              "UK             [Mr. Lee's Noodles, Urban Noodle, Kabuto Noodl...\n",
              "USA            [Nissin, Yamachan, Jackpot Teriyaki, Lipton, P...\n",
              "United States                                         [Nongshim]\n",
              "Vietnam        [Binh Tay, Uni-President, Mum Ngon, Vifon, Ace..."
            ],
            "text/html": [
              "\n",
              "  <div id=\"df-bfce081e-74ce-48b0-aaa7-0d35070a3f0c\">\n",
              "    <div class=\"colab-df-container\">\n",
              "      <div>\n",
              "<style scoped>\n",
              "    .dataframe tbody tr th:only-of-type {\n",
              "        vertical-align: middle;\n",
              "    }\n",
              "\n",
              "    .dataframe tbody tr th {\n",
              "        vertical-align: top;\n",
              "    }\n",
              "\n",
              "    .dataframe thead th {\n",
              "        text-align: right;\n",
              "    }\n",
              "</style>\n",
              "<table border=\"1\" class=\"dataframe\">\n",
              "  <thead>\n",
              "    <tr style=\"text-align: right;\">\n",
              "      <th></th>\n",
              "      <th>Brand</th>\n",
              "    </tr>\n",
              "    <tr>\n",
              "      <th>Country</th>\n",
              "      <th></th>\n",
              "    </tr>\n",
              "  </thead>\n",
              "  <tbody>\n",
              "    <tr>\n",
              "      <th>Australia</th>\n",
              "      <td>[Fantastic, Suimin, Singa-Me, Maggi, Trident]</td>\n",
              "    </tr>\n",
              "    <tr>\n",
              "      <th>Bangladesh</th>\n",
              "      <td>[Pran, MAMA, Mama]</td>\n",
              "    </tr>\n",
              "    <tr>\n",
              "      <th>Brazil</th>\n",
              "      <td>[Nissin]</td>\n",
              "    </tr>\n",
              "    <tr>\n",
              "      <th>Cambodia</th>\n",
              "      <td>[MAMA, Mama]</td>\n",
              "    </tr>\n",
              "    <tr>\n",
              "      <th>Canada</th>\n",
              "      <td>[Great Value, Azami, Western Family, No Name, ...</td>\n",
              "    </tr>\n",
              "    <tr>\n",
              "      <th>China</th>\n",
              "      <td>[Sichuan Guangyou, Uni-President, Nissin, Mast...</td>\n",
              "    </tr>\n",
              "    <tr>\n",
              "      <th>Colombia</th>\n",
              "      <td>[Nissin]</td>\n",
              "    </tr>\n",
              "    <tr>\n",
              "      <th>Dubai</th>\n",
              "      <td>[Golden Mie]</td>\n",
              "    </tr>\n",
              "    <tr>\n",
              "      <th>Estonia</th>\n",
              "      <td>[Baltix]</td>\n",
              "    </tr>\n",
              "    <tr>\n",
              "      <th>Fiji</th>\n",
              "      <td>[Maggi, FMF]</td>\n",
              "    </tr>\n",
              "    <tr>\n",
              "      <th>Finland</th>\n",
              "      <td>[Pirkka]</td>\n",
              "    </tr>\n",
              "    <tr>\n",
              "      <th>Germany</th>\n",
              "      <td>[Nissin, Bonasia, Thai Chef, Bamee]</td>\n",
              "    </tr>\n",
              "    <tr>\n",
              "      <th>Ghana</th>\n",
              "      <td>[Yum-Mie, Lele]</td>\n",
              "    </tr>\n",
              "    <tr>\n",
              "      <th>Holland</th>\n",
              "      <td>[Unox]</td>\n",
              "    </tr>\n",
              "    <tr>\n",
              "      <th>Hong Kong</th>\n",
              "      <td>[Nissin, Sau Tao, Kang Shi Fu, Kamfen, Fuku, D...</td>\n",
              "    </tr>\n",
              "    <tr>\n",
              "      <th>Hungary</th>\n",
              "      <td>[Nissin, Bonasia, Asia Gold, Thai Chef]</td>\n",
              "    </tr>\n",
              "    <tr>\n",
              "      <th>India</th>\n",
              "      <td>[Ching's Secret, TRDP, Maggi, Nissin, Wai Wai,...</td>\n",
              "    </tr>\n",
              "    <tr>\n",
              "      <th>Indonesia</th>\n",
              "      <td>[Nissin, Indomie, World O' Noodle, Super Bihun...</td>\n",
              "    </tr>\n",
              "    <tr>\n",
              "      <th>Japan</th>\n",
              "      <td>[New Touch, Acecook, Ikeda Shoku, Ripe'n'Dry, ...</td>\n",
              "    </tr>\n",
              "    <tr>\n",
              "      <th>Malaysia</th>\n",
              "      <td>[MyKuali, The Ramen Rater Select, E-Zee, Cinta...</td>\n",
              "    </tr>\n",
              "    <tr>\n",
              "      <th>Mexico</th>\n",
              "      <td>[Nissin, Ottogi, Maruchan, La Moderna]</td>\n",
              "    </tr>\n",
              "    <tr>\n",
              "      <th>Myanmar</th>\n",
              "      <td>[MAMA, Mama]</td>\n",
              "    </tr>\n",
              "    <tr>\n",
              "      <th>Nepal</th>\n",
              "      <td>[Asian Thai Foods]</td>\n",
              "    </tr>\n",
              "    <tr>\n",
              "      <th>Netherlands</th>\n",
              "      <td>[Conimex, Koh Thai, Unox, iMee]</td>\n",
              "    </tr>\n",
              "    <tr>\n",
              "      <th>Nigeria</th>\n",
              "      <td>[Indomie]</td>\n",
              "    </tr>\n",
              "    <tr>\n",
              "      <th>Pakistan</th>\n",
              "      <td>[Knorr, Morre, Shan]</td>\n",
              "    </tr>\n",
              "    <tr>\n",
              "      <th>Philippines</th>\n",
              "      <td>[Lucky Me!, Pamana, Payless, Quickchow, Nissin]</td>\n",
              "    </tr>\n",
              "    <tr>\n",
              "      <th>Poland</th>\n",
              "      <td>[Amino, Vifon]</td>\n",
              "    </tr>\n",
              "    <tr>\n",
              "      <th>Sarawak</th>\n",
              "      <td>[Lee Fah Mee, The Kitchen Food]</td>\n",
              "    </tr>\n",
              "    <tr>\n",
              "      <th>Singapore</th>\n",
              "      <td>[KOKA, Nissin, Prima, MyKuali, Myojo, Happy Fa...</td>\n",
              "    </tr>\n",
              "    <tr>\n",
              "      <th>South Korea</th>\n",
              "      <td>[Samyang Foods, Nongshim, Paldo, Ottogi, Guava...</td>\n",
              "    </tr>\n",
              "    <tr>\n",
              "      <th>Sweden</th>\n",
              "      <td>[ICA, Katoz]</td>\n",
              "    </tr>\n",
              "    <tr>\n",
              "      <th>Taiwan</th>\n",
              "      <td>[Just Way, Wei Lih, Uni-President, Mom's Dry N...</td>\n",
              "    </tr>\n",
              "    <tr>\n",
              "      <th>Thailand</th>\n",
              "      <td>[Tao Kae Noi, Fashion Food, Nissin, MAMA, Pres...</td>\n",
              "    </tr>\n",
              "    <tr>\n",
              "      <th>UK</th>\n",
              "      <td>[Mr. Lee's Noodles, Urban Noodle, Kabuto Noodl...</td>\n",
              "    </tr>\n",
              "    <tr>\n",
              "      <th>USA</th>\n",
              "      <td>[Nissin, Yamachan, Jackpot Teriyaki, Lipton, P...</td>\n",
              "    </tr>\n",
              "    <tr>\n",
              "      <th>United States</th>\n",
              "      <td>[Nongshim]</td>\n",
              "    </tr>\n",
              "    <tr>\n",
              "      <th>Vietnam</th>\n",
              "      <td>[Binh Tay, Uni-President, Mum Ngon, Vifon, Ace...</td>\n",
              "    </tr>\n",
              "  </tbody>\n",
              "</table>\n",
              "</div>\n",
              "      <button class=\"colab-df-convert\" onclick=\"convertToInteractive('df-bfce081e-74ce-48b0-aaa7-0d35070a3f0c')\"\n",
              "              title=\"Convert this dataframe to an interactive table.\"\n",
              "              style=\"display:none;\">\n",
              "        \n",
              "  <svg xmlns=\"http://www.w3.org/2000/svg\" height=\"24px\"viewBox=\"0 0 24 24\"\n",
              "       width=\"24px\">\n",
              "    <path d=\"M0 0h24v24H0V0z\" fill=\"none\"/>\n",
              "    <path d=\"M18.56 5.44l.94 2.06.94-2.06 2.06-.94-2.06-.94-.94-2.06-.94 2.06-2.06.94zm-11 1L8.5 8.5l.94-2.06 2.06-.94-2.06-.94L8.5 2.5l-.94 2.06-2.06.94zm10 10l.94 2.06.94-2.06 2.06-.94-2.06-.94-.94-2.06-.94 2.06-2.06.94z\"/><path d=\"M17.41 7.96l-1.37-1.37c-.4-.4-.92-.59-1.43-.59-.52 0-1.04.2-1.43.59L10.3 9.45l-7.72 7.72c-.78.78-.78 2.05 0 2.83L4 21.41c.39.39.9.59 1.41.59.51 0 1.02-.2 1.41-.59l7.78-7.78 2.81-2.81c.8-.78.8-2.07 0-2.86zM5.41 20L4 18.59l7.72-7.72 1.47 1.35L5.41 20z\"/>\n",
              "  </svg>\n",
              "      </button>\n",
              "      \n",
              "  <style>\n",
              "    .colab-df-container {\n",
              "      display:flex;\n",
              "      flex-wrap:wrap;\n",
              "      gap: 12px;\n",
              "    }\n",
              "\n",
              "    .colab-df-convert {\n",
              "      background-color: #E8F0FE;\n",
              "      border: none;\n",
              "      border-radius: 50%;\n",
              "      cursor: pointer;\n",
              "      display: none;\n",
              "      fill: #1967D2;\n",
              "      height: 32px;\n",
              "      padding: 0 0 0 0;\n",
              "      width: 32px;\n",
              "    }\n",
              "\n",
              "    .colab-df-convert:hover {\n",
              "      background-color: #E2EBFA;\n",
              "      box-shadow: 0px 1px 2px rgba(60, 64, 67, 0.3), 0px 1px 3px 1px rgba(60, 64, 67, 0.15);\n",
              "      fill: #174EA6;\n",
              "    }\n",
              "\n",
              "    [theme=dark] .colab-df-convert {\n",
              "      background-color: #3B4455;\n",
              "      fill: #D2E3FC;\n",
              "    }\n",
              "\n",
              "    [theme=dark] .colab-df-convert:hover {\n",
              "      background-color: #434B5C;\n",
              "      box-shadow: 0px 1px 3px 1px rgba(0, 0, 0, 0.15);\n",
              "      filter: drop-shadow(0px 1px 2px rgba(0, 0, 0, 0.3));\n",
              "      fill: #FFFFFF;\n",
              "    }\n",
              "  </style>\n",
              "\n",
              "      <script>\n",
              "        const buttonEl =\n",
              "          document.querySelector('#df-bfce081e-74ce-48b0-aaa7-0d35070a3f0c button.colab-df-convert');\n",
              "        buttonEl.style.display =\n",
              "          google.colab.kernel.accessAllowed ? 'block' : 'none';\n",
              "\n",
              "        async function convertToInteractive(key) {\n",
              "          const element = document.querySelector('#df-bfce081e-74ce-48b0-aaa7-0d35070a3f0c');\n",
              "          const dataTable =\n",
              "            await google.colab.kernel.invokeFunction('convertToInteractive',\n",
              "                                                     [key], {});\n",
              "          if (!dataTable) return;\n",
              "\n",
              "          const docLinkHtml = 'Like what you see? Visit the ' +\n",
              "            '<a target=\"_blank\" href=https://colab.research.google.com/notebooks/data_table.ipynb>data table notebook</a>'\n",
              "            + ' to learn more about interactive tables.';\n",
              "          element.innerHTML = '';\n",
              "          dataTable['output_type'] = 'display_data';\n",
              "          await google.colab.output.renderOutput(dataTable, element);\n",
              "          const docLink = document.createElement('div');\n",
              "          docLink.innerHTML = docLinkHtml;\n",
              "          element.appendChild(docLink);\n",
              "        }\n",
              "      </script>\n",
              "    </div>\n",
              "  </div>\n",
              "  "
            ]
          },
          "metadata": {},
          "execution_count": 73
        }
      ]
    },
    {
      "cell_type": "code",
      "source": [
        "df_cnt_brand['Amount of Brands'] = df_cnt_brand['Brand'].map(lambda x: len(x))\n",
        "df_cnt_brand.head()"
      ],
      "metadata": {
        "id": "-VCpG8YkPmDf",
        "colab": {
          "base_uri": "https://localhost:8080/",
          "height": 237
        },
        "outputId": "3ea57a76-ff1e-4c38-cc89-2a38dd45ff5d"
      },
      "execution_count": null,
      "outputs": [
        {
          "output_type": "execute_result",
          "data": {
            "text/plain": [
              "                                                        Brand  \\\n",
              "Country                                                         \n",
              "Australia       [Fantastic, Suimin, Singa-Me, Maggi, Trident]   \n",
              "Bangladesh                                 [Pran, MAMA, Mama]   \n",
              "Brazil                                               [Nissin]   \n",
              "Cambodia                                         [MAMA, Mama]   \n",
              "Canada      [Great Value, Azami, Western Family, No Name, ...   \n",
              "\n",
              "            Amount of Brands  \n",
              "Country                       \n",
              "Australia                  5  \n",
              "Bangladesh                 3  \n",
              "Brazil                     1  \n",
              "Cambodia                   2  \n",
              "Canada                     9  "
            ],
            "text/html": [
              "\n",
              "  <div id=\"df-5e58a40a-245f-4893-a429-5d71da4f72e7\">\n",
              "    <div class=\"colab-df-container\">\n",
              "      <div>\n",
              "<style scoped>\n",
              "    .dataframe tbody tr th:only-of-type {\n",
              "        vertical-align: middle;\n",
              "    }\n",
              "\n",
              "    .dataframe tbody tr th {\n",
              "        vertical-align: top;\n",
              "    }\n",
              "\n",
              "    .dataframe thead th {\n",
              "        text-align: right;\n",
              "    }\n",
              "</style>\n",
              "<table border=\"1\" class=\"dataframe\">\n",
              "  <thead>\n",
              "    <tr style=\"text-align: right;\">\n",
              "      <th></th>\n",
              "      <th>Brand</th>\n",
              "      <th>Amount of Brands</th>\n",
              "    </tr>\n",
              "    <tr>\n",
              "      <th>Country</th>\n",
              "      <th></th>\n",
              "      <th></th>\n",
              "    </tr>\n",
              "  </thead>\n",
              "  <tbody>\n",
              "    <tr>\n",
              "      <th>Australia</th>\n",
              "      <td>[Fantastic, Suimin, Singa-Me, Maggi, Trident]</td>\n",
              "      <td>5</td>\n",
              "    </tr>\n",
              "    <tr>\n",
              "      <th>Bangladesh</th>\n",
              "      <td>[Pran, MAMA, Mama]</td>\n",
              "      <td>3</td>\n",
              "    </tr>\n",
              "    <tr>\n",
              "      <th>Brazil</th>\n",
              "      <td>[Nissin]</td>\n",
              "      <td>1</td>\n",
              "    </tr>\n",
              "    <tr>\n",
              "      <th>Cambodia</th>\n",
              "      <td>[MAMA, Mama]</td>\n",
              "      <td>2</td>\n",
              "    </tr>\n",
              "    <tr>\n",
              "      <th>Canada</th>\n",
              "      <td>[Great Value, Azami, Western Family, No Name, ...</td>\n",
              "      <td>9</td>\n",
              "    </tr>\n",
              "  </tbody>\n",
              "</table>\n",
              "</div>\n",
              "      <button class=\"colab-df-convert\" onclick=\"convertToInteractive('df-5e58a40a-245f-4893-a429-5d71da4f72e7')\"\n",
              "              title=\"Convert this dataframe to an interactive table.\"\n",
              "              style=\"display:none;\">\n",
              "        \n",
              "  <svg xmlns=\"http://www.w3.org/2000/svg\" height=\"24px\"viewBox=\"0 0 24 24\"\n",
              "       width=\"24px\">\n",
              "    <path d=\"M0 0h24v24H0V0z\" fill=\"none\"/>\n",
              "    <path d=\"M18.56 5.44l.94 2.06.94-2.06 2.06-.94-2.06-.94-.94-2.06-.94 2.06-2.06.94zm-11 1L8.5 8.5l.94-2.06 2.06-.94-2.06-.94L8.5 2.5l-.94 2.06-2.06.94zm10 10l.94 2.06.94-2.06 2.06-.94-2.06-.94-.94-2.06-.94 2.06-2.06.94z\"/><path d=\"M17.41 7.96l-1.37-1.37c-.4-.4-.92-.59-1.43-.59-.52 0-1.04.2-1.43.59L10.3 9.45l-7.72 7.72c-.78.78-.78 2.05 0 2.83L4 21.41c.39.39.9.59 1.41.59.51 0 1.02-.2 1.41-.59l7.78-7.78 2.81-2.81c.8-.78.8-2.07 0-2.86zM5.41 20L4 18.59l7.72-7.72 1.47 1.35L5.41 20z\"/>\n",
              "  </svg>\n",
              "      </button>\n",
              "      \n",
              "  <style>\n",
              "    .colab-df-container {\n",
              "      display:flex;\n",
              "      flex-wrap:wrap;\n",
              "      gap: 12px;\n",
              "    }\n",
              "\n",
              "    .colab-df-convert {\n",
              "      background-color: #E8F0FE;\n",
              "      border: none;\n",
              "      border-radius: 50%;\n",
              "      cursor: pointer;\n",
              "      display: none;\n",
              "      fill: #1967D2;\n",
              "      height: 32px;\n",
              "      padding: 0 0 0 0;\n",
              "      width: 32px;\n",
              "    }\n",
              "\n",
              "    .colab-df-convert:hover {\n",
              "      background-color: #E2EBFA;\n",
              "      box-shadow: 0px 1px 2px rgba(60, 64, 67, 0.3), 0px 1px 3px 1px rgba(60, 64, 67, 0.15);\n",
              "      fill: #174EA6;\n",
              "    }\n",
              "\n",
              "    [theme=dark] .colab-df-convert {\n",
              "      background-color: #3B4455;\n",
              "      fill: #D2E3FC;\n",
              "    }\n",
              "\n",
              "    [theme=dark] .colab-df-convert:hover {\n",
              "      background-color: #434B5C;\n",
              "      box-shadow: 0px 1px 3px 1px rgba(0, 0, 0, 0.15);\n",
              "      filter: drop-shadow(0px 1px 2px rgba(0, 0, 0, 0.3));\n",
              "      fill: #FFFFFF;\n",
              "    }\n",
              "  </style>\n",
              "\n",
              "      <script>\n",
              "        const buttonEl =\n",
              "          document.querySelector('#df-5e58a40a-245f-4893-a429-5d71da4f72e7 button.colab-df-convert');\n",
              "        buttonEl.style.display =\n",
              "          google.colab.kernel.accessAllowed ? 'block' : 'none';\n",
              "\n",
              "        async function convertToInteractive(key) {\n",
              "          const element = document.querySelector('#df-5e58a40a-245f-4893-a429-5d71da4f72e7');\n",
              "          const dataTable =\n",
              "            await google.colab.kernel.invokeFunction('convertToInteractive',\n",
              "                                                     [key], {});\n",
              "          if (!dataTable) return;\n",
              "\n",
              "          const docLinkHtml = 'Like what you see? Visit the ' +\n",
              "            '<a target=\"_blank\" href=https://colab.research.google.com/notebooks/data_table.ipynb>data table notebook</a>'\n",
              "            + ' to learn more about interactive tables.';\n",
              "          element.innerHTML = '';\n",
              "          dataTable['output_type'] = 'display_data';\n",
              "          await google.colab.output.renderOutput(dataTable, element);\n",
              "          const docLink = document.createElement('div');\n",
              "          docLink.innerHTML = docLinkHtml;\n",
              "          element.appendChild(docLink);\n",
              "        }\n",
              "      </script>\n",
              "    </div>\n",
              "  </div>\n",
              "  "
            ]
          },
          "metadata": {},
          "execution_count": 74
        }
      ]
    },
    {
      "cell_type": "code",
      "source": [
        "df_cnt_brand = df_cnt_brand.sort_values('Amount of Brands', ascending=False)\n",
        "df_cnt_brand = df_cnt_brand.reset_index()\n",
        "df_cnt_brand = df_cnt_brand.drop('Brand',axis=1)\n",
        "df_cnt_brand.head()"
      ],
      "metadata": {
        "id": "ulp1RERSP1ef",
        "colab": {
          "base_uri": "https://localhost:8080/",
          "height": 206
        },
        "outputId": "4d5a1e8c-6827-4d99-c705-76503e5cf1a5"
      },
      "execution_count": null,
      "outputs": [
        {
          "output_type": "execute_result",
          "data": {
            "text/plain": [
              "       Country  Amount of Brands\n",
              "0        Japan                58\n",
              "1          USA                49\n",
              "2       Taiwan                47\n",
              "3  South Korea                35\n",
              "4        China                33"
            ],
            "text/html": [
              "\n",
              "  <div id=\"df-48093409-b821-4ffc-af57-bdf5408fecf4\">\n",
              "    <div class=\"colab-df-container\">\n",
              "      <div>\n",
              "<style scoped>\n",
              "    .dataframe tbody tr th:only-of-type {\n",
              "        vertical-align: middle;\n",
              "    }\n",
              "\n",
              "    .dataframe tbody tr th {\n",
              "        vertical-align: top;\n",
              "    }\n",
              "\n",
              "    .dataframe thead th {\n",
              "        text-align: right;\n",
              "    }\n",
              "</style>\n",
              "<table border=\"1\" class=\"dataframe\">\n",
              "  <thead>\n",
              "    <tr style=\"text-align: right;\">\n",
              "      <th></th>\n",
              "      <th>Country</th>\n",
              "      <th>Amount of Brands</th>\n",
              "    </tr>\n",
              "  </thead>\n",
              "  <tbody>\n",
              "    <tr>\n",
              "      <th>0</th>\n",
              "      <td>Japan</td>\n",
              "      <td>58</td>\n",
              "    </tr>\n",
              "    <tr>\n",
              "      <th>1</th>\n",
              "      <td>USA</td>\n",
              "      <td>49</td>\n",
              "    </tr>\n",
              "    <tr>\n",
              "      <th>2</th>\n",
              "      <td>Taiwan</td>\n",
              "      <td>47</td>\n",
              "    </tr>\n",
              "    <tr>\n",
              "      <th>3</th>\n",
              "      <td>South Korea</td>\n",
              "      <td>35</td>\n",
              "    </tr>\n",
              "    <tr>\n",
              "      <th>4</th>\n",
              "      <td>China</td>\n",
              "      <td>33</td>\n",
              "    </tr>\n",
              "  </tbody>\n",
              "</table>\n",
              "</div>\n",
              "      <button class=\"colab-df-convert\" onclick=\"convertToInteractive('df-48093409-b821-4ffc-af57-bdf5408fecf4')\"\n",
              "              title=\"Convert this dataframe to an interactive table.\"\n",
              "              style=\"display:none;\">\n",
              "        \n",
              "  <svg xmlns=\"http://www.w3.org/2000/svg\" height=\"24px\"viewBox=\"0 0 24 24\"\n",
              "       width=\"24px\">\n",
              "    <path d=\"M0 0h24v24H0V0z\" fill=\"none\"/>\n",
              "    <path d=\"M18.56 5.44l.94 2.06.94-2.06 2.06-.94-2.06-.94-.94-2.06-.94 2.06-2.06.94zm-11 1L8.5 8.5l.94-2.06 2.06-.94-2.06-.94L8.5 2.5l-.94 2.06-2.06.94zm10 10l.94 2.06.94-2.06 2.06-.94-2.06-.94-.94-2.06-.94 2.06-2.06.94z\"/><path d=\"M17.41 7.96l-1.37-1.37c-.4-.4-.92-.59-1.43-.59-.52 0-1.04.2-1.43.59L10.3 9.45l-7.72 7.72c-.78.78-.78 2.05 0 2.83L4 21.41c.39.39.9.59 1.41.59.51 0 1.02-.2 1.41-.59l7.78-7.78 2.81-2.81c.8-.78.8-2.07 0-2.86zM5.41 20L4 18.59l7.72-7.72 1.47 1.35L5.41 20z\"/>\n",
              "  </svg>\n",
              "      </button>\n",
              "      \n",
              "  <style>\n",
              "    .colab-df-container {\n",
              "      display:flex;\n",
              "      flex-wrap:wrap;\n",
              "      gap: 12px;\n",
              "    }\n",
              "\n",
              "    .colab-df-convert {\n",
              "      background-color: #E8F0FE;\n",
              "      border: none;\n",
              "      border-radius: 50%;\n",
              "      cursor: pointer;\n",
              "      display: none;\n",
              "      fill: #1967D2;\n",
              "      height: 32px;\n",
              "      padding: 0 0 0 0;\n",
              "      width: 32px;\n",
              "    }\n",
              "\n",
              "    .colab-df-convert:hover {\n",
              "      background-color: #E2EBFA;\n",
              "      box-shadow: 0px 1px 2px rgba(60, 64, 67, 0.3), 0px 1px 3px 1px rgba(60, 64, 67, 0.15);\n",
              "      fill: #174EA6;\n",
              "    }\n",
              "\n",
              "    [theme=dark] .colab-df-convert {\n",
              "      background-color: #3B4455;\n",
              "      fill: #D2E3FC;\n",
              "    }\n",
              "\n",
              "    [theme=dark] .colab-df-convert:hover {\n",
              "      background-color: #434B5C;\n",
              "      box-shadow: 0px 1px 3px 1px rgba(0, 0, 0, 0.15);\n",
              "      filter: drop-shadow(0px 1px 2px rgba(0, 0, 0, 0.3));\n",
              "      fill: #FFFFFF;\n",
              "    }\n",
              "  </style>\n",
              "\n",
              "      <script>\n",
              "        const buttonEl =\n",
              "          document.querySelector('#df-48093409-b821-4ffc-af57-bdf5408fecf4 button.colab-df-convert');\n",
              "        buttonEl.style.display =\n",
              "          google.colab.kernel.accessAllowed ? 'block' : 'none';\n",
              "\n",
              "        async function convertToInteractive(key) {\n",
              "          const element = document.querySelector('#df-48093409-b821-4ffc-af57-bdf5408fecf4');\n",
              "          const dataTable =\n",
              "            await google.colab.kernel.invokeFunction('convertToInteractive',\n",
              "                                                     [key], {});\n",
              "          if (!dataTable) return;\n",
              "\n",
              "          const docLinkHtml = 'Like what you see? Visit the ' +\n",
              "            '<a target=\"_blank\" href=https://colab.research.google.com/notebooks/data_table.ipynb>data table notebook</a>'\n",
              "            + ' to learn more about interactive tables.';\n",
              "          element.innerHTML = '';\n",
              "          dataTable['output_type'] = 'display_data';\n",
              "          await google.colab.output.renderOutput(dataTable, element);\n",
              "          const docLink = document.createElement('div');\n",
              "          docLink.innerHTML = docLinkHtml;\n",
              "          element.appendChild(docLink);\n",
              "        }\n",
              "      </script>\n",
              "    </div>\n",
              "  </div>\n",
              "  "
            ]
          },
          "metadata": {},
          "execution_count": 75
        }
      ]
    },
    {
      "cell_type": "code",
      "metadata": {
        "id": "4a4uPm3_rFtO",
        "colab": {
          "base_uri": "https://localhost:8080/",
          "height": 394
        },
        "outputId": "0bf0b024-e2cf-4581-f7ee-6f98d03ae7ab"
      },
      "source": [
        "#f, ax = plt.subplots(figsize=(15,5))\n",
        "plt.figure(figsize=(15, 5))\n",
        "plt.bar('Country', 'Amount of Brands', data=df_cnt_brand, color='gold')\n",
        "plt.title('Amount', fontsize=14)\n",
        "plt.ylabel('Number of brands')\n",
        "plt.xticks(rotation=90)\n",
        "plt.show()"
      ],
      "execution_count": null,
      "outputs": [
        {
          "output_type": "display_data",
          "data": {
            "text/plain": [
              "<Figure size 1080x360 with 1 Axes>"
            ],
            "image/png": "[encoded data removed]"
          },
          "metadata": {
            "needs_background": "light"
          }
        }
      ]
    },
    {
      "cell_type": "markdown",
      "metadata": {
        "id": "BOlpJDingX4n"
      },
      "source": [
        "#### Stars 분포\n",
        "\n",
        "- Seaborn의 distplot 명령은 러그와 커널 밀도 표시 기능이 있어서 Matplotlib의 hist 명령보다 많이 사용된다."
      ]
    },
    {
      "cell_type": "code",
      "metadata": {
        "id": "_EmZ2Z6ogX4n",
        "colab": {
          "base_uri": "https://localhost:8080/",
          "height": 386
        },
        "outputId": "e812c21d-5713-4a3d-d4a3-6a57524e4548"
      },
      "source": [
        "sns.distplot(data['Stars'], rug=True)"
      ],
      "execution_count": null,
      "outputs": [
        {
          "output_type": "stream",
          "name": "stderr",
          "text": [
            "/usr/local/lib/python3.9/dist-packages/seaborn/distributions.py:2619: FutureWarning: `distplot` is a deprecated function and will be removed in a future version. Please adapt your code to use either `displot` (a figure-level function with similar flexibility) or `histplot` (an axes-level function for histograms).\n",
            "  warnings.warn(msg, FutureWarning)\n",
            "/usr/local/lib/python3.9/dist-packages/seaborn/distributions.py:2103: FutureWarning: The `axis` variable is no longer used and will be removed. Instead, assign variables directly to `x` or `y`.\n",
            "  warnings.warn(msg, FutureWarning)\n"
          ]
        },
        {
          "output_type": "execute_result",
          "data": {
            "text/plain": [
              "<AxesSubplot:xlabel='Stars', ylabel='Density'>"
            ]
          },
          "metadata": {},
          "execution_count": 77
        },
        {
          "output_type": "display_data",
          "data": {
            "text/plain": [
              "<Figure size 432x288 with 1 Axes>"
            ],
            "image/png": "[encoded data removed]"
          },
          "metadata": {
            "needs_background": "light"
          }
        }
      ]
    },
    {
      "cell_type": "markdown",
      "metadata": {
        "id": "zMN2T7vBrFtQ"
      },
      "source": [
        "- Stars 컬럼"
      ]
    },
    {
      "cell_type": "code",
      "source": [
        "#값의 중앙값, 평균을 통해 유추하기\n",
        "print(np.median(data['Stars']), np.mean(data['Stars']))"
      ],
      "metadata": {
        "id": "PRwLXW-YvEqt",
        "colab": {
          "base_uri": "https://localhost:8080/"
        },
        "outputId": "64553dec-1018-4684-f90e-fd2b1cfda888"
      },
      "execution_count": null,
      "outputs": [
        {
          "output_type": "stream",
          "name": "stdout",
          "text": [
            "3.75 3.6504263565891466\n"
          ]
        }
      ]
    },
    {
      "cell_type": "markdown",
      "source": [
        "- 중앙값은 값을 나열했을 때, 정중앙에 해당하는 수임\n",
        "- 평균과 중앙값을 보고 바로 분포를 떠올리기 쉽지 않기때문에 시각화 필요"
      ],
      "metadata": {
        "id": "nFigONfNKZIm"
      }
    },
    {
      "cell_type": "code",
      "metadata": {
        "id": "dqS5Ebx-rFtQ",
        "colab": {
          "base_uri": "https://localhost:8080/",
          "height": 350
        },
        "outputId": "8f574281-75b8-42df-f4f6-4cea1c4bb24a"
      },
      "source": [
        "import matplotlib.pyplot as plt\n",
        "plt.figure(figsize=(10,5))\n",
        "plt.xticks(np.arange(0, 5.5, step=0.5))\n",
        "plt.hist(data['Stars'], rwidth=0.8)\n",
        "plt.title('Histogram of Givien scores')\n",
        "plt.xlabel('Score')\n",
        "plt.ylabel('Count(hist)')\n",
        "plt.show()"
      ],
      "execution_count": null,
      "outputs": [
        {
          "output_type": "display_data",
          "data": {
            "text/plain": [
              "<Figure size 720x360 with 1 Axes>"
            ],
            "image/png": "[encoded data removed]"
          },
          "metadata": {
            "needs_background": "light"
          }
        }
      ]
    },
    {
      "cell_type": "markdown",
      "source": [
        "- 0점을 최저, 5점을 최고점으로 보았을 때 대체로 3.0이상을 획득하였으며 이에따라 평균(3.75), 중간값(3.65)이 높은 편임"
      ],
      "metadata": {
        "id": "73i_ApAetz7q"
      }
    },
    {
      "cell_type": "markdown",
      "metadata": {
        "id": "VlPKgzdKrFtT"
      },
      "source": [
        "#### Style별 Stars 분포"
      ]
    },
    {
      "cell_type": "code",
      "metadata": {
        "id": "EGowcWWSrFtT",
        "colab": {
          "base_uri": "https://localhost:8080/",
          "height": 351
        },
        "outputId": "307e7791-34d0-4943-d7fe-83ec07d1989c"
      },
      "source": [
        "sns.boxplot(data['Style'], data['Stars'])"
      ],
      "execution_count": null,
      "outputs": [
        {
          "output_type": "stream",
          "name": "stderr",
          "text": [
            "/usr/local/lib/python3.9/dist-packages/seaborn/_decorators.py:36: FutureWarning: Pass the following variables as keyword args: x, y. From version 0.12, the only valid positional argument will be `data`, and passing other arguments without an explicit keyword will result in an error or misinterpretation.\n",
            "  warnings.warn(\n"
          ]
        },
        {
          "output_type": "execute_result",
          "data": {
            "text/plain": [
              "<AxesSubplot:xlabel='Style', ylabel='Stars'>"
            ]
          },
          "metadata": {},
          "execution_count": 80
        },
        {
          "output_type": "display_data",
          "data": {
            "text/plain": [
              "<Figure size 432x288 with 1 Axes>"
            ],
            "image/png": "[encoded data removed]"
          },
          "metadata": {
            "needs_background": "light"
          }
        }
      ]
    },
    {
      "cell_type": "markdown",
      "source": [
        "이 외, 새로운 질문을 생성하고 이에 대한 답을 찾아나가 봅시다!"
      ],
      "metadata": {
        "id": "dA0hV6BQUmK1"
      }
    }
  ]
}