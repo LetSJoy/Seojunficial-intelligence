{
  "nbformat": 4,
  "nbformat_minor": 0,
  "metadata": {
    "colab": {
      "provenance": [],
      "gpuType": "T4"
    },
    "kernelspec": {
      "name": "python3",
      "display_name": "Python 3"
    },
    "language_info": {
      "name": "python"
    },
    "gpuClass": "standard"
  },
  "cells": [
    {
      "cell_type": "markdown",
      "source": [
        "# 9주차 RNN 스팸문자 분류 모델 구현 과제\n"
      ],
      "metadata": {
        "id": "uECz_jo71ioW"
      }
    },
    {
      "cell_type": "markdown",
      "source": [
        "## **1.데이터 수집-제시된 코드 실행 하기**\n",
        "\n",
        "\n",
        "[데이터 출처](https://www.kaggle.com/datasets/uciml/sms-spam-collection-dataset)"
      ],
      "metadata": {
        "id": "5XO-hpskhR2E"
      }
    },
    {
      "cell_type": "code",
      "source": [
        "# numpy, pandas, matplotlib, seaborn 라이브러리 불러오기\n",
        "import numpy as np\n",
        "import pandas as pd\n",
        "import matplotlib.pyplot as plt\n",
        "import seaborn as sns"
      ],
      "metadata": {
        "id": "QrjOPjyNu0AA"
      },
      "execution_count": null,
      "outputs": []
    },
    {
      "cell_type": "code",
      "source": [
        "from google.colab import drive\n",
        "drive.mount('/content/drive')"
      ],
      "metadata": {
        "id": "X3wI7815IMMl",
        "colab": {
          "base_uri": "https://localhost:8080/"
        },
        "outputId": "6a8d0beb-5a0c-41a7-bb34-267f155b1b81"
      },
      "execution_count": null,
      "outputs": [
        {
          "output_type": "stream",
          "name": "stdout",
          "text": [
            "Mounted at /content/drive\n"
          ]
        }
      ]
    },
    {
      "cell_type": "code",
      "source": [
        "import os\n",
        "os.environ['KAGGLE_CONFIG_DIR'] = '/content/drive/My Drive/Colab Notebooks/.kaggle'"
      ],
      "metadata": {
        "id": "f0Ac_gqbIZpl"
      },
      "execution_count": null,
      "outputs": []
    },
    {
      "cell_type": "code",
      "source": [
        "# 데이터셋 다운로드\n",
        "!kaggle datasets download -d uciml/sms-spam-collection-dataset"
      ],
      "metadata": {
        "id": "5Z7Xuli2IbHG",
        "colab": {
          "base_uri": "https://localhost:8080/"
        },
        "outputId": "d1336f12-e1a9-452f-cbcd-80eaca7879aa"
      },
      "execution_count": null,
      "outputs": [
        {
          "output_type": "stream",
          "name": "stdout",
          "text": [
            "Downloading sms-spam-collection-dataset.zip to /content\n",
            "\r  0% 0.00/211k [00:00<?, ?B/s]\n",
            "\r100% 211k/211k [00:00<00:00, 64.8MB/s]\n"
          ]
        }
      ]
    },
    {
      "cell_type": "code",
      "source": [
        "!unzip sms-spam-collection-dataset.zip"
      ],
      "metadata": {
        "id": "_gh3nsAZIhhr",
        "colab": {
          "base_uri": "https://localhost:8080/"
        },
        "outputId": "f7c6e010-3649-4ea1-edb1-a8d284b3c88f"
      },
      "execution_count": null,
      "outputs": [
        {
          "output_type": "stream",
          "name": "stdout",
          "text": [
            "Archive:  sms-spam-collection-dataset.zip\n",
            "  inflating: spam.csv                \n"
          ]
        }
      ]
    },
    {
      "cell_type": "code",
      "source": [
        "# 데이터프레임(df) 생성하기\n",
        "df = pd.read_csv('./spam.csv', encoding='latin-1')\n",
        "\n",
        "# 첫행부터 5개 행의 데이터 확인하기\n",
        "df.head()"
      ],
      "metadata": {
        "id": "ja9oq_m0ydG7",
        "colab": {
          "base_uri": "https://localhost:8080/",
          "height": 302
        },
        "outputId": "b2a4edb7-6489-4978-cf61-6b448b2488c7"
      },
      "execution_count": null,
      "outputs": [
        {
          "output_type": "execute_result",
          "data": {
            "text/plain": [
              "     v1                                                 v2 Unnamed: 2  \\\n",
              "0   ham  Go until jurong point, crazy.. Available only ...        NaN   \n",
              "1   ham                      Ok lar... Joking wif u oni...        NaN   \n",
              "2  spam  Free entry in 2 a wkly comp to win FA Cup fina...        NaN   \n",
              "3   ham  U dun say so early hor... U c already then say...        NaN   \n",
              "4   ham  Nah I don't think he goes to usf, he lives aro...        NaN   \n",
              "\n",
              "  Unnamed: 3 Unnamed: 4  \n",
              "0        NaN        NaN  \n",
              "1        NaN        NaN  \n",
              "2        NaN        NaN  \n",
              "3        NaN        NaN  \n",
              "4        NaN        NaN  "
            ],
            "text/html": [
              "\n",
              "  <div id=\"df-0b1e3685-5b56-4d37-95d6-b6eac3c08ca5\">\n",
              "    <div class=\"colab-df-container\">\n",
              "      <div>\n",
              "<style scoped>\n",
              "    .dataframe tbody tr th:only-of-type {\n",
              "        vertical-align: middle;\n",
              "    }\n",
              "\n",
              "    .dataframe tbody tr th {\n",
              "        vertical-align: top;\n",
              "    }\n",
              "\n",
              "    .dataframe thead th {\n",
              "        text-align: right;\n",
              "    }\n",
              "</style>\n",
              "<table border=\"1\" class=\"dataframe\">\n",
              "  <thead>\n",
              "    <tr style=\"text-align: right;\">\n",
              "      <th></th>\n",
              "      <th>v1</th>\n",
              "      <th>v2</th>\n",
              "      <th>Unnamed: 2</th>\n",
              "      <th>Unnamed: 3</th>\n",
              "      <th>Unnamed: 4</th>\n",
              "    </tr>\n",
              "  </thead>\n",
              "  <tbody>\n",
              "    <tr>\n",
              "      <th>0</th>\n",
              "      <td>ham</td>\n",
              "      <td>Go until jurong point, crazy.. Available only ...</td>\n",
              "      <td>NaN</td>\n",
              "      <td>NaN</td>\n",
              "      <td>NaN</td>\n",
              "    </tr>\n",
              "    <tr>\n",
              "      <th>1</th>\n",
              "      <td>ham</td>\n",
              "      <td>Ok lar... Joking wif u oni...</td>\n",
              "      <td>NaN</td>\n",
              "      <td>NaN</td>\n",
              "      <td>NaN</td>\n",
              "    </tr>\n",
              "    <tr>\n",
              "      <th>2</th>\n",
              "      <td>spam</td>\n",
              "      <td>Free entry in 2 a wkly comp to win FA Cup fina...</td>\n",
              "      <td>NaN</td>\n",
              "      <td>NaN</td>\n",
              "      <td>NaN</td>\n",
              "    </tr>\n",
              "    <tr>\n",
              "      <th>3</th>\n",
              "      <td>ham</td>\n",
              "      <td>U dun say so early hor... U c already then say...</td>\n",
              "      <td>NaN</td>\n",
              "      <td>NaN</td>\n",
              "      <td>NaN</td>\n",
              "    </tr>\n",
              "    <tr>\n",
              "      <th>4</th>\n",
              "      <td>ham</td>\n",
              "      <td>Nah I don't think he goes to usf, he lives aro...</td>\n",
              "      <td>NaN</td>\n",
              "      <td>NaN</td>\n",
              "      <td>NaN</td>\n",
              "    </tr>\n",
              "  </tbody>\n",
              "</table>\n",
              "</div>\n",
              "      <button class=\"colab-df-convert\" onclick=\"convertToInteractive('df-0b1e3685-5b56-4d37-95d6-b6eac3c08ca5')\"\n",
              "              title=\"Convert this dataframe to an interactive table.\"\n",
              "              style=\"display:none;\">\n",
              "        \n",
              "  <svg xmlns=\"http://www.w3.org/2000/svg\" height=\"24px\"viewBox=\"0 0 24 24\"\n",
              "       width=\"24px\">\n",
              "    <path d=\"M0 0h24v24H0V0z\" fill=\"none\"/>\n",
              "    <path d=\"M18.56 5.44l.94 2.06.94-2.06 2.06-.94-2.06-.94-.94-2.06-.94 2.06-2.06.94zm-11 1L8.5 8.5l.94-2.06 2.06-.94-2.06-.94L8.5 2.5l-.94 2.06-2.06.94zm10 10l.94 2.06.94-2.06 2.06-.94-2.06-.94-.94-2.06-.94 2.06-2.06.94z\"/><path d=\"M17.41 7.96l-1.37-1.37c-.4-.4-.92-.59-1.43-.59-.52 0-1.04.2-1.43.59L10.3 9.45l-7.72 7.72c-.78.78-.78 2.05 0 2.83L4 21.41c.39.39.9.59 1.41.59.51 0 1.02-.2 1.41-.59l7.78-7.78 2.81-2.81c.8-.78.8-2.07 0-2.86zM5.41 20L4 18.59l7.72-7.72 1.47 1.35L5.41 20z\"/>\n",
              "  </svg>\n",
              "      </button>\n",
              "      \n",
              "  <style>\n",
              "    .colab-df-container {\n",
              "      display:flex;\n",
              "      flex-wrap:wrap;\n",
              "      gap: 12px;\n",
              "    }\n",
              "\n",
              "    .colab-df-convert {\n",
              "      background-color: #E8F0FE;\n",
              "      border: none;\n",
              "      border-radius: 50%;\n",
              "      cursor: pointer;\n",
              "      display: none;\n",
              "      fill: #1967D2;\n",
              "      height: 32px;\n",
              "      padding: 0 0 0 0;\n",
              "      width: 32px;\n",
              "    }\n",
              "\n",
              "    .colab-df-convert:hover {\n",
              "      background-color: #E2EBFA;\n",
              "      box-shadow: 0px 1px 2px rgba(60, 64, 67, 0.3), 0px 1px 3px 1px rgba(60, 64, 67, 0.15);\n",
              "      fill: #174EA6;\n",
              "    }\n",
              "\n",
              "    [theme=dark] .colab-df-convert {\n",
              "      background-color: #3B4455;\n",
              "      fill: #D2E3FC;\n",
              "    }\n",
              "\n",
              "    [theme=dark] .colab-df-convert:hover {\n",
              "      background-color: #434B5C;\n",
              "      box-shadow: 0px 1px 3px 1px rgba(0, 0, 0, 0.15);\n",
              "      filter: drop-shadow(0px 1px 2px rgba(0, 0, 0, 0.3));\n",
              "      fill: #FFFFFF;\n",
              "    }\n",
              "  </style>\n",
              "\n",
              "      <script>\n",
              "        const buttonEl =\n",
              "          document.querySelector('#df-0b1e3685-5b56-4d37-95d6-b6eac3c08ca5 button.colab-df-convert');\n",
              "        buttonEl.style.display =\n",
              "          google.colab.kernel.accessAllowed ? 'block' : 'none';\n",
              "\n",
              "        async function convertToInteractive(key) {\n",
              "          const element = document.querySelector('#df-0b1e3685-5b56-4d37-95d6-b6eac3c08ca5');\n",
              "          const dataTable =\n",
              "            await google.colab.kernel.invokeFunction('convertToInteractive',\n",
              "                                                     [key], {});\n",
              "          if (!dataTable) return;\n",
              "\n",
              "          const docLinkHtml = 'Like what you see? Visit the ' +\n",
              "            '<a target=\"_blank\" href=https://colab.research.google.com/notebooks/data_table.ipynb>data table notebook</a>'\n",
              "            + ' to learn more about interactive tables.';\n",
              "          element.innerHTML = '';\n",
              "          dataTable['output_type'] = 'display_data';\n",
              "          await google.colab.output.renderOutput(dataTable, element);\n",
              "          const docLink = document.createElement('div');\n",
              "          docLink.innerHTML = docLinkHtml;\n",
              "          element.appendChild(docLink);\n",
              "        }\n",
              "      </script>\n",
              "    </div>\n",
              "  </div>\n",
              "  "
            ]
          },
          "metadata": {},
          "execution_count": 50
        }
      ]
    },
    {
      "cell_type": "code",
      "source": [
        "df.drop(['Unnamed: 2', 'Unnamed: 3', 'Unnamed: 4'],axis=1,inplace=True)\n",
        "df.info()"
      ],
      "metadata": {
        "id": "UMZHOvrNzBJz",
        "colab": {
          "base_uri": "https://localhost:8080/"
        },
        "outputId": "c0863dcc-efbf-43bf-fd23-77726428c375"
      },
      "execution_count": null,
      "outputs": [
        {
          "output_type": "stream",
          "name": "stdout",
          "text": [
            "<class 'pandas.core.frame.DataFrame'>\n",
            "RangeIndex: 5572 entries, 0 to 5571\n",
            "Data columns (total 2 columns):\n",
            " #   Column  Non-Null Count  Dtype \n",
            "---  ------  --------------  ----- \n",
            " 0   v1      5572 non-null   object\n",
            " 1   v2      5572 non-null   object\n",
            "dtypes: object(2)\n",
            "memory usage: 87.2+ KB\n"
          ]
        }
      ]
    },
    {
      "cell_type": "markdown",
      "source": [
        "## **2. 탐색적 데이터 분석(EDA)**\n",
        "\n",
        "- 스팸과 스팸이 아닌 데이터의 개수를 확인하세요.\n",
        "- keras.preprocessing.text에서 제공하는 Tokenizer와 토큰화 후 tokenizer.word_index를 이용하여 스팸인 텍스트 데이터에서 가장 많이 등장한 단어 50개를 출력하세요.\n",
        "- 이외 필요한 EDA가 있다면 수행하세요."
      ],
      "metadata": {
        "id": "LQViWN851wWI"
      }
    },
    {
      "cell_type": "code",
      "source": [
        "import seaborn as sns\n",
        "import matplotlib.pyplot as plt"
      ],
      "metadata": {
        "id": "uC7V51s6b9xI"
      },
      "execution_count": null,
      "outputs": []
    },
    {
      "cell_type": "code",
      "source": [
        "df['v1'].value_counts()"
      ],
      "metadata": {
        "id": "ixooRe73FN7G",
        "colab": {
          "base_uri": "https://localhost:8080/"
        },
        "outputId": "dd4f6bae-fbdc-40af-a799-eb31f5ee4151"
      },
      "execution_count": null,
      "outputs": [
        {
          "output_type": "execute_result",
          "data": {
            "text/plain": [
              "ham     4825\n",
              "spam     747\n",
              "Name: v1, dtype: int64"
            ]
          },
          "metadata": {},
          "execution_count": 53
        }
      ]
    },
    {
      "cell_type": "code",
      "source": [
        "import string\n",
        "\n",
        "def rem_punctuation(text):\n",
        "    no_punc = \"\".join([x for x in text if x not in string.punctuation])\n",
        "    return no_punc\n",
        "\n",
        "df['v2'] = df['v2'].apply(lambda x: rem_punctuation(x))\n",
        "df['v2'].head()"
      ],
      "metadata": {
        "colab": {
          "base_uri": "https://localhost:8080/"
        },
        "id": "esA2cxMPcHP3",
        "outputId": "698b5722-dc04-477f-9968-134d0cf3d0b3"
      },
      "execution_count": null,
      "outputs": [
        {
          "output_type": "execute_result",
          "data": {
            "text/plain": [
              "0    Go until jurong point crazy Available only in ...\n",
              "1                              Ok lar Joking wif u oni\n",
              "2    Free entry in 2 a wkly comp to win FA Cup fina...\n",
              "3          U dun say so early hor U c already then say\n",
              "4    Nah I dont think he goes to usf he lives aroun...\n",
              "Name: v2, dtype: object"
            ]
          },
          "metadata": {},
          "execution_count": 54
        }
      ]
    },
    {
      "cell_type": "code",
      "source": [
        "from nltk.tokenize import RegexpTokenizer\n",
        "tokenizer = RegexpTokenizer(r'\\w+')\n",
        "df['v2']  = df['v2'].apply(lambda x: tokenizer.tokenize(x.lower()))\n",
        "df['v2'].head()"
      ],
      "metadata": {
        "colab": {
          "base_uri": "https://localhost:8080/"
        },
        "id": "ia1X5PIlcZjs",
        "outputId": "3397aaca-1641-4f39-e6dd-e01c62a15bb3"
      },
      "execution_count": null,
      "outputs": [
        {
          "output_type": "execute_result",
          "data": {
            "text/plain": [
              "0    [go, until, jurong, point, crazy, available, o...\n",
              "1                       [ok, lar, joking, wif, u, oni]\n",
              "2    [free, entry, in, 2, a, wkly, comp, to, win, f...\n",
              "3    [u, dun, say, so, early, hor, u, c, already, t...\n",
              "4    [nah, i, dont, think, he, goes, to, usf, he, l...\n",
              "Name: v2, dtype: object"
            ]
          },
          "metadata": {},
          "execution_count": 55
        }
      ]
    },
    {
      "cell_type": "code",
      "source": [
        "word = []\n",
        "for i in df['v2']:\n",
        "  word = word+i\n",
        "pd.Series(word).value_counts().head(50)"
      ],
      "metadata": {
        "id": "Md2E8F6XdOzB",
        "colab": {
          "base_uri": "https://localhost:8080/"
        },
        "outputId": "7658dbc9-ec85-4a5e-ab42-934d848cbc0b"
      },
      "execution_count": null,
      "outputs": [
        {
          "output_type": "execute_result",
          "data": {
            "text/plain": [
              "i       2241\n",
              "to      2240\n",
              "you     2125\n",
              "a       1428\n",
              "the     1322\n",
              "u       1120\n",
              "and      970\n",
              "is       886\n",
              "in       884\n",
              "me       786\n",
              "my       753\n",
              "for      704\n",
              "your     677\n",
              "it       621\n",
              "of       619\n",
              "call     576\n",
              "have     573\n",
              "on       535\n",
              "that     515\n",
              "are      489\n",
              "now      478\n",
              "2        478\n",
              "im       462\n",
              "so       438\n",
              "not      430\n",
              "but      425\n",
              "or       416\n",
              "can      406\n",
              "at       403\n",
              "do       400\n",
              "get      386\n",
              "ur       384\n",
              "be       384\n",
              "with     380\n",
              "if       379\n",
              "will     378\n",
              "just     366\n",
              "we       349\n",
              "no       332\n",
              "this     330\n",
              "its      308\n",
              "up       303\n",
              "å        295\n",
              "4        287\n",
              "when     285\n",
              "dont     279\n",
              "from     278\n",
              "go       278\n",
              "ok       277\n",
              "ltgt     276\n",
              "dtype: int64"
            ]
          },
          "metadata": {},
          "execution_count": 56
        }
      ]
    },
    {
      "cell_type": "code",
      "source": [
        "df['v3'] = df['v2'].apply(lambda x: len(x))\n",
        "df['v3'].plot()"
      ],
      "metadata": {
        "colab": {
          "base_uri": "https://localhost:8080/",
          "height": 447
        },
        "id": "Bq3Rhca-OA8r",
        "outputId": "5bbea36b-3ed8-4db1-90af-a7adec3acea1"
      },
      "execution_count": null,
      "outputs": [
        {
          "output_type": "execute_result",
          "data": {
            "text/plain": [
              "<Axes: >"
            ]
          },
          "metadata": {},
          "execution_count": 57
        },
        {
          "output_type": "display_data",
          "data": {
            "text/plain": [
              "<Figure size 640x480 with 1 Axes>"
            ],
            "image/png": "[encoded data removed]"
          },
          "metadata": {}
        }
      ]
    },
    {
      "cell_type": "markdown",
      "source": [
        "## **3. 데이터 전처리**"
      ],
      "metadata": {
        "id": "w6TX644x3H0E"
      }
    },
    {
      "cell_type": "markdown",
      "source": [
        "  - 변수 Y에 v1 칼럼의 값을 정수로 인코딩한 데이터를 저장하세요.\n",
        "  - 변수 X에 v2 칼럼을 토큰화하고, 수치 시퀀스로 바꾼 후, 가장 긴 시퀀스의 길이에 맞춰 패딩을 진행한 데이터를 저장하세요.\n",
        "  - X, Y를 기반으로 X_train, X_test, Y_train, Y_test를 생성하세요."
      ],
      "metadata": {
        "id": "zpcD_vBiY6Gf"
      }
    },
    {
      "cell_type": "code",
      "source": [
        "from keras.preprocessing.text import Tokenizer\n",
        "from keras.utils import pad_sequences\n",
        "from keras.models import Sequential\n",
        "from keras.layers import Dense, Embedding, SimpleRNN, LSTM"
      ],
      "metadata": {
        "id": "AkRFSZCl8RT1"
      },
      "execution_count": null,
      "outputs": []
    },
    {
      "cell_type": "code",
      "source": [
        "df['v1'] = df['v1'].apply(lambda x: 1 if(x=='spam') else 0)\n",
        "Y = df['v1']\n",
        "print(Y)"
      ],
      "metadata": {
        "colab": {
          "base_uri": "https://localhost:8080/"
        },
        "id": "3BpgS9hFPlaC",
        "outputId": "679787e6-6668-40af-e6f0-a208203577bc"
      },
      "execution_count": null,
      "outputs": [
        {
          "output_type": "stream",
          "name": "stdout",
          "text": [
            "0       0\n",
            "1       0\n",
            "2       1\n",
            "3       0\n",
            "4       0\n",
            "       ..\n",
            "5567    1\n",
            "5568    0\n",
            "5569    0\n",
            "5570    0\n",
            "5571    0\n",
            "Name: v1, Length: 5572, dtype: int64\n"
          ]
        }
      ]
    },
    {
      "cell_type": "code",
      "source": [
        "MAX_NB_WORDS = 50000\n",
        "tokenizer = Tokenizer(num_words=MAX_NB_WORDS, filters='!\"#$%&()*+,-./:;<=>?@[\\]^_`{|}~', lower=True)\n",
        "tokenizer.fit_on_texts(df['v2'].values)\n",
        "\n",
        "X = tokenizer.texts_to_sequences(df['v2'].values)\n",
        "print(X[:5])"
      ],
      "metadata": {
        "colab": {
          "base_uri": "https://localhost:8080/"
        },
        "id": "6DQb10tvVo5v",
        "outputId": "1c758b9c-a47e-4d10-8f0a-01f049eebfb3"
      },
      "execution_count": null,
      "outputs": [
        {
          "output_type": "stream",
          "name": "stdout",
          "text": [
            "[[47, 447, 4352, 798, 715, 684, 65, 9, 1251, 90, 121, 360, 1252, 155, 2881, 1253, 68, 58, 4353, 138], [49, 317, 1405, 448, 6, 1830], [51, 463, 9, 21, 4, 752, 905, 2, 181, 1831, 1137, 628, 1832, 2209, 264, 2210, 72, 1831, 2, 1833, 2, 318, 463, 2882, 80, 2883, 387, 2884], [6, 231, 144, 24, 361, 2885, 6, 161, 145, 61, 144], [955, 1, 46, 98, 73, 464, 2, 906, 73, 1834, 204, 113, 465]]\n"
          ]
        }
      ]
    },
    {
      "cell_type": "code",
      "source": [
        "X = pad_sequences(X)\n",
        "print(X[:5])\n",
        "print(X.shape)"
      ],
      "metadata": {
        "colab": {
          "base_uri": "https://localhost:8080/"
        },
        "id": "cYb6g-47YaHE",
        "outputId": "86541289-10d6-49e9-c03d-143e8511da3f"
      },
      "execution_count": null,
      "outputs": [
        {
          "output_type": "stream",
          "name": "stdout",
          "text": [
            "[[   0    0    0    0    0    0    0    0    0    0    0    0    0    0\n",
            "     0    0    0    0    0    0    0    0    0    0    0    0    0    0\n",
            "     0    0    0    0    0    0    0    0    0    0    0    0    0    0\n",
            "     0    0    0    0    0    0    0    0    0    0    0    0    0    0\n",
            "     0    0    0    0    0    0    0    0    0    0    0    0    0    0\n",
            "     0    0    0    0    0    0    0    0    0    0    0    0    0    0\n",
            "     0    0    0    0    0    0    0    0    0    0    0    0    0    0\n",
            "     0    0    0    0    0    0    0    0    0    0    0    0    0    0\n",
            "     0    0    0    0    0    0    0    0    0    0    0    0    0    0\n",
            "     0    0    0    0    0    0    0    0    0    0    0    0    0    0\n",
            "     0    0    0    0    0    0    0    0    0    0    0   47  447 4352\n",
            "   798  715  684   65    9 1251   90  121  360 1252  155 2881 1253   68\n",
            "    58 4353  138]\n",
            " [   0    0    0    0    0    0    0    0    0    0    0    0    0    0\n",
            "     0    0    0    0    0    0    0    0    0    0    0    0    0    0\n",
            "     0    0    0    0    0    0    0    0    0    0    0    0    0    0\n",
            "     0    0    0    0    0    0    0    0    0    0    0    0    0    0\n",
            "     0    0    0    0    0    0    0    0    0    0    0    0    0    0\n",
            "     0    0    0    0    0    0    0    0    0    0    0    0    0    0\n",
            "     0    0    0    0    0    0    0    0    0    0    0    0    0    0\n",
            "     0    0    0    0    0    0    0    0    0    0    0    0    0    0\n",
            "     0    0    0    0    0    0    0    0    0    0    0    0    0    0\n",
            "     0    0    0    0    0    0    0    0    0    0    0    0    0    0\n",
            "     0    0    0    0    0    0    0    0    0    0    0    0    0    0\n",
            "     0    0    0    0    0    0    0    0    0    0    0   49  317 1405\n",
            "   448    6 1830]\n",
            " [   0    0    0    0    0    0    0    0    0    0    0    0    0    0\n",
            "     0    0    0    0    0    0    0    0    0    0    0    0    0    0\n",
            "     0    0    0    0    0    0    0    0    0    0    0    0    0    0\n",
            "     0    0    0    0    0    0    0    0    0    0    0    0    0    0\n",
            "     0    0    0    0    0    0    0    0    0    0    0    0    0    0\n",
            "     0    0    0    0    0    0    0    0    0    0    0    0    0    0\n",
            "     0    0    0    0    0    0    0    0    0    0    0    0    0    0\n",
            "     0    0    0    0    0    0    0    0    0    0    0    0    0    0\n",
            "     0    0    0    0    0    0    0    0    0    0    0    0    0    0\n",
            "     0    0    0    0    0    0    0    0    0    0    0    0    0    0\n",
            "     0    0    0   51  463    9   21    4  752  905    2  181 1831 1137\n",
            "   628 1832 2209  264 2210   72 1831    2 1833    2  318  463 2882   80\n",
            "  2883  387 2884]\n",
            " [   0    0    0    0    0    0    0    0    0    0    0    0    0    0\n",
            "     0    0    0    0    0    0    0    0    0    0    0    0    0    0\n",
            "     0    0    0    0    0    0    0    0    0    0    0    0    0    0\n",
            "     0    0    0    0    0    0    0    0    0    0    0    0    0    0\n",
            "     0    0    0    0    0    0    0    0    0    0    0    0    0    0\n",
            "     0    0    0    0    0    0    0    0    0    0    0    0    0    0\n",
            "     0    0    0    0    0    0    0    0    0    0    0    0    0    0\n",
            "     0    0    0    0    0    0    0    0    0    0    0    0    0    0\n",
            "     0    0    0    0    0    0    0    0    0    0    0    0    0    0\n",
            "     0    0    0    0    0    0    0    0    0    0    0    0    0    0\n",
            "     0    0    0    0    0    0    0    0    0    0    0    0    0    0\n",
            "     0    0    0    0    0    0    6  231  144   24  361 2885    6  161\n",
            "   145   61  144]\n",
            " [   0    0    0    0    0    0    0    0    0    0    0    0    0    0\n",
            "     0    0    0    0    0    0    0    0    0    0    0    0    0    0\n",
            "     0    0    0    0    0    0    0    0    0    0    0    0    0    0\n",
            "     0    0    0    0    0    0    0    0    0    0    0    0    0    0\n",
            "     0    0    0    0    0    0    0    0    0    0    0    0    0    0\n",
            "     0    0    0    0    0    0    0    0    0    0    0    0    0    0\n",
            "     0    0    0    0    0    0    0    0    0    0    0    0    0    0\n",
            "     0    0    0    0    0    0    0    0    0    0    0    0    0    0\n",
            "     0    0    0    0    0    0    0    0    0    0    0    0    0    0\n",
            "     0    0    0    0    0    0    0    0    0    0    0    0    0    0\n",
            "     0    0    0    0    0    0    0    0    0    0    0    0    0    0\n",
            "     0    0    0    0  955    1   46   98   73  464    2  906   73 1834\n",
            "   204  113  465]]\n",
            "(5572, 171)\n"
          ]
        }
      ]
    },
    {
      "cell_type": "code",
      "source": [
        "from sklearn.model_selection import train_test_split\n",
        "\n",
        "X_train, X_test, Y_train, Y_test = train_test_split(X,Y, test_size = 0.2,\n",
        "                                                    random_state = 42,\n",
        "                                                    stratify=Y)\n",
        "print(X_train.shape,Y_train.shape)\n",
        "print(X_test.shape,Y_test.shape)"
      ],
      "metadata": {
        "colab": {
          "base_uri": "https://localhost:8080/"
        },
        "id": "oCubzbq5YXgR",
        "outputId": "67398f3c-949d-4589-e111-9c9b3b9a433d"
      },
      "execution_count": null,
      "outputs": [
        {
          "output_type": "stream",
          "name": "stdout",
          "text": [
            "(4457, 171) (4457,)\n",
            "(1115, 171) (1115,)\n"
          ]
        }
      ]
    },
    {
      "cell_type": "markdown",
      "source": [
        "## **4. 모델 학습 및 성능평가**\n",
        "\n",
        "- LSTM 모델을 정의하고, 학습을 진행하세요.\n",
        "- test 데이터 기반 모델 평가를 진행하세요."
      ],
      "metadata": {
        "id": "xgpV1Ay0h6Om"
      }
    },
    {
      "cell_type": "code",
      "source": [
        "# RNN 모델 정의를 위한 변수 초기화하기\n",
        "MAX_NB_WORDS = 50000                # 사용할 단어의 최대 개수(최빈)\n",
        "MAX_SEQUENCE_LENGTH = X.shape[1]    # 가장 긴 시퀀스 길이\n",
        "EMBEDDING_DIM = 150                 # 임베딩 차원 정의\n",
        "rnn_out = 200                       # RNN층 unit 개수"
      ],
      "metadata": {
        "id": "xoCo42BO8WH6"
      },
      "execution_count": null,
      "outputs": []
    },
    {
      "cell_type": "code",
      "source": [
        "# LSTM 모델 정의하기\n",
        "model = Sequential()\n",
        "model.add(Embedding(MAX_NB_WORDS, EMBEDDING_DIM, input_length=X.shape[1]))\n",
        "# model.add(SimpleRNN(rnn_out, dropout=0.2, recurrent_dropout=0.2))\n",
        "model.add((LSTM(rnn_out,dropout = 0.2,recurrent_dropout=0.2)))\n",
        "# model.add(Dense(2, activation='softmax'))\n",
        "model.add(Dense(1, activation='sigmoid'))\n",
        "\n",
        "model.compile(loss='binary_crossentropy', optimizer='adam', metrics=['accuracy'])\n",
        "model.summary()"
      ],
      "metadata": {
        "colab": {
          "base_uri": "https://localhost:8080/"
        },
        "id": "E7bw0o30YyXc",
        "outputId": "a9b422a5-33c0-404d-f637-e1fb01972d77"
      },
      "execution_count": null,
      "outputs": [
        {
          "output_type": "stream",
          "name": "stdout",
          "text": [
            "Model: \"sequential_1\"\n",
            "_________________________________________________________________\n",
            " Layer (type)                Output Shape              Param #   \n",
            "=================================================================\n",
            " embedding_1 (Embedding)     (None, 171, 150)          7500000   \n",
            "                                                                 \n",
            " lstm_1 (LSTM)               (None, 200)               280800    \n",
            "                                                                 \n",
            " dense_1 (Dense)             (None, 1)                 201       \n",
            "                                                                 \n",
            "=================================================================\n",
            "Total params: 7,781,001\n",
            "Trainable params: 7,781,001\n",
            "Non-trainable params: 0\n",
            "_________________________________________________________________\n"
          ]
        }
      ]
    },
    {
      "cell_type": "code",
      "source": [
        "# RNN모델 학습\n",
        "history = model.fit(X_train, Y_train,\n",
        "                    validation_data = (X_test, Y_test),\n",
        "                    epochs = 10, batch_size=32, verbose = 2)"
      ],
      "metadata": {
        "colab": {
          "base_uri": "https://localhost:8080/"
        },
        "id": "-zHUFqRCY1jp",
        "outputId": "b25f1d5e-e9fa-496c-973f-390a29a391ef"
      },
      "execution_count": null,
      "outputs": [
        {
          "output_type": "stream",
          "name": "stdout",
          "text": [
            "Epoch 1/10\n",
            "140/140 - 129s - loss: 0.1399 - accuracy: 0.9547 - val_loss: 0.0572 - val_accuracy: 0.9830 - 129s/epoch - 925ms/step\n",
            "Epoch 2/10\n",
            "140/140 - 113s - loss: 0.0298 - accuracy: 0.9910 - val_loss: 0.0533 - val_accuracy: 0.9848 - 113s/epoch - 809ms/step\n",
            "Epoch 3/10\n",
            "140/140 - 112s - loss: 0.0110 - accuracy: 0.9973 - val_loss: 0.0558 - val_accuracy: 0.9857 - 112s/epoch - 798ms/step\n",
            "Epoch 4/10\n",
            "140/140 - 110s - loss: 0.0092 - accuracy: 0.9982 - val_loss: 0.0603 - val_accuracy: 0.9857 - 110s/epoch - 783ms/step\n",
            "Epoch 5/10\n",
            "140/140 - 108s - loss: 0.0017 - accuracy: 0.9996 - val_loss: 0.0858 - val_accuracy: 0.9695 - 108s/epoch - 769ms/step\n",
            "Epoch 6/10\n",
            "140/140 - 108s - loss: 8.3936e-04 - accuracy: 1.0000 - val_loss: 0.0703 - val_accuracy: 0.9839 - 108s/epoch - 773ms/step\n",
            "Epoch 7/10\n",
            "140/140 - 114s - loss: 2.0571e-04 - accuracy: 1.0000 - val_loss: 0.0833 - val_accuracy: 0.9857 - 114s/epoch - 812ms/step\n",
            "Epoch 8/10\n",
            "140/140 - 108s - loss: 1.0774e-04 - accuracy: 1.0000 - val_loss: 0.0824 - val_accuracy: 0.9839 - 108s/epoch - 773ms/step\n",
            "Epoch 9/10\n",
            "140/140 - 108s - loss: 6.7622e-05 - accuracy: 1.0000 - val_loss: 0.0897 - val_accuracy: 0.9848 - 108s/epoch - 768ms/step\n",
            "Epoch 10/10\n",
            "140/140 - 111s - loss: 4.9546e-05 - accuracy: 1.0000 - val_loss: 0.1000 - val_accuracy: 0.9865 - 111s/epoch - 792ms/step\n"
          ]
        }
      ]
    },
    {
      "cell_type": "code",
      "source": [
        "# model.evaluate로 모델 평가하기\n",
        "accuracy = model.evaluate(X_test, Y_test)\n",
        "print('테스트 데이터\\n  Loss: {:0.3f}\\n  Accuracy: {:0.3f}'.format(accuracy[0],accuracy[1]))"
      ],
      "metadata": {
        "colab": {
          "base_uri": "https://localhost:8080/"
        },
        "id": "i2LyL5KnbAOm",
        "outputId": "af388d9b-7ae0-45f2-8e1a-fc948ce4f8cd"
      },
      "execution_count": null,
      "outputs": [
        {
          "output_type": "stream",
          "name": "stdout",
          "text": [
            "35/35 [==============================] - 3s 89ms/step - loss: 0.1000 - accuracy: 0.9865\n",
            "테스트 데이터\n",
            "  Loss: 0.100\n",
            "  Accuracy: 0.987\n"
          ]
        }
      ]
    },
    {
      "cell_type": "code",
      "source": [
        "# 테스트 데이터 손실(Loss)과 정확도(Accuracy)를 그래프로 나타내기\n",
        "plt.title('Plot of Accuracy of the Model')\n",
        "plt.plot(history.history['accuracy'], label='test accuracy')\n",
        "plt.plot(history.history['loss'], label='test loss')\n",
        "plt.legend()\n",
        "plt.show()"
      ],
      "metadata": {
        "colab": {
          "base_uri": "https://localhost:8080/",
          "height": 452
        },
        "id": "S3TEZKUPbFvx",
        "outputId": "6488a618-b1f3-4d7e-8a3a-5f4d573f60de"
      },
      "execution_count": null,
      "outputs": [
        {
          "output_type": "display_data",
          "data": {
            "text/plain": [
              "<Figure size 640x480 with 1 Axes>"
            ],
            "image/png": "[encoded data removed]"
          },
          "metadata": {}
        }
      ]
    },
    {
      "cell_type": "markdown",
      "source": [
        "#**[스스로 정리하기]**\n",
        "- 수업시간에 한 내용을 기반으로 설명(?)을 자연어처리하여 제품이 스팸인지 그냥 햄인지 구별하는 RNN을 만들고 실행시켜보았다. 하지만 어떤 이유에선지 accuracy가 처음부터 1이 나왔다. 코드를 검토해보니 spam여부를 인코딩하는 과정을 두번 실행 하여서 Y가 모두 0인 상태였다. 다시 오류를 수정하여 처음부터 다시 실행하여서 옳은 결과를 얻을 수 있었다."
      ],
      "metadata": {
        "id": "bE7ZG9Dx8c6v"
      }
    },
    {
      "cell_type": "code",
      "source": [],
      "metadata": {
        "id": "jBaEc8cwjURL"
      },
      "execution_count": null,
      "outputs": []
    }
  ]
}