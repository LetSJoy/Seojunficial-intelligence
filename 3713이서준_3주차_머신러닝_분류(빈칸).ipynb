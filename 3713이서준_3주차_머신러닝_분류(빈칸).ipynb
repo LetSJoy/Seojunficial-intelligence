{
  "nbformat": 4,
  "nbformat_minor": 0,
  "metadata": {
    "colab": {
      "provenance": [],
      "toc_visible": true
    },
    "kernelspec": {
      "display_name": "Python 3",
      "language": "python",
      "name": "python3"
    },
    "language_info": {
      "codemirror_mode": {
        "name": "ipython",
        "version": 3
      },
      "file_extension": ".py",
      "mimetype": "text/x-python",
      "name": "python",
      "nbconvert_exporter": "python",
      "pygments_lexer": "ipython3",
      "version": "3.7.3"
    }
  },
  "cells": [
    {
      "cell_type": "markdown",
      "metadata": {
        "id": "j5EWB_sYbVCZ"
      },
      "source": [
        "## 1.[머신러닝 프로세스]\n",
        "\n",
        "\n",
        "\n",
        "> 문제 정의 -> 데이터 수집 -> 데이터 전처리 -> 모델 학습 -> 모델 예측 및 평가\n",
        "\n"
      ]
    },
    {
      "cell_type": "markdown",
      "metadata": {
        "id": "hf_-vPd6bvra"
      },
      "source": [
        "--------\n",
        "## 2.[머신러닝 분류 모델]"
      ]
    },
    {
      "cell_type": "markdown",
      "source": [
        "\n",
        "### 2-1.분류문제\n",
        "분류는 레이블이 달린 학습 데이터를 학습한 후 새롭게 주어지는 데이터가 어느 그룹에 속하지는지 찾아내는 것\n",
        "- 내일 날씨는? 맑음, 흐림\n",
        "- A팀과 B팀 경기에서 어느 팀이 이길까?"
      ],
      "metadata": {
        "id": "RGiz3uQBRxnj"
      }
    },
    {
      "cell_type": "markdown",
      "source": [
        "\n",
        "\n",
        "### 2-2. 머신러닝으로 구현하는 분류\n",
        "- **결정트리(Desicion Tree)** : 데이터 균일도에 따른 규칙 기반 모델\n",
        "<img src='https://lh3.googleusercontent.com/-RPAw-E76T1Q/X6wYCno3m_I/AAAAAAAAN5A/nqS_FkrntTQzfVK9bCDgSc14R2qwcsg9ACLcBGAsYHQ/w564-h220/image.png'>\n",
        "\n",
        "- 최소 근접 알고리즘(KNN, K Nearest Neighbor) : 근접 거리를 기준으로 하는 모델\n",
        "<img src='https://upload.wikimedia.org/wikipedia/commons/thumb/e/e7/KnnClassification.svg/330px-KnnClassification.svg.png' width=200>\n",
        "\n",
        "- 서포트 벡터 머신(SVM, Support Vector Machine) : 개별 클래스 간의 최대 분류 마진을 효과적으로 찾음\n",
        "<img src='https://upload.wikimedia.org/wikipedia/commons/thumb/2/20/Svm_separating_hyperplanes.png/1024px-Svm_separating_hyperplanes.png' width=200>\n",
        "\n",
        "- 로지스틱 회귀(Logistic Regression) : 독립변수와 종속변수의 선형 관계성에 기반. 분류 알고리즘 중에서 성능이 좋음.\n",
        "<img src='https://t1.daumcdn.net/cfile/tistory/99F325485C7B76BC2B' width=400>\n",
        "\n",
        "\n",
        "- 나이브 베이즈(Naive Bayes) : 분류 문제에 베이즈 이론을 접목한 알고리즘. 범주형 데이터에 사용하는 알고리즘이며 텍스트 분류에 많이 사용됨. 독립변수가 많을 때 간단하게 계산.\n",
        "- 앙상블(Ensemble) : 서로 다른(또는 같은) 여러 머신러닝 모델을 결합\n",
        "<img src='https://img1.daumcdn.net/thumb/R1280x0/?scode=mtistory2&fname=https%3A%2F%2Fk.kakaocdn.net%2Fdn%2FDdB4X%2FbtqDDvpfx5p%2FV8AtWq6MT6tmTktleKqjPk%2Fimg.png' width=300>\n",
        "\n",
        "- 심층신경망(Deep Neural Network) : 최적의 w와 b를 학습"
      ],
      "metadata": {
        "id": "R2kVCvKRR0OK"
      }
    },
    {
      "cell_type": "markdown",
      "metadata": {
        "id": "enNm65IsS3bs"
      },
      "source": [
        "## 3.결정 트리(Decision Tree) 개요\n",
        "결정 트리(Decision Tree)는 ML 알고리즘 중에서 직관적으로 이해하기 쉬운 알고리즘이며 분류/회귀에 모두 적용할 수 있다. 데이터에 내재된 패턴을 학습한 후 트리(Tree) 기반 형태로 규칙을 나열한 것이다. 마치 if/else를 자동으로 찾아내 해결하는 것과 같다. 따라서 데이터의 어떤 기준으로 규칙을 만드는가가 알고리즘의 성능을 좌우한다.\n",
        "\n",
        "<img src='https://miro.medium.com/max/1430/1*rSQIIAboJftqAv_BReNipg.png' width=500>\n",
        "\n",
        "사이킷런의 결정트리 알고리즘은 노드에서 균일도가 높은(불순도가 낮은) 데이터셋을 먼저 선택하도록 규칙조건을 만드는데 이때 기준이 되는 것이 지니계수이다.\n",
        "\n",
        "\n",
        "\n",
        "- 지니계수(Gini): 불순도를 측정하는 지표로, 데이터의 통계적 분산정도를 정량화해서 표현한 값\n",
        "\n",
        "- $G(S) = 1-\\sum_{i=1}^c p_i^2$\n",
        "\n",
        "    - S: 이미 발생한 사건의 모음\n",
        "    - c: 사건의 갯수\n",
        "\n",
        "    - Gini Index가 높을수록 데이터가 분산되어 있음을 의미\n",
        "\n",
        "- 지니계수를 기준으로 분류하기\n",
        "\n",
        "<img src=\"https://blog.kakaocdn.net/dn/nw2Js/btqDBzqnpTp/UPpNrcKuezdVelEc7yk5u1/img.png\" width=500px>\n",
        "\n",
        "\n",
        "\n",
        "- A를 기준으로 분류하는 경우\n",
        "\n",
        "    <img src=\"https://blog.kakaocdn.net/dn/0i16i/btqDADNwhps/srLE0hDPJMQ4Z1bSgLPLZK/img.png\" width=600px>\n",
        "\n",
        "\n",
        "- B를 기준으로 분류하는 경우\n",
        "\n",
        "    <img src=\"https://blog.kakaocdn.net/dn/bPHerG/btqDA5JPIqg/63j6viMBdAHzJ9tACVKNtK/img.png\" width=600px>\n",
        "\n",
        "\n",
        "- 지니계수는 불순도를 의미하기 때문에 지니계수가 더 낮은 경우인 B로 먼저 분할하는 것이 더 좋다.\n",
        "\n"
      ]
    },
    {
      "cell_type": "markdown",
      "source": [
        "\n",
        "### 3-1. 결정 트리의 특징\n",
        "- 장점\n",
        "  - 알고리즘이 쉽고 직관적이다\n",
        "  - 시각화도 가능하다\n",
        "  - 데이터의 균일도가 보다 중요해서 특별한 경우 외에는 스케일링같은 전처리작업이 필요없다\n",
        "- 단점\n",
        "  - 계층적 구조로 인해 중간에 에러가 발생하면 아래 단계로 계속 전파\n",
        "  - 학습 데이터의 미세한 변동에도 최종 결과에 크게 영향\n",
        "  - 과적합으로 인한 성능 저하가 가장 큰 단점\n",
        "    (성능의 일부를 포기하고 트리의 크기를 제한하는 것이 오히려 튜닝에 도움된다)\n",
        "\n",
        "\n",
        "\n"
      ],
      "metadata": {
        "id": "5rFcMmVxR9VO"
      }
    },
    {
      "cell_type": "markdown",
      "source": [
        "\n",
        "### 3-2. 결정 트리 파라미터\n",
        "사이킷런은 결정트리 알고리즘을 구현한 DecisionTreeClassifier(분류)클래스를 제공한다.\n",
        "\n",
        "- min_samples_split: 기본값=2. 노드 분할 최소 샘플수로 과적합 제어에 활용.\n",
        "- min_samples_leaf: 말단 노드가 되기 위한 최소 샘플수. 과적합 제어에 활용. 비대칭적 데이터의 경우 특정 데이터의 클래스가 극도로 작을 수 있으므로 이 경우 작게 설정할 필요.\n",
        "- max_features: 최적 분할을 위해 고려할 최대 피처 개수. int로 지정하면 대상 피처의 개수, float로 지정하면 전체 피처 중 대상 피처의 퍼센트. 'None'은 전체 피처 선정\n",
        "- max_depth: 기본값=None. 트리의 최대 깊이 설정. None은 완벽하게 클래스 결정 값이 될때까지 깊이를 계속 키우며 분할하거나 min_samples_split보다 작아질 때까지 계속 깊이를 증가시킴\n",
        "- max_leaf_nodes: 말단 노드(leaf)의 최대 개수"
      ],
      "metadata": {
        "id": "1nI_MA0hR-Qt"
      }
    },
    {
      "cell_type": "markdown",
      "metadata": {
        "id": "F-661iRVXBeR"
      },
      "source": [
        "-----------------\n",
        "## 4.결정 트리로 분류 문제 해결하기"
      ]
    },
    {
      "cell_type": "markdown",
      "metadata": {
        "id": "DneD3KvtXDAj"
      },
      "source": [
        "### 4-1. 문제 정의(분류 문제)"
      ]
    },
    {
      "cell_type": "markdown",
      "metadata": {
        "id": "9VLcN-dMeXGo"
      },
      "source": [
        "\n",
        "\n",
        "\n",
        "\n",
        "### 4-2. 데이터 수집(캐글 데이터셋 이용)"
      ]
    },
    {
      "cell_type": "code",
      "source": [
        "import numpy as np\n",
        "import pandas as pd"
      ],
      "metadata": {
        "id": "6IGv-Iv4S7DV"
      },
      "execution_count": null,
      "outputs": []
    },
    {
      "cell_type": "code",
      "source": [
        "from google.colab import drive\n",
        "drive.mount('/content/drive')"
      ],
      "metadata": {
        "id": "IrGHtH_YTBr9",
        "colab": {
          "base_uri": "https://localhost:8080/"
        },
        "outputId": "0b3323ca-5010-4b60-b47e-92c5a0e3d4c1"
      },
      "execution_count": null,
      "outputs": [
        {
          "output_type": "stream",
          "name": "stdout",
          "text": [
            "Mounted at /content/drive\n"
          ]
        }
      ]
    },
    {
      "cell_type": "code",
      "source": [
        "import os\n",
        "os.environ['KAGGLE_CONFIG_DIR'] = '/content/drive/My Drive/Colab Notebooks/.kaggle'"
      ],
      "metadata": {
        "id": "pNm-eWLmTCSz"
      },
      "execution_count": null,
      "outputs": []
    },
    {
      "cell_type": "code",
      "metadata": {
        "id": "aBCLOXenejqW",
        "colab": {
          "base_uri": "https://localhost:8080/"
        },
        "outputId": "8a9115a5-85b6-4b49-acbb-f06abfdcbefc"
      },
      "source": [
        "# Pima Indian Diabetes 데이터셋 다운로드\n",
        "!kaggle datasets download -d uciml/pima-indians-diabetes-database"
      ],
      "execution_count": null,
      "outputs": [
        {
          "output_type": "stream",
          "name": "stdout",
          "text": [
            "Downloading pima-indians-diabetes-database.zip to /content\n",
            "\r  0% 0.00/8.91k [00:00<?, ?B/s]\n",
            "\r100% 8.91k/8.91k [00:00<00:00, 6.42MB/s]\n"
          ]
        }
      ]
    },
    {
      "cell_type": "code",
      "metadata": {
        "id": "63XNkoBVejqg",
        "colab": {
          "base_uri": "https://localhost:8080/"
        },
        "outputId": "c8db8e06-3e60-452c-9c9e-f6673d11b204"
      },
      "source": [
        "# zip파일 압축 해제 후 현재 디렉토리의 파일 리스트 보기\n",
        "!unzip pima-indians-diabetes-database.zip\n",
        "!ls"
      ],
      "execution_count": null,
      "outputs": [
        {
          "output_type": "stream",
          "name": "stdout",
          "text": [
            "Archive:  pima-indians-diabetes-database.zip\n",
            "  inflating: diabetes.csv            \n",
            "diabetes.csv  drive  pima-indians-diabetes-database.zip  sample_data\n"
          ]
        }
      ]
    },
    {
      "cell_type": "markdown",
      "metadata": {
        "id": "znp1tnSiel3Q"
      },
      "source": [
        "### 4-3. 데이터 전처리"
      ]
    },
    {
      "cell_type": "code",
      "metadata": {
        "id": "5nhdm9NIeudu",
        "colab": {
          "base_uri": "https://localhost:8080/",
          "height": 258
        },
        "outputId": "f5631417-7bd3-4bc3-e095-9e500f6dcf8c"
      },
      "source": [
        "# csv 파일을 pandas dataframe으로 읽기\n",
        "diabetes_data = pd.read_csv('diabetes.csv')\n",
        "\n",
        "# Outcome(당뇨:1 당뇨아님:0)행의 value를 count\n",
        "print(diabetes_data['Outcome'].value_counts())\n",
        "\n",
        "# 상위 5개 행을 출력\n",
        "diabetes_data.head(5)"
      ],
      "execution_count": null,
      "outputs": [
        {
          "output_type": "stream",
          "name": "stdout",
          "text": [
            "0    500\n",
            "1    268\n",
            "Name: Outcome, dtype: int64\n"
          ]
        },
        {
          "output_type": "execute_result",
          "data": {
            "text/plain": [
              "   Pregnancies  Glucose  BloodPressure  SkinThickness  Insulin   BMI  \\\n",
              "0            6      148             72             35        0  33.6   \n",
              "1            1       85             66             29        0  26.6   \n",
              "2            8      183             64              0        0  23.3   \n",
              "3            1       89             66             23       94  28.1   \n",
              "4            0      137             40             35      168  43.1   \n",
              "\n",
              "   DiabetesPedigreeFunction  Age  Outcome  \n",
              "0                     0.627   50        1  \n",
              "1                     0.351   31        0  \n",
              "2                     0.672   32        1  \n",
              "3                     0.167   21        0  \n",
              "4                     2.288   33        1  "
            ],
            "text/html": [
              "\n",
              "  <div id=\"df-328b8115-7d69-4bce-ba4a-341eaa6da4a4\">\n",
              "    <div class=\"colab-df-container\">\n",
              "      <div>\n",
              "<style scoped>\n",
              "    .dataframe tbody tr th:only-of-type {\n",
              "        vertical-align: middle;\n",
              "    }\n",
              "\n",
              "    .dataframe tbody tr th {\n",
              "        vertical-align: top;\n",
              "    }\n",
              "\n",
              "    .dataframe thead th {\n",
              "        text-align: right;\n",
              "    }\n",
              "</style>\n",
              "<table border=\"1\" class=\"dataframe\">\n",
              "  <thead>\n",
              "    <tr style=\"text-align: right;\">\n",
              "      <th></th>\n",
              "      <th>Pregnancies</th>\n",
              "      <th>Glucose</th>\n",
              "      <th>BloodPressure</th>\n",
              "      <th>SkinThickness</th>\n",
              "      <th>Insulin</th>\n",
              "      <th>BMI</th>\n",
              "      <th>DiabetesPedigreeFunction</th>\n",
              "      <th>Age</th>\n",
              "      <th>Outcome</th>\n",
              "    </tr>\n",
              "  </thead>\n",
              "  <tbody>\n",
              "    <tr>\n",
              "      <th>0</th>\n",
              "      <td>6</td>\n",
              "      <td>148</td>\n",
              "      <td>72</td>\n",
              "      <td>35</td>\n",
              "      <td>0</td>\n",
              "      <td>33.6</td>\n",
              "      <td>0.627</td>\n",
              "      <td>50</td>\n",
              "      <td>1</td>\n",
              "    </tr>\n",
              "    <tr>\n",
              "      <th>1</th>\n",
              "      <td>1</td>\n",
              "      <td>85</td>\n",
              "      <td>66</td>\n",
              "      <td>29</td>\n",
              "      <td>0</td>\n",
              "      <td>26.6</td>\n",
              "      <td>0.351</td>\n",
              "      <td>31</td>\n",
              "      <td>0</td>\n",
              "    </tr>\n",
              "    <tr>\n",
              "      <th>2</th>\n",
              "      <td>8</td>\n",
              "      <td>183</td>\n",
              "      <td>64</td>\n",
              "      <td>0</td>\n",
              "      <td>0</td>\n",
              "      <td>23.3</td>\n",
              "      <td>0.672</td>\n",
              "      <td>32</td>\n",
              "      <td>1</td>\n",
              "    </tr>\n",
              "    <tr>\n",
              "      <th>3</th>\n",
              "      <td>1</td>\n",
              "      <td>89</td>\n",
              "      <td>66</td>\n",
              "      <td>23</td>\n",
              "      <td>94</td>\n",
              "      <td>28.1</td>\n",
              "      <td>0.167</td>\n",
              "      <td>21</td>\n",
              "      <td>0</td>\n",
              "    </tr>\n",
              "    <tr>\n",
              "      <th>4</th>\n",
              "      <td>0</td>\n",
              "      <td>137</td>\n",
              "      <td>40</td>\n",
              "      <td>35</td>\n",
              "      <td>168</td>\n",
              "      <td>43.1</td>\n",
              "      <td>2.288</td>\n",
              "      <td>33</td>\n",
              "      <td>1</td>\n",
              "    </tr>\n",
              "  </tbody>\n",
              "</table>\n",
              "</div>\n",
              "      <button class=\"colab-df-convert\" onclick=\"convertToInteractive('df-328b8115-7d69-4bce-ba4a-341eaa6da4a4')\"\n",
              "              title=\"Convert this dataframe to an interactive table.\"\n",
              "              style=\"display:none;\">\n",
              "        \n",
              "  <svg xmlns=\"http://www.w3.org/2000/svg\" height=\"24px\"viewBox=\"0 0 24 24\"\n",
              "       width=\"24px\">\n",
              "    <path d=\"M0 0h24v24H0V0z\" fill=\"none\"/>\n",
              "    <path d=\"M18.56 5.44l.94 2.06.94-2.06 2.06-.94-2.06-.94-.94-2.06-.94 2.06-2.06.94zm-11 1L8.5 8.5l.94-2.06 2.06-.94-2.06-.94L8.5 2.5l-.94 2.06-2.06.94zm10 10l.94 2.06.94-2.06 2.06-.94-2.06-.94-.94-2.06-.94 2.06-2.06.94z\"/><path d=\"M17.41 7.96l-1.37-1.37c-.4-.4-.92-.59-1.43-.59-.52 0-1.04.2-1.43.59L10.3 9.45l-7.72 7.72c-.78.78-.78 2.05 0 2.83L4 21.41c.39.39.9.59 1.41.59.51 0 1.02-.2 1.41-.59l7.78-7.78 2.81-2.81c.8-.78.8-2.07 0-2.86zM5.41 20L4 18.59l7.72-7.72 1.47 1.35L5.41 20z\"/>\n",
              "  </svg>\n",
              "      </button>\n",
              "      \n",
              "  <style>\n",
              "    .colab-df-container {\n",
              "      display:flex;\n",
              "      flex-wrap:wrap;\n",
              "      gap: 12px;\n",
              "    }\n",
              "\n",
              "    .colab-df-convert {\n",
              "      background-color: #E8F0FE;\n",
              "      border: none;\n",
              "      border-radius: 50%;\n",
              "      cursor: pointer;\n",
              "      display: none;\n",
              "      fill: #1967D2;\n",
              "      height: 32px;\n",
              "      padding: 0 0 0 0;\n",
              "      width: 32px;\n",
              "    }\n",
              "\n",
              "    .colab-df-convert:hover {\n",
              "      background-color: #E2EBFA;\n",
              "      box-shadow: 0px 1px 2px rgba(60, 64, 67, 0.3), 0px 1px 3px 1px rgba(60, 64, 67, 0.15);\n",
              "      fill: #174EA6;\n",
              "    }\n",
              "\n",
              "    [theme=dark] .colab-df-convert {\n",
              "      background-color: #3B4455;\n",
              "      fill: #D2E3FC;\n",
              "    }\n",
              "\n",
              "    [theme=dark] .colab-df-convert:hover {\n",
              "      background-color: #434B5C;\n",
              "      box-shadow: 0px 1px 3px 1px rgba(0, 0, 0, 0.15);\n",
              "      filter: drop-shadow(0px 1px 2px rgba(0, 0, 0, 0.3));\n",
              "      fill: #FFFFFF;\n",
              "    }\n",
              "  </style>\n",
              "\n",
              "      <script>\n",
              "        const buttonEl =\n",
              "          document.querySelector('#df-328b8115-7d69-4bce-ba4a-341eaa6da4a4 button.colab-df-convert');\n",
              "        buttonEl.style.display =\n",
              "          google.colab.kernel.accessAllowed ? 'block' : 'none';\n",
              "\n",
              "        async function convertToInteractive(key) {\n",
              "          const element = document.querySelector('#df-328b8115-7d69-4bce-ba4a-341eaa6da4a4');\n",
              "          const dataTable =\n",
              "            await google.colab.kernel.invokeFunction('convertToInteractive',\n",
              "                                                     [key], {});\n",
              "          if (!dataTable) return;\n",
              "\n",
              "          const docLinkHtml = 'Like what you see? Visit the ' +\n",
              "            '<a target=\"_blank\" href=https://colab.research.google.com/notebooks/data_table.ipynb>data table notebook</a>'\n",
              "            + ' to learn more about interactive tables.';\n",
              "          element.innerHTML = '';\n",
              "          dataTable['output_type'] = 'display_data';\n",
              "          await google.colab.output.renderOutput(dataTable, element);\n",
              "          const docLink = document.createElement('div');\n",
              "          docLink.innerHTML = docLinkHtml;\n",
              "          element.appendChild(docLink);\n",
              "        }\n",
              "      </script>\n",
              "    </div>\n",
              "  </div>\n",
              "  "
            ]
          },
          "metadata": {},
          "execution_count": 6
        }
      ]
    },
    {
      "cell_type": "code",
      "metadata": {
        "id": "S1u9DNC8eud3",
        "colab": {
          "base_uri": "https://localhost:8080/"
        },
        "outputId": "06c81a7c-5b8c-48a0-948d-587c43b7a716"
      },
      "source": [
        "# 데이터 정보 요약\n",
        "diabetes_data.info( )"
      ],
      "execution_count": null,
      "outputs": [
        {
          "output_type": "stream",
          "name": "stdout",
          "text": [
            "<class 'pandas.core.frame.DataFrame'>\n",
            "RangeIndex: 768 entries, 0 to 767\n",
            "Data columns (total 9 columns):\n",
            " #   Column                    Non-Null Count  Dtype  \n",
            "---  ------                    --------------  -----  \n",
            " 0   Pregnancies               768 non-null    int64  \n",
            " 1   Glucose                   768 non-null    int64  \n",
            " 2   BloodPressure             768 non-null    int64  \n",
            " 3   SkinThickness             768 non-null    int64  \n",
            " 4   Insulin                   768 non-null    int64  \n",
            " 5   BMI                       768 non-null    float64\n",
            " 6   DiabetesPedigreeFunction  768 non-null    float64\n",
            " 7   Age                       768 non-null    int64  \n",
            " 8   Outcome                   768 non-null    int64  \n",
            "dtypes: float64(2), int64(7)\n",
            "memory usage: 54.1 KB\n"
          ]
        }
      ]
    },
    {
      "cell_type": "code",
      "metadata": {
        "id": "zAmrTIK1eueA"
      },
      "source": [
        "# 피처 데이터 세트 x, 레이블 데이터 세트 y를 추출.\n",
        "# 맨 끝이 Outcome 컬럼으로 레이블 값임. 컬럼 위치 -1을 이용해 추출\n",
        "x = diabetes_data.iloc[:,:-1]\n",
        "y = diabetes_data.iloc[:,-1]\n",
        "\n",
        "# 훈련 데이터셋과 테스트 데이터셋 분리\n",
        "from sklearn.model_selection import train_test_split\n",
        "x_train, x_test, y_train, y_test = train_test_split(x,y,test_size = 0.2,random_state = 156,stratify = y)"
      ],
      "execution_count": null,
      "outputs": []
    },
    {
      "cell_type": "markdown",
      "metadata": {
        "id": "9fk1n2NOeygm"
      },
      "source": [
        "#### 간편하게 train/test 분리: train_test_split\n",
        "훈련한 모델의 성능을 평가하기 위해 전체 데이터를 훈련 데이터셋과 테스트 데이터셋을 나눈다. 훈련 데이터셋은 모델 훈련에 사용되며, 테스트 데이터셋으로 모델을 평가하게 된다.\n",
        "\n",
        "- train_test_split 파라미터\n",
        "  - test_size: 테스트 셋 구성의 비율을 나타냅니다. train_size의 옵션과 반대 관계에 있는 옵션 값이며, 주로 test_size를 지정해 줍니다. 0.2는 전체 데이터 셋의 20%를 test (validation) 셋으로 지정하겠다는 의미입니다. default 값은 0.25 입니다.\n",
        "  - shuffle: default=True 입니다. split을 해주기 이전에 섞을건지 여부입니다. 보통은 default 값으로 놔둡니다.\n",
        "  - random_state: 세트를 섞을 때 해당 int 값을 보고 섞으며, 하이퍼 파라미터를 튜닝시 이 값을 고정해두고 튜닝해야 매번 데이터셋이 변경되는 것을 방지할 수 있습니다.\n",
        "  - stratify: default=None 입니다. classification을 다룰 때 매우 중요한 옵션값입니다. stratify 값을 target으로 지정해주면 각각의 class 비율(ratio)을 train / validation에 유지해 줍니다. (한 쪽에 쏠려서 분배되는 것을 방지합니다) 만약 이 옵션을 지정해 주지 않고 classification 문제를 다룬다면, 성능의 차이가 많이 날 수 있습니다.\n",
        "- train_test_split 리턴값\n",
        " - X_train, X_test, Y_train, Y_test : arrays에 데이터와 레이블을 둘 다 넣었을 경우의 반환이며, 데이터와 레이블의 순서쌍은 유지된다.\n",
        "  - X_train, X_test : arrays에 레이블 없이 데이터만 넣었을 경우의 반환\n",
        "\n",
        "\n"
      ]
    },
    {
      "cell_type": "code",
      "source": [
        "# 훈련데이터 x_train 값 확인\n",
        "x_train.head()"
      ],
      "metadata": {
        "id": "zGNwNdXZa99H",
        "colab": {
          "base_uri": "https://localhost:8080/",
          "height": 206
        },
        "outputId": "d565dc61-c7b7-43bf-dfe8-466a8394cebe"
      },
      "execution_count": null,
      "outputs": [
        {
          "output_type": "execute_result",
          "data": {
            "text/plain": [
              "     Pregnancies  Glucose  BloodPressure  SkinThickness  Insulin   BMI  \\\n",
              "314            7      109             80             31        0  35.9   \n",
              "73             4      129             86             20      270  35.1   \n",
              "405            2      123             48             32      165  42.1   \n",
              "249            1      111             86             19        0  30.1   \n",
              "241            4       91             70             32       88  33.1   \n",
              "\n",
              "     DiabetesPedigreeFunction  Age  \n",
              "314                     1.127   43  \n",
              "73                      0.231   23  \n",
              "405                     0.520   26  \n",
              "249                     0.143   23  \n",
              "241                     0.446   22  "
            ],
            "text/html": [
              "\n",
              "  <div id=\"df-e7fbc52a-853a-449e-b1f9-4ecb3625cf8e\">\n",
              "    <div class=\"colab-df-container\">\n",
              "      <div>\n",
              "<style scoped>\n",
              "    .dataframe tbody tr th:only-of-type {\n",
              "        vertical-align: middle;\n",
              "    }\n",
              "\n",
              "    .dataframe tbody tr th {\n",
              "        vertical-align: top;\n",
              "    }\n",
              "\n",
              "    .dataframe thead th {\n",
              "        text-align: right;\n",
              "    }\n",
              "</style>\n",
              "<table border=\"1\" class=\"dataframe\">\n",
              "  <thead>\n",
              "    <tr style=\"text-align: right;\">\n",
              "      <th></th>\n",
              "      <th>Pregnancies</th>\n",
              "      <th>Glucose</th>\n",
              "      <th>BloodPressure</th>\n",
              "      <th>SkinThickness</th>\n",
              "      <th>Insulin</th>\n",
              "      <th>BMI</th>\n",
              "      <th>DiabetesPedigreeFunction</th>\n",
              "      <th>Age</th>\n",
              "    </tr>\n",
              "  </thead>\n",
              "  <tbody>\n",
              "    <tr>\n",
              "      <th>314</th>\n",
              "      <td>7</td>\n",
              "      <td>109</td>\n",
              "      <td>80</td>\n",
              "      <td>31</td>\n",
              "      <td>0</td>\n",
              "      <td>35.9</td>\n",
              "      <td>1.127</td>\n",
              "      <td>43</td>\n",
              "    </tr>\n",
              "    <tr>\n",
              "      <th>73</th>\n",
              "      <td>4</td>\n",
              "      <td>129</td>\n",
              "      <td>86</td>\n",
              "      <td>20</td>\n",
              "      <td>270</td>\n",
              "      <td>35.1</td>\n",
              "      <td>0.231</td>\n",
              "      <td>23</td>\n",
              "    </tr>\n",
              "    <tr>\n",
              "      <th>405</th>\n",
              "      <td>2</td>\n",
              "      <td>123</td>\n",
              "      <td>48</td>\n",
              "      <td>32</td>\n",
              "      <td>165</td>\n",
              "      <td>42.1</td>\n",
              "      <td>0.520</td>\n",
              "      <td>26</td>\n",
              "    </tr>\n",
              "    <tr>\n",
              "      <th>249</th>\n",
              "      <td>1</td>\n",
              "      <td>111</td>\n",
              "      <td>86</td>\n",
              "      <td>19</td>\n",
              "      <td>0</td>\n",
              "      <td>30.1</td>\n",
              "      <td>0.143</td>\n",
              "      <td>23</td>\n",
              "    </tr>\n",
              "    <tr>\n",
              "      <th>241</th>\n",
              "      <td>4</td>\n",
              "      <td>91</td>\n",
              "      <td>70</td>\n",
              "      <td>32</td>\n",
              "      <td>88</td>\n",
              "      <td>33.1</td>\n",
              "      <td>0.446</td>\n",
              "      <td>22</td>\n",
              "    </tr>\n",
              "  </tbody>\n",
              "</table>\n",
              "</div>\n",
              "      <button class=\"colab-df-convert\" onclick=\"convertToInteractive('df-e7fbc52a-853a-449e-b1f9-4ecb3625cf8e')\"\n",
              "              title=\"Convert this dataframe to an interactive table.\"\n",
              "              style=\"display:none;\">\n",
              "        \n",
              "  <svg xmlns=\"http://www.w3.org/2000/svg\" height=\"24px\"viewBox=\"0 0 24 24\"\n",
              "       width=\"24px\">\n",
              "    <path d=\"M0 0h24v24H0V0z\" fill=\"none\"/>\n",
              "    <path d=\"M18.56 5.44l.94 2.06.94-2.06 2.06-.94-2.06-.94-.94-2.06-.94 2.06-2.06.94zm-11 1L8.5 8.5l.94-2.06 2.06-.94-2.06-.94L8.5 2.5l-.94 2.06-2.06.94zm10 10l.94 2.06.94-2.06 2.06-.94-2.06-.94-.94-2.06-.94 2.06-2.06.94z\"/><path d=\"M17.41 7.96l-1.37-1.37c-.4-.4-.92-.59-1.43-.59-.52 0-1.04.2-1.43.59L10.3 9.45l-7.72 7.72c-.78.78-.78 2.05 0 2.83L4 21.41c.39.39.9.59 1.41.59.51 0 1.02-.2 1.41-.59l7.78-7.78 2.81-2.81c.8-.78.8-2.07 0-2.86zM5.41 20L4 18.59l7.72-7.72 1.47 1.35L5.41 20z\"/>\n",
              "  </svg>\n",
              "      </button>\n",
              "      \n",
              "  <style>\n",
              "    .colab-df-container {\n",
              "      display:flex;\n",
              "      flex-wrap:wrap;\n",
              "      gap: 12px;\n",
              "    }\n",
              "\n",
              "    .colab-df-convert {\n",
              "      background-color: #E8F0FE;\n",
              "      border: none;\n",
              "      border-radius: 50%;\n",
              "      cursor: pointer;\n",
              "      display: none;\n",
              "      fill: #1967D2;\n",
              "      height: 32px;\n",
              "      padding: 0 0 0 0;\n",
              "      width: 32px;\n",
              "    }\n",
              "\n",
              "    .colab-df-convert:hover {\n",
              "      background-color: #E2EBFA;\n",
              "      box-shadow: 0px 1px 2px rgba(60, 64, 67, 0.3), 0px 1px 3px 1px rgba(60, 64, 67, 0.15);\n",
              "      fill: #174EA6;\n",
              "    }\n",
              "\n",
              "    [theme=dark] .colab-df-convert {\n",
              "      background-color: #3B4455;\n",
              "      fill: #D2E3FC;\n",
              "    }\n",
              "\n",
              "    [theme=dark] .colab-df-convert:hover {\n",
              "      background-color: #434B5C;\n",
              "      box-shadow: 0px 1px 3px 1px rgba(0, 0, 0, 0.15);\n",
              "      filter: drop-shadow(0px 1px 2px rgba(0, 0, 0, 0.3));\n",
              "      fill: #FFFFFF;\n",
              "    }\n",
              "  </style>\n",
              "\n",
              "      <script>\n",
              "        const buttonEl =\n",
              "          document.querySelector('#df-e7fbc52a-853a-449e-b1f9-4ecb3625cf8e button.colab-df-convert');\n",
              "        buttonEl.style.display =\n",
              "          google.colab.kernel.accessAllowed ? 'block' : 'none';\n",
              "\n",
              "        async function convertToInteractive(key) {\n",
              "          const element = document.querySelector('#df-e7fbc52a-853a-449e-b1f9-4ecb3625cf8e');\n",
              "          const dataTable =\n",
              "            await google.colab.kernel.invokeFunction('convertToInteractive',\n",
              "                                                     [key], {});\n",
              "          if (!dataTable) return;\n",
              "\n",
              "          const docLinkHtml = 'Like what you see? Visit the ' +\n",
              "            '<a target=\"_blank\" href=https://colab.research.google.com/notebooks/data_table.ipynb>data table notebook</a>'\n",
              "            + ' to learn more about interactive tables.';\n",
              "          element.innerHTML = '';\n",
              "          dataTable['output_type'] = 'display_data';\n",
              "          await google.colab.output.renderOutput(dataTable, element);\n",
              "          const docLink = document.createElement('div');\n",
              "          docLink.innerHTML = docLinkHtml;\n",
              "          element.appendChild(docLink);\n",
              "        }\n",
              "      </script>\n",
              "    </div>\n",
              "  </div>\n",
              "  "
            ]
          },
          "metadata": {},
          "execution_count": 15
        }
      ]
    },
    {
      "cell_type": "code",
      "source": [
        "# 훈련데이터 y_train 값 확인\n",
        "y_train.head()"
      ],
      "metadata": {
        "id": "CC7yoUsya-dt",
        "colab": {
          "base_uri": "https://localhost:8080/"
        },
        "outputId": "13425cc9-6cc2-4394-fea1-209571828854"
      },
      "execution_count": null,
      "outputs": [
        {
          "output_type": "execute_result",
          "data": {
            "text/plain": [
              "314    1\n",
              "73     0\n",
              "405    0\n",
              "249    0\n",
              "241    0\n",
              "Name: Outcome, dtype: int64"
            ]
          },
          "metadata": {},
          "execution_count": 16
        }
      ]
    },
    {
      "cell_type": "markdown",
      "metadata": {
        "id": "kfbMeNLoXH0S"
      },
      "source": [
        "### 4-4. 모델 학습"
      ]
    },
    {
      "cell_type": "code",
      "metadata": {
        "id": "UrSYO3WRe5-3"
      },
      "source": [
        "from sklearn.tree import DecisionTreeClassifier\n",
        "\n",
        "# Decision Tree Classification\n",
        "dt1 = DecisionTreeClassifier()\n",
        "\n",
        "dt1.fit(x_train,y_train)\n",
        "dt1_prediction = dt1.predict(x_test)"
      ],
      "execution_count": null,
      "outputs": []
    },
    {
      "cell_type": "markdown",
      "metadata": {
        "id": "nVyg_0L6e7Nk"
      },
      "source": [
        "### 4-5. 모델 예측 및 평가"
      ]
    },
    {
      "cell_type": "code",
      "metadata": {
        "id": "eIp-_BYve_km",
        "colab": {
          "base_uri": "https://localhost:8080/"
        },
        "outputId": "df8a7e44-e370-4d12-ac42-5c14f833398a"
      },
      "source": [
        "from sklearn.metrics import accuracy_score\n",
        "\n",
        "# 정확도 출력\n",
        "accuracy_score(y_test, dt1_prediction)"
      ],
      "execution_count": null,
      "outputs": [
        {
          "output_type": "execute_result",
          "data": {
            "text/plain": [
              "0.6948051948051948"
            ]
          },
          "metadata": {},
          "execution_count": 18
        }
      ]
    },
    {
      "cell_type": "markdown",
      "metadata": {
        "id": "ToERVaPKbjOM"
      },
      "source": [
        "------\n",
        "## 5.[모델 평가 지표]\n",
        "머신러닝은 여러 가지 지표로 예측 성능을 평가할 수 있다. 분류는 일반적으로 정확도(Accuracy)로 평가하고 회귀는 보통 오차의 평균값(MSE)으로 한다. 회귀의 평가는 회귀 수업에서 다룬다.\n"
      ]
    },
    {
      "cell_type": "markdown",
      "source": [
        "\n",
        "#### 5-1.분류결과표(Confusion Matrix, 오차행렬)\n",
        "<img src=\"https://static.packt-cdn.com/products/9781838555078/graphics/C13314_06_05.jpg\" width=400px>\n",
        "<img src=\"https://skappal7.files.wordpress.com/2018/08/confusion-matrix.jpg\" width=400px>\n",
        "\n",
        "분류결과표는 타겟의 원래 클래스와 모형이 예측한 클래스가 일치하는지는 갯수로 센 결과를 표나 나타낸 것이다. 정답 클래스는 행(row)으로 예측한 클래스는 열(column)로 나타낸다.\n"
      ],
      "metadata": {
        "id": "PxuF0QKvSEXC"
      }
    },
    {
      "cell_type": "markdown",
      "source": [
        "\n",
        "#### 5-2.정확도(Accuracy)\n",
        "\n",
        "${accuracy} = \\dfrac{TP + TN}{TP + TN + FP + FN} $\n",
        "\n",
        "정확도는 전체 샘플 중 맞게 예측한 샘플 수의 비율을 뜻한다. 높을수록 좋은 모형이다. 일반적으로 학습에서 최적화 목적함수로 사용된다. 하지만 이진분류의 경우 정확도가 왜곡된 평가를 할 수 있기 때문에 주의해야 한다. 예를 들어, 100개의 금융거래 데이터 중 사기거래 데이터(양성 클래스)가 10개 뿐일 때, 만약 무조건 정상거래(음성 클래스)라고 예측하는 ML모델의 경우라도 정확도는 90%가 나오게 된다.\n",
        "\n"
      ],
      "metadata": {
        "id": "3xX6qm43SKki"
      }
    },
    {
      "cell_type": "markdown",
      "source": [
        "\n",
        "#### 5-3.정밀도(Precision)\n",
        "\n",
        "${precision} = \\dfrac{TP}{TP + FP}$\n",
        "\n",
        "정밀도는 양성 클래스에 속한다고 예측한 샘플 중 실제로 양성 클래스에 속하는 샘플 수의 비율을 말한다. 높을수록 좋은 모형이다. 정밀도가 중요한 예로 스팸메일의 경우, 실제 스팸메일(1)을 모델이 일반메일($\\widehat{0}$)로 판단하면 불편함을 느끼는 정도지만, 실제 일반메일(0)을 모델이 스팸($\\widehat{1}$)이라고 판단하면 메일을 아예 받지 못해 업무에 차질이 생길 수 있다.\n"
      ],
      "metadata": {
        "id": "49iujNzjSNex"
      }
    },
    {
      "cell_type": "markdown",
      "source": [
        "\n",
        "\n",
        "#### 5-4.재현율(Recall)\n",
        "\n",
        "${recall} = \\dfrac{TP}{TP + FN}$\n",
        "\n",
        "재현율은 실제 양성 클래스에 속한 표본 중에 양성 클래스에 속한다고 예측한 표본의 수의 비율을 뜻한다. 높을수록 좋은 모형이다. TPR(true positive rate) 또는 민감도(sensitivity)라고도 한다. 재현율이 중요한 예로 사기거래 검출의 경우, 실제 사기거래(1)를 일반거래($\\widehat{0}$)로 판단하면 중대한 문제가 생기는 경우이다."
      ],
      "metadata": {
        "id": "8KFvTJU8SO1V"
      }
    },
    {
      "cell_type": "code",
      "metadata": {
        "id": "olqmkeUYjVmb",
        "colab": {
          "base_uri": "https://localhost:8080/"
        },
        "outputId": "b3140490-c9f1-4267-e999-79e2c0769e2c"
      },
      "source": [
        "from sklearn.metrics import confusion_matrix, classification_report\n",
        "\n",
        "# 오차 행렬과 평가 지표 출력\n",
        "print('오차 행렬\\n', confusion_matrix(y_test, dt1_prediction))\n",
        "print('\\n평가 지표\\n', classification_report(y_test, dt1_prediction))"
      ],
      "execution_count": null,
      "outputs": [
        {
          "output_type": "stream",
          "name": "stdout",
          "text": [
            "오차 행렬\n",
            " [[78 22]\n",
            " [25 29]]\n",
            "\n",
            "평가 지표\n",
            "               precision    recall  f1-score   support\n",
            "\n",
            "           0       0.76      0.78      0.77       100\n",
            "           1       0.57      0.54      0.55        54\n",
            "\n",
            "    accuracy                           0.69       154\n",
            "   macro avg       0.66      0.66      0.66       154\n",
            "weighted avg       0.69      0.69      0.69       154\n",
            "\n"
          ]
        }
      ]
    },
    {
      "cell_type": "markdown",
      "metadata": {
        "id": "DV6tnVchlTQW"
      },
      "source": [
        "## 6.분류 문제 개선하기\n",
        "\n",
        "결정트리 시각화"
      ]
    },
    {
      "cell_type": "code",
      "metadata": {
        "id": "DjjPr4OUl8wX",
        "colab": {
          "base_uri": "https://localhost:8080/",
          "height": 1000
        },
        "outputId": "36dc6d28-1053-4b50-b0a2-3983348730af"
      },
      "source": [
        "from sklearn.tree import export_graphviz\n",
        "import graphviz\n",
        "\n",
        "# 결정트리 시각화\n",
        "export_graphviz(dt1, out_file='tree.dot',\n",
        "                class_names=[\"not diabetes\", \"diabetes\"],\n",
        "                feature_names=x_train.columns,\n",
        "                impurity=True, # gini 계수 출력\n",
        "                filled=True) # class별 color 채우기\n",
        "\n",
        "with open('tree.dot') as f:\n",
        "  dot_graph = f.read()\n",
        "graphviz.Source(dot_graph)"
      ],
      "execution_count": null,
      "outputs": [
        {
          "output_type": "execute_result",
          "data": {
            "image/svg+xml": "<?xml version=\"1.0\" encoding=\"UTF-8\" standalone=\"no\"?>\n<!DOCTYPE svg PUBLIC \"-//W3C//DTD SVG 1.1//EN\"\n \"http://www.w3.org/Graphics/SVG/1.1/DTD/svg11.dtd\">\n<!-- Generated by graphviz version 2.43.0 (0)\n -->\n<!-- Title: Tree Pages: 1 -->\n<svg width=\"5784pt\" height=\"1980pt\"\n viewBox=\"0.00 0.00 5783.50 1980.00\" xmlns=\"http://www.w3.org/2000/svg\" xmlns:xlink=\"http://www.w3.org/1999/xlink\">\n<g id=\"graph0\" class=\"graph\" transform=\"scale(1 1) rotate(0) translate(4 1976)\">\n<title>Tree</title>\n<polygon fill=\"white\" stroke=\"transparent\" points=\"-4,4 -4,-1976 5779.5,-1976 5779.5,4 -4,4\"/>\n<!-- 0 -->\n<g id=\"node1\" class=\"node\">\n<title>0</title>\n<polygon fill=\"#f3c4a3\" stroke=\"black\" points=\"3230,-1972 3093,-1972 3093,-1889 3230,-1889 3230,-1972\"/>\n<text text-anchor=\"middle\" x=\"3161.5\" y=\"-1956.8\" font-family=\"Helvetica,sans-Serif\" font-size=\"14.00\">Glucose &lt;= 127.5</text>\n<text text-anchor=\"middle\" x=\"3161.5\" y=\"-1941.8\" font-family=\"Helvetica,sans-Serif\" font-size=\"14.00\">gini = 0.454</text>\n<text text-anchor=\"middle\" x=\"3161.5\" y=\"-1926.8\" font-family=\"Helvetica,sans-Serif\" font-size=\"14.00\">samples = 614</text>\n<text text-anchor=\"middle\" x=\"3161.5\" y=\"-1911.8\" font-family=\"Helvetica,sans-Serif\" font-size=\"14.00\">value = [400, 214]</text>\n<text text-anchor=\"middle\" x=\"3161.5\" y=\"-1896.8\" font-family=\"Helvetica,sans-Serif\" font-size=\"14.00\">class = not diabetes</text>\n</g>\n<!-- 1 -->\n<g id=\"node2\" class=\"node\">\n<title>1</title>\n<polygon fill=\"#eb9f68\" stroke=\"black\" points=\"2203,-1853 2066,-1853 2066,-1770 2203,-1770 2203,-1853\"/>\n<text text-anchor=\"middle\" x=\"2134.5\" y=\"-1837.8\" font-family=\"Helvetica,sans-Serif\" font-size=\"14.00\">Age &lt;= 28.5</text>\n<text text-anchor=\"middle\" x=\"2134.5\" y=\"-1822.8\" font-family=\"Helvetica,sans-Serif\" font-size=\"14.00\">gini = 0.312</text>\n<text text-anchor=\"middle\" x=\"2134.5\" y=\"-1807.8\" font-family=\"Helvetica,sans-Serif\" font-size=\"14.00\">samples = 393</text>\n<text text-anchor=\"middle\" x=\"2134.5\" y=\"-1792.8\" font-family=\"Helvetica,sans-Serif\" font-size=\"14.00\">value = [317, 76]</text>\n<text text-anchor=\"middle\" x=\"2134.5\" y=\"-1777.8\" font-family=\"Helvetica,sans-Serif\" font-size=\"14.00\">class = not diabetes</text>\n</g>\n<!-- 0&#45;&gt;1 -->\n<g id=\"edge1\" class=\"edge\">\n<title>0&#45;&gt;1</title>\n<path fill=\"none\" stroke=\"black\" d=\"M3092.92,-1921.69C2909.47,-1900.79 2408.23,-1843.68 2213.41,-1821.49\"/>\n<polygon fill=\"black\" stroke=\"black\" points=\"2213.59,-1817.99 2203.25,-1820.33 2212.79,-1824.94 2213.59,-1817.99\"/>\n<text text-anchor=\"middle\" x=\"2218.82\" y=\"-1836.2\" font-family=\"Helvetica,sans-Serif\" font-size=\"14.00\">True</text>\n</g>\n<!-- 122 -->\n<g id=\"node123\" class=\"node\">\n<title>122</title>\n<polygon fill=\"#b0d8f5\" stroke=\"black\" points=\"3686,-1853 3561,-1853 3561,-1770 3686,-1770 3686,-1853\"/>\n<text text-anchor=\"middle\" x=\"3623.5\" y=\"-1837.8\" font-family=\"Helvetica,sans-Serif\" font-size=\"14.00\">Glucose &lt;= 157.5</text>\n<text text-anchor=\"middle\" x=\"3623.5\" y=\"-1822.8\" font-family=\"Helvetica,sans-Serif\" font-size=\"14.00\">gini = 0.469</text>\n<text text-anchor=\"middle\" x=\"3623.5\" y=\"-1807.8\" font-family=\"Helvetica,sans-Serif\" font-size=\"14.00\">samples = 221</text>\n<text text-anchor=\"middle\" x=\"3623.5\" y=\"-1792.8\" font-family=\"Helvetica,sans-Serif\" font-size=\"14.00\">value = [83, 138]</text>\n<text text-anchor=\"middle\" x=\"3623.5\" y=\"-1777.8\" font-family=\"Helvetica,sans-Serif\" font-size=\"14.00\">class = diabetes</text>\n</g>\n<!-- 0&#45;&gt;122 -->\n<g id=\"edge122\" class=\"edge\">\n<title>0&#45;&gt;122</title>\n<path fill=\"none\" stroke=\"black\" d=\"M3230.17,-1912.11C3316.21,-1890.32 3463.02,-1853.14 3550.88,-1830.89\"/>\n<polygon fill=\"black\" stroke=\"black\" points=\"3551.93,-1834.24 3560.76,-1828.39 3550.21,-1827.45 3551.93,-1834.24\"/>\n<text text-anchor=\"middle\" x=\"3547.97\" y=\"-1846.16\" font-family=\"Helvetica,sans-Serif\" font-size=\"14.00\">False</text>\n</g>\n<!-- 2 -->\n<g id=\"node3\" class=\"node\">\n<title>2</title>\n<polygon fill=\"#e88e4e\" stroke=\"black\" points=\"1509,-1734 1372,-1734 1372,-1651 1509,-1651 1509,-1734\"/>\n<text text-anchor=\"middle\" x=\"1440.5\" y=\"-1718.8\" font-family=\"Helvetica,sans-Serif\" font-size=\"14.00\">BMI &lt;= 45.35</text>\n<text text-anchor=\"middle\" x=\"1440.5\" y=\"-1703.8\" font-family=\"Helvetica,sans-Serif\" font-size=\"14.00\">gini = 0.172</text>\n<text text-anchor=\"middle\" x=\"1440.5\" y=\"-1688.8\" font-family=\"Helvetica,sans-Serif\" font-size=\"14.00\">samples = 221</text>\n<text text-anchor=\"middle\" x=\"1440.5\" y=\"-1673.8\" font-family=\"Helvetica,sans-Serif\" font-size=\"14.00\">value = [200, 21]</text>\n<text text-anchor=\"middle\" x=\"1440.5\" y=\"-1658.8\" font-family=\"Helvetica,sans-Serif\" font-size=\"14.00\">class = not diabetes</text>\n</g>\n<!-- 1&#45;&gt;2 -->\n<g id=\"edge2\" class=\"edge\">\n<title>1&#45;&gt;2</title>\n<path fill=\"none\" stroke=\"black\" d=\"M2065.74,-1798.91C1936.04,-1777.04 1656.06,-1729.84 1519.13,-1706.76\"/>\n<polygon fill=\"black\" stroke=\"black\" points=\"1519.56,-1703.28 1509.12,-1705.07 1518.4,-1710.18 1519.56,-1703.28\"/>\n</g>\n<!-- 47 -->\n<g id=\"node48\" class=\"node\">\n<title>47</title>\n<polygon fill=\"#f1bc96\" stroke=\"black\" points=\"2203,-1734 2066,-1734 2066,-1651 2203,-1651 2203,-1734\"/>\n<text text-anchor=\"middle\" x=\"2134.5\" y=\"-1718.8\" font-family=\"Helvetica,sans-Serif\" font-size=\"14.00\">Glucose &lt;= 99.5</text>\n<text text-anchor=\"middle\" x=\"2134.5\" y=\"-1703.8\" font-family=\"Helvetica,sans-Serif\" font-size=\"14.00\">gini = 0.435</text>\n<text text-anchor=\"middle\" x=\"2134.5\" y=\"-1688.8\" font-family=\"Helvetica,sans-Serif\" font-size=\"14.00\">samples = 172</text>\n<text text-anchor=\"middle\" x=\"2134.5\" y=\"-1673.8\" font-family=\"Helvetica,sans-Serif\" font-size=\"14.00\">value = [117, 55]</text>\n<text text-anchor=\"middle\" x=\"2134.5\" y=\"-1658.8\" font-family=\"Helvetica,sans-Serif\" font-size=\"14.00\">class = not diabetes</text>\n</g>\n<!-- 1&#45;&gt;47 -->\n<g id=\"edge47\" class=\"edge\">\n<title>1&#45;&gt;47</title>\n<path fill=\"none\" stroke=\"black\" d=\"M2134.5,-1769.91C2134.5,-1761.65 2134.5,-1752.86 2134.5,-1744.3\"/>\n<polygon fill=\"black\" stroke=\"black\" points=\"2138,-1744.02 2134.5,-1734.02 2131,-1744.02 2138,-1744.02\"/>\n</g>\n<!-- 3 -->\n<g id=\"node4\" class=\"node\">\n<title>3</title>\n<polygon fill=\"#e78c4b\" stroke=\"black\" points=\"807,-1615 670,-1615 670,-1532 807,-1532 807,-1615\"/>\n<text text-anchor=\"middle\" x=\"738.5\" y=\"-1599.8\" font-family=\"Helvetica,sans-Serif\" font-size=\"14.00\">BMI &lt;= 30.9</text>\n<text text-anchor=\"middle\" x=\"738.5\" y=\"-1584.8\" font-family=\"Helvetica,sans-Serif\" font-size=\"14.00\">gini = 0.152</text>\n<text text-anchor=\"middle\" x=\"738.5\" y=\"-1569.8\" font-family=\"Helvetica,sans-Serif\" font-size=\"14.00\">samples = 218</text>\n<text text-anchor=\"middle\" x=\"738.5\" y=\"-1554.8\" font-family=\"Helvetica,sans-Serif\" font-size=\"14.00\">value = [200, 18]</text>\n<text text-anchor=\"middle\" x=\"738.5\" y=\"-1539.8\" font-family=\"Helvetica,sans-Serif\" font-size=\"14.00\">class = not diabetes</text>\n</g>\n<!-- 2&#45;&gt;3 -->\n<g id=\"edge3\" class=\"edge\">\n<title>2&#45;&gt;3</title>\n<path fill=\"none\" stroke=\"black\" d=\"M1371.91,-1680.07C1240.9,-1658.23 955.78,-1610.71 817.23,-1587.62\"/>\n<polygon fill=\"black\" stroke=\"black\" points=\"817.55,-1584.13 807.11,-1585.93 816.4,-1591.03 817.55,-1584.13\"/>\n</g>\n<!-- 46 -->\n<g id=\"node47\" class=\"node\">\n<title>46</title>\n<polygon fill=\"#399de5\" stroke=\"black\" points=\"1497.5,-1607.5 1383.5,-1607.5 1383.5,-1539.5 1497.5,-1539.5 1497.5,-1607.5\"/>\n<text text-anchor=\"middle\" x=\"1440.5\" y=\"-1592.3\" font-family=\"Helvetica,sans-Serif\" font-size=\"14.00\">gini = 0.0</text>\n<text text-anchor=\"middle\" x=\"1440.5\" y=\"-1577.3\" font-family=\"Helvetica,sans-Serif\" font-size=\"14.00\">samples = 3</text>\n<text text-anchor=\"middle\" x=\"1440.5\" y=\"-1562.3\" font-family=\"Helvetica,sans-Serif\" font-size=\"14.00\">value = [0, 3]</text>\n<text text-anchor=\"middle\" x=\"1440.5\" y=\"-1547.3\" font-family=\"Helvetica,sans-Serif\" font-size=\"14.00\">class = diabetes</text>\n</g>\n<!-- 2&#45;&gt;46 -->\n<g id=\"edge46\" class=\"edge\">\n<title>2&#45;&gt;46</title>\n<path fill=\"none\" stroke=\"black\" d=\"M1440.5,-1650.91C1440.5,-1640.2 1440.5,-1628.62 1440.5,-1617.78\"/>\n<polygon fill=\"black\" stroke=\"black\" points=\"1444,-1617.67 1440.5,-1607.67 1437,-1617.67 1444,-1617.67\"/>\n</g>\n<!-- 4 -->\n<g id=\"node5\" class=\"node\">\n<title>4</title>\n<polygon fill=\"#e5833c\" stroke=\"black\" points=\"532,-1496 395,-1496 395,-1413 532,-1413 532,-1496\"/>\n<text text-anchor=\"middle\" x=\"463.5\" y=\"-1480.8\" font-family=\"Helvetica,sans-Serif\" font-size=\"14.00\">Pregnancies &lt;= 7.0</text>\n<text text-anchor=\"middle\" x=\"463.5\" y=\"-1465.8\" font-family=\"Helvetica,sans-Serif\" font-size=\"14.00\">gini = 0.031</text>\n<text text-anchor=\"middle\" x=\"463.5\" y=\"-1450.8\" font-family=\"Helvetica,sans-Serif\" font-size=\"14.00\">samples = 125</text>\n<text text-anchor=\"middle\" x=\"463.5\" y=\"-1435.8\" font-family=\"Helvetica,sans-Serif\" font-size=\"14.00\">value = [123, 2]</text>\n<text text-anchor=\"middle\" x=\"463.5\" y=\"-1420.8\" font-family=\"Helvetica,sans-Serif\" font-size=\"14.00\">class = not diabetes</text>\n</g>\n<!-- 3&#45;&gt;4 -->\n<g id=\"edge4\" class=\"edge\">\n<title>3&#45;&gt;4</title>\n<path fill=\"none\" stroke=\"black\" d=\"M669.82,-1543.28C630.85,-1526.7 581.95,-1505.9 541.54,-1488.7\"/>\n<polygon fill=\"black\" stroke=\"black\" points=\"542.83,-1485.45 532.26,-1484.76 540.09,-1491.89 542.83,-1485.45\"/>\n</g>\n<!-- 11 -->\n<g id=\"node12\" class=\"node\">\n<title>11</title>\n<polygon fill=\"#ea9b62\" stroke=\"black\" points=\"855,-1496 622,-1496 622,-1413 855,-1413 855,-1496\"/>\n<text text-anchor=\"middle\" x=\"738.5\" y=\"-1480.8\" font-family=\"Helvetica,sans-Serif\" font-size=\"14.00\">DiabetesPedigreeFunction &lt;= 0.501</text>\n<text text-anchor=\"middle\" x=\"738.5\" y=\"-1465.8\" font-family=\"Helvetica,sans-Serif\" font-size=\"14.00\">gini = 0.285</text>\n<text text-anchor=\"middle\" x=\"738.5\" y=\"-1450.8\" font-family=\"Helvetica,sans-Serif\" font-size=\"14.00\">samples = 93</text>\n<text text-anchor=\"middle\" x=\"738.5\" y=\"-1435.8\" font-family=\"Helvetica,sans-Serif\" font-size=\"14.00\">value = [77, 16]</text>\n<text text-anchor=\"middle\" x=\"738.5\" y=\"-1420.8\" font-family=\"Helvetica,sans-Serif\" font-size=\"14.00\">class = not diabetes</text>\n</g>\n<!-- 3&#45;&gt;11 -->\n<g id=\"edge11\" class=\"edge\">\n<title>3&#45;&gt;11</title>\n<path fill=\"none\" stroke=\"black\" d=\"M738.5,-1531.91C738.5,-1523.65 738.5,-1514.86 738.5,-1506.3\"/>\n<polygon fill=\"black\" stroke=\"black\" points=\"742,-1506.02 738.5,-1496.02 735,-1506.02 742,-1506.02\"/>\n</g>\n<!-- 5 -->\n<g id=\"node6\" class=\"node\">\n<title>5</title>\n<polygon fill=\"#e5823b\" stroke=\"black\" points=\"388,-1377 155,-1377 155,-1294 388,-1294 388,-1377\"/>\n<text text-anchor=\"middle\" x=\"271.5\" y=\"-1361.8\" font-family=\"Helvetica,sans-Serif\" font-size=\"14.00\">DiabetesPedigreeFunction &lt;= 0.672</text>\n<text text-anchor=\"middle\" x=\"271.5\" y=\"-1346.8\" font-family=\"Helvetica,sans-Serif\" font-size=\"14.00\">gini = 0.016</text>\n<text text-anchor=\"middle\" x=\"271.5\" y=\"-1331.8\" font-family=\"Helvetica,sans-Serif\" font-size=\"14.00\">samples = 124</text>\n<text text-anchor=\"middle\" x=\"271.5\" y=\"-1316.8\" font-family=\"Helvetica,sans-Serif\" font-size=\"14.00\">value = [123, 1]</text>\n<text text-anchor=\"middle\" x=\"271.5\" y=\"-1301.8\" font-family=\"Helvetica,sans-Serif\" font-size=\"14.00\">class = not diabetes</text>\n</g>\n<!-- 4&#45;&gt;5 -->\n<g id=\"edge5\" class=\"edge\">\n<title>4&#45;&gt;5</title>\n<path fill=\"none\" stroke=\"black\" d=\"M396.89,-1412.91C380.65,-1403.02 363.18,-1392.37 346.58,-1382.25\"/>\n<polygon fill=\"black\" stroke=\"black\" points=\"348.36,-1379.24 338,-1377.02 344.71,-1385.21 348.36,-1379.24\"/>\n</g>\n<!-- 10 -->\n<g id=\"node11\" class=\"node\">\n<title>10</title>\n<polygon fill=\"#399de5\" stroke=\"black\" points=\"520.5,-1369.5 406.5,-1369.5 406.5,-1301.5 520.5,-1301.5 520.5,-1369.5\"/>\n<text text-anchor=\"middle\" x=\"463.5\" y=\"-1354.3\" font-family=\"Helvetica,sans-Serif\" font-size=\"14.00\">gini = 0.0</text>\n<text text-anchor=\"middle\" x=\"463.5\" y=\"-1339.3\" font-family=\"Helvetica,sans-Serif\" font-size=\"14.00\">samples = 1</text>\n<text text-anchor=\"middle\" x=\"463.5\" y=\"-1324.3\" font-family=\"Helvetica,sans-Serif\" font-size=\"14.00\">value = [0, 1]</text>\n<text text-anchor=\"middle\" x=\"463.5\" y=\"-1309.3\" font-family=\"Helvetica,sans-Serif\" font-size=\"14.00\">class = diabetes</text>\n</g>\n<!-- 4&#45;&gt;10 -->\n<g id=\"edge10\" class=\"edge\">\n<title>4&#45;&gt;10</title>\n<path fill=\"none\" stroke=\"black\" d=\"M463.5,-1412.91C463.5,-1402.2 463.5,-1390.62 463.5,-1379.78\"/>\n<polygon fill=\"black\" stroke=\"black\" points=\"467,-1379.67 463.5,-1369.67 460,-1379.67 467,-1379.67\"/>\n</g>\n<!-- 6 -->\n<g id=\"node7\" class=\"node\">\n<title>6</title>\n<polygon fill=\"#e58139\" stroke=\"black\" points=\"137,-1250.5 0,-1250.5 0,-1182.5 137,-1182.5 137,-1250.5\"/>\n<text text-anchor=\"middle\" x=\"68.5\" y=\"-1235.3\" font-family=\"Helvetica,sans-Serif\" font-size=\"14.00\">gini = 0.0</text>\n<text text-anchor=\"middle\" x=\"68.5\" y=\"-1220.3\" font-family=\"Helvetica,sans-Serif\" font-size=\"14.00\">samples = 111</text>\n<text text-anchor=\"middle\" x=\"68.5\" y=\"-1205.3\" font-family=\"Helvetica,sans-Serif\" font-size=\"14.00\">value = [111, 0]</text>\n<text text-anchor=\"middle\" x=\"68.5\" y=\"-1190.3\" font-family=\"Helvetica,sans-Serif\" font-size=\"14.00\">class = not diabetes</text>\n</g>\n<!-- 5&#45;&gt;6 -->\n<g id=\"edge6\" class=\"edge\">\n<title>5&#45;&gt;6</title>\n<path fill=\"none\" stroke=\"black\" d=\"M201.07,-1293.91C179.63,-1281.55 156.14,-1268.01 134.97,-1255.81\"/>\n<polygon fill=\"black\" stroke=\"black\" points=\"136.46,-1252.63 126.05,-1250.67 132.96,-1258.69 136.46,-1252.63\"/>\n</g>\n<!-- 7 -->\n<g id=\"node8\" class=\"node\">\n<title>7</title>\n<polygon fill=\"#e78c49\" stroke=\"black\" points=\"388,-1258 155,-1258 155,-1175 388,-1175 388,-1258\"/>\n<text text-anchor=\"middle\" x=\"271.5\" y=\"-1242.8\" font-family=\"Helvetica,sans-Serif\" font-size=\"14.00\">DiabetesPedigreeFunction &lt;= 0.697</text>\n<text text-anchor=\"middle\" x=\"271.5\" y=\"-1227.8\" font-family=\"Helvetica,sans-Serif\" font-size=\"14.00\">gini = 0.142</text>\n<text text-anchor=\"middle\" x=\"271.5\" y=\"-1212.8\" font-family=\"Helvetica,sans-Serif\" font-size=\"14.00\">samples = 13</text>\n<text text-anchor=\"middle\" x=\"271.5\" y=\"-1197.8\" font-family=\"Helvetica,sans-Serif\" font-size=\"14.00\">value = [12, 1]</text>\n<text text-anchor=\"middle\" x=\"271.5\" y=\"-1182.8\" font-family=\"Helvetica,sans-Serif\" font-size=\"14.00\">class = not diabetes</text>\n</g>\n<!-- 5&#45;&gt;7 -->\n<g id=\"edge7\" class=\"edge\">\n<title>5&#45;&gt;7</title>\n<path fill=\"none\" stroke=\"black\" d=\"M271.5,-1293.91C271.5,-1285.65 271.5,-1276.86 271.5,-1268.3\"/>\n<polygon fill=\"black\" stroke=\"black\" points=\"275,-1268.02 271.5,-1258.02 268,-1268.02 275,-1268.02\"/>\n</g>\n<!-- 8 -->\n<g id=\"node9\" class=\"node\">\n<title>8</title>\n<polygon fill=\"#399de5\" stroke=\"black\" points=\"186.5,-1131.5 72.5,-1131.5 72.5,-1063.5 186.5,-1063.5 186.5,-1131.5\"/>\n<text text-anchor=\"middle\" x=\"129.5\" y=\"-1116.3\" font-family=\"Helvetica,sans-Serif\" font-size=\"14.00\">gini = 0.0</text>\n<text text-anchor=\"middle\" x=\"129.5\" y=\"-1101.3\" font-family=\"Helvetica,sans-Serif\" font-size=\"14.00\">samples = 1</text>\n<text text-anchor=\"middle\" x=\"129.5\" y=\"-1086.3\" font-family=\"Helvetica,sans-Serif\" font-size=\"14.00\">value = [0, 1]</text>\n<text text-anchor=\"middle\" x=\"129.5\" y=\"-1071.3\" font-family=\"Helvetica,sans-Serif\" font-size=\"14.00\">class = diabetes</text>\n</g>\n<!-- 7&#45;&gt;8 -->\n<g id=\"edge8\" class=\"edge\">\n<title>7&#45;&gt;8</title>\n<path fill=\"none\" stroke=\"black\" d=\"M222.23,-1174.91C207.77,-1162.99 191.97,-1149.98 177.59,-1138.12\"/>\n<polygon fill=\"black\" stroke=\"black\" points=\"179.7,-1135.32 169.75,-1131.67 175.25,-1140.73 179.7,-1135.32\"/>\n</g>\n<!-- 9 -->\n<g id=\"node10\" class=\"node\">\n<title>9</title>\n<polygon fill=\"#e58139\" stroke=\"black\" points=\"342,-1131.5 205,-1131.5 205,-1063.5 342,-1063.5 342,-1131.5\"/>\n<text text-anchor=\"middle\" x=\"273.5\" y=\"-1116.3\" font-family=\"Helvetica,sans-Serif\" font-size=\"14.00\">gini = 0.0</text>\n<text text-anchor=\"middle\" x=\"273.5\" y=\"-1101.3\" font-family=\"Helvetica,sans-Serif\" font-size=\"14.00\">samples = 12</text>\n<text text-anchor=\"middle\" x=\"273.5\" y=\"-1086.3\" font-family=\"Helvetica,sans-Serif\" font-size=\"14.00\">value = [12, 0]</text>\n<text text-anchor=\"middle\" x=\"273.5\" y=\"-1071.3\" font-family=\"Helvetica,sans-Serif\" font-size=\"14.00\">class = not diabetes</text>\n</g>\n<!-- 7&#45;&gt;9 -->\n<g id=\"edge9\" class=\"edge\">\n<title>7&#45;&gt;9</title>\n<path fill=\"none\" stroke=\"black\" d=\"M272.19,-1174.91C272.38,-1164.2 272.57,-1152.62 272.76,-1141.78\"/>\n<polygon fill=\"black\" stroke=\"black\" points=\"276.26,-1141.73 272.93,-1131.67 269.26,-1141.61 276.26,-1141.73\"/>\n</g>\n<!-- 12 -->\n<g id=\"node13\" class=\"node\">\n<title>12</title>\n<polygon fill=\"#e88d4c\" stroke=\"black\" points=\"676,-1377 539,-1377 539,-1294 676,-1294 676,-1377\"/>\n<text text-anchor=\"middle\" x=\"607.5\" y=\"-1361.8\" font-family=\"Helvetica,sans-Serif\" font-size=\"14.00\">BMI &lt;= 31.1</text>\n<text text-anchor=\"middle\" x=\"607.5\" y=\"-1346.8\" font-family=\"Helvetica,sans-Serif\" font-size=\"14.00\">gini = 0.163</text>\n<text text-anchor=\"middle\" x=\"607.5\" y=\"-1331.8\" font-family=\"Helvetica,sans-Serif\" font-size=\"14.00\">samples = 56</text>\n<text text-anchor=\"middle\" x=\"607.5\" y=\"-1316.8\" font-family=\"Helvetica,sans-Serif\" font-size=\"14.00\">value = [51, 5]</text>\n<text text-anchor=\"middle\" x=\"607.5\" y=\"-1301.8\" font-family=\"Helvetica,sans-Serif\" font-size=\"14.00\">class = not diabetes</text>\n</g>\n<!-- 11&#45;&gt;12 -->\n<g id=\"edge12\" class=\"edge\">\n<title>11&#45;&gt;12</title>\n<path fill=\"none\" stroke=\"black\" d=\"M693.05,-1412.91C682.58,-1403.56 671.36,-1393.54 660.6,-1383.93\"/>\n<polygon fill=\"black\" stroke=\"black\" points=\"662.66,-1381.07 652.87,-1377.02 658,-1386.29 662.66,-1381.07\"/>\n</g>\n<!-- 25 -->\n<g id=\"node26\" class=\"node\">\n<title>25</title>\n<polygon fill=\"#f0b68d\" stroke=\"black\" points=\"969,-1377 736,-1377 736,-1294 969,-1294 969,-1377\"/>\n<text text-anchor=\"middle\" x=\"852.5\" y=\"-1361.8\" font-family=\"Helvetica,sans-Serif\" font-size=\"14.00\">DiabetesPedigreeFunction &lt;= 0.544</text>\n<text text-anchor=\"middle\" x=\"852.5\" y=\"-1346.8\" font-family=\"Helvetica,sans-Serif\" font-size=\"14.00\">gini = 0.418</text>\n<text text-anchor=\"middle\" x=\"852.5\" y=\"-1331.8\" font-family=\"Helvetica,sans-Serif\" font-size=\"14.00\">samples = 37</text>\n<text text-anchor=\"middle\" x=\"852.5\" y=\"-1316.8\" font-family=\"Helvetica,sans-Serif\" font-size=\"14.00\">value = [26, 11]</text>\n<text text-anchor=\"middle\" x=\"852.5\" y=\"-1301.8\" font-family=\"Helvetica,sans-Serif\" font-size=\"14.00\">class = not diabetes</text>\n</g>\n<!-- 11&#45;&gt;25 -->\n<g id=\"edge25\" class=\"edge\">\n<title>11&#45;&gt;25</title>\n<path fill=\"none\" stroke=\"black\" d=\"M778.05,-1412.91C787.07,-1403.65 796.74,-1393.73 806.01,-1384.21\"/>\n<polygon fill=\"black\" stroke=\"black\" points=\"808.55,-1386.63 813.02,-1377.02 803.53,-1381.74 808.55,-1386.63\"/>\n</g>\n<!-- 13 -->\n<g id=\"node14\" class=\"node\">\n<title>13</title>\n<polygon fill=\"#399de5\" stroke=\"black\" points=\"520.5,-1250.5 406.5,-1250.5 406.5,-1182.5 520.5,-1182.5 520.5,-1250.5\"/>\n<text text-anchor=\"middle\" x=\"463.5\" y=\"-1235.3\" font-family=\"Helvetica,sans-Serif\" font-size=\"14.00\">gini = 0.0</text>\n<text text-anchor=\"middle\" x=\"463.5\" y=\"-1220.3\" font-family=\"Helvetica,sans-Serif\" font-size=\"14.00\">samples = 1</text>\n<text text-anchor=\"middle\" x=\"463.5\" y=\"-1205.3\" font-family=\"Helvetica,sans-Serif\" font-size=\"14.00\">value = [0, 1]</text>\n<text text-anchor=\"middle\" x=\"463.5\" y=\"-1190.3\" font-family=\"Helvetica,sans-Serif\" font-size=\"14.00\">class = diabetes</text>\n</g>\n<!-- 12&#45;&gt;13 -->\n<g id=\"edge13\" class=\"edge\">\n<title>12&#45;&gt;13</title>\n<path fill=\"none\" stroke=\"black\" d=\"M557.54,-1293.91C542.87,-1281.99 526.85,-1268.98 512.26,-1257.12\"/>\n<polygon fill=\"black\" stroke=\"black\" points=\"514.29,-1254.26 504.32,-1250.67 509.87,-1259.69 514.29,-1254.26\"/>\n</g>\n<!-- 14 -->\n<g id=\"node15\" class=\"node\">\n<title>14</title>\n<polygon fill=\"#e78b49\" stroke=\"black\" points=\"676,-1258 539,-1258 539,-1175 676,-1175 676,-1258\"/>\n<text text-anchor=\"middle\" x=\"607.5\" y=\"-1242.8\" font-family=\"Helvetica,sans-Serif\" font-size=\"14.00\">Insulin &lt;= 36.5</text>\n<text text-anchor=\"middle\" x=\"607.5\" y=\"-1227.8\" font-family=\"Helvetica,sans-Serif\" font-size=\"14.00\">gini = 0.135</text>\n<text text-anchor=\"middle\" x=\"607.5\" y=\"-1212.8\" font-family=\"Helvetica,sans-Serif\" font-size=\"14.00\">samples = 55</text>\n<text text-anchor=\"middle\" x=\"607.5\" y=\"-1197.8\" font-family=\"Helvetica,sans-Serif\" font-size=\"14.00\">value = [51, 4]</text>\n<text text-anchor=\"middle\" x=\"607.5\" y=\"-1182.8\" font-family=\"Helvetica,sans-Serif\" font-size=\"14.00\">class = not diabetes</text>\n</g>\n<!-- 12&#45;&gt;14 -->\n<g id=\"edge14\" class=\"edge\">\n<title>12&#45;&gt;14</title>\n<path fill=\"none\" stroke=\"black\" d=\"M607.5,-1293.91C607.5,-1285.65 607.5,-1276.86 607.5,-1268.3\"/>\n<polygon fill=\"black\" stroke=\"black\" points=\"611,-1268.02 607.5,-1258.02 604,-1268.02 611,-1268.02\"/>\n</g>\n<!-- 15 -->\n<g id=\"node16\" class=\"node\">\n<title>15</title>\n<polygon fill=\"#eca36e\" stroke=\"black\" points=\"519,-1139 364,-1139 364,-1056 519,-1056 519,-1139\"/>\n<text text-anchor=\"middle\" x=\"441.5\" y=\"-1123.8\" font-family=\"Helvetica,sans-Serif\" font-size=\"14.00\">BloodPressure &lt;= 73.0</text>\n<text text-anchor=\"middle\" x=\"441.5\" y=\"-1108.8\" font-family=\"Helvetica,sans-Serif\" font-size=\"14.00\">gini = 0.332</text>\n<text text-anchor=\"middle\" x=\"441.5\" y=\"-1093.8\" font-family=\"Helvetica,sans-Serif\" font-size=\"14.00\">samples = 19</text>\n<text text-anchor=\"middle\" x=\"441.5\" y=\"-1078.8\" font-family=\"Helvetica,sans-Serif\" font-size=\"14.00\">value = [15, 4]</text>\n<text text-anchor=\"middle\" x=\"441.5\" y=\"-1063.8\" font-family=\"Helvetica,sans-Serif\" font-size=\"14.00\">class = not diabetes</text>\n</g>\n<!-- 14&#45;&gt;15 -->\n<g id=\"edge15\" class=\"edge\">\n<title>14&#45;&gt;15</title>\n<path fill=\"none\" stroke=\"black\" d=\"M549.91,-1174.91C536.13,-1165.2 521.32,-1154.76 507.21,-1144.81\"/>\n<polygon fill=\"black\" stroke=\"black\" points=\"509.18,-1141.92 498.99,-1139.02 505.15,-1147.64 509.18,-1141.92\"/>\n</g>\n<!-- 24 -->\n<g id=\"node25\" class=\"node\">\n<title>24</title>\n<polygon fill=\"#e58139\" stroke=\"black\" points=\"674,-1131.5 537,-1131.5 537,-1063.5 674,-1063.5 674,-1131.5\"/>\n<text text-anchor=\"middle\" x=\"605.5\" y=\"-1116.3\" font-family=\"Helvetica,sans-Serif\" font-size=\"14.00\">gini = 0.0</text>\n<text text-anchor=\"middle\" x=\"605.5\" y=\"-1101.3\" font-family=\"Helvetica,sans-Serif\" font-size=\"14.00\">samples = 36</text>\n<text text-anchor=\"middle\" x=\"605.5\" y=\"-1086.3\" font-family=\"Helvetica,sans-Serif\" font-size=\"14.00\">value = [36, 0]</text>\n<text text-anchor=\"middle\" x=\"605.5\" y=\"-1071.3\" font-family=\"Helvetica,sans-Serif\" font-size=\"14.00\">class = not diabetes</text>\n</g>\n<!-- 14&#45;&gt;24 -->\n<g id=\"edge24\" class=\"edge\">\n<title>14&#45;&gt;24</title>\n<path fill=\"none\" stroke=\"black\" d=\"M606.81,-1174.91C606.62,-1164.2 606.43,-1152.62 606.24,-1141.78\"/>\n<polygon fill=\"black\" stroke=\"black\" points=\"609.74,-1141.61 606.07,-1131.67 602.74,-1141.73 609.74,-1141.61\"/>\n</g>\n<!-- 16 -->\n<g id=\"node17\" class=\"node\">\n<title>16</title>\n<polygon fill=\"#e78c49\" stroke=\"black\" points=\"447,-1020 214,-1020 214,-937 447,-937 447,-1020\"/>\n<text text-anchor=\"middle\" x=\"330.5\" y=\"-1004.8\" font-family=\"Helvetica,sans-Serif\" font-size=\"14.00\">DiabetesPedigreeFunction &lt;= 0.128</text>\n<text text-anchor=\"middle\" x=\"330.5\" y=\"-989.8\" font-family=\"Helvetica,sans-Serif\" font-size=\"14.00\">gini = 0.142</text>\n<text text-anchor=\"middle\" x=\"330.5\" y=\"-974.8\" font-family=\"Helvetica,sans-Serif\" font-size=\"14.00\">samples = 13</text>\n<text text-anchor=\"middle\" x=\"330.5\" y=\"-959.8\" font-family=\"Helvetica,sans-Serif\" font-size=\"14.00\">value = [12, 1]</text>\n<text text-anchor=\"middle\" x=\"330.5\" y=\"-944.8\" font-family=\"Helvetica,sans-Serif\" font-size=\"14.00\">class = not diabetes</text>\n</g>\n<!-- 15&#45;&gt;16 -->\n<g id=\"edge16\" class=\"edge\">\n<title>15&#45;&gt;16</title>\n<path fill=\"none\" stroke=\"black\" d=\"M402.99,-1055.91C394.29,-1046.74 384.98,-1036.93 376.03,-1027.49\"/>\n<polygon fill=\"black\" stroke=\"black\" points=\"378.36,-1024.87 368.94,-1020.02 373.29,-1029.68 378.36,-1024.87\"/>\n</g>\n<!-- 19 -->\n<g id=\"node20\" class=\"node\">\n<title>19</title>\n<polygon fill=\"#ffffff\" stroke=\"black\" points=\"602,-1020 465,-1020 465,-937 602,-937 602,-1020\"/>\n<text text-anchor=\"middle\" x=\"533.5\" y=\"-1004.8\" font-family=\"Helvetica,sans-Serif\" font-size=\"14.00\">BMI &lt;= 34.5</text>\n<text text-anchor=\"middle\" x=\"533.5\" y=\"-989.8\" font-family=\"Helvetica,sans-Serif\" font-size=\"14.00\">gini = 0.5</text>\n<text text-anchor=\"middle\" x=\"533.5\" y=\"-974.8\" font-family=\"Helvetica,sans-Serif\" font-size=\"14.00\">samples = 6</text>\n<text text-anchor=\"middle\" x=\"533.5\" y=\"-959.8\" font-family=\"Helvetica,sans-Serif\" font-size=\"14.00\">value = [3, 3]</text>\n<text text-anchor=\"middle\" x=\"533.5\" y=\"-944.8\" font-family=\"Helvetica,sans-Serif\" font-size=\"14.00\">class = not diabetes</text>\n</g>\n<!-- 15&#45;&gt;19 -->\n<g id=\"edge19\" class=\"edge\">\n<title>15&#45;&gt;19</title>\n<path fill=\"none\" stroke=\"black\" d=\"M473.42,-1055.91C480.48,-1046.92 488.04,-1037.32 495.32,-1028.05\"/>\n<polygon fill=\"black\" stroke=\"black\" points=\"498.21,-1030.05 501.64,-1020.02 492.7,-1025.72 498.21,-1030.05\"/>\n</g>\n<!-- 17 -->\n<g id=\"node18\" class=\"node\">\n<title>17</title>\n<polygon fill=\"#399de5\" stroke=\"black\" points=\"258.5,-893.5 144.5,-893.5 144.5,-825.5 258.5,-825.5 258.5,-893.5\"/>\n<text text-anchor=\"middle\" x=\"201.5\" y=\"-878.3\" font-family=\"Helvetica,sans-Serif\" font-size=\"14.00\">gini = 0.0</text>\n<text text-anchor=\"middle\" x=\"201.5\" y=\"-863.3\" font-family=\"Helvetica,sans-Serif\" font-size=\"14.00\">samples = 1</text>\n<text text-anchor=\"middle\" x=\"201.5\" y=\"-848.3\" font-family=\"Helvetica,sans-Serif\" font-size=\"14.00\">value = [0, 1]</text>\n<text text-anchor=\"middle\" x=\"201.5\" y=\"-833.3\" font-family=\"Helvetica,sans-Serif\" font-size=\"14.00\">class = diabetes</text>\n</g>\n<!-- 16&#45;&gt;17 -->\n<g id=\"edge17\" class=\"edge\">\n<title>16&#45;&gt;17</title>\n<path fill=\"none\" stroke=\"black\" d=\"M285.74,-936.91C272.73,-925.1 258.52,-912.22 245.55,-900.45\"/>\n<polygon fill=\"black\" stroke=\"black\" points=\"247.83,-897.79 238.07,-893.67 243.12,-902.98 247.83,-897.79\"/>\n</g>\n<!-- 18 -->\n<g id=\"node19\" class=\"node\">\n<title>18</title>\n<polygon fill=\"#e58139\" stroke=\"black\" points=\"414,-893.5 277,-893.5 277,-825.5 414,-825.5 414,-893.5\"/>\n<text text-anchor=\"middle\" x=\"345.5\" y=\"-878.3\" font-family=\"Helvetica,sans-Serif\" font-size=\"14.00\">gini = 0.0</text>\n<text text-anchor=\"middle\" x=\"345.5\" y=\"-863.3\" font-family=\"Helvetica,sans-Serif\" font-size=\"14.00\">samples = 12</text>\n<text text-anchor=\"middle\" x=\"345.5\" y=\"-848.3\" font-family=\"Helvetica,sans-Serif\" font-size=\"14.00\">value = [12, 0]</text>\n<text text-anchor=\"middle\" x=\"345.5\" y=\"-833.3\" font-family=\"Helvetica,sans-Serif\" font-size=\"14.00\">class = not diabetes</text>\n</g>\n<!-- 16&#45;&gt;18 -->\n<g id=\"edge18\" class=\"edge\">\n<title>16&#45;&gt;18</title>\n<path fill=\"none\" stroke=\"black\" d=\"M335.7,-936.91C337.08,-926.2 338.56,-914.62 339.95,-903.78\"/>\n<polygon fill=\"black\" stroke=\"black\" points=\"343.45,-904.03 341.25,-893.67 336.5,-903.14 343.45,-904.03\"/>\n</g>\n<!-- 20 -->\n<g id=\"node21\" class=\"node\">\n<title>20</title>\n<polygon fill=\"#399de5\" stroke=\"black\" points=\"575.5,-893.5 461.5,-893.5 461.5,-825.5 575.5,-825.5 575.5,-893.5\"/>\n<text text-anchor=\"middle\" x=\"518.5\" y=\"-878.3\" font-family=\"Helvetica,sans-Serif\" font-size=\"14.00\">gini = 0.0</text>\n<text text-anchor=\"middle\" x=\"518.5\" y=\"-863.3\" font-family=\"Helvetica,sans-Serif\" font-size=\"14.00\">samples = 2</text>\n<text text-anchor=\"middle\" x=\"518.5\" y=\"-848.3\" font-family=\"Helvetica,sans-Serif\" font-size=\"14.00\">value = [0, 2]</text>\n<text text-anchor=\"middle\" x=\"518.5\" y=\"-833.3\" font-family=\"Helvetica,sans-Serif\" font-size=\"14.00\">class = diabetes</text>\n</g>\n<!-- 19&#45;&gt;20 -->\n<g id=\"edge20\" class=\"edge\">\n<title>19&#45;&gt;20</title>\n<path fill=\"none\" stroke=\"black\" d=\"M528.3,-936.91C526.92,-926.2 525.44,-914.62 524.05,-903.78\"/>\n<polygon fill=\"black\" stroke=\"black\" points=\"527.5,-903.14 522.75,-893.67 520.55,-904.03 527.5,-903.14\"/>\n</g>\n<!-- 21 -->\n<g id=\"node22\" class=\"node\">\n<title>21</title>\n<polygon fill=\"#eeab7b\" stroke=\"black\" points=\"827,-901 594,-901 594,-818 827,-818 827,-901\"/>\n<text text-anchor=\"middle\" x=\"710.5\" y=\"-885.8\" font-family=\"Helvetica,sans-Serif\" font-size=\"14.00\">DiabetesPedigreeFunction &lt;= 0.222</text>\n<text text-anchor=\"middle\" x=\"710.5\" y=\"-870.8\" font-family=\"Helvetica,sans-Serif\" font-size=\"14.00\">gini = 0.375</text>\n<text text-anchor=\"middle\" x=\"710.5\" y=\"-855.8\" font-family=\"Helvetica,sans-Serif\" font-size=\"14.00\">samples = 4</text>\n<text text-anchor=\"middle\" x=\"710.5\" y=\"-840.8\" font-family=\"Helvetica,sans-Serif\" font-size=\"14.00\">value = [3, 1]</text>\n<text text-anchor=\"middle\" x=\"710.5\" y=\"-825.8\" font-family=\"Helvetica,sans-Serif\" font-size=\"14.00\">class = not diabetes</text>\n</g>\n<!-- 19&#45;&gt;21 -->\n<g id=\"edge21\" class=\"edge\">\n<title>19&#45;&gt;21</title>\n<path fill=\"none\" stroke=\"black\" d=\"M594.91,-936.91C609.6,-927.2 625.39,-916.76 640.44,-906.81\"/>\n<polygon fill=\"black\" stroke=\"black\" points=\"642.79,-909.45 649.2,-901.02 638.93,-903.62 642.79,-909.45\"/>\n</g>\n<!-- 22 -->\n<g id=\"node23\" class=\"node\">\n<title>22</title>\n<polygon fill=\"#e58139\" stroke=\"black\" points=\"707,-774.5 570,-774.5 570,-706.5 707,-706.5 707,-774.5\"/>\n<text text-anchor=\"middle\" x=\"638.5\" y=\"-759.3\" font-family=\"Helvetica,sans-Serif\" font-size=\"14.00\">gini = 0.0</text>\n<text text-anchor=\"middle\" x=\"638.5\" y=\"-744.3\" font-family=\"Helvetica,sans-Serif\" font-size=\"14.00\">samples = 3</text>\n<text text-anchor=\"middle\" x=\"638.5\" y=\"-729.3\" font-family=\"Helvetica,sans-Serif\" font-size=\"14.00\">value = [3, 0]</text>\n<text text-anchor=\"middle\" x=\"638.5\" y=\"-714.3\" font-family=\"Helvetica,sans-Serif\" font-size=\"14.00\">class = not diabetes</text>\n</g>\n<!-- 21&#45;&gt;22 -->\n<g id=\"edge22\" class=\"edge\">\n<title>21&#45;&gt;22</title>\n<path fill=\"none\" stroke=\"black\" d=\"M685.52,-817.91C678.66,-806.76 671.21,-794.66 664.31,-783.44\"/>\n<polygon fill=\"black\" stroke=\"black\" points=\"667.13,-781.35 658.91,-774.67 661.17,-785.02 667.13,-781.35\"/>\n</g>\n<!-- 23 -->\n<g id=\"node24\" class=\"node\">\n<title>23</title>\n<polygon fill=\"#399de5\" stroke=\"black\" points=\"839.5,-774.5 725.5,-774.5 725.5,-706.5 839.5,-706.5 839.5,-774.5\"/>\n<text text-anchor=\"middle\" x=\"782.5\" y=\"-759.3\" font-family=\"Helvetica,sans-Serif\" font-size=\"14.00\">gini = 0.0</text>\n<text text-anchor=\"middle\" x=\"782.5\" y=\"-744.3\" font-family=\"Helvetica,sans-Serif\" font-size=\"14.00\">samples = 1</text>\n<text text-anchor=\"middle\" x=\"782.5\" y=\"-729.3\" font-family=\"Helvetica,sans-Serif\" font-size=\"14.00\">value = [0, 1]</text>\n<text text-anchor=\"middle\" x=\"782.5\" y=\"-714.3\" font-family=\"Helvetica,sans-Serif\" font-size=\"14.00\">class = diabetes</text>\n</g>\n<!-- 21&#45;&gt;23 -->\n<g id=\"edge23\" class=\"edge\">\n<title>21&#45;&gt;23</title>\n<path fill=\"none\" stroke=\"black\" d=\"M735.48,-817.91C742.34,-806.76 749.79,-794.66 756.69,-783.44\"/>\n<polygon fill=\"black\" stroke=\"black\" points=\"759.83,-785.02 762.09,-774.67 753.87,-781.35 759.83,-785.02\"/>\n</g>\n<!-- 26 -->\n<g id=\"node27\" class=\"node\">\n<title>26</title>\n<polygon fill=\"#d7ebfa\" stroke=\"black\" points=\"930,-1258 775,-1258 775,-1175 930,-1175 930,-1258\"/>\n<text text-anchor=\"middle\" x=\"852.5\" y=\"-1242.8\" font-family=\"Helvetica,sans-Serif\" font-size=\"14.00\">BloodPressure &lt;= 61.0</text>\n<text text-anchor=\"middle\" x=\"852.5\" y=\"-1227.8\" font-family=\"Helvetica,sans-Serif\" font-size=\"14.00\">gini = 0.494</text>\n<text text-anchor=\"middle\" x=\"852.5\" y=\"-1212.8\" font-family=\"Helvetica,sans-Serif\" font-size=\"14.00\">samples = 9</text>\n<text text-anchor=\"middle\" x=\"852.5\" y=\"-1197.8\" font-family=\"Helvetica,sans-Serif\" font-size=\"14.00\">value = [4, 5]</text>\n<text text-anchor=\"middle\" x=\"852.5\" y=\"-1182.8\" font-family=\"Helvetica,sans-Serif\" font-size=\"14.00\">class = diabetes</text>\n</g>\n<!-- 25&#45;&gt;26 -->\n<g id=\"edge26\" class=\"edge\">\n<title>25&#45;&gt;26</title>\n<path fill=\"none\" stroke=\"black\" d=\"M852.5,-1293.91C852.5,-1285.65 852.5,-1276.86 852.5,-1268.3\"/>\n<polygon fill=\"black\" stroke=\"black\" points=\"856,-1268.02 852.5,-1258.02 849,-1268.02 856,-1268.02\"/>\n</g>\n<!-- 31 -->\n<g id=\"node32\" class=\"node\">\n<title>31</title>\n<polygon fill=\"#eca36f\" stroke=\"black\" points=\"1127,-1258 990,-1258 990,-1175 1127,-1175 1127,-1258\"/>\n<text text-anchor=\"middle\" x=\"1058.5\" y=\"-1242.8\" font-family=\"Helvetica,sans-Serif\" font-size=\"14.00\">Insulin &lt;= 68.0</text>\n<text text-anchor=\"middle\" x=\"1058.5\" y=\"-1227.8\" font-family=\"Helvetica,sans-Serif\" font-size=\"14.00\">gini = 0.337</text>\n<text text-anchor=\"middle\" x=\"1058.5\" y=\"-1212.8\" font-family=\"Helvetica,sans-Serif\" font-size=\"14.00\">samples = 28</text>\n<text text-anchor=\"middle\" x=\"1058.5\" y=\"-1197.8\" font-family=\"Helvetica,sans-Serif\" font-size=\"14.00\">value = [22, 6]</text>\n<text text-anchor=\"middle\" x=\"1058.5\" y=\"-1182.8\" font-family=\"Helvetica,sans-Serif\" font-size=\"14.00\">class = not diabetes</text>\n</g>\n<!-- 25&#45;&gt;31 -->\n<g id=\"edge31\" class=\"edge\">\n<title>25&#45;&gt;31</title>\n<path fill=\"none\" stroke=\"black\" d=\"M923.97,-1293.91C942.43,-1283.42 962.38,-1272.09 981.13,-1261.44\"/>\n<polygon fill=\"black\" stroke=\"black\" points=\"982.96,-1264.43 989.93,-1256.44 979.51,-1258.34 982.96,-1264.43\"/>\n</g>\n<!-- 27 -->\n<g id=\"node28\" class=\"node\">\n<title>27</title>\n<polygon fill=\"#e58139\" stroke=\"black\" points=\"829,-1131.5 692,-1131.5 692,-1063.5 829,-1063.5 829,-1131.5\"/>\n<text text-anchor=\"middle\" x=\"760.5\" y=\"-1116.3\" font-family=\"Helvetica,sans-Serif\" font-size=\"14.00\">gini = 0.0</text>\n<text text-anchor=\"middle\" x=\"760.5\" y=\"-1101.3\" font-family=\"Helvetica,sans-Serif\" font-size=\"14.00\">samples = 3</text>\n<text text-anchor=\"middle\" x=\"760.5\" y=\"-1086.3\" font-family=\"Helvetica,sans-Serif\" font-size=\"14.00\">value = [3, 0]</text>\n<text text-anchor=\"middle\" x=\"760.5\" y=\"-1071.3\" font-family=\"Helvetica,sans-Serif\" font-size=\"14.00\">class = not diabetes</text>\n</g>\n<!-- 26&#45;&gt;27 -->\n<g id=\"edge27\" class=\"edge\">\n<title>26&#45;&gt;27</title>\n<path fill=\"none\" stroke=\"black\" d=\"M820.58,-1174.91C811.64,-1163.54 801.92,-1151.18 792.95,-1139.77\"/>\n<polygon fill=\"black\" stroke=\"black\" points=\"795.51,-1137.36 786.58,-1131.67 790.01,-1141.69 795.51,-1137.36\"/>\n</g>\n<!-- 28 -->\n<g id=\"node29\" class=\"node\">\n<title>28</title>\n<polygon fill=\"#61b1ea\" stroke=\"black\" points=\"961.5,-1139 847.5,-1139 847.5,-1056 961.5,-1056 961.5,-1139\"/>\n<text text-anchor=\"middle\" x=\"904.5\" y=\"-1123.8\" font-family=\"Helvetica,sans-Serif\" font-size=\"14.00\">Insulin &lt;= 152.5</text>\n<text text-anchor=\"middle\" x=\"904.5\" y=\"-1108.8\" font-family=\"Helvetica,sans-Serif\" font-size=\"14.00\">gini = 0.278</text>\n<text text-anchor=\"middle\" x=\"904.5\" y=\"-1093.8\" font-family=\"Helvetica,sans-Serif\" font-size=\"14.00\">samples = 6</text>\n<text text-anchor=\"middle\" x=\"904.5\" y=\"-1078.8\" font-family=\"Helvetica,sans-Serif\" font-size=\"14.00\">value = [1, 5]</text>\n<text text-anchor=\"middle\" x=\"904.5\" y=\"-1063.8\" font-family=\"Helvetica,sans-Serif\" font-size=\"14.00\">class = diabetes</text>\n</g>\n<!-- 26&#45;&gt;28 -->\n<g id=\"edge28\" class=\"edge\">\n<title>26&#45;&gt;28</title>\n<path fill=\"none\" stroke=\"black\" d=\"M870.54,-1174.91C874.37,-1166.29 878.46,-1157.09 882.42,-1148.17\"/>\n<polygon fill=\"black\" stroke=\"black\" points=\"885.63,-1149.58 886.49,-1139.02 879.23,-1146.74 885.63,-1149.58\"/>\n</g>\n<!-- 29 -->\n<g id=\"node30\" class=\"node\">\n<title>29</title>\n<polygon fill=\"#399de5\" stroke=\"black\" points=\"744.5,-1012.5 630.5,-1012.5 630.5,-944.5 744.5,-944.5 744.5,-1012.5\"/>\n<text text-anchor=\"middle\" x=\"687.5\" y=\"-997.3\" font-family=\"Helvetica,sans-Serif\" font-size=\"14.00\">gini = 0.0</text>\n<text text-anchor=\"middle\" x=\"687.5\" y=\"-982.3\" font-family=\"Helvetica,sans-Serif\" font-size=\"14.00\">samples = 5</text>\n<text text-anchor=\"middle\" x=\"687.5\" y=\"-967.3\" font-family=\"Helvetica,sans-Serif\" font-size=\"14.00\">value = [0, 5]</text>\n<text text-anchor=\"middle\" x=\"687.5\" y=\"-952.3\" font-family=\"Helvetica,sans-Serif\" font-size=\"14.00\">class = diabetes</text>\n</g>\n<!-- 28&#45;&gt;29 -->\n<g id=\"edge29\" class=\"edge\">\n<title>28&#45;&gt;29</title>\n<path fill=\"none\" stroke=\"black\" d=\"M847.42,-1061.28C844.09,-1059.45 840.76,-1057.68 837.5,-1056 801.37,-1037.45 789.57,-1038.67 753.5,-1020 751.98,-1019.21 750.45,-1018.41 748.91,-1017.58\"/>\n<polygon fill=\"black\" stroke=\"black\" points=\"750.51,-1014.46 740.06,-1012.69 747.12,-1020.59 750.51,-1014.46\"/>\n</g>\n<!-- 30 -->\n<g id=\"node31\" class=\"node\">\n<title>30</title>\n<polygon fill=\"#e58139\" stroke=\"black\" points=\"900,-1012.5 763,-1012.5 763,-944.5 900,-944.5 900,-1012.5\"/>\n<text text-anchor=\"middle\" x=\"831.5\" y=\"-997.3\" font-family=\"Helvetica,sans-Serif\" font-size=\"14.00\">gini = 0.0</text>\n<text text-anchor=\"middle\" x=\"831.5\" y=\"-982.3\" font-family=\"Helvetica,sans-Serif\" font-size=\"14.00\">samples = 1</text>\n<text text-anchor=\"middle\" x=\"831.5\" y=\"-967.3\" font-family=\"Helvetica,sans-Serif\" font-size=\"14.00\">value = [1, 0]</text>\n<text text-anchor=\"middle\" x=\"831.5\" y=\"-952.3\" font-family=\"Helvetica,sans-Serif\" font-size=\"14.00\">class = not diabetes</text>\n</g>\n<!-- 28&#45;&gt;30 -->\n<g id=\"edge30\" class=\"edge\">\n<title>28&#45;&gt;30</title>\n<path fill=\"none\" stroke=\"black\" d=\"M879.17,-1055.91C872.22,-1044.76 864.67,-1032.66 857.67,-1021.44\"/>\n<polygon fill=\"black\" stroke=\"black\" points=\"860.46,-1019.3 852.19,-1012.67 854.52,-1023 860.46,-1019.3\"/>\n</g>\n<!-- 32 -->\n<g id=\"node33\" class=\"node\">\n<title>32</title>\n<polygon fill=\"#e78a47\" stroke=\"black\" points=\"1127,-1139 990,-1139 990,-1056 1127,-1056 1127,-1139\"/>\n<text text-anchor=\"middle\" x=\"1058.5\" y=\"-1123.8\" font-family=\"Helvetica,sans-Serif\" font-size=\"14.00\">Glucose &lt;= 115.5</text>\n<text text-anchor=\"middle\" x=\"1058.5\" y=\"-1108.8\" font-family=\"Helvetica,sans-Serif\" font-size=\"14.00\">gini = 0.124</text>\n<text text-anchor=\"middle\" x=\"1058.5\" y=\"-1093.8\" font-family=\"Helvetica,sans-Serif\" font-size=\"14.00\">samples = 15</text>\n<text text-anchor=\"middle\" x=\"1058.5\" y=\"-1078.8\" font-family=\"Helvetica,sans-Serif\" font-size=\"14.00\">value = [14, 1]</text>\n<text text-anchor=\"middle\" x=\"1058.5\" y=\"-1063.8\" font-family=\"Helvetica,sans-Serif\" font-size=\"14.00\">class = not diabetes</text>\n</g>\n<!-- 31&#45;&gt;32 -->\n<g id=\"edge32\" class=\"edge\">\n<title>31&#45;&gt;32</title>\n<path fill=\"none\" stroke=\"black\" d=\"M1058.5,-1174.91C1058.5,-1166.65 1058.5,-1157.86 1058.5,-1149.3\"/>\n<polygon fill=\"black\" stroke=\"black\" points=\"1062,-1149.02 1058.5,-1139.02 1055,-1149.02 1062,-1149.02\"/>\n</g>\n<!-- 37 -->\n<g id=\"node38\" class=\"node\">\n<title>37</title>\n<polygon fill=\"#f5d0b5\" stroke=\"black\" points=\"1354,-1139 1217,-1139 1217,-1056 1354,-1056 1354,-1139\"/>\n<text text-anchor=\"middle\" x=\"1285.5\" y=\"-1123.8\" font-family=\"Helvetica,sans-Serif\" font-size=\"14.00\">Glucose &lt;= 96.5</text>\n<text text-anchor=\"middle\" x=\"1285.5\" y=\"-1108.8\" font-family=\"Helvetica,sans-Serif\" font-size=\"14.00\">gini = 0.473</text>\n<text text-anchor=\"middle\" x=\"1285.5\" y=\"-1093.8\" font-family=\"Helvetica,sans-Serif\" font-size=\"14.00\">samples = 13</text>\n<text text-anchor=\"middle\" x=\"1285.5\" y=\"-1078.8\" font-family=\"Helvetica,sans-Serif\" font-size=\"14.00\">value = [8, 5]</text>\n<text text-anchor=\"middle\" x=\"1285.5\" y=\"-1063.8\" font-family=\"Helvetica,sans-Serif\" font-size=\"14.00\">class = not diabetes</text>\n</g>\n<!-- 31&#45;&gt;37 -->\n<g id=\"edge37\" class=\"edge\">\n<title>31&#45;&gt;37</title>\n<path fill=\"none\" stroke=\"black\" d=\"M1127.22,-1180.08C1152.55,-1167.02 1181.43,-1152.14 1207.52,-1138.69\"/>\n<polygon fill=\"black\" stroke=\"black\" points=\"1209.33,-1141.7 1216.62,-1134 1206.13,-1135.47 1209.33,-1141.7\"/>\n</g>\n<!-- 33 -->\n<g id=\"node34\" class=\"node\">\n<title>33</title>\n<polygon fill=\"#e58139\" stroke=\"black\" points=\"1055,-1012.5 918,-1012.5 918,-944.5 1055,-944.5 1055,-1012.5\"/>\n<text text-anchor=\"middle\" x=\"986.5\" y=\"-997.3\" font-family=\"Helvetica,sans-Serif\" font-size=\"14.00\">gini = 0.0</text>\n<text text-anchor=\"middle\" x=\"986.5\" y=\"-982.3\" font-family=\"Helvetica,sans-Serif\" font-size=\"14.00\">samples = 13</text>\n<text text-anchor=\"middle\" x=\"986.5\" y=\"-967.3\" font-family=\"Helvetica,sans-Serif\" font-size=\"14.00\">value = [13, 0]</text>\n<text text-anchor=\"middle\" x=\"986.5\" y=\"-952.3\" font-family=\"Helvetica,sans-Serif\" font-size=\"14.00\">class = not diabetes</text>\n</g>\n<!-- 32&#45;&gt;33 -->\n<g id=\"edge33\" class=\"edge\">\n<title>32&#45;&gt;33</title>\n<path fill=\"none\" stroke=\"black\" d=\"M1033.52,-1055.91C1026.66,-1044.76 1019.21,-1032.66 1012.31,-1021.44\"/>\n<polygon fill=\"black\" stroke=\"black\" points=\"1015.13,-1019.35 1006.91,-1012.67 1009.17,-1023.02 1015.13,-1019.35\"/>\n</g>\n<!-- 34 -->\n<g id=\"node35\" class=\"node\">\n<title>34</title>\n<polygon fill=\"#ffffff\" stroke=\"black\" points=\"1210,-1020 1073,-1020 1073,-937 1210,-937 1210,-1020\"/>\n<text text-anchor=\"middle\" x=\"1141.5\" y=\"-1004.8\" font-family=\"Helvetica,sans-Serif\" font-size=\"14.00\">Age &lt;= 23.5</text>\n<text text-anchor=\"middle\" x=\"1141.5\" y=\"-989.8\" font-family=\"Helvetica,sans-Serif\" font-size=\"14.00\">gini = 0.5</text>\n<text text-anchor=\"middle\" x=\"1141.5\" y=\"-974.8\" font-family=\"Helvetica,sans-Serif\" font-size=\"14.00\">samples = 2</text>\n<text text-anchor=\"middle\" x=\"1141.5\" y=\"-959.8\" font-family=\"Helvetica,sans-Serif\" font-size=\"14.00\">value = [1, 1]</text>\n<text text-anchor=\"middle\" x=\"1141.5\" y=\"-944.8\" font-family=\"Helvetica,sans-Serif\" font-size=\"14.00\">class = not diabetes</text>\n</g>\n<!-- 32&#45;&gt;34 -->\n<g id=\"edge34\" class=\"edge\">\n<title>32&#45;&gt;34</title>\n<path fill=\"none\" stroke=\"black\" d=\"M1087.3,-1055.91C1093.61,-1047.01 1100.35,-1037.51 1106.86,-1028.33\"/>\n<polygon fill=\"black\" stroke=\"black\" points=\"1109.82,-1030.2 1112.75,-1020.02 1104.11,-1026.15 1109.82,-1030.2\"/>\n</g>\n<!-- 35 -->\n<g id=\"node36\" class=\"node\">\n<title>35</title>\n<polygon fill=\"#399de5\" stroke=\"black\" points=\"1065.5,-893.5 951.5,-893.5 951.5,-825.5 1065.5,-825.5 1065.5,-893.5\"/>\n<text text-anchor=\"middle\" x=\"1008.5\" y=\"-878.3\" font-family=\"Helvetica,sans-Serif\" font-size=\"14.00\">gini = 0.0</text>\n<text text-anchor=\"middle\" x=\"1008.5\" y=\"-863.3\" font-family=\"Helvetica,sans-Serif\" font-size=\"14.00\">samples = 1</text>\n<text text-anchor=\"middle\" x=\"1008.5\" y=\"-848.3\" font-family=\"Helvetica,sans-Serif\" font-size=\"14.00\">value = [0, 1]</text>\n<text text-anchor=\"middle\" x=\"1008.5\" y=\"-833.3\" font-family=\"Helvetica,sans-Serif\" font-size=\"14.00\">class = diabetes</text>\n</g>\n<!-- 34&#45;&gt;35 -->\n<g id=\"edge35\" class=\"edge\">\n<title>34&#45;&gt;35</title>\n<path fill=\"none\" stroke=\"black\" d=\"M1095.36,-936.91C1081.93,-925.1 1067.29,-912.22 1053.91,-900.45\"/>\n<polygon fill=\"black\" stroke=\"black\" points=\"1056.02,-897.64 1046.2,-893.67 1051.4,-902.9 1056.02,-897.64\"/>\n</g>\n<!-- 36 -->\n<g id=\"node37\" class=\"node\">\n<title>36</title>\n<polygon fill=\"#e58139\" stroke=\"black\" points=\"1221,-893.5 1084,-893.5 1084,-825.5 1221,-825.5 1221,-893.5\"/>\n<text text-anchor=\"middle\" x=\"1152.5\" y=\"-878.3\" font-family=\"Helvetica,sans-Serif\" font-size=\"14.00\">gini = 0.0</text>\n<text text-anchor=\"middle\" x=\"1152.5\" y=\"-863.3\" font-family=\"Helvetica,sans-Serif\" font-size=\"14.00\">samples = 1</text>\n<text text-anchor=\"middle\" x=\"1152.5\" y=\"-848.3\" font-family=\"Helvetica,sans-Serif\" font-size=\"14.00\">value = [1, 0]</text>\n<text text-anchor=\"middle\" x=\"1152.5\" y=\"-833.3\" font-family=\"Helvetica,sans-Serif\" font-size=\"14.00\">class = not diabetes</text>\n</g>\n<!-- 34&#45;&gt;36 -->\n<g id=\"edge36\" class=\"edge\">\n<title>34&#45;&gt;36</title>\n<path fill=\"none\" stroke=\"black\" d=\"M1145.32,-936.91C1146.32,-926.2 1147.41,-914.62 1148.43,-903.78\"/>\n<polygon fill=\"black\" stroke=\"black\" points=\"1151.93,-903.95 1149.38,-893.67 1144.96,-903.3 1151.93,-903.95\"/>\n</g>\n<!-- 38 -->\n<g id=\"node39\" class=\"node\">\n<title>38</title>\n<polygon fill=\"#399de5\" stroke=\"black\" points=\"1342.5,-1012.5 1228.5,-1012.5 1228.5,-944.5 1342.5,-944.5 1342.5,-1012.5\"/>\n<text text-anchor=\"middle\" x=\"1285.5\" y=\"-997.3\" font-family=\"Helvetica,sans-Serif\" font-size=\"14.00\">gini = 0.0</text>\n<text text-anchor=\"middle\" x=\"1285.5\" y=\"-982.3\" font-family=\"Helvetica,sans-Serif\" font-size=\"14.00\">samples = 2</text>\n<text text-anchor=\"middle\" x=\"1285.5\" y=\"-967.3\" font-family=\"Helvetica,sans-Serif\" font-size=\"14.00\">value = [0, 2]</text>\n<text text-anchor=\"middle\" x=\"1285.5\" y=\"-952.3\" font-family=\"Helvetica,sans-Serif\" font-size=\"14.00\">class = diabetes</text>\n</g>\n<!-- 37&#45;&gt;38 -->\n<g id=\"edge38\" class=\"edge\">\n<title>37&#45;&gt;38</title>\n<path fill=\"none\" stroke=\"black\" d=\"M1285.5,-1055.91C1285.5,-1045.2 1285.5,-1033.62 1285.5,-1022.78\"/>\n<polygon fill=\"black\" stroke=\"black\" points=\"1289,-1022.67 1285.5,-1012.67 1282,-1022.67 1289,-1022.67\"/>\n</g>\n<!-- 39 -->\n<g id=\"node40\" class=\"node\">\n<title>39</title>\n<polygon fill=\"#efb083\" stroke=\"black\" points=\"1516,-1020 1361,-1020 1361,-937 1516,-937 1516,-1020\"/>\n<text text-anchor=\"middle\" x=\"1438.5\" y=\"-1004.8\" font-family=\"Helvetica,sans-Serif\" font-size=\"14.00\">BloodPressure &lt;= 66.0</text>\n<text text-anchor=\"middle\" x=\"1438.5\" y=\"-989.8\" font-family=\"Helvetica,sans-Serif\" font-size=\"14.00\">gini = 0.397</text>\n<text text-anchor=\"middle\" x=\"1438.5\" y=\"-974.8\" font-family=\"Helvetica,sans-Serif\" font-size=\"14.00\">samples = 11</text>\n<text text-anchor=\"middle\" x=\"1438.5\" y=\"-959.8\" font-family=\"Helvetica,sans-Serif\" font-size=\"14.00\">value = [8, 3]</text>\n<text text-anchor=\"middle\" x=\"1438.5\" y=\"-944.8\" font-family=\"Helvetica,sans-Serif\" font-size=\"14.00\">class = not diabetes</text>\n</g>\n<!-- 37&#45;&gt;39 -->\n<g id=\"edge39\" class=\"edge\">\n<title>37&#45;&gt;39</title>\n<path fill=\"none\" stroke=\"black\" d=\"M1338.58,-1055.91C1351.04,-1046.38 1364.42,-1036.15 1377.21,-1026.37\"/>\n<polygon fill=\"black\" stroke=\"black\" points=\"1379.69,-1028.88 1385.51,-1020.02 1375.44,-1023.32 1379.69,-1028.88\"/>\n</g>\n<!-- 40 -->\n<g id=\"node41\" class=\"node\">\n<title>40</title>\n<polygon fill=\"#bddef6\" stroke=\"black\" points=\"1380,-901 1255,-901 1255,-818 1380,-818 1380,-901\"/>\n<text text-anchor=\"middle\" x=\"1317.5\" y=\"-885.8\" font-family=\"Helvetica,sans-Serif\" font-size=\"14.00\">Glucose &lt;= 114.0</text>\n<text text-anchor=\"middle\" x=\"1317.5\" y=\"-870.8\" font-family=\"Helvetica,sans-Serif\" font-size=\"14.00\">gini = 0.48</text>\n<text text-anchor=\"middle\" x=\"1317.5\" y=\"-855.8\" font-family=\"Helvetica,sans-Serif\" font-size=\"14.00\">samples = 5</text>\n<text text-anchor=\"middle\" x=\"1317.5\" y=\"-840.8\" font-family=\"Helvetica,sans-Serif\" font-size=\"14.00\">value = [2, 3]</text>\n<text text-anchor=\"middle\" x=\"1317.5\" y=\"-825.8\" font-family=\"Helvetica,sans-Serif\" font-size=\"14.00\">class = diabetes</text>\n</g>\n<!-- 39&#45;&gt;40 -->\n<g id=\"edge40\" class=\"edge\">\n<title>39&#45;&gt;40</title>\n<path fill=\"none\" stroke=\"black\" d=\"M1396.52,-936.91C1386.95,-927.65 1376.69,-917.73 1366.84,-908.21\"/>\n<polygon fill=\"black\" stroke=\"black\" points=\"1369.03,-905.46 1359.41,-901.02 1364.16,-910.49 1369.03,-905.46\"/>\n</g>\n<!-- 45 -->\n<g id=\"node46\" class=\"node\">\n<title>45</title>\n<polygon fill=\"#e58139\" stroke=\"black\" points=\"1535,-893.5 1398,-893.5 1398,-825.5 1535,-825.5 1535,-893.5\"/>\n<text text-anchor=\"middle\" x=\"1466.5\" y=\"-878.3\" font-family=\"Helvetica,sans-Serif\" font-size=\"14.00\">gini = 0.0</text>\n<text text-anchor=\"middle\" x=\"1466.5\" y=\"-863.3\" font-family=\"Helvetica,sans-Serif\" font-size=\"14.00\">samples = 6</text>\n<text text-anchor=\"middle\" x=\"1466.5\" y=\"-848.3\" font-family=\"Helvetica,sans-Serif\" font-size=\"14.00\">value = [6, 0]</text>\n<text text-anchor=\"middle\" x=\"1466.5\" y=\"-833.3\" font-family=\"Helvetica,sans-Serif\" font-size=\"14.00\">class = not diabetes</text>\n</g>\n<!-- 39&#45;&gt;45 -->\n<g id=\"edge45\" class=\"edge\">\n<title>39&#45;&gt;45</title>\n<path fill=\"none\" stroke=\"black\" d=\"M1448.21,-936.91C1450.8,-926.09 1453.61,-914.38 1456.22,-903.44\"/>\n<polygon fill=\"black\" stroke=\"black\" points=\"1459.64,-904.21 1458.56,-893.67 1452.83,-902.58 1459.64,-904.21\"/>\n</g>\n<!-- 41 -->\n<g id=\"node42\" class=\"node\">\n<title>41</title>\n<polygon fill=\"#399de5\" stroke=\"black\" points=\"1344.5,-774.5 1230.5,-774.5 1230.5,-706.5 1344.5,-706.5 1344.5,-774.5\"/>\n<text text-anchor=\"middle\" x=\"1287.5\" y=\"-759.3\" font-family=\"Helvetica,sans-Serif\" font-size=\"14.00\">gini = 0.0</text>\n<text text-anchor=\"middle\" x=\"1287.5\" y=\"-744.3\" font-family=\"Helvetica,sans-Serif\" font-size=\"14.00\">samples = 2</text>\n<text text-anchor=\"middle\" x=\"1287.5\" y=\"-729.3\" font-family=\"Helvetica,sans-Serif\" font-size=\"14.00\">value = [0, 2]</text>\n<text text-anchor=\"middle\" x=\"1287.5\" y=\"-714.3\" font-family=\"Helvetica,sans-Serif\" font-size=\"14.00\">class = diabetes</text>\n</g>\n<!-- 40&#45;&gt;41 -->\n<g id=\"edge41\" class=\"edge\">\n<title>40&#45;&gt;41</title>\n<path fill=\"none\" stroke=\"black\" d=\"M1307.09,-817.91C1304.32,-807.09 1301.31,-795.38 1298.51,-784.44\"/>\n<polygon fill=\"black\" stroke=\"black\" points=\"1301.88,-783.48 1296,-774.67 1295.1,-785.22 1301.88,-783.48\"/>\n</g>\n<!-- 42 -->\n<g id=\"node43\" class=\"node\">\n<title>42</title>\n<polygon fill=\"#f2c09c\" stroke=\"black\" points=\"1500,-782 1363,-782 1363,-699 1500,-699 1500,-782\"/>\n<text text-anchor=\"middle\" x=\"1431.5\" y=\"-766.8\" font-family=\"Helvetica,sans-Serif\" font-size=\"14.00\">Insulin &lt;= 162.5</text>\n<text text-anchor=\"middle\" x=\"1431.5\" y=\"-751.8\" font-family=\"Helvetica,sans-Serif\" font-size=\"14.00\">gini = 0.444</text>\n<text text-anchor=\"middle\" x=\"1431.5\" y=\"-736.8\" font-family=\"Helvetica,sans-Serif\" font-size=\"14.00\">samples = 3</text>\n<text text-anchor=\"middle\" x=\"1431.5\" y=\"-721.8\" font-family=\"Helvetica,sans-Serif\" font-size=\"14.00\">value = [2, 1]</text>\n<text text-anchor=\"middle\" x=\"1431.5\" y=\"-706.8\" font-family=\"Helvetica,sans-Serif\" font-size=\"14.00\">class = not diabetes</text>\n</g>\n<!-- 40&#45;&gt;42 -->\n<g id=\"edge42\" class=\"edge\">\n<title>40&#45;&gt;42</title>\n<path fill=\"none\" stroke=\"black\" d=\"M1357.05,-817.91C1366.07,-808.65 1375.74,-798.73 1385.01,-789.21\"/>\n<polygon fill=\"black\" stroke=\"black\" points=\"1387.55,-791.63 1392.02,-782.02 1382.53,-786.74 1387.55,-791.63\"/>\n</g>\n<!-- 43 -->\n<g id=\"node44\" class=\"node\">\n<title>43</title>\n<polygon fill=\"#e58139\" stroke=\"black\" points=\"1379,-655.5 1242,-655.5 1242,-587.5 1379,-587.5 1379,-655.5\"/>\n<text text-anchor=\"middle\" x=\"1310.5\" y=\"-640.3\" font-family=\"Helvetica,sans-Serif\" font-size=\"14.00\">gini = 0.0</text>\n<text text-anchor=\"middle\" x=\"1310.5\" y=\"-625.3\" font-family=\"Helvetica,sans-Serif\" font-size=\"14.00\">samples = 2</text>\n<text text-anchor=\"middle\" x=\"1310.5\" y=\"-610.3\" font-family=\"Helvetica,sans-Serif\" font-size=\"14.00\">value = [2, 0]</text>\n<text text-anchor=\"middle\" x=\"1310.5\" y=\"-595.3\" font-family=\"Helvetica,sans-Serif\" font-size=\"14.00\">class = not diabetes</text>\n</g>\n<!-- 42&#45;&gt;43 -->\n<g id=\"edge43\" class=\"edge\">\n<title>42&#45;&gt;43</title>\n<path fill=\"none\" stroke=\"black\" d=\"M1389.52,-698.91C1377.42,-687.21 1364.23,-674.46 1352.16,-662.78\"/>\n<polygon fill=\"black\" stroke=\"black\" points=\"1354.42,-660.1 1344.8,-655.67 1349.56,-665.13 1354.42,-660.1\"/>\n</g>\n<!-- 44 -->\n<g id=\"node45\" class=\"node\">\n<title>44</title>\n<polygon fill=\"#399de5\" stroke=\"black\" points=\"1511.5,-655.5 1397.5,-655.5 1397.5,-587.5 1511.5,-587.5 1511.5,-655.5\"/>\n<text text-anchor=\"middle\" x=\"1454.5\" y=\"-640.3\" font-family=\"Helvetica,sans-Serif\" font-size=\"14.00\">gini = 0.0</text>\n<text text-anchor=\"middle\" x=\"1454.5\" y=\"-625.3\" font-family=\"Helvetica,sans-Serif\" font-size=\"14.00\">samples = 1</text>\n<text text-anchor=\"middle\" x=\"1454.5\" y=\"-610.3\" font-family=\"Helvetica,sans-Serif\" font-size=\"14.00\">value = [0, 1]</text>\n<text text-anchor=\"middle\" x=\"1454.5\" y=\"-595.3\" font-family=\"Helvetica,sans-Serif\" font-size=\"14.00\">class = diabetes</text>\n</g>\n<!-- 42&#45;&gt;44 -->\n<g id=\"edge44\" class=\"edge\">\n<title>42&#45;&gt;44</title>\n<path fill=\"none\" stroke=\"black\" d=\"M1439.48,-698.91C1441.58,-688.2 1443.86,-676.62 1445.99,-665.78\"/>\n<polygon fill=\"black\" stroke=\"black\" points=\"1449.49,-666.15 1447.98,-655.67 1442.62,-664.8 1449.49,-666.15\"/>\n</g>\n<!-- 48 -->\n<g id=\"node49\" class=\"node\">\n<title>48</title>\n<polygon fill=\"#e89152\" stroke=\"black\" points=\"2049,-1615 1816,-1615 1816,-1532 2049,-1532 2049,-1615\"/>\n<text text-anchor=\"middle\" x=\"1932.5\" y=\"-1599.8\" font-family=\"Helvetica,sans-Serif\" font-size=\"14.00\">DiabetesPedigreeFunction &lt;= 0.796</text>\n<text text-anchor=\"middle\" x=\"1932.5\" y=\"-1584.8\" font-family=\"Helvetica,sans-Serif\" font-size=\"14.00\">gini = 0.198</text>\n<text text-anchor=\"middle\" x=\"1932.5\" y=\"-1569.8\" font-family=\"Helvetica,sans-Serif\" font-size=\"14.00\">samples = 54</text>\n<text text-anchor=\"middle\" x=\"1932.5\" y=\"-1554.8\" font-family=\"Helvetica,sans-Serif\" font-size=\"14.00\">value = [48, 6]</text>\n<text text-anchor=\"middle\" x=\"1932.5\" y=\"-1539.8\" font-family=\"Helvetica,sans-Serif\" font-size=\"14.00\">class = not diabetes</text>\n</g>\n<!-- 47&#45;&gt;48 -->\n<g id=\"edge48\" class=\"edge\">\n<title>47&#45;&gt;48</title>\n<path fill=\"none\" stroke=\"black\" d=\"M2065.83,-1651.73C2048.33,-1641.59 2029.39,-1630.62 2011.43,-1620.22\"/>\n<polygon fill=\"black\" stroke=\"black\" points=\"2013.11,-1617.14 2002.7,-1615.16 2009.6,-1623.2 2013.11,-1617.14\"/>\n</g>\n<!-- 65 -->\n<g id=\"node66\" class=\"node\">\n<title>65</title>\n<polygon fill=\"#f7dac6\" stroke=\"black\" points=\"2382,-1615 2245,-1615 2245,-1532 2382,-1532 2382,-1615\"/>\n<text text-anchor=\"middle\" x=\"2313.5\" y=\"-1599.8\" font-family=\"Helvetica,sans-Serif\" font-size=\"14.00\">BMI &lt;= 26.35</text>\n<text text-anchor=\"middle\" x=\"2313.5\" y=\"-1584.8\" font-family=\"Helvetica,sans-Serif\" font-size=\"14.00\">gini = 0.486</text>\n<text text-anchor=\"middle\" x=\"2313.5\" y=\"-1569.8\" font-family=\"Helvetica,sans-Serif\" font-size=\"14.00\">samples = 118</text>\n<text text-anchor=\"middle\" x=\"2313.5\" y=\"-1554.8\" font-family=\"Helvetica,sans-Serif\" font-size=\"14.00\">value = [69, 49]</text>\n<text text-anchor=\"middle\" x=\"2313.5\" y=\"-1539.8\" font-family=\"Helvetica,sans-Serif\" font-size=\"14.00\">class = not diabetes</text>\n</g>\n<!-- 47&#45;&gt;65 -->\n<g id=\"edge65\" class=\"edge\">\n<title>47&#45;&gt;65</title>\n<path fill=\"none\" stroke=\"black\" d=\"M2196.6,-1650.91C2211.6,-1641.11 2227.73,-1630.56 2243.07,-1620.53\"/>\n<polygon fill=\"black\" stroke=\"black\" points=\"2245.05,-1623.42 2251.51,-1615.02 2241.22,-1617.56 2245.05,-1623.42\"/>\n</g>\n<!-- 49 -->\n<g id=\"node50\" class=\"node\">\n<title>49</title>\n<polygon fill=\"#e68742\" stroke=\"black\" points=\"1745,-1496 1608,-1496 1608,-1413 1745,-1413 1745,-1496\"/>\n<text text-anchor=\"middle\" x=\"1676.5\" y=\"-1480.8\" font-family=\"Helvetica,sans-Serif\" font-size=\"14.00\">Glucose &lt;= 94.5</text>\n<text text-anchor=\"middle\" x=\"1676.5\" y=\"-1465.8\" font-family=\"Helvetica,sans-Serif\" font-size=\"14.00\">gini = 0.087</text>\n<text text-anchor=\"middle\" x=\"1676.5\" y=\"-1450.8\" font-family=\"Helvetica,sans-Serif\" font-size=\"14.00\">samples = 44</text>\n<text text-anchor=\"middle\" x=\"1676.5\" y=\"-1435.8\" font-family=\"Helvetica,sans-Serif\" font-size=\"14.00\">value = [42, 2]</text>\n<text text-anchor=\"middle\" x=\"1676.5\" y=\"-1420.8\" font-family=\"Helvetica,sans-Serif\" font-size=\"14.00\">class = not diabetes</text>\n</g>\n<!-- 48&#45;&gt;49 -->\n<g id=\"edge49\" class=\"edge\">\n<title>48&#45;&gt;49</title>\n<path fill=\"none\" stroke=\"black\" d=\"M1843.68,-1531.91C1814.75,-1518.68 1782.86,-1504.11 1754.76,-1491.27\"/>\n<polygon fill=\"black\" stroke=\"black\" points=\"1755.93,-1487.96 1745.38,-1486.98 1753.02,-1494.32 1755.93,-1487.96\"/>\n</g>\n<!-- 58 -->\n<g id=\"node59\" class=\"node\">\n<title>58</title>\n<polygon fill=\"#f6d5bd\" stroke=\"black\" points=\"2001,-1496 1864,-1496 1864,-1413 2001,-1413 2001,-1496\"/>\n<text text-anchor=\"middle\" x=\"1932.5\" y=\"-1480.8\" font-family=\"Helvetica,sans-Serif\" font-size=\"14.00\">Pregnancies &lt;= 4.0</text>\n<text text-anchor=\"middle\" x=\"1932.5\" y=\"-1465.8\" font-family=\"Helvetica,sans-Serif\" font-size=\"14.00\">gini = 0.48</text>\n<text text-anchor=\"middle\" x=\"1932.5\" y=\"-1450.8\" font-family=\"Helvetica,sans-Serif\" font-size=\"14.00\">samples = 10</text>\n<text text-anchor=\"middle\" x=\"1932.5\" y=\"-1435.8\" font-family=\"Helvetica,sans-Serif\" font-size=\"14.00\">value = [6, 4]</text>\n<text text-anchor=\"middle\" x=\"1932.5\" y=\"-1420.8\" font-family=\"Helvetica,sans-Serif\" font-size=\"14.00\">class = not diabetes</text>\n</g>\n<!-- 48&#45;&gt;58 -->\n<g id=\"edge58\" class=\"edge\">\n<title>48&#45;&gt;58</title>\n<path fill=\"none\" stroke=\"black\" d=\"M1932.5,-1531.91C1932.5,-1523.65 1932.5,-1514.86 1932.5,-1506.3\"/>\n<polygon fill=\"black\" stroke=\"black\" points=\"1936,-1506.02 1932.5,-1496.02 1929,-1506.02 1936,-1506.02\"/>\n</g>\n<!-- 50 -->\n<g id=\"node51\" class=\"node\">\n<title>50</title>\n<polygon fill=\"#e58139\" stroke=\"black\" points=\"1590,-1369.5 1453,-1369.5 1453,-1301.5 1590,-1301.5 1590,-1369.5\"/>\n<text text-anchor=\"middle\" x=\"1521.5\" y=\"-1354.3\" font-family=\"Helvetica,sans-Serif\" font-size=\"14.00\">gini = 0.0</text>\n<text text-anchor=\"middle\" x=\"1521.5\" y=\"-1339.3\" font-family=\"Helvetica,sans-Serif\" font-size=\"14.00\">samples = 33</text>\n<text text-anchor=\"middle\" x=\"1521.5\" y=\"-1324.3\" font-family=\"Helvetica,sans-Serif\" font-size=\"14.00\">value = [33, 0]</text>\n<text text-anchor=\"middle\" x=\"1521.5\" y=\"-1309.3\" font-family=\"Helvetica,sans-Serif\" font-size=\"14.00\">class = not diabetes</text>\n</g>\n<!-- 49&#45;&gt;50 -->\n<g id=\"edge50\" class=\"edge\">\n<title>49&#45;&gt;50</title>\n<path fill=\"none\" stroke=\"black\" d=\"M1622.72,-1412.91C1606.79,-1400.88 1589.37,-1387.73 1573.55,-1375.79\"/>\n<polygon fill=\"black\" stroke=\"black\" points=\"1575.53,-1372.9 1565.44,-1369.67 1571.31,-1378.49 1575.53,-1372.9\"/>\n</g>\n<!-- 51 -->\n<g id=\"node52\" class=\"node\">\n<title>51</title>\n<polygon fill=\"#eb9d65\" stroke=\"black\" points=\"1745,-1377 1608,-1377 1608,-1294 1745,-1294 1745,-1377\"/>\n<text text-anchor=\"middle\" x=\"1676.5\" y=\"-1361.8\" font-family=\"Helvetica,sans-Serif\" font-size=\"14.00\">Age &lt;= 51.0</text>\n<text text-anchor=\"middle\" x=\"1676.5\" y=\"-1346.8\" font-family=\"Helvetica,sans-Serif\" font-size=\"14.00\">gini = 0.298</text>\n<text text-anchor=\"middle\" x=\"1676.5\" y=\"-1331.8\" font-family=\"Helvetica,sans-Serif\" font-size=\"14.00\">samples = 11</text>\n<text text-anchor=\"middle\" x=\"1676.5\" y=\"-1316.8\" font-family=\"Helvetica,sans-Serif\" font-size=\"14.00\">value = [9, 2]</text>\n<text text-anchor=\"middle\" x=\"1676.5\" y=\"-1301.8\" font-family=\"Helvetica,sans-Serif\" font-size=\"14.00\">class = not diabetes</text>\n</g>\n<!-- 49&#45;&gt;51 -->\n<g id=\"edge51\" class=\"edge\">\n<title>49&#45;&gt;51</title>\n<path fill=\"none\" stroke=\"black\" d=\"M1676.5,-1412.91C1676.5,-1404.65 1676.5,-1395.86 1676.5,-1387.3\"/>\n<polygon fill=\"black\" stroke=\"black\" points=\"1680,-1387.02 1676.5,-1377.02 1673,-1387.02 1680,-1387.02\"/>\n</g>\n<!-- 52 -->\n<g id=\"node53\" class=\"node\">\n<title>52</title>\n<polygon fill=\"#e88f4f\" stroke=\"black\" points=\"1674.5,-1258 1528.5,-1258 1528.5,-1175 1674.5,-1175 1674.5,-1258\"/>\n<text text-anchor=\"middle\" x=\"1601.5\" y=\"-1242.8\" font-family=\"Helvetica,sans-Serif\" font-size=\"14.00\">SkinThickness &lt;= 5.5</text>\n<text text-anchor=\"middle\" x=\"1601.5\" y=\"-1227.8\" font-family=\"Helvetica,sans-Serif\" font-size=\"14.00\">gini = 0.18</text>\n<text text-anchor=\"middle\" x=\"1601.5\" y=\"-1212.8\" font-family=\"Helvetica,sans-Serif\" font-size=\"14.00\">samples = 10</text>\n<text text-anchor=\"middle\" x=\"1601.5\" y=\"-1197.8\" font-family=\"Helvetica,sans-Serif\" font-size=\"14.00\">value = [9, 1]</text>\n<text text-anchor=\"middle\" x=\"1601.5\" y=\"-1182.8\" font-family=\"Helvetica,sans-Serif\" font-size=\"14.00\">class = not diabetes</text>\n</g>\n<!-- 51&#45;&gt;52 -->\n<g id=\"edge52\" class=\"edge\">\n<title>51&#45;&gt;52</title>\n<path fill=\"none\" stroke=\"black\" d=\"M1650.48,-1293.91C1644.84,-1285.1 1638.81,-1275.7 1632.98,-1266.61\"/>\n<polygon fill=\"black\" stroke=\"black\" points=\"1635.82,-1264.55 1627.47,-1258.02 1629.93,-1268.33 1635.82,-1264.55\"/>\n</g>\n<!-- 57 -->\n<g id=\"node58\" class=\"node\">\n<title>57</title>\n<polygon fill=\"#399de5\" stroke=\"black\" points=\"1806.5,-1250.5 1692.5,-1250.5 1692.5,-1182.5 1806.5,-1182.5 1806.5,-1250.5\"/>\n<text text-anchor=\"middle\" x=\"1749.5\" y=\"-1235.3\" font-family=\"Helvetica,sans-Serif\" font-size=\"14.00\">gini = 0.0</text>\n<text text-anchor=\"middle\" x=\"1749.5\" y=\"-1220.3\" font-family=\"Helvetica,sans-Serif\" font-size=\"14.00\">samples = 1</text>\n<text text-anchor=\"middle\" x=\"1749.5\" y=\"-1205.3\" font-family=\"Helvetica,sans-Serif\" font-size=\"14.00\">value = [0, 1]</text>\n<text text-anchor=\"middle\" x=\"1749.5\" y=\"-1190.3\" font-family=\"Helvetica,sans-Serif\" font-size=\"14.00\">class = diabetes</text>\n</g>\n<!-- 51&#45;&gt;57 -->\n<g id=\"edge57\" class=\"edge\">\n<title>51&#45;&gt;57</title>\n<path fill=\"none\" stroke=\"black\" d=\"M1701.83,-1293.91C1708.78,-1282.76 1716.33,-1270.66 1723.33,-1259.44\"/>\n<polygon fill=\"black\" stroke=\"black\" points=\"1726.48,-1261 1728.81,-1250.67 1720.54,-1257.3 1726.48,-1261\"/>\n</g>\n<!-- 53 -->\n<g id=\"node54\" class=\"node\">\n<title>53</title>\n<polygon fill=\"#ffffff\" stroke=\"black\" points=\"1660,-1139 1523,-1139 1523,-1056 1660,-1056 1660,-1139\"/>\n<text text-anchor=\"middle\" x=\"1591.5\" y=\"-1123.8\" font-family=\"Helvetica,sans-Serif\" font-size=\"14.00\">Pregnancies &lt;= 6.0</text>\n<text text-anchor=\"middle\" x=\"1591.5\" y=\"-1108.8\" font-family=\"Helvetica,sans-Serif\" font-size=\"14.00\">gini = 0.5</text>\n<text text-anchor=\"middle\" x=\"1591.5\" y=\"-1093.8\" font-family=\"Helvetica,sans-Serif\" font-size=\"14.00\">samples = 2</text>\n<text text-anchor=\"middle\" x=\"1591.5\" y=\"-1078.8\" font-family=\"Helvetica,sans-Serif\" font-size=\"14.00\">value = [1, 1]</text>\n<text text-anchor=\"middle\" x=\"1591.5\" y=\"-1063.8\" font-family=\"Helvetica,sans-Serif\" font-size=\"14.00\">class = not diabetes</text>\n</g>\n<!-- 52&#45;&gt;53 -->\n<g id=\"edge53\" class=\"edge\">\n<title>52&#45;&gt;53</title>\n<path fill=\"none\" stroke=\"black\" d=\"M1598.03,-1174.91C1597.32,-1166.56 1596.56,-1157.67 1595.82,-1149.02\"/>\n<polygon fill=\"black\" stroke=\"black\" points=\"1599.3,-1148.69 1594.96,-1139.02 1592.33,-1149.28 1599.3,-1148.69\"/>\n</g>\n<!-- 56 -->\n<g id=\"node57\" class=\"node\">\n<title>56</title>\n<polygon fill=\"#e58139\" stroke=\"black\" points=\"1815,-1131.5 1678,-1131.5 1678,-1063.5 1815,-1063.5 1815,-1131.5\"/>\n<text text-anchor=\"middle\" x=\"1746.5\" y=\"-1116.3\" font-family=\"Helvetica,sans-Serif\" font-size=\"14.00\">gini = 0.0</text>\n<text text-anchor=\"middle\" x=\"1746.5\" y=\"-1101.3\" font-family=\"Helvetica,sans-Serif\" font-size=\"14.00\">samples = 8</text>\n<text text-anchor=\"middle\" x=\"1746.5\" y=\"-1086.3\" font-family=\"Helvetica,sans-Serif\" font-size=\"14.00\">value = [8, 0]</text>\n<text text-anchor=\"middle\" x=\"1746.5\" y=\"-1071.3\" font-family=\"Helvetica,sans-Serif\" font-size=\"14.00\">class = not diabetes</text>\n</g>\n<!-- 52&#45;&gt;56 -->\n<g id=\"edge56\" class=\"edge\">\n<title>52&#45;&gt;56</title>\n<path fill=\"none\" stroke=\"black\" d=\"M1651.81,-1174.91C1666.58,-1162.99 1682.71,-1149.98 1697.4,-1138.12\"/>\n<polygon fill=\"black\" stroke=\"black\" points=\"1699.81,-1140.67 1705.4,-1131.67 1695.42,-1135.22 1699.81,-1140.67\"/>\n</g>\n<!-- 54 -->\n<g id=\"node55\" class=\"node\">\n<title>54</title>\n<polygon fill=\"#399de5\" stroke=\"black\" points=\"1648.5,-1012.5 1534.5,-1012.5 1534.5,-944.5 1648.5,-944.5 1648.5,-1012.5\"/>\n<text text-anchor=\"middle\" x=\"1591.5\" y=\"-997.3\" font-family=\"Helvetica,sans-Serif\" font-size=\"14.00\">gini = 0.0</text>\n<text text-anchor=\"middle\" x=\"1591.5\" y=\"-982.3\" font-family=\"Helvetica,sans-Serif\" font-size=\"14.00\">samples = 1</text>\n<text text-anchor=\"middle\" x=\"1591.5\" y=\"-967.3\" font-family=\"Helvetica,sans-Serif\" font-size=\"14.00\">value = [0, 1]</text>\n<text text-anchor=\"middle\" x=\"1591.5\" y=\"-952.3\" font-family=\"Helvetica,sans-Serif\" font-size=\"14.00\">class = diabetes</text>\n</g>\n<!-- 53&#45;&gt;54 -->\n<g id=\"edge54\" class=\"edge\">\n<title>53&#45;&gt;54</title>\n<path fill=\"none\" stroke=\"black\" d=\"M1591.5,-1055.91C1591.5,-1045.2 1591.5,-1033.62 1591.5,-1022.78\"/>\n<polygon fill=\"black\" stroke=\"black\" points=\"1595,-1022.67 1591.5,-1012.67 1588,-1022.67 1595,-1022.67\"/>\n</g>\n<!-- 55 -->\n<g id=\"node56\" class=\"node\">\n<title>55</title>\n<polygon fill=\"#e58139\" stroke=\"black\" points=\"1804,-1012.5 1667,-1012.5 1667,-944.5 1804,-944.5 1804,-1012.5\"/>\n<text text-anchor=\"middle\" x=\"1735.5\" y=\"-997.3\" font-family=\"Helvetica,sans-Serif\" font-size=\"14.00\">gini = 0.0</text>\n<text text-anchor=\"middle\" x=\"1735.5\" y=\"-982.3\" font-family=\"Helvetica,sans-Serif\" font-size=\"14.00\">samples = 1</text>\n<text text-anchor=\"middle\" x=\"1735.5\" y=\"-967.3\" font-family=\"Helvetica,sans-Serif\" font-size=\"14.00\">value = [1, 0]</text>\n<text text-anchor=\"middle\" x=\"1735.5\" y=\"-952.3\" font-family=\"Helvetica,sans-Serif\" font-size=\"14.00\">class = not diabetes</text>\n</g>\n<!-- 53&#45;&gt;55 -->\n<g id=\"edge55\" class=\"edge\">\n<title>53&#45;&gt;55</title>\n<path fill=\"none\" stroke=\"black\" d=\"M1641.46,-1055.91C1656.13,-1043.99 1672.15,-1030.98 1686.74,-1019.12\"/>\n<polygon fill=\"black\" stroke=\"black\" points=\"1689.13,-1021.69 1694.68,-1012.67 1684.71,-1016.26 1689.13,-1021.69\"/>\n</g>\n<!-- 59 -->\n<g id=\"node60\" class=\"node\">\n<title>59</title>\n<polygon fill=\"#e58139\" stroke=\"black\" points=\"1900,-1369.5 1763,-1369.5 1763,-1301.5 1900,-1301.5 1900,-1369.5\"/>\n<text text-anchor=\"middle\" x=\"1831.5\" y=\"-1354.3\" font-family=\"Helvetica,sans-Serif\" font-size=\"14.00\">gini = 0.0</text>\n<text text-anchor=\"middle\" x=\"1831.5\" y=\"-1339.3\" font-family=\"Helvetica,sans-Serif\" font-size=\"14.00\">samples = 5</text>\n<text text-anchor=\"middle\" x=\"1831.5\" y=\"-1324.3\" font-family=\"Helvetica,sans-Serif\" font-size=\"14.00\">value = [5, 0]</text>\n<text text-anchor=\"middle\" x=\"1831.5\" y=\"-1309.3\" font-family=\"Helvetica,sans-Serif\" font-size=\"14.00\">class = not diabetes</text>\n</g>\n<!-- 58&#45;&gt;59 -->\n<g id=\"edge59\" class=\"edge\">\n<title>58&#45;&gt;59</title>\n<path fill=\"none\" stroke=\"black\" d=\"M1897.46,-1412.91C1887.55,-1401.43 1876.77,-1388.94 1866.84,-1377.44\"/>\n<polygon fill=\"black\" stroke=\"black\" points=\"1869.32,-1374.95 1860.13,-1369.67 1864.02,-1379.52 1869.32,-1374.95\"/>\n</g>\n<!-- 60 -->\n<g id=\"node61\" class=\"node\">\n<title>60</title>\n<polygon fill=\"#6ab6ec\" stroke=\"black\" points=\"2151,-1377 1918,-1377 1918,-1294 2151,-1294 2151,-1377\"/>\n<text text-anchor=\"middle\" x=\"2034.5\" y=\"-1361.8\" font-family=\"Helvetica,sans-Serif\" font-size=\"14.00\">DiabetesPedigreeFunction &lt;= 0.961</text>\n<text text-anchor=\"middle\" x=\"2034.5\" y=\"-1346.8\" font-family=\"Helvetica,sans-Serif\" font-size=\"14.00\">gini = 0.32</text>\n<text text-anchor=\"middle\" x=\"2034.5\" y=\"-1331.8\" font-family=\"Helvetica,sans-Serif\" font-size=\"14.00\">samples = 5</text>\n<text text-anchor=\"middle\" x=\"2034.5\" y=\"-1316.8\" font-family=\"Helvetica,sans-Serif\" font-size=\"14.00\">value = [1, 4]</text>\n<text text-anchor=\"middle\" x=\"2034.5\" y=\"-1301.8\" font-family=\"Helvetica,sans-Serif\" font-size=\"14.00\">class = diabetes</text>\n</g>\n<!-- 58&#45;&gt;60 -->\n<g id=\"edge60\" class=\"edge\">\n<title>58&#45;&gt;60</title>\n<path fill=\"none\" stroke=\"black\" d=\"M1967.89,-1412.91C1975.8,-1403.83 1984.27,-1394.12 1992.42,-1384.77\"/>\n<polygon fill=\"black\" stroke=\"black\" points=\"1995.24,-1386.86 1999.17,-1377.02 1989.96,-1382.26 1995.24,-1386.86\"/>\n</g>\n<!-- 61 -->\n<g id=\"node62\" class=\"node\">\n<title>61</title>\n<polygon fill=\"#399de5\" stroke=\"black\" points=\"1947.5,-1250.5 1833.5,-1250.5 1833.5,-1182.5 1947.5,-1182.5 1947.5,-1250.5\"/>\n<text text-anchor=\"middle\" x=\"1890.5\" y=\"-1235.3\" font-family=\"Helvetica,sans-Serif\" font-size=\"14.00\">gini = 0.0</text>\n<text text-anchor=\"middle\" x=\"1890.5\" y=\"-1220.3\" font-family=\"Helvetica,sans-Serif\" font-size=\"14.00\">samples = 3</text>\n<text text-anchor=\"middle\" x=\"1890.5\" y=\"-1205.3\" font-family=\"Helvetica,sans-Serif\" font-size=\"14.00\">value = [0, 3]</text>\n<text text-anchor=\"middle\" x=\"1890.5\" y=\"-1190.3\" font-family=\"Helvetica,sans-Serif\" font-size=\"14.00\">class = diabetes</text>\n</g>\n<!-- 60&#45;&gt;61 -->\n<g id=\"edge61\" class=\"edge\">\n<title>60&#45;&gt;61</title>\n<path fill=\"none\" stroke=\"black\" d=\"M1984.54,-1293.91C1969.87,-1281.99 1953.85,-1268.98 1939.26,-1257.12\"/>\n<polygon fill=\"black\" stroke=\"black\" points=\"1941.29,-1254.26 1931.32,-1250.67 1936.87,-1259.69 1941.29,-1254.26\"/>\n</g>\n<!-- 62 -->\n<g id=\"node63\" class=\"node\">\n<title>62</title>\n<polygon fill=\"#ffffff\" stroke=\"black\" points=\"2103,-1258 1966,-1258 1966,-1175 2103,-1175 2103,-1258\"/>\n<text text-anchor=\"middle\" x=\"2034.5\" y=\"-1242.8\" font-family=\"Helvetica,sans-Serif\" font-size=\"14.00\">Glucose &lt;= 90.5</text>\n<text text-anchor=\"middle\" x=\"2034.5\" y=\"-1227.8\" font-family=\"Helvetica,sans-Serif\" font-size=\"14.00\">gini = 0.5</text>\n<text text-anchor=\"middle\" x=\"2034.5\" y=\"-1212.8\" font-family=\"Helvetica,sans-Serif\" font-size=\"14.00\">samples = 2</text>\n<text text-anchor=\"middle\" x=\"2034.5\" y=\"-1197.8\" font-family=\"Helvetica,sans-Serif\" font-size=\"14.00\">value = [1, 1]</text>\n<text text-anchor=\"middle\" x=\"2034.5\" y=\"-1182.8\" font-family=\"Helvetica,sans-Serif\" font-size=\"14.00\">class = not diabetes</text>\n</g>\n<!-- 60&#45;&gt;62 -->\n<g id=\"edge62\" class=\"edge\">\n<title>60&#45;&gt;62</title>\n<path fill=\"none\" stroke=\"black\" d=\"M2034.5,-1293.91C2034.5,-1285.65 2034.5,-1276.86 2034.5,-1268.3\"/>\n<polygon fill=\"black\" stroke=\"black\" points=\"2038,-1268.02 2034.5,-1258.02 2031,-1268.02 2038,-1268.02\"/>\n</g>\n<!-- 63 -->\n<g id=\"node64\" class=\"node\">\n<title>63</title>\n<polygon fill=\"#399de5\" stroke=\"black\" points=\"1947.5,-1131.5 1833.5,-1131.5 1833.5,-1063.5 1947.5,-1063.5 1947.5,-1131.5\"/>\n<text text-anchor=\"middle\" x=\"1890.5\" y=\"-1116.3\" font-family=\"Helvetica,sans-Serif\" font-size=\"14.00\">gini = 0.0</text>\n<text text-anchor=\"middle\" x=\"1890.5\" y=\"-1101.3\" font-family=\"Helvetica,sans-Serif\" font-size=\"14.00\">samples = 1</text>\n<text text-anchor=\"middle\" x=\"1890.5\" y=\"-1086.3\" font-family=\"Helvetica,sans-Serif\" font-size=\"14.00\">value = [0, 1]</text>\n<text text-anchor=\"middle\" x=\"1890.5\" y=\"-1071.3\" font-family=\"Helvetica,sans-Serif\" font-size=\"14.00\">class = diabetes</text>\n</g>\n<!-- 62&#45;&gt;63 -->\n<g id=\"edge63\" class=\"edge\">\n<title>62&#45;&gt;63</title>\n<path fill=\"none\" stroke=\"black\" d=\"M1984.54,-1174.91C1969.87,-1162.99 1953.85,-1149.98 1939.26,-1138.12\"/>\n<polygon fill=\"black\" stroke=\"black\" points=\"1941.29,-1135.26 1931.32,-1131.67 1936.87,-1140.69 1941.29,-1135.26\"/>\n</g>\n<!-- 64 -->\n<g id=\"node65\" class=\"node\">\n<title>64</title>\n<polygon fill=\"#e58139\" stroke=\"black\" points=\"2103,-1131.5 1966,-1131.5 1966,-1063.5 2103,-1063.5 2103,-1131.5\"/>\n<text text-anchor=\"middle\" x=\"2034.5\" y=\"-1116.3\" font-family=\"Helvetica,sans-Serif\" font-size=\"14.00\">gini = 0.0</text>\n<text text-anchor=\"middle\" x=\"2034.5\" y=\"-1101.3\" font-family=\"Helvetica,sans-Serif\" font-size=\"14.00\">samples = 1</text>\n<text text-anchor=\"middle\" x=\"2034.5\" y=\"-1086.3\" font-family=\"Helvetica,sans-Serif\" font-size=\"14.00\">value = [1, 0]</text>\n<text text-anchor=\"middle\" x=\"2034.5\" y=\"-1071.3\" font-family=\"Helvetica,sans-Serif\" font-size=\"14.00\">class = not diabetes</text>\n</g>\n<!-- 62&#45;&gt;64 -->\n<g id=\"edge64\" class=\"edge\">\n<title>62&#45;&gt;64</title>\n<path fill=\"none\" stroke=\"black\" d=\"M2034.5,-1174.91C2034.5,-1164.2 2034.5,-1152.62 2034.5,-1141.78\"/>\n<polygon fill=\"black\" stroke=\"black\" points=\"2038,-1141.67 2034.5,-1131.67 2031,-1141.67 2038,-1141.67\"/>\n</g>\n<!-- 66 -->\n<g id=\"node67\" class=\"node\">\n<title>66</title>\n<polygon fill=\"#e68743\" stroke=\"black\" points=\"2382,-1496 2245,-1496 2245,-1413 2382,-1413 2382,-1496\"/>\n<text text-anchor=\"middle\" x=\"2313.5\" y=\"-1480.8\" font-family=\"Helvetica,sans-Serif\" font-size=\"14.00\">BMI &lt;= 10.4</text>\n<text text-anchor=\"middle\" x=\"2313.5\" y=\"-1465.8\" font-family=\"Helvetica,sans-Serif\" font-size=\"14.00\">gini = 0.091</text>\n<text text-anchor=\"middle\" x=\"2313.5\" y=\"-1450.8\" font-family=\"Helvetica,sans-Serif\" font-size=\"14.00\">samples = 21</text>\n<text text-anchor=\"middle\" x=\"2313.5\" y=\"-1435.8\" font-family=\"Helvetica,sans-Serif\" font-size=\"14.00\">value = [20, 1]</text>\n<text text-anchor=\"middle\" x=\"2313.5\" y=\"-1420.8\" font-family=\"Helvetica,sans-Serif\" font-size=\"14.00\">class = not diabetes</text>\n</g>\n<!-- 65&#45;&gt;66 -->\n<g id=\"edge66\" class=\"edge\">\n<title>65&#45;&gt;66</title>\n<path fill=\"none\" stroke=\"black\" d=\"M2313.5,-1531.91C2313.5,-1523.65 2313.5,-1514.86 2313.5,-1506.3\"/>\n<polygon fill=\"black\" stroke=\"black\" points=\"2317,-1506.02 2313.5,-1496.02 2310,-1506.02 2317,-1506.02\"/>\n</g>\n<!-- 69 -->\n<g id=\"node70\" class=\"node\">\n<title>69</title>\n<polygon fill=\"#fefcfb\" stroke=\"black\" points=\"2681,-1496 2448,-1496 2448,-1413 2681,-1413 2681,-1496\"/>\n<text text-anchor=\"middle\" x=\"2564.5\" y=\"-1480.8\" font-family=\"Helvetica,sans-Serif\" font-size=\"14.00\">DiabetesPedigreeFunction &lt;= 0.561</text>\n<text text-anchor=\"middle\" x=\"2564.5\" y=\"-1465.8\" font-family=\"Helvetica,sans-Serif\" font-size=\"14.00\">gini = 0.5</text>\n<text text-anchor=\"middle\" x=\"2564.5\" y=\"-1450.8\" font-family=\"Helvetica,sans-Serif\" font-size=\"14.00\">samples = 97</text>\n<text text-anchor=\"middle\" x=\"2564.5\" y=\"-1435.8\" font-family=\"Helvetica,sans-Serif\" font-size=\"14.00\">value = [49, 48]</text>\n<text text-anchor=\"middle\" x=\"2564.5\" y=\"-1420.8\" font-family=\"Helvetica,sans-Serif\" font-size=\"14.00\">class = not diabetes</text>\n</g>\n<!-- 65&#45;&gt;69 -->\n<g id=\"edge69\" class=\"edge\">\n<title>65&#45;&gt;69</title>\n<path fill=\"none\" stroke=\"black\" d=\"M2382.09,-1540.53C2408.67,-1528.14 2439.59,-1513.73 2468.32,-1500.33\"/>\n<polygon fill=\"black\" stroke=\"black\" points=\"2469.99,-1503.42 2477.57,-1496.02 2467.03,-1497.07 2469.99,-1503.42\"/>\n</g>\n<!-- 67 -->\n<g id=\"node68\" class=\"node\">\n<title>67</title>\n<polygon fill=\"#399de5\" stroke=\"black\" points=\"2291.5,-1369.5 2177.5,-1369.5 2177.5,-1301.5 2291.5,-1301.5 2291.5,-1369.5\"/>\n<text text-anchor=\"middle\" x=\"2234.5\" y=\"-1354.3\" font-family=\"Helvetica,sans-Serif\" font-size=\"14.00\">gini = 0.0</text>\n<text text-anchor=\"middle\" x=\"2234.5\" y=\"-1339.3\" font-family=\"Helvetica,sans-Serif\" font-size=\"14.00\">samples = 1</text>\n<text text-anchor=\"middle\" x=\"2234.5\" y=\"-1324.3\" font-family=\"Helvetica,sans-Serif\" font-size=\"14.00\">value = [0, 1]</text>\n<text text-anchor=\"middle\" x=\"2234.5\" y=\"-1309.3\" font-family=\"Helvetica,sans-Serif\" font-size=\"14.00\">class = diabetes</text>\n</g>\n<!-- 66&#45;&gt;67 -->\n<g id=\"edge67\" class=\"edge\">\n<title>66&#45;&gt;67</title>\n<path fill=\"none\" stroke=\"black\" d=\"M2286.09,-1412.91C2278.49,-1401.65 2270.23,-1389.42 2262.59,-1378.11\"/>\n<polygon fill=\"black\" stroke=\"black\" points=\"2265.39,-1376 2256.89,-1369.67 2259.59,-1379.91 2265.39,-1376\"/>\n</g>\n<!-- 68 -->\n<g id=\"node69\" class=\"node\">\n<title>68</title>\n<polygon fill=\"#e58139\" stroke=\"black\" points=\"2447,-1369.5 2310,-1369.5 2310,-1301.5 2447,-1301.5 2447,-1369.5\"/>\n<text text-anchor=\"middle\" x=\"2378.5\" y=\"-1354.3\" font-family=\"Helvetica,sans-Serif\" font-size=\"14.00\">gini = 0.0</text>\n<text text-anchor=\"middle\" x=\"2378.5\" y=\"-1339.3\" font-family=\"Helvetica,sans-Serif\" font-size=\"14.00\">samples = 20</text>\n<text text-anchor=\"middle\" x=\"2378.5\" y=\"-1324.3\" font-family=\"Helvetica,sans-Serif\" font-size=\"14.00\">value = [20, 0]</text>\n<text text-anchor=\"middle\" x=\"2378.5\" y=\"-1309.3\" font-family=\"Helvetica,sans-Serif\" font-size=\"14.00\">class = not diabetes</text>\n</g>\n<!-- 66&#45;&gt;68 -->\n<g id=\"edge68\" class=\"edge\">\n<title>66&#45;&gt;68</title>\n<path fill=\"none\" stroke=\"black\" d=\"M2336.05,-1412.91C2342.24,-1401.76 2348.97,-1389.66 2355.2,-1378.44\"/>\n<polygon fill=\"black\" stroke=\"black\" points=\"2358.28,-1380.11 2360.07,-1369.67 2352.16,-1376.71 2358.28,-1380.11\"/>\n</g>\n<!-- 70 -->\n<g id=\"node71\" class=\"node\">\n<title>70</title>\n<polygon fill=\"#f6d5bd\" stroke=\"black\" points=\"2633,-1377 2496,-1377 2496,-1294 2633,-1294 2633,-1377\"/>\n<text text-anchor=\"middle\" x=\"2564.5\" y=\"-1361.8\" font-family=\"Helvetica,sans-Serif\" font-size=\"14.00\">Age &lt;= 54.5</text>\n<text text-anchor=\"middle\" x=\"2564.5\" y=\"-1346.8\" font-family=\"Helvetica,sans-Serif\" font-size=\"14.00\">gini = 0.48</text>\n<text text-anchor=\"middle\" x=\"2564.5\" y=\"-1331.8\" font-family=\"Helvetica,sans-Serif\" font-size=\"14.00\">samples = 70</text>\n<text text-anchor=\"middle\" x=\"2564.5\" y=\"-1316.8\" font-family=\"Helvetica,sans-Serif\" font-size=\"14.00\">value = [42, 28]</text>\n<text text-anchor=\"middle\" x=\"2564.5\" y=\"-1301.8\" font-family=\"Helvetica,sans-Serif\" font-size=\"14.00\">class = not diabetes</text>\n</g>\n<!-- 69&#45;&gt;70 -->\n<g id=\"edge70\" class=\"edge\">\n<title>69&#45;&gt;70</title>\n<path fill=\"none\" stroke=\"black\" d=\"M2564.5,-1412.91C2564.5,-1404.65 2564.5,-1395.86 2564.5,-1387.3\"/>\n<polygon fill=\"black\" stroke=\"black\" points=\"2568,-1387.02 2564.5,-1377.02 2561,-1387.02 2568,-1387.02\"/>\n</g>\n<!-- 111 -->\n<g id=\"node112\" class=\"node\">\n<title>111</title>\n<polygon fill=\"#7ebfee\" stroke=\"black\" points=\"2887.5,-1377 2753.5,-1377 2753.5,-1294 2887.5,-1294 2887.5,-1377\"/>\n<text text-anchor=\"middle\" x=\"2820.5\" y=\"-1361.8\" font-family=\"Helvetica,sans-Serif\" font-size=\"14.00\">Pregnancies &lt;= 6.5</text>\n<text text-anchor=\"middle\" x=\"2820.5\" y=\"-1346.8\" font-family=\"Helvetica,sans-Serif\" font-size=\"14.00\">gini = 0.384</text>\n<text text-anchor=\"middle\" x=\"2820.5\" y=\"-1331.8\" font-family=\"Helvetica,sans-Serif\" font-size=\"14.00\">samples = 27</text>\n<text text-anchor=\"middle\" x=\"2820.5\" y=\"-1316.8\" font-family=\"Helvetica,sans-Serif\" font-size=\"14.00\">value = [7, 20]</text>\n<text text-anchor=\"middle\" x=\"2820.5\" y=\"-1301.8\" font-family=\"Helvetica,sans-Serif\" font-size=\"14.00\">class = diabetes</text>\n</g>\n<!-- 69&#45;&gt;111 -->\n<g id=\"edge111\" class=\"edge\">\n<title>69&#45;&gt;111</title>\n<path fill=\"none\" stroke=\"black\" d=\"M2653.32,-1412.91C2682.9,-1399.39 2715.57,-1384.46 2744.12,-1371.41\"/>\n<polygon fill=\"black\" stroke=\"black\" points=\"2745.6,-1374.58 2753.24,-1367.24 2742.69,-1368.21 2745.6,-1374.58\"/>\n</g>\n<!-- 71 -->\n<g id=\"node72\" class=\"node\">\n<title>71</title>\n<polygon fill=\"#fae6d7\" stroke=\"black\" points=\"2493.5,-1258 2275.5,-1258 2275.5,-1175 2493.5,-1175 2493.5,-1258\"/>\n<text text-anchor=\"middle\" x=\"2384.5\" y=\"-1242.8\" font-family=\"Helvetica,sans-Serif\" font-size=\"14.00\">DiabetesPedigreeFunction &lt;= 0.2</text>\n<text text-anchor=\"middle\" x=\"2384.5\" y=\"-1227.8\" font-family=\"Helvetica,sans-Serif\" font-size=\"14.00\">gini = 0.494</text>\n<text text-anchor=\"middle\" x=\"2384.5\" y=\"-1212.8\" font-family=\"Helvetica,sans-Serif\" font-size=\"14.00\">samples = 63</text>\n<text text-anchor=\"middle\" x=\"2384.5\" y=\"-1197.8\" font-family=\"Helvetica,sans-Serif\" font-size=\"14.00\">value = [35, 28]</text>\n<text text-anchor=\"middle\" x=\"2384.5\" y=\"-1182.8\" font-family=\"Helvetica,sans-Serif\" font-size=\"14.00\">class = not diabetes</text>\n</g>\n<!-- 70&#45;&gt;71 -->\n<g id=\"edge71\" class=\"edge\">\n<title>70&#45;&gt;71</title>\n<path fill=\"none\" stroke=\"black\" d=\"M2502.05,-1293.91C2486.97,-1284.11 2470.75,-1273.56 2455.32,-1263.53\"/>\n<polygon fill=\"black\" stroke=\"black\" points=\"2457.13,-1260.54 2446.84,-1258.02 2453.32,-1266.41 2457.13,-1260.54\"/>\n</g>\n<!-- 110 -->\n<g id=\"node111\" class=\"node\">\n<title>110</title>\n<polygon fill=\"#e58139\" stroke=\"black\" points=\"2649,-1250.5 2512,-1250.5 2512,-1182.5 2649,-1182.5 2649,-1250.5\"/>\n<text text-anchor=\"middle\" x=\"2580.5\" y=\"-1235.3\" font-family=\"Helvetica,sans-Serif\" font-size=\"14.00\">gini = 0.0</text>\n<text text-anchor=\"middle\" x=\"2580.5\" y=\"-1220.3\" font-family=\"Helvetica,sans-Serif\" font-size=\"14.00\">samples = 7</text>\n<text text-anchor=\"middle\" x=\"2580.5\" y=\"-1205.3\" font-family=\"Helvetica,sans-Serif\" font-size=\"14.00\">value = [7, 0]</text>\n<text text-anchor=\"middle\" x=\"2580.5\" y=\"-1190.3\" font-family=\"Helvetica,sans-Serif\" font-size=\"14.00\">class = not diabetes</text>\n</g>\n<!-- 70&#45;&gt;110 -->\n<g id=\"edge110\" class=\"edge\">\n<title>70&#45;&gt;110</title>\n<path fill=\"none\" stroke=\"black\" d=\"M2570.05,-1293.91C2571.51,-1283.2 2573.1,-1271.62 2574.58,-1260.78\"/>\n<polygon fill=\"black\" stroke=\"black\" points=\"2578.08,-1261.05 2575.96,-1250.67 2571.14,-1260.1 2578.08,-1261.05\"/>\n</g>\n<!-- 72 -->\n<g id=\"node73\" class=\"node\">\n<title>72</title>\n<polygon fill=\"#eca572\" stroke=\"black\" points=\"2258,-1139 2121,-1139 2121,-1056 2258,-1056 2258,-1139\"/>\n<text text-anchor=\"middle\" x=\"2189.5\" y=\"-1123.8\" font-family=\"Helvetica,sans-Serif\" font-size=\"14.00\">Age &lt;= 34.5</text>\n<text text-anchor=\"middle\" x=\"2189.5\" y=\"-1108.8\" font-family=\"Helvetica,sans-Serif\" font-size=\"14.00\">gini = 0.346</text>\n<text text-anchor=\"middle\" x=\"2189.5\" y=\"-1093.8\" font-family=\"Helvetica,sans-Serif\" font-size=\"14.00\">samples = 18</text>\n<text text-anchor=\"middle\" x=\"2189.5\" y=\"-1078.8\" font-family=\"Helvetica,sans-Serif\" font-size=\"14.00\">value = [14, 4]</text>\n<text text-anchor=\"middle\" x=\"2189.5\" y=\"-1063.8\" font-family=\"Helvetica,sans-Serif\" font-size=\"14.00\">class = not diabetes</text>\n</g>\n<!-- 71&#45;&gt;72 -->\n<g id=\"edge72\" class=\"edge\">\n<title>71&#45;&gt;72</title>\n<path fill=\"none\" stroke=\"black\" d=\"M2316.85,-1174.91C2300.36,-1165.02 2282.61,-1154.37 2265.76,-1144.25\"/>\n<polygon fill=\"black\" stroke=\"black\" points=\"2267.41,-1141.16 2257.03,-1139.02 2263.81,-1147.17 2267.41,-1141.16\"/>\n</g>\n<!-- 81 -->\n<g id=\"node82\" class=\"node\">\n<title>81</title>\n<polygon fill=\"#e6f3fc\" stroke=\"black\" points=\"2509,-1139 2276,-1139 2276,-1056 2509,-1056 2509,-1139\"/>\n<text text-anchor=\"middle\" x=\"2392.5\" y=\"-1123.8\" font-family=\"Helvetica,sans-Serif\" font-size=\"14.00\">DiabetesPedigreeFunction &lt;= 0.262</text>\n<text text-anchor=\"middle\" x=\"2392.5\" y=\"-1108.8\" font-family=\"Helvetica,sans-Serif\" font-size=\"14.00\">gini = 0.498</text>\n<text text-anchor=\"middle\" x=\"2392.5\" y=\"-1093.8\" font-family=\"Helvetica,sans-Serif\" font-size=\"14.00\">samples = 45</text>\n<text text-anchor=\"middle\" x=\"2392.5\" y=\"-1078.8\" font-family=\"Helvetica,sans-Serif\" font-size=\"14.00\">value = [21, 24]</text>\n<text text-anchor=\"middle\" x=\"2392.5\" y=\"-1063.8\" font-family=\"Helvetica,sans-Serif\" font-size=\"14.00\">class = diabetes</text>\n</g>\n<!-- 71&#45;&gt;81 -->\n<g id=\"edge81\" class=\"edge\">\n<title>71&#45;&gt;81</title>\n<path fill=\"none\" stroke=\"black\" d=\"M2387.28,-1174.91C2387.85,-1166.56 2388.45,-1157.67 2389.05,-1149.02\"/>\n<polygon fill=\"black\" stroke=\"black\" points=\"2392.54,-1149.24 2389.73,-1139.02 2385.56,-1148.76 2392.54,-1149.24\"/>\n</g>\n<!-- 73 -->\n<g id=\"node74\" class=\"node\">\n<title>73</title>\n<polygon fill=\"#e58139\" stroke=\"black\" points=\"2025,-1012.5 1888,-1012.5 1888,-944.5 2025,-944.5 2025,-1012.5\"/>\n<text text-anchor=\"middle\" x=\"1956.5\" y=\"-997.3\" font-family=\"Helvetica,sans-Serif\" font-size=\"14.00\">gini = 0.0</text>\n<text text-anchor=\"middle\" x=\"1956.5\" y=\"-982.3\" font-family=\"Helvetica,sans-Serif\" font-size=\"14.00\">samples = 8</text>\n<text text-anchor=\"middle\" x=\"1956.5\" y=\"-967.3\" font-family=\"Helvetica,sans-Serif\" font-size=\"14.00\">value = [8, 0]</text>\n<text text-anchor=\"middle\" x=\"1956.5\" y=\"-952.3\" font-family=\"Helvetica,sans-Serif\" font-size=\"14.00\">class = not diabetes</text>\n</g>\n<!-- 72&#45;&gt;73 -->\n<g id=\"edge73\" class=\"edge\">\n<title>72&#45;&gt;73</title>\n<path fill=\"none\" stroke=\"black\" d=\"M2120.68,-1060.55C2117.59,-1059 2114.51,-1057.48 2111.5,-1056 2077.21,-1039.2 2067.74,-1036.89 2033.5,-1020 2031.72,-1019.12 2029.92,-1018.23 2028.11,-1017.32\"/>\n<polygon fill=\"black\" stroke=\"black\" points=\"2029.48,-1014.09 2018.98,-1012.71 2026.32,-1020.34 2029.48,-1014.09\"/>\n</g>\n<!-- 74 -->\n<g id=\"node75\" class=\"node\">\n<title>74</title>\n<polygon fill=\"#f6d5bd\" stroke=\"black\" points=\"2180,-1020 2043,-1020 2043,-937 2180,-937 2180,-1020\"/>\n<text text-anchor=\"middle\" x=\"2111.5\" y=\"-1004.8\" font-family=\"Helvetica,sans-Serif\" font-size=\"14.00\">BMI &lt;= 35.2</text>\n<text text-anchor=\"middle\" x=\"2111.5\" y=\"-989.8\" font-family=\"Helvetica,sans-Serif\" font-size=\"14.00\">gini = 0.48</text>\n<text text-anchor=\"middle\" x=\"2111.5\" y=\"-974.8\" font-family=\"Helvetica,sans-Serif\" font-size=\"14.00\">samples = 10</text>\n<text text-anchor=\"middle\" x=\"2111.5\" y=\"-959.8\" font-family=\"Helvetica,sans-Serif\" font-size=\"14.00\">value = [6, 4]</text>\n<text text-anchor=\"middle\" x=\"2111.5\" y=\"-944.8\" font-family=\"Helvetica,sans-Serif\" font-size=\"14.00\">class = not diabetes</text>\n</g>\n<!-- 72&#45;&gt;74 -->\n<g id=\"edge74\" class=\"edge\">\n<title>72&#45;&gt;74</title>\n<path fill=\"none\" stroke=\"black\" d=\"M2162.44,-1055.91C2156.57,-1047.1 2150.3,-1037.7 2144.24,-1028.61\"/>\n<polygon fill=\"black\" stroke=\"black\" points=\"2146.97,-1026.4 2138.51,-1020.02 2141.15,-1030.28 2146.97,-1026.4\"/>\n</g>\n<!-- 75 -->\n<g id=\"node76\" class=\"node\">\n<title>75</title>\n<polygon fill=\"#9ccef2\" stroke=\"black\" points=\"1826,-901 1701,-901 1701,-818 1826,-818 1826,-901\"/>\n<text text-anchor=\"middle\" x=\"1763.5\" y=\"-885.8\" font-family=\"Helvetica,sans-Serif\" font-size=\"14.00\">Glucose &lt;= 108.0</text>\n<text text-anchor=\"middle\" x=\"1763.5\" y=\"-870.8\" font-family=\"Helvetica,sans-Serif\" font-size=\"14.00\">gini = 0.444</text>\n<text text-anchor=\"middle\" x=\"1763.5\" y=\"-855.8\" font-family=\"Helvetica,sans-Serif\" font-size=\"14.00\">samples = 6</text>\n<text text-anchor=\"middle\" x=\"1763.5\" y=\"-840.8\" font-family=\"Helvetica,sans-Serif\" font-size=\"14.00\">value = [2, 4]</text>\n<text text-anchor=\"middle\" x=\"1763.5\" y=\"-825.8\" font-family=\"Helvetica,sans-Serif\" font-size=\"14.00\">class = diabetes</text>\n</g>\n<!-- 74&#45;&gt;75 -->\n<g id=\"edge75\" class=\"edge\">\n<title>74&#45;&gt;75</title>\n<path fill=\"none\" stroke=\"black\" d=\"M2042.65,-940.39C2039.59,-939.18 2036.53,-938.04 2033.5,-937 1948.87,-908.07 1919.64,-931.34 1835.5,-901 1835.4,-900.97 1835.31,-900.93 1835.21,-900.89\"/>\n<polygon fill=\"black\" stroke=\"black\" points=\"1836.74,-897.73 1826.15,-897.3 1834.15,-904.24 1836.74,-897.73\"/>\n</g>\n<!-- 80 -->\n<g id=\"node81\" class=\"node\">\n<title>80</title>\n<polygon fill=\"#e58139\" stroke=\"black\" points=\"1982,-893.5 1845,-893.5 1845,-825.5 1982,-825.5 1982,-893.5\"/>\n<text text-anchor=\"middle\" x=\"1913.5\" y=\"-878.3\" font-family=\"Helvetica,sans-Serif\" font-size=\"14.00\">gini = 0.0</text>\n<text text-anchor=\"middle\" x=\"1913.5\" y=\"-863.3\" font-family=\"Helvetica,sans-Serif\" font-size=\"14.00\">samples = 4</text>\n<text text-anchor=\"middle\" x=\"1913.5\" y=\"-848.3\" font-family=\"Helvetica,sans-Serif\" font-size=\"14.00\">value = [4, 0]</text>\n<text text-anchor=\"middle\" x=\"1913.5\" y=\"-833.3\" font-family=\"Helvetica,sans-Serif\" font-size=\"14.00\">class = not diabetes</text>\n</g>\n<!-- 74&#45;&gt;80 -->\n<g id=\"edge80\" class=\"edge\">\n<title>74&#45;&gt;80</title>\n<path fill=\"none\" stroke=\"black\" d=\"M2042.8,-936.91C2021.89,-924.55 1998.98,-911.01 1978.33,-898.81\"/>\n<polygon fill=\"black\" stroke=\"black\" points=\"1980.02,-895.74 1969.63,-893.67 1976.46,-901.77 1980.02,-895.74\"/>\n</g>\n<!-- 76 -->\n<g id=\"node77\" class=\"node\">\n<title>76</title>\n<polygon fill=\"#f2c09c\" stroke=\"black\" points=\"1688,-782 1551,-782 1551,-699 1688,-699 1688,-782\"/>\n<text text-anchor=\"middle\" x=\"1619.5\" y=\"-766.8\" font-family=\"Helvetica,sans-Serif\" font-size=\"14.00\">Age &lt;= 36.5</text>\n<text text-anchor=\"middle\" x=\"1619.5\" y=\"-751.8\" font-family=\"Helvetica,sans-Serif\" font-size=\"14.00\">gini = 0.444</text>\n<text text-anchor=\"middle\" x=\"1619.5\" y=\"-736.8\" font-family=\"Helvetica,sans-Serif\" font-size=\"14.00\">samples = 3</text>\n<text text-anchor=\"middle\" x=\"1619.5\" y=\"-721.8\" font-family=\"Helvetica,sans-Serif\" font-size=\"14.00\">value = [2, 1]</text>\n<text text-anchor=\"middle\" x=\"1619.5\" y=\"-706.8\" font-family=\"Helvetica,sans-Serif\" font-size=\"14.00\">class = not diabetes</text>\n</g>\n<!-- 75&#45;&gt;76 -->\n<g id=\"edge76\" class=\"edge\">\n<title>75&#45;&gt;76</title>\n<path fill=\"none\" stroke=\"black\" d=\"M1713.54,-817.91C1701.81,-808.38 1689.22,-798.15 1677.19,-788.37\"/>\n<polygon fill=\"black\" stroke=\"black\" points=\"1679.34,-785.61 1669.37,-782.02 1674.93,-791.04 1679.34,-785.61\"/>\n</g>\n<!-- 79 -->\n<g id=\"node80\" class=\"node\">\n<title>79</title>\n<polygon fill=\"#399de5\" stroke=\"black\" points=\"1820.5,-774.5 1706.5,-774.5 1706.5,-706.5 1820.5,-706.5 1820.5,-774.5\"/>\n<text text-anchor=\"middle\" x=\"1763.5\" y=\"-759.3\" font-family=\"Helvetica,sans-Serif\" font-size=\"14.00\">gini = 0.0</text>\n<text text-anchor=\"middle\" x=\"1763.5\" y=\"-744.3\" font-family=\"Helvetica,sans-Serif\" font-size=\"14.00\">samples = 3</text>\n<text text-anchor=\"middle\" x=\"1763.5\" y=\"-729.3\" font-family=\"Helvetica,sans-Serif\" font-size=\"14.00\">value = [0, 3]</text>\n<text text-anchor=\"middle\" x=\"1763.5\" y=\"-714.3\" font-family=\"Helvetica,sans-Serif\" font-size=\"14.00\">class = diabetes</text>\n</g>\n<!-- 75&#45;&gt;79 -->\n<g id=\"edge79\" class=\"edge\">\n<title>75&#45;&gt;79</title>\n<path fill=\"none\" stroke=\"black\" d=\"M1763.5,-817.91C1763.5,-807.2 1763.5,-795.62 1763.5,-784.78\"/>\n<polygon fill=\"black\" stroke=\"black\" points=\"1767,-784.67 1763.5,-774.67 1760,-784.67 1767,-784.67\"/>\n</g>\n<!-- 77 -->\n<g id=\"node78\" class=\"node\">\n<title>77</title>\n<polygon fill=\"#399de5\" stroke=\"black\" points=\"1654.5,-655.5 1540.5,-655.5 1540.5,-587.5 1654.5,-587.5 1654.5,-655.5\"/>\n<text text-anchor=\"middle\" x=\"1597.5\" y=\"-640.3\" font-family=\"Helvetica,sans-Serif\" font-size=\"14.00\">gini = 0.0</text>\n<text text-anchor=\"middle\" x=\"1597.5\" y=\"-625.3\" font-family=\"Helvetica,sans-Serif\" font-size=\"14.00\">samples = 1</text>\n<text text-anchor=\"middle\" x=\"1597.5\" y=\"-610.3\" font-family=\"Helvetica,sans-Serif\" font-size=\"14.00\">value = [0, 1]</text>\n<text text-anchor=\"middle\" x=\"1597.5\" y=\"-595.3\" font-family=\"Helvetica,sans-Serif\" font-size=\"14.00\">class = diabetes</text>\n</g>\n<!-- 76&#45;&gt;77 -->\n<g id=\"edge77\" class=\"edge\">\n<title>76&#45;&gt;77</title>\n<path fill=\"none\" stroke=\"black\" d=\"M1611.87,-698.91C1609.85,-688.2 1607.68,-676.62 1605.64,-665.78\"/>\n<polygon fill=\"black\" stroke=\"black\" points=\"1609.02,-664.85 1603.74,-655.67 1602.14,-666.14 1609.02,-664.85\"/>\n</g>\n<!-- 78 -->\n<g id=\"node79\" class=\"node\">\n<title>78</title>\n<polygon fill=\"#e58139\" stroke=\"black\" points=\"1810,-655.5 1673,-655.5 1673,-587.5 1810,-587.5 1810,-655.5\"/>\n<text text-anchor=\"middle\" x=\"1741.5\" y=\"-640.3\" font-family=\"Helvetica,sans-Serif\" font-size=\"14.00\">gini = 0.0</text>\n<text text-anchor=\"middle\" x=\"1741.5\" y=\"-625.3\" font-family=\"Helvetica,sans-Serif\" font-size=\"14.00\">samples = 2</text>\n<text text-anchor=\"middle\" x=\"1741.5\" y=\"-610.3\" font-family=\"Helvetica,sans-Serif\" font-size=\"14.00\">value = [2, 0]</text>\n<text text-anchor=\"middle\" x=\"1741.5\" y=\"-595.3\" font-family=\"Helvetica,sans-Serif\" font-size=\"14.00\">class = not diabetes</text>\n</g>\n<!-- 76&#45;&gt;78 -->\n<g id=\"edge78\" class=\"edge\">\n<title>76&#45;&gt;78</title>\n<path fill=\"none\" stroke=\"black\" d=\"M1661.83,-698.91C1674.02,-687.21 1687.32,-674.46 1699.5,-662.78\"/>\n<polygon fill=\"black\" stroke=\"black\" points=\"1702.12,-665.11 1706.92,-655.67 1697.28,-660.06 1702.12,-665.11\"/>\n</g>\n<!-- 82 -->\n<g id=\"node83\" class=\"node\">\n<title>82</title>\n<polygon fill=\"#6fb8ec\" stroke=\"black\" points=\"2365.5,-1020 2231.5,-1020 2231.5,-937 2365.5,-937 2365.5,-1020\"/>\n<text text-anchor=\"middle\" x=\"2298.5\" y=\"-1004.8\" font-family=\"Helvetica,sans-Serif\" font-size=\"14.00\">Pregnancies &lt;= 9.5</text>\n<text text-anchor=\"middle\" x=\"2298.5\" y=\"-989.8\" font-family=\"Helvetica,sans-Serif\" font-size=\"14.00\">gini = 0.337</text>\n<text text-anchor=\"middle\" x=\"2298.5\" y=\"-974.8\" font-family=\"Helvetica,sans-Serif\" font-size=\"14.00\">samples = 14</text>\n<text text-anchor=\"middle\" x=\"2298.5\" y=\"-959.8\" font-family=\"Helvetica,sans-Serif\" font-size=\"14.00\">value = [3, 11]</text>\n<text text-anchor=\"middle\" x=\"2298.5\" y=\"-944.8\" font-family=\"Helvetica,sans-Serif\" font-size=\"14.00\">class = diabetes</text>\n</g>\n<!-- 81&#45;&gt;82 -->\n<g id=\"edge82\" class=\"edge\">\n<title>81&#45;&gt;82</title>\n<path fill=\"none\" stroke=\"black\" d=\"M2359.89,-1055.91C2352.67,-1046.92 2344.95,-1037.32 2337.51,-1028.05\"/>\n<polygon fill=\"black\" stroke=\"black\" points=\"2340.05,-1025.62 2331.06,-1020.02 2334.59,-1030.01 2340.05,-1025.62\"/>\n</g>\n<!-- 89 -->\n<g id=\"node90\" class=\"node\">\n<title>89</title>\n<polygon fill=\"#f8dcc8\" stroke=\"black\" points=\"2619,-1020 2482,-1020 2482,-937 2619,-937 2619,-1020\"/>\n<text text-anchor=\"middle\" x=\"2550.5\" y=\"-1004.8\" font-family=\"Helvetica,sans-Serif\" font-size=\"14.00\">BMI &lt;= 29.85</text>\n<text text-anchor=\"middle\" x=\"2550.5\" y=\"-989.8\" font-family=\"Helvetica,sans-Serif\" font-size=\"14.00\">gini = 0.487</text>\n<text text-anchor=\"middle\" x=\"2550.5\" y=\"-974.8\" font-family=\"Helvetica,sans-Serif\" font-size=\"14.00\">samples = 31</text>\n<text text-anchor=\"middle\" x=\"2550.5\" y=\"-959.8\" font-family=\"Helvetica,sans-Serif\" font-size=\"14.00\">value = [18, 13]</text>\n<text text-anchor=\"middle\" x=\"2550.5\" y=\"-944.8\" font-family=\"Helvetica,sans-Serif\" font-size=\"14.00\">class = not diabetes</text>\n</g>\n<!-- 81&#45;&gt;89 -->\n<g id=\"edge89\" class=\"edge\">\n<title>81&#45;&gt;89</title>\n<path fill=\"none\" stroke=\"black\" d=\"M2447.32,-1055.91C2460.31,-1046.29 2474.26,-1035.95 2487.58,-1026.09\"/>\n<polygon fill=\"black\" stroke=\"black\" points=\"2489.83,-1028.78 2495.78,-1020.02 2485.66,-1023.16 2489.83,-1028.78\"/>\n</g>\n<!-- 83 -->\n<g id=\"node84\" class=\"node\">\n<title>83</title>\n<polygon fill=\"#4da7e8\" stroke=\"black\" points=\"2154.5,-901 2000.5,-901 2000.5,-818 2154.5,-818 2154.5,-901\"/>\n<text text-anchor=\"middle\" x=\"2077.5\" y=\"-885.8\" font-family=\"Helvetica,sans-Serif\" font-size=\"14.00\">SkinThickness &lt;= 36.5</text>\n<text text-anchor=\"middle\" x=\"2077.5\" y=\"-870.8\" font-family=\"Helvetica,sans-Serif\" font-size=\"14.00\">gini = 0.165</text>\n<text text-anchor=\"middle\" x=\"2077.5\" y=\"-855.8\" font-family=\"Helvetica,sans-Serif\" font-size=\"14.00\">samples = 11</text>\n<text text-anchor=\"middle\" x=\"2077.5\" y=\"-840.8\" font-family=\"Helvetica,sans-Serif\" font-size=\"14.00\">value = [1, 10]</text>\n<text text-anchor=\"middle\" x=\"2077.5\" y=\"-825.8\" font-family=\"Helvetica,sans-Serif\" font-size=\"14.00\">class = diabetes</text>\n</g>\n<!-- 82&#45;&gt;83 -->\n<g id=\"edge83\" class=\"edge\">\n<title>82&#45;&gt;83</title>\n<path fill=\"none\" stroke=\"black\" d=\"M2231.29,-941.92C2209.77,-930.52 2185.64,-917.75 2162.99,-905.76\"/>\n<polygon fill=\"black\" stroke=\"black\" points=\"2164.53,-902.62 2154.06,-901.03 2161.26,-908.8 2164.53,-902.62\"/>\n</g>\n<!-- 86 -->\n<g id=\"node87\" class=\"node\">\n<title>86</title>\n<polygon fill=\"#f2c09c\" stroke=\"black\" points=\"2415,-901 2182,-901 2182,-818 2415,-818 2415,-901\"/>\n<text text-anchor=\"middle\" x=\"2298.5\" y=\"-885.8\" font-family=\"Helvetica,sans-Serif\" font-size=\"14.00\">DiabetesPedigreeFunction &lt;= 0.228</text>\n<text text-anchor=\"middle\" x=\"2298.5\" y=\"-870.8\" font-family=\"Helvetica,sans-Serif\" font-size=\"14.00\">gini = 0.444</text>\n<text text-anchor=\"middle\" x=\"2298.5\" y=\"-855.8\" font-family=\"Helvetica,sans-Serif\" font-size=\"14.00\">samples = 3</text>\n<text text-anchor=\"middle\" x=\"2298.5\" y=\"-840.8\" font-family=\"Helvetica,sans-Serif\" font-size=\"14.00\">value = [2, 1]</text>\n<text text-anchor=\"middle\" x=\"2298.5\" y=\"-825.8\" font-family=\"Helvetica,sans-Serif\" font-size=\"14.00\">class = not diabetes</text>\n</g>\n<!-- 82&#45;&gt;86 -->\n<g id=\"edge86\" class=\"edge\">\n<title>82&#45;&gt;86</title>\n<path fill=\"none\" stroke=\"black\" d=\"M2298.5,-936.91C2298.5,-928.65 2298.5,-919.86 2298.5,-911.3\"/>\n<polygon fill=\"black\" stroke=\"black\" points=\"2302,-911.02 2298.5,-901.02 2295,-911.02 2302,-911.02\"/>\n</g>\n<!-- 84 -->\n<g id=\"node85\" class=\"node\">\n<title>84</title>\n<polygon fill=\"#399de5\" stroke=\"black\" points=\"1952.5,-774.5 1838.5,-774.5 1838.5,-706.5 1952.5,-706.5 1952.5,-774.5\"/>\n<text text-anchor=\"middle\" x=\"1895.5\" y=\"-759.3\" font-family=\"Helvetica,sans-Serif\" font-size=\"14.00\">gini = 0.0</text>\n<text text-anchor=\"middle\" x=\"1895.5\" y=\"-744.3\" font-family=\"Helvetica,sans-Serif\" font-size=\"14.00\">samples = 10</text>\n<text text-anchor=\"middle\" x=\"1895.5\" y=\"-729.3\" font-family=\"Helvetica,sans-Serif\" font-size=\"14.00\">value = [0, 10]</text>\n<text text-anchor=\"middle\" x=\"1895.5\" y=\"-714.3\" font-family=\"Helvetica,sans-Serif\" font-size=\"14.00\">class = diabetes</text>\n</g>\n<!-- 83&#45;&gt;84 -->\n<g id=\"edge84\" class=\"edge\">\n<title>83&#45;&gt;84</title>\n<path fill=\"none\" stroke=\"black\" d=\"M2014.36,-817.91C1995.3,-805.66 1974.45,-792.25 1955.6,-780.13\"/>\n<polygon fill=\"black\" stroke=\"black\" points=\"1957.4,-777.13 1947.09,-774.67 1953.61,-783.02 1957.4,-777.13\"/>\n</g>\n<!-- 85 -->\n<g id=\"node86\" class=\"node\">\n<title>85</title>\n<polygon fill=\"#e58139\" stroke=\"black\" points=\"2108,-774.5 1971,-774.5 1971,-706.5 2108,-706.5 2108,-774.5\"/>\n<text text-anchor=\"middle\" x=\"2039.5\" y=\"-759.3\" font-family=\"Helvetica,sans-Serif\" font-size=\"14.00\">gini = 0.0</text>\n<text text-anchor=\"middle\" x=\"2039.5\" y=\"-744.3\" font-family=\"Helvetica,sans-Serif\" font-size=\"14.00\">samples = 1</text>\n<text text-anchor=\"middle\" x=\"2039.5\" y=\"-729.3\" font-family=\"Helvetica,sans-Serif\" font-size=\"14.00\">value = [1, 0]</text>\n<text text-anchor=\"middle\" x=\"2039.5\" y=\"-714.3\" font-family=\"Helvetica,sans-Serif\" font-size=\"14.00\">class = not diabetes</text>\n</g>\n<!-- 83&#45;&gt;85 -->\n<g id=\"edge85\" class=\"edge\">\n<title>83&#45;&gt;85</title>\n<path fill=\"none\" stroke=\"black\" d=\"M2064.32,-817.91C2060.8,-807.09 2057,-795.38 2053.45,-784.44\"/>\n<polygon fill=\"black\" stroke=\"black\" points=\"2056.69,-783.1 2050.27,-774.67 2050.03,-785.26 2056.69,-783.1\"/>\n</g>\n<!-- 87 -->\n<g id=\"node88\" class=\"node\">\n<title>87</title>\n<polygon fill=\"#399de5\" stroke=\"black\" points=\"2240.5,-774.5 2126.5,-774.5 2126.5,-706.5 2240.5,-706.5 2240.5,-774.5\"/>\n<text text-anchor=\"middle\" x=\"2183.5\" y=\"-759.3\" font-family=\"Helvetica,sans-Serif\" font-size=\"14.00\">gini = 0.0</text>\n<text text-anchor=\"middle\" x=\"2183.5\" y=\"-744.3\" font-family=\"Helvetica,sans-Serif\" font-size=\"14.00\">samples = 1</text>\n<text text-anchor=\"middle\" x=\"2183.5\" y=\"-729.3\" font-family=\"Helvetica,sans-Serif\" font-size=\"14.00\">value = [0, 1]</text>\n<text text-anchor=\"middle\" x=\"2183.5\" y=\"-714.3\" font-family=\"Helvetica,sans-Serif\" font-size=\"14.00\">class = diabetes</text>\n</g>\n<!-- 86&#45;&gt;87 -->\n<g id=\"edge87\" class=\"edge\">\n<title>86&#45;&gt;87</title>\n<path fill=\"none\" stroke=\"black\" d=\"M2258.6,-817.91C2247.21,-806.32 2234.81,-793.7 2223.42,-782.11\"/>\n<polygon fill=\"black\" stroke=\"black\" points=\"2225.61,-779.35 2216.1,-774.67 2220.61,-784.25 2225.61,-779.35\"/>\n</g>\n<!-- 88 -->\n<g id=\"node89\" class=\"node\">\n<title>88</title>\n<polygon fill=\"#e58139\" stroke=\"black\" points=\"2396,-774.5 2259,-774.5 2259,-706.5 2396,-706.5 2396,-774.5\"/>\n<text text-anchor=\"middle\" x=\"2327.5\" y=\"-759.3\" font-family=\"Helvetica,sans-Serif\" font-size=\"14.00\">gini = 0.0</text>\n<text text-anchor=\"middle\" x=\"2327.5\" y=\"-744.3\" font-family=\"Helvetica,sans-Serif\" font-size=\"14.00\">samples = 2</text>\n<text text-anchor=\"middle\" x=\"2327.5\" y=\"-729.3\" font-family=\"Helvetica,sans-Serif\" font-size=\"14.00\">value = [2, 0]</text>\n<text text-anchor=\"middle\" x=\"2327.5\" y=\"-714.3\" font-family=\"Helvetica,sans-Serif\" font-size=\"14.00\">class = not diabetes</text>\n</g>\n<!-- 86&#45;&gt;88 -->\n<g id=\"edge88\" class=\"edge\">\n<title>86&#45;&gt;88</title>\n<path fill=\"none\" stroke=\"black\" d=\"M2308.56,-817.91C2311.24,-807.09 2314.15,-795.38 2316.86,-784.44\"/>\n<polygon fill=\"black\" stroke=\"black\" points=\"2320.27,-785.22 2319.28,-774.67 2313.48,-783.53 2320.27,-785.22\"/>\n</g>\n<!-- 90 -->\n<g id=\"node91\" class=\"node\">\n<title>90</title>\n<polygon fill=\"#6ab6ec\" stroke=\"black\" points=\"2667,-901 2434,-901 2434,-818 2667,-818 2667,-901\"/>\n<text text-anchor=\"middle\" x=\"2550.5\" y=\"-885.8\" font-family=\"Helvetica,sans-Serif\" font-size=\"14.00\">DiabetesPedigreeFunction &lt;= 0.446</text>\n<text text-anchor=\"middle\" x=\"2550.5\" y=\"-870.8\" font-family=\"Helvetica,sans-Serif\" font-size=\"14.00\">gini = 0.32</text>\n<text text-anchor=\"middle\" x=\"2550.5\" y=\"-855.8\" font-family=\"Helvetica,sans-Serif\" font-size=\"14.00\">samples = 5</text>\n<text text-anchor=\"middle\" x=\"2550.5\" y=\"-840.8\" font-family=\"Helvetica,sans-Serif\" font-size=\"14.00\">value = [1, 4]</text>\n<text text-anchor=\"middle\" x=\"2550.5\" y=\"-825.8\" font-family=\"Helvetica,sans-Serif\" font-size=\"14.00\">class = diabetes</text>\n</g>\n<!-- 89&#45;&gt;90 -->\n<g id=\"edge90\" class=\"edge\">\n<title>89&#45;&gt;90</title>\n<path fill=\"none\" stroke=\"black\" d=\"M2550.5,-936.91C2550.5,-928.65 2550.5,-919.86 2550.5,-911.3\"/>\n<polygon fill=\"black\" stroke=\"black\" points=\"2554,-911.02 2550.5,-901.02 2547,-911.02 2554,-911.02\"/>\n</g>\n<!-- 93 -->\n<g id=\"node94\" class=\"node\">\n<title>93</title>\n<polygon fill=\"#f3c4a2\" stroke=\"black\" points=\"2827,-901 2690,-901 2690,-818 2827,-818 2827,-901\"/>\n<text text-anchor=\"middle\" x=\"2758.5\" y=\"-885.8\" font-family=\"Helvetica,sans-Serif\" font-size=\"14.00\">BMI &lt;= 44.35</text>\n<text text-anchor=\"middle\" x=\"2758.5\" y=\"-870.8\" font-family=\"Helvetica,sans-Serif\" font-size=\"14.00\">gini = 0.453</text>\n<text text-anchor=\"middle\" x=\"2758.5\" y=\"-855.8\" font-family=\"Helvetica,sans-Serif\" font-size=\"14.00\">samples = 26</text>\n<text text-anchor=\"middle\" x=\"2758.5\" y=\"-840.8\" font-family=\"Helvetica,sans-Serif\" font-size=\"14.00\">value = [17, 9]</text>\n<text text-anchor=\"middle\" x=\"2758.5\" y=\"-825.8\" font-family=\"Helvetica,sans-Serif\" font-size=\"14.00\">class = not diabetes</text>\n</g>\n<!-- 89&#45;&gt;93 -->\n<g id=\"edge93\" class=\"edge\">\n<title>89&#45;&gt;93</title>\n<path fill=\"none\" stroke=\"black\" d=\"M2619.18,-938.87C2638.97,-927.73 2660.7,-915.51 2680.99,-904.1\"/>\n<polygon fill=\"black\" stroke=\"black\" points=\"2682.89,-907.05 2689.89,-899.09 2679.46,-900.95 2682.89,-907.05\"/>\n</g>\n<!-- 91 -->\n<g id=\"node92\" class=\"node\">\n<title>91</title>\n<polygon fill=\"#399de5\" stroke=\"black\" points=\"2528.5,-774.5 2414.5,-774.5 2414.5,-706.5 2528.5,-706.5 2528.5,-774.5\"/>\n<text text-anchor=\"middle\" x=\"2471.5\" y=\"-759.3\" font-family=\"Helvetica,sans-Serif\" font-size=\"14.00\">gini = 0.0</text>\n<text text-anchor=\"middle\" x=\"2471.5\" y=\"-744.3\" font-family=\"Helvetica,sans-Serif\" font-size=\"14.00\">samples = 4</text>\n<text text-anchor=\"middle\" x=\"2471.5\" y=\"-729.3\" font-family=\"Helvetica,sans-Serif\" font-size=\"14.00\">value = [0, 4]</text>\n<text text-anchor=\"middle\" x=\"2471.5\" y=\"-714.3\" font-family=\"Helvetica,sans-Serif\" font-size=\"14.00\">class = diabetes</text>\n</g>\n<!-- 90&#45;&gt;91 -->\n<g id=\"edge91\" class=\"edge\">\n<title>90&#45;&gt;91</title>\n<path fill=\"none\" stroke=\"black\" d=\"M2523.09,-817.91C2515.49,-806.65 2507.23,-794.42 2499.59,-783.11\"/>\n<polygon fill=\"black\" stroke=\"black\" points=\"2502.39,-781 2493.89,-774.67 2496.59,-784.91 2502.39,-781\"/>\n</g>\n<!-- 92 -->\n<g id=\"node93\" class=\"node\">\n<title>92</title>\n<polygon fill=\"#e58139\" stroke=\"black\" points=\"2684,-774.5 2547,-774.5 2547,-706.5 2684,-706.5 2684,-774.5\"/>\n<text text-anchor=\"middle\" x=\"2615.5\" y=\"-759.3\" font-family=\"Helvetica,sans-Serif\" font-size=\"14.00\">gini = 0.0</text>\n<text text-anchor=\"middle\" x=\"2615.5\" y=\"-744.3\" font-family=\"Helvetica,sans-Serif\" font-size=\"14.00\">samples = 1</text>\n<text text-anchor=\"middle\" x=\"2615.5\" y=\"-729.3\" font-family=\"Helvetica,sans-Serif\" font-size=\"14.00\">value = [1, 0]</text>\n<text text-anchor=\"middle\" x=\"2615.5\" y=\"-714.3\" font-family=\"Helvetica,sans-Serif\" font-size=\"14.00\">class = not diabetes</text>\n</g>\n<!-- 90&#45;&gt;92 -->\n<g id=\"edge92\" class=\"edge\">\n<title>90&#45;&gt;92</title>\n<path fill=\"none\" stroke=\"black\" d=\"M2573.05,-817.91C2579.24,-806.76 2585.97,-794.66 2592.2,-783.44\"/>\n<polygon fill=\"black\" stroke=\"black\" points=\"2595.28,-785.11 2597.07,-774.67 2589.16,-781.71 2595.28,-785.11\"/>\n</g>\n<!-- 94 -->\n<g id=\"node95\" class=\"node\">\n<title>94</title>\n<polygon fill=\"#f0b58b\" stroke=\"black\" points=\"2857,-782 2702,-782 2702,-699 2857,-699 2857,-782\"/>\n<text text-anchor=\"middle\" x=\"2779.5\" y=\"-766.8\" font-family=\"Helvetica,sans-Serif\" font-size=\"14.00\">BloodPressure &lt;= 79.0</text>\n<text text-anchor=\"middle\" x=\"2779.5\" y=\"-751.8\" font-family=\"Helvetica,sans-Serif\" font-size=\"14.00\">gini = 0.413</text>\n<text text-anchor=\"middle\" x=\"2779.5\" y=\"-736.8\" font-family=\"Helvetica,sans-Serif\" font-size=\"14.00\">samples = 24</text>\n<text text-anchor=\"middle\" x=\"2779.5\" y=\"-721.8\" font-family=\"Helvetica,sans-Serif\" font-size=\"14.00\">value = [17, 7]</text>\n<text text-anchor=\"middle\" x=\"2779.5\" y=\"-706.8\" font-family=\"Helvetica,sans-Serif\" font-size=\"14.00\">class = not diabetes</text>\n</g>\n<!-- 93&#45;&gt;94 -->\n<g id=\"edge94\" class=\"edge\">\n<title>93&#45;&gt;94</title>\n<path fill=\"none\" stroke=\"black\" d=\"M2765.79,-817.91C2767.28,-809.56 2768.88,-800.67 2770.43,-792.02\"/>\n<polygon fill=\"black\" stroke=\"black\" points=\"2773.91,-792.48 2772.23,-782.02 2767.02,-791.25 2773.91,-792.48\"/>\n</g>\n<!-- 109 -->\n<g id=\"node110\" class=\"node\">\n<title>109</title>\n<polygon fill=\"#399de5\" stroke=\"black\" points=\"2989.5,-774.5 2875.5,-774.5 2875.5,-706.5 2989.5,-706.5 2989.5,-774.5\"/>\n<text text-anchor=\"middle\" x=\"2932.5\" y=\"-759.3\" font-family=\"Helvetica,sans-Serif\" font-size=\"14.00\">gini = 0.0</text>\n<text text-anchor=\"middle\" x=\"2932.5\" y=\"-744.3\" font-family=\"Helvetica,sans-Serif\" font-size=\"14.00\">samples = 2</text>\n<text text-anchor=\"middle\" x=\"2932.5\" y=\"-729.3\" font-family=\"Helvetica,sans-Serif\" font-size=\"14.00\">value = [0, 2]</text>\n<text text-anchor=\"middle\" x=\"2932.5\" y=\"-714.3\" font-family=\"Helvetica,sans-Serif\" font-size=\"14.00\">class = diabetes</text>\n</g>\n<!-- 93&#45;&gt;109 -->\n<g id=\"edge109\" class=\"edge\">\n<title>93&#45;&gt;109</title>\n<path fill=\"none\" stroke=\"black\" d=\"M2818.87,-817.91C2836.92,-805.77 2856.66,-792.49 2874.56,-780.46\"/>\n<polygon fill=\"black\" stroke=\"black\" points=\"2876.83,-783.15 2883.17,-774.67 2872.92,-777.34 2876.83,-783.15\"/>\n</g>\n<!-- 95 -->\n<g id=\"node96\" class=\"node\">\n<title>95</title>\n<polygon fill=\"#f7d9c4\" stroke=\"black\" points=\"2771,-663 2634,-663 2634,-580 2771,-580 2771,-663\"/>\n<text text-anchor=\"middle\" x=\"2702.5\" y=\"-647.8\" font-family=\"Helvetica,sans-Serif\" font-size=\"14.00\">Age &lt;= 43.0</text>\n<text text-anchor=\"middle\" x=\"2702.5\" y=\"-632.8\" font-family=\"Helvetica,sans-Serif\" font-size=\"14.00\">gini = 0.484</text>\n<text text-anchor=\"middle\" x=\"2702.5\" y=\"-617.8\" font-family=\"Helvetica,sans-Serif\" font-size=\"14.00\">samples = 17</text>\n<text text-anchor=\"middle\" x=\"2702.5\" y=\"-602.8\" font-family=\"Helvetica,sans-Serif\" font-size=\"14.00\">value = [10, 7]</text>\n<text text-anchor=\"middle\" x=\"2702.5\" y=\"-587.8\" font-family=\"Helvetica,sans-Serif\" font-size=\"14.00\">class = not diabetes</text>\n</g>\n<!-- 94&#45;&gt;95 -->\n<g id=\"edge95\" class=\"edge\">\n<title>94&#45;&gt;95</title>\n<path fill=\"none\" stroke=\"black\" d=\"M2752.79,-698.91C2746.99,-690.1 2740.8,-680.7 2734.82,-671.61\"/>\n<polygon fill=\"black\" stroke=\"black\" points=\"2737.59,-669.45 2729.17,-663.02 2731.74,-673.3 2737.59,-669.45\"/>\n</g>\n<!-- 108 -->\n<g id=\"node109\" class=\"node\">\n<title>108</title>\n<polygon fill=\"#e58139\" stroke=\"black\" points=\"2926,-655.5 2789,-655.5 2789,-587.5 2926,-587.5 2926,-655.5\"/>\n<text text-anchor=\"middle\" x=\"2857.5\" y=\"-640.3\" font-family=\"Helvetica,sans-Serif\" font-size=\"14.00\">gini = 0.0</text>\n<text text-anchor=\"middle\" x=\"2857.5\" y=\"-625.3\" font-family=\"Helvetica,sans-Serif\" font-size=\"14.00\">samples = 7</text>\n<text text-anchor=\"middle\" x=\"2857.5\" y=\"-610.3\" font-family=\"Helvetica,sans-Serif\" font-size=\"14.00\">value = [7, 0]</text>\n<text text-anchor=\"middle\" x=\"2857.5\" y=\"-595.3\" font-family=\"Helvetica,sans-Serif\" font-size=\"14.00\">class = not diabetes</text>\n</g>\n<!-- 94&#45;&gt;108 -->\n<g id=\"edge108\" class=\"edge\">\n<title>94&#45;&gt;108</title>\n<path fill=\"none\" stroke=\"black\" d=\"M2806.56,-698.91C2814.07,-687.65 2822.22,-675.42 2829.76,-664.11\"/>\n<polygon fill=\"black\" stroke=\"black\" points=\"2832.75,-665.93 2835.39,-655.67 2826.93,-662.05 2832.75,-665.93\"/>\n</g>\n<!-- 96 -->\n<g id=\"node97\" class=\"node\">\n<title>96</title>\n<polygon fill=\"#efb388\" stroke=\"black\" points=\"2699,-544 2562,-544 2562,-461 2699,-461 2699,-544\"/>\n<text text-anchor=\"middle\" x=\"2630.5\" y=\"-528.8\" font-family=\"Helvetica,sans-Serif\" font-size=\"14.00\">Glucose &lt;= 117.5</text>\n<text text-anchor=\"middle\" x=\"2630.5\" y=\"-513.8\" font-family=\"Helvetica,sans-Serif\" font-size=\"14.00\">gini = 0.408</text>\n<text text-anchor=\"middle\" x=\"2630.5\" y=\"-498.8\" font-family=\"Helvetica,sans-Serif\" font-size=\"14.00\">samples = 14</text>\n<text text-anchor=\"middle\" x=\"2630.5\" y=\"-483.8\" font-family=\"Helvetica,sans-Serif\" font-size=\"14.00\">value = [10, 4]</text>\n<text text-anchor=\"middle\" x=\"2630.5\" y=\"-468.8\" font-family=\"Helvetica,sans-Serif\" font-size=\"14.00\">class = not diabetes</text>\n</g>\n<!-- 95&#45;&gt;96 -->\n<g id=\"edge96\" class=\"edge\">\n<title>95&#45;&gt;96</title>\n<path fill=\"none\" stroke=\"black\" d=\"M2677.52,-579.91C2672.1,-571.1 2666.32,-561.7 2660.72,-552.61\"/>\n<polygon fill=\"black\" stroke=\"black\" points=\"2663.66,-550.7 2655.44,-544.02 2657.7,-554.37 2663.66,-550.7\"/>\n</g>\n<!-- 107 -->\n<g id=\"node108\" class=\"node\">\n<title>107</title>\n<polygon fill=\"#399de5\" stroke=\"black\" points=\"2831.5,-536.5 2717.5,-536.5 2717.5,-468.5 2831.5,-468.5 2831.5,-536.5\"/>\n<text text-anchor=\"middle\" x=\"2774.5\" y=\"-521.3\" font-family=\"Helvetica,sans-Serif\" font-size=\"14.00\">gini = 0.0</text>\n<text text-anchor=\"middle\" x=\"2774.5\" y=\"-506.3\" font-family=\"Helvetica,sans-Serif\" font-size=\"14.00\">samples = 3</text>\n<text text-anchor=\"middle\" x=\"2774.5\" y=\"-491.3\" font-family=\"Helvetica,sans-Serif\" font-size=\"14.00\">value = [0, 3]</text>\n<text text-anchor=\"middle\" x=\"2774.5\" y=\"-476.3\" font-family=\"Helvetica,sans-Serif\" font-size=\"14.00\">class = diabetes</text>\n</g>\n<!-- 95&#45;&gt;107 -->\n<g id=\"edge107\" class=\"edge\">\n<title>95&#45;&gt;107</title>\n<path fill=\"none\" stroke=\"black\" d=\"M2727.48,-579.91C2734.34,-568.76 2741.79,-556.66 2748.69,-545.44\"/>\n<polygon fill=\"black\" stroke=\"black\" points=\"2751.83,-547.02 2754.09,-536.67 2745.87,-543.35 2751.83,-547.02\"/>\n</g>\n<!-- 97 -->\n<g id=\"node98\" class=\"node\">\n<title>97</title>\n<polygon fill=\"#fae6d7\" stroke=\"black\" points=\"2622,-425 2485,-425 2485,-342 2622,-342 2622,-425\"/>\n<text text-anchor=\"middle\" x=\"2553.5\" y=\"-409.8\" font-family=\"Helvetica,sans-Serif\" font-size=\"14.00\">Pregnancies &lt;= 6.0</text>\n<text text-anchor=\"middle\" x=\"2553.5\" y=\"-394.8\" font-family=\"Helvetica,sans-Serif\" font-size=\"14.00\">gini = 0.494</text>\n<text text-anchor=\"middle\" x=\"2553.5\" y=\"-379.8\" font-family=\"Helvetica,sans-Serif\" font-size=\"14.00\">samples = 9</text>\n<text text-anchor=\"middle\" x=\"2553.5\" y=\"-364.8\" font-family=\"Helvetica,sans-Serif\" font-size=\"14.00\">value = [5, 4]</text>\n<text text-anchor=\"middle\" x=\"2553.5\" y=\"-349.8\" font-family=\"Helvetica,sans-Serif\" font-size=\"14.00\">class = not diabetes</text>\n</g>\n<!-- 96&#45;&gt;97 -->\n<g id=\"edge97\" class=\"edge\">\n<title>96&#45;&gt;97</title>\n<path fill=\"none\" stroke=\"black\" d=\"M2603.79,-460.91C2597.99,-452.1 2591.8,-442.7 2585.82,-433.61\"/>\n<polygon fill=\"black\" stroke=\"black\" points=\"2588.59,-431.45 2580.17,-425.02 2582.74,-435.3 2588.59,-431.45\"/>\n</g>\n<!-- 106 -->\n<g id=\"node107\" class=\"node\">\n<title>106</title>\n<polygon fill=\"#e58139\" stroke=\"black\" points=\"2777,-417.5 2640,-417.5 2640,-349.5 2777,-349.5 2777,-417.5\"/>\n<text text-anchor=\"middle\" x=\"2708.5\" y=\"-402.3\" font-family=\"Helvetica,sans-Serif\" font-size=\"14.00\">gini = 0.0</text>\n<text text-anchor=\"middle\" x=\"2708.5\" y=\"-387.3\" font-family=\"Helvetica,sans-Serif\" font-size=\"14.00\">samples = 5</text>\n<text text-anchor=\"middle\" x=\"2708.5\" y=\"-372.3\" font-family=\"Helvetica,sans-Serif\" font-size=\"14.00\">value = [5, 0]</text>\n<text text-anchor=\"middle\" x=\"2708.5\" y=\"-357.3\" font-family=\"Helvetica,sans-Serif\" font-size=\"14.00\">class = not diabetes</text>\n</g>\n<!-- 96&#45;&gt;106 -->\n<g id=\"edge106\" class=\"edge\">\n<title>96&#45;&gt;106</title>\n<path fill=\"none\" stroke=\"black\" d=\"M2657.56,-460.91C2665.07,-449.65 2673.22,-437.42 2680.76,-426.11\"/>\n<polygon fill=\"black\" stroke=\"black\" points=\"2683.75,-427.93 2686.39,-417.67 2677.93,-424.05 2683.75,-427.93\"/>\n</g>\n<!-- 98 -->\n<g id=\"node99\" class=\"node\">\n<title>98</title>\n<polygon fill=\"#eca06a\" stroke=\"black\" points=\"2545,-306 2408,-306 2408,-223 2545,-223 2545,-306\"/>\n<text text-anchor=\"middle\" x=\"2476.5\" y=\"-290.8\" font-family=\"Helvetica,sans-Serif\" font-size=\"14.00\">Glucose &lt;= 113.0</text>\n<text text-anchor=\"middle\" x=\"2476.5\" y=\"-275.8\" font-family=\"Helvetica,sans-Serif\" font-size=\"14.00\">gini = 0.32</text>\n<text text-anchor=\"middle\" x=\"2476.5\" y=\"-260.8\" font-family=\"Helvetica,sans-Serif\" font-size=\"14.00\">samples = 5</text>\n<text text-anchor=\"middle\" x=\"2476.5\" y=\"-245.8\" font-family=\"Helvetica,sans-Serif\" font-size=\"14.00\">value = [4, 1]</text>\n<text text-anchor=\"middle\" x=\"2476.5\" y=\"-230.8\" font-family=\"Helvetica,sans-Serif\" font-size=\"14.00\">class = not diabetes</text>\n</g>\n<!-- 97&#45;&gt;98 -->\n<g id=\"edge98\" class=\"edge\">\n<title>97&#45;&gt;98</title>\n<path fill=\"none\" stroke=\"black\" d=\"M2526.79,-341.91C2520.99,-333.1 2514.8,-323.7 2508.82,-314.61\"/>\n<polygon fill=\"black\" stroke=\"black\" points=\"2511.59,-312.45 2503.17,-306.02 2505.74,-316.3 2511.59,-312.45\"/>\n</g>\n<!-- 101 -->\n<g id=\"node102\" class=\"node\">\n<title>101</title>\n<polygon fill=\"#7bbeee\" stroke=\"black\" points=\"2697.5,-306 2563.5,-306 2563.5,-223 2697.5,-223 2697.5,-306\"/>\n<text text-anchor=\"middle\" x=\"2630.5\" y=\"-290.8\" font-family=\"Helvetica,sans-Serif\" font-size=\"14.00\">Pregnancies &lt;= 8.0</text>\n<text text-anchor=\"middle\" x=\"2630.5\" y=\"-275.8\" font-family=\"Helvetica,sans-Serif\" font-size=\"14.00\">gini = 0.375</text>\n<text text-anchor=\"middle\" x=\"2630.5\" y=\"-260.8\" font-family=\"Helvetica,sans-Serif\" font-size=\"14.00\">samples = 4</text>\n<text text-anchor=\"middle\" x=\"2630.5\" y=\"-245.8\" font-family=\"Helvetica,sans-Serif\" font-size=\"14.00\">value = [1, 3]</text>\n<text text-anchor=\"middle\" x=\"2630.5\" y=\"-230.8\" font-family=\"Helvetica,sans-Serif\" font-size=\"14.00\">class = diabetes</text>\n</g>\n<!-- 97&#45;&gt;101 -->\n<g id=\"edge101\" class=\"edge\">\n<title>97&#45;&gt;101</title>\n<path fill=\"none\" stroke=\"black\" d=\"M2580.21,-341.91C2586.01,-333.1 2592.2,-323.7 2598.18,-314.61\"/>\n<polygon fill=\"black\" stroke=\"black\" points=\"2601.26,-316.3 2603.83,-306.02 2595.41,-312.45 2601.26,-316.3\"/>\n</g>\n<!-- 99 -->\n<g id=\"node100\" class=\"node\">\n<title>99</title>\n<polygon fill=\"#e58139\" stroke=\"black\" points=\"2407,-179.5 2270,-179.5 2270,-111.5 2407,-111.5 2407,-179.5\"/>\n<text text-anchor=\"middle\" x=\"2338.5\" y=\"-164.3\" font-family=\"Helvetica,sans-Serif\" font-size=\"14.00\">gini = 0.0</text>\n<text text-anchor=\"middle\" x=\"2338.5\" y=\"-149.3\" font-family=\"Helvetica,sans-Serif\" font-size=\"14.00\">samples = 4</text>\n<text text-anchor=\"middle\" x=\"2338.5\" y=\"-134.3\" font-family=\"Helvetica,sans-Serif\" font-size=\"14.00\">value = [4, 0]</text>\n<text text-anchor=\"middle\" x=\"2338.5\" y=\"-119.3\" font-family=\"Helvetica,sans-Serif\" font-size=\"14.00\">class = not diabetes</text>\n</g>\n<!-- 98&#45;&gt;99 -->\n<g id=\"edge99\" class=\"edge\">\n<title>98&#45;&gt;99</title>\n<path fill=\"none\" stroke=\"black\" d=\"M2428.62,-222.91C2414.7,-211.1 2399.5,-198.22 2385.62,-186.45\"/>\n<polygon fill=\"black\" stroke=\"black\" points=\"2387.51,-183.46 2377.62,-179.67 2382.98,-188.8 2387.51,-183.46\"/>\n</g>\n<!-- 100 -->\n<g id=\"node101\" class=\"node\">\n<title>100</title>\n<polygon fill=\"#399de5\" stroke=\"black\" points=\"2539.5,-179.5 2425.5,-179.5 2425.5,-111.5 2539.5,-111.5 2539.5,-179.5\"/>\n<text text-anchor=\"middle\" x=\"2482.5\" y=\"-164.3\" font-family=\"Helvetica,sans-Serif\" font-size=\"14.00\">gini = 0.0</text>\n<text text-anchor=\"middle\" x=\"2482.5\" y=\"-149.3\" font-family=\"Helvetica,sans-Serif\" font-size=\"14.00\">samples = 1</text>\n<text text-anchor=\"middle\" x=\"2482.5\" y=\"-134.3\" font-family=\"Helvetica,sans-Serif\" font-size=\"14.00\">value = [0, 1]</text>\n<text text-anchor=\"middle\" x=\"2482.5\" y=\"-119.3\" font-family=\"Helvetica,sans-Serif\" font-size=\"14.00\">class = diabetes</text>\n</g>\n<!-- 98&#45;&gt;100 -->\n<g id=\"edge100\" class=\"edge\">\n<title>98&#45;&gt;100</title>\n<path fill=\"none\" stroke=\"black\" d=\"M2478.58,-222.91C2479.13,-212.2 2479.72,-200.62 2480.28,-189.78\"/>\n<polygon fill=\"black\" stroke=\"black\" points=\"2483.78,-189.83 2480.8,-179.67 2476.79,-189.47 2483.78,-189.83\"/>\n</g>\n<!-- 102 -->\n<g id=\"node103\" class=\"node\">\n<title>102</title>\n<polygon fill=\"#399de5\" stroke=\"black\" points=\"2682.5,-179.5 2568.5,-179.5 2568.5,-111.5 2682.5,-111.5 2682.5,-179.5\"/>\n<text text-anchor=\"middle\" x=\"2625.5\" y=\"-164.3\" font-family=\"Helvetica,sans-Serif\" font-size=\"14.00\">gini = 0.0</text>\n<text text-anchor=\"middle\" x=\"2625.5\" y=\"-149.3\" font-family=\"Helvetica,sans-Serif\" font-size=\"14.00\">samples = 2</text>\n<text text-anchor=\"middle\" x=\"2625.5\" y=\"-134.3\" font-family=\"Helvetica,sans-Serif\" font-size=\"14.00\">value = [0, 2]</text>\n<text text-anchor=\"middle\" x=\"2625.5\" y=\"-119.3\" font-family=\"Helvetica,sans-Serif\" font-size=\"14.00\">class = diabetes</text>\n</g>\n<!-- 101&#45;&gt;102 -->\n<g id=\"edge102\" class=\"edge\">\n<title>101&#45;&gt;102</title>\n<path fill=\"none\" stroke=\"black\" d=\"M2628.77,-222.91C2628.31,-212.2 2627.81,-200.62 2627.35,-189.78\"/>\n<polygon fill=\"black\" stroke=\"black\" points=\"2630.84,-189.51 2626.92,-179.67 2623.85,-189.81 2630.84,-189.51\"/>\n</g>\n<!-- 103 -->\n<g id=\"node104\" class=\"node\">\n<title>103</title>\n<polygon fill=\"#ffffff\" stroke=\"black\" points=\"2838,-187 2701,-187 2701,-104 2838,-104 2838,-187\"/>\n<text text-anchor=\"middle\" x=\"2769.5\" y=\"-171.8\" font-family=\"Helvetica,sans-Serif\" font-size=\"14.00\">Glucose &lt;= 107.0</text>\n<text text-anchor=\"middle\" x=\"2769.5\" y=\"-156.8\" font-family=\"Helvetica,sans-Serif\" font-size=\"14.00\">gini = 0.5</text>\n<text text-anchor=\"middle\" x=\"2769.5\" y=\"-141.8\" font-family=\"Helvetica,sans-Serif\" font-size=\"14.00\">samples = 2</text>\n<text text-anchor=\"middle\" x=\"2769.5\" y=\"-126.8\" font-family=\"Helvetica,sans-Serif\" font-size=\"14.00\">value = [1, 1]</text>\n<text text-anchor=\"middle\" x=\"2769.5\" y=\"-111.8\" font-family=\"Helvetica,sans-Serif\" font-size=\"14.00\">class = not diabetes</text>\n</g>\n<!-- 101&#45;&gt;103 -->\n<g id=\"edge103\" class=\"edge\">\n<title>101&#45;&gt;103</title>\n<path fill=\"none\" stroke=\"black\" d=\"M2678.73,-222.91C2689.94,-213.47 2701.97,-203.34 2713.49,-193.65\"/>\n<polygon fill=\"black\" stroke=\"black\" points=\"2715.96,-196.14 2721.36,-187.02 2711.46,-190.78 2715.96,-196.14\"/>\n</g>\n<!-- 104 -->\n<g id=\"node105\" class=\"node\">\n<title>104</title>\n<polygon fill=\"#e58139\" stroke=\"black\" points=\"2766,-68 2629,-68 2629,0 2766,0 2766,-68\"/>\n<text text-anchor=\"middle\" x=\"2697.5\" y=\"-52.8\" font-family=\"Helvetica,sans-Serif\" font-size=\"14.00\">gini = 0.0</text>\n<text text-anchor=\"middle\" x=\"2697.5\" y=\"-37.8\" font-family=\"Helvetica,sans-Serif\" font-size=\"14.00\">samples = 1</text>\n<text text-anchor=\"middle\" x=\"2697.5\" y=\"-22.8\" font-family=\"Helvetica,sans-Serif\" font-size=\"14.00\">value = [1, 0]</text>\n<text text-anchor=\"middle\" x=\"2697.5\" y=\"-7.8\" font-family=\"Helvetica,sans-Serif\" font-size=\"14.00\">class = not diabetes</text>\n</g>\n<!-- 103&#45;&gt;104 -->\n<g id=\"edge104\" class=\"edge\">\n<title>103&#45;&gt;104</title>\n<path fill=\"none\" stroke=\"black\" d=\"M2742.69,-103.73C2736.93,-94.97 2730.84,-85.7 2725.05,-76.91\"/>\n<polygon fill=\"black\" stroke=\"black\" points=\"2727.81,-74.73 2719.4,-68.3 2721.97,-78.58 2727.81,-74.73\"/>\n</g>\n<!-- 105 -->\n<g id=\"node106\" class=\"node\">\n<title>105</title>\n<polygon fill=\"#399de5\" stroke=\"black\" points=\"2898.5,-68 2784.5,-68 2784.5,0 2898.5,0 2898.5,-68\"/>\n<text text-anchor=\"middle\" x=\"2841.5\" y=\"-52.8\" font-family=\"Helvetica,sans-Serif\" font-size=\"14.00\">gini = 0.0</text>\n<text text-anchor=\"middle\" x=\"2841.5\" y=\"-37.8\" font-family=\"Helvetica,sans-Serif\" font-size=\"14.00\">samples = 1</text>\n<text text-anchor=\"middle\" x=\"2841.5\" y=\"-22.8\" font-family=\"Helvetica,sans-Serif\" font-size=\"14.00\">value = [0, 1]</text>\n<text text-anchor=\"middle\" x=\"2841.5\" y=\"-7.8\" font-family=\"Helvetica,sans-Serif\" font-size=\"14.00\">class = diabetes</text>\n</g>\n<!-- 103&#45;&gt;105 -->\n<g id=\"edge105\" class=\"edge\">\n<title>103&#45;&gt;105</title>\n<path fill=\"none\" stroke=\"black\" d=\"M2796.31,-103.73C2802.07,-94.97 2808.16,-85.7 2813.95,-76.91\"/>\n<polygon fill=\"black\" stroke=\"black\" points=\"2817.03,-78.58 2819.6,-68.3 2811.19,-74.73 2817.03,-78.58\"/>\n</g>\n<!-- 112 -->\n<g id=\"node113\" class=\"node\">\n<title>112</title>\n<polygon fill=\"#c4e2f7\" stroke=\"black\" points=\"2877.5,-1258 2763.5,-1258 2763.5,-1175 2877.5,-1175 2877.5,-1258\"/>\n<text text-anchor=\"middle\" x=\"2820.5\" y=\"-1242.8\" font-family=\"Helvetica,sans-Serif\" font-size=\"14.00\">Insulin &lt;= 120.5</text>\n<text text-anchor=\"middle\" x=\"2820.5\" y=\"-1227.8\" font-family=\"Helvetica,sans-Serif\" font-size=\"14.00\">gini = 0.484</text>\n<text text-anchor=\"middle\" x=\"2820.5\" y=\"-1212.8\" font-family=\"Helvetica,sans-Serif\" font-size=\"14.00\">samples = 17</text>\n<text text-anchor=\"middle\" x=\"2820.5\" y=\"-1197.8\" font-family=\"Helvetica,sans-Serif\" font-size=\"14.00\">value = [7, 10]</text>\n<text text-anchor=\"middle\" x=\"2820.5\" y=\"-1182.8\" font-family=\"Helvetica,sans-Serif\" font-size=\"14.00\">class = diabetes</text>\n</g>\n<!-- 111&#45;&gt;112 -->\n<g id=\"edge112\" class=\"edge\">\n<title>111&#45;&gt;112</title>\n<path fill=\"none\" stroke=\"black\" d=\"M2820.5,-1293.91C2820.5,-1285.65 2820.5,-1276.86 2820.5,-1268.3\"/>\n<polygon fill=\"black\" stroke=\"black\" points=\"2824,-1268.02 2820.5,-1258.02 2817,-1268.02 2824,-1268.02\"/>\n</g>\n<!-- 121 -->\n<g id=\"node122\" class=\"node\">\n<title>121</title>\n<polygon fill=\"#399de5\" stroke=\"black\" points=\"3009.5,-1250.5 2895.5,-1250.5 2895.5,-1182.5 3009.5,-1182.5 3009.5,-1250.5\"/>\n<text text-anchor=\"middle\" x=\"2952.5\" y=\"-1235.3\" font-family=\"Helvetica,sans-Serif\" font-size=\"14.00\">gini = 0.0</text>\n<text text-anchor=\"middle\" x=\"2952.5\" y=\"-1220.3\" font-family=\"Helvetica,sans-Serif\" font-size=\"14.00\">samples = 10</text>\n<text text-anchor=\"middle\" x=\"2952.5\" y=\"-1205.3\" font-family=\"Helvetica,sans-Serif\" font-size=\"14.00\">value = [0, 10]</text>\n<text text-anchor=\"middle\" x=\"2952.5\" y=\"-1190.3\" font-family=\"Helvetica,sans-Serif\" font-size=\"14.00\">class = diabetes</text>\n</g>\n<!-- 111&#45;&gt;121 -->\n<g id=\"edge121\" class=\"edge\">\n<title>111&#45;&gt;121</title>\n<path fill=\"none\" stroke=\"black\" d=\"M2866.3,-1293.91C2879.62,-1282.1 2894.15,-1269.22 2907.43,-1257.45\"/>\n<polygon fill=\"black\" stroke=\"black\" points=\"2909.92,-1259.92 2915.08,-1250.67 2905.28,-1254.68 2909.92,-1259.92\"/>\n</g>\n<!-- 113 -->\n<g id=\"node114\" class=\"node\">\n<title>113</title>\n<polygon fill=\"#f2c09c\" stroke=\"black\" points=\"2898,-1139 2743,-1139 2743,-1056 2898,-1056 2898,-1139\"/>\n<text text-anchor=\"middle\" x=\"2820.5\" y=\"-1123.8\" font-family=\"Helvetica,sans-Serif\" font-size=\"14.00\">BloodPressure &lt;= 73.0</text>\n<text text-anchor=\"middle\" x=\"2820.5\" y=\"-1108.8\" font-family=\"Helvetica,sans-Serif\" font-size=\"14.00\">gini = 0.444</text>\n<text text-anchor=\"middle\" x=\"2820.5\" y=\"-1093.8\" font-family=\"Helvetica,sans-Serif\" font-size=\"14.00\">samples = 9</text>\n<text text-anchor=\"middle\" x=\"2820.5\" y=\"-1078.8\" font-family=\"Helvetica,sans-Serif\" font-size=\"14.00\">value = [6, 3]</text>\n<text text-anchor=\"middle\" x=\"2820.5\" y=\"-1063.8\" font-family=\"Helvetica,sans-Serif\" font-size=\"14.00\">class = not diabetes</text>\n</g>\n<!-- 112&#45;&gt;113 -->\n<g id=\"edge113\" class=\"edge\">\n<title>112&#45;&gt;113</title>\n<path fill=\"none\" stroke=\"black\" d=\"M2820.5,-1174.91C2820.5,-1166.65 2820.5,-1157.86 2820.5,-1149.3\"/>\n<polygon fill=\"black\" stroke=\"black\" points=\"2824,-1149.02 2820.5,-1139.02 2817,-1149.02 2824,-1149.02\"/>\n</g>\n<!-- 118 -->\n<g id=\"node119\" class=\"node\">\n<title>118</title>\n<polygon fill=\"#55abe9\" stroke=\"black\" points=\"3091.5,-1139 2977.5,-1139 2977.5,-1056 3091.5,-1056 3091.5,-1139\"/>\n<text text-anchor=\"middle\" x=\"3034.5\" y=\"-1123.8\" font-family=\"Helvetica,sans-Serif\" font-size=\"14.00\">Insulin &lt;= 225.0</text>\n<text text-anchor=\"middle\" x=\"3034.5\" y=\"-1108.8\" font-family=\"Helvetica,sans-Serif\" font-size=\"14.00\">gini = 0.219</text>\n<text text-anchor=\"middle\" x=\"3034.5\" y=\"-1093.8\" font-family=\"Helvetica,sans-Serif\" font-size=\"14.00\">samples = 8</text>\n<text text-anchor=\"middle\" x=\"3034.5\" y=\"-1078.8\" font-family=\"Helvetica,sans-Serif\" font-size=\"14.00\">value = [1, 7]</text>\n<text text-anchor=\"middle\" x=\"3034.5\" y=\"-1063.8\" font-family=\"Helvetica,sans-Serif\" font-size=\"14.00\">class = diabetes</text>\n</g>\n<!-- 112&#45;&gt;118 -->\n<g id=\"edge118\" class=\"edge\">\n<title>112&#45;&gt;118</title>\n<path fill=\"none\" stroke=\"black\" d=\"M2877.58,-1180.12C2880.59,-1178.37 2883.57,-1176.65 2886.5,-1175 2912.98,-1160.06 2942.66,-1144.49 2968.46,-1131.33\"/>\n<polygon fill=\"black\" stroke=\"black\" points=\"2970.08,-1134.43 2977.41,-1126.78 2966.91,-1128.19 2970.08,-1134.43\"/>\n</g>\n<!-- 114 -->\n<g id=\"node115\" class=\"node\">\n<title>114</title>\n<polygon fill=\"#e58139\" stroke=\"black\" points=\"2827,-1012.5 2690,-1012.5 2690,-944.5 2827,-944.5 2827,-1012.5\"/>\n<text text-anchor=\"middle\" x=\"2758.5\" y=\"-997.3\" font-family=\"Helvetica,sans-Serif\" font-size=\"14.00\">gini = 0.0</text>\n<text text-anchor=\"middle\" x=\"2758.5\" y=\"-982.3\" font-family=\"Helvetica,sans-Serif\" font-size=\"14.00\">samples = 4</text>\n<text text-anchor=\"middle\" x=\"2758.5\" y=\"-967.3\" font-family=\"Helvetica,sans-Serif\" font-size=\"14.00\">value = [4, 0]</text>\n<text text-anchor=\"middle\" x=\"2758.5\" y=\"-952.3\" font-family=\"Helvetica,sans-Serif\" font-size=\"14.00\">class = not diabetes</text>\n</g>\n<!-- 113&#45;&gt;114 -->\n<g id=\"edge114\" class=\"edge\">\n<title>113&#45;&gt;114</title>\n<path fill=\"none\" stroke=\"black\" d=\"M2798.99,-1055.91C2793.14,-1044.87 2786.8,-1032.9 2780.9,-1021.77\"/>\n<polygon fill=\"black\" stroke=\"black\" points=\"2783.85,-1019.86 2776.08,-1012.67 2777.67,-1023.14 2783.85,-1019.86\"/>\n</g>\n<!-- 115 -->\n<g id=\"node116\" class=\"node\">\n<title>115</title>\n<polygon fill=\"#bddef6\" stroke=\"black\" points=\"2959.5,-1020 2845.5,-1020 2845.5,-937 2959.5,-937 2959.5,-1020\"/>\n<text text-anchor=\"middle\" x=\"2902.5\" y=\"-1004.8\" font-family=\"Helvetica,sans-Serif\" font-size=\"14.00\">BMI &lt;= 37.6</text>\n<text text-anchor=\"middle\" x=\"2902.5\" y=\"-989.8\" font-family=\"Helvetica,sans-Serif\" font-size=\"14.00\">gini = 0.48</text>\n<text text-anchor=\"middle\" x=\"2902.5\" y=\"-974.8\" font-family=\"Helvetica,sans-Serif\" font-size=\"14.00\">samples = 5</text>\n<text text-anchor=\"middle\" x=\"2902.5\" y=\"-959.8\" font-family=\"Helvetica,sans-Serif\" font-size=\"14.00\">value = [2, 3]</text>\n<text text-anchor=\"middle\" x=\"2902.5\" y=\"-944.8\" font-family=\"Helvetica,sans-Serif\" font-size=\"14.00\">class = diabetes</text>\n</g>\n<!-- 113&#45;&gt;115 -->\n<g id=\"edge115\" class=\"edge\">\n<title>113&#45;&gt;115</title>\n<path fill=\"none\" stroke=\"black\" d=\"M2848.95,-1055.91C2855.18,-1047.01 2861.84,-1037.51 2868.28,-1028.33\"/>\n<polygon fill=\"black\" stroke=\"black\" points=\"2871.23,-1030.22 2874.1,-1020.02 2865.5,-1026.2 2871.23,-1030.22\"/>\n</g>\n<!-- 116 -->\n<g id=\"node117\" class=\"node\">\n<title>116</title>\n<polygon fill=\"#399de5\" stroke=\"black\" points=\"2959.5,-893.5 2845.5,-893.5 2845.5,-825.5 2959.5,-825.5 2959.5,-893.5\"/>\n<text text-anchor=\"middle\" x=\"2902.5\" y=\"-878.3\" font-family=\"Helvetica,sans-Serif\" font-size=\"14.00\">gini = 0.0</text>\n<text text-anchor=\"middle\" x=\"2902.5\" y=\"-863.3\" font-family=\"Helvetica,sans-Serif\" font-size=\"14.00\">samples = 3</text>\n<text text-anchor=\"middle\" x=\"2902.5\" y=\"-848.3\" font-family=\"Helvetica,sans-Serif\" font-size=\"14.00\">value = [0, 3]</text>\n<text text-anchor=\"middle\" x=\"2902.5\" y=\"-833.3\" font-family=\"Helvetica,sans-Serif\" font-size=\"14.00\">class = diabetes</text>\n</g>\n<!-- 115&#45;&gt;116 -->\n<g id=\"edge116\" class=\"edge\">\n<title>115&#45;&gt;116</title>\n<path fill=\"none\" stroke=\"black\" d=\"M2902.5,-936.91C2902.5,-926.2 2902.5,-914.62 2902.5,-903.78\"/>\n<polygon fill=\"black\" stroke=\"black\" points=\"2906,-903.67 2902.5,-893.67 2899,-903.67 2906,-903.67\"/>\n</g>\n<!-- 117 -->\n<g id=\"node118\" class=\"node\">\n<title>117</title>\n<polygon fill=\"#e58139\" stroke=\"black\" points=\"3115,-893.5 2978,-893.5 2978,-825.5 3115,-825.5 3115,-893.5\"/>\n<text text-anchor=\"middle\" x=\"3046.5\" y=\"-878.3\" font-family=\"Helvetica,sans-Serif\" font-size=\"14.00\">gini = 0.0</text>\n<text text-anchor=\"middle\" x=\"3046.5\" y=\"-863.3\" font-family=\"Helvetica,sans-Serif\" font-size=\"14.00\">samples = 2</text>\n<text text-anchor=\"middle\" x=\"3046.5\" y=\"-848.3\" font-family=\"Helvetica,sans-Serif\" font-size=\"14.00\">value = [2, 0]</text>\n<text text-anchor=\"middle\" x=\"3046.5\" y=\"-833.3\" font-family=\"Helvetica,sans-Serif\" font-size=\"14.00\">class = not diabetes</text>\n</g>\n<!-- 115&#45;&gt;117 -->\n<g id=\"edge117\" class=\"edge\">\n<title>115&#45;&gt;117</title>\n<path fill=\"none\" stroke=\"black\" d=\"M2952.46,-936.91C2967.13,-924.99 2983.15,-911.98 2997.74,-900.12\"/>\n<polygon fill=\"black\" stroke=\"black\" points=\"3000.13,-902.69 3005.68,-893.67 2995.71,-897.26 3000.13,-902.69\"/>\n</g>\n<!-- 119 -->\n<g id=\"node120\" class=\"node\">\n<title>119</title>\n<polygon fill=\"#399de5\" stroke=\"black\" points=\"3091.5,-1012.5 2977.5,-1012.5 2977.5,-944.5 3091.5,-944.5 3091.5,-1012.5\"/>\n<text text-anchor=\"middle\" x=\"3034.5\" y=\"-997.3\" font-family=\"Helvetica,sans-Serif\" font-size=\"14.00\">gini = 0.0</text>\n<text text-anchor=\"middle\" x=\"3034.5\" y=\"-982.3\" font-family=\"Helvetica,sans-Serif\" font-size=\"14.00\">samples = 7</text>\n<text text-anchor=\"middle\" x=\"3034.5\" y=\"-967.3\" font-family=\"Helvetica,sans-Serif\" font-size=\"14.00\">value = [0, 7]</text>\n<text text-anchor=\"middle\" x=\"3034.5\" y=\"-952.3\" font-family=\"Helvetica,sans-Serif\" font-size=\"14.00\">class = diabetes</text>\n</g>\n<!-- 118&#45;&gt;119 -->\n<g id=\"edge119\" class=\"edge\">\n<title>118&#45;&gt;119</title>\n<path fill=\"none\" stroke=\"black\" d=\"M3034.5,-1055.91C3034.5,-1045.2 3034.5,-1033.62 3034.5,-1022.78\"/>\n<polygon fill=\"black\" stroke=\"black\" points=\"3038,-1022.67 3034.5,-1012.67 3031,-1022.67 3038,-1022.67\"/>\n</g>\n<!-- 120 -->\n<g id=\"node121\" class=\"node\">\n<title>120</title>\n<polygon fill=\"#e58139\" stroke=\"black\" points=\"3247,-1012.5 3110,-1012.5 3110,-944.5 3247,-944.5 3247,-1012.5\"/>\n<text text-anchor=\"middle\" x=\"3178.5\" y=\"-997.3\" font-family=\"Helvetica,sans-Serif\" font-size=\"14.00\">gini = 0.0</text>\n<text text-anchor=\"middle\" x=\"3178.5\" y=\"-982.3\" font-family=\"Helvetica,sans-Serif\" font-size=\"14.00\">samples = 1</text>\n<text text-anchor=\"middle\" x=\"3178.5\" y=\"-967.3\" font-family=\"Helvetica,sans-Serif\" font-size=\"14.00\">value = [1, 0]</text>\n<text text-anchor=\"middle\" x=\"3178.5\" y=\"-952.3\" font-family=\"Helvetica,sans-Serif\" font-size=\"14.00\">class = not diabetes</text>\n</g>\n<!-- 118&#45;&gt;120 -->\n<g id=\"edge120\" class=\"edge\">\n<title>118&#45;&gt;120</title>\n<path fill=\"none\" stroke=\"black\" d=\"M3084.46,-1055.91C3099.13,-1043.99 3115.15,-1030.98 3129.74,-1019.12\"/>\n<polygon fill=\"black\" stroke=\"black\" points=\"3132.13,-1021.69 3137.68,-1012.67 3127.71,-1016.26 3132.13,-1021.69\"/>\n</g>\n<!-- 123 -->\n<g id=\"node124\" class=\"node\">\n<title>123</title>\n<polygon fill=\"#fdf4ed\" stroke=\"black\" points=\"3740,-1734 3507,-1734 3507,-1651 3740,-1651 3740,-1734\"/>\n<text text-anchor=\"middle\" x=\"3623.5\" y=\"-1718.8\" font-family=\"Helvetica,sans-Serif\" font-size=\"14.00\">DiabetesPedigreeFunction &lt;= 0.218</text>\n<text text-anchor=\"middle\" x=\"3623.5\" y=\"-1703.8\" font-family=\"Helvetica,sans-Serif\" font-size=\"14.00\">gini = 0.499</text>\n<text text-anchor=\"middle\" x=\"3623.5\" y=\"-1688.8\" font-family=\"Helvetica,sans-Serif\" font-size=\"14.00\">samples = 126</text>\n<text text-anchor=\"middle\" x=\"3623.5\" y=\"-1673.8\" font-family=\"Helvetica,sans-Serif\" font-size=\"14.00\">value = [66, 60]</text>\n<text text-anchor=\"middle\" x=\"3623.5\" y=\"-1658.8\" font-family=\"Helvetica,sans-Serif\" font-size=\"14.00\">class = not diabetes</text>\n</g>\n<!-- 122&#45;&gt;123 -->\n<g id=\"edge123\" class=\"edge\">\n<title>122&#45;&gt;123</title>\n<path fill=\"none\" stroke=\"black\" d=\"M3623.5,-1769.91C3623.5,-1761.65 3623.5,-1752.86 3623.5,-1744.3\"/>\n<polygon fill=\"black\" stroke=\"black\" points=\"3627,-1744.02 3623.5,-1734.02 3620,-1744.02 3627,-1744.02\"/>\n</g>\n<!-- 190 -->\n<g id=\"node191\" class=\"node\">\n<title>190</title>\n<polygon fill=\"#64b2eb\" stroke=\"black\" points=\"4680.5,-1734 4566.5,-1734 4566.5,-1651 4680.5,-1651 4680.5,-1734\"/>\n<text text-anchor=\"middle\" x=\"4623.5\" y=\"-1718.8\" font-family=\"Helvetica,sans-Serif\" font-size=\"14.00\">BMI &lt;= 29.85</text>\n<text text-anchor=\"middle\" x=\"4623.5\" y=\"-1703.8\" font-family=\"Helvetica,sans-Serif\" font-size=\"14.00\">gini = 0.294</text>\n<text text-anchor=\"middle\" x=\"4623.5\" y=\"-1688.8\" font-family=\"Helvetica,sans-Serif\" font-size=\"14.00\">samples = 95</text>\n<text text-anchor=\"middle\" x=\"4623.5\" y=\"-1673.8\" font-family=\"Helvetica,sans-Serif\" font-size=\"14.00\">value = [17, 78]</text>\n<text text-anchor=\"middle\" x=\"4623.5\" y=\"-1658.8\" font-family=\"Helvetica,sans-Serif\" font-size=\"14.00\">class = diabetes</text>\n</g>\n<!-- 122&#45;&gt;190 -->\n<g id=\"edge190\" class=\"edge\">\n<title>122&#45;&gt;190</title>\n<path fill=\"none\" stroke=\"black\" d=\"M3686.05,-1803.18C3864.09,-1782.35 4372.54,-1722.86 4556.25,-1701.37\"/>\n<polygon fill=\"black\" stroke=\"black\" points=\"4556.79,-1704.83 4566.32,-1700.19 4555.98,-1697.88 4556.79,-1704.83\"/>\n</g>\n<!-- 124 -->\n<g id=\"node125\" class=\"node\">\n<title>124</title>\n<polygon fill=\"#e89152\" stroke=\"black\" points=\"3526,-1615 3371,-1615 3371,-1532 3526,-1532 3526,-1615\"/>\n<text text-anchor=\"middle\" x=\"3448.5\" y=\"-1599.8\" font-family=\"Helvetica,sans-Serif\" font-size=\"14.00\">BloodPressure &lt;= 30.5</text>\n<text text-anchor=\"middle\" x=\"3448.5\" y=\"-1584.8\" font-family=\"Helvetica,sans-Serif\" font-size=\"14.00\">gini = 0.198</text>\n<text text-anchor=\"middle\" x=\"3448.5\" y=\"-1569.8\" font-family=\"Helvetica,sans-Serif\" font-size=\"14.00\">samples = 18</text>\n<text text-anchor=\"middle\" x=\"3448.5\" y=\"-1554.8\" font-family=\"Helvetica,sans-Serif\" font-size=\"14.00\">value = [16, 2]</text>\n<text text-anchor=\"middle\" x=\"3448.5\" y=\"-1539.8\" font-family=\"Helvetica,sans-Serif\" font-size=\"14.00\">class = not diabetes</text>\n</g>\n<!-- 123&#45;&gt;124 -->\n<g id=\"edge124\" class=\"edge\">\n<title>123&#45;&gt;124</title>\n<path fill=\"none\" stroke=\"black\" d=\"M3562.78,-1650.91C3548.26,-1641.2 3532.65,-1630.76 3517.77,-1620.81\"/>\n<polygon fill=\"black\" stroke=\"black\" points=\"3519.37,-1617.67 3509.11,-1615.02 3515.48,-1623.49 3519.37,-1617.67\"/>\n</g>\n<!-- 131 -->\n<g id=\"node132\" class=\"node\">\n<title>131</title>\n<polygon fill=\"#e4f1fb\" stroke=\"black\" points=\"3854.5,-1615 3740.5,-1615 3740.5,-1532 3854.5,-1532 3854.5,-1615\"/>\n<text text-anchor=\"middle\" x=\"3797.5\" y=\"-1599.8\" font-family=\"Helvetica,sans-Serif\" font-size=\"14.00\">Insulin &lt;= 192.0</text>\n<text text-anchor=\"middle\" x=\"3797.5\" y=\"-1584.8\" font-family=\"Helvetica,sans-Serif\" font-size=\"14.00\">gini = 0.497</text>\n<text text-anchor=\"middle\" x=\"3797.5\" y=\"-1569.8\" font-family=\"Helvetica,sans-Serif\" font-size=\"14.00\">samples = 108</text>\n<text text-anchor=\"middle\" x=\"3797.5\" y=\"-1554.8\" font-family=\"Helvetica,sans-Serif\" font-size=\"14.00\">value = [50, 58]</text>\n<text text-anchor=\"middle\" x=\"3797.5\" y=\"-1539.8\" font-family=\"Helvetica,sans-Serif\" font-size=\"14.00\">class = diabetes</text>\n</g>\n<!-- 123&#45;&gt;131 -->\n<g id=\"edge131\" class=\"edge\">\n<title>123&#45;&gt;131</title>\n<path fill=\"none\" stroke=\"black\" d=\"M3683.87,-1650.91C3699.36,-1640.49 3716.09,-1629.24 3731.83,-1618.66\"/>\n<polygon fill=\"black\" stroke=\"black\" points=\"3734.11,-1621.34 3740.46,-1612.86 3730.21,-1615.53 3734.11,-1621.34\"/>\n</g>\n<!-- 125 -->\n<g id=\"node126\" class=\"node\">\n<title>125</title>\n<polygon fill=\"#399de5\" stroke=\"black\" points=\"3361.5,-1488.5 3247.5,-1488.5 3247.5,-1420.5 3361.5,-1420.5 3361.5,-1488.5\"/>\n<text text-anchor=\"middle\" x=\"3304.5\" y=\"-1473.3\" font-family=\"Helvetica,sans-Serif\" font-size=\"14.00\">gini = 0.0</text>\n<text text-anchor=\"middle\" x=\"3304.5\" y=\"-1458.3\" font-family=\"Helvetica,sans-Serif\" font-size=\"14.00\">samples = 1</text>\n<text text-anchor=\"middle\" x=\"3304.5\" y=\"-1443.3\" font-family=\"Helvetica,sans-Serif\" font-size=\"14.00\">value = [0, 1]</text>\n<text text-anchor=\"middle\" x=\"3304.5\" y=\"-1428.3\" font-family=\"Helvetica,sans-Serif\" font-size=\"14.00\">class = diabetes</text>\n</g>\n<!-- 124&#45;&gt;125 -->\n<g id=\"edge125\" class=\"edge\">\n<title>124&#45;&gt;125</title>\n<path fill=\"none\" stroke=\"black\" d=\"M3398.54,-1531.91C3383.87,-1519.99 3367.85,-1506.98 3353.26,-1495.12\"/>\n<polygon fill=\"black\" stroke=\"black\" points=\"3355.29,-1492.26 3345.32,-1488.67 3350.87,-1497.69 3355.29,-1492.26\"/>\n</g>\n<!-- 126 -->\n<g id=\"node127\" class=\"node\">\n<title>126</title>\n<polygon fill=\"#e78945\" stroke=\"black\" points=\"3517,-1496 3380,-1496 3380,-1413 3517,-1413 3517,-1496\"/>\n<text text-anchor=\"middle\" x=\"3448.5\" y=\"-1480.8\" font-family=\"Helvetica,sans-Serif\" font-size=\"14.00\">Pregnancies &lt;= 5.5</text>\n<text text-anchor=\"middle\" x=\"3448.5\" y=\"-1465.8\" font-family=\"Helvetica,sans-Serif\" font-size=\"14.00\">gini = 0.111</text>\n<text text-anchor=\"middle\" x=\"3448.5\" y=\"-1450.8\" font-family=\"Helvetica,sans-Serif\" font-size=\"14.00\">samples = 17</text>\n<text text-anchor=\"middle\" x=\"3448.5\" y=\"-1435.8\" font-family=\"Helvetica,sans-Serif\" font-size=\"14.00\">value = [16, 1]</text>\n<text text-anchor=\"middle\" x=\"3448.5\" y=\"-1420.8\" font-family=\"Helvetica,sans-Serif\" font-size=\"14.00\">class = not diabetes</text>\n</g>\n<!-- 124&#45;&gt;126 -->\n<g id=\"edge126\" class=\"edge\">\n<title>124&#45;&gt;126</title>\n<path fill=\"none\" stroke=\"black\" d=\"M3448.5,-1531.91C3448.5,-1523.65 3448.5,-1514.86 3448.5,-1506.3\"/>\n<polygon fill=\"black\" stroke=\"black\" points=\"3452,-1506.02 3448.5,-1496.02 3445,-1506.02 3452,-1506.02\"/>\n</g>\n<!-- 127 -->\n<g id=\"node128\" class=\"node\">\n<title>127</title>\n<polygon fill=\"#e58139\" stroke=\"black\" points=\"3362,-1369.5 3225,-1369.5 3225,-1301.5 3362,-1301.5 3362,-1369.5\"/>\n<text text-anchor=\"middle\" x=\"3293.5\" y=\"-1354.3\" font-family=\"Helvetica,sans-Serif\" font-size=\"14.00\">gini = 0.0</text>\n<text text-anchor=\"middle\" x=\"3293.5\" y=\"-1339.3\" font-family=\"Helvetica,sans-Serif\" font-size=\"14.00\">samples = 14</text>\n<text text-anchor=\"middle\" x=\"3293.5\" y=\"-1324.3\" font-family=\"Helvetica,sans-Serif\" font-size=\"14.00\">value = [14, 0]</text>\n<text text-anchor=\"middle\" x=\"3293.5\" y=\"-1309.3\" font-family=\"Helvetica,sans-Serif\" font-size=\"14.00\">class = not diabetes</text>\n</g>\n<!-- 126&#45;&gt;127 -->\n<g id=\"edge127\" class=\"edge\">\n<title>126&#45;&gt;127</title>\n<path fill=\"none\" stroke=\"black\" d=\"M3394.72,-1412.91C3378.79,-1400.88 3361.37,-1387.73 3345.55,-1375.79\"/>\n<polygon fill=\"black\" stroke=\"black\" points=\"3347.53,-1372.9 3337.44,-1369.67 3343.31,-1378.49 3347.53,-1372.9\"/>\n</g>\n<!-- 128 -->\n<g id=\"node129\" class=\"node\">\n<title>128</title>\n<polygon fill=\"#f2c09c\" stroke=\"black\" points=\"3517,-1377 3380,-1377 3380,-1294 3517,-1294 3517,-1377\"/>\n<text text-anchor=\"middle\" x=\"3448.5\" y=\"-1361.8\" font-family=\"Helvetica,sans-Serif\" font-size=\"14.00\">Glucose &lt;= 142.0</text>\n<text text-anchor=\"middle\" x=\"3448.5\" y=\"-1346.8\" font-family=\"Helvetica,sans-Serif\" font-size=\"14.00\">gini = 0.444</text>\n<text text-anchor=\"middle\" x=\"3448.5\" y=\"-1331.8\" font-family=\"Helvetica,sans-Serif\" font-size=\"14.00\">samples = 3</text>\n<text text-anchor=\"middle\" x=\"3448.5\" y=\"-1316.8\" font-family=\"Helvetica,sans-Serif\" font-size=\"14.00\">value = [2, 1]</text>\n<text text-anchor=\"middle\" x=\"3448.5\" y=\"-1301.8\" font-family=\"Helvetica,sans-Serif\" font-size=\"14.00\">class = not diabetes</text>\n</g>\n<!-- 126&#45;&gt;128 -->\n<g id=\"edge128\" class=\"edge\">\n<title>126&#45;&gt;128</title>\n<path fill=\"none\" stroke=\"black\" d=\"M3448.5,-1412.91C3448.5,-1404.65 3448.5,-1395.86 3448.5,-1387.3\"/>\n<polygon fill=\"black\" stroke=\"black\" points=\"3452,-1387.02 3448.5,-1377.02 3445,-1387.02 3452,-1387.02\"/>\n</g>\n<!-- 129 -->\n<g id=\"node130\" class=\"node\">\n<title>129</title>\n<polygon fill=\"#e58139\" stroke=\"black\" points=\"3373,-1250.5 3236,-1250.5 3236,-1182.5 3373,-1182.5 3373,-1250.5\"/>\n<text text-anchor=\"middle\" x=\"3304.5\" y=\"-1235.3\" font-family=\"Helvetica,sans-Serif\" font-size=\"14.00\">gini = 0.0</text>\n<text text-anchor=\"middle\" x=\"3304.5\" y=\"-1220.3\" font-family=\"Helvetica,sans-Serif\" font-size=\"14.00\">samples = 2</text>\n<text text-anchor=\"middle\" x=\"3304.5\" y=\"-1205.3\" font-family=\"Helvetica,sans-Serif\" font-size=\"14.00\">value = [2, 0]</text>\n<text text-anchor=\"middle\" x=\"3304.5\" y=\"-1190.3\" font-family=\"Helvetica,sans-Serif\" font-size=\"14.00\">class = not diabetes</text>\n</g>\n<!-- 128&#45;&gt;129 -->\n<g id=\"edge129\" class=\"edge\">\n<title>128&#45;&gt;129</title>\n<path fill=\"none\" stroke=\"black\" d=\"M3398.54,-1293.91C3383.87,-1281.99 3367.85,-1268.98 3353.26,-1257.12\"/>\n<polygon fill=\"black\" stroke=\"black\" points=\"3355.29,-1254.26 3345.32,-1250.67 3350.87,-1259.69 3355.29,-1254.26\"/>\n</g>\n<!-- 130 -->\n<g id=\"node131\" class=\"node\">\n<title>130</title>\n<polygon fill=\"#399de5\" stroke=\"black\" points=\"3505.5,-1250.5 3391.5,-1250.5 3391.5,-1182.5 3505.5,-1182.5 3505.5,-1250.5\"/>\n<text text-anchor=\"middle\" x=\"3448.5\" y=\"-1235.3\" font-family=\"Helvetica,sans-Serif\" font-size=\"14.00\">gini = 0.0</text>\n<text text-anchor=\"middle\" x=\"3448.5\" y=\"-1220.3\" font-family=\"Helvetica,sans-Serif\" font-size=\"14.00\">samples = 1</text>\n<text text-anchor=\"middle\" x=\"3448.5\" y=\"-1205.3\" font-family=\"Helvetica,sans-Serif\" font-size=\"14.00\">value = [0, 1]</text>\n<text text-anchor=\"middle\" x=\"3448.5\" y=\"-1190.3\" font-family=\"Helvetica,sans-Serif\" font-size=\"14.00\">class = diabetes</text>\n</g>\n<!-- 128&#45;&gt;130 -->\n<g id=\"edge130\" class=\"edge\">\n<title>128&#45;&gt;130</title>\n<path fill=\"none\" stroke=\"black\" d=\"M3448.5,-1293.91C3448.5,-1283.2 3448.5,-1271.62 3448.5,-1260.78\"/>\n<polygon fill=\"black\" stroke=\"black\" points=\"3452,-1260.67 3448.5,-1250.67 3445,-1260.67 3452,-1260.67\"/>\n</g>\n<!-- 132 -->\n<g id=\"node133\" class=\"node\">\n<title>132</title>\n<polygon fill=\"#b6dbf5\" stroke=\"black\" points=\"3854.5,-1496 3740.5,-1496 3740.5,-1413 3854.5,-1413 3854.5,-1496\"/>\n<text text-anchor=\"middle\" x=\"3797.5\" y=\"-1480.8\" font-family=\"Helvetica,sans-Serif\" font-size=\"14.00\">BMI &lt;= 29.85</text>\n<text text-anchor=\"middle\" x=\"3797.5\" y=\"-1465.8\" font-family=\"Helvetica,sans-Serif\" font-size=\"14.00\">gini = 0.474</text>\n<text text-anchor=\"middle\" x=\"3797.5\" y=\"-1450.8\" font-family=\"Helvetica,sans-Serif\" font-size=\"14.00\">samples = 88</text>\n<text text-anchor=\"middle\" x=\"3797.5\" y=\"-1435.8\" font-family=\"Helvetica,sans-Serif\" font-size=\"14.00\">value = [34, 54]</text>\n<text text-anchor=\"middle\" x=\"3797.5\" y=\"-1420.8\" font-family=\"Helvetica,sans-Serif\" font-size=\"14.00\">class = diabetes</text>\n</g>\n<!-- 131&#45;&gt;132 -->\n<g id=\"edge132\" class=\"edge\">\n<title>131&#45;&gt;132</title>\n<path fill=\"none\" stroke=\"black\" d=\"M3797.5,-1531.91C3797.5,-1523.65 3797.5,-1514.86 3797.5,-1506.3\"/>\n<polygon fill=\"black\" stroke=\"black\" points=\"3801,-1506.02 3797.5,-1496.02 3794,-1506.02 3801,-1506.02\"/>\n</g>\n<!-- 181 -->\n<g id=\"node182\" class=\"node\">\n<title>181</title>\n<polygon fill=\"#eca06a\" stroke=\"black\" points=\"4106,-1496 3969,-1496 3969,-1413 4106,-1413 4106,-1496\"/>\n<text text-anchor=\"middle\" x=\"4037.5\" y=\"-1480.8\" font-family=\"Helvetica,sans-Serif\" font-size=\"14.00\">BMI &lt;= 38.45</text>\n<text text-anchor=\"middle\" x=\"4037.5\" y=\"-1465.8\" font-family=\"Helvetica,sans-Serif\" font-size=\"14.00\">gini = 0.32</text>\n<text text-anchor=\"middle\" x=\"4037.5\" y=\"-1450.8\" font-family=\"Helvetica,sans-Serif\" font-size=\"14.00\">samples = 20</text>\n<text text-anchor=\"middle\" x=\"4037.5\" y=\"-1435.8\" font-family=\"Helvetica,sans-Serif\" font-size=\"14.00\">value = [16, 4]</text>\n<text text-anchor=\"middle\" x=\"4037.5\" y=\"-1420.8\" font-family=\"Helvetica,sans-Serif\" font-size=\"14.00\">class = not diabetes</text>\n</g>\n<!-- 131&#45;&gt;181 -->\n<g id=\"edge181\" class=\"edge\">\n<title>131&#45;&gt;181</title>\n<path fill=\"none\" stroke=\"black\" d=\"M3854.68,-1544.62C3886.12,-1529.3 3925.56,-1510.07 3959.76,-1493.4\"/>\n<polygon fill=\"black\" stroke=\"black\" points=\"3961.34,-1496.52 3968.79,-1488.99 3958.27,-1490.23 3961.34,-1496.52\"/>\n</g>\n<!-- 133 -->\n<g id=\"node134\" class=\"node\">\n<title>133</title>\n<polygon fill=\"#f6d3b9\" stroke=\"black\" points=\"3818,-1377 3585,-1377 3585,-1294 3818,-1294 3818,-1377\"/>\n<text text-anchor=\"middle\" x=\"3701.5\" y=\"-1361.8\" font-family=\"Helvetica,sans-Serif\" font-size=\"14.00\">DiabetesPedigreeFunction &lt;= 0.242</text>\n<text text-anchor=\"middle\" x=\"3701.5\" y=\"-1346.8\" font-family=\"Helvetica,sans-Serif\" font-size=\"14.00\">gini = 0.477</text>\n<text text-anchor=\"middle\" x=\"3701.5\" y=\"-1331.8\" font-family=\"Helvetica,sans-Serif\" font-size=\"14.00\">samples = 28</text>\n<text text-anchor=\"middle\" x=\"3701.5\" y=\"-1316.8\" font-family=\"Helvetica,sans-Serif\" font-size=\"14.00\">value = [17, 11]</text>\n<text text-anchor=\"middle\" x=\"3701.5\" y=\"-1301.8\" font-family=\"Helvetica,sans-Serif\" font-size=\"14.00\">class = not diabetes</text>\n</g>\n<!-- 132&#45;&gt;133 -->\n<g id=\"edge133\" class=\"edge\">\n<title>132&#45;&gt;133</title>\n<path fill=\"none\" stroke=\"black\" d=\"M3764.19,-1412.91C3756.75,-1403.83 3748.78,-1394.12 3741.11,-1384.77\"/>\n<polygon fill=\"black\" stroke=\"black\" points=\"3743.8,-1382.53 3734.75,-1377.02 3738.39,-1386.97 3743.8,-1382.53\"/>\n</g>\n<!-- 150 -->\n<g id=\"node151\" class=\"node\">\n<title>150</title>\n<polygon fill=\"#87c4ef\" stroke=\"black\" points=\"3950.5,-1377 3836.5,-1377 3836.5,-1294 3950.5,-1294 3950.5,-1377\"/>\n<text text-anchor=\"middle\" x=\"3893.5\" y=\"-1361.8\" font-family=\"Helvetica,sans-Serif\" font-size=\"14.00\">Age &lt;= 44.5</text>\n<text text-anchor=\"middle\" x=\"3893.5\" y=\"-1346.8\" font-family=\"Helvetica,sans-Serif\" font-size=\"14.00\">gini = 0.406</text>\n<text text-anchor=\"middle\" x=\"3893.5\" y=\"-1331.8\" font-family=\"Helvetica,sans-Serif\" font-size=\"14.00\">samples = 60</text>\n<text text-anchor=\"middle\" x=\"3893.5\" y=\"-1316.8\" font-family=\"Helvetica,sans-Serif\" font-size=\"14.00\">value = [17, 43]</text>\n<text text-anchor=\"middle\" x=\"3893.5\" y=\"-1301.8\" font-family=\"Helvetica,sans-Serif\" font-size=\"14.00\">class = diabetes</text>\n</g>\n<!-- 132&#45;&gt;150 -->\n<g id=\"edge150\" class=\"edge\">\n<title>132&#45;&gt;150</title>\n<path fill=\"none\" stroke=\"black\" d=\"M3830.81,-1412.91C3838.25,-1403.83 3846.22,-1394.12 3853.89,-1384.77\"/>\n<polygon fill=\"black\" stroke=\"black\" points=\"3856.61,-1386.97 3860.25,-1377.02 3851.2,-1382.53 3856.61,-1386.97\"/>\n</g>\n<!-- 134 -->\n<g id=\"node135\" class=\"node\">\n<title>134</title>\n<polygon fill=\"#399de5\" stroke=\"black\" points=\"3637.5,-1250.5 3523.5,-1250.5 3523.5,-1182.5 3637.5,-1182.5 3637.5,-1250.5\"/>\n<text text-anchor=\"middle\" x=\"3580.5\" y=\"-1235.3\" font-family=\"Helvetica,sans-Serif\" font-size=\"14.00\">gini = 0.0</text>\n<text text-anchor=\"middle\" x=\"3580.5\" y=\"-1220.3\" font-family=\"Helvetica,sans-Serif\" font-size=\"14.00\">samples = 3</text>\n<text text-anchor=\"middle\" x=\"3580.5\" y=\"-1205.3\" font-family=\"Helvetica,sans-Serif\" font-size=\"14.00\">value = [0, 3]</text>\n<text text-anchor=\"middle\" x=\"3580.5\" y=\"-1190.3\" font-family=\"Helvetica,sans-Serif\" font-size=\"14.00\">class = diabetes</text>\n</g>\n<!-- 133&#45;&gt;134 -->\n<g id=\"edge134\" class=\"edge\">\n<title>133&#45;&gt;134</title>\n<path fill=\"none\" stroke=\"black\" d=\"M3659.52,-1293.91C3647.42,-1282.21 3634.23,-1269.46 3622.16,-1257.78\"/>\n<polygon fill=\"black\" stroke=\"black\" points=\"3624.42,-1255.1 3614.8,-1250.67 3619.56,-1260.13 3624.42,-1255.1\"/>\n</g>\n<!-- 135 -->\n<g id=\"node136\" class=\"node\">\n<title>135</title>\n<polygon fill=\"#f1bc96\" stroke=\"black\" points=\"3797.5,-1258 3655.5,-1258 3655.5,-1175 3797.5,-1175 3797.5,-1258\"/>\n<text text-anchor=\"middle\" x=\"3726.5\" y=\"-1242.8\" font-family=\"Helvetica,sans-Serif\" font-size=\"14.00\">Pregnancies &lt;= 10.5</text>\n<text text-anchor=\"middle\" x=\"3726.5\" y=\"-1227.8\" font-family=\"Helvetica,sans-Serif\" font-size=\"14.00\">gini = 0.435</text>\n<text text-anchor=\"middle\" x=\"3726.5\" y=\"-1212.8\" font-family=\"Helvetica,sans-Serif\" font-size=\"14.00\">samples = 25</text>\n<text text-anchor=\"middle\" x=\"3726.5\" y=\"-1197.8\" font-family=\"Helvetica,sans-Serif\" font-size=\"14.00\">value = [17, 8]</text>\n<text text-anchor=\"middle\" x=\"3726.5\" y=\"-1182.8\" font-family=\"Helvetica,sans-Serif\" font-size=\"14.00\">class = not diabetes</text>\n</g>\n<!-- 133&#45;&gt;135 -->\n<g id=\"edge135\" class=\"edge\">\n<title>133&#45;&gt;135</title>\n<path fill=\"none\" stroke=\"black\" d=\"M3710.17,-1293.91C3711.96,-1285.56 3713.86,-1276.67 3715.71,-1268.02\"/>\n<polygon fill=\"black\" stroke=\"black\" points=\"3719.17,-1268.53 3717.84,-1258.02 3712.33,-1267.07 3719.17,-1268.53\"/>\n</g>\n<!-- 136 -->\n<g id=\"node137\" class=\"node\">\n<title>136</title>\n<polygon fill=\"#eead7f\" stroke=\"black\" points=\"3663,-1139 3430,-1139 3430,-1056 3663,-1056 3663,-1139\"/>\n<text text-anchor=\"middle\" x=\"3546.5\" y=\"-1123.8\" font-family=\"Helvetica,sans-Serif\" font-size=\"14.00\">DiabetesPedigreeFunction &lt;= 0.553</text>\n<text text-anchor=\"middle\" x=\"3546.5\" y=\"-1108.8\" font-family=\"Helvetica,sans-Serif\" font-size=\"14.00\">gini = 0.386</text>\n<text text-anchor=\"middle\" x=\"3546.5\" y=\"-1093.8\" font-family=\"Helvetica,sans-Serif\" font-size=\"14.00\">samples = 23</text>\n<text text-anchor=\"middle\" x=\"3546.5\" y=\"-1078.8\" font-family=\"Helvetica,sans-Serif\" font-size=\"14.00\">value = [17, 6]</text>\n<text text-anchor=\"middle\" x=\"3546.5\" y=\"-1063.8\" font-family=\"Helvetica,sans-Serif\" font-size=\"14.00\">class = not diabetes</text>\n</g>\n<!-- 135&#45;&gt;136 -->\n<g id=\"edge136\" class=\"edge\">\n<title>135&#45;&gt;136</title>\n<path fill=\"none\" stroke=\"black\" d=\"M3664.05,-1174.91C3648.97,-1165.11 3632.75,-1154.56 3617.32,-1144.53\"/>\n<polygon fill=\"black\" stroke=\"black\" points=\"3619.13,-1141.54 3608.84,-1139.02 3615.32,-1147.41 3619.13,-1141.54\"/>\n</g>\n<!-- 149 -->\n<g id=\"node150\" class=\"node\">\n<title>149</title>\n<polygon fill=\"#399de5\" stroke=\"black\" points=\"3795.5,-1131.5 3681.5,-1131.5 3681.5,-1063.5 3795.5,-1063.5 3795.5,-1131.5\"/>\n<text text-anchor=\"middle\" x=\"3738.5\" y=\"-1116.3\" font-family=\"Helvetica,sans-Serif\" font-size=\"14.00\">gini = 0.0</text>\n<text text-anchor=\"middle\" x=\"3738.5\" y=\"-1101.3\" font-family=\"Helvetica,sans-Serif\" font-size=\"14.00\">samples = 2</text>\n<text text-anchor=\"middle\" x=\"3738.5\" y=\"-1086.3\" font-family=\"Helvetica,sans-Serif\" font-size=\"14.00\">value = [0, 2]</text>\n<text text-anchor=\"middle\" x=\"3738.5\" y=\"-1071.3\" font-family=\"Helvetica,sans-Serif\" font-size=\"14.00\">class = diabetes</text>\n</g>\n<!-- 135&#45;&gt;149 -->\n<g id=\"edge149\" class=\"edge\">\n<title>135&#45;&gt;149</title>\n<path fill=\"none\" stroke=\"black\" d=\"M3730.66,-1174.91C3731.76,-1164.2 3732.95,-1152.62 3734.06,-1141.78\"/>\n<polygon fill=\"black\" stroke=\"black\" points=\"3737.56,-1141.97 3735.1,-1131.67 3730.6,-1141.26 3737.56,-1141.97\"/>\n</g>\n<!-- 137 -->\n<g id=\"node138\" class=\"node\">\n<title>137</title>\n<polygon fill=\"#f5cdb0\" stroke=\"black\" points=\"3499,-1020 3266,-1020 3266,-937 3499,-937 3499,-1020\"/>\n<text text-anchor=\"middle\" x=\"3382.5\" y=\"-1004.8\" font-family=\"Helvetica,sans-Serif\" font-size=\"14.00\">DiabetesPedigreeFunction &lt;= 0.319</text>\n<text text-anchor=\"middle\" x=\"3382.5\" y=\"-989.8\" font-family=\"Helvetica,sans-Serif\" font-size=\"14.00\">gini = 0.469</text>\n<text text-anchor=\"middle\" x=\"3382.5\" y=\"-974.8\" font-family=\"Helvetica,sans-Serif\" font-size=\"14.00\">samples = 16</text>\n<text text-anchor=\"middle\" x=\"3382.5\" y=\"-959.8\" font-family=\"Helvetica,sans-Serif\" font-size=\"14.00\">value = [10, 6]</text>\n<text text-anchor=\"middle\" x=\"3382.5\" y=\"-944.8\" font-family=\"Helvetica,sans-Serif\" font-size=\"14.00\">class = not diabetes</text>\n</g>\n<!-- 136&#45;&gt;137 -->\n<g id=\"edge137\" class=\"edge\">\n<title>136&#45;&gt;137</title>\n<path fill=\"none\" stroke=\"black\" d=\"M3489.6,-1055.91C3476.12,-1046.29 3461.63,-1035.95 3447.81,-1026.09\"/>\n<polygon fill=\"black\" stroke=\"black\" points=\"3449.47,-1022.98 3439.3,-1020.02 3445.41,-1028.68 3449.47,-1022.98\"/>\n</g>\n<!-- 148 -->\n<g id=\"node149\" class=\"node\">\n<title>148</title>\n<polygon fill=\"#e58139\" stroke=\"black\" points=\"3654,-1012.5 3517,-1012.5 3517,-944.5 3654,-944.5 3654,-1012.5\"/>\n<text text-anchor=\"middle\" x=\"3585.5\" y=\"-997.3\" font-family=\"Helvetica,sans-Serif\" font-size=\"14.00\">gini = 0.0</text>\n<text text-anchor=\"middle\" x=\"3585.5\" y=\"-982.3\" font-family=\"Helvetica,sans-Serif\" font-size=\"14.00\">samples = 7</text>\n<text text-anchor=\"middle\" x=\"3585.5\" y=\"-967.3\" font-family=\"Helvetica,sans-Serif\" font-size=\"14.00\">value = [7, 0]</text>\n<text text-anchor=\"middle\" x=\"3585.5\" y=\"-952.3\" font-family=\"Helvetica,sans-Serif\" font-size=\"14.00\">class = not diabetes</text>\n</g>\n<!-- 136&#45;&gt;148 -->\n<g id=\"edge148\" class=\"edge\">\n<title>136&#45;&gt;148</title>\n<path fill=\"none\" stroke=\"black\" d=\"M3560.03,-1055.91C3563.64,-1045.09 3567.54,-1033.38 3571.19,-1022.44\"/>\n<polygon fill=\"black\" stroke=\"black\" points=\"3574.6,-1023.26 3574.44,-1012.67 3567.96,-1021.05 3574.6,-1023.26\"/>\n</g>\n<!-- 138 -->\n<g id=\"node139\" class=\"node\">\n<title>138</title>\n<polygon fill=\"#e99355\" stroke=\"black\" points=\"3289,-901 3152,-901 3152,-818 3289,-818 3289,-901\"/>\n<text text-anchor=\"middle\" x=\"3220.5\" y=\"-885.8\" font-family=\"Helvetica,sans-Serif\" font-size=\"14.00\">Age &lt;= 57.5</text>\n<text text-anchor=\"middle\" x=\"3220.5\" y=\"-870.8\" font-family=\"Helvetica,sans-Serif\" font-size=\"14.00\">gini = 0.219</text>\n<text text-anchor=\"middle\" x=\"3220.5\" y=\"-855.8\" font-family=\"Helvetica,sans-Serif\" font-size=\"14.00\">samples = 8</text>\n<text text-anchor=\"middle\" x=\"3220.5\" y=\"-840.8\" font-family=\"Helvetica,sans-Serif\" font-size=\"14.00\">value = [7, 1]</text>\n<text text-anchor=\"middle\" x=\"3220.5\" y=\"-825.8\" font-family=\"Helvetica,sans-Serif\" font-size=\"14.00\">class = not diabetes</text>\n</g>\n<!-- 137&#45;&gt;138 -->\n<g id=\"edge138\" class=\"edge\">\n<title>137&#45;&gt;138</title>\n<path fill=\"none\" stroke=\"black\" d=\"M3326.29,-936.91C3312.98,-927.29 3298.67,-916.95 3285.01,-907.09\"/>\n<polygon fill=\"black\" stroke=\"black\" points=\"3286.76,-904.04 3276.61,-901.02 3282.66,-909.71 3286.76,-904.04\"/>\n</g>\n<!-- 141 -->\n<g id=\"node142\" class=\"node\">\n<title>141</title>\n<polygon fill=\"#b0d8f5\" stroke=\"black\" points=\"3461.5,-901 3307.5,-901 3307.5,-818 3461.5,-818 3461.5,-901\"/>\n<text text-anchor=\"middle\" x=\"3384.5\" y=\"-885.8\" font-family=\"Helvetica,sans-Serif\" font-size=\"14.00\">SkinThickness &lt;= 31.0</text>\n<text text-anchor=\"middle\" x=\"3384.5\" y=\"-870.8\" font-family=\"Helvetica,sans-Serif\" font-size=\"14.00\">gini = 0.469</text>\n<text text-anchor=\"middle\" x=\"3384.5\" y=\"-855.8\" font-family=\"Helvetica,sans-Serif\" font-size=\"14.00\">samples = 8</text>\n<text text-anchor=\"middle\" x=\"3384.5\" y=\"-840.8\" font-family=\"Helvetica,sans-Serif\" font-size=\"14.00\">value = [3, 5]</text>\n<text text-anchor=\"middle\" x=\"3384.5\" y=\"-825.8\" font-family=\"Helvetica,sans-Serif\" font-size=\"14.00\">class = diabetes</text>\n</g>\n<!-- 137&#45;&gt;141 -->\n<g id=\"edge141\" class=\"edge\">\n<title>137&#45;&gt;141</title>\n<path fill=\"none\" stroke=\"black\" d=\"M3383.19,-936.91C3383.34,-928.56 3383.49,-919.67 3383.64,-911.02\"/>\n<polygon fill=\"black\" stroke=\"black\" points=\"3387.14,-911.08 3383.81,-901.02 3380.14,-910.96 3387.14,-911.08\"/>\n</g>\n<!-- 139 -->\n<g id=\"node140\" class=\"node\">\n<title>139</title>\n<polygon fill=\"#e58139\" stroke=\"black\" points=\"3145,-774.5 3008,-774.5 3008,-706.5 3145,-706.5 3145,-774.5\"/>\n<text text-anchor=\"middle\" x=\"3076.5\" y=\"-759.3\" font-family=\"Helvetica,sans-Serif\" font-size=\"14.00\">gini = 0.0</text>\n<text text-anchor=\"middle\" x=\"3076.5\" y=\"-744.3\" font-family=\"Helvetica,sans-Serif\" font-size=\"14.00\">samples = 7</text>\n<text text-anchor=\"middle\" x=\"3076.5\" y=\"-729.3\" font-family=\"Helvetica,sans-Serif\" font-size=\"14.00\">value = [7, 0]</text>\n<text text-anchor=\"middle\" x=\"3076.5\" y=\"-714.3\" font-family=\"Helvetica,sans-Serif\" font-size=\"14.00\">class = not diabetes</text>\n</g>\n<!-- 138&#45;&gt;139 -->\n<g id=\"edge139\" class=\"edge\">\n<title>138&#45;&gt;139</title>\n<path fill=\"none\" stroke=\"black\" d=\"M3170.54,-817.91C3155.87,-805.99 3139.85,-792.98 3125.26,-781.12\"/>\n<polygon fill=\"black\" stroke=\"black\" points=\"3127.29,-778.26 3117.32,-774.67 3122.87,-783.69 3127.29,-778.26\"/>\n</g>\n<!-- 140 -->\n<g id=\"node141\" class=\"node\">\n<title>140</title>\n<polygon fill=\"#399de5\" stroke=\"black\" points=\"3277.5,-774.5 3163.5,-774.5 3163.5,-706.5 3277.5,-706.5 3277.5,-774.5\"/>\n<text text-anchor=\"middle\" x=\"3220.5\" y=\"-759.3\" font-family=\"Helvetica,sans-Serif\" font-size=\"14.00\">gini = 0.0</text>\n<text text-anchor=\"middle\" x=\"3220.5\" y=\"-744.3\" font-family=\"Helvetica,sans-Serif\" font-size=\"14.00\">samples = 1</text>\n<text text-anchor=\"middle\" x=\"3220.5\" y=\"-729.3\" font-family=\"Helvetica,sans-Serif\" font-size=\"14.00\">value = [0, 1]</text>\n<text text-anchor=\"middle\" x=\"3220.5\" y=\"-714.3\" font-family=\"Helvetica,sans-Serif\" font-size=\"14.00\">class = diabetes</text>\n</g>\n<!-- 138&#45;&gt;140 -->\n<g id=\"edge140\" class=\"edge\">\n<title>138&#45;&gt;140</title>\n<path fill=\"none\" stroke=\"black\" d=\"M3220.5,-817.91C3220.5,-807.2 3220.5,-795.62 3220.5,-784.78\"/>\n<polygon fill=\"black\" stroke=\"black\" points=\"3224,-784.67 3220.5,-774.67 3217,-784.67 3224,-784.67\"/>\n</g>\n<!-- 142 -->\n<g id=\"node143\" class=\"node\">\n<title>142</title>\n<polygon fill=\"#61b1ea\" stroke=\"black\" points=\"3429.5,-782 3295.5,-782 3295.5,-699 3429.5,-699 3429.5,-782\"/>\n<text text-anchor=\"middle\" x=\"3362.5\" y=\"-766.8\" font-family=\"Helvetica,sans-Serif\" font-size=\"14.00\">Pregnancies &lt;= 1.5</text>\n<text text-anchor=\"middle\" x=\"3362.5\" y=\"-751.8\" font-family=\"Helvetica,sans-Serif\" font-size=\"14.00\">gini = 0.278</text>\n<text text-anchor=\"middle\" x=\"3362.5\" y=\"-736.8\" font-family=\"Helvetica,sans-Serif\" font-size=\"14.00\">samples = 6</text>\n<text text-anchor=\"middle\" x=\"3362.5\" y=\"-721.8\" font-family=\"Helvetica,sans-Serif\" font-size=\"14.00\">value = [1, 5]</text>\n<text text-anchor=\"middle\" x=\"3362.5\" y=\"-706.8\" font-family=\"Helvetica,sans-Serif\" font-size=\"14.00\">class = diabetes</text>\n</g>\n<!-- 141&#45;&gt;142 -->\n<g id=\"edge142\" class=\"edge\">\n<title>141&#45;&gt;142</title>\n<path fill=\"none\" stroke=\"black\" d=\"M3376.87,-817.91C3375.3,-809.56 3373.63,-800.67 3372,-792.02\"/>\n<polygon fill=\"black\" stroke=\"black\" points=\"3375.41,-791.2 3370.12,-782.02 3368.53,-792.5 3375.41,-791.2\"/>\n</g>\n<!-- 147 -->\n<g id=\"node148\" class=\"node\">\n<title>147</title>\n<polygon fill=\"#e58139\" stroke=\"black\" points=\"3585,-774.5 3448,-774.5 3448,-706.5 3585,-706.5 3585,-774.5\"/>\n<text text-anchor=\"middle\" x=\"3516.5\" y=\"-759.3\" font-family=\"Helvetica,sans-Serif\" font-size=\"14.00\">gini = 0.0</text>\n<text text-anchor=\"middle\" x=\"3516.5\" y=\"-744.3\" font-family=\"Helvetica,sans-Serif\" font-size=\"14.00\">samples = 2</text>\n<text text-anchor=\"middle\" x=\"3516.5\" y=\"-729.3\" font-family=\"Helvetica,sans-Serif\" font-size=\"14.00\">value = [2, 0]</text>\n<text text-anchor=\"middle\" x=\"3516.5\" y=\"-714.3\" font-family=\"Helvetica,sans-Serif\" font-size=\"14.00\">class = not diabetes</text>\n</g>\n<!-- 141&#45;&gt;147 -->\n<g id=\"edge147\" class=\"edge\">\n<title>141&#45;&gt;147</title>\n<path fill=\"none\" stroke=\"black\" d=\"M3430.3,-817.91C3443.62,-806.1 3458.15,-793.22 3471.43,-781.45\"/>\n<polygon fill=\"black\" stroke=\"black\" points=\"3473.92,-783.92 3479.08,-774.67 3469.28,-778.68 3473.92,-783.92\"/>\n</g>\n<!-- 143 -->\n<g id=\"node144\" class=\"node\">\n<title>143</title>\n<polygon fill=\"#ffffff\" stroke=\"black\" points=\"3359,-663 3222,-663 3222,-580 3359,-580 3359,-663\"/>\n<text text-anchor=\"middle\" x=\"3290.5\" y=\"-647.8\" font-family=\"Helvetica,sans-Serif\" font-size=\"14.00\">Insulin &lt;= 116.0</text>\n<text text-anchor=\"middle\" x=\"3290.5\" y=\"-632.8\" font-family=\"Helvetica,sans-Serif\" font-size=\"14.00\">gini = 0.5</text>\n<text text-anchor=\"middle\" x=\"3290.5\" y=\"-617.8\" font-family=\"Helvetica,sans-Serif\" font-size=\"14.00\">samples = 2</text>\n<text text-anchor=\"middle\" x=\"3290.5\" y=\"-602.8\" font-family=\"Helvetica,sans-Serif\" font-size=\"14.00\">value = [1, 1]</text>\n<text text-anchor=\"middle\" x=\"3290.5\" y=\"-587.8\" font-family=\"Helvetica,sans-Serif\" font-size=\"14.00\">class = not diabetes</text>\n</g>\n<!-- 142&#45;&gt;143 -->\n<g id=\"edge143\" class=\"edge\">\n<title>142&#45;&gt;143</title>\n<path fill=\"none\" stroke=\"black\" d=\"M3337.52,-698.91C3332.1,-690.1 3326.32,-680.7 3320.72,-671.61\"/>\n<polygon fill=\"black\" stroke=\"black\" points=\"3323.66,-669.7 3315.44,-663.02 3317.7,-673.37 3323.66,-669.7\"/>\n</g>\n<!-- 146 -->\n<g id=\"node147\" class=\"node\">\n<title>146</title>\n<polygon fill=\"#399de5\" stroke=\"black\" points=\"3491.5,-655.5 3377.5,-655.5 3377.5,-587.5 3491.5,-587.5 3491.5,-655.5\"/>\n<text text-anchor=\"middle\" x=\"3434.5\" y=\"-640.3\" font-family=\"Helvetica,sans-Serif\" font-size=\"14.00\">gini = 0.0</text>\n<text text-anchor=\"middle\" x=\"3434.5\" y=\"-625.3\" font-family=\"Helvetica,sans-Serif\" font-size=\"14.00\">samples = 4</text>\n<text text-anchor=\"middle\" x=\"3434.5\" y=\"-610.3\" font-family=\"Helvetica,sans-Serif\" font-size=\"14.00\">value = [0, 4]</text>\n<text text-anchor=\"middle\" x=\"3434.5\" y=\"-595.3\" font-family=\"Helvetica,sans-Serif\" font-size=\"14.00\">class = diabetes</text>\n</g>\n<!-- 142&#45;&gt;146 -->\n<g id=\"edge146\" class=\"edge\">\n<title>142&#45;&gt;146</title>\n<path fill=\"none\" stroke=\"black\" d=\"M3387.48,-698.91C3394.34,-687.76 3401.79,-675.66 3408.69,-664.44\"/>\n<polygon fill=\"black\" stroke=\"black\" points=\"3411.83,-666.02 3414.09,-655.67 3405.87,-662.35 3411.83,-666.02\"/>\n</g>\n<!-- 144 -->\n<g id=\"node145\" class=\"node\">\n<title>144</title>\n<polygon fill=\"#e58139\" stroke=\"black\" points=\"3287,-536.5 3150,-536.5 3150,-468.5 3287,-468.5 3287,-536.5\"/>\n<text text-anchor=\"middle\" x=\"3218.5\" y=\"-521.3\" font-family=\"Helvetica,sans-Serif\" font-size=\"14.00\">gini = 0.0</text>\n<text text-anchor=\"middle\" x=\"3218.5\" y=\"-506.3\" font-family=\"Helvetica,sans-Serif\" font-size=\"14.00\">samples = 1</text>\n<text text-anchor=\"middle\" x=\"3218.5\" y=\"-491.3\" font-family=\"Helvetica,sans-Serif\" font-size=\"14.00\">value = [1, 0]</text>\n<text text-anchor=\"middle\" x=\"3218.5\" y=\"-476.3\" font-family=\"Helvetica,sans-Serif\" font-size=\"14.00\">class = not diabetes</text>\n</g>\n<!-- 143&#45;&gt;144 -->\n<g id=\"edge144\" class=\"edge\">\n<title>143&#45;&gt;144</title>\n<path fill=\"none\" stroke=\"black\" d=\"M3265.52,-579.91C3258.66,-568.76 3251.21,-556.66 3244.31,-545.44\"/>\n<polygon fill=\"black\" stroke=\"black\" points=\"3247.13,-543.35 3238.91,-536.67 3241.17,-547.02 3247.13,-543.35\"/>\n</g>\n<!-- 145 -->\n<g id=\"node146\" class=\"node\">\n<title>145</title>\n<polygon fill=\"#399de5\" stroke=\"black\" points=\"3419.5,-536.5 3305.5,-536.5 3305.5,-468.5 3419.5,-468.5 3419.5,-536.5\"/>\n<text text-anchor=\"middle\" x=\"3362.5\" y=\"-521.3\" font-family=\"Helvetica,sans-Serif\" font-size=\"14.00\">gini = 0.0</text>\n<text text-anchor=\"middle\" x=\"3362.5\" y=\"-506.3\" font-family=\"Helvetica,sans-Serif\" font-size=\"14.00\">samples = 1</text>\n<text text-anchor=\"middle\" x=\"3362.5\" y=\"-491.3\" font-family=\"Helvetica,sans-Serif\" font-size=\"14.00\">value = [0, 1]</text>\n<text text-anchor=\"middle\" x=\"3362.5\" y=\"-476.3\" font-family=\"Helvetica,sans-Serif\" font-size=\"14.00\">class = diabetes</text>\n</g>\n<!-- 143&#45;&gt;145 -->\n<g id=\"edge145\" class=\"edge\">\n<title>143&#45;&gt;145</title>\n<path fill=\"none\" stroke=\"black\" d=\"M3315.48,-579.91C3322.34,-568.76 3329.79,-556.66 3336.69,-545.44\"/>\n<polygon fill=\"black\" stroke=\"black\" points=\"3339.83,-547.02 3342.09,-536.67 3333.87,-543.35 3339.83,-547.02\"/>\n</g>\n<!-- 151 -->\n<g id=\"node152\" class=\"node\">\n<title>151</title>\n<polygon fill=\"#9fcff2\" stroke=\"black\" points=\"3971,-1258 3816,-1258 3816,-1175 3971,-1175 3971,-1258\"/>\n<text text-anchor=\"middle\" x=\"3893.5\" y=\"-1242.8\" font-family=\"Helvetica,sans-Serif\" font-size=\"14.00\">BloodPressure &lt;= 61.0</text>\n<text text-anchor=\"middle\" x=\"3893.5\" y=\"-1227.8\" font-family=\"Helvetica,sans-Serif\" font-size=\"14.00\">gini = 0.449</text>\n<text text-anchor=\"middle\" x=\"3893.5\" y=\"-1212.8\" font-family=\"Helvetica,sans-Serif\" font-size=\"14.00\">samples = 50</text>\n<text text-anchor=\"middle\" x=\"3893.5\" y=\"-1197.8\" font-family=\"Helvetica,sans-Serif\" font-size=\"14.00\">value = [17, 33]</text>\n<text text-anchor=\"middle\" x=\"3893.5\" y=\"-1182.8\" font-family=\"Helvetica,sans-Serif\" font-size=\"14.00\">class = diabetes</text>\n</g>\n<!-- 150&#45;&gt;151 -->\n<g id=\"edge151\" class=\"edge\">\n<title>150&#45;&gt;151</title>\n<path fill=\"none\" stroke=\"black\" d=\"M3893.5,-1293.91C3893.5,-1285.65 3893.5,-1276.86 3893.5,-1268.3\"/>\n<polygon fill=\"black\" stroke=\"black\" points=\"3897,-1268.02 3893.5,-1258.02 3890,-1268.02 3897,-1268.02\"/>\n</g>\n<!-- 180 -->\n<g id=\"node181\" class=\"node\">\n<title>180</title>\n<polygon fill=\"#399de5\" stroke=\"black\" points=\"4103.5,-1250.5 3989.5,-1250.5 3989.5,-1182.5 4103.5,-1182.5 4103.5,-1250.5\"/>\n<text text-anchor=\"middle\" x=\"4046.5\" y=\"-1235.3\" font-family=\"Helvetica,sans-Serif\" font-size=\"14.00\">gini = 0.0</text>\n<text text-anchor=\"middle\" x=\"4046.5\" y=\"-1220.3\" font-family=\"Helvetica,sans-Serif\" font-size=\"14.00\">samples = 10</text>\n<text text-anchor=\"middle\" x=\"4046.5\" y=\"-1205.3\" font-family=\"Helvetica,sans-Serif\" font-size=\"14.00\">value = [0, 10]</text>\n<text text-anchor=\"middle\" x=\"4046.5\" y=\"-1190.3\" font-family=\"Helvetica,sans-Serif\" font-size=\"14.00\">class = diabetes</text>\n</g>\n<!-- 150&#45;&gt;180 -->\n<g id=\"edge180\" class=\"edge\">\n<title>150&#45;&gt;180</title>\n<path fill=\"none\" stroke=\"black\" d=\"M3946.58,-1293.91C3962.31,-1281.88 3979.5,-1268.73 3995.12,-1256.79\"/>\n<polygon fill=\"black\" stroke=\"black\" points=\"3997.31,-1259.52 4003.13,-1250.67 3993.06,-1253.96 3997.31,-1259.52\"/>\n</g>\n<!-- 152 -->\n<g id=\"node153\" class=\"node\">\n<title>152</title>\n<polygon fill=\"#399de5\" stroke=\"black\" points=\"3944.5,-1131.5 3830.5,-1131.5 3830.5,-1063.5 3944.5,-1063.5 3944.5,-1131.5\"/>\n<text text-anchor=\"middle\" x=\"3887.5\" y=\"-1116.3\" font-family=\"Helvetica,sans-Serif\" font-size=\"14.00\">gini = 0.0</text>\n<text text-anchor=\"middle\" x=\"3887.5\" y=\"-1101.3\" font-family=\"Helvetica,sans-Serif\" font-size=\"14.00\">samples = 9</text>\n<text text-anchor=\"middle\" x=\"3887.5\" y=\"-1086.3\" font-family=\"Helvetica,sans-Serif\" font-size=\"14.00\">value = [0, 9]</text>\n<text text-anchor=\"middle\" x=\"3887.5\" y=\"-1071.3\" font-family=\"Helvetica,sans-Serif\" font-size=\"14.00\">class = diabetes</text>\n</g>\n<!-- 151&#45;&gt;152 -->\n<g id=\"edge152\" class=\"edge\">\n<title>151&#45;&gt;152</title>\n<path fill=\"none\" stroke=\"black\" d=\"M3891.42,-1174.91C3890.87,-1164.2 3890.28,-1152.62 3889.72,-1141.78\"/>\n<polygon fill=\"black\" stroke=\"black\" points=\"3893.21,-1141.47 3889.2,-1131.67 3886.22,-1141.83 3893.21,-1141.47\"/>\n</g>\n<!-- 153 -->\n<g id=\"node154\" class=\"node\">\n<title>153</title>\n<polygon fill=\"#c5e2f7\" stroke=\"black\" points=\"4088,-1139 3963,-1139 3963,-1056 4088,-1056 4088,-1139\"/>\n<text text-anchor=\"middle\" x=\"4025.5\" y=\"-1123.8\" font-family=\"Helvetica,sans-Serif\" font-size=\"14.00\">Glucose &lt;= 136.5</text>\n<text text-anchor=\"middle\" x=\"4025.5\" y=\"-1108.8\" font-family=\"Helvetica,sans-Serif\" font-size=\"14.00\">gini = 0.485</text>\n<text text-anchor=\"middle\" x=\"4025.5\" y=\"-1093.8\" font-family=\"Helvetica,sans-Serif\" font-size=\"14.00\">samples = 41</text>\n<text text-anchor=\"middle\" x=\"4025.5\" y=\"-1078.8\" font-family=\"Helvetica,sans-Serif\" font-size=\"14.00\">value = [17, 24]</text>\n<text text-anchor=\"middle\" x=\"4025.5\" y=\"-1063.8\" font-family=\"Helvetica,sans-Serif\" font-size=\"14.00\">class = diabetes</text>\n</g>\n<!-- 151&#45;&gt;153 -->\n<g id=\"edge153\" class=\"edge\">\n<title>151&#45;&gt;153</title>\n<path fill=\"none\" stroke=\"black\" d=\"M3939.3,-1174.91C3949.84,-1165.56 3961.15,-1155.54 3971.99,-1145.93\"/>\n<polygon fill=\"black\" stroke=\"black\" points=\"3974.62,-1148.27 3979.78,-1139.02 3969.98,-1143.03 3974.62,-1148.27\"/>\n</g>\n<!-- 154 -->\n<g id=\"node155\" class=\"node\">\n<title>154</title>\n<polygon fill=\"#7bbeee\" stroke=\"black\" points=\"4120,-1020 3887,-1020 3887,-937 4120,-937 4120,-1020\"/>\n<text text-anchor=\"middle\" x=\"4003.5\" y=\"-1004.8\" font-family=\"Helvetica,sans-Serif\" font-size=\"14.00\">DiabetesPedigreeFunction &lt;= 0.285</text>\n<text text-anchor=\"middle\" x=\"4003.5\" y=\"-989.8\" font-family=\"Helvetica,sans-Serif\" font-size=\"14.00\">gini = 0.375</text>\n<text text-anchor=\"middle\" x=\"4003.5\" y=\"-974.8\" font-family=\"Helvetica,sans-Serif\" font-size=\"14.00\">samples = 20</text>\n<text text-anchor=\"middle\" x=\"4003.5\" y=\"-959.8\" font-family=\"Helvetica,sans-Serif\" font-size=\"14.00\">value = [5, 15]</text>\n<text text-anchor=\"middle\" x=\"4003.5\" y=\"-944.8\" font-family=\"Helvetica,sans-Serif\" font-size=\"14.00\">class = diabetes</text>\n</g>\n<!-- 153&#45;&gt;154 -->\n<g id=\"edge154\" class=\"edge\">\n<title>153&#45;&gt;154</title>\n<path fill=\"none\" stroke=\"black\" d=\"M4017.87,-1055.91C4016.3,-1047.56 4014.63,-1038.67 4013,-1030.02\"/>\n<polygon fill=\"black\" stroke=\"black\" points=\"4016.41,-1029.2 4011.12,-1020.02 4009.53,-1030.5 4016.41,-1029.2\"/>\n</g>\n<!-- 167 -->\n<g id=\"node168\" class=\"node\">\n<title>167</title>\n<polygon fill=\"#f8e0ce\" stroke=\"black\" points=\"4306,-1020 4169,-1020 4169,-937 4306,-937 4306,-1020\"/>\n<text text-anchor=\"middle\" x=\"4237.5\" y=\"-1004.8\" font-family=\"Helvetica,sans-Serif\" font-size=\"14.00\">BMI &lt;= 37.65</text>\n<text text-anchor=\"middle\" x=\"4237.5\" y=\"-989.8\" font-family=\"Helvetica,sans-Serif\" font-size=\"14.00\">gini = 0.49</text>\n<text text-anchor=\"middle\" x=\"4237.5\" y=\"-974.8\" font-family=\"Helvetica,sans-Serif\" font-size=\"14.00\">samples = 21</text>\n<text text-anchor=\"middle\" x=\"4237.5\" y=\"-959.8\" font-family=\"Helvetica,sans-Serif\" font-size=\"14.00\">value = [12, 9]</text>\n<text text-anchor=\"middle\" x=\"4237.5\" y=\"-944.8\" font-family=\"Helvetica,sans-Serif\" font-size=\"14.00\">class = not diabetes</text>\n</g>\n<!-- 153&#45;&gt;167 -->\n<g id=\"edge167\" class=\"edge\">\n<title>153&#45;&gt;167</title>\n<path fill=\"none\" stroke=\"black\" d=\"M4088.25,-1061.87C4110.77,-1049.44 4136.43,-1035.28 4160.05,-1022.24\"/>\n<polygon fill=\"black\" stroke=\"black\" points=\"4161.93,-1025.21 4168.99,-1017.31 4158.54,-1019.08 4161.93,-1025.21\"/>\n</g>\n<!-- 155 -->\n<g id=\"node156\" class=\"node\">\n<title>155</title>\n<polygon fill=\"#f2c09c\" stroke=\"black\" points=\"3873,-901 3736,-901 3736,-818 3873,-818 3873,-901\"/>\n<text text-anchor=\"middle\" x=\"3804.5\" y=\"-885.8\" font-family=\"Helvetica,sans-Serif\" font-size=\"14.00\">BMI &lt;= 34.4</text>\n<text text-anchor=\"middle\" x=\"3804.5\" y=\"-870.8\" font-family=\"Helvetica,sans-Serif\" font-size=\"14.00\">gini = 0.444</text>\n<text text-anchor=\"middle\" x=\"3804.5\" y=\"-855.8\" font-family=\"Helvetica,sans-Serif\" font-size=\"14.00\">samples = 3</text>\n<text text-anchor=\"middle\" x=\"3804.5\" y=\"-840.8\" font-family=\"Helvetica,sans-Serif\" font-size=\"14.00\">value = [2, 1]</text>\n<text text-anchor=\"middle\" x=\"3804.5\" y=\"-825.8\" font-family=\"Helvetica,sans-Serif\" font-size=\"14.00\">class = not diabetes</text>\n</g>\n<!-- 154&#45;&gt;155 -->\n<g id=\"edge155\" class=\"edge\">\n<title>154&#45;&gt;155</title>\n<path fill=\"none\" stroke=\"black\" d=\"M3934.46,-936.91C3917.54,-926.96 3899.32,-916.25 3882.03,-906.08\"/>\n<polygon fill=\"black\" stroke=\"black\" points=\"3883.48,-902.87 3873.08,-900.82 3879.93,-908.91 3883.48,-902.87\"/>\n</g>\n<!-- 158 -->\n<g id=\"node159\" class=\"node\">\n<title>158</title>\n<polygon fill=\"#63b2eb\" stroke=\"black\" points=\"4060.5,-901 3946.5,-901 3946.5,-818 4060.5,-818 4060.5,-901\"/>\n<text text-anchor=\"middle\" x=\"4003.5\" y=\"-885.8\" font-family=\"Helvetica,sans-Serif\" font-size=\"14.00\">Age &lt;= 24.5</text>\n<text text-anchor=\"middle\" x=\"4003.5\" y=\"-870.8\" font-family=\"Helvetica,sans-Serif\" font-size=\"14.00\">gini = 0.291</text>\n<text text-anchor=\"middle\" x=\"4003.5\" y=\"-855.8\" font-family=\"Helvetica,sans-Serif\" font-size=\"14.00\">samples = 17</text>\n<text text-anchor=\"middle\" x=\"4003.5\" y=\"-840.8\" font-family=\"Helvetica,sans-Serif\" font-size=\"14.00\">value = [3, 14]</text>\n<text text-anchor=\"middle\" x=\"4003.5\" y=\"-825.8\" font-family=\"Helvetica,sans-Serif\" font-size=\"14.00\">class = diabetes</text>\n</g>\n<!-- 154&#45;&gt;158 -->\n<g id=\"edge158\" class=\"edge\">\n<title>154&#45;&gt;158</title>\n<path fill=\"none\" stroke=\"black\" d=\"M4003.5,-936.91C4003.5,-928.65 4003.5,-919.86 4003.5,-911.3\"/>\n<polygon fill=\"black\" stroke=\"black\" points=\"4007,-911.02 4003.5,-901.02 4000,-911.02 4007,-911.02\"/>\n</g>\n<!-- 156 -->\n<g id=\"node157\" class=\"node\">\n<title>156</title>\n<polygon fill=\"#399de5\" stroke=\"black\" points=\"3717.5,-774.5 3603.5,-774.5 3603.5,-706.5 3717.5,-706.5 3717.5,-774.5\"/>\n<text text-anchor=\"middle\" x=\"3660.5\" y=\"-759.3\" font-family=\"Helvetica,sans-Serif\" font-size=\"14.00\">gini = 0.0</text>\n<text text-anchor=\"middle\" x=\"3660.5\" y=\"-744.3\" font-family=\"Helvetica,sans-Serif\" font-size=\"14.00\">samples = 1</text>\n<text text-anchor=\"middle\" x=\"3660.5\" y=\"-729.3\" font-family=\"Helvetica,sans-Serif\" font-size=\"14.00\">value = [0, 1]</text>\n<text text-anchor=\"middle\" x=\"3660.5\" y=\"-714.3\" font-family=\"Helvetica,sans-Serif\" font-size=\"14.00\">class = diabetes</text>\n</g>\n<!-- 155&#45;&gt;156 -->\n<g id=\"edge156\" class=\"edge\">\n<title>155&#45;&gt;156</title>\n<path fill=\"none\" stroke=\"black\" d=\"M3754.54,-817.91C3739.87,-805.99 3723.85,-792.98 3709.26,-781.12\"/>\n<polygon fill=\"black\" stroke=\"black\" points=\"3711.29,-778.26 3701.32,-774.67 3706.87,-783.69 3711.29,-778.26\"/>\n</g>\n<!-- 157 -->\n<g id=\"node158\" class=\"node\">\n<title>157</title>\n<polygon fill=\"#e58139\" stroke=\"black\" points=\"3873,-774.5 3736,-774.5 3736,-706.5 3873,-706.5 3873,-774.5\"/>\n<text text-anchor=\"middle\" x=\"3804.5\" y=\"-759.3\" font-family=\"Helvetica,sans-Serif\" font-size=\"14.00\">gini = 0.0</text>\n<text text-anchor=\"middle\" x=\"3804.5\" y=\"-744.3\" font-family=\"Helvetica,sans-Serif\" font-size=\"14.00\">samples = 2</text>\n<text text-anchor=\"middle\" x=\"3804.5\" y=\"-729.3\" font-family=\"Helvetica,sans-Serif\" font-size=\"14.00\">value = [2, 0]</text>\n<text text-anchor=\"middle\" x=\"3804.5\" y=\"-714.3\" font-family=\"Helvetica,sans-Serif\" font-size=\"14.00\">class = not diabetes</text>\n</g>\n<!-- 155&#45;&gt;157 -->\n<g id=\"edge157\" class=\"edge\">\n<title>155&#45;&gt;157</title>\n<path fill=\"none\" stroke=\"black\" d=\"M3804.5,-817.91C3804.5,-807.2 3804.5,-795.62 3804.5,-784.78\"/>\n<polygon fill=\"black\" stroke=\"black\" points=\"3808,-784.67 3804.5,-774.67 3801,-784.67 3808,-784.67\"/>\n</g>\n<!-- 159 -->\n<g id=\"node160\" class=\"node\">\n<title>159</title>\n<polygon fill=\"#f2c09c\" stroke=\"black\" points=\"4028,-782 3891,-782 3891,-699 4028,-699 4028,-782\"/>\n<text text-anchor=\"middle\" x=\"3959.5\" y=\"-766.8\" font-family=\"Helvetica,sans-Serif\" font-size=\"14.00\">Pregnancies &lt;= 3.0</text>\n<text text-anchor=\"middle\" x=\"3959.5\" y=\"-751.8\" font-family=\"Helvetica,sans-Serif\" font-size=\"14.00\">gini = 0.444</text>\n<text text-anchor=\"middle\" x=\"3959.5\" y=\"-736.8\" font-family=\"Helvetica,sans-Serif\" font-size=\"14.00\">samples = 3</text>\n<text text-anchor=\"middle\" x=\"3959.5\" y=\"-721.8\" font-family=\"Helvetica,sans-Serif\" font-size=\"14.00\">value = [2, 1]</text>\n<text text-anchor=\"middle\" x=\"3959.5\" y=\"-706.8\" font-family=\"Helvetica,sans-Serif\" font-size=\"14.00\">class = not diabetes</text>\n</g>\n<!-- 158&#45;&gt;159 -->\n<g id=\"edge159\" class=\"edge\">\n<title>158&#45;&gt;159</title>\n<path fill=\"none\" stroke=\"black\" d=\"M3988.23,-817.91C3985.03,-809.38 3981.61,-800.28 3978.29,-791.46\"/>\n<polygon fill=\"black\" stroke=\"black\" points=\"3981.53,-790.15 3974.74,-782.02 3974.98,-792.61 3981.53,-790.15\"/>\n</g>\n<!-- 162 -->\n<g id=\"node163\" class=\"node\">\n<title>162</title>\n<polygon fill=\"#48a5e7\" stroke=\"black\" points=\"4180.5,-782 4046.5,-782 4046.5,-699 4180.5,-699 4180.5,-782\"/>\n<text text-anchor=\"middle\" x=\"4113.5\" y=\"-766.8\" font-family=\"Helvetica,sans-Serif\" font-size=\"14.00\">Pregnancies &lt;= 6.5</text>\n<text text-anchor=\"middle\" x=\"4113.5\" y=\"-751.8\" font-family=\"Helvetica,sans-Serif\" font-size=\"14.00\">gini = 0.133</text>\n<text text-anchor=\"middle\" x=\"4113.5\" y=\"-736.8\" font-family=\"Helvetica,sans-Serif\" font-size=\"14.00\">samples = 14</text>\n<text text-anchor=\"middle\" x=\"4113.5\" y=\"-721.8\" font-family=\"Helvetica,sans-Serif\" font-size=\"14.00\">value = [1, 13]</text>\n<text text-anchor=\"middle\" x=\"4113.5\" y=\"-706.8\" font-family=\"Helvetica,sans-Serif\" font-size=\"14.00\">class = diabetes</text>\n</g>\n<!-- 158&#45;&gt;162 -->\n<g id=\"edge162\" class=\"edge\">\n<title>158&#45;&gt;162</title>\n<path fill=\"none\" stroke=\"black\" d=\"M4041.66,-817.91C4050.28,-808.74 4059.51,-798.93 4068.38,-789.49\"/>\n<polygon fill=\"black\" stroke=\"black\" points=\"4071.1,-791.7 4075.4,-782.02 4066,-786.91 4071.1,-791.7\"/>\n</g>\n<!-- 160 -->\n<g id=\"node161\" class=\"node\">\n<title>160</title>\n<polygon fill=\"#e58139\" stroke=\"black\" points=\"3887,-655.5 3750,-655.5 3750,-587.5 3887,-587.5 3887,-655.5\"/>\n<text text-anchor=\"middle\" x=\"3818.5\" y=\"-640.3\" font-family=\"Helvetica,sans-Serif\" font-size=\"14.00\">gini = 0.0</text>\n<text text-anchor=\"middle\" x=\"3818.5\" y=\"-625.3\" font-family=\"Helvetica,sans-Serif\" font-size=\"14.00\">samples = 2</text>\n<text text-anchor=\"middle\" x=\"3818.5\" y=\"-610.3\" font-family=\"Helvetica,sans-Serif\" font-size=\"14.00\">value = [2, 0]</text>\n<text text-anchor=\"middle\" x=\"3818.5\" y=\"-595.3\" font-family=\"Helvetica,sans-Serif\" font-size=\"14.00\">class = not diabetes</text>\n</g>\n<!-- 159&#45;&gt;160 -->\n<g id=\"edge160\" class=\"edge\">\n<title>159&#45;&gt;160</title>\n<path fill=\"none\" stroke=\"black\" d=\"M3910.58,-698.91C3896.22,-686.99 3880.53,-673.98 3866.25,-662.12\"/>\n<polygon fill=\"black\" stroke=\"black\" points=\"3868.4,-659.36 3858.47,-655.67 3863.93,-664.75 3868.4,-659.36\"/>\n</g>\n<!-- 161 -->\n<g id=\"node162\" class=\"node\">\n<title>161</title>\n<polygon fill=\"#399de5\" stroke=\"black\" points=\"4019.5,-655.5 3905.5,-655.5 3905.5,-587.5 4019.5,-587.5 4019.5,-655.5\"/>\n<text text-anchor=\"middle\" x=\"3962.5\" y=\"-640.3\" font-family=\"Helvetica,sans-Serif\" font-size=\"14.00\">gini = 0.0</text>\n<text text-anchor=\"middle\" x=\"3962.5\" y=\"-625.3\" font-family=\"Helvetica,sans-Serif\" font-size=\"14.00\">samples = 1</text>\n<text text-anchor=\"middle\" x=\"3962.5\" y=\"-610.3\" font-family=\"Helvetica,sans-Serif\" font-size=\"14.00\">value = [0, 1]</text>\n<text text-anchor=\"middle\" x=\"3962.5\" y=\"-595.3\" font-family=\"Helvetica,sans-Serif\" font-size=\"14.00\">class = diabetes</text>\n</g>\n<!-- 159&#45;&gt;161 -->\n<g id=\"edge161\" class=\"edge\">\n<title>159&#45;&gt;161</title>\n<path fill=\"none\" stroke=\"black\" d=\"M3960.54,-698.91C3960.82,-688.2 3961.11,-676.62 3961.39,-665.78\"/>\n<polygon fill=\"black\" stroke=\"black\" points=\"3964.89,-665.75 3961.65,-655.67 3957.89,-665.57 3964.89,-665.75\"/>\n</g>\n<!-- 163 -->\n<g id=\"node164\" class=\"node\">\n<title>163</title>\n<polygon fill=\"#399de5\" stroke=\"black\" points=\"4156.5,-655.5 4042.5,-655.5 4042.5,-587.5 4156.5,-587.5 4156.5,-655.5\"/>\n<text text-anchor=\"middle\" x=\"4099.5\" y=\"-640.3\" font-family=\"Helvetica,sans-Serif\" font-size=\"14.00\">gini = 0.0</text>\n<text text-anchor=\"middle\" x=\"4099.5\" y=\"-625.3\" font-family=\"Helvetica,sans-Serif\" font-size=\"14.00\">samples = 12</text>\n<text text-anchor=\"middle\" x=\"4099.5\" y=\"-610.3\" font-family=\"Helvetica,sans-Serif\" font-size=\"14.00\">value = [0, 12]</text>\n<text text-anchor=\"middle\" x=\"4099.5\" y=\"-595.3\" font-family=\"Helvetica,sans-Serif\" font-size=\"14.00\">class = diabetes</text>\n</g>\n<!-- 162&#45;&gt;163 -->\n<g id=\"edge163\" class=\"edge\">\n<title>162&#45;&gt;163</title>\n<path fill=\"none\" stroke=\"black\" d=\"M4108.64,-698.91C4107.36,-688.2 4105.98,-676.62 4104.68,-665.78\"/>\n<polygon fill=\"black\" stroke=\"black\" points=\"4108.13,-665.18 4103.47,-655.67 4101.18,-666.01 4108.13,-665.18\"/>\n</g>\n<!-- 164 -->\n<g id=\"node165\" class=\"node\">\n<title>164</title>\n<polygon fill=\"#ffffff\" stroke=\"black\" points=\"4330,-663 4175,-663 4175,-580 4330,-580 4330,-663\"/>\n<text text-anchor=\"middle\" x=\"4252.5\" y=\"-647.8\" font-family=\"Helvetica,sans-Serif\" font-size=\"14.00\">BloodPressure &lt;= 73.0</text>\n<text text-anchor=\"middle\" x=\"4252.5\" y=\"-632.8\" font-family=\"Helvetica,sans-Serif\" font-size=\"14.00\">gini = 0.5</text>\n<text text-anchor=\"middle\" x=\"4252.5\" y=\"-617.8\" font-family=\"Helvetica,sans-Serif\" font-size=\"14.00\">samples = 2</text>\n<text text-anchor=\"middle\" x=\"4252.5\" y=\"-602.8\" font-family=\"Helvetica,sans-Serif\" font-size=\"14.00\">value = [1, 1]</text>\n<text text-anchor=\"middle\" x=\"4252.5\" y=\"-587.8\" font-family=\"Helvetica,sans-Serif\" font-size=\"14.00\">class = not diabetes</text>\n</g>\n<!-- 162&#45;&gt;164 -->\n<g id=\"edge164\" class=\"edge\">\n<title>162&#45;&gt;164</title>\n<path fill=\"none\" stroke=\"black\" d=\"M4161.73,-698.91C4172.94,-689.47 4184.97,-679.34 4196.49,-669.65\"/>\n<polygon fill=\"black\" stroke=\"black\" points=\"4198.96,-672.14 4204.36,-663.02 4194.46,-666.78 4198.96,-672.14\"/>\n</g>\n<!-- 165 -->\n<g id=\"node166\" class=\"node\">\n<title>165</title>\n<polygon fill=\"#399de5\" stroke=\"black\" points=\"4166.5,-536.5 4052.5,-536.5 4052.5,-468.5 4166.5,-468.5 4166.5,-536.5\"/>\n<text text-anchor=\"middle\" x=\"4109.5\" y=\"-521.3\" font-family=\"Helvetica,sans-Serif\" font-size=\"14.00\">gini = 0.0</text>\n<text text-anchor=\"middle\" x=\"4109.5\" y=\"-506.3\" font-family=\"Helvetica,sans-Serif\" font-size=\"14.00\">samples = 1</text>\n<text text-anchor=\"middle\" x=\"4109.5\" y=\"-491.3\" font-family=\"Helvetica,sans-Serif\" font-size=\"14.00\">value = [0, 1]</text>\n<text text-anchor=\"middle\" x=\"4109.5\" y=\"-476.3\" font-family=\"Helvetica,sans-Serif\" font-size=\"14.00\">class = diabetes</text>\n</g>\n<!-- 164&#45;&gt;165 -->\n<g id=\"edge165\" class=\"edge\">\n<title>164&#45;&gt;165</title>\n<path fill=\"none\" stroke=\"black\" d=\"M4202.89,-579.91C4188.32,-567.99 4172.41,-554.98 4157.92,-543.12\"/>\n<polygon fill=\"black\" stroke=\"black\" points=\"4159.99,-540.29 4150.04,-536.67 4155.56,-545.71 4159.99,-540.29\"/>\n</g>\n<!-- 166 -->\n<g id=\"node167\" class=\"node\">\n<title>166</title>\n<polygon fill=\"#e58139\" stroke=\"black\" points=\"4322,-536.5 4185,-536.5 4185,-468.5 4322,-468.5 4322,-536.5\"/>\n<text text-anchor=\"middle\" x=\"4253.5\" y=\"-521.3\" font-family=\"Helvetica,sans-Serif\" font-size=\"14.00\">gini = 0.0</text>\n<text text-anchor=\"middle\" x=\"4253.5\" y=\"-506.3\" font-family=\"Helvetica,sans-Serif\" font-size=\"14.00\">samples = 1</text>\n<text text-anchor=\"middle\" x=\"4253.5\" y=\"-491.3\" font-family=\"Helvetica,sans-Serif\" font-size=\"14.00\">value = [1, 0]</text>\n<text text-anchor=\"middle\" x=\"4253.5\" y=\"-476.3\" font-family=\"Helvetica,sans-Serif\" font-size=\"14.00\">class = not diabetes</text>\n</g>\n<!-- 164&#45;&gt;166 -->\n<g id=\"edge166\" class=\"edge\">\n<title>164&#45;&gt;166</title>\n<path fill=\"none\" stroke=\"black\" d=\"M4252.85,-579.91C4252.94,-569.2 4253.04,-557.62 4253.13,-546.78\"/>\n<polygon fill=\"black\" stroke=\"black\" points=\"4256.63,-546.7 4253.22,-536.67 4249.63,-546.64 4256.63,-546.7\"/>\n</g>\n<!-- 168 -->\n<g id=\"node169\" class=\"node\">\n<title>168</title>\n<polygon fill=\"#e9965a\" stroke=\"black\" points=\"4336,-901 4199,-901 4199,-818 4336,-818 4336,-901\"/>\n<text text-anchor=\"middle\" x=\"4267.5\" y=\"-885.8\" font-family=\"Helvetica,sans-Serif\" font-size=\"14.00\">Insulin &lt;= 143.0</text>\n<text text-anchor=\"middle\" x=\"4267.5\" y=\"-870.8\" font-family=\"Helvetica,sans-Serif\" font-size=\"14.00\">gini = 0.245</text>\n<text text-anchor=\"middle\" x=\"4267.5\" y=\"-855.8\" font-family=\"Helvetica,sans-Serif\" font-size=\"14.00\">samples = 7</text>\n<text text-anchor=\"middle\" x=\"4267.5\" y=\"-840.8\" font-family=\"Helvetica,sans-Serif\" font-size=\"14.00\">value = [6, 1]</text>\n<text text-anchor=\"middle\" x=\"4267.5\" y=\"-825.8\" font-family=\"Helvetica,sans-Serif\" font-size=\"14.00\">class = not diabetes</text>\n</g>\n<!-- 167&#45;&gt;168 -->\n<g id=\"edge168\" class=\"edge\">\n<title>167&#45;&gt;168</title>\n<path fill=\"none\" stroke=\"black\" d=\"M4247.91,-936.91C4250.07,-928.47 4252.38,-919.48 4254.62,-910.74\"/>\n<polygon fill=\"black\" stroke=\"black\" points=\"4258.02,-911.58 4257.11,-901.02 4251.24,-909.84 4258.02,-911.58\"/>\n</g>\n<!-- 171 -->\n<g id=\"node172\" class=\"node\">\n<title>171</title>\n<polygon fill=\"#cee6f8\" stroke=\"black\" points=\"4610.5,-901 4496.5,-901 4496.5,-818 4610.5,-818 4610.5,-901\"/>\n<text text-anchor=\"middle\" x=\"4553.5\" y=\"-885.8\" font-family=\"Helvetica,sans-Serif\" font-size=\"14.00\">Insulin &lt;= 135.0</text>\n<text text-anchor=\"middle\" x=\"4553.5\" y=\"-870.8\" font-family=\"Helvetica,sans-Serif\" font-size=\"14.00\">gini = 0.49</text>\n<text text-anchor=\"middle\" x=\"4553.5\" y=\"-855.8\" font-family=\"Helvetica,sans-Serif\" font-size=\"14.00\">samples = 14</text>\n<text text-anchor=\"middle\" x=\"4553.5\" y=\"-840.8\" font-family=\"Helvetica,sans-Serif\" font-size=\"14.00\">value = [6, 8]</text>\n<text text-anchor=\"middle\" x=\"4553.5\" y=\"-825.8\" font-family=\"Helvetica,sans-Serif\" font-size=\"14.00\">class = diabetes</text>\n</g>\n<!-- 167&#45;&gt;171 -->\n<g id=\"edge171\" class=\"edge\">\n<title>167&#45;&gt;171</title>\n<path fill=\"none\" stroke=\"black\" d=\"M4306.1,-941.08C4309.26,-939.66 4312.4,-938.29 4315.5,-937 4371.9,-913.49 4438.26,-892.7 4486.56,-878.75\"/>\n<polygon fill=\"black\" stroke=\"black\" points=\"4487.62,-882.08 4496.27,-875.96 4485.69,-875.35 4487.62,-882.08\"/>\n</g>\n<!-- 169 -->\n<g id=\"node170\" class=\"node\">\n<title>169</title>\n<polygon fill=\"#e58139\" stroke=\"black\" points=\"4336,-774.5 4199,-774.5 4199,-706.5 4336,-706.5 4336,-774.5\"/>\n<text text-anchor=\"middle\" x=\"4267.5\" y=\"-759.3\" font-family=\"Helvetica,sans-Serif\" font-size=\"14.00\">gini = 0.0</text>\n<text text-anchor=\"middle\" x=\"4267.5\" y=\"-744.3\" font-family=\"Helvetica,sans-Serif\" font-size=\"14.00\">samples = 6</text>\n<text text-anchor=\"middle\" x=\"4267.5\" y=\"-729.3\" font-family=\"Helvetica,sans-Serif\" font-size=\"14.00\">value = [6, 0]</text>\n<text text-anchor=\"middle\" x=\"4267.5\" y=\"-714.3\" font-family=\"Helvetica,sans-Serif\" font-size=\"14.00\">class = not diabetes</text>\n</g>\n<!-- 168&#45;&gt;169 -->\n<g id=\"edge169\" class=\"edge\">\n<title>168&#45;&gt;169</title>\n<path fill=\"none\" stroke=\"black\" d=\"M4267.5,-817.91C4267.5,-807.2 4267.5,-795.62 4267.5,-784.78\"/>\n<polygon fill=\"black\" stroke=\"black\" points=\"4271,-784.67 4267.5,-774.67 4264,-784.67 4271,-784.67\"/>\n</g>\n<!-- 170 -->\n<g id=\"node171\" class=\"node\">\n<title>170</title>\n<polygon fill=\"#399de5\" stroke=\"black\" points=\"4468.5,-774.5 4354.5,-774.5 4354.5,-706.5 4468.5,-706.5 4468.5,-774.5\"/>\n<text text-anchor=\"middle\" x=\"4411.5\" y=\"-759.3\" font-family=\"Helvetica,sans-Serif\" font-size=\"14.00\">gini = 0.0</text>\n<text text-anchor=\"middle\" x=\"4411.5\" y=\"-744.3\" font-family=\"Helvetica,sans-Serif\" font-size=\"14.00\">samples = 1</text>\n<text text-anchor=\"middle\" x=\"4411.5\" y=\"-729.3\" font-family=\"Helvetica,sans-Serif\" font-size=\"14.00\">value = [0, 1]</text>\n<text text-anchor=\"middle\" x=\"4411.5\" y=\"-714.3\" font-family=\"Helvetica,sans-Serif\" font-size=\"14.00\">class = diabetes</text>\n</g>\n<!-- 168&#45;&gt;170 -->\n<g id=\"edge170\" class=\"edge\">\n<title>168&#45;&gt;170</title>\n<path fill=\"none\" stroke=\"black\" d=\"M4317.46,-817.91C4332.13,-805.99 4348.15,-792.98 4362.74,-781.12\"/>\n<polygon fill=\"black\" stroke=\"black\" points=\"4365.13,-783.69 4370.68,-774.67 4360.71,-778.26 4365.13,-783.69\"/>\n</g>\n<!-- 172 -->\n<g id=\"node173\" class=\"node\">\n<title>172</title>\n<polygon fill=\"#9ccef2\" stroke=\"black\" points=\"4620.5,-782 4486.5,-782 4486.5,-699 4620.5,-699 4620.5,-782\"/>\n<text text-anchor=\"middle\" x=\"4553.5\" y=\"-766.8\" font-family=\"Helvetica,sans-Serif\" font-size=\"14.00\">Pregnancies &lt;= 2.5</text>\n<text text-anchor=\"middle\" x=\"4553.5\" y=\"-751.8\" font-family=\"Helvetica,sans-Serif\" font-size=\"14.00\">gini = 0.444</text>\n<text text-anchor=\"middle\" x=\"4553.5\" y=\"-736.8\" font-family=\"Helvetica,sans-Serif\" font-size=\"14.00\">samples = 12</text>\n<text text-anchor=\"middle\" x=\"4553.5\" y=\"-721.8\" font-family=\"Helvetica,sans-Serif\" font-size=\"14.00\">value = [4, 8]</text>\n<text text-anchor=\"middle\" x=\"4553.5\" y=\"-706.8\" font-family=\"Helvetica,sans-Serif\" font-size=\"14.00\">class = diabetes</text>\n</g>\n<!-- 171&#45;&gt;172 -->\n<g id=\"edge172\" class=\"edge\">\n<title>171&#45;&gt;172</title>\n<path fill=\"none\" stroke=\"black\" d=\"M4553.5,-817.91C4553.5,-809.65 4553.5,-800.86 4553.5,-792.3\"/>\n<polygon fill=\"black\" stroke=\"black\" points=\"4557,-792.02 4553.5,-782.02 4550,-792.02 4557,-792.02\"/>\n</g>\n<!-- 179 -->\n<g id=\"node180\" class=\"node\">\n<title>179</title>\n<polygon fill=\"#e58139\" stroke=\"black\" points=\"4776,-774.5 4639,-774.5 4639,-706.5 4776,-706.5 4776,-774.5\"/>\n<text text-anchor=\"middle\" x=\"4707.5\" y=\"-759.3\" font-family=\"Helvetica,sans-Serif\" font-size=\"14.00\">gini = 0.0</text>\n<text text-anchor=\"middle\" x=\"4707.5\" y=\"-744.3\" font-family=\"Helvetica,sans-Serif\" font-size=\"14.00\">samples = 2</text>\n<text text-anchor=\"middle\" x=\"4707.5\" y=\"-729.3\" font-family=\"Helvetica,sans-Serif\" font-size=\"14.00\">value = [2, 0]</text>\n<text text-anchor=\"middle\" x=\"4707.5\" y=\"-714.3\" font-family=\"Helvetica,sans-Serif\" font-size=\"14.00\">class = not diabetes</text>\n</g>\n<!-- 171&#45;&gt;179 -->\n<g id=\"edge179\" class=\"edge\">\n<title>171&#45;&gt;179</title>\n<path fill=\"none\" stroke=\"black\" d=\"M4606.93,-817.91C4622.76,-805.88 4640.06,-792.73 4655.78,-780.79\"/>\n<polygon fill=\"black\" stroke=\"black\" points=\"4658,-783.5 4663.84,-774.67 4653.76,-777.93 4658,-783.5\"/>\n</g>\n<!-- 173 -->\n<g id=\"node174\" class=\"node\">\n<title>173</title>\n<polygon fill=\"#f8e0ce\" stroke=\"black\" points=\"4566,-663 4411,-663 4411,-580 4566,-580 4566,-663\"/>\n<text text-anchor=\"middle\" x=\"4488.5\" y=\"-647.8\" font-family=\"Helvetica,sans-Serif\" font-size=\"14.00\">BloodPressure &lt;= 76.0</text>\n<text text-anchor=\"middle\" x=\"4488.5\" y=\"-632.8\" font-family=\"Helvetica,sans-Serif\" font-size=\"14.00\">gini = 0.49</text>\n<text text-anchor=\"middle\" x=\"4488.5\" y=\"-617.8\" font-family=\"Helvetica,sans-Serif\" font-size=\"14.00\">samples = 7</text>\n<text text-anchor=\"middle\" x=\"4488.5\" y=\"-602.8\" font-family=\"Helvetica,sans-Serif\" font-size=\"14.00\">value = [4, 3]</text>\n<text text-anchor=\"middle\" x=\"4488.5\" y=\"-587.8\" font-family=\"Helvetica,sans-Serif\" font-size=\"14.00\">class = not diabetes</text>\n</g>\n<!-- 172&#45;&gt;173 -->\n<g id=\"edge173\" class=\"edge\">\n<title>172&#45;&gt;173</title>\n<path fill=\"none\" stroke=\"black\" d=\"M4530.95,-698.91C4526.11,-690.2 4520.94,-680.9 4515.94,-671.89\"/>\n<polygon fill=\"black\" stroke=\"black\" points=\"4518.93,-670.06 4511.01,-663.02 4512.81,-673.46 4518.93,-670.06\"/>\n</g>\n<!-- 178 -->\n<g id=\"node179\" class=\"node\">\n<title>178</title>\n<polygon fill=\"#399de5\" stroke=\"black\" points=\"4698.5,-655.5 4584.5,-655.5 4584.5,-587.5 4698.5,-587.5 4698.5,-655.5\"/>\n<text text-anchor=\"middle\" x=\"4641.5\" y=\"-640.3\" font-family=\"Helvetica,sans-Serif\" font-size=\"14.00\">gini = 0.0</text>\n<text text-anchor=\"middle\" x=\"4641.5\" y=\"-625.3\" font-family=\"Helvetica,sans-Serif\" font-size=\"14.00\">samples = 5</text>\n<text text-anchor=\"middle\" x=\"4641.5\" y=\"-610.3\" font-family=\"Helvetica,sans-Serif\" font-size=\"14.00\">value = [0, 5]</text>\n<text text-anchor=\"middle\" x=\"4641.5\" y=\"-595.3\" font-family=\"Helvetica,sans-Serif\" font-size=\"14.00\">class = diabetes</text>\n</g>\n<!-- 172&#45;&gt;178 -->\n<g id=\"edge178\" class=\"edge\">\n<title>172&#45;&gt;178</title>\n<path fill=\"none\" stroke=\"black\" d=\"M4584.03,-698.91C4592.58,-687.54 4601.88,-675.18 4610.46,-663.77\"/>\n<polygon fill=\"black\" stroke=\"black\" points=\"4613.34,-665.76 4616.55,-655.67 4607.75,-661.55 4613.34,-665.76\"/>\n</g>\n<!-- 174 -->\n<g id=\"node175\" class=\"node\">\n<title>174</title>\n<polygon fill=\"#399de5\" stroke=\"black\" points=\"4464.5,-536.5 4350.5,-536.5 4350.5,-468.5 4464.5,-468.5 4464.5,-536.5\"/>\n<text text-anchor=\"middle\" x=\"4407.5\" y=\"-521.3\" font-family=\"Helvetica,sans-Serif\" font-size=\"14.00\">gini = 0.0</text>\n<text text-anchor=\"middle\" x=\"4407.5\" y=\"-506.3\" font-family=\"Helvetica,sans-Serif\" font-size=\"14.00\">samples = 2</text>\n<text text-anchor=\"middle\" x=\"4407.5\" y=\"-491.3\" font-family=\"Helvetica,sans-Serif\" font-size=\"14.00\">value = [0, 2]</text>\n<text text-anchor=\"middle\" x=\"4407.5\" y=\"-476.3\" font-family=\"Helvetica,sans-Serif\" font-size=\"14.00\">class = diabetes</text>\n</g>\n<!-- 173&#45;&gt;174 -->\n<g id=\"edge174\" class=\"edge\">\n<title>173&#45;&gt;174</title>\n<path fill=\"none\" stroke=\"black\" d=\"M4460.4,-579.91C4452.61,-568.65 4444.14,-556.42 4436.3,-545.11\"/>\n<polygon fill=\"black\" stroke=\"black\" points=\"4439.03,-542.9 4430.46,-536.67 4433.28,-546.88 4439.03,-542.9\"/>\n</g>\n<!-- 175 -->\n<g id=\"node176\" class=\"node\">\n<title>175</title>\n<polygon fill=\"#eca06a\" stroke=\"black\" points=\"4620,-544 4483,-544 4483,-461 4620,-461 4620,-544\"/>\n<text text-anchor=\"middle\" x=\"4551.5\" y=\"-528.8\" font-family=\"Helvetica,sans-Serif\" font-size=\"14.00\">Glucose &lt;= 149.0</text>\n<text text-anchor=\"middle\" x=\"4551.5\" y=\"-513.8\" font-family=\"Helvetica,sans-Serif\" font-size=\"14.00\">gini = 0.32</text>\n<text text-anchor=\"middle\" x=\"4551.5\" y=\"-498.8\" font-family=\"Helvetica,sans-Serif\" font-size=\"14.00\">samples = 5</text>\n<text text-anchor=\"middle\" x=\"4551.5\" y=\"-483.8\" font-family=\"Helvetica,sans-Serif\" font-size=\"14.00\">value = [4, 1]</text>\n<text text-anchor=\"middle\" x=\"4551.5\" y=\"-468.8\" font-family=\"Helvetica,sans-Serif\" font-size=\"14.00\">class = not diabetes</text>\n</g>\n<!-- 173&#45;&gt;175 -->\n<g id=\"edge175\" class=\"edge\">\n<title>173&#45;&gt;175</title>\n<path fill=\"none\" stroke=\"black\" d=\"M4510.36,-579.91C4515.05,-571.2 4520.06,-561.9 4524.9,-552.89\"/>\n<polygon fill=\"black\" stroke=\"black\" points=\"4528.02,-554.48 4529.68,-544.02 4521.86,-551.17 4528.02,-554.48\"/>\n</g>\n<!-- 176 -->\n<g id=\"node177\" class=\"node\">\n<title>176</title>\n<polygon fill=\"#e58139\" stroke=\"black\" points=\"4548,-417.5 4411,-417.5 4411,-349.5 4548,-349.5 4548,-417.5\"/>\n<text text-anchor=\"middle\" x=\"4479.5\" y=\"-402.3\" font-family=\"Helvetica,sans-Serif\" font-size=\"14.00\">gini = 0.0</text>\n<text text-anchor=\"middle\" x=\"4479.5\" y=\"-387.3\" font-family=\"Helvetica,sans-Serif\" font-size=\"14.00\">samples = 4</text>\n<text text-anchor=\"middle\" x=\"4479.5\" y=\"-372.3\" font-family=\"Helvetica,sans-Serif\" font-size=\"14.00\">value = [4, 0]</text>\n<text text-anchor=\"middle\" x=\"4479.5\" y=\"-357.3\" font-family=\"Helvetica,sans-Serif\" font-size=\"14.00\">class = not diabetes</text>\n</g>\n<!-- 175&#45;&gt;176 -->\n<g id=\"edge176\" class=\"edge\">\n<title>175&#45;&gt;176</title>\n<path fill=\"none\" stroke=\"black\" d=\"M4526.52,-460.91C4519.66,-449.76 4512.21,-437.66 4505.31,-426.44\"/>\n<polygon fill=\"black\" stroke=\"black\" points=\"4508.13,-424.35 4499.91,-417.67 4502.17,-428.02 4508.13,-424.35\"/>\n</g>\n<!-- 177 -->\n<g id=\"node178\" class=\"node\">\n<title>177</title>\n<polygon fill=\"#399de5\" stroke=\"black\" points=\"4680.5,-417.5 4566.5,-417.5 4566.5,-349.5 4680.5,-349.5 4680.5,-417.5\"/>\n<text text-anchor=\"middle\" x=\"4623.5\" y=\"-402.3\" font-family=\"Helvetica,sans-Serif\" font-size=\"14.00\">gini = 0.0</text>\n<text text-anchor=\"middle\" x=\"4623.5\" y=\"-387.3\" font-family=\"Helvetica,sans-Serif\" font-size=\"14.00\">samples = 1</text>\n<text text-anchor=\"middle\" x=\"4623.5\" y=\"-372.3\" font-family=\"Helvetica,sans-Serif\" font-size=\"14.00\">value = [0, 1]</text>\n<text text-anchor=\"middle\" x=\"4623.5\" y=\"-357.3\" font-family=\"Helvetica,sans-Serif\" font-size=\"14.00\">class = diabetes</text>\n</g>\n<!-- 175&#45;&gt;177 -->\n<g id=\"edge177\" class=\"edge\">\n<title>175&#45;&gt;177</title>\n<path fill=\"none\" stroke=\"black\" d=\"M4576.48,-460.91C4583.34,-449.76 4590.79,-437.66 4597.69,-426.44\"/>\n<polygon fill=\"black\" stroke=\"black\" points=\"4600.83,-428.02 4603.09,-417.67 4594.87,-424.35 4600.83,-428.02\"/>\n</g>\n<!-- 182 -->\n<g id=\"node183\" class=\"node\">\n<title>182</title>\n<polygon fill=\"#e58139\" stroke=\"black\" points=\"4106,-1369.5 3969,-1369.5 3969,-1301.5 4106,-1301.5 4106,-1369.5\"/>\n<text text-anchor=\"middle\" x=\"4037.5\" y=\"-1354.3\" font-family=\"Helvetica,sans-Serif\" font-size=\"14.00\">gini = 0.0</text>\n<text text-anchor=\"middle\" x=\"4037.5\" y=\"-1339.3\" font-family=\"Helvetica,sans-Serif\" font-size=\"14.00\">samples = 11</text>\n<text text-anchor=\"middle\" x=\"4037.5\" y=\"-1324.3\" font-family=\"Helvetica,sans-Serif\" font-size=\"14.00\">value = [11, 0]</text>\n<text text-anchor=\"middle\" x=\"4037.5\" y=\"-1309.3\" font-family=\"Helvetica,sans-Serif\" font-size=\"14.00\">class = not diabetes</text>\n</g>\n<!-- 181&#45;&gt;182 -->\n<g id=\"edge182\" class=\"edge\">\n<title>181&#45;&gt;182</title>\n<path fill=\"none\" stroke=\"black\" d=\"M4037.5,-1412.91C4037.5,-1402.2 4037.5,-1390.62 4037.5,-1379.78\"/>\n<polygon fill=\"black\" stroke=\"black\" points=\"4041,-1379.67 4037.5,-1369.67 4034,-1379.67 4041,-1379.67\"/>\n</g>\n<!-- 183 -->\n<g id=\"node184\" class=\"node\">\n<title>183</title>\n<polygon fill=\"#fae6d7\" stroke=\"black\" points=\"4357,-1377 4124,-1377 4124,-1294 4357,-1294 4357,-1377\"/>\n<text text-anchor=\"middle\" x=\"4240.5\" y=\"-1361.8\" font-family=\"Helvetica,sans-Serif\" font-size=\"14.00\">DiabetesPedigreeFunction &lt;= 0.532</text>\n<text text-anchor=\"middle\" x=\"4240.5\" y=\"-1346.8\" font-family=\"Helvetica,sans-Serif\" font-size=\"14.00\">gini = 0.494</text>\n<text text-anchor=\"middle\" x=\"4240.5\" y=\"-1331.8\" font-family=\"Helvetica,sans-Serif\" font-size=\"14.00\">samples = 9</text>\n<text text-anchor=\"middle\" x=\"4240.5\" y=\"-1316.8\" font-family=\"Helvetica,sans-Serif\" font-size=\"14.00\">value = [5, 4]</text>\n<text text-anchor=\"middle\" x=\"4240.5\" y=\"-1301.8\" font-family=\"Helvetica,sans-Serif\" font-size=\"14.00\">class = not diabetes</text>\n</g>\n<!-- 181&#45;&gt;183 -->\n<g id=\"edge183\" class=\"edge\">\n<title>181&#45;&gt;183</title>\n<path fill=\"none\" stroke=\"black\" d=\"M4106.23,-1413.89C4123.92,-1403.69 4143.1,-1392.64 4161.28,-1382.16\"/>\n<polygon fill=\"black\" stroke=\"black\" points=\"4163.2,-1385.09 4170.11,-1377.07 4159.7,-1379.03 4163.2,-1385.09\"/>\n</g>\n<!-- 184 -->\n<g id=\"node185\" class=\"node\">\n<title>184</title>\n<polygon fill=\"#6ab6ec\" stroke=\"black\" points=\"4269,-1258 4144,-1258 4144,-1175 4269,-1175 4269,-1258\"/>\n<text text-anchor=\"middle\" x=\"4206.5\" y=\"-1242.8\" font-family=\"Helvetica,sans-Serif\" font-size=\"14.00\">Glucose &lt;= 146.0</text>\n<text text-anchor=\"middle\" x=\"4206.5\" y=\"-1227.8\" font-family=\"Helvetica,sans-Serif\" font-size=\"14.00\">gini = 0.32</text>\n<text text-anchor=\"middle\" x=\"4206.5\" y=\"-1212.8\" font-family=\"Helvetica,sans-Serif\" font-size=\"14.00\">samples = 5</text>\n<text text-anchor=\"middle\" x=\"4206.5\" y=\"-1197.8\" font-family=\"Helvetica,sans-Serif\" font-size=\"14.00\">value = [1, 4]</text>\n<text text-anchor=\"middle\" x=\"4206.5\" y=\"-1182.8\" font-family=\"Helvetica,sans-Serif\" font-size=\"14.00\">class = diabetes</text>\n</g>\n<!-- 183&#45;&gt;184 -->\n<g id=\"edge184\" class=\"edge\">\n<title>183&#45;&gt;184</title>\n<path fill=\"none\" stroke=\"black\" d=\"M4228.7,-1293.91C4226.25,-1285.47 4223.64,-1276.48 4221.1,-1267.74\"/>\n<polygon fill=\"black\" stroke=\"black\" points=\"4224.43,-1266.65 4218.28,-1258.02 4217.7,-1268.6 4224.43,-1266.65\"/>\n</g>\n<!-- 189 -->\n<g id=\"node190\" class=\"node\">\n<title>189</title>\n<polygon fill=\"#e58139\" stroke=\"black\" points=\"4424,-1250.5 4287,-1250.5 4287,-1182.5 4424,-1182.5 4424,-1250.5\"/>\n<text text-anchor=\"middle\" x=\"4355.5\" y=\"-1235.3\" font-family=\"Helvetica,sans-Serif\" font-size=\"14.00\">gini = 0.0</text>\n<text text-anchor=\"middle\" x=\"4355.5\" y=\"-1220.3\" font-family=\"Helvetica,sans-Serif\" font-size=\"14.00\">samples = 4</text>\n<text text-anchor=\"middle\" x=\"4355.5\" y=\"-1205.3\" font-family=\"Helvetica,sans-Serif\" font-size=\"14.00\">value = [4, 0]</text>\n<text text-anchor=\"middle\" x=\"4355.5\" y=\"-1190.3\" font-family=\"Helvetica,sans-Serif\" font-size=\"14.00\">class = not diabetes</text>\n</g>\n<!-- 183&#45;&gt;189 -->\n<g id=\"edge189\" class=\"edge\">\n<title>183&#45;&gt;189</title>\n<path fill=\"none\" stroke=\"black\" d=\"M4280.4,-1293.91C4291.79,-1282.32 4304.19,-1269.7 4315.58,-1258.11\"/>\n<polygon fill=\"black\" stroke=\"black\" points=\"4318.39,-1260.25 4322.9,-1250.67 4313.39,-1255.35 4318.39,-1260.25\"/>\n</g>\n<!-- 185 -->\n<g id=\"node186\" class=\"node\">\n<title>185</title>\n<polygon fill=\"#399de5\" stroke=\"black\" points=\"4263.5,-1131.5 4149.5,-1131.5 4149.5,-1063.5 4263.5,-1063.5 4263.5,-1131.5\"/>\n<text text-anchor=\"middle\" x=\"4206.5\" y=\"-1116.3\" font-family=\"Helvetica,sans-Serif\" font-size=\"14.00\">gini = 0.0</text>\n<text text-anchor=\"middle\" x=\"4206.5\" y=\"-1101.3\" font-family=\"Helvetica,sans-Serif\" font-size=\"14.00\">samples = 3</text>\n<text text-anchor=\"middle\" x=\"4206.5\" y=\"-1086.3\" font-family=\"Helvetica,sans-Serif\" font-size=\"14.00\">value = [0, 3]</text>\n<text text-anchor=\"middle\" x=\"4206.5\" y=\"-1071.3\" font-family=\"Helvetica,sans-Serif\" font-size=\"14.00\">class = diabetes</text>\n</g>\n<!-- 184&#45;&gt;185 -->\n<g id=\"edge185\" class=\"edge\">\n<title>184&#45;&gt;185</title>\n<path fill=\"none\" stroke=\"black\" d=\"M4206.5,-1174.91C4206.5,-1164.2 4206.5,-1152.62 4206.5,-1141.78\"/>\n<polygon fill=\"black\" stroke=\"black\" points=\"4210,-1141.67 4206.5,-1131.67 4203,-1141.67 4210,-1141.67\"/>\n</g>\n<!-- 186 -->\n<g id=\"node187\" class=\"node\">\n<title>186</title>\n<polygon fill=\"#ffffff\" stroke=\"black\" points=\"4458.5,-1139 4304.5,-1139 4304.5,-1056 4458.5,-1056 4458.5,-1139\"/>\n<text text-anchor=\"middle\" x=\"4381.5\" y=\"-1123.8\" font-family=\"Helvetica,sans-Serif\" font-size=\"14.00\">SkinThickness &lt;= 33.0</text>\n<text text-anchor=\"middle\" x=\"4381.5\" y=\"-1108.8\" font-family=\"Helvetica,sans-Serif\" font-size=\"14.00\">gini = 0.5</text>\n<text text-anchor=\"middle\" x=\"4381.5\" y=\"-1093.8\" font-family=\"Helvetica,sans-Serif\" font-size=\"14.00\">samples = 2</text>\n<text text-anchor=\"middle\" x=\"4381.5\" y=\"-1078.8\" font-family=\"Helvetica,sans-Serif\" font-size=\"14.00\">value = [1, 1]</text>\n<text text-anchor=\"middle\" x=\"4381.5\" y=\"-1063.8\" font-family=\"Helvetica,sans-Serif\" font-size=\"14.00\">class = not diabetes</text>\n</g>\n<!-- 184&#45;&gt;186 -->\n<g id=\"edge186\" class=\"edge\">\n<title>184&#45;&gt;186</title>\n<path fill=\"none\" stroke=\"black\" d=\"M4267.22,-1174.91C4281.74,-1165.2 4297.35,-1154.76 4312.23,-1144.81\"/>\n<polygon fill=\"black\" stroke=\"black\" points=\"4314.52,-1147.49 4320.89,-1139.02 4310.63,-1141.67 4314.52,-1147.49\"/>\n</g>\n<!-- 187 -->\n<g id=\"node188\" class=\"node\">\n<title>187</title>\n<polygon fill=\"#399de5\" stroke=\"black\" points=\"4438.5,-1012.5 4324.5,-1012.5 4324.5,-944.5 4438.5,-944.5 4438.5,-1012.5\"/>\n<text text-anchor=\"middle\" x=\"4381.5\" y=\"-997.3\" font-family=\"Helvetica,sans-Serif\" font-size=\"14.00\">gini = 0.0</text>\n<text text-anchor=\"middle\" x=\"4381.5\" y=\"-982.3\" font-family=\"Helvetica,sans-Serif\" font-size=\"14.00\">samples = 1</text>\n<text text-anchor=\"middle\" x=\"4381.5\" y=\"-967.3\" font-family=\"Helvetica,sans-Serif\" font-size=\"14.00\">value = [0, 1]</text>\n<text text-anchor=\"middle\" x=\"4381.5\" y=\"-952.3\" font-family=\"Helvetica,sans-Serif\" font-size=\"14.00\">class = diabetes</text>\n</g>\n<!-- 186&#45;&gt;187 -->\n<g id=\"edge187\" class=\"edge\">\n<title>186&#45;&gt;187</title>\n<path fill=\"none\" stroke=\"black\" d=\"M4381.5,-1055.91C4381.5,-1045.2 4381.5,-1033.62 4381.5,-1022.78\"/>\n<polygon fill=\"black\" stroke=\"black\" points=\"4385,-1022.67 4381.5,-1012.67 4378,-1022.67 4385,-1022.67\"/>\n</g>\n<!-- 188 -->\n<g id=\"node189\" class=\"node\">\n<title>188</title>\n<polygon fill=\"#e58139\" stroke=\"black\" points=\"4594,-1012.5 4457,-1012.5 4457,-944.5 4594,-944.5 4594,-1012.5\"/>\n<text text-anchor=\"middle\" x=\"4525.5\" y=\"-997.3\" font-family=\"Helvetica,sans-Serif\" font-size=\"14.00\">gini = 0.0</text>\n<text text-anchor=\"middle\" x=\"4525.5\" y=\"-982.3\" font-family=\"Helvetica,sans-Serif\" font-size=\"14.00\">samples = 1</text>\n<text text-anchor=\"middle\" x=\"4525.5\" y=\"-967.3\" font-family=\"Helvetica,sans-Serif\" font-size=\"14.00\">value = [1, 0]</text>\n<text text-anchor=\"middle\" x=\"4525.5\" y=\"-952.3\" font-family=\"Helvetica,sans-Serif\" font-size=\"14.00\">class = not diabetes</text>\n</g>\n<!-- 186&#45;&gt;188 -->\n<g id=\"edge188\" class=\"edge\">\n<title>186&#45;&gt;188</title>\n<path fill=\"none\" stroke=\"black\" d=\"M4431.46,-1055.91C4446.13,-1043.99 4462.15,-1030.98 4476.74,-1019.12\"/>\n<polygon fill=\"black\" stroke=\"black\" points=\"4479.13,-1021.69 4484.68,-1012.67 4474.71,-1016.26 4479.13,-1021.69\"/>\n</g>\n<!-- 191 -->\n<g id=\"node192\" class=\"node\">\n<title>191</title>\n<polygon fill=\"#ffffff\" stroke=\"black\" points=\"4701,-1615 4546,-1615 4546,-1532 4701,-1532 4701,-1615\"/>\n<text text-anchor=\"middle\" x=\"4623.5\" y=\"-1599.8\" font-family=\"Helvetica,sans-Serif\" font-size=\"14.00\">BloodPressure &lt;= 77.0</text>\n<text text-anchor=\"middle\" x=\"4623.5\" y=\"-1584.8\" font-family=\"Helvetica,sans-Serif\" font-size=\"14.00\">gini = 0.5</text>\n<text text-anchor=\"middle\" x=\"4623.5\" y=\"-1569.8\" font-family=\"Helvetica,sans-Serif\" font-size=\"14.00\">samples = 14</text>\n<text text-anchor=\"middle\" x=\"4623.5\" y=\"-1554.8\" font-family=\"Helvetica,sans-Serif\" font-size=\"14.00\">value = [7, 7]</text>\n<text text-anchor=\"middle\" x=\"4623.5\" y=\"-1539.8\" font-family=\"Helvetica,sans-Serif\" font-size=\"14.00\">class = not diabetes</text>\n</g>\n<!-- 190&#45;&gt;191 -->\n<g id=\"edge191\" class=\"edge\">\n<title>190&#45;&gt;191</title>\n<path fill=\"none\" stroke=\"black\" d=\"M4623.5,-1650.91C4623.5,-1642.65 4623.5,-1633.86 4623.5,-1625.3\"/>\n<polygon fill=\"black\" stroke=\"black\" points=\"4627,-1625.02 4623.5,-1615.02 4620,-1625.02 4627,-1625.02\"/>\n</g>\n<!-- 198 -->\n<g id=\"node199\" class=\"node\">\n<title>198</title>\n<polygon fill=\"#55abe9\" stroke=\"black\" points=\"5150,-1615 4917,-1615 4917,-1532 5150,-1532 5150,-1615\"/>\n<text text-anchor=\"middle\" x=\"5033.5\" y=\"-1599.8\" font-family=\"Helvetica,sans-Serif\" font-size=\"14.00\">DiabetesPedigreeFunction &lt;= 0.343</text>\n<text text-anchor=\"middle\" x=\"5033.5\" y=\"-1584.8\" font-family=\"Helvetica,sans-Serif\" font-size=\"14.00\">gini = 0.216</text>\n<text text-anchor=\"middle\" x=\"5033.5\" y=\"-1569.8\" font-family=\"Helvetica,sans-Serif\" font-size=\"14.00\">samples = 81</text>\n<text text-anchor=\"middle\" x=\"5033.5\" y=\"-1554.8\" font-family=\"Helvetica,sans-Serif\" font-size=\"14.00\">value = [10, 71]</text>\n<text text-anchor=\"middle\" x=\"5033.5\" y=\"-1539.8\" font-family=\"Helvetica,sans-Serif\" font-size=\"14.00\">class = diabetes</text>\n</g>\n<!-- 190&#45;&gt;198 -->\n<g id=\"edge198\" class=\"edge\">\n<title>190&#45;&gt;198</title>\n<path fill=\"none\" stroke=\"black\" d=\"M4680.51,-1675.23C4738.85,-1658.58 4831.44,-1632.16 4907.15,-1610.55\"/>\n<polygon fill=\"black\" stroke=\"black\" points=\"4908.12,-1613.92 4916.77,-1607.81 4906.2,-1607.19 4908.12,-1613.92\"/>\n</g>\n<!-- 192 -->\n<g id=\"node193\" class=\"node\">\n<title>192</title>\n<polygon fill=\"#8ec7f0\" stroke=\"black\" points=\"4611,-1496 4486,-1496 4486,-1413 4611,-1413 4611,-1496\"/>\n<text text-anchor=\"middle\" x=\"4548.5\" y=\"-1480.8\" font-family=\"Helvetica,sans-Serif\" font-size=\"14.00\">Glucose &lt;= 160.0</text>\n<text text-anchor=\"middle\" x=\"4548.5\" y=\"-1465.8\" font-family=\"Helvetica,sans-Serif\" font-size=\"14.00\">gini = 0.42</text>\n<text text-anchor=\"middle\" x=\"4548.5\" y=\"-1450.8\" font-family=\"Helvetica,sans-Serif\" font-size=\"14.00\">samples = 10</text>\n<text text-anchor=\"middle\" x=\"4548.5\" y=\"-1435.8\" font-family=\"Helvetica,sans-Serif\" font-size=\"14.00\">value = [3, 7]</text>\n<text text-anchor=\"middle\" x=\"4548.5\" y=\"-1420.8\" font-family=\"Helvetica,sans-Serif\" font-size=\"14.00\">class = diabetes</text>\n</g>\n<!-- 191&#45;&gt;192 -->\n<g id=\"edge192\" class=\"edge\">\n<title>191&#45;&gt;192</title>\n<path fill=\"none\" stroke=\"black\" d=\"M4597.48,-1531.91C4591.84,-1523.1 4585.81,-1513.7 4579.98,-1504.61\"/>\n<polygon fill=\"black\" stroke=\"black\" points=\"4582.82,-1502.55 4574.47,-1496.02 4576.93,-1506.33 4582.82,-1502.55\"/>\n</g>\n<!-- 197 -->\n<g id=\"node198\" class=\"node\">\n<title>197</title>\n<polygon fill=\"#e58139\" stroke=\"black\" points=\"4766,-1488.5 4629,-1488.5 4629,-1420.5 4766,-1420.5 4766,-1488.5\"/>\n<text text-anchor=\"middle\" x=\"4697.5\" y=\"-1473.3\" font-family=\"Helvetica,sans-Serif\" font-size=\"14.00\">gini = 0.0</text>\n<text text-anchor=\"middle\" x=\"4697.5\" y=\"-1458.3\" font-family=\"Helvetica,sans-Serif\" font-size=\"14.00\">samples = 4</text>\n<text text-anchor=\"middle\" x=\"4697.5\" y=\"-1443.3\" font-family=\"Helvetica,sans-Serif\" font-size=\"14.00\">value = [4, 0]</text>\n<text text-anchor=\"middle\" x=\"4697.5\" y=\"-1428.3\" font-family=\"Helvetica,sans-Serif\" font-size=\"14.00\">class = not diabetes</text>\n</g>\n<!-- 191&#45;&gt;197 -->\n<g id=\"edge197\" class=\"edge\">\n<title>191&#45;&gt;197</title>\n<path fill=\"none\" stroke=\"black\" d=\"M4649.17,-1531.91C4656.22,-1520.76 4663.88,-1508.66 4670.97,-1497.44\"/>\n<polygon fill=\"black\" stroke=\"black\" points=\"4674.14,-1498.99 4676.52,-1488.67 4668.22,-1495.25 4674.14,-1498.99\"/>\n</g>\n<!-- 193 -->\n<g id=\"node194\" class=\"node\">\n<title>193</title>\n<polygon fill=\"#e58139\" stroke=\"black\" points=\"4545,-1369.5 4408,-1369.5 4408,-1301.5 4545,-1301.5 4545,-1369.5\"/>\n<text text-anchor=\"middle\" x=\"4476.5\" y=\"-1354.3\" font-family=\"Helvetica,sans-Serif\" font-size=\"14.00\">gini = 0.0</text>\n<text text-anchor=\"middle\" x=\"4476.5\" y=\"-1339.3\" font-family=\"Helvetica,sans-Serif\" font-size=\"14.00\">samples = 2</text>\n<text text-anchor=\"middle\" x=\"4476.5\" y=\"-1324.3\" font-family=\"Helvetica,sans-Serif\" font-size=\"14.00\">value = [2, 0]</text>\n<text text-anchor=\"middle\" x=\"4476.5\" y=\"-1309.3\" font-family=\"Helvetica,sans-Serif\" font-size=\"14.00\">class = not diabetes</text>\n</g>\n<!-- 192&#45;&gt;193 -->\n<g id=\"edge193\" class=\"edge\">\n<title>192&#45;&gt;193</title>\n<path fill=\"none\" stroke=\"black\" d=\"M4523.52,-1412.91C4516.66,-1401.76 4509.21,-1389.66 4502.31,-1378.44\"/>\n<polygon fill=\"black\" stroke=\"black\" points=\"4505.13,-1376.35 4496.91,-1369.67 4499.17,-1380.02 4505.13,-1376.35\"/>\n</g>\n<!-- 194 -->\n<g id=\"node195\" class=\"node\">\n<title>194</title>\n<polygon fill=\"#55abe9\" stroke=\"black\" points=\"4677.5,-1377 4563.5,-1377 4563.5,-1294 4677.5,-1294 4677.5,-1377\"/>\n<text text-anchor=\"middle\" x=\"4620.5\" y=\"-1361.8\" font-family=\"Helvetica,sans-Serif\" font-size=\"14.00\">Age &lt;= 28.0</text>\n<text text-anchor=\"middle\" x=\"4620.5\" y=\"-1346.8\" font-family=\"Helvetica,sans-Serif\" font-size=\"14.00\">gini = 0.219</text>\n<text text-anchor=\"middle\" x=\"4620.5\" y=\"-1331.8\" font-family=\"Helvetica,sans-Serif\" font-size=\"14.00\">samples = 8</text>\n<text text-anchor=\"middle\" x=\"4620.5\" y=\"-1316.8\" font-family=\"Helvetica,sans-Serif\" font-size=\"14.00\">value = [1, 7]</text>\n<text text-anchor=\"middle\" x=\"4620.5\" y=\"-1301.8\" font-family=\"Helvetica,sans-Serif\" font-size=\"14.00\">class = diabetes</text>\n</g>\n<!-- 192&#45;&gt;194 -->\n<g id=\"edge194\" class=\"edge\">\n<title>192&#45;&gt;194</title>\n<path fill=\"none\" stroke=\"black\" d=\"M4573.48,-1412.91C4578.9,-1404.1 4584.68,-1394.7 4590.28,-1385.61\"/>\n<polygon fill=\"black\" stroke=\"black\" points=\"4593.3,-1387.37 4595.56,-1377.02 4587.34,-1383.7 4593.3,-1387.37\"/>\n</g>\n<!-- 195 -->\n<g id=\"node196\" class=\"node\">\n<title>195</title>\n<polygon fill=\"#e58139\" stroke=\"black\" points=\"4579,-1250.5 4442,-1250.5 4442,-1182.5 4579,-1182.5 4579,-1250.5\"/>\n<text text-anchor=\"middle\" x=\"4510.5\" y=\"-1235.3\" font-family=\"Helvetica,sans-Serif\" font-size=\"14.00\">gini = 0.0</text>\n<text text-anchor=\"middle\" x=\"4510.5\" y=\"-1220.3\" font-family=\"Helvetica,sans-Serif\" font-size=\"14.00\">samples = 1</text>\n<text text-anchor=\"middle\" x=\"4510.5\" y=\"-1205.3\" font-family=\"Helvetica,sans-Serif\" font-size=\"14.00\">value = [1, 0]</text>\n<text text-anchor=\"middle\" x=\"4510.5\" y=\"-1190.3\" font-family=\"Helvetica,sans-Serif\" font-size=\"14.00\">class = not diabetes</text>\n</g>\n<!-- 194&#45;&gt;195 -->\n<g id=\"edge195\" class=\"edge\">\n<title>194&#45;&gt;195</title>\n<path fill=\"none\" stroke=\"black\" d=\"M4582.34,-1293.91C4571.44,-1282.32 4559.57,-1269.7 4548.68,-1258.11\"/>\n<polygon fill=\"black\" stroke=\"black\" points=\"4551.08,-1255.56 4541.68,-1250.67 4545.98,-1260.35 4551.08,-1255.56\"/>\n</g>\n<!-- 196 -->\n<g id=\"node197\" class=\"node\">\n<title>196</title>\n<polygon fill=\"#399de5\" stroke=\"black\" points=\"4711.5,-1250.5 4597.5,-1250.5 4597.5,-1182.5 4711.5,-1182.5 4711.5,-1250.5\"/>\n<text text-anchor=\"middle\" x=\"4654.5\" y=\"-1235.3\" font-family=\"Helvetica,sans-Serif\" font-size=\"14.00\">gini = 0.0</text>\n<text text-anchor=\"middle\" x=\"4654.5\" y=\"-1220.3\" font-family=\"Helvetica,sans-Serif\" font-size=\"14.00\">samples = 7</text>\n<text text-anchor=\"middle\" x=\"4654.5\" y=\"-1205.3\" font-family=\"Helvetica,sans-Serif\" font-size=\"14.00\">value = [0, 7]</text>\n<text text-anchor=\"middle\" x=\"4654.5\" y=\"-1190.3\" font-family=\"Helvetica,sans-Serif\" font-size=\"14.00\">class = diabetes</text>\n</g>\n<!-- 194&#45;&gt;196 -->\n<g id=\"edge196\" class=\"edge\">\n<title>194&#45;&gt;196</title>\n<path fill=\"none\" stroke=\"black\" d=\"M4632.3,-1293.91C4635.44,-1283.09 4638.84,-1271.38 4642.02,-1260.44\"/>\n<polygon fill=\"black\" stroke=\"black\" points=\"4645.43,-1261.25 4644.86,-1250.67 4638.71,-1259.29 4645.43,-1261.25\"/>\n</g>\n<!-- 199 -->\n<g id=\"node200\" class=\"node\">\n<title>199</title>\n<polygon fill=\"#78bced\" stroke=\"black\" points=\"5090.5,-1496 4976.5,-1496 4976.5,-1413 5090.5,-1413 5090.5,-1496\"/>\n<text text-anchor=\"middle\" x=\"5033.5\" y=\"-1480.8\" font-family=\"Helvetica,sans-Serif\" font-size=\"14.00\">Age &lt;= 27.0</text>\n<text text-anchor=\"middle\" x=\"5033.5\" y=\"-1465.8\" font-family=\"Helvetica,sans-Serif\" font-size=\"14.00\">gini = 0.366</text>\n<text text-anchor=\"middle\" x=\"5033.5\" y=\"-1450.8\" font-family=\"Helvetica,sans-Serif\" font-size=\"14.00\">samples = 29</text>\n<text text-anchor=\"middle\" x=\"5033.5\" y=\"-1435.8\" font-family=\"Helvetica,sans-Serif\" font-size=\"14.00\">value = [7, 22]</text>\n<text text-anchor=\"middle\" x=\"5033.5\" y=\"-1420.8\" font-family=\"Helvetica,sans-Serif\" font-size=\"14.00\">class = diabetes</text>\n</g>\n<!-- 198&#45;&gt;199 -->\n<g id=\"edge199\" class=\"edge\">\n<title>198&#45;&gt;199</title>\n<path fill=\"none\" stroke=\"black\" d=\"M5033.5,-1531.91C5033.5,-1523.65 5033.5,-1514.86 5033.5,-1506.3\"/>\n<polygon fill=\"black\" stroke=\"black\" points=\"5037,-1506.02 5033.5,-1496.02 5030,-1506.02 5037,-1506.02\"/>\n</g>\n<!-- 214 -->\n<g id=\"node215\" class=\"node\">\n<title>214</title>\n<polygon fill=\"#45a3e7\" stroke=\"black\" points=\"5323.5,-1496 5209.5,-1496 5209.5,-1413 5323.5,-1413 5323.5,-1496\"/>\n<text text-anchor=\"middle\" x=\"5266.5\" y=\"-1480.8\" font-family=\"Helvetica,sans-Serif\" font-size=\"14.00\">Age &lt;= 44.0</text>\n<text text-anchor=\"middle\" x=\"5266.5\" y=\"-1465.8\" font-family=\"Helvetica,sans-Serif\" font-size=\"14.00\">gini = 0.109</text>\n<text text-anchor=\"middle\" x=\"5266.5\" y=\"-1450.8\" font-family=\"Helvetica,sans-Serif\" font-size=\"14.00\">samples = 52</text>\n<text text-anchor=\"middle\" x=\"5266.5\" y=\"-1435.8\" font-family=\"Helvetica,sans-Serif\" font-size=\"14.00\">value = [3, 49]</text>\n<text text-anchor=\"middle\" x=\"5266.5\" y=\"-1420.8\" font-family=\"Helvetica,sans-Serif\" font-size=\"14.00\">class = diabetes</text>\n</g>\n<!-- 198&#45;&gt;214 -->\n<g id=\"edge214\" class=\"edge\">\n<title>198&#45;&gt;214</title>\n<path fill=\"none\" stroke=\"black\" d=\"M5114.34,-1531.91C5142.32,-1517.86 5173.34,-1502.28 5200.04,-1488.87\"/>\n<polygon fill=\"black\" stroke=\"black\" points=\"5201.92,-1491.85 5209.29,-1484.23 5198.78,-1485.59 5201.92,-1491.85\"/>\n</g>\n<!-- 200 -->\n<g id=\"node201\" class=\"node\">\n<title>200</title>\n<polygon fill=\"#f6d5bd\" stroke=\"black\" points=\"4940,-1377 4707,-1377 4707,-1294 4940,-1294 4940,-1377\"/>\n<text text-anchor=\"middle\" x=\"4823.5\" y=\"-1361.8\" font-family=\"Helvetica,sans-Serif\" font-size=\"14.00\">DiabetesPedigreeFunction &lt;= 0.241</text>\n<text text-anchor=\"middle\" x=\"4823.5\" y=\"-1346.8\" font-family=\"Helvetica,sans-Serif\" font-size=\"14.00\">gini = 0.48</text>\n<text text-anchor=\"middle\" x=\"4823.5\" y=\"-1331.8\" font-family=\"Helvetica,sans-Serif\" font-size=\"14.00\">samples = 5</text>\n<text text-anchor=\"middle\" x=\"4823.5\" y=\"-1316.8\" font-family=\"Helvetica,sans-Serif\" font-size=\"14.00\">value = [3, 2]</text>\n<text text-anchor=\"middle\" x=\"4823.5\" y=\"-1301.8\" font-family=\"Helvetica,sans-Serif\" font-size=\"14.00\">class = not diabetes</text>\n</g>\n<!-- 199&#45;&gt;200 -->\n<g id=\"edge200\" class=\"edge\">\n<title>199&#45;&gt;200</title>\n<path fill=\"none\" stroke=\"black\" d=\"M4976.39,-1421.68C4954.53,-1409.5 4929.14,-1395.36 4905.41,-1382.14\"/>\n<polygon fill=\"black\" stroke=\"black\" points=\"4906.85,-1378.93 4896.41,-1377.12 4903.44,-1385.04 4906.85,-1378.93\"/>\n</g>\n<!-- 203 -->\n<g id=\"node204\" class=\"node\">\n<title>203</title>\n<polygon fill=\"#61b1ea\" stroke=\"black\" points=\"5191,-1377 4958,-1377 4958,-1294 5191,-1294 5191,-1377\"/>\n<text text-anchor=\"middle\" x=\"5074.5\" y=\"-1361.8\" font-family=\"Helvetica,sans-Serif\" font-size=\"14.00\">DiabetesPedigreeFunction &lt;= 0.336</text>\n<text text-anchor=\"middle\" x=\"5074.5\" y=\"-1346.8\" font-family=\"Helvetica,sans-Serif\" font-size=\"14.00\">gini = 0.278</text>\n<text text-anchor=\"middle\" x=\"5074.5\" y=\"-1331.8\" font-family=\"Helvetica,sans-Serif\" font-size=\"14.00\">samples = 24</text>\n<text text-anchor=\"middle\" x=\"5074.5\" y=\"-1316.8\" font-family=\"Helvetica,sans-Serif\" font-size=\"14.00\">value = [4, 20]</text>\n<text text-anchor=\"middle\" x=\"5074.5\" y=\"-1301.8\" font-family=\"Helvetica,sans-Serif\" font-size=\"14.00\">class = diabetes</text>\n</g>\n<!-- 199&#45;&gt;203 -->\n<g id=\"edge203\" class=\"edge\">\n<title>199&#45;&gt;203</title>\n<path fill=\"none\" stroke=\"black\" d=\"M5047.72,-1412.91C5050.68,-1404.47 5053.83,-1395.48 5056.9,-1386.74\"/>\n<polygon fill=\"black\" stroke=\"black\" points=\"5060.3,-1387.62 5060.3,-1377.02 5053.69,-1385.3 5060.3,-1387.62\"/>\n</g>\n<!-- 201 -->\n<g id=\"node202\" class=\"node\">\n<title>201</title>\n<polygon fill=\"#399de5\" stroke=\"black\" points=\"4843.5,-1250.5 4729.5,-1250.5 4729.5,-1182.5 4843.5,-1182.5 4843.5,-1250.5\"/>\n<text text-anchor=\"middle\" x=\"4786.5\" y=\"-1235.3\" font-family=\"Helvetica,sans-Serif\" font-size=\"14.00\">gini = 0.0</text>\n<text text-anchor=\"middle\" x=\"4786.5\" y=\"-1220.3\" font-family=\"Helvetica,sans-Serif\" font-size=\"14.00\">samples = 2</text>\n<text text-anchor=\"middle\" x=\"4786.5\" y=\"-1205.3\" font-family=\"Helvetica,sans-Serif\" font-size=\"14.00\">value = [0, 2]</text>\n<text text-anchor=\"middle\" x=\"4786.5\" y=\"-1190.3\" font-family=\"Helvetica,sans-Serif\" font-size=\"14.00\">class = diabetes</text>\n</g>\n<!-- 200&#45;&gt;201 -->\n<g id=\"edge201\" class=\"edge\">\n<title>200&#45;&gt;201</title>\n<path fill=\"none\" stroke=\"black\" d=\"M4810.66,-1293.91C4807.24,-1283.09 4803.54,-1271.38 4800.08,-1260.44\"/>\n<polygon fill=\"black\" stroke=\"black\" points=\"4803.34,-1259.15 4796.99,-1250.67 4796.67,-1261.26 4803.34,-1259.15\"/>\n</g>\n<!-- 202 -->\n<g id=\"node203\" class=\"node\">\n<title>202</title>\n<polygon fill=\"#e58139\" stroke=\"black\" points=\"4999,-1250.5 4862,-1250.5 4862,-1182.5 4999,-1182.5 4999,-1250.5\"/>\n<text text-anchor=\"middle\" x=\"4930.5\" y=\"-1235.3\" font-family=\"Helvetica,sans-Serif\" font-size=\"14.00\">gini = 0.0</text>\n<text text-anchor=\"middle\" x=\"4930.5\" y=\"-1220.3\" font-family=\"Helvetica,sans-Serif\" font-size=\"14.00\">samples = 3</text>\n<text text-anchor=\"middle\" x=\"4930.5\" y=\"-1205.3\" font-family=\"Helvetica,sans-Serif\" font-size=\"14.00\">value = [3, 0]</text>\n<text text-anchor=\"middle\" x=\"4930.5\" y=\"-1190.3\" font-family=\"Helvetica,sans-Serif\" font-size=\"14.00\">class = not diabetes</text>\n</g>\n<!-- 200&#45;&gt;202 -->\n<g id=\"edge202\" class=\"edge\">\n<title>200&#45;&gt;202</title>\n<path fill=\"none\" stroke=\"black\" d=\"M4860.62,-1293.91C4871.22,-1282.32 4882.76,-1269.7 4893.36,-1258.11\"/>\n<polygon fill=\"black\" stroke=\"black\" points=\"4896,-1260.41 4900.17,-1250.67 4890.84,-1255.68 4896,-1260.41\"/>\n</g>\n<!-- 204 -->\n<g id=\"node205\" class=\"node\">\n<title>204</title>\n<polygon fill=\"#57ace9\" stroke=\"black\" points=\"5131.5,-1258 5017.5,-1258 5017.5,-1175 5131.5,-1175 5131.5,-1258\"/>\n<text text-anchor=\"middle\" x=\"5074.5\" y=\"-1242.8\" font-family=\"Helvetica,sans-Serif\" font-size=\"14.00\">Age &lt;= 56.5</text>\n<text text-anchor=\"middle\" x=\"5074.5\" y=\"-1227.8\" font-family=\"Helvetica,sans-Serif\" font-size=\"14.00\">gini = 0.227</text>\n<text text-anchor=\"middle\" x=\"5074.5\" y=\"-1212.8\" font-family=\"Helvetica,sans-Serif\" font-size=\"14.00\">samples = 23</text>\n<text text-anchor=\"middle\" x=\"5074.5\" y=\"-1197.8\" font-family=\"Helvetica,sans-Serif\" font-size=\"14.00\">value = [3, 20]</text>\n<text text-anchor=\"middle\" x=\"5074.5\" y=\"-1182.8\" font-family=\"Helvetica,sans-Serif\" font-size=\"14.00\">class = diabetes</text>\n</g>\n<!-- 203&#45;&gt;204 -->\n<g id=\"edge204\" class=\"edge\">\n<title>203&#45;&gt;204</title>\n<path fill=\"none\" stroke=\"black\" d=\"M5074.5,-1293.91C5074.5,-1285.65 5074.5,-1276.86 5074.5,-1268.3\"/>\n<polygon fill=\"black\" stroke=\"black\" points=\"5078,-1268.02 5074.5,-1258.02 5071,-1268.02 5078,-1268.02\"/>\n</g>\n<!-- 213 -->\n<g id=\"node214\" class=\"node\">\n<title>213</title>\n<polygon fill=\"#e58139\" stroke=\"black\" points=\"5287,-1250.5 5150,-1250.5 5150,-1182.5 5287,-1182.5 5287,-1250.5\"/>\n<text text-anchor=\"middle\" x=\"5218.5\" y=\"-1235.3\" font-family=\"Helvetica,sans-Serif\" font-size=\"14.00\">gini = 0.0</text>\n<text text-anchor=\"middle\" x=\"5218.5\" y=\"-1220.3\" font-family=\"Helvetica,sans-Serif\" font-size=\"14.00\">samples = 1</text>\n<text text-anchor=\"middle\" x=\"5218.5\" y=\"-1205.3\" font-family=\"Helvetica,sans-Serif\" font-size=\"14.00\">value = [1, 0]</text>\n<text text-anchor=\"middle\" x=\"5218.5\" y=\"-1190.3\" font-family=\"Helvetica,sans-Serif\" font-size=\"14.00\">class = not diabetes</text>\n</g>\n<!-- 203&#45;&gt;213 -->\n<g id=\"edge213\" class=\"edge\">\n<title>203&#45;&gt;213</title>\n<path fill=\"none\" stroke=\"black\" d=\"M5124.46,-1293.91C5139.13,-1281.99 5155.15,-1268.98 5169.74,-1257.12\"/>\n<polygon fill=\"black\" stroke=\"black\" points=\"5172.13,-1259.69 5177.68,-1250.67 5167.71,-1254.26 5172.13,-1259.69\"/>\n</g>\n<!-- 205 -->\n<g id=\"node206\" class=\"node\">\n<title>205</title>\n<polygon fill=\"#4da7e8\" stroke=\"black\" points=\"4998.5,-1139 4884.5,-1139 4884.5,-1056 4998.5,-1056 4998.5,-1139\"/>\n<text text-anchor=\"middle\" x=\"4941.5\" y=\"-1123.8\" font-family=\"Helvetica,sans-Serif\" font-size=\"14.00\">Age &lt;= 37.5</text>\n<text text-anchor=\"middle\" x=\"4941.5\" y=\"-1108.8\" font-family=\"Helvetica,sans-Serif\" font-size=\"14.00\">gini = 0.165</text>\n<text text-anchor=\"middle\" x=\"4941.5\" y=\"-1093.8\" font-family=\"Helvetica,sans-Serif\" font-size=\"14.00\">samples = 22</text>\n<text text-anchor=\"middle\" x=\"4941.5\" y=\"-1078.8\" font-family=\"Helvetica,sans-Serif\" font-size=\"14.00\">value = [2, 20]</text>\n<text text-anchor=\"middle\" x=\"4941.5\" y=\"-1063.8\" font-family=\"Helvetica,sans-Serif\" font-size=\"14.00\">class = diabetes</text>\n</g>\n<!-- 204&#45;&gt;205 -->\n<g id=\"edge205\" class=\"edge\">\n<title>204&#45;&gt;205</title>\n<path fill=\"none\" stroke=\"black\" d=\"M5028.36,-1174.91C5017.63,-1165.47 5006.12,-1155.34 4995.1,-1145.65\"/>\n<polygon fill=\"black\" stroke=\"black\" points=\"4997.38,-1143 4987.56,-1139.02 4992.76,-1148.25 4997.38,-1143\"/>\n</g>\n<!-- 212 -->\n<g id=\"node213\" class=\"node\">\n<title>212</title>\n<polygon fill=\"#e58139\" stroke=\"black\" points=\"5154,-1131.5 5017,-1131.5 5017,-1063.5 5154,-1063.5 5154,-1131.5\"/>\n<text text-anchor=\"middle\" x=\"5085.5\" y=\"-1116.3\" font-family=\"Helvetica,sans-Serif\" font-size=\"14.00\">gini = 0.0</text>\n<text text-anchor=\"middle\" x=\"5085.5\" y=\"-1101.3\" font-family=\"Helvetica,sans-Serif\" font-size=\"14.00\">samples = 1</text>\n<text text-anchor=\"middle\" x=\"5085.5\" y=\"-1086.3\" font-family=\"Helvetica,sans-Serif\" font-size=\"14.00\">value = [1, 0]</text>\n<text text-anchor=\"middle\" x=\"5085.5\" y=\"-1071.3\" font-family=\"Helvetica,sans-Serif\" font-size=\"14.00\">class = not diabetes</text>\n</g>\n<!-- 204&#45;&gt;212 -->\n<g id=\"edge212\" class=\"edge\">\n<title>204&#45;&gt;212</title>\n<path fill=\"none\" stroke=\"black\" d=\"M5078.32,-1174.91C5079.32,-1164.2 5080.41,-1152.62 5081.43,-1141.78\"/>\n<polygon fill=\"black\" stroke=\"black\" points=\"5084.93,-1141.95 5082.38,-1131.67 5077.96,-1141.3 5084.93,-1141.95\"/>\n</g>\n<!-- 206 -->\n<g id=\"node207\" class=\"node\">\n<title>206</title>\n<polygon fill=\"#88c4ef\" stroke=\"black\" points=\"4950.5,-1020 4836.5,-1020 4836.5,-937 4950.5,-937 4950.5,-1020\"/>\n<text text-anchor=\"middle\" x=\"4893.5\" y=\"-1004.8\" font-family=\"Helvetica,sans-Serif\" font-size=\"14.00\">Age &lt;= 32.5</text>\n<text text-anchor=\"middle\" x=\"4893.5\" y=\"-989.8\" font-family=\"Helvetica,sans-Serif\" font-size=\"14.00\">gini = 0.408</text>\n<text text-anchor=\"middle\" x=\"4893.5\" y=\"-974.8\" font-family=\"Helvetica,sans-Serif\" font-size=\"14.00\">samples = 7</text>\n<text text-anchor=\"middle\" x=\"4893.5\" y=\"-959.8\" font-family=\"Helvetica,sans-Serif\" font-size=\"14.00\">value = [2, 5]</text>\n<text text-anchor=\"middle\" x=\"4893.5\" y=\"-944.8\" font-family=\"Helvetica,sans-Serif\" font-size=\"14.00\">class = diabetes</text>\n</g>\n<!-- 205&#45;&gt;206 -->\n<g id=\"edge206\" class=\"edge\">\n<title>205&#45;&gt;206</title>\n<path fill=\"none\" stroke=\"black\" d=\"M4924.85,-1055.91C4921.35,-1047.38 4917.62,-1038.28 4913.99,-1029.46\"/>\n<polygon fill=\"black\" stroke=\"black\" points=\"4917.16,-1027.94 4910.12,-1020.02 4910.68,-1030.6 4917.16,-1027.94\"/>\n</g>\n<!-- 211 -->\n<g id=\"node212\" class=\"node\">\n<title>211</title>\n<polygon fill=\"#399de5\" stroke=\"black\" points=\"5082.5,-1012.5 4968.5,-1012.5 4968.5,-944.5 5082.5,-944.5 5082.5,-1012.5\"/>\n<text text-anchor=\"middle\" x=\"5025.5\" y=\"-997.3\" font-family=\"Helvetica,sans-Serif\" font-size=\"14.00\">gini = 0.0</text>\n<text text-anchor=\"middle\" x=\"5025.5\" y=\"-982.3\" font-family=\"Helvetica,sans-Serif\" font-size=\"14.00\">samples = 15</text>\n<text text-anchor=\"middle\" x=\"5025.5\" y=\"-967.3\" font-family=\"Helvetica,sans-Serif\" font-size=\"14.00\">value = [0, 15]</text>\n<text text-anchor=\"middle\" x=\"5025.5\" y=\"-952.3\" font-family=\"Helvetica,sans-Serif\" font-size=\"14.00\">class = diabetes</text>\n</g>\n<!-- 205&#45;&gt;211 -->\n<g id=\"edge211\" class=\"edge\">\n<title>205&#45;&gt;211</title>\n<path fill=\"none\" stroke=\"black\" d=\"M4970.64,-1055.91C4978.72,-1044.65 4987.51,-1032.42 4995.63,-1021.11\"/>\n<polygon fill=\"black\" stroke=\"black\" points=\"4998.7,-1022.83 5001.69,-1012.67 4993.01,-1018.75 4998.7,-1022.83\"/>\n</g>\n<!-- 207 -->\n<g id=\"node208\" class=\"node\">\n<title>207</title>\n<polygon fill=\"#399de5\" stroke=\"black\" points=\"4902.5,-893.5 4788.5,-893.5 4788.5,-825.5 4902.5,-825.5 4902.5,-893.5\"/>\n<text text-anchor=\"middle\" x=\"4845.5\" y=\"-878.3\" font-family=\"Helvetica,sans-Serif\" font-size=\"14.00\">gini = 0.0</text>\n<text text-anchor=\"middle\" x=\"4845.5\" y=\"-863.3\" font-family=\"Helvetica,sans-Serif\" font-size=\"14.00\">samples = 4</text>\n<text text-anchor=\"middle\" x=\"4845.5\" y=\"-848.3\" font-family=\"Helvetica,sans-Serif\" font-size=\"14.00\">value = [0, 4]</text>\n<text text-anchor=\"middle\" x=\"4845.5\" y=\"-833.3\" font-family=\"Helvetica,sans-Serif\" font-size=\"14.00\">class = diabetes</text>\n</g>\n<!-- 206&#45;&gt;207 -->\n<g id=\"edge207\" class=\"edge\">\n<title>206&#45;&gt;207</title>\n<path fill=\"none\" stroke=\"black\" d=\"M4876.85,-936.91C4872.36,-925.98 4867.5,-914.14 4862.98,-903.11\"/>\n<polygon fill=\"black\" stroke=\"black\" points=\"4866.14,-901.59 4859.11,-893.67 4859.66,-904.25 4866.14,-901.59\"/>\n</g>\n<!-- 208 -->\n<g id=\"node209\" class=\"node\">\n<title>208</title>\n<polygon fill=\"#f2c09c\" stroke=\"black\" points=\"5074.5,-901 4920.5,-901 4920.5,-818 5074.5,-818 5074.5,-901\"/>\n<text text-anchor=\"middle\" x=\"4997.5\" y=\"-885.8\" font-family=\"Helvetica,sans-Serif\" font-size=\"14.00\">SkinThickness &lt;= 20.5</text>\n<text text-anchor=\"middle\" x=\"4997.5\" y=\"-870.8\" font-family=\"Helvetica,sans-Serif\" font-size=\"14.00\">gini = 0.444</text>\n<text text-anchor=\"middle\" x=\"4997.5\" y=\"-855.8\" font-family=\"Helvetica,sans-Serif\" font-size=\"14.00\">samples = 3</text>\n<text text-anchor=\"middle\" x=\"4997.5\" y=\"-840.8\" font-family=\"Helvetica,sans-Serif\" font-size=\"14.00\">value = [2, 1]</text>\n<text text-anchor=\"middle\" x=\"4997.5\" y=\"-825.8\" font-family=\"Helvetica,sans-Serif\" font-size=\"14.00\">class = not diabetes</text>\n</g>\n<!-- 206&#45;&gt;208 -->\n<g id=\"edge208\" class=\"edge\">\n<title>206&#45;&gt;208</title>\n<path fill=\"none\" stroke=\"black\" d=\"M4929.58,-936.91C4937.65,-927.83 4946.28,-918.12 4954.59,-908.77\"/>\n<polygon fill=\"black\" stroke=\"black\" points=\"4957.45,-910.82 4961.48,-901.02 4952.22,-906.17 4957.45,-910.82\"/>\n</g>\n<!-- 209 -->\n<g id=\"node210\" class=\"node\">\n<title>209</title>\n<polygon fill=\"#e58139\" stroke=\"black\" points=\"4994,-774.5 4857,-774.5 4857,-706.5 4994,-706.5 4994,-774.5\"/>\n<text text-anchor=\"middle\" x=\"4925.5\" y=\"-759.3\" font-family=\"Helvetica,sans-Serif\" font-size=\"14.00\">gini = 0.0</text>\n<text text-anchor=\"middle\" x=\"4925.5\" y=\"-744.3\" font-family=\"Helvetica,sans-Serif\" font-size=\"14.00\">samples = 2</text>\n<text text-anchor=\"middle\" x=\"4925.5\" y=\"-729.3\" font-family=\"Helvetica,sans-Serif\" font-size=\"14.00\">value = [2, 0]</text>\n<text text-anchor=\"middle\" x=\"4925.5\" y=\"-714.3\" font-family=\"Helvetica,sans-Serif\" font-size=\"14.00\">class = not diabetes</text>\n</g>\n<!-- 208&#45;&gt;209 -->\n<g id=\"edge209\" class=\"edge\">\n<title>208&#45;&gt;209</title>\n<path fill=\"none\" stroke=\"black\" d=\"M4972.52,-817.91C4965.66,-806.76 4958.21,-794.66 4951.31,-783.44\"/>\n<polygon fill=\"black\" stroke=\"black\" points=\"4954.13,-781.35 4945.91,-774.67 4948.17,-785.02 4954.13,-781.35\"/>\n</g>\n<!-- 210 -->\n<g id=\"node211\" class=\"node\">\n<title>210</title>\n<polygon fill=\"#399de5\" stroke=\"black\" points=\"5126.5,-774.5 5012.5,-774.5 5012.5,-706.5 5126.5,-706.5 5126.5,-774.5\"/>\n<text text-anchor=\"middle\" x=\"5069.5\" y=\"-759.3\" font-family=\"Helvetica,sans-Serif\" font-size=\"14.00\">gini = 0.0</text>\n<text text-anchor=\"middle\" x=\"5069.5\" y=\"-744.3\" font-family=\"Helvetica,sans-Serif\" font-size=\"14.00\">samples = 1</text>\n<text text-anchor=\"middle\" x=\"5069.5\" y=\"-729.3\" font-family=\"Helvetica,sans-Serif\" font-size=\"14.00\">value = [0, 1]</text>\n<text text-anchor=\"middle\" x=\"5069.5\" y=\"-714.3\" font-family=\"Helvetica,sans-Serif\" font-size=\"14.00\">class = diabetes</text>\n</g>\n<!-- 208&#45;&gt;210 -->\n<g id=\"edge210\" class=\"edge\">\n<title>208&#45;&gt;210</title>\n<path fill=\"none\" stroke=\"black\" d=\"M5022.48,-817.91C5029.34,-806.76 5036.79,-794.66 5043.69,-783.44\"/>\n<polygon fill=\"black\" stroke=\"black\" points=\"5046.83,-785.02 5049.09,-774.67 5040.87,-781.35 5046.83,-785.02\"/>\n</g>\n<!-- 215 -->\n<g id=\"node216\" class=\"node\">\n<title>215</title>\n<polygon fill=\"#399de5\" stroke=\"black\" points=\"5323.5,-1369.5 5209.5,-1369.5 5209.5,-1301.5 5323.5,-1301.5 5323.5,-1369.5\"/>\n<text text-anchor=\"middle\" x=\"5266.5\" y=\"-1354.3\" font-family=\"Helvetica,sans-Serif\" font-size=\"14.00\">gini = 0.0</text>\n<text text-anchor=\"middle\" x=\"5266.5\" y=\"-1339.3\" font-family=\"Helvetica,sans-Serif\" font-size=\"14.00\">samples = 37</text>\n<text text-anchor=\"middle\" x=\"5266.5\" y=\"-1324.3\" font-family=\"Helvetica,sans-Serif\" font-size=\"14.00\">value = [0, 37]</text>\n<text text-anchor=\"middle\" x=\"5266.5\" y=\"-1309.3\" font-family=\"Helvetica,sans-Serif\" font-size=\"14.00\">class = diabetes</text>\n</g>\n<!-- 214&#45;&gt;215 -->\n<g id=\"edge215\" class=\"edge\">\n<title>214&#45;&gt;215</title>\n<path fill=\"none\" stroke=\"black\" d=\"M5266.5,-1412.91C5266.5,-1402.2 5266.5,-1390.62 5266.5,-1379.78\"/>\n<polygon fill=\"black\" stroke=\"black\" points=\"5270,-1379.67 5266.5,-1369.67 5263,-1379.67 5270,-1379.67\"/>\n</g>\n<!-- 216 -->\n<g id=\"node217\" class=\"node\">\n<title>216</title>\n<polygon fill=\"#6ab6ec\" stroke=\"black\" points=\"5575,-1377 5342,-1377 5342,-1294 5575,-1294 5575,-1377\"/>\n<text text-anchor=\"middle\" x=\"5458.5\" y=\"-1361.8\" font-family=\"Helvetica,sans-Serif\" font-size=\"14.00\">DiabetesPedigreeFunction &lt;= 1.157</text>\n<text text-anchor=\"middle\" x=\"5458.5\" y=\"-1346.8\" font-family=\"Helvetica,sans-Serif\" font-size=\"14.00\">gini = 0.32</text>\n<text text-anchor=\"middle\" x=\"5458.5\" y=\"-1331.8\" font-family=\"Helvetica,sans-Serif\" font-size=\"14.00\">samples = 15</text>\n<text text-anchor=\"middle\" x=\"5458.5\" y=\"-1316.8\" font-family=\"Helvetica,sans-Serif\" font-size=\"14.00\">value = [3, 12]</text>\n<text text-anchor=\"middle\" x=\"5458.5\" y=\"-1301.8\" font-family=\"Helvetica,sans-Serif\" font-size=\"14.00\">class = diabetes</text>\n</g>\n<!-- 214&#45;&gt;216 -->\n<g id=\"edge216\" class=\"edge\">\n<title>214&#45;&gt;216</title>\n<path fill=\"none\" stroke=\"black\" d=\"M5323.59,-1418.71C5342.27,-1407.33 5363.31,-1394.5 5383.13,-1382.43\"/>\n<polygon fill=\"black\" stroke=\"black\" points=\"5385.12,-1385.32 5391.83,-1377.12 5381.47,-1379.34 5385.12,-1385.32\"/>\n</g>\n<!-- 217 -->\n<g id=\"node218\" class=\"node\">\n<title>217</title>\n<polygon fill=\"#4ba6e7\" stroke=\"black\" points=\"5487.5,-1258 5373.5,-1258 5373.5,-1175 5487.5,-1175 5487.5,-1258\"/>\n<text text-anchor=\"middle\" x=\"5430.5\" y=\"-1242.8\" font-family=\"Helvetica,sans-Serif\" font-size=\"14.00\">Age &lt;= 50.0</text>\n<text text-anchor=\"middle\" x=\"5430.5\" y=\"-1227.8\" font-family=\"Helvetica,sans-Serif\" font-size=\"14.00\">gini = 0.153</text>\n<text text-anchor=\"middle\" x=\"5430.5\" y=\"-1212.8\" font-family=\"Helvetica,sans-Serif\" font-size=\"14.00\">samples = 12</text>\n<text text-anchor=\"middle\" x=\"5430.5\" y=\"-1197.8\" font-family=\"Helvetica,sans-Serif\" font-size=\"14.00\">value = [1, 11]</text>\n<text text-anchor=\"middle\" x=\"5430.5\" y=\"-1182.8\" font-family=\"Helvetica,sans-Serif\" font-size=\"14.00\">class = diabetes</text>\n</g>\n<!-- 216&#45;&gt;217 -->\n<g id=\"edge217\" class=\"edge\">\n<title>216&#45;&gt;217</title>\n<path fill=\"none\" stroke=\"black\" d=\"M5448.79,-1293.91C5446.79,-1285.56 5444.66,-1276.67 5442.59,-1268.02\"/>\n<polygon fill=\"black\" stroke=\"black\" points=\"5445.93,-1266.93 5440.2,-1258.02 5439.12,-1268.56 5445.93,-1266.93\"/>\n</g>\n<!-- 222 -->\n<g id=\"node223\" class=\"node\">\n<title>222</title>\n<polygon fill=\"#f2c09c\" stroke=\"black\" points=\"5643,-1258 5506,-1258 5506,-1175 5643,-1175 5643,-1258\"/>\n<text text-anchor=\"middle\" x=\"5574.5\" y=\"-1242.8\" font-family=\"Helvetica,sans-Serif\" font-size=\"14.00\">Glucose &lt;= 183.5</text>\n<text text-anchor=\"middle\" x=\"5574.5\" y=\"-1227.8\" font-family=\"Helvetica,sans-Serif\" font-size=\"14.00\">gini = 0.444</text>\n<text text-anchor=\"middle\" x=\"5574.5\" y=\"-1212.8\" font-family=\"Helvetica,sans-Serif\" font-size=\"14.00\">samples = 3</text>\n<text text-anchor=\"middle\" x=\"5574.5\" y=\"-1197.8\" font-family=\"Helvetica,sans-Serif\" font-size=\"14.00\">value = [2, 1]</text>\n<text text-anchor=\"middle\" x=\"5574.5\" y=\"-1182.8\" font-family=\"Helvetica,sans-Serif\" font-size=\"14.00\">class = not diabetes</text>\n</g>\n<!-- 216&#45;&gt;222 -->\n<g id=\"edge222\" class=\"edge\">\n<title>216&#45;&gt;222</title>\n<path fill=\"none\" stroke=\"black\" d=\"M5498.75,-1293.91C5507.92,-1284.65 5517.76,-1274.73 5527.2,-1265.21\"/>\n<polygon fill=\"black\" stroke=\"black\" points=\"5529.77,-1267.59 5534.33,-1258.02 5524.8,-1262.66 5529.77,-1267.59\"/>\n</g>\n<!-- 218 -->\n<g id=\"node219\" class=\"node\">\n<title>218</title>\n<polygon fill=\"#ffffff\" stroke=\"black\" points=\"5355,-1139 5200,-1139 5200,-1056 5355,-1056 5355,-1139\"/>\n<text text-anchor=\"middle\" x=\"5277.5\" y=\"-1123.8\" font-family=\"Helvetica,sans-Serif\" font-size=\"14.00\">BloodPressure &lt;= 70.0</text>\n<text text-anchor=\"middle\" x=\"5277.5\" y=\"-1108.8\" font-family=\"Helvetica,sans-Serif\" font-size=\"14.00\">gini = 0.5</text>\n<text text-anchor=\"middle\" x=\"5277.5\" y=\"-1093.8\" font-family=\"Helvetica,sans-Serif\" font-size=\"14.00\">samples = 2</text>\n<text text-anchor=\"middle\" x=\"5277.5\" y=\"-1078.8\" font-family=\"Helvetica,sans-Serif\" font-size=\"14.00\">value = [1, 1]</text>\n<text text-anchor=\"middle\" x=\"5277.5\" y=\"-1063.8\" font-family=\"Helvetica,sans-Serif\" font-size=\"14.00\">class = not diabetes</text>\n</g>\n<!-- 217&#45;&gt;218 -->\n<g id=\"edge218\" class=\"edge\">\n<title>217&#45;&gt;218</title>\n<path fill=\"none\" stroke=\"black\" d=\"M5377.42,-1174.91C5364.96,-1165.38 5351.58,-1155.15 5338.79,-1145.37\"/>\n<polygon fill=\"black\" stroke=\"black\" points=\"5340.56,-1142.32 5330.49,-1139.02 5336.31,-1147.88 5340.56,-1142.32\"/>\n</g>\n<!-- 221 -->\n<g id=\"node222\" class=\"node\">\n<title>221</title>\n<polygon fill=\"#399de5\" stroke=\"black\" points=\"5487.5,-1131.5 5373.5,-1131.5 5373.5,-1063.5 5487.5,-1063.5 5487.5,-1131.5\"/>\n<text text-anchor=\"middle\" x=\"5430.5\" y=\"-1116.3\" font-family=\"Helvetica,sans-Serif\" font-size=\"14.00\">gini = 0.0</text>\n<text text-anchor=\"middle\" x=\"5430.5\" y=\"-1101.3\" font-family=\"Helvetica,sans-Serif\" font-size=\"14.00\">samples = 10</text>\n<text text-anchor=\"middle\" x=\"5430.5\" y=\"-1086.3\" font-family=\"Helvetica,sans-Serif\" font-size=\"14.00\">value = [0, 10]</text>\n<text text-anchor=\"middle\" x=\"5430.5\" y=\"-1071.3\" font-family=\"Helvetica,sans-Serif\" font-size=\"14.00\">class = diabetes</text>\n</g>\n<!-- 217&#45;&gt;221 -->\n<g id=\"edge221\" class=\"edge\">\n<title>217&#45;&gt;221</title>\n<path fill=\"none\" stroke=\"black\" d=\"M5430.5,-1174.91C5430.5,-1164.2 5430.5,-1152.62 5430.5,-1141.78\"/>\n<polygon fill=\"black\" stroke=\"black\" points=\"5434,-1141.67 5430.5,-1131.67 5427,-1141.67 5434,-1141.67\"/>\n</g>\n<!-- 219 -->\n<g id=\"node220\" class=\"node\">\n<title>219</title>\n<polygon fill=\"#e58139\" stroke=\"black\" points=\"5287,-1012.5 5150,-1012.5 5150,-944.5 5287,-944.5 5287,-1012.5\"/>\n<text text-anchor=\"middle\" x=\"5218.5\" y=\"-997.3\" font-family=\"Helvetica,sans-Serif\" font-size=\"14.00\">gini = 0.0</text>\n<text text-anchor=\"middle\" x=\"5218.5\" y=\"-982.3\" font-family=\"Helvetica,sans-Serif\" font-size=\"14.00\">samples = 1</text>\n<text text-anchor=\"middle\" x=\"5218.5\" y=\"-967.3\" font-family=\"Helvetica,sans-Serif\" font-size=\"14.00\">value = [1, 0]</text>\n<text text-anchor=\"middle\" x=\"5218.5\" y=\"-952.3\" font-family=\"Helvetica,sans-Serif\" font-size=\"14.00\">class = not diabetes</text>\n</g>\n<!-- 218&#45;&gt;219 -->\n<g id=\"edge219\" class=\"edge\">\n<title>218&#45;&gt;219</title>\n<path fill=\"none\" stroke=\"black\" d=\"M5257.03,-1055.91C5251.47,-1044.87 5245.43,-1032.9 5239.82,-1021.77\"/>\n<polygon fill=\"black\" stroke=\"black\" points=\"5242.85,-1020.02 5235.23,-1012.67 5236.6,-1023.17 5242.85,-1020.02\"/>\n</g>\n<!-- 220 -->\n<g id=\"node221\" class=\"node\">\n<title>220</title>\n<polygon fill=\"#399de5\" stroke=\"black\" points=\"5419.5,-1012.5 5305.5,-1012.5 5305.5,-944.5 5419.5,-944.5 5419.5,-1012.5\"/>\n<text text-anchor=\"middle\" x=\"5362.5\" y=\"-997.3\" font-family=\"Helvetica,sans-Serif\" font-size=\"14.00\">gini = 0.0</text>\n<text text-anchor=\"middle\" x=\"5362.5\" y=\"-982.3\" font-family=\"Helvetica,sans-Serif\" font-size=\"14.00\">samples = 1</text>\n<text text-anchor=\"middle\" x=\"5362.5\" y=\"-967.3\" font-family=\"Helvetica,sans-Serif\" font-size=\"14.00\">value = [0, 1]</text>\n<text text-anchor=\"middle\" x=\"5362.5\" y=\"-952.3\" font-family=\"Helvetica,sans-Serif\" font-size=\"14.00\">class = diabetes</text>\n</g>\n<!-- 218&#45;&gt;220 -->\n<g id=\"edge220\" class=\"edge\">\n<title>218&#45;&gt;220</title>\n<path fill=\"none\" stroke=\"black\" d=\"M5306.99,-1055.91C5315.25,-1044.54 5324.23,-1032.18 5332.51,-1020.77\"/>\n<polygon fill=\"black\" stroke=\"black\" points=\"5335.36,-1022.81 5338.4,-1012.67 5329.7,-1018.7 5335.36,-1022.81\"/>\n</g>\n<!-- 223 -->\n<g id=\"node224\" class=\"node\">\n<title>223</title>\n<polygon fill=\"#e58139\" stroke=\"black\" points=\"5643,-1131.5 5506,-1131.5 5506,-1063.5 5643,-1063.5 5643,-1131.5\"/>\n<text text-anchor=\"middle\" x=\"5574.5\" y=\"-1116.3\" font-family=\"Helvetica,sans-Serif\" font-size=\"14.00\">gini = 0.0</text>\n<text text-anchor=\"middle\" x=\"5574.5\" y=\"-1101.3\" font-family=\"Helvetica,sans-Serif\" font-size=\"14.00\">samples = 2</text>\n<text text-anchor=\"middle\" x=\"5574.5\" y=\"-1086.3\" font-family=\"Helvetica,sans-Serif\" font-size=\"14.00\">value = [2, 0]</text>\n<text text-anchor=\"middle\" x=\"5574.5\" y=\"-1071.3\" font-family=\"Helvetica,sans-Serif\" font-size=\"14.00\">class = not diabetes</text>\n</g>\n<!-- 222&#45;&gt;223 -->\n<g id=\"edge223\" class=\"edge\">\n<title>222&#45;&gt;223</title>\n<path fill=\"none\" stroke=\"black\" d=\"M5574.5,-1174.91C5574.5,-1164.2 5574.5,-1152.62 5574.5,-1141.78\"/>\n<polygon fill=\"black\" stroke=\"black\" points=\"5578,-1141.67 5574.5,-1131.67 5571,-1141.67 5578,-1141.67\"/>\n</g>\n<!-- 224 -->\n<g id=\"node225\" class=\"node\">\n<title>224</title>\n<polygon fill=\"#399de5\" stroke=\"black\" points=\"5775.5,-1131.5 5661.5,-1131.5 5661.5,-1063.5 5775.5,-1063.5 5775.5,-1131.5\"/>\n<text text-anchor=\"middle\" x=\"5718.5\" y=\"-1116.3\" font-family=\"Helvetica,sans-Serif\" font-size=\"14.00\">gini = 0.0</text>\n<text text-anchor=\"middle\" x=\"5718.5\" y=\"-1101.3\" font-family=\"Helvetica,sans-Serif\" font-size=\"14.00\">samples = 1</text>\n<text text-anchor=\"middle\" x=\"5718.5\" y=\"-1086.3\" font-family=\"Helvetica,sans-Serif\" font-size=\"14.00\">value = [0, 1]</text>\n<text text-anchor=\"middle\" x=\"5718.5\" y=\"-1071.3\" font-family=\"Helvetica,sans-Serif\" font-size=\"14.00\">class = diabetes</text>\n</g>\n<!-- 222&#45;&gt;224 -->\n<g id=\"edge224\" class=\"edge\">\n<title>222&#45;&gt;224</title>\n<path fill=\"none\" stroke=\"black\" d=\"M5624.46,-1174.91C5639.13,-1162.99 5655.15,-1149.98 5669.74,-1138.12\"/>\n<polygon fill=\"black\" stroke=\"black\" points=\"5672.13,-1140.69 5677.68,-1131.67 5667.71,-1135.26 5672.13,-1140.69\"/>\n</g>\n</g>\n</svg>\n",
            "text/plain": [
              "<graphviz.sources.Source at 0x7f5c642d0c70>"
            ]
          },
          "metadata": {},
          "execution_count": 21
        }
      ]
    },
    {
      "cell_type": "markdown",
      "metadata": {
        "id": "UBvTH0xsjjgs"
      },
      "source": [
        "------------\n",
        "### 6-1.데이터 전처리를 이용하여 모델 개선하기\n",
        "\n"
      ]
    },
    {
      "cell_type": "markdown",
      "metadata": {
        "id": "byqKeo7V4_hD"
      },
      "source": [
        "##### EDA (Exploratory Data Analysis) 탐색적 데이터 분석\n",
        "\n",
        "수집한 데이터가 들어왔을 때, 이를 다양한 각도에서 관찰하고 이해하는 과정.한마디로 데이터를 분석하기 전에 그래프나 통계적인 방법으로 자료를 직관적으로 바라보는 과정\n",
        "\n",
        "\n",
        "\n",
        "> **EDA가 필요한 이유**\n",
        "- 데이터의 분포 및 값을 검토함으로써 데이터가 표현하는 현상을 더 잘 이해하고, 데이터에 대한 잠재적인 문제를 발견할 수 있다. 이를 통해, 본격적인 분석에 들어가기에 앞서 수집의사를 결정할 수 있다.\n",
        "- 다양한 각도에서 살펴보는 과정을 통해 문제 정의 단계에서 미쳐 발생하지 못했을 다양한 패턴을 발견하고, 이를 바탕으로 기존의 가설을 수정하거나 새로운 가설을 세울 수 있다.\n"
      ]
    },
    {
      "cell_type": "markdown",
      "metadata": {
        "id": "R-S0OB4g5Ci5"
      },
      "source": [
        "\n",
        "\n",
        "##### 피처 스케일링\n",
        "\n",
        "\n",
        "\n",
        "**피처 스케일링(Feature Scaling)** : 서로 다른 변수의 값 범위를 일정한 수준으로 맞추는 작업. 통상 표준화하여 이상치를 제거하고 정규화 과정을 거침.\n",
        "\n",
        "- 표준화(standardization) :\n",
        "  <img src=\"https://cdn.analyticsvidhya.com/wp-content/uploads/2020/03/Stand_eq.gif\" >\n",
        "\n",
        "  데이터 피처별 평균이 0이고 분산이 1인 가우시안 정규 분포를 가진 값으로 변환하는 것, 데이터가 정규분포를 따른다고 가정. 각 데이터가 평균으로부터 얼마나 떨어져있는지 나타내기 위해 사용, Scikit-learn의 StandardScaler는 표준화를 쉽게 지원하는 클래스.\n",
        "\n",
        "- 정규화(normalization) :\n",
        "  <img src=\"https://cdn.analyticsvidhya.com/wp-content/uploads/2020/03/Norm_eq.gif\">\n",
        "\n",
        "  데이터의 상대적인 크기에 대한 영향을 줄이기 위해 데이터 범위를 0~1 사이로 변환, Scikit-learn의 MinMaxScaler는 정규화를 쉽게 지원하는 클래스. 100점 만점 중 80점과 1000점 만점 중 80점은 다르기 때문에 정규화가 중요하다.\n",
        "\n",
        "\n",
        "\n",
        "\n",
        "<img src='https://miro.medium.com/max/700/1*Qouxy6BlNafBBTI57V4BXA.png' width=600>\n",
        "\n",
        "[피처 스케일링 참고자료](https://www.analyticsvidhya.com/blog/2020/04/feature-scaling-machine-learning-normalization-standardization/)\n"
      ]
    },
    {
      "cell_type": "code",
      "metadata": {
        "id": "REO9DqZ8CDLb",
        "colab": {
          "base_uri": "https://localhost:8080/",
          "height": 300
        },
        "outputId": "82823ac7-a6a5-4fad-b304-13a208c5b63b"
      },
      "source": [
        "# describe를 통해 데이터 특징 살펴보기\n",
        "diabetes_data.describe()"
      ],
      "execution_count": null,
      "outputs": [
        {
          "output_type": "execute_result",
          "data": {
            "text/plain": [
              "       Pregnancies     Glucose  BloodPressure  SkinThickness     Insulin  \\\n",
              "count   768.000000  768.000000     768.000000     768.000000  768.000000   \n",
              "mean      3.845052  120.894531      69.105469      20.536458   79.799479   \n",
              "std       3.369578   31.972618      19.355807      15.952218  115.244002   \n",
              "min       0.000000    0.000000       0.000000       0.000000    0.000000   \n",
              "25%       1.000000   99.000000      62.000000       0.000000    0.000000   \n",
              "50%       3.000000  117.000000      72.000000      23.000000   30.500000   \n",
              "75%       6.000000  140.250000      80.000000      32.000000  127.250000   \n",
              "max      17.000000  199.000000     122.000000      99.000000  846.000000   \n",
              "\n",
              "              BMI  DiabetesPedigreeFunction         Age     Outcome  \n",
              "count  768.000000                768.000000  768.000000  768.000000  \n",
              "mean    31.992578                  0.471876   33.240885    0.348958  \n",
              "std      7.884160                  0.331329   11.760232    0.476951  \n",
              "min      0.000000                  0.078000   21.000000    0.000000  \n",
              "25%     27.300000                  0.243750   24.000000    0.000000  \n",
              "50%     32.000000                  0.372500   29.000000    0.000000  \n",
              "75%     36.600000                  0.626250   41.000000    1.000000  \n",
              "max     67.100000                  2.420000   81.000000    1.000000  "
            ],
            "text/html": [
              "\n",
              "  <div id=\"df-9efa6ce0-17bf-4c97-8ef9-c21c594d8991\">\n",
              "    <div class=\"colab-df-container\">\n",
              "      <div>\n",
              "<style scoped>\n",
              "    .dataframe tbody tr th:only-of-type {\n",
              "        vertical-align: middle;\n",
              "    }\n",
              "\n",
              "    .dataframe tbody tr th {\n",
              "        vertical-align: top;\n",
              "    }\n",
              "\n",
              "    .dataframe thead th {\n",
              "        text-align: right;\n",
              "    }\n",
              "</style>\n",
              "<table border=\"1\" class=\"dataframe\">\n",
              "  <thead>\n",
              "    <tr style=\"text-align: right;\">\n",
              "      <th></th>\n",
              "      <th>Pregnancies</th>\n",
              "      <th>Glucose</th>\n",
              "      <th>BloodPressure</th>\n",
              "      <th>SkinThickness</th>\n",
              "      <th>Insulin</th>\n",
              "      <th>BMI</th>\n",
              "      <th>DiabetesPedigreeFunction</th>\n",
              "      <th>Age</th>\n",
              "      <th>Outcome</th>\n",
              "    </tr>\n",
              "  </thead>\n",
              "  <tbody>\n",
              "    <tr>\n",
              "      <th>count</th>\n",
              "      <td>768.000000</td>\n",
              "      <td>768.000000</td>\n",
              "      <td>768.000000</td>\n",
              "      <td>768.000000</td>\n",
              "      <td>768.000000</td>\n",
              "      <td>768.000000</td>\n",
              "      <td>768.000000</td>\n",
              "      <td>768.000000</td>\n",
              "      <td>768.000000</td>\n",
              "    </tr>\n",
              "    <tr>\n",
              "      <th>mean</th>\n",
              "      <td>3.845052</td>\n",
              "      <td>120.894531</td>\n",
              "      <td>69.105469</td>\n",
              "      <td>20.536458</td>\n",
              "      <td>79.799479</td>\n",
              "      <td>31.992578</td>\n",
              "      <td>0.471876</td>\n",
              "      <td>33.240885</td>\n",
              "      <td>0.348958</td>\n",
              "    </tr>\n",
              "    <tr>\n",
              "      <th>std</th>\n",
              "      <td>3.369578</td>\n",
              "      <td>31.972618</td>\n",
              "      <td>19.355807</td>\n",
              "      <td>15.952218</td>\n",
              "      <td>115.244002</td>\n",
              "      <td>7.884160</td>\n",
              "      <td>0.331329</td>\n",
              "      <td>11.760232</td>\n",
              "      <td>0.476951</td>\n",
              "    </tr>\n",
              "    <tr>\n",
              "      <th>min</th>\n",
              "      <td>0.000000</td>\n",
              "      <td>0.000000</td>\n",
              "      <td>0.000000</td>\n",
              "      <td>0.000000</td>\n",
              "      <td>0.000000</td>\n",
              "      <td>0.000000</td>\n",
              "      <td>0.078000</td>\n",
              "      <td>21.000000</td>\n",
              "      <td>0.000000</td>\n",
              "    </tr>\n",
              "    <tr>\n",
              "      <th>25%</th>\n",
              "      <td>1.000000</td>\n",
              "      <td>99.000000</td>\n",
              "      <td>62.000000</td>\n",
              "      <td>0.000000</td>\n",
              "      <td>0.000000</td>\n",
              "      <td>27.300000</td>\n",
              "      <td>0.243750</td>\n",
              "      <td>24.000000</td>\n",
              "      <td>0.000000</td>\n",
              "    </tr>\n",
              "    <tr>\n",
              "      <th>50%</th>\n",
              "      <td>3.000000</td>\n",
              "      <td>117.000000</td>\n",
              "      <td>72.000000</td>\n",
              "      <td>23.000000</td>\n",
              "      <td>30.500000</td>\n",
              "      <td>32.000000</td>\n",
              "      <td>0.372500</td>\n",
              "      <td>29.000000</td>\n",
              "      <td>0.000000</td>\n",
              "    </tr>\n",
              "    <tr>\n",
              "      <th>75%</th>\n",
              "      <td>6.000000</td>\n",
              "      <td>140.250000</td>\n",
              "      <td>80.000000</td>\n",
              "      <td>32.000000</td>\n",
              "      <td>127.250000</td>\n",
              "      <td>36.600000</td>\n",
              "      <td>0.626250</td>\n",
              "      <td>41.000000</td>\n",
              "      <td>1.000000</td>\n",
              "    </tr>\n",
              "    <tr>\n",
              "      <th>max</th>\n",
              "      <td>17.000000</td>\n",
              "      <td>199.000000</td>\n",
              "      <td>122.000000</td>\n",
              "      <td>99.000000</td>\n",
              "      <td>846.000000</td>\n",
              "      <td>67.100000</td>\n",
              "      <td>2.420000</td>\n",
              "      <td>81.000000</td>\n",
              "      <td>1.000000</td>\n",
              "    </tr>\n",
              "  </tbody>\n",
              "</table>\n",
              "</div>\n",
              "      <button class=\"colab-df-convert\" onclick=\"convertToInteractive('df-9efa6ce0-17bf-4c97-8ef9-c21c594d8991')\"\n",
              "              title=\"Convert this dataframe to an interactive table.\"\n",
              "              style=\"display:none;\">\n",
              "        \n",
              "  <svg xmlns=\"http://www.w3.org/2000/svg\" height=\"24px\"viewBox=\"0 0 24 24\"\n",
              "       width=\"24px\">\n",
              "    <path d=\"M0 0h24v24H0V0z\" fill=\"none\"/>\n",
              "    <path d=\"M18.56 5.44l.94 2.06.94-2.06 2.06-.94-2.06-.94-.94-2.06-.94 2.06-2.06.94zm-11 1L8.5 8.5l.94-2.06 2.06-.94-2.06-.94L8.5 2.5l-.94 2.06-2.06.94zm10 10l.94 2.06.94-2.06 2.06-.94-2.06-.94-.94-2.06-.94 2.06-2.06.94z\"/><path d=\"M17.41 7.96l-1.37-1.37c-.4-.4-.92-.59-1.43-.59-.52 0-1.04.2-1.43.59L10.3 9.45l-7.72 7.72c-.78.78-.78 2.05 0 2.83L4 21.41c.39.39.9.59 1.41.59.51 0 1.02-.2 1.41-.59l7.78-7.78 2.81-2.81c.8-.78.8-2.07 0-2.86zM5.41 20L4 18.59l7.72-7.72 1.47 1.35L5.41 20z\"/>\n",
              "  </svg>\n",
              "      </button>\n",
              "      \n",
              "  <style>\n",
              "    .colab-df-container {\n",
              "      display:flex;\n",
              "      flex-wrap:wrap;\n",
              "      gap: 12px;\n",
              "    }\n",
              "\n",
              "    .colab-df-convert {\n",
              "      background-color: #E8F0FE;\n",
              "      border: none;\n",
              "      border-radius: 50%;\n",
              "      cursor: pointer;\n",
              "      display: none;\n",
              "      fill: #1967D2;\n",
              "      height: 32px;\n",
              "      padding: 0 0 0 0;\n",
              "      width: 32px;\n",
              "    }\n",
              "\n",
              "    .colab-df-convert:hover {\n",
              "      background-color: #E2EBFA;\n",
              "      box-shadow: 0px 1px 2px rgba(60, 64, 67, 0.3), 0px 1px 3px 1px rgba(60, 64, 67, 0.15);\n",
              "      fill: #174EA6;\n",
              "    }\n",
              "\n",
              "    [theme=dark] .colab-df-convert {\n",
              "      background-color: #3B4455;\n",
              "      fill: #D2E3FC;\n",
              "    }\n",
              "\n",
              "    [theme=dark] .colab-df-convert:hover {\n",
              "      background-color: #434B5C;\n",
              "      box-shadow: 0px 1px 3px 1px rgba(0, 0, 0, 0.15);\n",
              "      filter: drop-shadow(0px 1px 2px rgba(0, 0, 0, 0.3));\n",
              "      fill: #FFFFFF;\n",
              "    }\n",
              "  </style>\n",
              "\n",
              "      <script>\n",
              "        const buttonEl =\n",
              "          document.querySelector('#df-9efa6ce0-17bf-4c97-8ef9-c21c594d8991 button.colab-df-convert');\n",
              "        buttonEl.style.display =\n",
              "          google.colab.kernel.accessAllowed ? 'block' : 'none';\n",
              "\n",
              "        async function convertToInteractive(key) {\n",
              "          const element = document.querySelector('#df-9efa6ce0-17bf-4c97-8ef9-c21c594d8991');\n",
              "          const dataTable =\n",
              "            await google.colab.kernel.invokeFunction('convertToInteractive',\n",
              "                                                     [key], {});\n",
              "          if (!dataTable) return;\n",
              "\n",
              "          const docLinkHtml = 'Like what you see? Visit the ' +\n",
              "            '<a target=\"_blank\" href=https://colab.research.google.com/notebooks/data_table.ipynb>data table notebook</a>'\n",
              "            + ' to learn more about interactive tables.';\n",
              "          element.innerHTML = '';\n",
              "          dataTable['output_type'] = 'display_data';\n",
              "          await google.colab.output.renderOutput(dataTable, element);\n",
              "          const docLink = document.createElement('div');\n",
              "          docLink.innerHTML = docLinkHtml;\n",
              "          element.appendChild(docLink);\n",
              "        }\n",
              "      </script>\n",
              "    </div>\n",
              "  </div>\n",
              "  "
            ]
          },
          "metadata": {},
          "execution_count": 22
        }
      ]
    },
    {
      "cell_type": "code",
      "metadata": {
        "id": "q2B_jCMsCgdl",
        "colab": {
          "base_uri": "https://localhost:8080/",
          "height": 334
        },
        "outputId": "25ca24a5-2660-4d4d-a1f4-c8c3f9644f3b"
      },
      "source": [
        "# 데이터 중 숫자0을 가진 데이터를 처리하기\n",
        "# 숫자0인 데이터 중 글루코스 값의 분포를 히스토그램으로 확인하기\n",
        "import matplotlib.pyplot as plt\n",
        "plt.hist(diabetes_data['Glucose'], bins=10)"
      ],
      "execution_count": null,
      "outputs": [
        {
          "output_type": "execute_result",
          "data": {
            "text/plain": [
              "(array([  5.,   0.,   4.,  32., 156., 211., 163.,  95.,  56.,  46.]),\n",
              " array([  0. ,  19.9,  39.8,  59.7,  79.6,  99.5, 119.4, 139.3, 159.2,\n",
              "        179.1, 199. ]),\n",
              " <BarContainer object of 10 artists>)"
            ]
          },
          "metadata": {},
          "execution_count": 23
        },
        {
          "output_type": "display_data",
          "data": {
            "text/plain": [
              "<Figure size 432x288 with 1 Axes>"
            ],
            "image/png": "[encoded data removed]"
          },
          "metadata": {
            "needs_background": "light"
          }
        }
      ]
    },
    {
      "cell_type": "code",
      "metadata": {
        "id": "In-IFaMLCjE4",
        "colab": {
          "base_uri": "https://localhost:8080/"
        },
        "outputId": "833c313e-cfe3-4407-ed3f-5a5a14135c0a"
      },
      "source": [
        "# 0값을 검사할 피처명 리스트 객체 설정\n",
        "zero_features = ['Glucose', 'BloodPressure','SkinThickness','Insulin','BMI']\n",
        "\n",
        "# 전체 데이터 건수\n",
        "total_count = diabetes_data['Glucose'].count()\n",
        "\n",
        "# 피처별로 반복 하면서 데이터 값이 0 인 데이터 건수 추출하고, 퍼센트 계산\n",
        "for feature in zero_features:\n",
        "    zero_count = diabetes_data[diabetes_data[feature]==0][feature].count()\n",
        "    print(f'{feature}:\\t 값이 0인 건수: {zero_count}\\t 값이 0인 비율: {100*zero_count/total_count:.2f}')"
      ],
      "execution_count": null,
      "outputs": [
        {
          "output_type": "stream",
          "name": "stdout",
          "text": [
            "Glucose:\t 값이 0인 건수: 5\t 값이 0인 비율: 0.65\n",
            "BloodPressure:\t 값이 0인 건수: 35\t 값이 0인 비율: 4.56\n",
            "SkinThickness:\t 값이 0인 건수: 227\t 값이 0인 비율: 29.56\n",
            "Insulin:\t 값이 0인 건수: 374\t 값이 0인 비율: 48.70\n",
            "BMI:\t 값이 0인 건수: 11\t 값이 0인 비율: 1.43\n"
          ]
        }
      ]
    },
    {
      "cell_type": "code",
      "metadata": {
        "id": "pOJPOzWVClVN"
      },
      "source": [
        "# zero_features 리스트 내부에 저장된 개별 피처들에 대해서 0값을 평균 값으로 대체\n",
        "diabetes_data[zero_features]=diabetes_data[zero_features].replace(0,diabetes_data[zero_features].mean())"
      ],
      "execution_count": null,
      "outputs": []
    },
    {
      "cell_type": "code",
      "metadata": {
        "id": "sX0BMdtUCnuM"
      },
      "source": [
        "# 피처 스케일링\n",
        "x = diabetes_data.iloc[:, :-1]\n",
        "y = diabetes_data.iloc[:, -1]\n",
        "\n",
        "# StandardScaler 클래스를 이용해 피처 데이터 세트에 일괄적으로 표준화 적용\n",
        "from sklearn.preprocessing import StandardScaler\n",
        "\n",
        "scaler = StandardScaler()\n",
        "x_scaled = scaler.fit_transform(x)\n",
        "\n",
        "x_train, x_test, y_train, y_test = train_test_split(x_scaled, y, test_size = 0.2, random_state = 156, stratify=y)\n"
      ],
      "execution_count": null,
      "outputs": []
    },
    {
      "cell_type": "code",
      "source": [
        "# 학습, 예측 및 평가 수행.\n",
        "dt2 = DecisionTreeClassifier()\n",
        "dt2.fit(x_train,y_train)\n",
        "dt2_prediction = dt2.predict(x_test)"
      ],
      "metadata": {
        "id": "WSWAHmtBnI6A"
      },
      "execution_count": null,
      "outputs": []
    },
    {
      "cell_type": "code",
      "metadata": {
        "id": "SDqivabnET4O",
        "colab": {
          "base_uri": "https://localhost:8080/"
        },
        "outputId": "901bbca0-04a0-4aa0-ecf8-f8efb1a835f0"
      },
      "source": [
        "print('오차 행렬\\n', confusion_matrix(y_test, dt2_prediction))\n",
        "print('\\n평가 지표\\n', classification_report(y_test, dt2_prediction))"
      ],
      "execution_count": null,
      "outputs": [
        {
          "output_type": "stream",
          "name": "stdout",
          "text": [
            "오차 행렬\n",
            " [[80 20]\n",
            " [24 30]]\n",
            "\n",
            "평가 지표\n",
            "               precision    recall  f1-score   support\n",
            "\n",
            "           0       0.77      0.80      0.78       100\n",
            "           1       0.60      0.56      0.58        54\n",
            "\n",
            "    accuracy                           0.71       154\n",
            "   macro avg       0.68      0.68      0.68       154\n",
            "weighted avg       0.71      0.71      0.71       154\n",
            "\n"
          ]
        }
      ]
    },
    {
      "cell_type": "markdown",
      "metadata": {
        "id": "OIF2oXqgl5B2"
      },
      "source": [
        "### 6-2.하이퍼 파라미터 튜닝으로 모델 개선하기\n",
        "\n",
        "- 하이퍼 파라미터(hyper parameter) : 학습 프로세스가 시작되기 전에 값이 설정되는 매개 변수, 학습 전에 미리 지정되어 훈련하는 동안은 상수로 남게 되며, 파라미터와 다르게 주로 알고리즘 사용자에 의해 정해짐\n",
        "\n",
        "- [결정트리의 하이퍼 파라미터](https://scikit-learn.org/stable/modules/generated/sklearn.tree.DecisionTreeClassifier.html)\n",
        "  - criterion : {“gini”, “entropy”}, default=”gini” # 분류 기준\n",
        "  - max_depth : int, default=None  # 결정트리의 최대 깊이\n",
        "  - min_samples_split : int or float, default=2  # split 가능한 최소 샘플 수\n",
        "  - min_samples_leaf : int or float, default=1 # leaf 노드의 최소 샘플 수\n",
        "  - max_features : int, float or {“auto”, “sqrt”, “log2”}, default=None  # 최대 선택할 피처 수\n",
        "\n"
      ]
    },
    {
      "cell_type": "code",
      "metadata": {
        "id": "IWuSVECIEgL3",
        "colab": {
          "base_uri": "https://localhost:8080/"
        },
        "outputId": "9056831c-7c81-460f-9aae-ab7594b13055"
      },
      "source": [
        "# 트리의 최대 깊이를 6으로 제한했을 때\n",
        "dt3 = DecisionTreeClassifier(max_depth = 6)\n",
        "dt3.fit(x_train , y_train)\n",
        "dt3_prediction = dt3.predict(x_test)\n",
        "\n",
        "print('오차 행렬\\n', confusion_matrix(y_test, dt3_prediction))\n",
        "print('\\n평가 지표\\n', classification_report(y_test, dt3_prediction))"
      ],
      "execution_count": null,
      "outputs": [
        {
          "output_type": "stream",
          "name": "stdout",
          "text": [
            "오차 행렬\n",
            " [[82 18]\n",
            " [25 29]]\n",
            "\n",
            "평가 지표\n",
            "               precision    recall  f1-score   support\n",
            "\n",
            "           0       0.77      0.82      0.79       100\n",
            "           1       0.62      0.54      0.57        54\n",
            "\n",
            "    accuracy                           0.72       154\n",
            "   macro avg       0.69      0.68      0.68       154\n",
            "weighted avg       0.71      0.72      0.72       154\n",
            "\n"
          ]
        }
      ]
    },
    {
      "cell_type": "markdown",
      "metadata": {
        "id": "tP6VT-ipcKfT"
      },
      "source": [
        "-------------\n",
        "### 6-3.k-Fold Cross Validation으로 모델 개선하기\n",
        "\n",
        "- 표본내 성능과 표본외 성능\n",
        "  - 표본내 성능 검증(in-sample testing) : 학습 데이터 집합의 종속 변수값을 얼마나 잘 예측하였는지를 나타내는 성능\n",
        "  - **표본외 성능 검증(out-of-sample testing)** 혹은 **교차검증(cross validation)** : 학습에 쓰이지 않는 표본 데이터 집합의 종속 변수 값을 얼마나 잘 예측하는가를 검사하는 것\n",
        "\n",
        "- k-폴드 교차검증\n",
        "  - 데이터의 수가 적은 경우에는 이 데이터 중의 일부인 검증 데이터의 수도 적기 때문에 검증 성능의 신뢰도가 떨어짐\n",
        "  - 검증 데이터의 수를 증가시키면 학습용 데이터의 수가 적어지므로 정상적인 학습이 되지 않음\n",
        "  - 데이터의 수가 충분하지 않을 때 학습 데이터를 k개의 폴드로 나눠서 교차검증하는 방법\n",
        "\n",
        "  <img src=\"https://scikit-learn.org/stable/_images/grid_search_cross_validation.png\" width=600px>"
      ]
    },
    {
      "cell_type": "code",
      "metadata": {
        "id": "vuKHvuaXSxBN"
      },
      "source": [
        "# 난수 발생 시드 고정\n",
        "np.random.seed(7)\n",
        "from sklearn.model_selection import cross_val_score\n",
        "\n",
        "dt4 = DecisionTreeClassifier(max_depth=6)"
      ],
      "execution_count": null,
      "outputs": []
    },
    {
      "cell_type": "code",
      "metadata": {
        "id": "AeUGaEfRS2UZ",
        "colab": {
          "base_uri": "https://localhost:8080/"
        },
        "outputId": "01d4a3e7-255d-41ac-fd4a-1841ad334824"
      },
      "source": [
        "# 성능 지표 정확도, 교차검증 세트 5개\n",
        "scores = cross_val_score(dt4,x_scaled,y,cv=5, scoring = 'accuracy')\n",
        "print('교차 검증별 정확도 : ', np.round(scores, 4))\n",
        "print('평균 검증 정확도 : ', np.round(np.mean(scores),4))"
      ],
      "execution_count": null,
      "outputs": [
        {
          "output_type": "stream",
          "name": "stdout",
          "text": [
            "교차 검증별 정확도 :  [0.7468 0.6883 0.7013 0.7712 0.7451]\n",
            "평균 검증 정확도 :  0.7305\n"
          ]
        }
      ]
    },
    {
      "cell_type": "markdown",
      "metadata": {
        "id": "ii2if0GPm04f"
      },
      "source": [
        "### 6-4.여러 개의 트리를 결합하여 모델 개선하기(RandomForest)\n",
        "\n",
        "- 앙상블 학습(Ensemble Learning)\n",
        "  - 좋은 예측 성능을 얻기위해 여러 학습 알고리즘을 결합하여 사용하는 방법\n",
        "  - 모델 하나로 원하는 성능을 낼 수 없을 때 앙상블 학습을 사용하면 효과적인 경우가 있음\n",
        "  - 개별로 학습한 여러 모델을 조합하여 일반화(generalization) 성능을 향상시킬 수 있음\n",
        "  - 성능을 분산시키기 때문에 과적합(overfitting)이 감소할 수 있음\n",
        "\n",
        "\n",
        "- 앙상블 학습의 종류\n",
        "  1. 배깅(Bagging)\n",
        "    - Bootstrap Aggregation의 약자로 샘플을 여러 번 뽑아(Bootstrap) 각 모델을 학습시켜 결과물을 집계(Aggregration)하는 방법\n",
        "    <img src=\"https://img1.daumcdn.net/thumb/R1280x0/?scode=mtistory2&fname=https%3A%2F%2Fk.kakaocdn.net%2Fdn%2Fb4wG8O%2FbtqyfYW98AS%2FYZBtUJy3jZLyuik1R0aGNk%2Fimg.png\" >\n",
        "\n",
        "  2. 부스팅(Boosting)\n",
        "    - 가중치를 활용하여 약 분류기를 강 분류기로 만드는 방법\n",
        "    - 여러 개의 모델을 순차적으로 결합한 형태\n",
        "    - 처음 모델이 예측을 하면 그 예측 결과에 따라 데이터에 가중치가 부여되고, 부여된 가중치가 다음 모델에 영향을 줌\n",
        "    - 잘못 분류된 데이터에 집중하여 새로운 분류 규칙을 만드는 단계를 반복\n",
        "    <img src=\"https://img1.daumcdn.net/thumb/R1280x0/?scode=mtistory2&fname=https%3A%2F%2Fk.kakaocdn.net%2Fdn%2FkCejr%2FbtqyghvqEZB%2F9o3rKTEsuSIDHEfelYFJlk%2Fimg.png\">\n",
        "\n",
        "  3. 배깅과 부스팅 비교\n",
        "    <img src=\"https://img1.daumcdn.net/thumb/R1280x0/?scode=mtistory2&fname=https%3A%2F%2Fk.kakaocdn.net%2Fdn%2Fbwr6JW%2FbtqygiHRbRk%2Fcy5hbDAPpTjCG7xa6UWxi0%2Fimg.png\">\n",
        "\n",
        "\n",
        "- 랜덤 포레스트(RandomForest)\n",
        "  - 배깅 알고리즘의 한 종류\n",
        "  - 조금씩 다른 여러 결정 트리의 묶음 Tree + Tree = Forest!!!\n",
        "  - 잘 작동하되 서로 다른 방향으로 과대적합된 트리를 많이 만들면 그 결과를 평균냄으로써 과대적합된 양을 줄일 수 있다는 아이디어\n",
        "  - 트리들이 달라지도록 트리 생성 시 무작위성을 주입함\n",
        "    1. 각 트리를 만들 때 사용하는 데이터를 무작위로 선택\n",
        "    2. 노드를 분할할 특성을 무작위로 선택 : max_features=1로 설정하면 트리의 분기는 테스트할 특성을 고를 필요가 없게 되며 그냥 무작위로 선택한 특성의 임계값을 찾기만 하면 됨"
      ]
    },
    {
      "cell_type": "code",
      "metadata": {
        "id": "TUIQt_CyS4KB",
        "colab": {
          "base_uri": "https://localhost:8080/"
        },
        "outputId": "2637b883-ba08-414b-b92b-bb8099c07b7e"
      },
      "source": [
        "from sklearn.ensemble import RandomForestClassifier\n",
        "\n",
        "# 트리 개수 최대 50개\n",
        "rf = RandomForestClassifier(n_estimators=50, max_features = 5,random_state = 0)\n",
        "rf.fit(x_train , y_train)\n",
        "rf_prediction = rf.predict(x_test)\n",
        "\n",
        "print('오차 행렬\\n', confusion_matrix(y_test, rf_prediction))\n",
        "print('\\n평가 지표\\n', classification_report(y_test, rf_prediction))"
      ],
      "execution_count": null,
      "outputs": [
        {
          "output_type": "stream",
          "name": "stdout",
          "text": [
            "오차 행렬\n",
            " [[85 15]\n",
            " [21 33]]\n",
            "\n",
            "평가 지표\n",
            "               precision    recall  f1-score   support\n",
            "\n",
            "           0       0.80      0.85      0.83       100\n",
            "           1       0.69      0.61      0.65        54\n",
            "\n",
            "    accuracy                           0.77       154\n",
            "   macro avg       0.74      0.73      0.74       154\n",
            "weighted avg       0.76      0.77      0.76       154\n",
            "\n"
          ]
        }
      ]
    },
    {
      "cell_type": "code",
      "metadata": {
        "id": "cvWZSouNS4KQ",
        "colab": {
          "base_uri": "https://localhost:8080/"
        },
        "outputId": "f549b817-a7b5-43b0-f6c9-865cff90a006"
      },
      "source": [
        "# 성능 지표 정확도, 교차검증 세트 5개\n",
        "scores = cross_val_score(rf,x_scaled,y,scoring = 'accuracy',cv=5)\n",
        "print('교차 검증별 정확도 : ', np.round(scores, 4))\n",
        "print('평균 검증 정확도 : ', np.round(np.mean(scores),4))"
      ],
      "execution_count": null,
      "outputs": [
        {
          "output_type": "stream",
          "name": "stdout",
          "text": [
            "교차 검증별 정확도 :  [0.7597 0.7403 0.7338 0.8105 0.719 ]\n",
            "평균 검증 정확도 :  0.7526\n"
          ]
        }
      ]
    },
    {
      "cell_type": "markdown",
      "metadata": {
        "id": "LnmGMzVTiUG8"
      },
      "source": [
        "### 수고했습니다.\n",
        "\n"
      ]
    }
  ]
}