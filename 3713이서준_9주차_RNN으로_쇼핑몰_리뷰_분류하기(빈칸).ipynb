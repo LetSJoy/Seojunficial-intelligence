{
  "nbformat": 4,
  "nbformat_minor": 0,
  "metadata": {
    "colab": {
      "provenance": [],
      "toc_visible": true,
      "gpuType": "T4"
    },
    "kernelspec": {
      "name": "python3",
      "display_name": "Python 3"
    },
    "language_info": {
      "name": "python"
    },
    "accelerator": "GPU",
    "gpuClass": "standard"
  },
  "cells": [
    {
      "cell_type": "markdown",
      "source": [
        "# **온라인 쇼핑몰 리뷰 분류하기**\n",
        "\n",
        "\n",
        "- **온라인 쇼핑몰 리뷰 데이터**\n",
        "  - 일반적으로 온라인 쇼핑몰에는 구입한 제품에 대한 텍스트 리뷰와 평점을 남길 수 있는 시스템이 마련되어 있다. 본 데이터는 한 아마존에서 특정일에 판매된 제품 전반에 대한 서로 다른 리뷰를 수집하고 고객의 개인정보 없이 공개한 데이터입니다. 온라인 쇼핑몰을 이용한 고객이 남긴 데이터이며, 총 2,501개의 샘플로 구성되어 있다.\n",
        "\n",
        "  - 데이터 주요 열(column) 이해하기\n",
        "    - category : 상품 카테고리    ex) Foods\n",
        "    - report_date : 리뷰 작성일    ex) 2019-01-02\n",
        "    - review_rating : 평점    ex) 5\n",
        "    - review_text : 리뷰 텍스트    ex) A great flavour top - up for slow cooking."
      ],
      "metadata": {
        "id": "uECz_jo71ioW"
      }
    },
    {
      "cell_type": "markdown",
      "source": [
        "## **0. RNN과 LSTM**\n",
        "\n",
        "- 시계열(Time Sequential) 데이터를 학습하는 경우, 이전 과거의 값을 바탕으로 현재의 값을 예측하는 모델이 필요함\n",
        "- 순환신경망(RNN; Recurrent Neural Network)\n",
        "    - 인공신경망 중 은닉층의 출력 결과가 다시 같은 은닉층의 입력으로 들어가도록 연결되어 있는 것\n",
        "    - 시퀀스 데이터를 처리하는 데에 강점을 보임\n",
        "    - RNN 모델의 활용\n",
        "\n",
        "        <img src=\"https://i.stack.imgur.com/b4sus.jpg\" width=400>\n",
        "\n",
        "- RNN 모델의 구조\n",
        "\n",
        "    - <img src=\"https://img1.daumcdn.net/thumb/R1280x0/?scode=mtistory2&fname=https%3A%2F%2Fblog.kakaocdn.net%2Fdn%2FqkLoA%2FbtqR9lSIHSo%2F5568lwMxBAQNzHLYrKC3k0%2Fimg.png\" width=400>\n",
        "    - <img src=\"https://img1.daumcdn.net/thumb/R1280x0/?scode=mtistory2&fname=https%3A%2F%2Fblog.kakaocdn.net%2Fdn%2Feg8JHS%2FbtqSjBfRtXP%2Fg3tMpzJPKKfe21AiRxd8Ik%2Fimg.png\" width=400>\n",
        "\n",
        "        - h_(t-1) = W_(t-1)*x_(t-1) + b_(t-1)\n",
        "        - h_t = W_xh * x_t + W_hh * h_(t-1) + b_t\n",
        "        - y_t = W_hy * tanh(h_t) + b_t\n",
        "\n",
        "\n",
        "- RNN 모델의 문제점\n",
        "    - RNN은 길이가 긴 시퀀스에서 앞쪽 시점의 정보가 먼 거리에 있는 시점까지 충분히 전달되지 못하는 문제가 있음. 이러한 문제를 해결하기 위해 LSTM(Long Short Term Memory)이 고안됨.\n",
        "    - ex) \"*The earth* is a great place to live. However, this beautiful *place* is facing the problem of environmental pollution.\"\n",
        "\n",
        "- LSTM(Long Short-term Memory)과 GRU(Gated Recurrent Unit)\n",
        "\n",
        "    <img src=\"https://miro.medium.com/v2/resize:fit:1194/1*B0q2ZLsUUw31eEImeVf3PQ.png\" width=500>\n",
        "\n",
        "    - LSTM:\n",
        "        - 이전 시점의 정보를 다음 시점으로 전달할 때, 어떤 정보를 잊어버릴지(short term) 또는 유지하여 전달할지(long term) 결정하는 연산을 함.\n",
        "    - GRU:\n",
        "        - 과거와 현재의 정보를 각각 얼마나 반영할지에 대한 비율을 구하는 연산을 함.\n",
        "        - LSTM 모델과 비교하여 학습할 파라미터 수가 더 적음.\n",
        "        \n"
      ],
      "metadata": {
        "id": "iBks6kj5QU3X"
      }
    },
    {
      "cell_type": "markdown",
      "source": [
        "## **1. 문제정의**\n",
        "\n",
        "- 온라인 쇼핑몰에서 구입한 제품에 대한 고객의 만족도를 파악하려면 어떻게 해야할까요? 바로 고객의 리뷰 데이터를 분석해야합니다! 고객이 구매한 제품과 텍스트 리뷰, 평점 수치에 대한 통찰력을 얻고 부정적인 리뷰에서 쇼핑몰을 개선되는 점을 찾는 것입니다. 상품 카테고리 별 리뷰의 긍정도를 파악하고, 평점의 분포를 확인하는 등 리뷰 데이터를 이해하고, **리뷰 텍스트를 기반으로 평점 값을 예측하는 딥러닝 모델을 만들어봅니다.**"
      ],
      "metadata": {
        "id": "sPY5mMEfhD8r"
      }
    },
    {
      "cell_type": "markdown",
      "source": [
        "## **2. 데이터수집**\n",
        "\n",
        "\n",
        "[데이터 출처](https://www.kaggle.com/datasets/akudnaver/amazon-reviews-dataset)"
      ],
      "metadata": {
        "id": "5XO-hpskhR2E"
      }
    },
    {
      "cell_type": "code",
      "source": [
        "# numpy, pandas, matplotlib, seaborn 라이브러리 불러오기\n",
        "import numpy as np\n",
        "import pandas as pd\n",
        "import matplotlib.pyplot as plt\n",
        "import seaborn as sns"
      ],
      "metadata": {
        "id": "QrjOPjyNu0AA"
      },
      "execution_count": null,
      "outputs": []
    },
    {
      "cell_type": "code",
      "source": [
        "from google.colab import drive\n",
        "drive.mount('/content/drive')"
      ],
      "metadata": {
        "id": "X3wI7815IMMl",
        "colab": {
          "base_uri": "https://localhost:8080/"
        },
        "outputId": "78a1ea70-fb8b-4ffc-8b2c-87ccdb5f2865"
      },
      "execution_count": null,
      "outputs": [
        {
          "output_type": "stream",
          "name": "stdout",
          "text": [
            "Mounted at /content/drive\n"
          ]
        }
      ]
    },
    {
      "cell_type": "code",
      "source": [
        "import os\n",
        "os.environ['KAGGLE_CONFIG_DIR'] = '/content/drive/My Drive/Colab Notebooks/.kaggle'"
      ],
      "metadata": {
        "id": "f0Ac_gqbIZpl"
      },
      "execution_count": null,
      "outputs": []
    },
    {
      "cell_type": "code",
      "source": [
        "# 데이터셋 다운로드\n",
        "!kaggle datasets download -d akudnaver/amazon-reviews-dataset"
      ],
      "metadata": {
        "id": "5Z7Xuli2IbHG",
        "colab": {
          "base_uri": "https://localhost:8080/"
        },
        "outputId": "5f843d6c-6554-496c-d021-e7940761d905"
      },
      "execution_count": null,
      "outputs": [
        {
          "output_type": "stream",
          "name": "stdout",
          "text": [
            "Downloading amazon-reviews-dataset.zip to /content\n",
            "\r  0% 0.00/1.46M [00:00<?, ?B/s]\n",
            "\r100% 1.46M/1.46M [00:00<00:00, 131MB/s]\n"
          ]
        }
      ]
    },
    {
      "cell_type": "code",
      "source": [
        "!unzip amazon-reviews-dataset.zip"
      ],
      "metadata": {
        "id": "_gh3nsAZIhhr",
        "colab": {
          "base_uri": "https://localhost:8080/"
        },
        "outputId": "99be38bf-0b87-4765-dd0e-e6dbd75e7fe2"
      },
      "execution_count": null,
      "outputs": [
        {
          "output_type": "stream",
          "name": "stdout",
          "text": [
            "Archive:  amazon-reviews-dataset.zip\n",
            "  inflating: review-details.xlsx     \n"
          ]
        }
      ]
    },
    {
      "cell_type": "code",
      "source": [
        "# 온라인 쇼핑몰 데이터프레임(df) 생성하기\n",
        "df = pd.read_excel('./review-details.xlsx')\n",
        "\n",
        "# 첫행부터 5개 행의 데이터 확인하기\n",
        "df.head()"
      ],
      "metadata": {
        "id": "ja9oq_m0ydG7",
        "colab": {
          "base_uri": "https://localhost:8080/",
          "height": 490
        },
        "outputId": "c142812f-7289-49c7-95c9-2f437edd346f"
      },
      "execution_count": null,
      "outputs": [
        {
          "output_type": "execute_result",
          "data": {
            "text/plain": [
              "  report_date online_store            upc retailer_product_code  \\\n",
              "0  2019-01-02  FRESHAMAZON  8718114216478            B0142CI6FC   \n",
              "1  2019-01-03  FRESHAMAZON  5000184201199            B014DFNNRY   \n",
              "2  2019-01-03  FRESHAMAZON  5000184201199            B014DFNNRY   \n",
              "3  2019-01-03  FRESHAMAZON  8712566479726            B014DFKELC   \n",
              "4  2019-01-03  FRESHAMAZON  8717163536476            B014G37I7E   \n",
              "\n",
              "           brand       category sub_category  \\\n",
              "0  Dove Men+Care  Personal Care         Deos   \n",
              "1        Marmite          Foods      Savoury   \n",
              "2        Marmite          Foods      Savoury   \n",
              "3          Knorr          Foods      Savoury   \n",
              "4            Cif       Homecare          HHC   \n",
              "\n",
              "                                 product_description review_date  \\\n",
              "0  Dove Men+Care Extra Fresh Anti-perspirant Deod...  2019-01-01   \n",
              "1                 Marmite  Spread Yeast Extract 500g  2019-01-02   \n",
              "2                 Marmite  Spread Yeast Extract 500g  2019-01-02   \n",
              "3                      Knorr  Beef Stock Pot 8 x 28g  2019-01-02   \n",
              "4                   Cif Citrus Bathroom Mousse 500ml  2019-01-02   \n",
              "\n",
              "   review_rating  ...                                         dimension2  \\\n",
              "0              5  ...                     Male Anti-Perspirant Deodorant   \n",
              "1              5  ...                                 COTC Yeast Extract   \n",
              "2              4  ...                                 COTC Yeast Extract   \n",
              "3              5  ...  Beef Stock/Pots/Cubes/Extract/Liquid/Concentrated   \n",
              "4              5  ...                                    Bathroom Mousse   \n",
              "\n",
              "                            dimension3  dimension4 dimension5 dimension6  \\\n",
              "0  COTC Male Anti-Perspirant Deodorant         NaN        NaN        NaN   \n",
              "1                   COTC Yeast Extract         NaN        NaN        NaN   \n",
              "2                   COTC Yeast Extract         NaN        NaN        NaN   \n",
              "3                           Stock Pots         NaN        NaN        NaN   \n",
              "4                      Bathroom Mousse         NaN        NaN        NaN   \n",
              "\n",
              "                            dimension7        dimension8 verified_purchase  \\\n",
              "0  COTC Male Anti-Perspirant Deodorant  Core of the Core              True   \n",
              "1                   COTC Yeast Extract  Core of the Core              True   \n",
              "2                   COTC Yeast Extract  Core of the Core              True   \n",
              "3                           Stock Pots  Core of the Core              True   \n",
              "4                                  NaN  Core of the Core             False   \n",
              "\n",
              "  helpful_review_count                        review_hash_id  \n",
              "0                    0  3f129b02-ea76-0323-bd59-235d97a4f83f  \n",
              "1                    0  d7f3b9aa-e8b3-626d-683b-374e201c8315  \n",
              "2                    0  e58a523d-0155-a366-f107-7ac6817ac3b7  \n",
              "3                    0  aaa9bb87-4f99-bb89-65cb-3b400ebb45c0  \n",
              "4                    0  48c71b34-d7fe-5e90-51dd-239e153fb0ae  \n",
              "\n",
              "[5 rows x 32 columns]"
            ],
            "text/html": [
              "\n",
              "  <div id=\"df-babe3002-f4e0-4b7b-8a08-c207af5ace04\">\n",
              "    <div class=\"colab-df-container\">\n",
              "      <div>\n",
              "<style scoped>\n",
              "    .dataframe tbody tr th:only-of-type {\n",
              "        vertical-align: middle;\n",
              "    }\n",
              "\n",
              "    .dataframe tbody tr th {\n",
              "        vertical-align: top;\n",
              "    }\n",
              "\n",
              "    .dataframe thead th {\n",
              "        text-align: right;\n",
              "    }\n",
              "</style>\n",
              "<table border=\"1\" class=\"dataframe\">\n",
              "  <thead>\n",
              "    <tr style=\"text-align: right;\">\n",
              "      <th></th>\n",
              "      <th>report_date</th>\n",
              "      <th>online_store</th>\n",
              "      <th>upc</th>\n",
              "      <th>retailer_product_code</th>\n",
              "      <th>brand</th>\n",
              "      <th>category</th>\n",
              "      <th>sub_category</th>\n",
              "      <th>product_description</th>\n",
              "      <th>review_date</th>\n",
              "      <th>review_rating</th>\n",
              "      <th>...</th>\n",
              "      <th>dimension2</th>\n",
              "      <th>dimension3</th>\n",
              "      <th>dimension4</th>\n",
              "      <th>dimension5</th>\n",
              "      <th>dimension6</th>\n",
              "      <th>dimension7</th>\n",
              "      <th>dimension8</th>\n",
              "      <th>verified_purchase</th>\n",
              "      <th>helpful_review_count</th>\n",
              "      <th>review_hash_id</th>\n",
              "    </tr>\n",
              "  </thead>\n",
              "  <tbody>\n",
              "    <tr>\n",
              "      <th>0</th>\n",
              "      <td>2019-01-02</td>\n",
              "      <td>FRESHAMAZON</td>\n",
              "      <td>8718114216478</td>\n",
              "      <td>B0142CI6FC</td>\n",
              "      <td>Dove Men+Care</td>\n",
              "      <td>Personal Care</td>\n",
              "      <td>Deos</td>\n",
              "      <td>Dove Men+Care Extra Fresh Anti-perspirant Deod...</td>\n",
              "      <td>2019-01-01</td>\n",
              "      <td>5</td>\n",
              "      <td>...</td>\n",
              "      <td>Male Anti-Perspirant Deodorant</td>\n",
              "      <td>COTC Male Anti-Perspirant Deodorant</td>\n",
              "      <td>NaN</td>\n",
              "      <td>NaN</td>\n",
              "      <td>NaN</td>\n",
              "      <td>COTC Male Anti-Perspirant Deodorant</td>\n",
              "      <td>Core of the Core</td>\n",
              "      <td>True</td>\n",
              "      <td>0</td>\n",
              "      <td>3f129b02-ea76-0323-bd59-235d97a4f83f</td>\n",
              "    </tr>\n",
              "    <tr>\n",
              "      <th>1</th>\n",
              "      <td>2019-01-03</td>\n",
              "      <td>FRESHAMAZON</td>\n",
              "      <td>5000184201199</td>\n",
              "      <td>B014DFNNRY</td>\n",
              "      <td>Marmite</td>\n",
              "      <td>Foods</td>\n",
              "      <td>Savoury</td>\n",
              "      <td>Marmite  Spread Yeast Extract 500g</td>\n",
              "      <td>2019-01-02</td>\n",
              "      <td>5</td>\n",
              "      <td>...</td>\n",
              "      <td>COTC Yeast Extract</td>\n",
              "      <td>COTC Yeast Extract</td>\n",
              "      <td>NaN</td>\n",
              "      <td>NaN</td>\n",
              "      <td>NaN</td>\n",
              "      <td>COTC Yeast Extract</td>\n",
              "      <td>Core of the Core</td>\n",
              "      <td>True</td>\n",
              "      <td>0</td>\n",
              "      <td>d7f3b9aa-e8b3-626d-683b-374e201c8315</td>\n",
              "    </tr>\n",
              "    <tr>\n",
              "      <th>2</th>\n",
              "      <td>2019-01-03</td>\n",
              "      <td>FRESHAMAZON</td>\n",
              "      <td>5000184201199</td>\n",
              "      <td>B014DFNNRY</td>\n",
              "      <td>Marmite</td>\n",
              "      <td>Foods</td>\n",
              "      <td>Savoury</td>\n",
              "      <td>Marmite  Spread Yeast Extract 500g</td>\n",
              "      <td>2019-01-02</td>\n",
              "      <td>4</td>\n",
              "      <td>...</td>\n",
              "      <td>COTC Yeast Extract</td>\n",
              "      <td>COTC Yeast Extract</td>\n",
              "      <td>NaN</td>\n",
              "      <td>NaN</td>\n",
              "      <td>NaN</td>\n",
              "      <td>COTC Yeast Extract</td>\n",
              "      <td>Core of the Core</td>\n",
              "      <td>True</td>\n",
              "      <td>0</td>\n",
              "      <td>e58a523d-0155-a366-f107-7ac6817ac3b7</td>\n",
              "    </tr>\n",
              "    <tr>\n",
              "      <th>3</th>\n",
              "      <td>2019-01-03</td>\n",
              "      <td>FRESHAMAZON</td>\n",
              "      <td>8712566479726</td>\n",
              "      <td>B014DFKELC</td>\n",
              "      <td>Knorr</td>\n",
              "      <td>Foods</td>\n",
              "      <td>Savoury</td>\n",
              "      <td>Knorr  Beef Stock Pot 8 x 28g</td>\n",
              "      <td>2019-01-02</td>\n",
              "      <td>5</td>\n",
              "      <td>...</td>\n",
              "      <td>Beef Stock/Pots/Cubes/Extract/Liquid/Concentrated</td>\n",
              "      <td>Stock Pots</td>\n",
              "      <td>NaN</td>\n",
              "      <td>NaN</td>\n",
              "      <td>NaN</td>\n",
              "      <td>Stock Pots</td>\n",
              "      <td>Core of the Core</td>\n",
              "      <td>True</td>\n",
              "      <td>0</td>\n",
              "      <td>aaa9bb87-4f99-bb89-65cb-3b400ebb45c0</td>\n",
              "    </tr>\n",
              "    <tr>\n",
              "      <th>4</th>\n",
              "      <td>2019-01-03</td>\n",
              "      <td>FRESHAMAZON</td>\n",
              "      <td>8717163536476</td>\n",
              "      <td>B014G37I7E</td>\n",
              "      <td>Cif</td>\n",
              "      <td>Homecare</td>\n",
              "      <td>HHC</td>\n",
              "      <td>Cif Citrus Bathroom Mousse 500ml</td>\n",
              "      <td>2019-01-02</td>\n",
              "      <td>5</td>\n",
              "      <td>...</td>\n",
              "      <td>Bathroom Mousse</td>\n",
              "      <td>Bathroom Mousse</td>\n",
              "      <td>NaN</td>\n",
              "      <td>NaN</td>\n",
              "      <td>NaN</td>\n",
              "      <td>NaN</td>\n",
              "      <td>Core of the Core</td>\n",
              "      <td>False</td>\n",
              "      <td>0</td>\n",
              "      <td>48c71b34-d7fe-5e90-51dd-239e153fb0ae</td>\n",
              "    </tr>\n",
              "  </tbody>\n",
              "</table>\n",
              "<p>5 rows × 32 columns</p>\n",
              "</div>\n",
              "      <button class=\"colab-df-convert\" onclick=\"convertToInteractive('df-babe3002-f4e0-4b7b-8a08-c207af5ace04')\"\n",
              "              title=\"Convert this dataframe to an interactive table.\"\n",
              "              style=\"display:none;\">\n",
              "        \n",
              "  <svg xmlns=\"http://www.w3.org/2000/svg\" height=\"24px\"viewBox=\"0 0 24 24\"\n",
              "       width=\"24px\">\n",
              "    <path d=\"M0 0h24v24H0V0z\" fill=\"none\"/>\n",
              "    <path d=\"M18.56 5.44l.94 2.06.94-2.06 2.06-.94-2.06-.94-.94-2.06-.94 2.06-2.06.94zm-11 1L8.5 8.5l.94-2.06 2.06-.94-2.06-.94L8.5 2.5l-.94 2.06-2.06.94zm10 10l.94 2.06.94-2.06 2.06-.94-2.06-.94-.94-2.06-.94 2.06-2.06.94z\"/><path d=\"M17.41 7.96l-1.37-1.37c-.4-.4-.92-.59-1.43-.59-.52 0-1.04.2-1.43.59L10.3 9.45l-7.72 7.72c-.78.78-.78 2.05 0 2.83L4 21.41c.39.39.9.59 1.41.59.51 0 1.02-.2 1.41-.59l7.78-7.78 2.81-2.81c.8-.78.8-2.07 0-2.86zM5.41 20L4 18.59l7.72-7.72 1.47 1.35L5.41 20z\"/>\n",
              "  </svg>\n",
              "      </button>\n",
              "      \n",
              "  <style>\n",
              "    .colab-df-container {\n",
              "      display:flex;\n",
              "      flex-wrap:wrap;\n",
              "      gap: 12px;\n",
              "    }\n",
              "\n",
              "    .colab-df-convert {\n",
              "      background-color: #E8F0FE;\n",
              "      border: none;\n",
              "      border-radius: 50%;\n",
              "      cursor: pointer;\n",
              "      display: none;\n",
              "      fill: #1967D2;\n",
              "      height: 32px;\n",
              "      padding: 0 0 0 0;\n",
              "      width: 32px;\n",
              "    }\n",
              "\n",
              "    .colab-df-convert:hover {\n",
              "      background-color: #E2EBFA;\n",
              "      box-shadow: 0px 1px 2px rgba(60, 64, 67, 0.3), 0px 1px 3px 1px rgba(60, 64, 67, 0.15);\n",
              "      fill: #174EA6;\n",
              "    }\n",
              "\n",
              "    [theme=dark] .colab-df-convert {\n",
              "      background-color: #3B4455;\n",
              "      fill: #D2E3FC;\n",
              "    }\n",
              "\n",
              "    [theme=dark] .colab-df-convert:hover {\n",
              "      background-color: #434B5C;\n",
              "      box-shadow: 0px 1px 3px 1px rgba(0, 0, 0, 0.15);\n",
              "      filter: drop-shadow(0px 1px 2px rgba(0, 0, 0, 0.3));\n",
              "      fill: #FFFFFF;\n",
              "    }\n",
              "  </style>\n",
              "\n",
              "      <script>\n",
              "        const buttonEl =\n",
              "          document.querySelector('#df-babe3002-f4e0-4b7b-8a08-c207af5ace04 button.colab-df-convert');\n",
              "        buttonEl.style.display =\n",
              "          google.colab.kernel.accessAllowed ? 'block' : 'none';\n",
              "\n",
              "        async function convertToInteractive(key) {\n",
              "          const element = document.querySelector('#df-babe3002-f4e0-4b7b-8a08-c207af5ace04');\n",
              "          const dataTable =\n",
              "            await google.colab.kernel.invokeFunction('convertToInteractive',\n",
              "                                                     [key], {});\n",
              "          if (!dataTable) return;\n",
              "\n",
              "          const docLinkHtml = 'Like what you see? Visit the ' +\n",
              "            '<a target=\"_blank\" href=https://colab.research.google.com/notebooks/data_table.ipynb>data table notebook</a>'\n",
              "            + ' to learn more about interactive tables.';\n",
              "          element.innerHTML = '';\n",
              "          dataTable['output_type'] = 'display_data';\n",
              "          await google.colab.output.renderOutput(dataTable, element);\n",
              "          const docLink = document.createElement('div');\n",
              "          docLink.innerHTML = docLinkHtml;\n",
              "          element.appendChild(docLink);\n",
              "        }\n",
              "      </script>\n",
              "    </div>\n",
              "  </div>\n",
              "  "
            ]
          },
          "metadata": {},
          "execution_count": 6
        }
      ]
    },
    {
      "cell_type": "code",
      "source": [
        "# 데이터프레임 요약정보 보기\n",
        "df.info()"
      ],
      "metadata": {
        "id": "UMZHOvrNzBJz",
        "colab": {
          "base_uri": "https://localhost:8080/"
        },
        "outputId": "e34423e3-f354-4933-96e7-5eb78c68d0ac"
      },
      "execution_count": null,
      "outputs": [
        {
          "output_type": "stream",
          "name": "stdout",
          "text": [
            "<class 'pandas.core.frame.DataFrame'>\n",
            "RangeIndex: 2501 entries, 0 to 2500\n",
            "Data columns (total 32 columns):\n",
            " #   Column                  Non-Null Count  Dtype         \n",
            "---  ------                  --------------  -----         \n",
            " 0   report_date             2501 non-null   datetime64[ns]\n",
            " 1   online_store            2501 non-null   object        \n",
            " 2   upc                     2501 non-null   int64         \n",
            " 3   retailer_product_code   2501 non-null   object        \n",
            " 4   brand                   2501 non-null   object        \n",
            " 5   category                2501 non-null   object        \n",
            " 6   sub_category            2501 non-null   object        \n",
            " 7   product_description     2501 non-null   object        \n",
            " 8   review_date             2501 non-null   datetime64[ns]\n",
            " 9   review_rating           2501 non-null   int64         \n",
            " 10  review_title            2403 non-null   object        \n",
            " 11  review_text             2501 non-null   object        \n",
            " 12  is_competitor           2501 non-null   int64         \n",
            " 13  manufacturer            2501 non-null   object        \n",
            " 14  market                  2501 non-null   object        \n",
            " 15  matched_keywords        0 non-null      float64       \n",
            " 16  time_of_publication     0 non-null      float64       \n",
            " 17  url                     1654 non-null   object        \n",
            " 18  review_type             2501 non-null   object        \n",
            " 19  parent_review           2501 non-null   object        \n",
            " 20  manufacturers_response  0 non-null      float64       \n",
            " 21  dimension1              2501 non-null   object        \n",
            " 22  dimension2              2501 non-null   object        \n",
            " 23  dimension3              2310 non-null   object        \n",
            " 24  dimension4              0 non-null      float64       \n",
            " 25  dimension5              0 non-null      float64       \n",
            " 26  dimension6              0 non-null      float64       \n",
            " 27  dimension7              2499 non-null   object        \n",
            " 28  dimension8              2501 non-null   object        \n",
            " 29  verified_purchase       2501 non-null   bool          \n",
            " 30  helpful_review_count    2501 non-null   int64         \n",
            " 31  review_hash_id          2501 non-null   object        \n",
            "dtypes: bool(1), datetime64[ns](2), float64(6), int64(4), object(19)\n",
            "memory usage: 608.3+ KB\n"
          ]
        }
      ]
    },
    {
      "cell_type": "markdown",
      "source": [
        "## **3. 탐색적 데이터 분석(EDA)**"
      ],
      "metadata": {
        "id": "LQViWN851wWI"
      }
    },
    {
      "cell_type": "code",
      "source": [
        "# 시각화 라이브러리 import\n",
        "import seaborn as sns\n",
        "import matplotlib.pyplot as plt"
      ],
      "metadata": {
        "id": "ixooRe73FN7G"
      },
      "execution_count": null,
      "outputs": []
    },
    {
      "cell_type": "markdown",
      "source": [
        "##### **필요한 열만 골라 데이터프레임 생성하기**"
      ],
      "metadata": {
        "id": "9YDyR3nQR-Yk"
      }
    },
    {
      "cell_type": "code",
      "source": [
        "# 필요한 열만 골라 데이터프레임 생성하기\n",
        "data = df[['review_rating','category','review_text']]"
      ],
      "metadata": {
        "id": "j7J6z4Gfe5j2"
      },
      "execution_count": null,
      "outputs": []
    },
    {
      "cell_type": "code",
      "source": [
        "# 첫행부터 5개 행의 데이터 확인하기\n",
        "data.head()"
      ],
      "metadata": {
        "id": "QtcU_DNXg9Zl",
        "colab": {
          "base_uri": "https://localhost:8080/",
          "height": 206
        },
        "outputId": "7b6146c6-f113-43be-f29c-976fa6ac5e33"
      },
      "execution_count": null,
      "outputs": [
        {
          "output_type": "execute_result",
          "data": {
            "text/plain": [
              "   review_rating       category  \\\n",
              "0              5  Personal Care   \n",
              "1              5          Foods   \n",
              "2              4          Foods   \n",
              "3              5          Foods   \n",
              "4              5       Homecare   \n",
              "\n",
              "                                         review_text  \n",
              "0  As you get older, you know what you like and w...  \n",
              "1  Three gigantic marmite jars that will last pro...  \n",
              "2                                          Excellent  \n",
              "3         A great flavour top - up for slow cooking.  \n",
              "4                          Does what is says it does  "
            ],
            "text/html": [
              "\n",
              "  <div id=\"df-574e1173-0d53-4248-8cb5-d04544a733d8\">\n",
              "    <div class=\"colab-df-container\">\n",
              "      <div>\n",
              "<style scoped>\n",
              "    .dataframe tbody tr th:only-of-type {\n",
              "        vertical-align: middle;\n",
              "    }\n",
              "\n",
              "    .dataframe tbody tr th {\n",
              "        vertical-align: top;\n",
              "    }\n",
              "\n",
              "    .dataframe thead th {\n",
              "        text-align: right;\n",
              "    }\n",
              "</style>\n",
              "<table border=\"1\" class=\"dataframe\">\n",
              "  <thead>\n",
              "    <tr style=\"text-align: right;\">\n",
              "      <th></th>\n",
              "      <th>review_rating</th>\n",
              "      <th>category</th>\n",
              "      <th>review_text</th>\n",
              "    </tr>\n",
              "  </thead>\n",
              "  <tbody>\n",
              "    <tr>\n",
              "      <th>0</th>\n",
              "      <td>5</td>\n",
              "      <td>Personal Care</td>\n",
              "      <td>As you get older, you know what you like and w...</td>\n",
              "    </tr>\n",
              "    <tr>\n",
              "      <th>1</th>\n",
              "      <td>5</td>\n",
              "      <td>Foods</td>\n",
              "      <td>Three gigantic marmite jars that will last pro...</td>\n",
              "    </tr>\n",
              "    <tr>\n",
              "      <th>2</th>\n",
              "      <td>4</td>\n",
              "      <td>Foods</td>\n",
              "      <td>Excellent</td>\n",
              "    </tr>\n",
              "    <tr>\n",
              "      <th>3</th>\n",
              "      <td>5</td>\n",
              "      <td>Foods</td>\n",
              "      <td>A great flavour top - up for slow cooking.</td>\n",
              "    </tr>\n",
              "    <tr>\n",
              "      <th>4</th>\n",
              "      <td>5</td>\n",
              "      <td>Homecare</td>\n",
              "      <td>Does what is says it does</td>\n",
              "    </tr>\n",
              "  </tbody>\n",
              "</table>\n",
              "</div>\n",
              "      <button class=\"colab-df-convert\" onclick=\"convertToInteractive('df-574e1173-0d53-4248-8cb5-d04544a733d8')\"\n",
              "              title=\"Convert this dataframe to an interactive table.\"\n",
              "              style=\"display:none;\">\n",
              "        \n",
              "  <svg xmlns=\"http://www.w3.org/2000/svg\" height=\"24px\"viewBox=\"0 0 24 24\"\n",
              "       width=\"24px\">\n",
              "    <path d=\"M0 0h24v24H0V0z\" fill=\"none\"/>\n",
              "    <path d=\"M18.56 5.44l.94 2.06.94-2.06 2.06-.94-2.06-.94-.94-2.06-.94 2.06-2.06.94zm-11 1L8.5 8.5l.94-2.06 2.06-.94-2.06-.94L8.5 2.5l-.94 2.06-2.06.94zm10 10l.94 2.06.94-2.06 2.06-.94-2.06-.94-.94-2.06-.94 2.06-2.06.94z\"/><path d=\"M17.41 7.96l-1.37-1.37c-.4-.4-.92-.59-1.43-.59-.52 0-1.04.2-1.43.59L10.3 9.45l-7.72 7.72c-.78.78-.78 2.05 0 2.83L4 21.41c.39.39.9.59 1.41.59.51 0 1.02-.2 1.41-.59l7.78-7.78 2.81-2.81c.8-.78.8-2.07 0-2.86zM5.41 20L4 18.59l7.72-7.72 1.47 1.35L5.41 20z\"/>\n",
              "  </svg>\n",
              "      </button>\n",
              "      \n",
              "  <style>\n",
              "    .colab-df-container {\n",
              "      display:flex;\n",
              "      flex-wrap:wrap;\n",
              "      gap: 12px;\n",
              "    }\n",
              "\n",
              "    .colab-df-convert {\n",
              "      background-color: #E8F0FE;\n",
              "      border: none;\n",
              "      border-radius: 50%;\n",
              "      cursor: pointer;\n",
              "      display: none;\n",
              "      fill: #1967D2;\n",
              "      height: 32px;\n",
              "      padding: 0 0 0 0;\n",
              "      width: 32px;\n",
              "    }\n",
              "\n",
              "    .colab-df-convert:hover {\n",
              "      background-color: #E2EBFA;\n",
              "      box-shadow: 0px 1px 2px rgba(60, 64, 67, 0.3), 0px 1px 3px 1px rgba(60, 64, 67, 0.15);\n",
              "      fill: #174EA6;\n",
              "    }\n",
              "\n",
              "    [theme=dark] .colab-df-convert {\n",
              "      background-color: #3B4455;\n",
              "      fill: #D2E3FC;\n",
              "    }\n",
              "\n",
              "    [theme=dark] .colab-df-convert:hover {\n",
              "      background-color: #434B5C;\n",
              "      box-shadow: 0px 1px 3px 1px rgba(0, 0, 0, 0.15);\n",
              "      filter: drop-shadow(0px 1px 2px rgba(0, 0, 0, 0.3));\n",
              "      fill: #FFFFFF;\n",
              "    }\n",
              "  </style>\n",
              "\n",
              "      <script>\n",
              "        const buttonEl =\n",
              "          document.querySelector('#df-574e1173-0d53-4248-8cb5-d04544a733d8 button.colab-df-convert');\n",
              "        buttonEl.style.display =\n",
              "          google.colab.kernel.accessAllowed ? 'block' : 'none';\n",
              "\n",
              "        async function convertToInteractive(key) {\n",
              "          const element = document.querySelector('#df-574e1173-0d53-4248-8cb5-d04544a733d8');\n",
              "          const dataTable =\n",
              "            await google.colab.kernel.invokeFunction('convertToInteractive',\n",
              "                                                     [key], {});\n",
              "          if (!dataTable) return;\n",
              "\n",
              "          const docLinkHtml = 'Like what you see? Visit the ' +\n",
              "            '<a target=\"_blank\" href=https://colab.research.google.com/notebooks/data_table.ipynb>data table notebook</a>'\n",
              "            + ' to learn more about interactive tables.';\n",
              "          element.innerHTML = '';\n",
              "          dataTable['output_type'] = 'display_data';\n",
              "          await google.colab.output.renderOutput(dataTable, element);\n",
              "          const docLink = document.createElement('div');\n",
              "          docLink.innerHTML = docLinkHtml;\n",
              "          element.appendChild(docLink);\n",
              "        }\n",
              "      </script>\n",
              "    </div>\n",
              "  </div>\n",
              "  "
            ]
          },
          "metadata": {},
          "execution_count": 11
        }
      ]
    },
    {
      "cell_type": "markdown",
      "source": [
        "### 3.1. 평점 별 점수 비율 알아보기"
      ],
      "metadata": {
        "id": "D_7VsbujSL5x"
      }
    },
    {
      "cell_type": "code",
      "source": [
        "# 평점 별 개수가 많은 순으로 확인하기\n",
        "data['review_rating'].value_counts().sort_values(ascending=False)"
      ],
      "metadata": {
        "id": "s2QJoOdrgFeo",
        "colab": {
          "base_uri": "https://localhost:8080/"
        },
        "outputId": "92784d92-b15a-446b-c7d0-00fe2c31bd9b"
      },
      "execution_count": null,
      "outputs": [
        {
          "output_type": "execute_result",
          "data": {
            "text/plain": [
              "5    1848\n",
              "4     319\n",
              "1     146\n",
              "3     107\n",
              "2      81\n",
              "Name: review_rating, dtype: int64"
            ]
          },
          "metadata": {},
          "execution_count": 12
        }
      ]
    },
    {
      "cell_type": "markdown",
      "source": [
        "  - 이번에는 파이차트를 통해 평점 별 비율을 확인해봅시다."
      ],
      "metadata": {
        "id": "mJv9arWqWkMx"
      }
    },
    {
      "cell_type": "code",
      "source": [
        "# 평점 별 비율을 파이차트로 확인하기\n",
        "data['review_rating'].value_counts().sort_values(ascending=False).plot(kind='pie', autopct='%.2f%%')"
      ],
      "metadata": {
        "id": "UUnZnvZdgVh1",
        "colab": {
          "base_uri": "https://localhost:8080/",
          "height": 423
        },
        "outputId": "edead51d-1f21-4122-df9d-ed694d89fa64"
      },
      "execution_count": null,
      "outputs": [
        {
          "output_type": "execute_result",
          "data": {
            "text/plain": [
              "<Axes: ylabel='review_rating'>"
            ]
          },
          "metadata": {},
          "execution_count": 13
        },
        {
          "output_type": "display_data",
          "data": {
            "text/plain": [
              "<Figure size 640x480 with 1 Axes>"
            ],
            "image/png": "[encoded data removed]"
          },
          "metadata": {}
        }
      ]
    },
    {
      "cell_type": "code",
      "source": [
        "# 평점 별 개수를 막대그래프로 확인하기\n",
        "sns.countplot(x='review_rating', data= data)"
      ],
      "metadata": {
        "id": "MrJg9PpU2h9z",
        "colab": {
          "base_uri": "https://localhost:8080/",
          "height": 467
        },
        "outputId": "4167f5ed-5bdd-494d-e504-b0f8dddf63aa"
      },
      "execution_count": null,
      "outputs": [
        {
          "output_type": "execute_result",
          "data": {
            "text/plain": [
              "<Axes: xlabel='review_rating', ylabel='count'>"
            ]
          },
          "metadata": {},
          "execution_count": 14
        },
        {
          "output_type": "display_data",
          "data": {
            "text/plain": [
              "<Figure size 640x480 with 1 Axes>"
            ],
            "image/png": "[encoded data removed]"
          },
          "metadata": {}
        }
      ]
    },
    {
      "cell_type": "markdown",
      "source": [
        "### 3.2. 상품 카테고리 별 평점 알아보기"
      ],
      "metadata": {
        "id": "MMz78byHSWp_"
      }
    },
    {
      "cell_type": "code",
      "source": [
        "# 상품 카테고리 별 데이터 개수 확인하기\n",
        "sns.countplot(x='category', data=data, palette='hls')"
      ],
      "metadata": {
        "id": "tAE-J-SvzGr_",
        "colab": {
          "base_uri": "https://localhost:8080/",
          "height": 466
        },
        "outputId": "ea56f29b-d01c-429a-f506-f19f08711a89"
      },
      "execution_count": null,
      "outputs": [
        {
          "output_type": "execute_result",
          "data": {
            "text/plain": [
              "<Axes: xlabel='category', ylabel='count'>"
            ]
          },
          "metadata": {},
          "execution_count": 15
        },
        {
          "output_type": "display_data",
          "data": {
            "text/plain": [
              "<Figure size 640x480 with 1 Axes>"
            ],
            "image/png": "[encoded data removed]"
          },
          "metadata": {}
        }
      ]
    },
    {
      "cell_type": "code",
      "source": [
        "# 상품 카테고리 별 평점 분포 확인하기\n",
        "sns.countplot(x='review_rating', hue='category', data= data)"
      ],
      "metadata": {
        "id": "qwPODxA72Coj",
        "colab": {
          "base_uri": "https://localhost:8080/",
          "height": 467
        },
        "outputId": "5aca4e94-6219-49f2-a193-7e2cf64dc8d5"
      },
      "execution_count": null,
      "outputs": [
        {
          "output_type": "execute_result",
          "data": {
            "text/plain": [
              "<Axes: xlabel='review_rating', ylabel='count'>"
            ]
          },
          "metadata": {},
          "execution_count": 16
        },
        {
          "output_type": "display_data",
          "data": {
            "text/plain": [
              "<Figure size 640x480 with 1 Axes>"
            ],
            "image/png": "[encoded data removed]"
          },
          "metadata": {}
        }
      ]
    },
    {
      "cell_type": "markdown",
      "source": [
        "## **4. 데이터 전처리**"
      ],
      "metadata": {
        "id": "w6TX644x3H0E"
      }
    },
    {
      "cell_type": "markdown",
      "source": [
        "### 4.1. 상품 카테고리 값을 정수 값으로 인코딩하기"
      ],
      "metadata": {
        "id": "izhYyNtQSx0V"
      }
    },
    {
      "cell_type": "markdown",
      "source": [
        "  - Pandas factorize()를 이용하면 카테고리형 데이터를 쉽게 정수형 데이터로 인코딩할 수 있음\n",
        "  - Pandas get_dummies()를 이용하면 정수값을 원-핫 인코딩을 쉽게 할 수 있음"
      ],
      "metadata": {
        "id": "zpcD_vBiY6Gf"
      }
    },
    {
      "cell_type": "code",
      "source": [
        "# 카테고리 값을 정수로 변환하기\n",
        "data['category'] = pd.factorize(data['category'])[0]\n",
        "data.head()"
      ],
      "metadata": {
        "id": "LrQ2FZdOUaCr",
        "colab": {
          "base_uri": "https://localhost:8080/",
          "height": 310
        },
        "outputId": "b2886774-3a5c-45b5-89e9-f84e4018ece9"
      },
      "execution_count": null,
      "outputs": [
        {
          "output_type": "stream",
          "name": "stderr",
          "text": [
            "<ipython-input-17-4a23a2b6050b>:2: SettingWithCopyWarning: \n",
            "A value is trying to be set on a copy of a slice from a DataFrame.\n",
            "Try using .loc[row_indexer,col_indexer] = value instead\n",
            "\n",
            "See the caveats in the documentation: https://pandas.pydata.org/pandas-docs/stable/user_guide/indexing.html#returning-a-view-versus-a-copy\n",
            "  data['category'] = pd.factorize(data['category'])[0]\n"
          ]
        },
        {
          "output_type": "execute_result",
          "data": {
            "text/plain": [
              "   review_rating  category                                        review_text\n",
              "0              5         0  As you get older, you know what you like and w...\n",
              "1              5         1  Three gigantic marmite jars that will last pro...\n",
              "2              4         1                                          Excellent\n",
              "3              5         1         A great flavour top - up for slow cooking.\n",
              "4              5         2                          Does what is says it does"
            ],
            "text/html": [
              "\n",
              "  <div id=\"df-24afcd0f-bfd4-461d-b976-f99a1645350f\">\n",
              "    <div class=\"colab-df-container\">\n",
              "      <div>\n",
              "<style scoped>\n",
              "    .dataframe tbody tr th:only-of-type {\n",
              "        vertical-align: middle;\n",
              "    }\n",
              "\n",
              "    .dataframe tbody tr th {\n",
              "        vertical-align: top;\n",
              "    }\n",
              "\n",
              "    .dataframe thead th {\n",
              "        text-align: right;\n",
              "    }\n",
              "</style>\n",
              "<table border=\"1\" class=\"dataframe\">\n",
              "  <thead>\n",
              "    <tr style=\"text-align: right;\">\n",
              "      <th></th>\n",
              "      <th>review_rating</th>\n",
              "      <th>category</th>\n",
              "      <th>review_text</th>\n",
              "    </tr>\n",
              "  </thead>\n",
              "  <tbody>\n",
              "    <tr>\n",
              "      <th>0</th>\n",
              "      <td>5</td>\n",
              "      <td>0</td>\n",
              "      <td>As you get older, you know what you like and w...</td>\n",
              "    </tr>\n",
              "    <tr>\n",
              "      <th>1</th>\n",
              "      <td>5</td>\n",
              "      <td>1</td>\n",
              "      <td>Three gigantic marmite jars that will last pro...</td>\n",
              "    </tr>\n",
              "    <tr>\n",
              "      <th>2</th>\n",
              "      <td>4</td>\n",
              "      <td>1</td>\n",
              "      <td>Excellent</td>\n",
              "    </tr>\n",
              "    <tr>\n",
              "      <th>3</th>\n",
              "      <td>5</td>\n",
              "      <td>1</td>\n",
              "      <td>A great flavour top - up for slow cooking.</td>\n",
              "    </tr>\n",
              "    <tr>\n",
              "      <th>4</th>\n",
              "      <td>5</td>\n",
              "      <td>2</td>\n",
              "      <td>Does what is says it does</td>\n",
              "    </tr>\n",
              "  </tbody>\n",
              "</table>\n",
              "</div>\n",
              "      <button class=\"colab-df-convert\" onclick=\"convertToInteractive('df-24afcd0f-bfd4-461d-b976-f99a1645350f')\"\n",
              "              title=\"Convert this dataframe to an interactive table.\"\n",
              "              style=\"display:none;\">\n",
              "        \n",
              "  <svg xmlns=\"http://www.w3.org/2000/svg\" height=\"24px\"viewBox=\"0 0 24 24\"\n",
              "       width=\"24px\">\n",
              "    <path d=\"M0 0h24v24H0V0z\" fill=\"none\"/>\n",
              "    <path d=\"M18.56 5.44l.94 2.06.94-2.06 2.06-.94-2.06-.94-.94-2.06-.94 2.06-2.06.94zm-11 1L8.5 8.5l.94-2.06 2.06-.94-2.06-.94L8.5 2.5l-.94 2.06-2.06.94zm10 10l.94 2.06.94-2.06 2.06-.94-2.06-.94-.94-2.06-.94 2.06-2.06.94z\"/><path d=\"M17.41 7.96l-1.37-1.37c-.4-.4-.92-.59-1.43-.59-.52 0-1.04.2-1.43.59L10.3 9.45l-7.72 7.72c-.78.78-.78 2.05 0 2.83L4 21.41c.39.39.9.59 1.41.59.51 0 1.02-.2 1.41-.59l7.78-7.78 2.81-2.81c.8-.78.8-2.07 0-2.86zM5.41 20L4 18.59l7.72-7.72 1.47 1.35L5.41 20z\"/>\n",
              "  </svg>\n",
              "      </button>\n",
              "      \n",
              "  <style>\n",
              "    .colab-df-container {\n",
              "      display:flex;\n",
              "      flex-wrap:wrap;\n",
              "      gap: 12px;\n",
              "    }\n",
              "\n",
              "    .colab-df-convert {\n",
              "      background-color: #E8F0FE;\n",
              "      border: none;\n",
              "      border-radius: 50%;\n",
              "      cursor: pointer;\n",
              "      display: none;\n",
              "      fill: #1967D2;\n",
              "      height: 32px;\n",
              "      padding: 0 0 0 0;\n",
              "      width: 32px;\n",
              "    }\n",
              "\n",
              "    .colab-df-convert:hover {\n",
              "      background-color: #E2EBFA;\n",
              "      box-shadow: 0px 1px 2px rgba(60, 64, 67, 0.3), 0px 1px 3px 1px rgba(60, 64, 67, 0.15);\n",
              "      fill: #174EA6;\n",
              "    }\n",
              "\n",
              "    [theme=dark] .colab-df-convert {\n",
              "      background-color: #3B4455;\n",
              "      fill: #D2E3FC;\n",
              "    }\n",
              "\n",
              "    [theme=dark] .colab-df-convert:hover {\n",
              "      background-color: #434B5C;\n",
              "      box-shadow: 0px 1px 3px 1px rgba(0, 0, 0, 0.15);\n",
              "      filter: drop-shadow(0px 1px 2px rgba(0, 0, 0, 0.3));\n",
              "      fill: #FFFFFF;\n",
              "    }\n",
              "  </style>\n",
              "\n",
              "      <script>\n",
              "        const buttonEl =\n",
              "          document.querySelector('#df-24afcd0f-bfd4-461d-b976-f99a1645350f button.colab-df-convert');\n",
              "        buttonEl.style.display =\n",
              "          google.colab.kernel.accessAllowed ? 'block' : 'none';\n",
              "\n",
              "        async function convertToInteractive(key) {\n",
              "          const element = document.querySelector('#df-24afcd0f-bfd4-461d-b976-f99a1645350f');\n",
              "          const dataTable =\n",
              "            await google.colab.kernel.invokeFunction('convertToInteractive',\n",
              "                                                     [key], {});\n",
              "          if (!dataTable) return;\n",
              "\n",
              "          const docLinkHtml = 'Like what you see? Visit the ' +\n",
              "            '<a target=\"_blank\" href=https://colab.research.google.com/notebooks/data_table.ipynb>data table notebook</a>'\n",
              "            + ' to learn more about interactive tables.';\n",
              "          element.innerHTML = '';\n",
              "          dataTable['output_type'] = 'display_data';\n",
              "          await google.colab.output.renderOutput(dataTable, element);\n",
              "          const docLink = document.createElement('div');\n",
              "          docLink.innerHTML = docLinkHtml;\n",
              "          element.appendChild(docLink);\n",
              "        }\n",
              "      </script>\n",
              "    </div>\n",
              "  </div>\n",
              "  "
            ]
          },
          "metadata": {},
          "execution_count": 17
        }
      ]
    },
    {
      "cell_type": "code",
      "source": [
        "# 정수로 변환된 카테고리 값을 원-핫 인코딩하기\n",
        "data = pd.get_dummies(data,columns =['category'])\n",
        "data.head()"
      ],
      "metadata": {
        "id": "bqQhIMrKwCxR",
        "colab": {
          "base_uri": "https://localhost:8080/",
          "height": 206
        },
        "outputId": "50aa40b4-8150-4b30-c522-1ef6b2387499"
      },
      "execution_count": null,
      "outputs": [
        {
          "output_type": "execute_result",
          "data": {
            "text/plain": [
              "   review_rating                                        review_text  \\\n",
              "0              5  As you get older, you know what you like and w...   \n",
              "1              5  Three gigantic marmite jars that will last pro...   \n",
              "2              4                                          Excellent   \n",
              "3              5         A great flavour top - up for slow cooking.   \n",
              "4              5                          Does what is says it does   \n",
              "\n",
              "   category_0  category_1  category_2  category_3  \n",
              "0           1           0           0           0  \n",
              "1           0           1           0           0  \n",
              "2           0           1           0           0  \n",
              "3           0           1           0           0  \n",
              "4           0           0           1           0  "
            ],
            "text/html": [
              "\n",
              "  <div id=\"df-e3a7b6ad-ee95-400e-bd56-e6d3450c266d\">\n",
              "    <div class=\"colab-df-container\">\n",
              "      <div>\n",
              "<style scoped>\n",
              "    .dataframe tbody tr th:only-of-type {\n",
              "        vertical-align: middle;\n",
              "    }\n",
              "\n",
              "    .dataframe tbody tr th {\n",
              "        vertical-align: top;\n",
              "    }\n",
              "\n",
              "    .dataframe thead th {\n",
              "        text-align: right;\n",
              "    }\n",
              "</style>\n",
              "<table border=\"1\" class=\"dataframe\">\n",
              "  <thead>\n",
              "    <tr style=\"text-align: right;\">\n",
              "      <th></th>\n",
              "      <th>review_rating</th>\n",
              "      <th>review_text</th>\n",
              "      <th>category_0</th>\n",
              "      <th>category_1</th>\n",
              "      <th>category_2</th>\n",
              "      <th>category_3</th>\n",
              "    </tr>\n",
              "  </thead>\n",
              "  <tbody>\n",
              "    <tr>\n",
              "      <th>0</th>\n",
              "      <td>5</td>\n",
              "      <td>As you get older, you know what you like and w...</td>\n",
              "      <td>1</td>\n",
              "      <td>0</td>\n",
              "      <td>0</td>\n",
              "      <td>0</td>\n",
              "    </tr>\n",
              "    <tr>\n",
              "      <th>1</th>\n",
              "      <td>5</td>\n",
              "      <td>Three gigantic marmite jars that will last pro...</td>\n",
              "      <td>0</td>\n",
              "      <td>1</td>\n",
              "      <td>0</td>\n",
              "      <td>0</td>\n",
              "    </tr>\n",
              "    <tr>\n",
              "      <th>2</th>\n",
              "      <td>4</td>\n",
              "      <td>Excellent</td>\n",
              "      <td>0</td>\n",
              "      <td>1</td>\n",
              "      <td>0</td>\n",
              "      <td>0</td>\n",
              "    </tr>\n",
              "    <tr>\n",
              "      <th>3</th>\n",
              "      <td>5</td>\n",
              "      <td>A great flavour top - up for slow cooking.</td>\n",
              "      <td>0</td>\n",
              "      <td>1</td>\n",
              "      <td>0</td>\n",
              "      <td>0</td>\n",
              "    </tr>\n",
              "    <tr>\n",
              "      <th>4</th>\n",
              "      <td>5</td>\n",
              "      <td>Does what is says it does</td>\n",
              "      <td>0</td>\n",
              "      <td>0</td>\n",
              "      <td>1</td>\n",
              "      <td>0</td>\n",
              "    </tr>\n",
              "  </tbody>\n",
              "</table>\n",
              "</div>\n",
              "      <button class=\"colab-df-convert\" onclick=\"convertToInteractive('df-e3a7b6ad-ee95-400e-bd56-e6d3450c266d')\"\n",
              "              title=\"Convert this dataframe to an interactive table.\"\n",
              "              style=\"display:none;\">\n",
              "        \n",
              "  <svg xmlns=\"http://www.w3.org/2000/svg\" height=\"24px\"viewBox=\"0 0 24 24\"\n",
              "       width=\"24px\">\n",
              "    <path d=\"M0 0h24v24H0V0z\" fill=\"none\"/>\n",
              "    <path d=\"M18.56 5.44l.94 2.06.94-2.06 2.06-.94-2.06-.94-.94-2.06-.94 2.06-2.06.94zm-11 1L8.5 8.5l.94-2.06 2.06-.94-2.06-.94L8.5 2.5l-.94 2.06-2.06.94zm10 10l.94 2.06.94-2.06 2.06-.94-2.06-.94-.94-2.06-.94 2.06-2.06.94z\"/><path d=\"M17.41 7.96l-1.37-1.37c-.4-.4-.92-.59-1.43-.59-.52 0-1.04.2-1.43.59L10.3 9.45l-7.72 7.72c-.78.78-.78 2.05 0 2.83L4 21.41c.39.39.9.59 1.41.59.51 0 1.02-.2 1.41-.59l7.78-7.78 2.81-2.81c.8-.78.8-2.07 0-2.86zM5.41 20L4 18.59l7.72-7.72 1.47 1.35L5.41 20z\"/>\n",
              "  </svg>\n",
              "      </button>\n",
              "      \n",
              "  <style>\n",
              "    .colab-df-container {\n",
              "      display:flex;\n",
              "      flex-wrap:wrap;\n",
              "      gap: 12px;\n",
              "    }\n",
              "\n",
              "    .colab-df-convert {\n",
              "      background-color: #E8F0FE;\n",
              "      border: none;\n",
              "      border-radius: 50%;\n",
              "      cursor: pointer;\n",
              "      display: none;\n",
              "      fill: #1967D2;\n",
              "      height: 32px;\n",
              "      padding: 0 0 0 0;\n",
              "      width: 32px;\n",
              "    }\n",
              "\n",
              "    .colab-df-convert:hover {\n",
              "      background-color: #E2EBFA;\n",
              "      box-shadow: 0px 1px 2px rgba(60, 64, 67, 0.3), 0px 1px 3px 1px rgba(60, 64, 67, 0.15);\n",
              "      fill: #174EA6;\n",
              "    }\n",
              "\n",
              "    [theme=dark] .colab-df-convert {\n",
              "      background-color: #3B4455;\n",
              "      fill: #D2E3FC;\n",
              "    }\n",
              "\n",
              "    [theme=dark] .colab-df-convert:hover {\n",
              "      background-color: #434B5C;\n",
              "      box-shadow: 0px 1px 3px 1px rgba(0, 0, 0, 0.15);\n",
              "      filter: drop-shadow(0px 1px 2px rgba(0, 0, 0, 0.3));\n",
              "      fill: #FFFFFF;\n",
              "    }\n",
              "  </style>\n",
              "\n",
              "      <script>\n",
              "        const buttonEl =\n",
              "          document.querySelector('#df-e3a7b6ad-ee95-400e-bd56-e6d3450c266d button.colab-df-convert');\n",
              "        buttonEl.style.display =\n",
              "          google.colab.kernel.accessAllowed ? 'block' : 'none';\n",
              "\n",
              "        async function convertToInteractive(key) {\n",
              "          const element = document.querySelector('#df-e3a7b6ad-ee95-400e-bd56-e6d3450c266d');\n",
              "          const dataTable =\n",
              "            await google.colab.kernel.invokeFunction('convertToInteractive',\n",
              "                                                     [key], {});\n",
              "          if (!dataTable) return;\n",
              "\n",
              "          const docLinkHtml = 'Like what you see? Visit the ' +\n",
              "            '<a target=\"_blank\" href=https://colab.research.google.com/notebooks/data_table.ipynb>data table notebook</a>'\n",
              "            + ' to learn more about interactive tables.';\n",
              "          element.innerHTML = '';\n",
              "          dataTable['output_type'] = 'display_data';\n",
              "          await google.colab.output.renderOutput(dataTable, element);\n",
              "          const docLink = document.createElement('div');\n",
              "          docLink.innerHTML = docLinkHtml;\n",
              "          element.appendChild(docLink);\n",
              "        }\n",
              "      </script>\n",
              "    </div>\n",
              "  </div>\n",
              "  "
            ]
          },
          "metadata": {},
          "execution_count": 18
        }
      ]
    },
    {
      "cell_type": "markdown",
      "source": [
        "### 4.2. 문장에서 구두점 삭제하기"
      ],
      "metadata": {
        "id": "9RnxhYFc3Qxs"
      }
    },
    {
      "cell_type": "code",
      "source": [
        "# 구두점 삭제 함수 정의\n",
        "import string\n",
        "\n",
        "def rem_punctuation(text):\n",
        "    no_punc = \"\".join([x for x in text if x not in string.punctuation])\n",
        "    return no_punc"
      ],
      "metadata": {
        "id": "phF9q4TR0I4a"
      },
      "execution_count": null,
      "outputs": []
    },
    {
      "cell_type": "code",
      "source": [
        "# 'review_text' 열에 구두점 삭제 함수 적용하기\n",
        "data['review_text'] = data['review_text'].apply(lambda x: rem_punctuation(x))\n",
        "data['review_text'].head()"
      ],
      "metadata": {
        "id": "zmvalwjW0iTy",
        "colab": {
          "base_uri": "https://localhost:8080/"
        },
        "outputId": "c3b9de27-1256-4936-fa1d-f26a5bade594"
      },
      "execution_count": null,
      "outputs": [
        {
          "output_type": "execute_result",
          "data": {
            "text/plain": [
              "0    As you get older you know what you like and wh...\n",
              "1    Three gigantic marmite jars that will last pro...\n",
              "2                                            Excellent\n",
              "3             A great flavour top  up for slow cooking\n",
              "4                            Does what is says it does\n",
              "Name: review_text, dtype: object"
            ]
          },
          "metadata": {},
          "execution_count": 20
        }
      ]
    },
    {
      "cell_type": "markdown",
      "source": [
        "### 4.3. 문장을 단어로 토큰화하기"
      ],
      "metadata": {
        "id": "Gho1LooZ3Wpt"
      }
    },
    {
      "cell_type": "markdown",
      "source": [
        "- 특정 단위로 텍스트를 자르는 것을 '토큰화(Tokenization)'이라고 함. 텍스트을 자르는 단위를 '토큰(Token)'이라 하는데, 목적에 따라 토큰은 문자, 단어, 심지어는 문장이 될 수도 있음"
      ],
      "metadata": {
        "id": "-wmlQZuedg7b"
      }
    },
    {
      "cell_type": "code",
      "source": [
        "# 토크나이저 생성\n",
        "from nltk.tokenize import RegexpTokenizer\n",
        "\n",
        "tokenizer = RegexpTokenizer(r'\\w+')"
      ],
      "metadata": {
        "id": "d8LZ8-E-0k1d"
      },
      "execution_count": null,
      "outputs": []
    },
    {
      "cell_type": "code",
      "source": [
        "# 토크나이저 적용\n",
        "data['review_text']  = data['review_text'].apply(lambda x: tokenizer.tokenize(x.lower()))\n",
        "data['review_text'].head()"
      ],
      "metadata": {
        "id": "PcDe0Nqh0pxh",
        "colab": {
          "base_uri": "https://localhost:8080/"
        },
        "outputId": "28c0cea4-fdac-4b9f-a92a-ed5c16e958e0"
      },
      "execution_count": null,
      "outputs": [
        {
          "output_type": "execute_result",
          "data": {
            "text/plain": [
              "0    [as, you, get, older, you, know, what, you, li...\n",
              "1    [three, gigantic, marmite, jars, that, will, l...\n",
              "2                                          [excellent]\n",
              "3     [a, great, flavour, top, up, for, slow, cooking]\n",
              "4                     [does, what, is, says, it, does]\n",
              "Name: review_text, dtype: object"
            ]
          },
          "metadata": {},
          "execution_count": 23
        }
      ]
    },
    {
      "cell_type": "code",
      "source": [
        "data.head()"
      ],
      "metadata": {
        "id": "32Sb6h2z9ZCt",
        "colab": {
          "base_uri": "https://localhost:8080/",
          "height": 206
        },
        "outputId": "b9b7f6c1-6777-438d-eefe-7475871ee200"
      },
      "execution_count": null,
      "outputs": [
        {
          "output_type": "execute_result",
          "data": {
            "text/plain": [
              "   review_rating                                        review_text  \\\n",
              "0              5  [as, you, get, older, you, know, what, you, li...   \n",
              "1              5  [three, gigantic, marmite, jars, that, will, l...   \n",
              "2              4                                        [excellent]   \n",
              "3              5   [a, great, flavour, top, up, for, slow, cooking]   \n",
              "4              5                   [does, what, is, says, it, does]   \n",
              "\n",
              "   category_0  category_1  category_2  category_3  \n",
              "0           1           0           0           0  \n",
              "1           0           1           0           0  \n",
              "2           0           1           0           0  \n",
              "3           0           1           0           0  \n",
              "4           0           0           1           0  "
            ],
            "text/html": [
              "\n",
              "  <div id=\"df-bd10839e-87bf-4b11-89e4-ee9c3c4a3037\">\n",
              "    <div class=\"colab-df-container\">\n",
              "      <div>\n",
              "<style scoped>\n",
              "    .dataframe tbody tr th:only-of-type {\n",
              "        vertical-align: middle;\n",
              "    }\n",
              "\n",
              "    .dataframe tbody tr th {\n",
              "        vertical-align: top;\n",
              "    }\n",
              "\n",
              "    .dataframe thead th {\n",
              "        text-align: right;\n",
              "    }\n",
              "</style>\n",
              "<table border=\"1\" class=\"dataframe\">\n",
              "  <thead>\n",
              "    <tr style=\"text-align: right;\">\n",
              "      <th></th>\n",
              "      <th>review_rating</th>\n",
              "      <th>review_text</th>\n",
              "      <th>category_0</th>\n",
              "      <th>category_1</th>\n",
              "      <th>category_2</th>\n",
              "      <th>category_3</th>\n",
              "    </tr>\n",
              "  </thead>\n",
              "  <tbody>\n",
              "    <tr>\n",
              "      <th>0</th>\n",
              "      <td>5</td>\n",
              "      <td>[as, you, get, older, you, know, what, you, li...</td>\n",
              "      <td>1</td>\n",
              "      <td>0</td>\n",
              "      <td>0</td>\n",
              "      <td>0</td>\n",
              "    </tr>\n",
              "    <tr>\n",
              "      <th>1</th>\n",
              "      <td>5</td>\n",
              "      <td>[three, gigantic, marmite, jars, that, will, l...</td>\n",
              "      <td>0</td>\n",
              "      <td>1</td>\n",
              "      <td>0</td>\n",
              "      <td>0</td>\n",
              "    </tr>\n",
              "    <tr>\n",
              "      <th>2</th>\n",
              "      <td>4</td>\n",
              "      <td>[excellent]</td>\n",
              "      <td>0</td>\n",
              "      <td>1</td>\n",
              "      <td>0</td>\n",
              "      <td>0</td>\n",
              "    </tr>\n",
              "    <tr>\n",
              "      <th>3</th>\n",
              "      <td>5</td>\n",
              "      <td>[a, great, flavour, top, up, for, slow, cooking]</td>\n",
              "      <td>0</td>\n",
              "      <td>1</td>\n",
              "      <td>0</td>\n",
              "      <td>0</td>\n",
              "    </tr>\n",
              "    <tr>\n",
              "      <th>4</th>\n",
              "      <td>5</td>\n",
              "      <td>[does, what, is, says, it, does]</td>\n",
              "      <td>0</td>\n",
              "      <td>0</td>\n",
              "      <td>1</td>\n",
              "      <td>0</td>\n",
              "    </tr>\n",
              "  </tbody>\n",
              "</table>\n",
              "</div>\n",
              "      <button class=\"colab-df-convert\" onclick=\"convertToInteractive('df-bd10839e-87bf-4b11-89e4-ee9c3c4a3037')\"\n",
              "              title=\"Convert this dataframe to an interactive table.\"\n",
              "              style=\"display:none;\">\n",
              "        \n",
              "  <svg xmlns=\"http://www.w3.org/2000/svg\" height=\"24px\"viewBox=\"0 0 24 24\"\n",
              "       width=\"24px\">\n",
              "    <path d=\"M0 0h24v24H0V0z\" fill=\"none\"/>\n",
              "    <path d=\"M18.56 5.44l.94 2.06.94-2.06 2.06-.94-2.06-.94-.94-2.06-.94 2.06-2.06.94zm-11 1L8.5 8.5l.94-2.06 2.06-.94-2.06-.94L8.5 2.5l-.94 2.06-2.06.94zm10 10l.94 2.06.94-2.06 2.06-.94-2.06-.94-.94-2.06-.94 2.06-2.06.94z\"/><path d=\"M17.41 7.96l-1.37-1.37c-.4-.4-.92-.59-1.43-.59-.52 0-1.04.2-1.43.59L10.3 9.45l-7.72 7.72c-.78.78-.78 2.05 0 2.83L4 21.41c.39.39.9.59 1.41.59.51 0 1.02-.2 1.41-.59l7.78-7.78 2.81-2.81c.8-.78.8-2.07 0-2.86zM5.41 20L4 18.59l7.72-7.72 1.47 1.35L5.41 20z\"/>\n",
              "  </svg>\n",
              "      </button>\n",
              "      \n",
              "  <style>\n",
              "    .colab-df-container {\n",
              "      display:flex;\n",
              "      flex-wrap:wrap;\n",
              "      gap: 12px;\n",
              "    }\n",
              "\n",
              "    .colab-df-convert {\n",
              "      background-color: #E8F0FE;\n",
              "      border: none;\n",
              "      border-radius: 50%;\n",
              "      cursor: pointer;\n",
              "      display: none;\n",
              "      fill: #1967D2;\n",
              "      height: 32px;\n",
              "      padding: 0 0 0 0;\n",
              "      width: 32px;\n",
              "    }\n",
              "\n",
              "    .colab-df-convert:hover {\n",
              "      background-color: #E2EBFA;\n",
              "      box-shadow: 0px 1px 2px rgba(60, 64, 67, 0.3), 0px 1px 3px 1px rgba(60, 64, 67, 0.15);\n",
              "      fill: #174EA6;\n",
              "    }\n",
              "\n",
              "    [theme=dark] .colab-df-convert {\n",
              "      background-color: #3B4455;\n",
              "      fill: #D2E3FC;\n",
              "    }\n",
              "\n",
              "    [theme=dark] .colab-df-convert:hover {\n",
              "      background-color: #434B5C;\n",
              "      box-shadow: 0px 1px 3px 1px rgba(0, 0, 0, 0.15);\n",
              "      filter: drop-shadow(0px 1px 2px rgba(0, 0, 0, 0.3));\n",
              "      fill: #FFFFFF;\n",
              "    }\n",
              "  </style>\n",
              "\n",
              "      <script>\n",
              "        const buttonEl =\n",
              "          document.querySelector('#df-bd10839e-87bf-4b11-89e4-ee9c3c4a3037 button.colab-df-convert');\n",
              "        buttonEl.style.display =\n",
              "          google.colab.kernel.accessAllowed ? 'block' : 'none';\n",
              "\n",
              "        async function convertToInteractive(key) {\n",
              "          const element = document.querySelector('#df-bd10839e-87bf-4b11-89e4-ee9c3c4a3037');\n",
              "          const dataTable =\n",
              "            await google.colab.kernel.invokeFunction('convertToInteractive',\n",
              "                                                     [key], {});\n",
              "          if (!dataTable) return;\n",
              "\n",
              "          const docLinkHtml = 'Like what you see? Visit the ' +\n",
              "            '<a target=\"_blank\" href=https://colab.research.google.com/notebooks/data_table.ipynb>data table notebook</a>'\n",
              "            + ' to learn more about interactive tables.';\n",
              "          element.innerHTML = '';\n",
              "          dataTable['output_type'] = 'display_data';\n",
              "          await google.colab.output.renderOutput(dataTable, element);\n",
              "          const docLink = document.createElement('div');\n",
              "          docLink.innerHTML = docLinkHtml;\n",
              "          element.appendChild(docLink);\n",
              "        }\n",
              "      </script>\n",
              "    </div>\n",
              "  </div>\n",
              "  "
            ]
          },
          "metadata": {},
          "execution_count": 24
        }
      ]
    },
    {
      "cell_type": "markdown",
      "source": [
        "### 4.4. 평점 열을 기반으로 긍정/부정 평점 열 생성하기"
      ],
      "metadata": {
        "id": "tdRiDfijGkQv"
      }
    },
    {
      "cell_type": "code",
      "source": [
        "# 평점 긍정/부정을 의미하는 'Positivity' 열 생성하기\n",
        "data.dropna(inplace=True)\n",
        "data = data[data['review_rating'] != 3]\n",
        "data['Positivity'] = np.where(data['review_rating']>3,1,0)\n",
        "cols = ['review_rating']\n",
        "data.drop(cols, axis=1, inplace=True)"
      ],
      "metadata": {
        "id": "XKjLb6KN0uLR",
        "colab": {
          "base_uri": "https://localhost:8080/"
        },
        "outputId": "c8cb7fcb-463f-4035-efcb-d691c2970a8f"
      },
      "execution_count": null,
      "outputs": [
        {
          "output_type": "stream",
          "name": "stderr",
          "text": [
            "<ipython-input-25-71450a778104>:4: SettingWithCopyWarning: \n",
            "A value is trying to be set on a copy of a slice from a DataFrame.\n",
            "Try using .loc[row_indexer,col_indexer] = value instead\n",
            "\n",
            "See the caveats in the documentation: https://pandas.pydata.org/pandas-docs/stable/user_guide/indexing.html#returning-a-view-versus-a-copy\n",
            "  data['Positivity'] = np.where(data['review_rating']>3,1,0)\n",
            "<ipython-input-25-71450a778104>:6: SettingWithCopyWarning: \n",
            "A value is trying to be set on a copy of a slice from a DataFrame\n",
            "\n",
            "See the caveats in the documentation: https://pandas.pydata.org/pandas-docs/stable/user_guide/indexing.html#returning-a-view-versus-a-copy\n",
            "  data.drop(cols, axis=1, inplace=True)\n"
          ]
        }
      ]
    },
    {
      "cell_type": "code",
      "source": [
        "# 첫행부터 5개 행의 데이터 확인하기\n",
        "data.head()"
      ],
      "metadata": {
        "id": "id2WP1_Bi2yl",
        "colab": {
          "base_uri": "https://localhost:8080/",
          "height": 206
        },
        "outputId": "37e7fff2-8f67-4901-f9ce-1840ddd73cd0"
      },
      "execution_count": null,
      "outputs": [
        {
          "output_type": "execute_result",
          "data": {
            "text/plain": [
              "                                         review_text  category_0  category_1  \\\n",
              "0  [as, you, get, older, you, know, what, you, li...           1           0   \n",
              "1  [three, gigantic, marmite, jars, that, will, l...           0           1   \n",
              "2                                        [excellent]           0           1   \n",
              "3   [a, great, flavour, top, up, for, slow, cooking]           0           1   \n",
              "4                   [does, what, is, says, it, does]           0           0   \n",
              "\n",
              "   category_2  category_3  Positivity  \n",
              "0           0           0           1  \n",
              "1           0           0           1  \n",
              "2           0           0           1  \n",
              "3           0           0           1  \n",
              "4           1           0           1  "
            ],
            "text/html": [
              "\n",
              "  <div id=\"df-5f387b74-874f-44c3-b384-72cb6183df6b\">\n",
              "    <div class=\"colab-df-container\">\n",
              "      <div>\n",
              "<style scoped>\n",
              "    .dataframe tbody tr th:only-of-type {\n",
              "        vertical-align: middle;\n",
              "    }\n",
              "\n",
              "    .dataframe tbody tr th {\n",
              "        vertical-align: top;\n",
              "    }\n",
              "\n",
              "    .dataframe thead th {\n",
              "        text-align: right;\n",
              "    }\n",
              "</style>\n",
              "<table border=\"1\" class=\"dataframe\">\n",
              "  <thead>\n",
              "    <tr style=\"text-align: right;\">\n",
              "      <th></th>\n",
              "      <th>review_text</th>\n",
              "      <th>category_0</th>\n",
              "      <th>category_1</th>\n",
              "      <th>category_2</th>\n",
              "      <th>category_3</th>\n",
              "      <th>Positivity</th>\n",
              "    </tr>\n",
              "  </thead>\n",
              "  <tbody>\n",
              "    <tr>\n",
              "      <th>0</th>\n",
              "      <td>[as, you, get, older, you, know, what, you, li...</td>\n",
              "      <td>1</td>\n",
              "      <td>0</td>\n",
              "      <td>0</td>\n",
              "      <td>0</td>\n",
              "      <td>1</td>\n",
              "    </tr>\n",
              "    <tr>\n",
              "      <th>1</th>\n",
              "      <td>[three, gigantic, marmite, jars, that, will, l...</td>\n",
              "      <td>0</td>\n",
              "      <td>1</td>\n",
              "      <td>0</td>\n",
              "      <td>0</td>\n",
              "      <td>1</td>\n",
              "    </tr>\n",
              "    <tr>\n",
              "      <th>2</th>\n",
              "      <td>[excellent]</td>\n",
              "      <td>0</td>\n",
              "      <td>1</td>\n",
              "      <td>0</td>\n",
              "      <td>0</td>\n",
              "      <td>1</td>\n",
              "    </tr>\n",
              "    <tr>\n",
              "      <th>3</th>\n",
              "      <td>[a, great, flavour, top, up, for, slow, cooking]</td>\n",
              "      <td>0</td>\n",
              "      <td>1</td>\n",
              "      <td>0</td>\n",
              "      <td>0</td>\n",
              "      <td>1</td>\n",
              "    </tr>\n",
              "    <tr>\n",
              "      <th>4</th>\n",
              "      <td>[does, what, is, says, it, does]</td>\n",
              "      <td>0</td>\n",
              "      <td>0</td>\n",
              "      <td>1</td>\n",
              "      <td>0</td>\n",
              "      <td>1</td>\n",
              "    </tr>\n",
              "  </tbody>\n",
              "</table>\n",
              "</div>\n",
              "      <button class=\"colab-df-convert\" onclick=\"convertToInteractive('df-5f387b74-874f-44c3-b384-72cb6183df6b')\"\n",
              "              title=\"Convert this dataframe to an interactive table.\"\n",
              "              style=\"display:none;\">\n",
              "        \n",
              "  <svg xmlns=\"http://www.w3.org/2000/svg\" height=\"24px\"viewBox=\"0 0 24 24\"\n",
              "       width=\"24px\">\n",
              "    <path d=\"M0 0h24v24H0V0z\" fill=\"none\"/>\n",
              "    <path d=\"M18.56 5.44l.94 2.06.94-2.06 2.06-.94-2.06-.94-.94-2.06-.94 2.06-2.06.94zm-11 1L8.5 8.5l.94-2.06 2.06-.94-2.06-.94L8.5 2.5l-.94 2.06-2.06.94zm10 10l.94 2.06.94-2.06 2.06-.94-2.06-.94-.94-2.06-.94 2.06-2.06.94z\"/><path d=\"M17.41 7.96l-1.37-1.37c-.4-.4-.92-.59-1.43-.59-.52 0-1.04.2-1.43.59L10.3 9.45l-7.72 7.72c-.78.78-.78 2.05 0 2.83L4 21.41c.39.39.9.59 1.41.59.51 0 1.02-.2 1.41-.59l7.78-7.78 2.81-2.81c.8-.78.8-2.07 0-2.86zM5.41 20L4 18.59l7.72-7.72 1.47 1.35L5.41 20z\"/>\n",
              "  </svg>\n",
              "      </button>\n",
              "      \n",
              "  <style>\n",
              "    .colab-df-container {\n",
              "      display:flex;\n",
              "      flex-wrap:wrap;\n",
              "      gap: 12px;\n",
              "    }\n",
              "\n",
              "    .colab-df-convert {\n",
              "      background-color: #E8F0FE;\n",
              "      border: none;\n",
              "      border-radius: 50%;\n",
              "      cursor: pointer;\n",
              "      display: none;\n",
              "      fill: #1967D2;\n",
              "      height: 32px;\n",
              "      padding: 0 0 0 0;\n",
              "      width: 32px;\n",
              "    }\n",
              "\n",
              "    .colab-df-convert:hover {\n",
              "      background-color: #E2EBFA;\n",
              "      box-shadow: 0px 1px 2px rgba(60, 64, 67, 0.3), 0px 1px 3px 1px rgba(60, 64, 67, 0.15);\n",
              "      fill: #174EA6;\n",
              "    }\n",
              "\n",
              "    [theme=dark] .colab-df-convert {\n",
              "      background-color: #3B4455;\n",
              "      fill: #D2E3FC;\n",
              "    }\n",
              "\n",
              "    [theme=dark] .colab-df-convert:hover {\n",
              "      background-color: #434B5C;\n",
              "      box-shadow: 0px 1px 3px 1px rgba(0, 0, 0, 0.15);\n",
              "      filter: drop-shadow(0px 1px 2px rgba(0, 0, 0, 0.3));\n",
              "      fill: #FFFFFF;\n",
              "    }\n",
              "  </style>\n",
              "\n",
              "      <script>\n",
              "        const buttonEl =\n",
              "          document.querySelector('#df-5f387b74-874f-44c3-b384-72cb6183df6b button.colab-df-convert');\n",
              "        buttonEl.style.display =\n",
              "          google.colab.kernel.accessAllowed ? 'block' : 'none';\n",
              "\n",
              "        async function convertToInteractive(key) {\n",
              "          const element = document.querySelector('#df-5f387b74-874f-44c3-b384-72cb6183df6b');\n",
              "          const dataTable =\n",
              "            await google.colab.kernel.invokeFunction('convertToInteractive',\n",
              "                                                     [key], {});\n",
              "          if (!dataTable) return;\n",
              "\n",
              "          const docLinkHtml = 'Like what you see? Visit the ' +\n",
              "            '<a target=\"_blank\" href=https://colab.research.google.com/notebooks/data_table.ipynb>data table notebook</a>'\n",
              "            + ' to learn more about interactive tables.';\n",
              "          element.innerHTML = '';\n",
              "          dataTable['output_type'] = 'display_data';\n",
              "          await google.colab.output.renderOutput(dataTable, element);\n",
              "          const docLink = document.createElement('div');\n",
              "          docLink.innerHTML = docLinkHtml;\n",
              "          element.appendChild(docLink);\n",
              "        }\n",
              "      </script>\n",
              "    </div>\n",
              "  </div>\n",
              "  "
            ]
          },
          "metadata": {},
          "execution_count": 26
        }
      ]
    },
    {
      "cell_type": "markdown",
      "source": [
        "- **np.where()**\n",
        "  - np.where(조건, 참값, 거짓값): 조건이 참인 경우 참값을 리턴하고, 조건이 거짓인 경우 거짓값을 리턴\n"
      ],
      "metadata": {
        "id": "bC8urpiLfp1t"
      }
    },
    {
      "cell_type": "code",
      "source": [
        "# 'Positivity' 열 값의 분포를 막대그래프로 확인하기\n",
        "sns.countplot(x='Positivity', data = data, palette = 'hls')"
      ],
      "metadata": {
        "id": "AnRR69xD07TC",
        "colab": {
          "base_uri": "https://localhost:8080/",
          "height": 466
        },
        "outputId": "4ea52467-1b3d-4aac-9350-e38e3b93fdc6"
      },
      "execution_count": null,
      "outputs": [
        {
          "output_type": "execute_result",
          "data": {
            "text/plain": [
              "<Axes: xlabel='Positivity', ylabel='count'>"
            ]
          },
          "metadata": {},
          "execution_count": 27
        },
        {
          "output_type": "display_data",
          "data": {
            "text/plain": [
              "<Figure size 640x480 with 1 Axes>"
            ],
            "image/png": "[encoded data removed]"
          },
          "metadata": {}
        }
      ]
    },
    {
      "cell_type": "markdown",
      "source": [
        "### 4.5. keras 라이브러리를 이용하여 데이터 전처리하기\n",
        "\n",
        "- keras Tokenizer()를 이용하여 토큰화를 진행한다. 이때, filters 옵션 지정을 통해 제거할 구두점 및 특수기호를 정할 수 있다. lower 옵션을 True로 지정하면 토큰화를 진행하며 모든 알파벳을 소문자로 변환해준다.\n",
        "- keras texts_to_sequences()를 이용하여 토큰화된 단어 리스트를 숫자 시퀀스로 변환한다."
      ],
      "metadata": {
        "id": "9iSszhECiOiT"
      }
    },
    {
      "cell_type": "code",
      "source": [
        "# keras 라이브러리에서 함수 불러오기\n",
        "from keras.preprocessing.text import Tokenizer\n",
        "from keras.utils import pad_sequences\n",
        "from keras.models import Sequential\n",
        "from keras.layers import Dense, Embedding, SimpleRNN, LSTM"
      ],
      "metadata": {
        "id": "qOrr6THI1MQ1"
      },
      "execution_count": null,
      "outputs": []
    },
    {
      "cell_type": "code",
      "source": [
        "# keras 라이브러리를 이용하여 구두점 제거, 토큰화한 후 수치 시퀀스로 변환하기\n",
        "MAX_NB_WORDS = 50000 # 사용할 단어의 최대 개수(최빈)\n",
        "tokenizer = Tokenizer(num_words=MAX_NB_WORDS, filters='!\"#$%&()*+,-./:;<=>?@[\\]^_`{|}~', lower=True)\n",
        "tokenizer.fit_on_texts(data['review_text'].values)\n",
        "\n",
        "X = tokenizer.texts_to_sequences(data['review_text'].values)\n",
        "print(X[:5])"
      ],
      "metadata": {
        "id": "CwHsnoi0zxVj",
        "colab": {
          "base_uri": "https://localhost:8080/"
        },
        "outputId": "e9e25293-f13a-481d-fb4d-781382a63169"
      },
      "execution_count": null,
      "outputs": [
        {
          "output_type": "stream",
          "name": "stdout",
          "text": [
            "[[11, 27, 105, 1119, 27, 291, 89, 27, 40, 1, 89, 10, 832, 13, 70, 114, 3, 40, 35, 184, 78, 389, 27, 26, 64, 35, 153, 1552, 1553, 85, 1, 52, 1001, 66, 1554, 12, 52, 905, 1555], [405, 1556, 723, 1002, 26, 55, 141, 467, 4, 200, 633, 89, 304, 46, 27, 1120, 522, 13, 374, 280, 14, 83, 62, 1121, 833, 771, 28, 125, 23, 6], [171], [4, 18, 242, 390, 54, 13, 1831, 1280], [92, 89, 10, 249, 6, 92]]\n"
          ]
        }
      ]
    },
    {
      "cell_type": "markdown",
      "source": [
        "- pad_sequences()를 이용하여 패딩을 삽입함으로써 서로 다른 시퀀스 길이를 통일하겠습니다. 짧은 문장의 경우 시퀀스 내 빈 위치에 0값을 삽입합니다. 시퀀스의 길이는 가장 긴 시퀀스에 맞춰집니다."
      ],
      "metadata": {
        "id": "qhSSXdmYkFCK"
      }
    },
    {
      "cell_type": "code",
      "source": [
        "# 패딩을 삽입하여 시퀀스 길이 통일하기\n",
        "X = pad_sequences(X)\n",
        "print(X[:5])"
      ],
      "metadata": {
        "id": "Jp_WegNsz1Dm",
        "colab": {
          "base_uri": "https://localhost:8080/"
        },
        "outputId": "964c8e50-7665-410b-fb14-94ecf4ac5665"
      },
      "execution_count": null,
      "outputs": [
        {
          "output_type": "stream",
          "name": "stdout",
          "text": [
            "[[   0    0    0 ...   52  905 1555]\n",
            " [   0    0    0 ...  125   23    6]\n",
            " [   0    0    0 ...    0    0  171]\n",
            " [   0    0    0 ...   13 1831 1280]\n",
            " [   0    0    0 ...  249    6   92]]\n"
          ]
        }
      ]
    },
    {
      "cell_type": "code",
      "source": [
        "# 변환된 X 데이터의 shape 확인하기\n",
        "print(X.shape)"
      ],
      "metadata": {
        "id": "BWud4Ftv0_pY",
        "colab": {
          "base_uri": "https://localhost:8080/"
        },
        "outputId": "130ec40c-f66b-45c1-f5b8-514f5480a253"
      },
      "execution_count": null,
      "outputs": [
        {
          "output_type": "stream",
          "name": "stdout",
          "text": [
            "(2394, 285)\n"
          ]
        }
      ]
    },
    {
      "cell_type": "code",
      "source": [
        "# 토큰의 개수, X의 shape과 일부 확인하기\n",
        "word_index = tokenizer.word_index\n",
        "print('Found %s unique tokens.' % len(word_index))\n",
        "print(X.shape[1])\n",
        "print(X[:5])"
      ],
      "metadata": {
        "id": "h3NGw3hBI_B1",
        "colab": {
          "base_uri": "https://localhost:8080/"
        },
        "outputId": "e433360c-7423-4736-f14e-cd22e213c40b"
      },
      "execution_count": null,
      "outputs": [
        {
          "output_type": "stream",
          "name": "stdout",
          "text": [
            "Found 3860 unique tokens.\n",
            "285\n",
            "[[   0    0    0 ...   52  905 1555]\n",
            " [   0    0    0 ...  125   23    6]\n",
            " [   0    0    0 ...    0    0  171]\n",
            " [   0    0    0 ...   13 1831 1280]\n",
            " [   0    0    0 ...  249    6   92]]\n"
          ]
        }
      ]
    },
    {
      "cell_type": "code",
      "source": [
        "word_index"
      ],
      "metadata": {
        "colab": {
          "base_uri": "https://localhost:8080/"
        },
        "id": "hdUvOzd74BtG",
        "outputId": "9cb36afa-41bd-400e-e74f-4ee2cb4bf0af"
      },
      "execution_count": null,
      "outputs": [
        {
          "output_type": "execute_result",
          "data": {
            "text/plain": [
              "{'and': 1,\n",
              " 'the': 2,\n",
              " 'i': 3,\n",
              " 'a': 4,\n",
              " 'this': 5,\n",
              " 'it': 6,\n",
              " 'to': 7,\n",
              " 'my': 8,\n",
              " 'of': 9,\n",
              " 'is': 10,\n",
              " 'as': 11,\n",
              " 'skin': 12,\n",
              " 'for': 13,\n",
              " 'in': 14,\n",
              " 'was': 15,\n",
              " 'have': 16,\n",
              " 'on': 17,\n",
              " 'great': 18,\n",
              " 'product': 19,\n",
              " 'so': 20,\n",
              " 'but': 21,\n",
              " 'good': 22,\n",
              " 'with': 23,\n",
              " 'not': 24,\n",
              " 'use': 25,\n",
              " 'that': 26,\n",
              " 'you': 27,\n",
              " 'very': 28,\n",
              " 'part': 29,\n",
              " 'review': 30,\n",
              " 'love': 31,\n",
              " 'promotion': 32,\n",
              " 'collected': 33,\n",
              " 'smell': 34,\n",
              " 'all': 35,\n",
              " 'really': 36,\n",
              " 'are': 37,\n",
              " 'these': 38,\n",
              " 'its': 39,\n",
              " 'like': 40,\n",
              " 'using': 41,\n",
              " 'they': 42,\n",
              " 'be': 43,\n",
              " 'well': 44,\n",
              " 'value': 45,\n",
              " 'would': 46,\n",
              " 'nice': 47,\n",
              " 'one': 48,\n",
              " 'has': 49,\n",
              " 'wash': 50,\n",
              " 'buy': 51,\n",
              " 'no': 52,\n",
              " 'soft': 53,\n",
              " 'up': 54,\n",
              " 'will': 55,\n",
              " 'dry': 56,\n",
              " 'used': 57,\n",
              " 'clean': 58,\n",
              " 'after': 59,\n",
              " 'at': 60,\n",
              " 'face': 61,\n",
              " 'when': 62,\n",
              " 'wipes': 63,\n",
              " 'fresh': 64,\n",
              " 'me': 65,\n",
              " 'or': 66,\n",
              " 'smells': 67,\n",
              " 'recommend': 68,\n",
              " 'price': 69,\n",
              " 'your': 70,\n",
              " 'can': 71,\n",
              " 'just': 72,\n",
              " 'clothes': 73,\n",
              " 'which': 74,\n",
              " 'too': 75,\n",
              " 'scent': 76,\n",
              " 'lovely': 77,\n",
              " 'products': 78,\n",
              " 'been': 79,\n",
              " 'out': 80,\n",
              " 'more': 81,\n",
              " 'bottle': 82,\n",
              " 'time': 83,\n",
              " 'make': 84,\n",
              " 'feeling': 85,\n",
              " 'only': 86,\n",
              " 'from': 87,\n",
              " 'if': 88,\n",
              " 'what': 89,\n",
              " 'money': 90,\n",
              " 'washing': 91,\n",
              " 'does': 92,\n",
              " 'than': 93,\n",
              " 'sensitive': 94,\n",
              " 'feel': 95,\n",
              " 'again': 96,\n",
              " 'leaves': 97,\n",
              " 'had': 98,\n",
              " 'do': 99,\n",
              " 'them': 100,\n",
              " 'always': 101,\n",
              " 'day': 102,\n",
              " 'simple': 103,\n",
              " 'any': 104,\n",
              " 'get': 105,\n",
              " 'long': 106,\n",
              " 'much': 107,\n",
              " 'also': 108,\n",
              " 'now': 109,\n",
              " 'other': 110,\n",
              " 'ive': 111,\n",
              " 'dont': 112,\n",
              " 'hair': 113,\n",
              " 'body': 114,\n",
              " 'amazing': 115,\n",
              " 'off': 116,\n",
              " 't': 117,\n",
              " 'feels': 118,\n",
              " 'shower': 119,\n",
              " 'an': 120,\n",
              " 'makes': 121,\n",
              " 'tried': 122,\n",
              " 'makeup': 123,\n",
              " 'bought': 124,\n",
              " 'happy': 125,\n",
              " 'definitely': 126,\n",
              " 'cream': 127,\n",
              " 'little': 128,\n",
              " 'easy': 129,\n",
              " 'need': 130,\n",
              " 'buying': 131,\n",
              " 'am': 132,\n",
              " 'quite': 133,\n",
              " 'some': 134,\n",
              " 'years': 135,\n",
              " 'few': 136,\n",
              " 'fragrance': 137,\n",
              " 'we': 138,\n",
              " 'smooth': 139,\n",
              " 'because': 140,\n",
              " 'last': 141,\n",
              " 'doesnt': 142,\n",
              " 'even': 143,\n",
              " 'there': 144,\n",
              " 'go': 145,\n",
              " 'however': 146,\n",
              " 'every': 147,\n",
              " 'best': 148,\n",
              " 'how': 149,\n",
              " 'works': 150,\n",
              " 'leave': 151,\n",
              " 'conditioner': 152,\n",
              " 'over': 153,\n",
              " 'about': 154,\n",
              " 'without': 155,\n",
              " 'washes': 156,\n",
              " 'im': 157,\n",
              " 'gel': 158,\n",
              " 'by': 159,\n",
              " 'never': 160,\n",
              " 'say': 161,\n",
              " 'gentle': 162,\n",
              " 'perfect': 163,\n",
              " 'find': 164,\n",
              " 'lot': 165,\n",
              " 'bottles': 166,\n",
              " 'water': 167,\n",
              " 'lasts': 168,\n",
              " 'left': 169,\n",
              " 'bit': 170,\n",
              " 'excellent': 171,\n",
              " 'got': 172,\n",
              " 'better': 173,\n",
              " 'found': 174,\n",
              " 'fabric': 175,\n",
              " 'first': 176,\n",
              " 'comfort': 177,\n",
              " 'before': 178,\n",
              " 'brand': 179,\n",
              " 'way': 180,\n",
              " 'many': 181,\n",
              " 'smelling': 182,\n",
              " 'job': 183,\n",
              " 'dove': 184,\n",
              " 's': 185,\n",
              " 'think': 186,\n",
              " 'try': 187,\n",
              " 'worth': 188,\n",
              " 'purchase': 189,\n",
              " 'lotion': 190,\n",
              " 'easily': 191,\n",
              " 'into': 192,\n",
              " 'size': 193,\n",
              " 'still': 194,\n",
              " 'ice': 195,\n",
              " 'highly': 196,\n",
              " 'light': 197,\n",
              " 'persil': 198,\n",
              " 'remove': 199,\n",
              " 'whole': 200,\n",
              " 'ago': 201,\n",
              " 'absolutely': 202,\n",
              " '2': 203,\n",
              " 'then': 204,\n",
              " 'cheaper': 205,\n",
              " 'ones': 206,\n",
              " 'were': 207,\n",
              " 'didnt': 208,\n",
              " 'toner': 209,\n",
              " 'days': 210,\n",
              " 'shampoo': 211,\n",
              " 'family': 212,\n",
              " 'pack': 213,\n",
              " 'made': 214,\n",
              " 'new': 215,\n",
              " 'usually': 216,\n",
              " 'keeps': 217,\n",
              " 'small': 218,\n",
              " 'put': 219,\n",
              " 'same': 220,\n",
              " 'refreshing': 221,\n",
              " 'quality': 222,\n",
              " 'enough': 223,\n",
              " 'week': 224,\n",
              " 'cant': 225,\n",
              " 'most': 226,\n",
              " 'strong': 227,\n",
              " '3': 228,\n",
              " 'deodorant': 229,\n",
              " 'work': 230,\n",
              " 'goes': 231,\n",
              " 'could': 232,\n",
              " 'big': 233,\n",
              " 'why': 234,\n",
              " 'back': 235,\n",
              " 'such': 236,\n",
              " 'while': 237,\n",
              " 'take': 238,\n",
              " 'looking': 239,\n",
              " 'favourite': 240,\n",
              " 'did': 241,\n",
              " 'flavour': 242,\n",
              " 'keep': 243,\n",
              " 'offer': 244,\n",
              " 'months': 245,\n",
              " 'liquid': 246,\n",
              " 'thought': 247,\n",
              " 'brilliant': 248,\n",
              " 'says': 249,\n",
              " 'super': 250,\n",
              " 'pleasant': 251,\n",
              " 'ever': 252,\n",
              " 'machine': 253,\n",
              " 'something': 254,\n",
              " 'laundry': 255,\n",
              " 'capsules': 256,\n",
              " 'both': 257,\n",
              " 'having': 258,\n",
              " 'fantastic': 259,\n",
              " 'quickly': 260,\n",
              " 'come': 261,\n",
              " 'give': 262,\n",
              " 'recommended': 263,\n",
              " 'half': 264,\n",
              " 'going': 265,\n",
              " 'especially': 266,\n",
              " 'chocolate': 267,\n",
              " '5': 268,\n",
              " 'less': 269,\n",
              " 'felt': 270,\n",
              " 'don': 271,\n",
              " 'being': 272,\n",
              " 'soap': 273,\n",
              " 'effective': 274,\n",
              " 'since': 275,\n",
              " 'amount': 276,\n",
              " 'another': 277,\n",
              " 'our': 278,\n",
              " 'bulk': 279,\n",
              " 'came': 280,\n",
              " 'cleansing': 281,\n",
              " 'though': 282,\n",
              " 'overpowering': 283,\n",
              " 'colour': 284,\n",
              " 'facial': 285,\n",
              " 'arrived': 286,\n",
              " 'concentrated': 287,\n",
              " 'see': 288,\n",
              " 'residue': 289,\n",
              " 'look': 290,\n",
              " 'know': 291,\n",
              " 'taste': 292,\n",
              " 'weeks': 293,\n",
              " 'softener': 294,\n",
              " 'different': 295,\n",
              " 'delivery': 296,\n",
              " 'vaseline': 297,\n",
              " 'stuff': 298,\n",
              " 'hard': 299,\n",
              " 'plastic': 300,\n",
              " 'down': 301,\n",
              " 'refreshed': 302,\n",
              " 'please': 303,\n",
              " 'else': 304,\n",
              " 'apply': 305,\n",
              " 'sure': 306,\n",
              " 'sticky': 307,\n",
              " 'morning': 308,\n",
              " 'ages': 309,\n",
              " 'nothing': 310,\n",
              " 'full': 311,\n",
              " 'recently': 312,\n",
              " 'heavy': 313,\n",
              " 'nicely': 314,\n",
              " 'their': 315,\n",
              " 'mascara': 316,\n",
              " 'fast': 317,\n",
              " 'drying': 318,\n",
              " 'bad': 319,\n",
              " 'smaller': 320,\n",
              " 'helps': 321,\n",
              " 'pretty': 322,\n",
              " 'myself': 323,\n",
              " 'moisturiser': 324,\n",
              " 'shops': 325,\n",
              " 'stop': 326,\n",
              " 'who': 327,\n",
              " 'tan': 328,\n",
              " 'powder': 329,\n",
              " 'once': 330,\n",
              " 'thick': 331,\n",
              " 'delivered': 332,\n",
              " 'white': 333,\n",
              " 'kind': 334,\n",
              " 'isnt': 335,\n",
              " 'eyes': 336,\n",
              " 'night': 337,\n",
              " 'anything': 338,\n",
              " 'anyone': 339,\n",
              " 'wipe': 340,\n",
              " 'micellar': 341,\n",
              " 'impressed': 342,\n",
              " 'removes': 343,\n",
              " 'thank': 344,\n",
              " 'past': 345,\n",
              " 'getting': 346,\n",
              " 'free': 347,\n",
              " 'box': 348,\n",
              " 'each': 349,\n",
              " 'two': 350,\n",
              " 'although': 351,\n",
              " 'theyre': 352,\n",
              " 'wouldnt': 353,\n",
              " 'supermarket': 354,\n",
              " 'quick': 355,\n",
              " 'difference': 356,\n",
              " 'house': 357,\n",
              " 'greasy': 358,\n",
              " 'moisturised': 359,\n",
              " 'noticed': 360,\n",
              " 'actually': 361,\n",
              " 'brands': 362,\n",
              " 'expensive': 363,\n",
              " 'seems': 364,\n",
              " 'irritate': 365,\n",
              " 'routine': 366,\n",
              " 'kids': 367,\n",
              " 'amazon': 368,\n",
              " 'creamy': 369,\n",
              " 'eye': 370,\n",
              " 'non': 371,\n",
              " 'oily': 372,\n",
              " 'everyday': 373,\n",
              " 'order': 374,\n",
              " 'texture': 375,\n",
              " 'seem': 376,\n",
              " 'far': 377,\n",
              " 'times': 378,\n",
              " 'large': 379,\n",
              " 'pleased': 380,\n",
              " 'making': 381,\n",
              " 'tub': 382,\n",
              " 'purchased': 383,\n",
              " 'ok': 384,\n",
              " 'packaging': 385,\n",
              " 'natural': 386,\n",
              " 'around': 387,\n",
              " 'changed': 388,\n",
              " 'gives': 389,\n",
              " 'top': 390,\n",
              " 'thing': 391,\n",
              " 'home': 392,\n",
              " 'lasting': 393,\n",
              " 'should': 394,\n",
              " '100': 395,\n",
              " 'things': 396,\n",
              " 'right': 397,\n",
              " 'recycled': 398,\n",
              " 'hands': 399,\n",
              " 'problems': 400,\n",
              " 'continue': 401,\n",
              " 'winter': 402,\n",
              " 'daily': 403,\n",
              " 'x': 404,\n",
              " 'three': 405,\n",
              " 'item': 406,\n",
              " 'range': 407,\n",
              " 'taking': 408,\n",
              " 'leaving': 409,\n",
              " '6': 410,\n",
              " 'extra': 411,\n",
              " 'cheap': 412,\n",
              " 'yet': 413,\n",
              " 'start': 414,\n",
              " 'couple': 415,\n",
              " 'wont': 416,\n",
              " 'expected': 417,\n",
              " 'subtle': 418,\n",
              " 'others': 419,\n",
              " 'he': 420,\n",
              " 'change': 421,\n",
              " 'moisturizing': 422,\n",
              " 'regular': 423,\n",
              " 'softer': 424,\n",
              " 'exactly': 425,\n",
              " 'fact': 426,\n",
              " 'want': 427,\n",
              " 've': 428,\n",
              " 'wonderful': 429,\n",
              " 'bonus': 430,\n",
              " 'wet': 431,\n",
              " 'moisturized': 432,\n",
              " 'looks': 433,\n",
              " 'care': 434,\n",
              " 'normally': 435,\n",
              " 'bargain': 436,\n",
              " 'm': 437,\n",
              " 'beautiful': 438,\n",
              " 'described': 439,\n",
              " 'friends': 440,\n",
              " 'evening': 441,\n",
              " 'away': 442,\n",
              " 'everyone': 443,\n",
              " 'under': 444,\n",
              " 'extremely': 445,\n",
              " 'longer': 446,\n",
              " 'similar': 447,\n",
              " 'added': 448,\n",
              " 'wrong': 449,\n",
              " 'prefer': 450,\n",
              " 'clothing': 451,\n",
              " 'treat': 452,\n",
              " 'loads': 453,\n",
              " 'people': 454,\n",
              " 'cap': 455,\n",
              " 'started': 456,\n",
              " 'spray': 457,\n",
              " 'year': 458,\n",
              " 'due': 459,\n",
              " 'original': 460,\n",
              " 'hand': 461,\n",
              " 'delicious': 462,\n",
              " 'easier': 463,\n",
              " 'detergent': 464,\n",
              " 'thats': 465,\n",
              " 'bio': 466,\n",
              " 'probably': 467,\n",
              " 'gets': 468,\n",
              " 'stars': 469,\n",
              " 'everything': 470,\n",
              " '4': 471,\n",
              " 'her': 472,\n",
              " 'moisturising': 473,\n",
              " 'comes': 474,\n",
              " 'load': 475,\n",
              " 'pods': 476,\n",
              " 'lathers': 477,\n",
              " 'problem': 478,\n",
              " 'usual': 479,\n",
              " 'subscription': 480,\n",
              " 'normal': 481,\n",
              " 'either': 482,\n",
              " 'pump': 483,\n",
              " 'convenient': 484,\n",
              " 'liked': 485,\n",
              " 'decent': 486,\n",
              " 'red': 487,\n",
              " 'often': 488,\n",
              " '1': 489,\n",
              " 'husband': 490,\n",
              " 'fan': 491,\n",
              " 'eczema': 492,\n",
              " 'wasnt': 493,\n",
              " 'where': 494,\n",
              " 'means': 495,\n",
              " 'fine': 496,\n",
              " 'loved': 497,\n",
              " 'dried': 498,\n",
              " 'needed': 499,\n",
              " 'moisture': 500,\n",
              " 'spots': 501,\n",
              " 'capsule': 502,\n",
              " 'ill': 503,\n",
              " 'eating': 504,\n",
              " 'suffer': 505,\n",
              " 'applied': 506,\n",
              " 'compared': 507,\n",
              " 'gave': 508,\n",
              " 'must': 509,\n",
              " 'smelt': 510,\n",
              " 'end': 511,\n",
              " 'own': 512,\n",
              " 'disappointed': 513,\n",
              " 'lid': 514,\n",
              " 'particularly': 515,\n",
              " 'save': 516,\n",
              " 'through': 517,\n",
              " 'affordable': 518,\n",
              " 'sweet': 519,\n",
              " 'packs': 520,\n",
              " 'i2019ve': 521,\n",
              " 'wish': 522,\n",
              " 'perfumes': 523,\n",
              " 'deal': 524,\n",
              " 'etc': 525,\n",
              " 'gorgeous': 526,\n",
              " 'overall': 527,\n",
              " 'combination': 528,\n",
              " 'us': 529,\n",
              " 'within': 530,\n",
              " 'pour': 531,\n",
              " 'results': 532,\n",
              " 'clear': 533,\n",
              " 'twice': 534,\n",
              " 'said': 535,\n",
              " 'perfume': 536,\n",
              " 'slightly': 537,\n",
              " 'it2019s': 538,\n",
              " 'per': 539,\n",
              " 'fab': 540,\n",
              " 'none': 541,\n",
              " 'removed': 542,\n",
              " 'consistency': 543,\n",
              " 'jar': 544,\n",
              " 'uses': 545,\n",
              " 'hydrated': 546,\n",
              " 'sore': 547,\n",
              " 'until': 548,\n",
              " 'old': 549,\n",
              " 'conditioners': 550,\n",
              " 'pure': 551,\n",
              " 'fake': 552,\n",
              " 'add': 553,\n",
              " 'itself': 554,\n",
              " 'market': 555,\n",
              " 'cleans': 556,\n",
              " 'packaged': 557,\n",
              " 'pot': 558,\n",
              " '8': 559,\n",
              " 'harsh': 560,\n",
              " 'rather': 561,\n",
              " 'instead': 562,\n",
              " 'daughter': 563,\n",
              " 'she': 564,\n",
              " 'stay': 565,\n",
              " 'likes': 566,\n",
              " 'larger': 567,\n",
              " 'skincare': 568,\n",
              " 'may': 569,\n",
              " 'aloe': 570,\n",
              " 'foundation': 571,\n",
              " 'cannot': 572,\n",
              " 'awful': 573,\n",
              " 'friend': 574,\n",
              " 'during': 575,\n",
              " 'hours': 576,\n",
              " 'those': 577,\n",
              " 'chemicals': 578,\n",
              " 'live': 579,\n",
              " 'cleaning': 580,\n",
              " 'spent': 581,\n",
              " 'supermarkets': 582,\n",
              " 'removing': 583,\n",
              " 'subscribe': 584,\n",
              " 'children': 585,\n",
              " 'thanks': 586,\n",
              " 'lynx': 587,\n",
              " 'deep': 588,\n",
              " 'sun': 589,\n",
              " 'mild': 590,\n",
              " 'tablets': 591,\n",
              " 'towels': 592,\n",
              " 'let': 593,\n",
              " 'might': 594,\n",
              " 'service': 595,\n",
              " 'cause': 596,\n",
              " 'second': 597,\n",
              " 'open': 598,\n",
              " 'itu2019s': 599,\n",
              " 'went': 600,\n",
              " 'ideal': 601,\n",
              " 'lasted': 602,\n",
              " 'received': 603,\n",
              " 'havent': 604,\n",
              " 'meaning': 605,\n",
              " 'reaction': 606,\n",
              " 'result': 607,\n",
              " 'effect': 608,\n",
              " 'issues': 609,\n",
              " 'design': 610,\n",
              " 'month': 611,\n",
              " 'bags': 612,\n",
              " 'packet': 613,\n",
              " 'his': 614,\n",
              " 'along': 615,\n",
              " 'maybe': 616,\n",
              " 'holiday': 617,\n",
              " 'needs': 618,\n",
              " 'glow': 619,\n",
              " 'matter': 620,\n",
              " 'next': 621,\n",
              " 'included': 622,\n",
              " 'washed': 623,\n",
              " 'effectively': 624,\n",
              " 'totally': 625,\n",
              " 'fish': 626,\n",
              " 'wow': 627,\n",
              " 'vegan': 628,\n",
              " 'd': 629,\n",
              " 'wear': 630,\n",
              " 'glad': 631,\n",
              " 'regularly': 632,\n",
              " 'life': 633,\n",
              " 'trying': 634,\n",
              " 'rough': 635,\n",
              " 'elbows': 636,\n",
              " 'cucumber': 637,\n",
              " 'gone': 638,\n",
              " 'absorbed': 639,\n",
              " 'version': 640,\n",
              " 'carry': 641,\n",
              " 'noodles': 642,\n",
              " 'glass': 643,\n",
              " 'high': 644,\n",
              " 'waste': 645,\n",
              " 'gift': 646,\n",
              " 'isn': 647,\n",
              " 'hot': 648,\n",
              " 'alcohol': 649,\n",
              " 'tea': 650,\n",
              " 'soften': 651,\n",
              " 'wanted': 652,\n",
              " 'future': 653,\n",
              " 'worked': 654,\n",
              " 'loves': 655,\n",
              " 'overly': 656,\n",
              " 'struggle': 657,\n",
              " 'container': 658,\n",
              " 'handy': 659,\n",
              " 'putting': 660,\n",
              " 'comfortable': 661,\n",
              " 'lather': 662,\n",
              " 'doing': 663,\n",
              " 'hate': 664,\n",
              " 'cleansed': 665,\n",
              " 'lots': 666,\n",
              " 'waterproof': 667,\n",
              " 'type': 668,\n",
              " 'side': 669,\n",
              " 'dark': 670,\n",
              " 'help': 671,\n",
              " 're': 672,\n",
              " 'number': 673,\n",
              " 'already': 674,\n",
              " 'biodegradable': 675,\n",
              " 'saving': 676,\n",
              " 'essential': 677,\n",
              " 'soothing': 678,\n",
              " 'couldnt': 679,\n",
              " 'star': 680,\n",
              " 'heat': 681,\n",
              " 'prone': 682,\n",
              " 'intense': 683,\n",
              " 'applying': 684,\n",
              " 'bed': 685,\n",
              " 'seemed': 686,\n",
              " 'contains': 687,\n",
              " 'area': 688,\n",
              " 'divine': 689,\n",
              " 'irritation': 690,\n",
              " 'purchasing': 691,\n",
              " 'took': 692,\n",
              " 'based': 693,\n",
              " 'afterwards': 694,\n",
              " 'previous': 695,\n",
              " 'reviews': 696,\n",
              " 'moist': 697,\n",
              " 'ultra': 698,\n",
              " 'rich': 699,\n",
              " 'real': 700,\n",
              " 'itchy': 701,\n",
              " '15': 702,\n",
              " 'stuck': 703,\n",
              " 'green': 704,\n",
              " 'cold': 705,\n",
              " 'expect': 706,\n",
              " 'stains': 707,\n",
              " 'store': 708,\n",
              " 'happened': 709,\n",
              " 'careful': 710,\n",
              " 'moisturizer': 711,\n",
              " 'keeping': 712,\n",
              " 'become': 713,\n",
              " 'id': 714,\n",
              " 'bedding': 715,\n",
              " 'mix': 716,\n",
              " 'sting': 717,\n",
              " 'occasionally': 718,\n",
              " 'bag': 719,\n",
              " 'didn2019t': 720,\n",
              " 'shop': 721,\n",
              " 'rate': 722,\n",
              " 'marmite': 723,\n",
              " 'moisturisers': 724,\n",
              " 'condition': 725,\n",
              " 'tend': 726,\n",
              " 'creams': 727,\n",
              " 'asked': 728,\n",
              " 'items': 729,\n",
              " 'package': 730,\n",
              " 'silky': 731,\n",
              " 'reliable': 732,\n",
              " 'damaged': 733,\n",
              " 'here': 734,\n",
              " 'brown': 735,\n",
              " 'together': 736,\n",
              " 'tasty': 737,\n",
              " 'reasonable': 738,\n",
              " 'mean': 739,\n",
              " 'priced': 740,\n",
              " 'spot': 741,\n",
              " 'bath': 742,\n",
              " 'summer': 743,\n",
              " 'baby': 744,\n",
              " 'irritating': 745,\n",
              " 'ingredients': 746,\n",
              " 'scented': 747,\n",
              " 'special': 748,\n",
              " 'delicate': 749,\n",
              " 'confidence': 750,\n",
              " 'given': 751,\n",
              " 'legs': 752,\n",
              " 'recyclable': 753,\n",
              " 'types': 754,\n",
              " 'properly': 755,\n",
              " 'decided': 756,\n",
              " 'actual': 757,\n",
              " 'clearer': 758,\n",
              " 'theres': 759,\n",
              " 'rid': 760,\n",
              " 'least': 761,\n",
              " 'scrub': 762,\n",
              " 'separate': 763,\n",
              " 'downside': 764,\n",
              " 'fairy': 765,\n",
              " 'space': 766,\n",
              " 'lips': 767,\n",
              " 'toast': 768,\n",
              " 'nonbio': 769,\n",
              " 'scents': 770,\n",
              " 'packed': 771,\n",
              " 'particular': 772,\n",
              " 'sometimes': 773,\n",
              " 'application': 774,\n",
              " 'boys': 775,\n",
              " 'gently': 776,\n",
              " 'squeeze': 777,\n",
              " 'double': 778,\n",
              " 'mess': 779,\n",
              " 'point': 780,\n",
              " 'able': 781,\n",
              " 'kitchen': 782,\n",
              " 'warm': 783,\n",
              " 'sized': 784,\n",
              " 'marks': 785,\n",
              " 'friendly': 786,\n",
              " 'honestly': 787,\n",
              " 'line': 788,\n",
              " 'notice': 789,\n",
              " 'formula': 790,\n",
              " 'staple': 791,\n",
              " 'bleach': 792,\n",
              " 'gluten': 793,\n",
              " 'dairy': 794,\n",
              " 'sweat': 795,\n",
              " 'snack': 796,\n",
              " 'today': 797,\n",
              " 'perfumed': 798,\n",
              " 'worry': 799,\n",
              " 'oil': 800,\n",
              " 'massive': 801,\n",
              " 'post': 802,\n",
              " 'contain': 803,\n",
              " 'arent': 804,\n",
              " 'important': 805,\n",
              " 'absorbs': 806,\n",
              " 'fair': 807,\n",
              " 'drum': 808,\n",
              " 'flaky': 809,\n",
              " 'marshmallow': 810,\n",
              " 'tiny': 811,\n",
              " 'spend': 812,\n",
              " 'stain': 813,\n",
              " 'hope': 814,\n",
              " 'beautifully': 815,\n",
              " 'didn': 816,\n",
              " '36': 817,\n",
              " '38': 818,\n",
              " 'idea': 819,\n",
              " 'plus': 820,\n",
              " 'form': 821,\n",
              " 'tin': 822,\n",
              " 'stopped': 823,\n",
              " 'dryness': 824,\n",
              " 'toners': 825,\n",
              " 'addition': 826,\n",
              " 'crazy': 827,\n",
              " 'rely': 828,\n",
              " 'acne': 829,\n",
              " 'proof': 830,\n",
              " 'known': 831,\n",
              " 'suitable': 832,\n",
              " 'safely': 833,\n",
              " 'men': 834,\n",
              " 'remember': 835,\n",
              " 'flare': 836,\n",
              " 'saves': 837,\n",
              " 'soaked': 838,\n",
              " 'yes': 839,\n",
              " 'leaking': 840,\n",
              " 'wool': 841,\n",
              " 'doesn': 842,\n",
              " 'tresemme': 843,\n",
              " 'protection': 844,\n",
              " 'looked': 845,\n",
              " 'healthy': 846,\n",
              " 'blue': 847,\n",
              " 'main': 848,\n",
              " 'cleaner': 849,\n",
              " 'cool': 850,\n",
              " 'blocked': 851,\n",
              " 'fairly': 852,\n",
              " 'neutral': 853,\n",
              " 'hydration': 854,\n",
              " 'patches': 855,\n",
              " 'absolute': 856,\n",
              " 'household': 857,\n",
              " 'soon': 858,\n",
              " 'issue': 859,\n",
              " 'colours': 860,\n",
              " '18': 861,\n",
              " 'done': 862,\n",
              " 'broken': 863,\n",
              " 'spilt': 864,\n",
              " 'shame': 865,\n",
              " 'forever': 866,\n",
              " 'difficult': 867,\n",
              " 'streaks': 868,\n",
              " 'youre': 869,\n",
              " 'huge': 870,\n",
              " 'frequently': 871,\n",
              " 'kg': 872,\n",
              " 'brilliantly': 873,\n",
              " '12': 874,\n",
              " 'leaked': 875,\n",
              " 'compares': 876,\n",
              " '10': 877,\n",
              " 'storage': 878,\n",
              " 'artificial': 879,\n",
              " 'floral': 880,\n",
              " 'moisturise': 881,\n",
              " 'aroma': 882,\n",
              " 'finish': 883,\n",
              " 'including': 884,\n",
              " 'coloured': 885,\n",
              " 'takes': 886,\n",
              " 'customer': 887,\n",
              " 'plenty': 888,\n",
              " 'gradual': 889,\n",
              " 'streak': 890,\n",
              " 'rubbing': 891,\n",
              " 'rest': 892,\n",
              " 'break': 893,\n",
              " 'win': 894,\n",
              " 'defiantly': 895,\n",
              " 'cleaned': 896,\n",
              " 'required': 897,\n",
              " 'okay': 898,\n",
              " 'someone': 899,\n",
              " 'bold': 900,\n",
              " 'casing': 901,\n",
              " 'liquids': 902,\n",
              " 'sweating': 903,\n",
              " '3in': 904,\n",
              " 'smelly': 905,\n",
              " 'awesome': 906,\n",
              " 'bathroom': 907,\n",
              " 'cupboard': 908,\n",
              " 'unlike': 909,\n",
              " 'drawer': 910,\n",
              " 'didnu2019t': 911,\n",
              " 'almost': 912,\n",
              " 'horrible': 913,\n",
              " 'runny': 914,\n",
              " 'onto': 915,\n",
              " 'costs': 916,\n",
              " 'read': 917,\n",
              " 'boost': 918,\n",
              " 'certainly': 919,\n",
              " 'age': 920,\n",
              " 'producing': 921,\n",
              " 'suddenly': 922,\n",
              " 'tastes': 923,\n",
              " 'truly': 924,\n",
              " 'otherwise': 925,\n",
              " 'pores': 926,\n",
              " 'wait': 927,\n",
              " 'surprised': 928,\n",
              " 'despite': 929,\n",
              " 'won': 930,\n",
              " 'completely': 931,\n",
              " 'simply': 932,\n",
              " 'branding': 933,\n",
              " 'empty': 934,\n",
              " 'stubborn': 935,\n",
              " 'squeaky': 936,\n",
              " 'tone': 937,\n",
              " 'wife': 938,\n",
              " 'outside': 939,\n",
              " 'manufacturer': 940,\n",
              " 'prime': 941,\n",
              " 'mistake': 942,\n",
              " 'thin': 943,\n",
              " 'impossible': 944,\n",
              " 'hold': 945,\n",
              " 'supposed': 946,\n",
              " 'measure': 947,\n",
              " 'anymore': 948,\n",
              " 'across': 949,\n",
              " 'inexpensive': 950,\n",
              " 'plain': 951,\n",
              " 'set': 952,\n",
              " 'choose': 953,\n",
              " 'stock': 954,\n",
              " 'can2019t': 955,\n",
              " 'experience': 956,\n",
              " 'capful': 957,\n",
              " 'enjoyed': 958,\n",
              " 'kept': 959,\n",
              " 'standard': 960,\n",
              " 'harmful': 961,\n",
              " 'nasties': 962,\n",
              " 'ease': 963,\n",
              " 'intensive': 964,\n",
              " 'boxes': 965,\n",
              " 'softness': 966,\n",
              " 'breakouts': 967,\n",
              " 'knees': 968,\n",
              " 'arms': 969,\n",
              " 'bin': 970,\n",
              " 'run': 971,\n",
              " 'caused': 972,\n",
              " 'wasn': 973,\n",
              " 'shave': 974,\n",
              " 'shiny': 975,\n",
              " 'ha': 976,\n",
              " 'course': 977,\n",
              " 'paid': 978,\n",
              " 'bottom': 979,\n",
              " 'pale': 980,\n",
              " 'therefore': 981,\n",
              " 'fully': 982,\n",
              " 'whats': 983,\n",
              " 'magnums': 984,\n",
              " 'beef': 985,\n",
              " 'several': 986,\n",
              " 'guys': 987,\n",
              " 'cleanse': 988,\n",
              " 'nose': 989,\n",
              " 'considering': 990,\n",
              " 'tight': 991,\n",
              " 'reccomend': 992,\n",
              " 'bright': 993,\n",
              " 'yummy': 994,\n",
              " 'hole': 995,\n",
              " 'overbearing': 996,\n",
              " 'ordering': 997,\n",
              " 'sleeve': 998,\n",
              " 'label': 999,\n",
              " 'cone': 1000,\n",
              " ...}"
            ]
          },
          "metadata": {},
          "execution_count": 33
        }
      ]
    },
    {
      "cell_type": "markdown",
      "source": [
        "- 'Positivity' 열의 값을 바탕으로 원핫 인코딩하여 학습 레이블인 Y을 생성하겠습니다. 'Positivity' 값이 0인 경우 [1, 0], 1인 경우 [0, 1] 값으로 원핫 변환됩니다."
      ],
      "metadata": {
        "id": "bLAPhojikoyP"
      }
    },
    {
      "cell_type": "code",
      "source": [
        "# 출력층 활성화 함수를 sigmoid로 하는 경우\n",
        "Y = data['Positivity']"
      ],
      "metadata": {
        "id": "Ybk4OHp7PTMr"
      },
      "execution_count": null,
      "outputs": []
    },
    {
      "cell_type": "code",
      "source": [
        "# 출력층 활성화 함수를 softmax로 하는 경우\n",
        "# get_dummies()를 이용하여 'Positivity' 열 원핫 인코딩한 후, Y에 저장하기\n",
        "# Y = pd.get_dummies(data['Positivity']).values\n",
        "# print(Y[:5])"
      ],
      "metadata": {
        "id": "exAICHVoz8RS"
      },
      "execution_count": null,
      "outputs": []
    },
    {
      "cell_type": "code",
      "source": [
        "# 훈련데이터와 테스트데이터 분리하기\n",
        "from sklearn.model_selection import train_test_split\n",
        "\n",
        "X_train, X_test, Y_train, Y_test = train_test_split(X,Y, test_size = 0.2,\n",
        "                                                    random_state = 42,\n",
        "                                                    stratify=Y)\n",
        "print(X_train.shape,Y_train.shape)\n",
        "print(X_test.shape,Y_test.shape)"
      ],
      "metadata": {
        "id": "zbjSnIV-0B6g",
        "colab": {
          "base_uri": "https://localhost:8080/"
        },
        "outputId": "16d79d93-c3a8-413e-813d-b8fb9622fcc3"
      },
      "execution_count": null,
      "outputs": [
        {
          "output_type": "stream",
          "name": "stdout",
          "text": [
            "(1915, 285) (1915,)\n",
            "(479, 285) (479,)\n"
          ]
        }
      ]
    },
    {
      "cell_type": "markdown",
      "source": [
        "## **5. 모델정의**"
      ],
      "metadata": {
        "id": "xgpV1Ay0h6Om"
      }
    },
    {
      "cell_type": "markdown",
      "source": [
        "#### 5.1. 모델 정의를 위한 변수 설정하기"
      ],
      "metadata": {
        "id": "eMMvGZSu5yvu"
      }
    },
    {
      "cell_type": "code",
      "source": [
        "# RNN 모델 정의를 위한 변수 초기화하기\n",
        "MAX_NB_WORDS = 50000                # 사용할 단어의 최대 개수(최빈)\n",
        "MAX_SEQUENCE_LENGTH = X.shape[1]    # 가장 긴 시퀀스 길이\n",
        "EMBEDDING_DIM = 150                 # 임베딩 차원 정의\n",
        "rnn_out = 200                       # RNN층 unit 개수"
      ],
      "metadata": {
        "id": "N2v7AJC4QT1J"
      },
      "execution_count": null,
      "outputs": []
    },
    {
      "cell_type": "markdown",
      "source": [
        "#### 5.2. LSTM 모델 정의하기"
      ],
      "metadata": {
        "id": "3ifRFb_f6Hp5"
      }
    },
    {
      "cell_type": "markdown",
      "source": [
        "##### **LSTM 모델 정의**\n",
        "  - 학습 데이터의 shape을 기반으로 임베딩 층을 추가합니다.\n",
        "  - keras의 LSTM()을 이용하여 LSTM 층을 추가합니다.\n",
        "  - 출력 데이터의 형태를 고려하여 출력층을 추가합니다. 이때, 활성화 함수는 소프트맥스(softmax) 함수로 합니다.\n",
        "  - RNN, LSTM 모델에서는 일반적으로 relu 함수를 사용하지 않는다.\n",
        "    - Time Sequential하게 과거의 데이터를 지속적으로 꺼내서 사용하는 과정에서 과거의 값들이 끊임없이 재귀(반복적으로)로 사용되기때문에, -1~1 사이로 normalizing이 필요합니다.\n",
        "    - relu를 사용할 경우 값이 발산할 확률이 아주아주 높아진다.\n",
        "    - 1~1 사이로 normalizing해줄 수 있는 softmax 혹은 tanh가 주로 사용된다.\n"
      ],
      "metadata": {
        "id": "Fdf6G8u7oSZT"
      }
    },
    {
      "cell_type": "code",
      "source": [
        "# LSTM 모델 정의하기\n",
        "model = Sequential()\n",
        "model.add(Embedding(MAX_NB_WORDS, EMBEDDING_DIM, input_length=X.shape[1]))\n",
        "# model.add(SimpleRNN(rnn_out, dropout=0.2, recurrent_dropout=0.2))\n",
        "model.add((LSTM(rnn_out,dropout = 0.2,recurrent_dropout=0.2)))\n",
        "# model.add(Dense(2, activation='softmax'))\n",
        "model.add(Dense(1, activation='sigmoid'))\n",
        "\n",
        "model.compile(loss='binary_crossentropy', optimizer='adam', metrics=['accuracy'])\n",
        "model.summary()"
      ],
      "metadata": {
        "id": "GarHhFwI0UK_",
        "colab": {
          "base_uri": "https://localhost:8080/"
        },
        "outputId": "ca4f6840-c68c-4da0-e0ae-e3cbb78ad1a6"
      },
      "execution_count": null,
      "outputs": [
        {
          "output_type": "stream",
          "name": "stderr",
          "text": [
            "WARNING:tensorflow:Layer lstm will not use cuDNN kernels since it doesn't meet the criteria. It will use a generic GPU kernel as fallback when running on GPU.\n"
          ]
        },
        {
          "output_type": "stream",
          "name": "stdout",
          "text": [
            "Model: \"sequential_2\"\n",
            "_________________________________________________________________\n",
            " Layer (type)                Output Shape              Param #   \n",
            "=================================================================\n",
            " embedding_2 (Embedding)     (None, 285, 150)          7500000   \n",
            "                                                                 \n",
            " lstm (LSTM)                 (None, 200)               280800    \n",
            "                                                                 \n",
            " dense (Dense)               (None, 1)                 201       \n",
            "                                                                 \n",
            "=================================================================\n",
            "Total params: 7,781,001\n",
            "Trainable params: 7,781,001\n",
            "Non-trainable params: 0\n",
            "_________________________________________________________________\n"
          ]
        }
      ]
    },
    {
      "cell_type": "markdown",
      "source": [
        "## **6. 모델 학습**"
      ],
      "metadata": {
        "id": "xJIi3Id4iBDw"
      }
    },
    {
      "cell_type": "markdown",
      "source": [
        "##### **LSTM 모델 학습**\n"
      ],
      "metadata": {
        "id": "4QbK8E3BpM0F"
      }
    },
    {
      "cell_type": "code",
      "source": [
        "# RNN모델 학습\n",
        "history = model.fit(X_train, Y_train,\n",
        "                    validation_data = (X_test, Y_test),\n",
        "                    epochs = 10, batch_size=32, verbose = 2)"
      ],
      "metadata": {
        "id": "tt7tuXurQ0lL",
        "colab": {
          "base_uri": "https://localhost:8080/"
        },
        "outputId": "83a0cb4c-761f-4cc0-e777-161bf42d9321"
      },
      "execution_count": null,
      "outputs": [
        {
          "output_type": "stream",
          "name": "stdout",
          "text": [
            "Epoch 1/10\n",
            "60/60 - 94s - loss: 0.2973 - accuracy: 0.9013 - val_loss: 0.2144 - val_accuracy: 0.9165 - 94s/epoch - 2s/step\n",
            "Epoch 2/10\n",
            "60/60 - 83s - loss: 0.1386 - accuracy: 0.9525 - val_loss: 0.1712 - val_accuracy: 0.9395 - 83s/epoch - 1s/step\n",
            "Epoch 3/10\n",
            "60/60 - 81s - loss: 0.0659 - accuracy: 0.9796 - val_loss: 0.1396 - val_accuracy: 0.9582 - 81s/epoch - 1s/step\n",
            "Epoch 4/10\n",
            "60/60 - 81s - loss: 0.0323 - accuracy: 0.9885 - val_loss: 0.1660 - val_accuracy: 0.9415 - 81s/epoch - 1s/step\n",
            "Epoch 5/10\n",
            "60/60 - 78s - loss: 0.0219 - accuracy: 0.9948 - val_loss: 0.1769 - val_accuracy: 0.9436 - 78s/epoch - 1s/step\n",
            "Epoch 6/10\n",
            "60/60 - 75s - loss: 0.0065 - accuracy: 0.9995 - val_loss: 0.1986 - val_accuracy: 0.9624 - 75s/epoch - 1s/step\n",
            "Epoch 7/10\n",
            "60/60 - 75s - loss: 0.0047 - accuracy: 0.9990 - val_loss: 0.2580 - val_accuracy: 0.9624 - 75s/epoch - 1s/step\n",
            "Epoch 8/10\n",
            "60/60 - 74s - loss: 0.0054 - accuracy: 0.9990 - val_loss: 0.2275 - val_accuracy: 0.9478 - 74s/epoch - 1s/step\n",
            "Epoch 9/10\n",
            "60/60 - 73s - loss: 0.0018 - accuracy: 0.9995 - val_loss: 0.2474 - val_accuracy: 0.9478 - 73s/epoch - 1s/step\n",
            "Epoch 10/10\n",
            "60/60 - 74s - loss: 0.0013 - accuracy: 0.9995 - val_loss: 0.2659 - val_accuracy: 0.9395 - 74s/epoch - 1s/step\n"
          ]
        }
      ]
    },
    {
      "cell_type": "markdown",
      "source": [
        "## **7. 모델 평가**"
      ],
      "metadata": {
        "id": "ADpHYa1YJOsQ"
      }
    },
    {
      "cell_type": "markdown",
      "source": [
        "### 7.1. 테스트 데이터를 입력하여 모델 평가하기"
      ],
      "metadata": {
        "id": "amNAuElCLkys"
      }
    },
    {
      "cell_type": "code",
      "source": [
        "# model.evaluate로 모델 평가하기\n",
        "accuracy = model.evaluate(X_test, Y_test)\n",
        "print('테스트 데이터\\n  Loss: {:0.3f}\\n  Accuracy: {:0.3f}'.format(accuracy[0],accuracy[1]))"
      ],
      "metadata": {
        "id": "SRXAD2AP1uaC",
        "colab": {
          "base_uri": "https://localhost:8080/"
        },
        "outputId": "57acf156-042f-4fd5-de14-27ebac76c5aa"
      },
      "execution_count": null,
      "outputs": [
        {
          "output_type": "stream",
          "name": "stdout",
          "text": [
            "15/15 [==============================] - 2s 114ms/step - loss: 0.2659 - accuracy: 0.9395\n",
            "테스트 데이터\n",
            "  Loss: 0.266\n",
            "  Accuracy: 0.939\n"
          ]
        }
      ]
    },
    {
      "cell_type": "markdown",
      "source": [
        "### 7.2. 테스트 데이터 기반 Loss, Acc 그래프 평가하기"
      ],
      "metadata": {
        "id": "w74BDMZ8LvQg"
      }
    },
    {
      "cell_type": "code",
      "source": [
        "# history 딕셔너리의 key 값 확인하기\n",
        "history.history.keys()"
      ],
      "metadata": {
        "id": "qZQ3xBkkKO8o",
        "colab": {
          "base_uri": "https://localhost:8080/"
        },
        "outputId": "365cc377-f8f6-46e4-e745-2c82f7339e6a"
      },
      "execution_count": null,
      "outputs": [
        {
          "output_type": "execute_result",
          "data": {
            "text/plain": [
              "dict_keys(['loss', 'accuracy', 'val_loss', 'val_accuracy'])"
            ]
          },
          "metadata": {},
          "execution_count": 42
        }
      ]
    },
    {
      "cell_type": "code",
      "source": [
        "# 테스트 데이터 손실(Loss)과 정확도(Accuracy)를 그래프로 나타내기\n",
        "plt.title('Plot of Accuracy of the Model')\n",
        "plt.plot(history.history['accuracy'], label='test accuracy')\n",
        "plt.plot(history.history['loss'], label='test loss')\n",
        "plt.legend()\n",
        "plt.show()"
      ],
      "metadata": {
        "id": "b7ZOuFhk3xLJ",
        "colab": {
          "base_uri": "https://localhost:8080/",
          "height": 452
        },
        "outputId": "175a034e-2410-477c-e19f-b3d7e4a7240c"
      },
      "execution_count": null,
      "outputs": [
        {
          "output_type": "display_data",
          "data": {
            "text/plain": [
              "<Figure size 640x480 with 1 Axes>"
            ],
            "image/png": "[encoded data removed]"
          },
          "metadata": {}
        }
      ]
    },
    {
      "cell_type": "markdown",
      "source": [
        "## **8. 모델 활용**"
      ],
      "metadata": {
        "id": "AjlVBUf0L1oh"
      }
    },
    {
      "cell_type": "markdown",
      "source": [
        "### 8.1. 새로운 문장을 입력하여 모델 평가하기"
      ],
      "metadata": {
        "id": "xYcQTw7iiSzH"
      }
    },
    {
      "cell_type": "code",
      "source": [
        "def model_test(new_review):\n",
        "    seq = tokenizer.texts_to_sequences(new_review)\n",
        "    print(seq)\n",
        "    padded = pad_sequences(seq,maxlen = 285)\n",
        "    pred = model.predict(padded)\n",
        "    labels = {0: 'Negative', 1: 'Positive'}\n",
        "    # print(labels[np.argmax(pred)])\n",
        "    print(labels[int(np.round(pred, 0))])"
      ],
      "metadata": {
        "id": "OwuUbI-WNP5U"
      },
      "execution_count": null,
      "outputs": []
    },
    {
      "cell_type": "code",
      "source": [
        "# 긍정 예시문을 대입하여 모델 활용하기\n",
        "# 긍정예시1) i like the product and i wish to buy again\n",
        "test_review = []\n",
        "test_review.append(input())\n",
        "model_test(test_review)"
      ],
      "metadata": {
        "id": "xw-x0J1_38Fe",
        "colab": {
          "base_uri": "https://localhost:8080/"
        },
        "outputId": "cf5f3069-512f-4241-8ba2-06bf340c4590"
      },
      "execution_count": null,
      "outputs": [
        {
          "output_type": "stream",
          "name": "stdout",
          "text": [
            "i like the product and i wish to buy again\n",
            "[[3, 40, 2, 19, 1, 3, 522, 7, 51, 96]]\n",
            "1/1 [==============================] - 0s 325ms/step\n",
            "Positive\n"
          ]
        }
      ]
    },
    {
      "cell_type": "code",
      "source": [
        "# 긍정예시2) what a beautiful product i would like to recommend this to my friend\n",
        "test_review = []\n",
        "test_review.append(input())\n",
        "model_test(test_review)"
      ],
      "metadata": {
        "id": "X9OoWCg2OR6j",
        "colab": {
          "base_uri": "https://localhost:8080/"
        },
        "outputId": "9e9534f9-ffe8-4fe2-dfe1-2013843341a7"
      },
      "execution_count": null,
      "outputs": [
        {
          "output_type": "stream",
          "name": "stdout",
          "text": [
            "what a beautiful product i would like to recommend this to my friend\n",
            "[[89, 4, 438, 19, 3, 46, 40, 7, 68, 5, 7, 8, 574]]\n",
            "1/1 [==============================] - 0s 84ms/step\n",
            "Positive\n"
          ]
        }
      ]
    },
    {
      "cell_type": "code",
      "source": [
        "# 부정 예시문을 대입하여 모델 활용하기\n",
        "# 부정예시1) taste hard and so horrible\n",
        "test_review = []\n",
        "test_review.append(input())\n",
        "model_test(test_review)"
      ],
      "metadata": {
        "id": "HEVK-2NTSBeV",
        "colab": {
          "base_uri": "https://localhost:8080/"
        },
        "outputId": "81243ac7-5364-42f7-d30b-fdf95c970abf"
      },
      "execution_count": null,
      "outputs": [
        {
          "output_type": "stream",
          "name": "stdout",
          "text": [
            "taste hard and so horrible\n",
            "[[292, 299, 1, 20, 913]]\n",
            "1/1 [==============================] - 0s 89ms/step\n",
            "Negative\n"
          ]
        }
      ]
    },
    {
      "cell_type": "markdown",
      "source": [
        "\n",
        "\n",
        "[참고자료](https://www.kaggle.com/code/akudnaver/fork-of-lstm-amazon-sentimental-analysis)"
      ],
      "metadata": {
        "id": "Ovn_oAvGyAvu"
      }
    }
  ]
}