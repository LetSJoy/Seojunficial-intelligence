{
  "nbformat": 4,
  "nbformat_minor": 0,
  "metadata": {
    "colab": {
      "provenance": []
    },
    "kernelspec": {
      "display_name": "Python 3",
      "language": "python",
      "name": "python3"
    },
    "language_info": {
      "codemirror_mode": {
        "name": "ipython",
        "version": 3
      },
      "file_extension": ".py",
      "mimetype": "text/x-python",
      "name": "python",
      "nbconvert_exporter": "python",
      "pygments_lexer": "ipython3",
      "version": "3.7.3"
    }
  },
  "cells": [
    {
      "cell_type": "markdown",
      "metadata": {
        "id": "xnpLPRny57ed"
      },
      "source": [
        "# 4주차 ML Regression 실습 과제\n"
      ]
    },
    {
      "cell_type": "markdown",
      "source": [
        "#[문제1]중고차 판매가격 예측하기\n",
        "- 과제를 완성하여 클래스룸에 기한내에 제출합니다.\n",
        "- 머신러닝 프로세스(데이터 수집 -> 데이터 전처리 -> 모델 학습 -> 모델 예측 및 평가->모델 개선)대로 실습을 진행합니다.\n",
        "- 모델을 완성한 후, '6.최종 모델 분석'에서 자신의 모델을 분석한 결과를 작성합니다.\n"
      ],
      "metadata": {
        "id": "8Wl5VwwVpi0U"
      }
    },
    {
      "cell_type": "markdown",
      "metadata": {
        "id": "6sY5ZwLu7rKb"
      },
      "source": [
        "## 1.데이터 수집\n",
        "- 캐글의 데이터 API를 이용하여 Vehicle dataset from cardekho 데이터를 로드하세요.(https://www.kaggle.com/nehalbirla/vehicle-dataset-from-cardekho)\n",
        "- 캐글페이지에 설명되어 있는 각 컬럼이 의미하는 내용을 숙지하세요."
      ]
    },
    {
      "cell_type": "code",
      "metadata": {
        "id": "_jtjUW_t8pp8",
        "colab": {
          "base_uri": "https://localhost:8080/"
        },
        "outputId": "50fe2f59-bed3-4b49-a393-3009ee9a5318"
      },
      "source": [
        "from google.colab import drive\n",
        "drive.mount('/content/drive')\n",
        "import os\n",
        "os.environ['KAGGLE_CONFIG_DIR'] = '/content/drive/My Drive/Colab Notebooks/.kaggle'"
      ],
      "execution_count": null,
      "outputs": [
        {
          "output_type": "stream",
          "name": "stdout",
          "text": [
            "Mounted at /content/drive\n"
          ]
        }
      ]
    },
    {
      "cell_type": "markdown",
      "metadata": {
        "id": "aXIJRlbw9F2P"
      },
      "source": [
        "- pandas의 데이터프레임 'data' 변수를 선언하여 csv 파일 형태의 데이터를  저장하세요."
      ]
    },
    {
      "cell_type": "code",
      "metadata": {
        "id": "XBc-9bv49HJO",
        "colab": {
          "base_uri": "https://localhost:8080/"
        },
        "outputId": "aa518250-1679-485c-d4db-c618a4799d73"
      },
      "source": [
        "!kaggle datasets download -d nehalbirla/vehicle-dataset-from-cardekho"
      ],
      "execution_count": null,
      "outputs": [
        {
          "output_type": "stream",
          "name": "stdout",
          "text": [
            "Downloading vehicle-dataset-from-cardekho.zip to /content\n",
            "100% 292k/292k [00:00<00:00, 854kB/s]\n",
            "100% 292k/292k [00:00<00:00, 853kB/s]\n"
          ]
        }
      ]
    },
    {
      "cell_type": "code",
      "source": [
        "!unzip vehicle-dataset-from-cardekho.zip"
      ],
      "metadata": {
        "colab": {
          "base_uri": "https://localhost:8080/"
        },
        "id": "uURdedyAa60f",
        "outputId": "c839dc57-6dc0-4da9-ab37-cc4fb2ec48ad"
      },
      "execution_count": null,
      "outputs": [
        {
          "output_type": "stream",
          "name": "stdout",
          "text": [
            "Archive:  vehicle-dataset-from-cardekho.zip\n",
            "  inflating: CAR DETAILS FROM CAR DEKHO.csv  \n",
            "  inflating: Car details v3.csv      \n",
            "  inflating: car data.csv            \n",
            "  inflating: car details v4.csv      \n"
          ]
        }
      ]
    },
    {
      "cell_type": "markdown",
      "metadata": {
        "id": "welXRfln8hzX"
      },
      "source": [
        "## 2.데이터 전처리"
      ]
    },
    {
      "cell_type": "markdown",
      "metadata": {
        "id": "9EALubDt9YNm"
      },
      "source": [
        "- data.shape, data.info(), data.describe() 등을 통하여 데이터의 형태를 확인하고 NA(None, Null, Nan) 값이 있는 열이 있는지 확인하세요."
      ]
    },
    {
      "cell_type": "code",
      "metadata": {
        "id": "qaphXay79n74",
        "colab": {
          "base_uri": "https://localhost:8080/",
          "height": 161
        },
        "outputId": "859e1514-4697-4c16-b06c-80499f422bec"
      },
      "source": [
        "import numpy as np\n",
        "import pandas as pd\n",
        "import seaborn as sns\n",
        "import matplotlib.pyplot as plt\n",
        "%matplotlib inline\n",
        "\n",
        "car_df = pd.read_csv('Car details v3.csv')\n",
        "print(car_df.shape)\n",
        "car_df.head(3)"
      ],
      "execution_count": null,
      "outputs": [
        {
          "output_type": "stream",
          "name": "stdout",
          "text": [
            "(8128, 13)\n"
          ]
        },
        {
          "output_type": "execute_result",
          "data": {
            "text/plain": [
              "                           name  year  selling_price  km_driven    fuel  \\\n",
              "0        Maruti Swift Dzire VDI  2014         450000     145500  Diesel   \n",
              "1  Skoda Rapid 1.5 TDI Ambition  2014         370000     120000  Diesel   \n",
              "2      Honda City 2017-2020 EXi  2006         158000     140000  Petrol   \n",
              "\n",
              "  seller_type transmission         owner     mileage   engine   max_power  \\\n",
              "0  Individual       Manual   First Owner   23.4 kmpl  1248 CC      74 bhp   \n",
              "1  Individual       Manual  Second Owner  21.14 kmpl  1498 CC  103.52 bhp   \n",
              "2  Individual       Manual   Third Owner   17.7 kmpl  1497 CC      78 bhp   \n",
              "\n",
              "                  torque  seats  \n",
              "0         190Nm@ 2000rpm    5.0  \n",
              "1    250Nm@ 1500-2500rpm    5.0  \n",
              "2  12.7@ 2,700(kgm@ rpm)    5.0  "
            ],
            "text/html": [
              "\n",
              "  <div id=\"df-72842401-4fa1-4892-a07f-2981090a8e77\">\n",
              "    <div class=\"colab-df-container\">\n",
              "      <div>\n",
              "<style scoped>\n",
              "    .dataframe tbody tr th:only-of-type {\n",
              "        vertical-align: middle;\n",
              "    }\n",
              "\n",
              "    .dataframe tbody tr th {\n",
              "        vertical-align: top;\n",
              "    }\n",
              "\n",
              "    .dataframe thead th {\n",
              "        text-align: right;\n",
              "    }\n",
              "</style>\n",
              "<table border=\"1\" class=\"dataframe\">\n",
              "  <thead>\n",
              "    <tr style=\"text-align: right;\">\n",
              "      <th></th>\n",
              "      <th>name</th>\n",
              "      <th>year</th>\n",
              "      <th>selling_price</th>\n",
              "      <th>km_driven</th>\n",
              "      <th>fuel</th>\n",
              "      <th>seller_type</th>\n",
              "      <th>transmission</th>\n",
              "      <th>owner</th>\n",
              "      <th>mileage</th>\n",
              "      <th>engine</th>\n",
              "      <th>max_power</th>\n",
              "      <th>torque</th>\n",
              "      <th>seats</th>\n",
              "    </tr>\n",
              "  </thead>\n",
              "  <tbody>\n",
              "    <tr>\n",
              "      <th>0</th>\n",
              "      <td>Maruti Swift Dzire VDI</td>\n",
              "      <td>2014</td>\n",
              "      <td>450000</td>\n",
              "      <td>145500</td>\n",
              "      <td>Diesel</td>\n",
              "      <td>Individual</td>\n",
              "      <td>Manual</td>\n",
              "      <td>First Owner</td>\n",
              "      <td>23.4 kmpl</td>\n",
              "      <td>1248 CC</td>\n",
              "      <td>74 bhp</td>\n",
              "      <td>190Nm@ 2000rpm</td>\n",
              "      <td>5.0</td>\n",
              "    </tr>\n",
              "    <tr>\n",
              "      <th>1</th>\n",
              "      <td>Skoda Rapid 1.5 TDI Ambition</td>\n",
              "      <td>2014</td>\n",
              "      <td>370000</td>\n",
              "      <td>120000</td>\n",
              "      <td>Diesel</td>\n",
              "      <td>Individual</td>\n",
              "      <td>Manual</td>\n",
              "      <td>Second Owner</td>\n",
              "      <td>21.14 kmpl</td>\n",
              "      <td>1498 CC</td>\n",
              "      <td>103.52 bhp</td>\n",
              "      <td>250Nm@ 1500-2500rpm</td>\n",
              "      <td>5.0</td>\n",
              "    </tr>\n",
              "    <tr>\n",
              "      <th>2</th>\n",
              "      <td>Honda City 2017-2020 EXi</td>\n",
              "      <td>2006</td>\n",
              "      <td>158000</td>\n",
              "      <td>140000</td>\n",
              "      <td>Petrol</td>\n",
              "      <td>Individual</td>\n",
              "      <td>Manual</td>\n",
              "      <td>Third Owner</td>\n",
              "      <td>17.7 kmpl</td>\n",
              "      <td>1497 CC</td>\n",
              "      <td>78 bhp</td>\n",
              "      <td>12.7@ 2,700(kgm@ rpm)</td>\n",
              "      <td>5.0</td>\n",
              "    </tr>\n",
              "  </tbody>\n",
              "</table>\n",
              "</div>\n",
              "      <button class=\"colab-df-convert\" onclick=\"convertToInteractive('df-72842401-4fa1-4892-a07f-2981090a8e77')\"\n",
              "              title=\"Convert this dataframe to an interactive table.\"\n",
              "              style=\"display:none;\">\n",
              "        \n",
              "  <svg xmlns=\"http://www.w3.org/2000/svg\" height=\"24px\"viewBox=\"0 0 24 24\"\n",
              "       width=\"24px\">\n",
              "    <path d=\"M0 0h24v24H0V0z\" fill=\"none\"/>\n",
              "    <path d=\"M18.56 5.44l.94 2.06.94-2.06 2.06-.94-2.06-.94-.94-2.06-.94 2.06-2.06.94zm-11 1L8.5 8.5l.94-2.06 2.06-.94-2.06-.94L8.5 2.5l-.94 2.06-2.06.94zm10 10l.94 2.06.94-2.06 2.06-.94-2.06-.94-.94-2.06-.94 2.06-2.06.94z\"/><path d=\"M17.41 7.96l-1.37-1.37c-.4-.4-.92-.59-1.43-.59-.52 0-1.04.2-1.43.59L10.3 9.45l-7.72 7.72c-.78.78-.78 2.05 0 2.83L4 21.41c.39.39.9.59 1.41.59.51 0 1.02-.2 1.41-.59l7.78-7.78 2.81-2.81c.8-.78.8-2.07 0-2.86zM5.41 20L4 18.59l7.72-7.72 1.47 1.35L5.41 20z\"/>\n",
              "  </svg>\n",
              "      </button>\n",
              "      \n",
              "  <style>\n",
              "    .colab-df-container {\n",
              "      display:flex;\n",
              "      flex-wrap:wrap;\n",
              "      gap: 12px;\n",
              "    }\n",
              "\n",
              "    .colab-df-convert {\n",
              "      background-color: #E8F0FE;\n",
              "      border: none;\n",
              "      border-radius: 50%;\n",
              "      cursor: pointer;\n",
              "      display: none;\n",
              "      fill: #1967D2;\n",
              "      height: 32px;\n",
              "      padding: 0 0 0 0;\n",
              "      width: 32px;\n",
              "    }\n",
              "\n",
              "    .colab-df-convert:hover {\n",
              "      background-color: #E2EBFA;\n",
              "      box-shadow: 0px 1px 2px rgba(60, 64, 67, 0.3), 0px 1px 3px 1px rgba(60, 64, 67, 0.15);\n",
              "      fill: #174EA6;\n",
              "    }\n",
              "\n",
              "    [theme=dark] .colab-df-convert {\n",
              "      background-color: #3B4455;\n",
              "      fill: #D2E3FC;\n",
              "    }\n",
              "\n",
              "    [theme=dark] .colab-df-convert:hover {\n",
              "      background-color: #434B5C;\n",
              "      box-shadow: 0px 1px 3px 1px rgba(0, 0, 0, 0.15);\n",
              "      filter: drop-shadow(0px 1px 2px rgba(0, 0, 0, 0.3));\n",
              "      fill: #FFFFFF;\n",
              "    }\n",
              "  </style>\n",
              "\n",
              "      <script>\n",
              "        const buttonEl =\n",
              "          document.querySelector('#df-72842401-4fa1-4892-a07f-2981090a8e77 button.colab-df-convert');\n",
              "        buttonEl.style.display =\n",
              "          google.colab.kernel.accessAllowed ? 'block' : 'none';\n",
              "\n",
              "        async function convertToInteractive(key) {\n",
              "          const element = document.querySelector('#df-72842401-4fa1-4892-a07f-2981090a8e77');\n",
              "          const dataTable =\n",
              "            await google.colab.kernel.invokeFunction('convertToInteractive',\n",
              "                                                     [key], {});\n",
              "          if (!dataTable) return;\n",
              "\n",
              "          const docLinkHtml = 'Like what you see? Visit the ' +\n",
              "            '<a target=\"_blank\" href=https://colab.research.google.com/notebooks/data_table.ipynb>data table notebook</a>'\n",
              "            + ' to learn more about interactive tables.';\n",
              "          element.innerHTML = '';\n",
              "          dataTable['output_type'] = 'display_data';\n",
              "          await google.colab.output.renderOutput(dataTable, element);\n",
              "          const docLink = document.createElement('div');\n",
              "          docLink.innerHTML = docLinkHtml;\n",
              "          element.appendChild(docLink);\n",
              "        }\n",
              "      </script>\n",
              "    </div>\n",
              "  </div>\n",
              "  "
            ]
          },
          "metadata": {},
          "execution_count": 52
        }
      ]
    },
    {
      "cell_type": "code",
      "source": [
        "car_df.isna().sum()"
      ],
      "metadata": {
        "colab": {
          "base_uri": "https://localhost:8080/"
        },
        "id": "Z1ZfQ00XIBdE",
        "outputId": "85be47dd-ddaa-41db-b30b-522d66134580"
      },
      "execution_count": null,
      "outputs": [
        {
          "output_type": "execute_result",
          "data": {
            "text/plain": [
              "name               0\n",
              "year               0\n",
              "selling_price      0\n",
              "km_driven          0\n",
              "fuel               0\n",
              "seller_type        0\n",
              "transmission       0\n",
              "owner              0\n",
              "mileage          221\n",
              "engine           221\n",
              "max_power        215\n",
              "torque           222\n",
              "seats            221\n",
              "dtype: int64"
            ]
          },
          "metadata": {},
          "execution_count": 53
        }
      ]
    },
    {
      "cell_type": "markdown",
      "metadata": {
        "id": "cvz5hT6Y-3JP"
      },
      "source": [
        "- value_counts()를 이용해 각 Object 타입 변수들이 가진 데이터들의 갯수를 확인하세요."
      ]
    },
    {
      "cell_type": "code",
      "metadata": {
        "id": "R5r-LCcw-29s",
        "colab": {
          "base_uri": "https://localhost:8080/"
        },
        "outputId": "4cd01816-7223-4f0a-f6ea-c2cec4548fa0"
      },
      "source": [
        "car_df.info()"
      ],
      "execution_count": null,
      "outputs": [
        {
          "output_type": "stream",
          "name": "stdout",
          "text": [
            "<class 'pandas.core.frame.DataFrame'>\n",
            "RangeIndex: 8128 entries, 0 to 8127\n",
            "Data columns (total 13 columns):\n",
            " #   Column         Non-Null Count  Dtype  \n",
            "---  ------         --------------  -----  \n",
            " 0   name           8128 non-null   object \n",
            " 1   year           8128 non-null   int64  \n",
            " 2   selling_price  8128 non-null   int64  \n",
            " 3   km_driven      8128 non-null   int64  \n",
            " 4   fuel           8128 non-null   object \n",
            " 5   seller_type    8128 non-null   object \n",
            " 6   transmission   8128 non-null   object \n",
            " 7   owner          8128 non-null   object \n",
            " 8   mileage        7907 non-null   object \n",
            " 9   engine         7907 non-null   object \n",
            " 10  max_power      7913 non-null   object \n",
            " 11  torque         7906 non-null   object \n",
            " 12  seats          7907 non-null   float64\n",
            "dtypes: float64(1), int64(3), object(9)\n",
            "memory usage: 825.6+ KB\n"
          ]
        }
      ]
    },
    {
      "cell_type": "code",
      "source": [
        "car_df['fuel'].value_counts()"
      ],
      "metadata": {
        "colab": {
          "base_uri": "https://localhost:8080/"
        },
        "id": "7VXdGxkHeLUc",
        "outputId": "0b8eef33-8b96-4841-ab59-969f4dcc8a17"
      },
      "execution_count": null,
      "outputs": [
        {
          "output_type": "execute_result",
          "data": {
            "text/plain": [
              "Diesel    4402\n",
              "Petrol    3631\n",
              "CNG         57\n",
              "LPG         38\n",
              "Name: fuel, dtype: int64"
            ]
          },
          "metadata": {},
          "execution_count": 55
        }
      ]
    },
    {
      "cell_type": "code",
      "source": [
        "car_df['seller_type'].value_counts()"
      ],
      "metadata": {
        "colab": {
          "base_uri": "https://localhost:8080/"
        },
        "id": "OtGc8QKTfYQT",
        "outputId": "6e8fc9b9-8485-45cf-ee61-b492f1ddac47"
      },
      "execution_count": null,
      "outputs": [
        {
          "output_type": "execute_result",
          "data": {
            "text/plain": [
              "Individual          6766\n",
              "Dealer              1126\n",
              "Trustmark Dealer     236\n",
              "Name: seller_type, dtype: int64"
            ]
          },
          "metadata": {},
          "execution_count": 56
        }
      ]
    },
    {
      "cell_type": "code",
      "source": [
        "car_df['transmission'].value_counts()"
      ],
      "metadata": {
        "colab": {
          "base_uri": "https://localhost:8080/"
        },
        "id": "72i94lejfmSo",
        "outputId": "df40e374-7dad-44f1-84ec-3d3730892519"
      },
      "execution_count": null,
      "outputs": [
        {
          "output_type": "execute_result",
          "data": {
            "text/plain": [
              "Manual       7078\n",
              "Automatic    1050\n",
              "Name: transmission, dtype: int64"
            ]
          },
          "metadata": {},
          "execution_count": 57
        }
      ]
    },
    {
      "cell_type": "code",
      "source": [
        "car_df['owner'].value_counts()"
      ],
      "metadata": {
        "colab": {
          "base_uri": "https://localhost:8080/"
        },
        "id": "GpXlj0Nhfw4b",
        "outputId": "371bc7c4-36e8-40b0-d9c7-1e16f07afd86"
      },
      "execution_count": null,
      "outputs": [
        {
          "output_type": "execute_result",
          "data": {
            "text/plain": [
              "First Owner             5289\n",
              "Second Owner            2105\n",
              "Third Owner              555\n",
              "Fourth & Above Owner     174\n",
              "Test Drive Car             5\n",
              "Name: owner, dtype: int64"
            ]
          },
          "metadata": {},
          "execution_count": 58
        }
      ]
    },
    {
      "cell_type": "code",
      "source": [
        "car_df['mileage'].value_counts()"
      ],
      "metadata": {
        "colab": {
          "base_uri": "https://localhost:8080/"
        },
        "id": "nE7fld9Bf3SP",
        "outputId": "437cc056-b225-4ae3-af2c-ff47a58e3bd7"
      },
      "execution_count": null,
      "outputs": [
        {
          "output_type": "execute_result",
          "data": {
            "text/plain": [
              "18.9 kmpl      225\n",
              "19.7 kmpl      173\n",
              "18.6 kmpl      164\n",
              "21.1 kmpl      157\n",
              "17.0 kmpl      133\n",
              "              ... \n",
              "16.34 kmpl       1\n",
              "19.69 kmpl       1\n",
              "20.88 km/kg      1\n",
              "17.8 km/kg       1\n",
              "16.51 kmpl       1\n",
              "Name: mileage, Length: 393, dtype: int64"
            ]
          },
          "metadata": {},
          "execution_count": 59
        }
      ]
    },
    {
      "cell_type": "code",
      "source": [
        "car_df['engine'].value_counts()"
      ],
      "metadata": {
        "colab": {
          "base_uri": "https://localhost:8080/"
        },
        "id": "qKDEdZILgBcB",
        "outputId": "4924af08-d70f-417e-efff-e7baafc2c341"
      },
      "execution_count": null,
      "outputs": [
        {
          "output_type": "execute_result",
          "data": {
            "text/plain": [
              "1248 CC    1017\n",
              "1197 CC     832\n",
              "998 CC      453\n",
              "796 CC      444\n",
              "2179 CC     389\n",
              "           ... \n",
              "2835 CC       1\n",
              "1489 CC       1\n",
              "1422 CC       1\n",
              "2496 CC       1\n",
              "1950 CC       1\n",
              "Name: engine, Length: 121, dtype: int64"
            ]
          },
          "metadata": {},
          "execution_count": 60
        }
      ]
    },
    {
      "cell_type": "code",
      "source": [
        "car_df['max_power'].value_counts()"
      ],
      "metadata": {
        "colab": {
          "base_uri": "https://localhost:8080/"
        },
        "id": "WsolAquFgHru",
        "outputId": "2f5fa0ce-e4d7-481f-afca-4120075af396"
      },
      "execution_count": null,
      "outputs": [
        {
          "output_type": "execute_result",
          "data": {
            "text/plain": [
              "74 bhp       377\n",
              "81.80 bhp    220\n",
              "88.5 bhp     204\n",
              "67 bhp       165\n",
              "46.3 bhp     162\n",
              "            ... \n",
              "203.2 bhp      1\n",
              "175 bhp        1\n",
              "57 bhp         1\n",
              "80.84 bhp      1\n",
              "135.1 bhp      1\n",
              "Name: max_power, Length: 322, dtype: int64"
            ]
          },
          "metadata": {},
          "execution_count": 61
        }
      ]
    },
    {
      "cell_type": "code",
      "source": [
        "car_df['torque'].value_counts()"
      ],
      "metadata": {
        "colab": {
          "base_uri": "https://localhost:8080/"
        },
        "id": "yJkJ7Hq9gPsy",
        "outputId": "ee8debd9-16ed-4c7d-fea1-6a30a81bcb4a"
      },
      "execution_count": null,
      "outputs": [
        {
          "output_type": "execute_result",
          "data": {
            "text/plain": [
              "190Nm@ 2000rpm             530\n",
              "200Nm@ 1750rpm             445\n",
              "90Nm@ 3500rpm              405\n",
              "113Nm@ 4200rpm             223\n",
              "114Nm@ 4000rpm             171\n",
              "                          ... \n",
              "128Nm@ 3100rpm               1\n",
              "72.9Nm@ 2250rpm              1\n",
              "155 Nm at 1600-2800 rpm      1\n",
              "510Nm@ 1600-2800rpm          1\n",
              "96  Nm at 3000  rpm          1\n",
              "Name: torque, Length: 441, dtype: int64"
            ]
          },
          "metadata": {},
          "execution_count": 62
        }
      ]
    },
    {
      "cell_type": "markdown",
      "metadata": {
        "id": "CJLUG_vJRClJ"
      },
      "source": [
        "- 'Car_Name'을 제외한 Object타입 변수의 범주형 값에 원핫인코딩(One-Hot Encoding) 변환을 적용하고, 변환된 DataFrame을 출력하세요."
      ]
    },
    {
      "cell_type": "code",
      "metadata": {
        "id": "EfgPSefeRaQ5",
        "colab": {
          "base_uri": "https://localhost:8080/",
          "height": 254
        },
        "outputId": "13f28587-e251-41fa-9d4b-4433195bae41"
      },
      "source": [
        "X_features = car_df.drop(['name'],axis=1,inplace = False)\n",
        "X_features_ohe = pd.get_dummies(X_features, columns=X_features.columns)\n",
        "X_features_ohe.head(3)"
      ],
      "execution_count": null,
      "outputs": [
        {
          "output_type": "execute_result",
          "data": {
            "text/plain": [
              "   year_1983  year_1991  year_1994  year_1995  year_1996  year_1997  \\\n",
              "0          0          0          0          0          0          0   \n",
              "1          0          0          0          0          0          0   \n",
              "2          0          0          0          0          0          0   \n",
              "\n",
              "   year_1998  year_1999  year_2000  year_2001  ...  torque_99Nm@ 4500rpm  \\\n",
              "0          0          0          0          0  ...                     0   \n",
              "1          0          0          0          0  ...                     0   \n",
              "2          0          0          0          0  ...                     0   \n",
              "\n",
              "   seats_2.0  seats_4.0  seats_5.0  seats_6.0  seats_7.0  seats_8.0  \\\n",
              "0          0          0          1          0          0          0   \n",
              "1          0          0          1          0          0          0   \n",
              "2          0          0          1          0          0          0   \n",
              "\n",
              "   seats_9.0  seats_10.0  seats_14.0  \n",
              "0          0           0           0  \n",
              "1          0           0           0  \n",
              "2          0           0           0  \n",
              "\n",
              "[3 rows x 2927 columns]"
            ],
            "text/html": [
              "\n",
              "  <div id=\"df-431ea3c8-f47c-49e0-9c6c-dc655349d806\">\n",
              "    <div class=\"colab-df-container\">\n",
              "      <div>\n",
              "<style scoped>\n",
              "    .dataframe tbody tr th:only-of-type {\n",
              "        vertical-align: middle;\n",
              "    }\n",
              "\n",
              "    .dataframe tbody tr th {\n",
              "        vertical-align: top;\n",
              "    }\n",
              "\n",
              "    .dataframe thead th {\n",
              "        text-align: right;\n",
              "    }\n",
              "</style>\n",
              "<table border=\"1\" class=\"dataframe\">\n",
              "  <thead>\n",
              "    <tr style=\"text-align: right;\">\n",
              "      <th></th>\n",
              "      <th>year_1983</th>\n",
              "      <th>year_1991</th>\n",
              "      <th>year_1994</th>\n",
              "      <th>year_1995</th>\n",
              "      <th>year_1996</th>\n",
              "      <th>year_1997</th>\n",
              "      <th>year_1998</th>\n",
              "      <th>year_1999</th>\n",
              "      <th>year_2000</th>\n",
              "      <th>year_2001</th>\n",
              "      <th>...</th>\n",
              "      <th>torque_99Nm@ 4500rpm</th>\n",
              "      <th>seats_2.0</th>\n",
              "      <th>seats_4.0</th>\n",
              "      <th>seats_5.0</th>\n",
              "      <th>seats_6.0</th>\n",
              "      <th>seats_7.0</th>\n",
              "      <th>seats_8.0</th>\n",
              "      <th>seats_9.0</th>\n",
              "      <th>seats_10.0</th>\n",
              "      <th>seats_14.0</th>\n",
              "    </tr>\n",
              "  </thead>\n",
              "  <tbody>\n",
              "    <tr>\n",
              "      <th>0</th>\n",
              "      <td>0</td>\n",
              "      <td>0</td>\n",
              "      <td>0</td>\n",
              "      <td>0</td>\n",
              "      <td>0</td>\n",
              "      <td>0</td>\n",
              "      <td>0</td>\n",
              "      <td>0</td>\n",
              "      <td>0</td>\n",
              "      <td>0</td>\n",
              "      <td>...</td>\n",
              "      <td>0</td>\n",
              "      <td>0</td>\n",
              "      <td>0</td>\n",
              "      <td>1</td>\n",
              "      <td>0</td>\n",
              "      <td>0</td>\n",
              "      <td>0</td>\n",
              "      <td>0</td>\n",
              "      <td>0</td>\n",
              "      <td>0</td>\n",
              "    </tr>\n",
              "    <tr>\n",
              "      <th>1</th>\n",
              "      <td>0</td>\n",
              "      <td>0</td>\n",
              "      <td>0</td>\n",
              "      <td>0</td>\n",
              "      <td>0</td>\n",
              "      <td>0</td>\n",
              "      <td>0</td>\n",
              "      <td>0</td>\n",
              "      <td>0</td>\n",
              "      <td>0</td>\n",
              "      <td>...</td>\n",
              "      <td>0</td>\n",
              "      <td>0</td>\n",
              "      <td>0</td>\n",
              "      <td>1</td>\n",
              "      <td>0</td>\n",
              "      <td>0</td>\n",
              "      <td>0</td>\n",
              "      <td>0</td>\n",
              "      <td>0</td>\n",
              "      <td>0</td>\n",
              "    </tr>\n",
              "    <tr>\n",
              "      <th>2</th>\n",
              "      <td>0</td>\n",
              "      <td>0</td>\n",
              "      <td>0</td>\n",
              "      <td>0</td>\n",
              "      <td>0</td>\n",
              "      <td>0</td>\n",
              "      <td>0</td>\n",
              "      <td>0</td>\n",
              "      <td>0</td>\n",
              "      <td>0</td>\n",
              "      <td>...</td>\n",
              "      <td>0</td>\n",
              "      <td>0</td>\n",
              "      <td>0</td>\n",
              "      <td>1</td>\n",
              "      <td>0</td>\n",
              "      <td>0</td>\n",
              "      <td>0</td>\n",
              "      <td>0</td>\n",
              "      <td>0</td>\n",
              "      <td>0</td>\n",
              "    </tr>\n",
              "  </tbody>\n",
              "</table>\n",
              "<p>3 rows × 2927 columns</p>\n",
              "</div>\n",
              "      <button class=\"colab-df-convert\" onclick=\"convertToInteractive('df-431ea3c8-f47c-49e0-9c6c-dc655349d806')\"\n",
              "              title=\"Convert this dataframe to an interactive table.\"\n",
              "              style=\"display:none;\">\n",
              "        \n",
              "  <svg xmlns=\"http://www.w3.org/2000/svg\" height=\"24px\"viewBox=\"0 0 24 24\"\n",
              "       width=\"24px\">\n",
              "    <path d=\"M0 0h24v24H0V0z\" fill=\"none\"/>\n",
              "    <path d=\"M18.56 5.44l.94 2.06.94-2.06 2.06-.94-2.06-.94-.94-2.06-.94 2.06-2.06.94zm-11 1L8.5 8.5l.94-2.06 2.06-.94-2.06-.94L8.5 2.5l-.94 2.06-2.06.94zm10 10l.94 2.06.94-2.06 2.06-.94-2.06-.94-.94-2.06-.94 2.06-2.06.94z\"/><path d=\"M17.41 7.96l-1.37-1.37c-.4-.4-.92-.59-1.43-.59-.52 0-1.04.2-1.43.59L10.3 9.45l-7.72 7.72c-.78.78-.78 2.05 0 2.83L4 21.41c.39.39.9.59 1.41.59.51 0 1.02-.2 1.41-.59l7.78-7.78 2.81-2.81c.8-.78.8-2.07 0-2.86zM5.41 20L4 18.59l7.72-7.72 1.47 1.35L5.41 20z\"/>\n",
              "  </svg>\n",
              "      </button>\n",
              "      \n",
              "  <style>\n",
              "    .colab-df-container {\n",
              "      display:flex;\n",
              "      flex-wrap:wrap;\n",
              "      gap: 12px;\n",
              "    }\n",
              "\n",
              "    .colab-df-convert {\n",
              "      background-color: #E8F0FE;\n",
              "      border: none;\n",
              "      border-radius: 50%;\n",
              "      cursor: pointer;\n",
              "      display: none;\n",
              "      fill: #1967D2;\n",
              "      height: 32px;\n",
              "      padding: 0 0 0 0;\n",
              "      width: 32px;\n",
              "    }\n",
              "\n",
              "    .colab-df-convert:hover {\n",
              "      background-color: #E2EBFA;\n",
              "      box-shadow: 0px 1px 2px rgba(60, 64, 67, 0.3), 0px 1px 3px 1px rgba(60, 64, 67, 0.15);\n",
              "      fill: #174EA6;\n",
              "    }\n",
              "\n",
              "    [theme=dark] .colab-df-convert {\n",
              "      background-color: #3B4455;\n",
              "      fill: #D2E3FC;\n",
              "    }\n",
              "\n",
              "    [theme=dark] .colab-df-convert:hover {\n",
              "      background-color: #434B5C;\n",
              "      box-shadow: 0px 1px 3px 1px rgba(0, 0, 0, 0.15);\n",
              "      filter: drop-shadow(0px 1px 2px rgba(0, 0, 0, 0.3));\n",
              "      fill: #FFFFFF;\n",
              "    }\n",
              "  </style>\n",
              "\n",
              "      <script>\n",
              "        const buttonEl =\n",
              "          document.querySelector('#df-431ea3c8-f47c-49e0-9c6c-dc655349d806 button.colab-df-convert');\n",
              "        buttonEl.style.display =\n",
              "          google.colab.kernel.accessAllowed ? 'block' : 'none';\n",
              "\n",
              "        async function convertToInteractive(key) {\n",
              "          const element = document.querySelector('#df-431ea3c8-f47c-49e0-9c6c-dc655349d806');\n",
              "          const dataTable =\n",
              "            await google.colab.kernel.invokeFunction('convertToInteractive',\n",
              "                                                     [key], {});\n",
              "          if (!dataTable) return;\n",
              "\n",
              "          const docLinkHtml = 'Like what you see? Visit the ' +\n",
              "            '<a target=\"_blank\" href=https://colab.research.google.com/notebooks/data_table.ipynb>data table notebook</a>'\n",
              "            + ' to learn more about interactive tables.';\n",
              "          element.innerHTML = '';\n",
              "          dataTable['output_type'] = 'display_data';\n",
              "          await google.colab.output.renderOutput(dataTable, element);\n",
              "          const docLink = document.createElement('div');\n",
              "          docLink.innerHTML = docLinkHtml;\n",
              "          element.appendChild(docLink);\n",
              "        }\n",
              "      </script>\n",
              "    </div>\n",
              "  </div>\n",
              "  "
            ]
          },
          "metadata": {},
          "execution_count": 66
        }
      ]
    },
    {
      "cell_type": "markdown",
      "metadata": {
        "id": "L_DrbZA0Ui9W"
      },
      "source": [
        "- 'Car_Name'을 제거하세요.\n"
      ]
    },
    {
      "cell_type": "code",
      "metadata": {
        "id": "BeOjjicUUnsh"
      },
      "source": [
        "car_df.drop(['name'],axis=1,inplace = True)"
      ],
      "execution_count": null,
      "outputs": []
    },
    {
      "cell_type": "markdown",
      "metadata": {
        "id": "beOzHxWm-JAk"
      },
      "source": [
        "- 머신러닝 학습을 위해 피처 데이터 세트 x, 레이블 데이터 세트 y를 추출하세요.\n",
        "중고차의 판매가격을 예측하는 것이 목적이므로 'Selling_Price' 컬럼을 y에 대입합니다."
      ]
    },
    {
      "cell_type": "code",
      "metadata": {
        "id": "HIOl26KQ_ERl"
      },
      "source": [
        "from sklearn.metrics import mean_squared_error, mean_absolute_error\n",
        "from sklearn.model_selection import train_test_split\n",
        "from sklearn.linear_model import LinearRegression\n",
        "\n",
        "y_target = car_df['selling_price']"
      ],
      "execution_count": null,
      "outputs": []
    },
    {
      "cell_type": "markdown",
      "metadata": {
        "id": "v8D9tjVP_iwX"
      },
      "source": [
        "- train set과 test set을 적절한 비율로 나누세요."
      ]
    },
    {
      "cell_type": "code",
      "metadata": {
        "id": "hTAuW2wI_pkg"
      },
      "source": [
        "X_train, X_test, y_train, y_test = train_test_split(X_features_ohe, y_target, test_size=0.3, random_state=0)"
      ],
      "execution_count": null,
      "outputs": []
    },
    {
      "cell_type": "markdown",
      "metadata": {
        "id": "vpLPeOpE_Nb_"
      },
      "source": [
        "## 3.모델 학습\n",
        "- LinearRegression 객체를 생성하고, 모델 학습을 수행하세요."
      ]
    },
    {
      "cell_type": "code",
      "metadata": {
        "id": "CLjvwqy3_egm"
      },
      "source": [
        "lr_reg = LinearRegression()\n",
        "lr_reg.fit(X_train, y_train)\n",
        "pred = lr_reg.predict(X_test)"
      ],
      "execution_count": null,
      "outputs": []
    },
    {
      "cell_type": "markdown",
      "metadata": {
        "id": "1QLuEKyt_erw"
      },
      "source": [
        "## 4.모델 예측 및 평가\n",
        "- test set을 모델에 주입하여 예측 정확도를 확인하세요."
      ]
    },
    {
      "cell_type": "code",
      "metadata": {
        "id": "hWJTeh4a_-qD",
        "colab": {
          "base_uri": "https://localhost:8080/"
        },
        "outputId": "5e8d6de0-7c90-4ca5-b274-f9cd757f920c"
      },
      "source": [
        "def model_evaluate(y, pred):\n",
        "  MSE_val = mean_squared_error(y, pred)\n",
        "  RMSE_val = np.sqrt(MSE_val)\n",
        "  MAE_val = mean_absolute_error(y,pred)\n",
        "\n",
        "  print('MSE: {0:.3f}, RMSE: {1:.3F}, MAE: {2:.3F}'.format(MSE_val, RMSE_val, MAE_val))\n",
        "\n",
        "model_evaluate(y_test, pred)"
      ],
      "execution_count": null,
      "outputs": [
        {
          "output_type": "stream",
          "name": "stdout",
          "text": [
            "MSE: 80239206772.950, RMSE: 283265.259, MAE: 42310.461\n"
          ]
        }
      ]
    },
    {
      "cell_type": "markdown",
      "metadata": {
        "id": "uUtLWvdGfozs"
      },
      "source": [
        "- 학습된 모델의 회귀 계수를 확인하세요."
      ]
    },
    {
      "cell_type": "code",
      "metadata": {
        "id": "UvQWmP0CfoQW",
        "colab": {
          "base_uri": "https://localhost:8080/",
          "height": 465
        },
        "outputId": "96daa2b5-9b01-4d69-d0f9-292eb7783f69"
      },
      "source": [
        "coef = pd.Series(lr_reg.coef_, index=X_features_ohe.columns)\n",
        "coef_sort = coef.sort_values(ascending=False)[:10]\n",
        "sns.barplot(x=coef_sort.values, y=coef_sort.index)"
      ],
      "execution_count": null,
      "outputs": [
        {
          "output_type": "execute_result",
          "data": {
            "text/plain": [
              "<Axes: >"
            ]
          },
          "metadata": {},
          "execution_count": 72
        },
        {
          "output_type": "display_data",
          "data": {
            "text/plain": [
              "<Figure size 640x480 with 1 Axes>"
            ],
            "image/png": "[encoded data removed]"
          },
          "metadata": {}
        }
      ]
    },
    {
      "cell_type": "markdown",
      "source": [
        "## 5.모델 개선\n",
        "- 위 모델의 문제점은? : 판매가격에 많이 의존함...\n",
        "- 데이터 전처리, XGBoost 등 2가지 이상을 시도하고 타이틀을 추가하여 써주세요."
      ],
      "metadata": {
        "id": "f_0EZ9gUYY7l"
      }
    },
    {
      "cell_type": "markdown",
      "source": [
        "#### 5.1(데이터 전처리)\n"
      ],
      "metadata": {
        "id": "aPBI1ORpYhKq"
      }
    },
    {
      "cell_type": "code",
      "source": [
        "X_features = car_df.drop(['selling_price'],axis=1,inplace = False)\n",
        "X_features_ohe = pd.get_dummies(X_features, columns=X_features.columns)\n",
        "X_features_ohe.head(3)"
      ],
      "metadata": {
        "colab": {
          "base_uri": "https://localhost:8080/",
          "height": 254
        },
        "id": "XpvhUkQrSq0u",
        "outputId": "e667d3c8-2492-42bd-8013-39f560d9f439"
      },
      "execution_count": null,
      "outputs": [
        {
          "output_type": "execute_result",
          "data": {
            "text/plain": [
              "   year_1983  year_1991  year_1994  year_1995  year_1996  year_1997  \\\n",
              "0          0          0          0          0          0          0   \n",
              "1          0          0          0          0          0          0   \n",
              "2          0          0          0          0          0          0   \n",
              "\n",
              "   year_1998  year_1999  year_2000  year_2001  ...  torque_99Nm@ 4500rpm  \\\n",
              "0          0          0          0          0  ...                     0   \n",
              "1          0          0          0          0  ...                     0   \n",
              "2          0          0          0          0  ...                     0   \n",
              "\n",
              "   seats_2.0  seats_4.0  seats_5.0  seats_6.0  seats_7.0  seats_8.0  \\\n",
              "0          0          0          1          0          0          0   \n",
              "1          0          0          1          0          0          0   \n",
              "2          0          0          1          0          0          0   \n",
              "\n",
              "   seats_9.0  seats_10.0  seats_14.0  \n",
              "0          0           0           0  \n",
              "1          0           0           0  \n",
              "2          0           0           0  \n",
              "\n",
              "[3 rows x 2250 columns]"
            ],
            "text/html": [
              "\n",
              "  <div id=\"df-51fc0830-518b-4664-9913-85f545f2c223\">\n",
              "    <div class=\"colab-df-container\">\n",
              "      <div>\n",
              "<style scoped>\n",
              "    .dataframe tbody tr th:only-of-type {\n",
              "        vertical-align: middle;\n",
              "    }\n",
              "\n",
              "    .dataframe tbody tr th {\n",
              "        vertical-align: top;\n",
              "    }\n",
              "\n",
              "    .dataframe thead th {\n",
              "        text-align: right;\n",
              "    }\n",
              "</style>\n",
              "<table border=\"1\" class=\"dataframe\">\n",
              "  <thead>\n",
              "    <tr style=\"text-align: right;\">\n",
              "      <th></th>\n",
              "      <th>year_1983</th>\n",
              "      <th>year_1991</th>\n",
              "      <th>year_1994</th>\n",
              "      <th>year_1995</th>\n",
              "      <th>year_1996</th>\n",
              "      <th>year_1997</th>\n",
              "      <th>year_1998</th>\n",
              "      <th>year_1999</th>\n",
              "      <th>year_2000</th>\n",
              "      <th>year_2001</th>\n",
              "      <th>...</th>\n",
              "      <th>torque_99Nm@ 4500rpm</th>\n",
              "      <th>seats_2.0</th>\n",
              "      <th>seats_4.0</th>\n",
              "      <th>seats_5.0</th>\n",
              "      <th>seats_6.0</th>\n",
              "      <th>seats_7.0</th>\n",
              "      <th>seats_8.0</th>\n",
              "      <th>seats_9.0</th>\n",
              "      <th>seats_10.0</th>\n",
              "      <th>seats_14.0</th>\n",
              "    </tr>\n",
              "  </thead>\n",
              "  <tbody>\n",
              "    <tr>\n",
              "      <th>0</th>\n",
              "      <td>0</td>\n",
              "      <td>0</td>\n",
              "      <td>0</td>\n",
              "      <td>0</td>\n",
              "      <td>0</td>\n",
              "      <td>0</td>\n",
              "      <td>0</td>\n",
              "      <td>0</td>\n",
              "      <td>0</td>\n",
              "      <td>0</td>\n",
              "      <td>...</td>\n",
              "      <td>0</td>\n",
              "      <td>0</td>\n",
              "      <td>0</td>\n",
              "      <td>1</td>\n",
              "      <td>0</td>\n",
              "      <td>0</td>\n",
              "      <td>0</td>\n",
              "      <td>0</td>\n",
              "      <td>0</td>\n",
              "      <td>0</td>\n",
              "    </tr>\n",
              "    <tr>\n",
              "      <th>1</th>\n",
              "      <td>0</td>\n",
              "      <td>0</td>\n",
              "      <td>0</td>\n",
              "      <td>0</td>\n",
              "      <td>0</td>\n",
              "      <td>0</td>\n",
              "      <td>0</td>\n",
              "      <td>0</td>\n",
              "      <td>0</td>\n",
              "      <td>0</td>\n",
              "      <td>...</td>\n",
              "      <td>0</td>\n",
              "      <td>0</td>\n",
              "      <td>0</td>\n",
              "      <td>1</td>\n",
              "      <td>0</td>\n",
              "      <td>0</td>\n",
              "      <td>0</td>\n",
              "      <td>0</td>\n",
              "      <td>0</td>\n",
              "      <td>0</td>\n",
              "    </tr>\n",
              "    <tr>\n",
              "      <th>2</th>\n",
              "      <td>0</td>\n",
              "      <td>0</td>\n",
              "      <td>0</td>\n",
              "      <td>0</td>\n",
              "      <td>0</td>\n",
              "      <td>0</td>\n",
              "      <td>0</td>\n",
              "      <td>0</td>\n",
              "      <td>0</td>\n",
              "      <td>0</td>\n",
              "      <td>...</td>\n",
              "      <td>0</td>\n",
              "      <td>0</td>\n",
              "      <td>0</td>\n",
              "      <td>1</td>\n",
              "      <td>0</td>\n",
              "      <td>0</td>\n",
              "      <td>0</td>\n",
              "      <td>0</td>\n",
              "      <td>0</td>\n",
              "      <td>0</td>\n",
              "    </tr>\n",
              "  </tbody>\n",
              "</table>\n",
              "<p>3 rows × 2250 columns</p>\n",
              "</div>\n",
              "      <button class=\"colab-df-convert\" onclick=\"convertToInteractive('df-51fc0830-518b-4664-9913-85f545f2c223')\"\n",
              "              title=\"Convert this dataframe to an interactive table.\"\n",
              "              style=\"display:none;\">\n",
              "        \n",
              "  <svg xmlns=\"http://www.w3.org/2000/svg\" height=\"24px\"viewBox=\"0 0 24 24\"\n",
              "       width=\"24px\">\n",
              "    <path d=\"M0 0h24v24H0V0z\" fill=\"none\"/>\n",
              "    <path d=\"M18.56 5.44l.94 2.06.94-2.06 2.06-.94-2.06-.94-.94-2.06-.94 2.06-2.06.94zm-11 1L8.5 8.5l.94-2.06 2.06-.94-2.06-.94L8.5 2.5l-.94 2.06-2.06.94zm10 10l.94 2.06.94-2.06 2.06-.94-2.06-.94-.94-2.06-.94 2.06-2.06.94z\"/><path d=\"M17.41 7.96l-1.37-1.37c-.4-.4-.92-.59-1.43-.59-.52 0-1.04.2-1.43.59L10.3 9.45l-7.72 7.72c-.78.78-.78 2.05 0 2.83L4 21.41c.39.39.9.59 1.41.59.51 0 1.02-.2 1.41-.59l7.78-7.78 2.81-2.81c.8-.78.8-2.07 0-2.86zM5.41 20L4 18.59l7.72-7.72 1.47 1.35L5.41 20z\"/>\n",
              "  </svg>\n",
              "      </button>\n",
              "      \n",
              "  <style>\n",
              "    .colab-df-container {\n",
              "      display:flex;\n",
              "      flex-wrap:wrap;\n",
              "      gap: 12px;\n",
              "    }\n",
              "\n",
              "    .colab-df-convert {\n",
              "      background-color: #E8F0FE;\n",
              "      border: none;\n",
              "      border-radius: 50%;\n",
              "      cursor: pointer;\n",
              "      display: none;\n",
              "      fill: #1967D2;\n",
              "      height: 32px;\n",
              "      padding: 0 0 0 0;\n",
              "      width: 32px;\n",
              "    }\n",
              "\n",
              "    .colab-df-convert:hover {\n",
              "      background-color: #E2EBFA;\n",
              "      box-shadow: 0px 1px 2px rgba(60, 64, 67, 0.3), 0px 1px 3px 1px rgba(60, 64, 67, 0.15);\n",
              "      fill: #174EA6;\n",
              "    }\n",
              "\n",
              "    [theme=dark] .colab-df-convert {\n",
              "      background-color: #3B4455;\n",
              "      fill: #D2E3FC;\n",
              "    }\n",
              "\n",
              "    [theme=dark] .colab-df-convert:hover {\n",
              "      background-color: #434B5C;\n",
              "      box-shadow: 0px 1px 3px 1px rgba(0, 0, 0, 0.15);\n",
              "      filter: drop-shadow(0px 1px 2px rgba(0, 0, 0, 0.3));\n",
              "      fill: #FFFFFF;\n",
              "    }\n",
              "  </style>\n",
              "\n",
              "      <script>\n",
              "        const buttonEl =\n",
              "          document.querySelector('#df-51fc0830-518b-4664-9913-85f545f2c223 button.colab-df-convert');\n",
              "        buttonEl.style.display =\n",
              "          google.colab.kernel.accessAllowed ? 'block' : 'none';\n",
              "\n",
              "        async function convertToInteractive(key) {\n",
              "          const element = document.querySelector('#df-51fc0830-518b-4664-9913-85f545f2c223');\n",
              "          const dataTable =\n",
              "            await google.colab.kernel.invokeFunction('convertToInteractive',\n",
              "                                                     [key], {});\n",
              "          if (!dataTable) return;\n",
              "\n",
              "          const docLinkHtml = 'Like what you see? Visit the ' +\n",
              "            '<a target=\"_blank\" href=https://colab.research.google.com/notebooks/data_table.ipynb>data table notebook</a>'\n",
              "            + ' to learn more about interactive tables.';\n",
              "          element.innerHTML = '';\n",
              "          dataTable['output_type'] = 'display_data';\n",
              "          await google.colab.output.renderOutput(dataTable, element);\n",
              "          const docLink = document.createElement('div');\n",
              "          docLink.innerHTML = docLinkHtml;\n",
              "          element.appendChild(docLink);\n",
              "        }\n",
              "      </script>\n",
              "    </div>\n",
              "  </div>\n",
              "  "
            ]
          },
          "metadata": {},
          "execution_count": 73
        }
      ]
    },
    {
      "cell_type": "code",
      "source": [
        "X_train, X_test, y_train, y_test = train_test_split(X_features_ohe, y_target, test_size=0.3, random_state=0)\n",
        "lr_reg = LinearRegression()\n",
        "lr_reg.fit(X_train, y_train)\n",
        "pred = lr_reg.predict(X_test)\n",
        "\n",
        "def model_evaluate(y, pred):\n",
        "  MSE_val = mean_squared_error(y, pred)\n",
        "  RMSE_val = np.sqrt(MSE_val)\n",
        "  MAE_val = mean_absolute_error(y,pred)\n",
        "\n",
        "  print('MSE: {0:.3f}, RMSE: {1:.3F}, MAE: {2:.3F}'.format(MSE_val, RMSE_val, MAE_val))\n",
        "\n",
        "model_evaluate(y_test, pred)"
      ],
      "metadata": {
        "colab": {
          "base_uri": "https://localhost:8080/"
        },
        "id": "E_pG6fH6qDfe",
        "outputId": "f457e9b3-4ca6-4679-ba26-6395a87cbfb6"
      },
      "execution_count": null,
      "outputs": [
        {
          "output_type": "stream",
          "name": "stdout",
          "text": [
            "MSE: 1827612361391274929024680815755264.000, RMSE: 42750583170189328.000, MAE: 5467653553787009.000\n"
          ]
        }
      ]
    },
    {
      "cell_type": "code",
      "source": [
        "coef = pd.Series(lr_reg.coef_, index=X_features_ohe.columns)\n",
        "coef_sort = coef.sort_values(ascending=False)[:10]\n",
        "sns.barplot(x=coef_sort.values, y=coef_sort.index)"
      ],
      "metadata": {
        "colab": {
          "base_uri": "https://localhost:8080/",
          "height": 465
        },
        "id": "WFAcGZDZqPr_",
        "outputId": "cdbf058f-0a9d-4f70-e801-11b0cfe80161"
      },
      "execution_count": null,
      "outputs": [
        {
          "output_type": "execute_result",
          "data": {
            "text/plain": [
              "<Axes: >"
            ]
          },
          "metadata": {},
          "execution_count": 75
        },
        {
          "output_type": "display_data",
          "data": {
            "text/plain": [
              "<Figure size 640x480 with 1 Axes>"
            ],
            "image/png": "[encoded data removed]"
          },
          "metadata": {}
        }
      ]
    },
    {
      "cell_type": "markdown",
      "source": [
        "#### 5.2(XGBoost)\n"
      ],
      "metadata": {
        "id": "C1h4gqNPq0sv"
      }
    },
    {
      "cell_type": "code",
      "source": [
        "from xgboost import XGBRegressor\n",
        "X_train, X_test, y_train, y_test = train_test_split(X_features_ohe, y_target, test_size=0.3, random_state=0)\n",
        "xgb_reg = XGBRegressor()\n",
        "xgb_reg.fit(X_train, y_train)\n",
        "pred = xgb_reg.predict(X_test)"
      ],
      "metadata": {
        "id": "YuXVjcDLq0tB"
      },
      "execution_count": null,
      "outputs": []
    },
    {
      "cell_type": "code",
      "source": [
        "model_evaluate(y_test,pred)"
      ],
      "metadata": {
        "colab": {
          "base_uri": "https://localhost:8080/"
        },
        "id": "mE8qxZiHbfBx",
        "outputId": "6f4d8c77-386a-4587-d373-b1387fa849b1"
      },
      "execution_count": null,
      "outputs": [
        {
          "output_type": "stream",
          "name": "stdout",
          "text": [
            "MSE: 74318484867.189, RMSE: 272614.169, MAE: 98431.798\n"
          ]
        }
      ]
    },
    {
      "cell_type": "markdown",
      "metadata": {
        "id": "CezCiFpbAOq8"
      },
      "source": [
        "## 6.최종 모델 분석\n",
        "- 최종 모델의 문제점은? : 주행 거리가 1km 다음으로 2700km인 경우의 계수가 높은 점이 뭔가 이상한 것 같다.\n",
        "- 최종 모델의 개선 가능성은? : 흠... 데이터를 스케일링하면 될 것 같기도 하다."
      ]
    },
    {
      "cell_type": "markdown",
      "source": [
        "#[문제2]우리나라에서는 기후변화가 어떻게?기온데이터 예측하기"
      ],
      "metadata": {
        "id": "mWYEpLk3jMYf"
      }
    },
    {
      "cell_type": "markdown",
      "source": [
        "##1.데이터 수집\n",
        "\n",
        "[기상자료개방포털](https://data.kma.go.kr/stcs/grnd/grndTaList.do?pgmNo=70)\n",
        "\n",
        "- 과제와 함께 제시된 데이터를 활용하세요.\n",
        "- 데이터의 출처는 아래와 같습니다.\n",
        "- [기상자료개방포털] - [기후통계분석] - [기온분석] - [서울 선택]\n",
        "- [자료구분] - [년] - [기간] - [1904~최근] - [csv 파일 다운로드]"
      ],
      "metadata": {
        "id": "MVu-akdVj5DQ"
      }
    },
    {
      "cell_type": "code",
      "source": [
        "import numpy as np\n",
        "import pandas as pd\n",
        "import seaborn as sns\n",
        "import matplotlib.pyplot as plt\n",
        "%matplotlib inline\n",
        "\n",
        "data = pd.read_csv('./ta_20230327095419.csv', encoding='cp949')\n",
        "print(data.shape)\n",
        "data.head()"
      ],
      "metadata": {
        "colab": {
          "base_uri": "https://localhost:8080/",
          "height": 223
        },
        "id": "-ebmgROTkNLA",
        "outputId": "1afea3ca-1659-4038-c6b3-f59a387ef05b"
      },
      "execution_count": null,
      "outputs": [
        {
          "output_type": "stream",
          "name": "stdout",
          "text": [
            "(117, 4)\n"
          ]
        },
        {
          "output_type": "execute_result",
          "data": {
            "text/plain": [
              "        년  평균기온(℃)  평균최저기온(℃)  평균최고기온(℃)\n",
              "0  \\t1907      NaN        NaN        NaN\n",
              "1  \\t1908     10.4        5.8       15.7\n",
              "2  \\t1909     10.6        5.8       16.0\n",
              "3  \\t1910     10.3        5.7       15.9\n",
              "4  \\t1911     10.6        6.0       15.9"
            ],
            "text/html": [
              "\n",
              "  <div id=\"df-f0406cee-0f47-4b30-a1d7-94a37a35b64b\">\n",
              "    <div class=\"colab-df-container\">\n",
              "      <div>\n",
              "<style scoped>\n",
              "    .dataframe tbody tr th:only-of-type {\n",
              "        vertical-align: middle;\n",
              "    }\n",
              "\n",
              "    .dataframe tbody tr th {\n",
              "        vertical-align: top;\n",
              "    }\n",
              "\n",
              "    .dataframe thead th {\n",
              "        text-align: right;\n",
              "    }\n",
              "</style>\n",
              "<table border=\"1\" class=\"dataframe\">\n",
              "  <thead>\n",
              "    <tr style=\"text-align: right;\">\n",
              "      <th></th>\n",
              "      <th>년</th>\n",
              "      <th>평균기온(℃)</th>\n",
              "      <th>평균최저기온(℃)</th>\n",
              "      <th>평균최고기온(℃)</th>\n",
              "    </tr>\n",
              "  </thead>\n",
              "  <tbody>\n",
              "    <tr>\n",
              "      <th>0</th>\n",
              "      <td>\\t1907</td>\n",
              "      <td>NaN</td>\n",
              "      <td>NaN</td>\n",
              "      <td>NaN</td>\n",
              "    </tr>\n",
              "    <tr>\n",
              "      <th>1</th>\n",
              "      <td>\\t1908</td>\n",
              "      <td>10.4</td>\n",
              "      <td>5.8</td>\n",
              "      <td>15.7</td>\n",
              "    </tr>\n",
              "    <tr>\n",
              "      <th>2</th>\n",
              "      <td>\\t1909</td>\n",
              "      <td>10.6</td>\n",
              "      <td>5.8</td>\n",
              "      <td>16.0</td>\n",
              "    </tr>\n",
              "    <tr>\n",
              "      <th>3</th>\n",
              "      <td>\\t1910</td>\n",
              "      <td>10.3</td>\n",
              "      <td>5.7</td>\n",
              "      <td>15.9</td>\n",
              "    </tr>\n",
              "    <tr>\n",
              "      <th>4</th>\n",
              "      <td>\\t1911</td>\n",
              "      <td>10.6</td>\n",
              "      <td>6.0</td>\n",
              "      <td>15.9</td>\n",
              "    </tr>\n",
              "  </tbody>\n",
              "</table>\n",
              "</div>\n",
              "      <button class=\"colab-df-convert\" onclick=\"convertToInteractive('df-f0406cee-0f47-4b30-a1d7-94a37a35b64b')\"\n",
              "              title=\"Convert this dataframe to an interactive table.\"\n",
              "              style=\"display:none;\">\n",
              "        \n",
              "  <svg xmlns=\"http://www.w3.org/2000/svg\" height=\"24px\"viewBox=\"0 0 24 24\"\n",
              "       width=\"24px\">\n",
              "    <path d=\"M0 0h24v24H0V0z\" fill=\"none\"/>\n",
              "    <path d=\"M18.56 5.44l.94 2.06.94-2.06 2.06-.94-2.06-.94-.94-2.06-.94 2.06-2.06.94zm-11 1L8.5 8.5l.94-2.06 2.06-.94-2.06-.94L8.5 2.5l-.94 2.06-2.06.94zm10 10l.94 2.06.94-2.06 2.06-.94-2.06-.94-.94-2.06-.94 2.06-2.06.94z\"/><path d=\"M17.41 7.96l-1.37-1.37c-.4-.4-.92-.59-1.43-.59-.52 0-1.04.2-1.43.59L10.3 9.45l-7.72 7.72c-.78.78-.78 2.05 0 2.83L4 21.41c.39.39.9.59 1.41.59.51 0 1.02-.2 1.41-.59l7.78-7.78 2.81-2.81c.8-.78.8-2.07 0-2.86zM5.41 20L4 18.59l7.72-7.72 1.47 1.35L5.41 20z\"/>\n",
              "  </svg>\n",
              "      </button>\n",
              "      \n",
              "  <style>\n",
              "    .colab-df-container {\n",
              "      display:flex;\n",
              "      flex-wrap:wrap;\n",
              "      gap: 12px;\n",
              "    }\n",
              "\n",
              "    .colab-df-convert {\n",
              "      background-color: #E8F0FE;\n",
              "      border: none;\n",
              "      border-radius: 50%;\n",
              "      cursor: pointer;\n",
              "      display: none;\n",
              "      fill: #1967D2;\n",
              "      height: 32px;\n",
              "      padding: 0 0 0 0;\n",
              "      width: 32px;\n",
              "    }\n",
              "\n",
              "    .colab-df-convert:hover {\n",
              "      background-color: #E2EBFA;\n",
              "      box-shadow: 0px 1px 2px rgba(60, 64, 67, 0.3), 0px 1px 3px 1px rgba(60, 64, 67, 0.15);\n",
              "      fill: #174EA6;\n",
              "    }\n",
              "\n",
              "    [theme=dark] .colab-df-convert {\n",
              "      background-color: #3B4455;\n",
              "      fill: #D2E3FC;\n",
              "    }\n",
              "\n",
              "    [theme=dark] .colab-df-convert:hover {\n",
              "      background-color: #434B5C;\n",
              "      box-shadow: 0px 1px 3px 1px rgba(0, 0, 0, 0.15);\n",
              "      filter: drop-shadow(0px 1px 2px rgba(0, 0, 0, 0.3));\n",
              "      fill: #FFFFFF;\n",
              "    }\n",
              "  </style>\n",
              "\n",
              "      <script>\n",
              "        const buttonEl =\n",
              "          document.querySelector('#df-f0406cee-0f47-4b30-a1d7-94a37a35b64b button.colab-df-convert');\n",
              "        buttonEl.style.display =\n",
              "          google.colab.kernel.accessAllowed ? 'block' : 'none';\n",
              "\n",
              "        async function convertToInteractive(key) {\n",
              "          const element = document.querySelector('#df-f0406cee-0f47-4b30-a1d7-94a37a35b64b');\n",
              "          const dataTable =\n",
              "            await google.colab.kernel.invokeFunction('convertToInteractive',\n",
              "                                                     [key], {});\n",
              "          if (!dataTable) return;\n",
              "\n",
              "          const docLinkHtml = 'Like what you see? Visit the ' +\n",
              "            '<a target=\"_blank\" href=https://colab.research.google.com/notebooks/data_table.ipynb>data table notebook</a>'\n",
              "            + ' to learn more about interactive tables.';\n",
              "          element.innerHTML = '';\n",
              "          dataTable['output_type'] = 'display_data';\n",
              "          await google.colab.output.renderOutput(dataTable, element);\n",
              "          const docLink = document.createElement('div');\n",
              "          docLink.innerHTML = docLinkHtml;\n",
              "          element.appendChild(docLink);\n",
              "        }\n",
              "      </script>\n",
              "    </div>\n",
              "  </div>\n",
              "  "
            ]
          },
          "metadata": {},
          "execution_count": 38
        }
      ]
    },
    {
      "cell_type": "markdown",
      "source": [
        "##2.데이터 전처리"
      ],
      "metadata": {
        "id": "DJRPzhNvkHM-"
      }
    },
    {
      "cell_type": "markdown",
      "source": [
        "- '년' 컬럼의 '\\t' 기호를 제거하고 숫자형 데이터타입으로 바꾸어 저장하세요."
      ],
      "metadata": {
        "id": "2y1glCJXqW_u"
      }
    },
    {
      "cell_type": "code",
      "source": [
        "for i in data.index:\n",
        "  try:\n",
        "    data['년'][i] = int(data['년'][i].replace('\\t',''))\n",
        "  except:\n",
        "    data.drop(i,axis=0, inplace=True)\n",
        "data"
      ],
      "metadata": {
        "id": "ExYeGWcFqfZC",
        "colab": {
          "base_uri": "https://localhost:8080/",
          "height": 510
        },
        "outputId": "939d29dd-581e-47fb-b965-f0873397eb25"
      },
      "execution_count": null,
      "outputs": [
        {
          "output_type": "stream",
          "name": "stderr",
          "text": [
            "<ipython-input-39-18e5709f528a>:3: SettingWithCopyWarning: \n",
            "A value is trying to be set on a copy of a slice from a DataFrame\n",
            "\n",
            "See the caveats in the documentation: https://pandas.pydata.org/pandas-docs/stable/user_guide/indexing.html#returning-a-view-versus-a-copy\n",
            "  data['년'][i] = int(data['년'][i].replace('\\t',''))\n"
          ]
        },
        {
          "output_type": "execute_result",
          "data": {
            "text/plain": [
              "        년  평균기온(℃)  평균최저기온(℃)  평균최고기온(℃)\n",
              "0    1907      NaN        NaN        NaN\n",
              "1    1908     10.4        5.8       15.7\n",
              "2    1909     10.6        5.8       16.0\n",
              "3    1910     10.3        5.7       15.9\n",
              "4    1911     10.6        6.0       15.9\n",
              "..    ...      ...        ...        ...\n",
              "111  2018     12.9        8.8       17.9\n",
              "112  2019     13.5        9.3       18.5\n",
              "113  2020     13.2        9.4       17.9\n",
              "114  2021     13.7        9.6       18.5\n",
              "115  2022     13.2        9.2       18.0\n",
              "\n",
              "[116 rows x 4 columns]"
            ],
            "text/html": [
              "\n",
              "  <div id=\"df-192e948f-e263-4c5e-b8ed-5fd8a5c96a85\">\n",
              "    <div class=\"colab-df-container\">\n",
              "      <div>\n",
              "<style scoped>\n",
              "    .dataframe tbody tr th:only-of-type {\n",
              "        vertical-align: middle;\n",
              "    }\n",
              "\n",
              "    .dataframe tbody tr th {\n",
              "        vertical-align: top;\n",
              "    }\n",
              "\n",
              "    .dataframe thead th {\n",
              "        text-align: right;\n",
              "    }\n",
              "</style>\n",
              "<table border=\"1\" class=\"dataframe\">\n",
              "  <thead>\n",
              "    <tr style=\"text-align: right;\">\n",
              "      <th></th>\n",
              "      <th>년</th>\n",
              "      <th>평균기온(℃)</th>\n",
              "      <th>평균최저기온(℃)</th>\n",
              "      <th>평균최고기온(℃)</th>\n",
              "    </tr>\n",
              "  </thead>\n",
              "  <tbody>\n",
              "    <tr>\n",
              "      <th>0</th>\n",
              "      <td>1907</td>\n",
              "      <td>NaN</td>\n",
              "      <td>NaN</td>\n",
              "      <td>NaN</td>\n",
              "    </tr>\n",
              "    <tr>\n",
              "      <th>1</th>\n",
              "      <td>1908</td>\n",
              "      <td>10.4</td>\n",
              "      <td>5.8</td>\n",
              "      <td>15.7</td>\n",
              "    </tr>\n",
              "    <tr>\n",
              "      <th>2</th>\n",
              "      <td>1909</td>\n",
              "      <td>10.6</td>\n",
              "      <td>5.8</td>\n",
              "      <td>16.0</td>\n",
              "    </tr>\n",
              "    <tr>\n",
              "      <th>3</th>\n",
              "      <td>1910</td>\n",
              "      <td>10.3</td>\n",
              "      <td>5.7</td>\n",
              "      <td>15.9</td>\n",
              "    </tr>\n",
              "    <tr>\n",
              "      <th>4</th>\n",
              "      <td>1911</td>\n",
              "      <td>10.6</td>\n",
              "      <td>6.0</td>\n",
              "      <td>15.9</td>\n",
              "    </tr>\n",
              "    <tr>\n",
              "      <th>...</th>\n",
              "      <td>...</td>\n",
              "      <td>...</td>\n",
              "      <td>...</td>\n",
              "      <td>...</td>\n",
              "    </tr>\n",
              "    <tr>\n",
              "      <th>111</th>\n",
              "      <td>2018</td>\n",
              "      <td>12.9</td>\n",
              "      <td>8.8</td>\n",
              "      <td>17.9</td>\n",
              "    </tr>\n",
              "    <tr>\n",
              "      <th>112</th>\n",
              "      <td>2019</td>\n",
              "      <td>13.5</td>\n",
              "      <td>9.3</td>\n",
              "      <td>18.5</td>\n",
              "    </tr>\n",
              "    <tr>\n",
              "      <th>113</th>\n",
              "      <td>2020</td>\n",
              "      <td>13.2</td>\n",
              "      <td>9.4</td>\n",
              "      <td>17.9</td>\n",
              "    </tr>\n",
              "    <tr>\n",
              "      <th>114</th>\n",
              "      <td>2021</td>\n",
              "      <td>13.7</td>\n",
              "      <td>9.6</td>\n",
              "      <td>18.5</td>\n",
              "    </tr>\n",
              "    <tr>\n",
              "      <th>115</th>\n",
              "      <td>2022</td>\n",
              "      <td>13.2</td>\n",
              "      <td>9.2</td>\n",
              "      <td>18.0</td>\n",
              "    </tr>\n",
              "  </tbody>\n",
              "</table>\n",
              "<p>116 rows × 4 columns</p>\n",
              "</div>\n",
              "      <button class=\"colab-df-convert\" onclick=\"convertToInteractive('df-192e948f-e263-4c5e-b8ed-5fd8a5c96a85')\"\n",
              "              title=\"Convert this dataframe to an interactive table.\"\n",
              "              style=\"display:none;\">\n",
              "        \n",
              "  <svg xmlns=\"http://www.w3.org/2000/svg\" height=\"24px\"viewBox=\"0 0 24 24\"\n",
              "       width=\"24px\">\n",
              "    <path d=\"M0 0h24v24H0V0z\" fill=\"none\"/>\n",
              "    <path d=\"M18.56 5.44l.94 2.06.94-2.06 2.06-.94-2.06-.94-.94-2.06-.94 2.06-2.06.94zm-11 1L8.5 8.5l.94-2.06 2.06-.94-2.06-.94L8.5 2.5l-.94 2.06-2.06.94zm10 10l.94 2.06.94-2.06 2.06-.94-2.06-.94-.94-2.06-.94 2.06-2.06.94z\"/><path d=\"M17.41 7.96l-1.37-1.37c-.4-.4-.92-.59-1.43-.59-.52 0-1.04.2-1.43.59L10.3 9.45l-7.72 7.72c-.78.78-.78 2.05 0 2.83L4 21.41c.39.39.9.59 1.41.59.51 0 1.02-.2 1.41-.59l7.78-7.78 2.81-2.81c.8-.78.8-2.07 0-2.86zM5.41 20L4 18.59l7.72-7.72 1.47 1.35L5.41 20z\"/>\n",
              "  </svg>\n",
              "      </button>\n",
              "      \n",
              "  <style>\n",
              "    .colab-df-container {\n",
              "      display:flex;\n",
              "      flex-wrap:wrap;\n",
              "      gap: 12px;\n",
              "    }\n",
              "\n",
              "    .colab-df-convert {\n",
              "      background-color: #E8F0FE;\n",
              "      border: none;\n",
              "      border-radius: 50%;\n",
              "      cursor: pointer;\n",
              "      display: none;\n",
              "      fill: #1967D2;\n",
              "      height: 32px;\n",
              "      padding: 0 0 0 0;\n",
              "      width: 32px;\n",
              "    }\n",
              "\n",
              "    .colab-df-convert:hover {\n",
              "      background-color: #E2EBFA;\n",
              "      box-shadow: 0px 1px 2px rgba(60, 64, 67, 0.3), 0px 1px 3px 1px rgba(60, 64, 67, 0.15);\n",
              "      fill: #174EA6;\n",
              "    }\n",
              "\n",
              "    [theme=dark] .colab-df-convert {\n",
              "      background-color: #3B4455;\n",
              "      fill: #D2E3FC;\n",
              "    }\n",
              "\n",
              "    [theme=dark] .colab-df-convert:hover {\n",
              "      background-color: #434B5C;\n",
              "      box-shadow: 0px 1px 3px 1px rgba(0, 0, 0, 0.15);\n",
              "      filter: drop-shadow(0px 1px 2px rgba(0, 0, 0, 0.3));\n",
              "      fill: #FFFFFF;\n",
              "    }\n",
              "  </style>\n",
              "\n",
              "      <script>\n",
              "        const buttonEl =\n",
              "          document.querySelector('#df-192e948f-e263-4c5e-b8ed-5fd8a5c96a85 button.colab-df-convert');\n",
              "        buttonEl.style.display =\n",
              "          google.colab.kernel.accessAllowed ? 'block' : 'none';\n",
              "\n",
              "        async function convertToInteractive(key) {\n",
              "          const element = document.querySelector('#df-192e948f-e263-4c5e-b8ed-5fd8a5c96a85');\n",
              "          const dataTable =\n",
              "            await google.colab.kernel.invokeFunction('convertToInteractive',\n",
              "                                                     [key], {});\n",
              "          if (!dataTable) return;\n",
              "\n",
              "          const docLinkHtml = 'Like what you see? Visit the ' +\n",
              "            '<a target=\"_blank\" href=https://colab.research.google.com/notebooks/data_table.ipynb>data table notebook</a>'\n",
              "            + ' to learn more about interactive tables.';\n",
              "          element.innerHTML = '';\n",
              "          dataTable['output_type'] = 'display_data';\n",
              "          await google.colab.output.renderOutput(dataTable, element);\n",
              "          const docLink = document.createElement('div');\n",
              "          docLink.innerHTML = docLinkHtml;\n",
              "          element.appendChild(docLink);\n",
              "        }\n",
              "      </script>\n",
              "    </div>\n",
              "  </div>\n",
              "  "
            ]
          },
          "metadata": {},
          "execution_count": 39
        }
      ]
    },
    {
      "cell_type": "markdown",
      "source": [
        "- 데이터의 형태를 확인하고 NA(None, Null, Nan) 값이 있는 열이 있는지 확인하세요.\n",
        "- 결측값이 있는 년도의 특성은 무엇가?: [내용 작성]"
      ],
      "metadata": {
        "id": "GxtW3GqWrCgA"
      }
    },
    {
      "cell_type": "code",
      "source": [
        "data.isna().sum()"
      ],
      "metadata": {
        "id": "bGvxSOTErCgF",
        "colab": {
          "base_uri": "https://localhost:8080/"
        },
        "outputId": "64faf5d6-7a66-4652-afdf-33e14082e06e"
      },
      "execution_count": null,
      "outputs": [
        {
          "output_type": "execute_result",
          "data": {
            "text/plain": [
              "년            0\n",
              "평균기온(℃)      5\n",
              "평균최저기온(℃)    5\n",
              "평균최고기온(℃)    5\n",
              "dtype: int64"
            ]
          },
          "metadata": {},
          "execution_count": 40
        }
      ]
    },
    {
      "cell_type": "markdown",
      "source": [
        "- 컬럼에 결측값이 있는 샘플을 제거하세요.(결측값 처리를 위한 다른 방법 적용 가능)"
      ],
      "metadata": {
        "id": "qJovnQ12qi00"
      }
    },
    {
      "cell_type": "code",
      "source": [
        "data.dropna(axis=0,inplace=True)"
      ],
      "metadata": {
        "id": "pGwaHQnkqrQ2"
      },
      "execution_count": null,
      "outputs": []
    },
    {
      "cell_type": "markdown",
      "source": [
        "- 년도별 연평균최고기온의 변화 추이를 line plot을 그려 확인하세요."
      ],
      "metadata": {
        "id": "BFnu2iTrrM7I"
      }
    },
    {
      "cell_type": "code",
      "source": [
        "plt.plot(data['년'],data['평균최고기온(℃)'])"
      ],
      "metadata": {
        "colab": {
          "base_uri": "https://localhost:8080/",
          "height": 447
        },
        "id": "vQKQL1gMnE5N",
        "outputId": "a4b995fb-862a-4265-e2b9-717392788d25"
      },
      "execution_count": null,
      "outputs": [
        {
          "output_type": "execute_result",
          "data": {
            "text/plain": [
              "[<matplotlib.lines.Line2D at 0x7f3e2d0c43d0>]"
            ]
          },
          "metadata": {},
          "execution_count": 44
        },
        {
          "output_type": "display_data",
          "data": {
            "text/plain": [
              "<Figure size 640x480 with 1 Axes>"
            ],
            "image/png": "[encoded data removed]"
          },
          "metadata": {}
        }
      ]
    },
    {
      "cell_type": "markdown",
      "source": [
        "- 학습 레이블과 학습 데이터를 생성하세요."
      ],
      "metadata": {
        "id": "lhv0PUsWr62q"
      }
    },
    {
      "cell_type": "code",
      "source": [
        "from sklearn.metrics import mean_squared_error, mean_absolute_error\n",
        "from sklearn.linear_model import LinearRegression\n",
        "from xgboost import XGBRegressor\n",
        "\n",
        "# 학습 레이블, 학습 데이터 준비\n",
        "y_train = data['평균최고기온(℃)']\n",
        "X_train = np.array(data['년']).reshape(-1,1)"
      ],
      "metadata": {
        "id": "7LanzUQVlaBm"
      },
      "execution_count": null,
      "outputs": []
    },
    {
      "cell_type": "markdown",
      "source": [
        "- 테스트 데이터를 2023년부터 2100년까지 생성하세요."
      ],
      "metadata": {
        "id": "MRx7VBxwr5eX"
      }
    },
    {
      "cell_type": "code",
      "source": [
        "# 테스트 데이터 준비\n",
        "X_test = np.arange(2023, 2100).reshape(-1, 1)"
      ],
      "metadata": {
        "id": "2xqtYudHl53N"
      },
      "execution_count": null,
      "outputs": []
    },
    {
      "cell_type": "markdown",
      "source": [
        "##3.모델 학습"
      ],
      "metadata": {
        "id": "F7PPnuEirY1v"
      }
    },
    {
      "cell_type": "markdown",
      "source": [
        "- 회귀 모델을 정의하고 학습 데이터를 기반으로 학습을 진행하세요."
      ],
      "metadata": {
        "id": "VnH-_CaCQyh-"
      }
    },
    {
      "cell_type": "code",
      "source": [
        "lr_reg = LinearRegression()\n",
        "lr_reg.fit(X_train, y_train)\n",
        "pred = lr_reg.predict(X_test)"
      ],
      "metadata": {
        "id": "tIZt-01Bngm8"
      },
      "execution_count": null,
      "outputs": []
    },
    {
      "cell_type": "markdown",
      "metadata": {
        "id": "Fw22RHyTQ_2C"
      },
      "source": [
        "## 4.모델 예측 및 평가\n"
      ]
    },
    {
      "cell_type": "markdown",
      "source": [
        "- 학습 데이터와 테스트 데이터를 합치고, 1900년대부터 2100년까지 기온 변화 추이를 line plot으로 그리세요."
      ],
      "metadata": {
        "id": "Ox3tamAlRD8q"
      }
    },
    {
      "cell_type": "code",
      "source": [
        "#예시\n",
        "X = np.concatenate((X_train, X_test), axis=0)\n",
        "y = np.concatenate((y_train, pred), axis=0)\n",
        "plt.plot(X, y, color='r')"
      ],
      "metadata": {
        "colab": {
          "base_uri": "https://localhost:8080/",
          "height": 447
        },
        "id": "gBU9SKZnoiZm",
        "outputId": "6fddf58b-c134-48cc-d7e2-f4b11a6f1648"
      },
      "execution_count": null,
      "outputs": [
        {
          "output_type": "execute_result",
          "data": {
            "text/plain": [
              "[<matplotlib.lines.Line2D at 0x7f3e30999f10>]"
            ]
          },
          "metadata": {},
          "execution_count": 52
        },
        {
          "output_type": "display_data",
          "data": {
            "text/plain": [
              "<Figure size 640x480 with 1 Axes>"
            ],
            "image/png": "[encoded data removed]"
          },
          "metadata": {}
        }
      ]
    },
    {
      "cell_type": "markdown",
      "source": [
        "- 2020년과 2100년에 예측한 연평균 기온은 몇도가 차이나는지 구하세요."
      ],
      "metadata": {
        "id": "CrMKfLGnRVvD"
      }
    },
    {
      "cell_type": "code",
      "source": [
        "y[-1]-y[-81]"
      ],
      "metadata": {
        "id": "y3c1OxlxqPu1",
        "colab": {
          "base_uri": "https://localhost:8080/"
        },
        "outputId": "e9de16fc-565e-4e54-81e8-531c0aa22618"
      },
      "execution_count": null,
      "outputs": [
        {
          "output_type": "execute_result",
          "data": {
            "text/plain": [
              "0.0761580073576944"
            ]
          },
          "metadata": {},
          "execution_count": 57
        }
      ]
    },
    {
      "cell_type": "markdown",
      "metadata": {
        "id": "ZceN9KJ6Q_2D"
      },
      "source": [
        "- 학습된 모델의 회귀 계수를 확인하세요."
      ]
    },
    {
      "cell_type": "code",
      "metadata": {
        "id": "zMD9ospgQ_2D",
        "colab": {
          "base_uri": "https://localhost:8080/"
        },
        "outputId": "19ab49b0-da73-429a-f1a7-3fba8dfd8a5f"
      },
      "source": [
        "lr_reg.coef_"
      ],
      "execution_count": null,
      "outputs": [
        {
          "output_type": "execute_result",
          "data": {
            "text/plain": [
              "array([0.01379579])"
            ]
          },
          "metadata": {},
          "execution_count": 62
        }
      ]
    },
    {
      "cell_type": "markdown",
      "source": [
        "## 5.모델 개선\n",
        "\n",
        "- 1970년을 기점으로 우리나라에는 급격한 산업화가 찾아왔습니다. 1970년~현재까지의 데이터를 바탕으로 학습한 회귀 모델을 구현하세요.\n"
      ],
      "metadata": {
        "id": "ZRpy7RujRlA0"
      }
    },
    {
      "cell_type": "code",
      "source": [
        "y_train1 = data.loc[63:, '평균최고기온(℃)']\n",
        "X_train1 = np.array(data.loc[63:, '년']).reshape(-1, 1)\n",
        "\n",
        "lr_reg2 = LinearRegression()\n",
        "lr_reg2.fit(X_train1, y_train1)\n",
        "pred = lr_reg2.predict(X_test)"
      ],
      "metadata": {
        "id": "DIeRgTfsR2Vg"
      },
      "execution_count": null,
      "outputs": []
    },
    {
      "cell_type": "markdown",
      "source": [
        "- 학습 데이터와 테스트 데이터를 합치고, 1970년대부터 2100년까지 기온 변화 추이를 line plot으로 그리세요."
      ],
      "metadata": {
        "id": "mcoHpLsLRvDY"
      }
    },
    {
      "cell_type": "code",
      "source": [
        "X = np.concatenate((X_train1, X_test), axis=0)\n",
        "y = np.concatenate((y_train1, pred), axis=0)\n",
        "plt.plot(X, y, color='r')"
      ],
      "metadata": {
        "id": "-Sb0lOovR2rQ",
        "colab": {
          "base_uri": "https://localhost:8080/",
          "height": 447
        },
        "outputId": "bd718d21-aca7-4aa0-9d4d-978b0d1d662e"
      },
      "execution_count": null,
      "outputs": [
        {
          "output_type": "execute_result",
          "data": {
            "text/plain": [
              "[<matplotlib.lines.Line2D at 0x7f3e2c11a670>]"
            ]
          },
          "metadata": {},
          "execution_count": 65
        },
        {
          "output_type": "display_data",
          "data": {
            "text/plain": [
              "<Figure size 640x480 with 1 Axes>"
            ],
            "image/png": "[encoded data removed]"
          },
          "metadata": {}
        }
      ]
    },
    {
      "cell_type": "markdown",
      "source": [
        "- 개선된 모델을 이용하여 2020년과 2100년에 예측한 연평균 기온은 몇도가 차이나는지 구하세요."
      ],
      "metadata": {
        "id": "m8aYTe19SCvX"
      }
    },
    {
      "cell_type": "code",
      "source": [
        "y[-1]-y[-81]"
      ],
      "metadata": {
        "id": "94nnPHJ8SHAs",
        "colab": {
          "base_uri": "https://localhost:8080/"
        },
        "outputId": "e8cc731e-f90b-4ad6-9751-b41f068de694"
      },
      "execution_count": null,
      "outputs": [
        {
          "output_type": "execute_result",
          "data": {
            "text/plain": [
              "1.8473633284954047"
            ]
          },
          "metadata": {},
          "execution_count": 66
        }
      ]
    },
    {
      "cell_type": "markdown",
      "source": [
        "- 학습된 모델의 회귀 계수를 확인하세요. 1900년대부터 학습시켰을 때와 기울기가 얼마나 차이나는지 비교하세요."
      ],
      "metadata": {
        "id": "ckWZ6G2VR4bD"
      }
    },
    {
      "cell_type": "code",
      "source": [
        "lr_reg2.coef_"
      ],
      "metadata": {
        "id": "uJOrDYpuSHxr",
        "colab": {
          "base_uri": "https://localhost:8080/"
        },
        "outputId": "eb8c4a87-2131-42b3-fcfa-a6c2999f5532"
      },
      "execution_count": null,
      "outputs": [
        {
          "output_type": "execute_result",
          "data": {
            "text/plain": [
              "array([0.03125302])"
            ]
          },
          "metadata": {},
          "execution_count": 68
        }
      ]
    },
    {
      "cell_type": "markdown",
      "source": [
        "- 이 경우와 같이 미래를 예측하는 모델은 평가를 어떻게 하면 좋을지 의견을 작성하세요: 주위 상황을 인식하고 큰 변화가 있는 것 같은 경우는 데이터를 분할해서 각각의 상황에서 선형회귀를 하여 전체적인 흐름은 꺾은 선 그래프와 같은 형태로 보면 좋을 것 같다."
      ],
      "metadata": {
        "id": "cE_k1LKTmhKt"
      }
    },
    {
      "cell_type": "markdown",
      "source": [
        "#[스스로 정리하기]\n",
        "- 두 가지 문제를 해결하며 배운 점을 스스로 정리하세요.\n",
        "\n",
        "첫번째 과제는 데이터 값에 object 형태의 값이 많을 때 처리하는데 어려움을 느낄 수 있었다. 데이터 가공하는 방법을 더 공부해야겠다고 생각했다. 또한, 두번째 과제에서는 선형회귀 구간에 따라서 결과가 어떻게 달라지는지 알 수 있었다. 따라서 선형회귀에 있어서는 데이터 가공 뿐만이 아니라 범위 설정도 중요한 역할을 한다는 점을 알 수 있었다."
      ],
      "metadata": {
        "id": "mJjgBzNbSI6c"
      }
    }
  ]
}