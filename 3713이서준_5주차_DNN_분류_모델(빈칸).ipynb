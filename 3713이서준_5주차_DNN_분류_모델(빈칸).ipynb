{
  "nbformat": 4,
  "nbformat_minor": 0,
  "metadata": {
    "colab": {
      "provenance": [],
      "toc_visible": true
    },
    "kernelspec": {
      "name": "python3",
      "display_name": "Python 3"
    },
    "accelerator": "GPU"
  },
  "cells": [
    {
      "cell_type": "markdown",
      "metadata": {
        "id": "Wyg8IYB7OI4_"
      },
      "source": [
        "-----\n",
        "##0.인공신경망과 딥러닝"
      ]
    },
    {
      "cell_type": "markdown",
      "metadata": {
        "id": "ss-rdzhHYN1x"
      },
      "source": [
        "### 0-1.퍼셉트론의 등장\n",
        "\n",
        "> 퍼셉트론(Perceptron)\n",
        "- 프랑크 로젠블라트(Frank Rosenblatt)가 1957년에 제안한 초기 형태의 인공 신경망으로 다수의 입력으로부터 하나의 결과를 내보내는 알고리즘\n",
        "- 입력값을 바탕으로 신호의 출력 여부를 결정한다는 점에서 뉴런과 비슷\n",
        "- 각 노드의 가중치와 입력치를 곱한 것을 모두 합한 값이 **활성화 함수**에 의해 판단됨\n",
        "- 초기의 퍼셉트론에서는 그 값이 임계치(보통 0)보다 크면 뉴런이 활성화되고 결과값으로 1을 출력\n",
        "\n",
        "인공지능 알고리즘이 점차 발전하면서 해결하려는 문제 상황에 적합한 활성화 함수를 개발하려는 노력이 계속되고 있음\n",
        "\n",
        "<img src=\"https://www.simplilearn.com/ice9/free_resources_article_thumb/general-diagram-of-perceptron-for-supervised-learning.jpg\" width=500px>\n",
        "\n",
        "\n"
      ]
    },
    {
      "cell_type": "markdown",
      "metadata": {
        "id": "Lxt_jjwkPJTA"
      },
      "source": [
        "### 0-2.활성화 함수\n",
        "\n",
        "- 각 퍼셉트론의 노드를 활성화시킬 지에 대하여 결정하는 활성화 함수에는 매우 다양한 종류가 있음.\n",
        "- 대표적으로 아래의 6가지 활성화 함수가 많이 사용됨.\n",
        "\n",
        "\n",
        "<img src=\"https://cdn-images-1.medium.com/max/1600/1*RD0lIYqB5L2LrI2VTIZqGw.png\" width=600px>\n"
      ]
    },
    {
      "cell_type": "markdown",
      "metadata": {
        "id": "lT_t4bcvOr1v"
      },
      "source": [
        "### 0-3.인공신경망(NN)에서 딥러닝 모델(DNN)로\n",
        "\n",
        "<img src=\"https://www.researchgate.net/profile/Wanli-Xing/publication/323784695/figure/fig5/AS:613990283628562@1523398099969/Deep-learning-diagram.png\" width=700px >\n",
        "\n",
        "#### 0-3-1.인공신경망의 구조\n",
        "- 입력층, 은닉층, 출력층으로 구성되어있음.\n",
        "- 각 층은 여러 개의 노드로 구성되어있음.\n",
        "- 다층으로 구성하면 신경망이 처리할 수 있는 연산의 복잡도가 증가함.\n",
        "\n",
        "#### 0-3-2.딥러닝 모델\n",
        "- 심층 신경망(Deep Neural Network, DNN) : 보통 은닉층이 2개 이상인 신경망을 일컫음.\n",
        "- 은닉층의 개수가 많아질수록 인공신경망이 ‘깊어졌다(deep)’고 부르며, 이렇게 충분히 깊어진 인공신경망을 러닝 모델로 사용하는 머신러닝 패러다임을 바로 딥러닝(Deep Learning)이라고 함.\n",
        "- 각 층을 구성하는 노드의 개수가 많아질수록 연산의 공간적, 시간적 복잡도가 증가함.\n",
        "- 노드가 많을수록 복잡한 연산이 가능하지만, 비용이 많이 든다는 단점이 존재함."
      ]
    },
    {
      "cell_type": "markdown",
      "metadata": {
        "id": "scYt7140PwT9"
      },
      "source": [
        "### 0-4.딥러닝 모델의 학습\n"
      ]
    },
    {
      "cell_type": "markdown",
      "metadata": {
        "id": "3lpwYYIVHWB8"
      },
      "source": [
        "\n",
        "#### 0-4-1.딥러닝 모델의 학습 과정\n",
        "1. 임의의 가중치 W 설정\n",
        "2. 순전파를 통해 Cost 계산\n",
        "3. 오차역전파를 통하여 Gradient 계산\n",
        "4. W 가중치 조정 $W(t+1) = W(t)-\\frac{∂Cost}{∂W} $\n",
        "5. 2~5의 과정 반복"
      ]
    },
    {
      "cell_type": "markdown",
      "metadata": {
        "id": "Gqlcrh5mP8Jl"
      },
      "source": [
        "#### 0-4-2.경사하강법(Gradient Descent)\n",
        "\n",
        "- 오차 함수의 기울기(경사)를 구하여 기울기가 낮은 쪽으로 계속 이동시켜서 극값에 이를 때까지 반복시키는 것\n",
        "\n",
        "<img src=\"https://taewanmerepo.github.io/2018/08/mse/060.jpg\" width=400px>"
      ]
    },
    {
      "cell_type": "markdown",
      "metadata": {
        "id": "q7pbdEFqP4dN"
      },
      "source": [
        "#### 0-4-3.오차역전파(Error Back Propagation)\n",
        "\n",
        "\n",
        "\n",
        "Local Gradient 계산하기\n",
        "\n",
        "<img src=\"https://miro.medium.com/max/771/1*DcLWqOojI1b9jzQaLibUkQ.png\" width=500px>\n",
        "\n",
        "Chain Rule 에 의해 계산되는 Gradient\n",
        "\n",
        "<img src=\"https://cdn-media-1.freecodecamp.org/images/1*_KMMFvRP5X9kC59brI0ykw.png\" width=500px>"
      ]
    },
    {
      "cell_type": "markdown",
      "metadata": {
        "id": "YLe5ZISpIB4i"
      },
      "source": [
        "#### 0-4-4.옵티마이저\n",
        "\n",
        "- 손실 함수의 값을 줄여나가면서 학습하는 방법에 대한 알고리즘\n",
        "- 경사하강법(GD)에서 확률적 경사하강법(SGD)이 파생되었으며, 딥러닝 모델을 최적화하기 위한 다양한 알고리즘이 개발 중에 있음\n",
        "- 안정적인 성능을 보여 현재 대표적으로 많이 사용되는 옵티마이저는 SGD, RMSProp, Adam이 있음\n",
        "\n",
        "<img src=\"https://img1.daumcdn.net/thumb/R720x0.q80/?scode=mtistory2&fname=http%3A%2F%2Fcfile27.uf.tistory.com%2Fimage%2F993D383359D86C280DD74F\" >\n",
        "\n",
        "<img src=\"https://img1.daumcdn.net/thumb/R720x0.q80/?scode=mtistory2&fname=http%3A%2F%2Fcfile28.uf.tistory.com%2Fimage%2F99EF38455AB85F5B227DAE\" width=500px>\n",
        "\n",
        "[옵티마이저 참고자료](https://hiddenbeginner.github.io/deeplearning/2019/09/22/optimization_algorithms_in_deep_learning.html)"
      ]
    },
    {
      "cell_type": "markdown",
      "metadata": {
        "id": "EK6fa7KtbdDt"
      },
      "source": [
        "--------------\n",
        "## 1.딥러닝 모델로 이진 분류 문제 해결하기\n"
      ]
    },
    {
      "cell_type": "markdown",
      "metadata": {
        "id": "_80TyL0341SC"
      },
      "source": [
        "\n",
        "### 1-1.문제 정의(분류 문제)\n"
      ]
    },
    {
      "cell_type": "markdown",
      "metadata": {
        "id": "3WFqfREo42yG"
      },
      "source": [
        "\n",
        "### 1-2.데이터 수집(캐글 데이터셋 이용)"
      ]
    },
    {
      "cell_type": "code",
      "metadata": {
        "id": "CFOwYyT8ssH_",
        "colab": {
          "base_uri": "https://localhost:8080/"
        },
        "outputId": "9ba211c7-4c7c-490b-811a-4e588fbd1788"
      },
      "source": [
        "from google.colab import drive\n",
        "drive.mount('/content/drive')"
      ],
      "execution_count": null,
      "outputs": [
        {
          "output_type": "stream",
          "name": "stdout",
          "text": [
            "Mounted at /content/drive\n"
          ]
        }
      ]
    },
    {
      "cell_type": "code",
      "metadata": {
        "id": "Y50pokk8Yud9"
      },
      "source": [
        "import os\n",
        "os.environ['KAGGLE_CONFIG_DIR'] = '/content/drive/My Drive/Colab Notebooks/.kaggle'\n",
        "# '/content/drive/My Drive/Colab Notebooks' is the path where kaggle.json is present in the Google Drive"
      ],
      "execution_count": null,
      "outputs": []
    },
    {
      "cell_type": "code",
      "metadata": {
        "id": "hCFcw0N0eup8",
        "colab": {
          "base_uri": "https://localhost:8080/"
        },
        "outputId": "cbb450dd-e664-48c1-e390-5458896257fb"
      },
      "source": [
        "# Pima Indian Diabetes 데이터셋 다운로드\n",
        "!kaggle datasets download -d uciml/pima-indians-diabetes-database"
      ],
      "execution_count": null,
      "outputs": [
        {
          "output_type": "stream",
          "name": "stdout",
          "text": [
            "Downloading pima-indians-diabetes-database.zip to /content\n",
            "\r  0% 0.00/8.91k [00:00<?, ?B/s]\n",
            "\r100% 8.91k/8.91k [00:00<00:00, 8.26MB/s]\n"
          ]
        }
      ]
    },
    {
      "cell_type": "code",
      "metadata": {
        "id": "38H7JaIMfRUd",
        "colab": {
          "base_uri": "https://localhost:8080/"
        },
        "outputId": "721c18ec-a9fc-48f4-bb25-8c6997dda27b"
      },
      "source": [
        "# zip파일 압축 해제 후 현재 디렉토리의 파일 리스트 보기\n",
        "!unzip pima-indians-diabetes-database.zip\n",
        "!ls"
      ],
      "execution_count": null,
      "outputs": [
        {
          "output_type": "stream",
          "name": "stdout",
          "text": [
            "Archive:  pima-indians-diabetes-database.zip\n",
            "  inflating: diabetes.csv            \n",
            "diabetes.csv  drive  pima-indians-diabetes-database.zip  sample_data\n"
          ]
        }
      ]
    },
    {
      "cell_type": "markdown",
      "metadata": {
        "id": "vSbC9vr2jI_b"
      },
      "source": [
        "### 1-3.데이터 전처리"
      ]
    },
    {
      "cell_type": "code",
      "metadata": {
        "id": "j4aoKlP0fduQ",
        "colab": {
          "base_uri": "https://localhost:8080/",
          "height": 258
        },
        "outputId": "4477c81d-07b1-4e6f-994c-995cd429837b"
      },
      "source": [
        "import numpy as np\n",
        "import pandas as pd\n",
        "import matplotlib.pyplot as plt\n",
        "%matplotlib inline\n",
        "\n",
        "seed = 7\n",
        "np.random.seed(seed)\n",
        "\n",
        "# csv 파일을 pandas dataframe으로 읽기\n",
        "df = pd.read_csv('diabetes.csv')\n",
        "\n",
        "# Outcome(당뇨:1 당뇨아님:0)행의 value를 count\n",
        "print(df['Outcome'].value_counts())\n",
        "\n",
        "# 상위 5개 행을 출력\n",
        "df.head(5)"
      ],
      "execution_count": null,
      "outputs": [
        {
          "output_type": "stream",
          "name": "stdout",
          "text": [
            "0    500\n",
            "1    268\n",
            "Name: Outcome, dtype: int64\n"
          ]
        },
        {
          "output_type": "execute_result",
          "data": {
            "text/plain": [
              "   Pregnancies  Glucose  BloodPressure  SkinThickness  Insulin   BMI  \\\n",
              "0            6      148             72             35        0  33.6   \n",
              "1            1       85             66             29        0  26.6   \n",
              "2            8      183             64              0        0  23.3   \n",
              "3            1       89             66             23       94  28.1   \n",
              "4            0      137             40             35      168  43.1   \n",
              "\n",
              "   DiabetesPedigreeFunction  Age  Outcome  \n",
              "0                     0.627   50        1  \n",
              "1                     0.351   31        0  \n",
              "2                     0.672   32        1  \n",
              "3                     0.167   21        0  \n",
              "4                     2.288   33        1  "
            ],
            "text/html": [
              "\n",
              "  <div id=\"df-52a53a95-34e5-4868-92fe-eadf764e02bb\">\n",
              "    <div class=\"colab-df-container\">\n",
              "      <div>\n",
              "<style scoped>\n",
              "    .dataframe tbody tr th:only-of-type {\n",
              "        vertical-align: middle;\n",
              "    }\n",
              "\n",
              "    .dataframe tbody tr th {\n",
              "        vertical-align: top;\n",
              "    }\n",
              "\n",
              "    .dataframe thead th {\n",
              "        text-align: right;\n",
              "    }\n",
              "</style>\n",
              "<table border=\"1\" class=\"dataframe\">\n",
              "  <thead>\n",
              "    <tr style=\"text-align: right;\">\n",
              "      <th></th>\n",
              "      <th>Pregnancies</th>\n",
              "      <th>Glucose</th>\n",
              "      <th>BloodPressure</th>\n",
              "      <th>SkinThickness</th>\n",
              "      <th>Insulin</th>\n",
              "      <th>BMI</th>\n",
              "      <th>DiabetesPedigreeFunction</th>\n",
              "      <th>Age</th>\n",
              "      <th>Outcome</th>\n",
              "    </tr>\n",
              "  </thead>\n",
              "  <tbody>\n",
              "    <tr>\n",
              "      <th>0</th>\n",
              "      <td>6</td>\n",
              "      <td>148</td>\n",
              "      <td>72</td>\n",
              "      <td>35</td>\n",
              "      <td>0</td>\n",
              "      <td>33.6</td>\n",
              "      <td>0.627</td>\n",
              "      <td>50</td>\n",
              "      <td>1</td>\n",
              "    </tr>\n",
              "    <tr>\n",
              "      <th>1</th>\n",
              "      <td>1</td>\n",
              "      <td>85</td>\n",
              "      <td>66</td>\n",
              "      <td>29</td>\n",
              "      <td>0</td>\n",
              "      <td>26.6</td>\n",
              "      <td>0.351</td>\n",
              "      <td>31</td>\n",
              "      <td>0</td>\n",
              "    </tr>\n",
              "    <tr>\n",
              "      <th>2</th>\n",
              "      <td>8</td>\n",
              "      <td>183</td>\n",
              "      <td>64</td>\n",
              "      <td>0</td>\n",
              "      <td>0</td>\n",
              "      <td>23.3</td>\n",
              "      <td>0.672</td>\n",
              "      <td>32</td>\n",
              "      <td>1</td>\n",
              "    </tr>\n",
              "    <tr>\n",
              "      <th>3</th>\n",
              "      <td>1</td>\n",
              "      <td>89</td>\n",
              "      <td>66</td>\n",
              "      <td>23</td>\n",
              "      <td>94</td>\n",
              "      <td>28.1</td>\n",
              "      <td>0.167</td>\n",
              "      <td>21</td>\n",
              "      <td>0</td>\n",
              "    </tr>\n",
              "    <tr>\n",
              "      <th>4</th>\n",
              "      <td>0</td>\n",
              "      <td>137</td>\n",
              "      <td>40</td>\n",
              "      <td>35</td>\n",
              "      <td>168</td>\n",
              "      <td>43.1</td>\n",
              "      <td>2.288</td>\n",
              "      <td>33</td>\n",
              "      <td>1</td>\n",
              "    </tr>\n",
              "  </tbody>\n",
              "</table>\n",
              "</div>\n",
              "      <button class=\"colab-df-convert\" onclick=\"convertToInteractive('df-52a53a95-34e5-4868-92fe-eadf764e02bb')\"\n",
              "              title=\"Convert this dataframe to an interactive table.\"\n",
              "              style=\"display:none;\">\n",
              "        \n",
              "  <svg xmlns=\"http://www.w3.org/2000/svg\" height=\"24px\"viewBox=\"0 0 24 24\"\n",
              "       width=\"24px\">\n",
              "    <path d=\"M0 0h24v24H0V0z\" fill=\"none\"/>\n",
              "    <path d=\"M18.56 5.44l.94 2.06.94-2.06 2.06-.94-2.06-.94-.94-2.06-.94 2.06-2.06.94zm-11 1L8.5 8.5l.94-2.06 2.06-.94-2.06-.94L8.5 2.5l-.94 2.06-2.06.94zm10 10l.94 2.06.94-2.06 2.06-.94-2.06-.94-.94-2.06-.94 2.06-2.06.94z\"/><path d=\"M17.41 7.96l-1.37-1.37c-.4-.4-.92-.59-1.43-.59-.52 0-1.04.2-1.43.59L10.3 9.45l-7.72 7.72c-.78.78-.78 2.05 0 2.83L4 21.41c.39.39.9.59 1.41.59.51 0 1.02-.2 1.41-.59l7.78-7.78 2.81-2.81c.8-.78.8-2.07 0-2.86zM5.41 20L4 18.59l7.72-7.72 1.47 1.35L5.41 20z\"/>\n",
              "  </svg>\n",
              "      </button>\n",
              "      \n",
              "  <style>\n",
              "    .colab-df-container {\n",
              "      display:flex;\n",
              "      flex-wrap:wrap;\n",
              "      gap: 12px;\n",
              "    }\n",
              "\n",
              "    .colab-df-convert {\n",
              "      background-color: #E8F0FE;\n",
              "      border: none;\n",
              "      border-radius: 50%;\n",
              "      cursor: pointer;\n",
              "      display: none;\n",
              "      fill: #1967D2;\n",
              "      height: 32px;\n",
              "      padding: 0 0 0 0;\n",
              "      width: 32px;\n",
              "    }\n",
              "\n",
              "    .colab-df-convert:hover {\n",
              "      background-color: #E2EBFA;\n",
              "      box-shadow: 0px 1px 2px rgba(60, 64, 67, 0.3), 0px 1px 3px 1px rgba(60, 64, 67, 0.15);\n",
              "      fill: #174EA6;\n",
              "    }\n",
              "\n",
              "    [theme=dark] .colab-df-convert {\n",
              "      background-color: #3B4455;\n",
              "      fill: #D2E3FC;\n",
              "    }\n",
              "\n",
              "    [theme=dark] .colab-df-convert:hover {\n",
              "      background-color: #434B5C;\n",
              "      box-shadow: 0px 1px 3px 1px rgba(0, 0, 0, 0.15);\n",
              "      filter: drop-shadow(0px 1px 2px rgba(0, 0, 0, 0.3));\n",
              "      fill: #FFFFFF;\n",
              "    }\n",
              "  </style>\n",
              "\n",
              "      <script>\n",
              "        const buttonEl =\n",
              "          document.querySelector('#df-52a53a95-34e5-4868-92fe-eadf764e02bb button.colab-df-convert');\n",
              "        buttonEl.style.display =\n",
              "          google.colab.kernel.accessAllowed ? 'block' : 'none';\n",
              "\n",
              "        async function convertToInteractive(key) {\n",
              "          const element = document.querySelector('#df-52a53a95-34e5-4868-92fe-eadf764e02bb');\n",
              "          const dataTable =\n",
              "            await google.colab.kernel.invokeFunction('convertToInteractive',\n",
              "                                                     [key], {});\n",
              "          if (!dataTable) return;\n",
              "\n",
              "          const docLinkHtml = 'Like what you see? Visit the ' +\n",
              "            '<a target=\"_blank\" href=https://colab.research.google.com/notebooks/data_table.ipynb>data table notebook</a>'\n",
              "            + ' to learn more about interactive tables.';\n",
              "          element.innerHTML = '';\n",
              "          dataTable['output_type'] = 'display_data';\n",
              "          await google.colab.output.renderOutput(dataTable, element);\n",
              "          const docLink = document.createElement('div');\n",
              "          docLink.innerHTML = docLinkHtml;\n",
              "          element.appendChild(docLink);\n",
              "        }\n",
              "      </script>\n",
              "    </div>\n",
              "  </div>\n",
              "  "
            ]
          },
          "metadata": {},
          "execution_count": 5
        }
      ]
    },
    {
      "cell_type": "code",
      "source": [
        "from sklearn.model_selection import train_test_split\n",
        "\n",
        "x = df.iloc[:, :-1]\n",
        "y = df.iloc[:, -1]\n",
        "\n",
        "x_train, x_test, y_train, y_test = train_test_split(x, y, test_size = 0.2, random_state = 156, stratify=y)"
      ],
      "metadata": {
        "id": "qYYDZ6dlB0Gc"
      },
      "execution_count": null,
      "outputs": []
    },
    {
      "cell_type": "code",
      "metadata": {
        "id": "In-IFaMLCjE4",
        "colab": {
          "base_uri": "https://localhost:8080/"
        },
        "outputId": "9abda874-1a5e-4984-833e-f1c82f5279a7"
      },
      "source": [
        "# 0값을 검사할 피처명 리스트 객체 설정\n",
        "zero_features = ['Glucose', 'BloodPressure','SkinThickness','Insulin','BMI']\n",
        "\n",
        "# 전체 데이터 건수\n",
        "total_count = x_train['Glucose'].count()\n",
        "\n",
        "# 피처별로 반복 하면서 데이터 값이 0 인 데이터 건수 추출하고, 퍼센트 계산\n",
        "for feature in zero_features:\n",
        "    zero_count = x_train[x_train[feature]==0][feature].count()\n",
        "    print('{0} 0 건수는 {1}, 퍼센트는 {2:.2f} %'.format(feature, zero_count, 100*zero_count/total_count))"
      ],
      "execution_count": null,
      "outputs": [
        {
          "output_type": "stream",
          "name": "stdout",
          "text": [
            "Glucose 0 건수는 3, 퍼센트는 0.49 %\n",
            "BloodPressure 0 건수는 27, 퍼센트는 4.40 %\n",
            "SkinThickness 0 건수는 176, 퍼센트는 28.66 %\n",
            "Insulin 0 건수는 295, 퍼센트는 48.05 %\n",
            "BMI 0 건수는 7, 퍼센트는 1.14 %\n"
          ]
        }
      ]
    },
    {
      "cell_type": "code",
      "metadata": {
        "id": "pOJPOzWVClVN"
      },
      "source": [
        "# zero_features 리스트 내부에 저장된 개별 피처들에 대해서 0값을 평균 값으로 대체\n",
        "x_train[zero_features]= x_train[zero_features].replace(0, x_train[x_train[zero_features]!=0][zero_features].mean())"
      ],
      "execution_count": null,
      "outputs": []
    },
    {
      "cell_type": "code",
      "metadata": {
        "id": "sX0BMdtUCnuM"
      },
      "source": [
        "from sklearn.preprocessing import StandardScaler\n",
        "\n",
        "# StandardScaler 클래스를 이용해 피처 데이터 세트에 일괄적으로 스케일링 적용\n",
        "scaler = StandardScaler()\n",
        "x_train_scaled = scaler.fit_transform(x_train)"
      ],
      "execution_count": null,
      "outputs": []
    },
    {
      "cell_type": "code",
      "source": [
        "x_train.shape"
      ],
      "metadata": {
        "id": "fv_0j6HAmaoH",
        "colab": {
          "base_uri": "https://localhost:8080/"
        },
        "outputId": "f0d3c106-cfa0-4d2d-f8e0-833c45c38347"
      },
      "execution_count": null,
      "outputs": [
        {
          "output_type": "execute_result",
          "data": {
            "text/plain": [
              "(614, 8)"
            ]
          },
          "metadata": {},
          "execution_count": 10
        }
      ]
    },
    {
      "cell_type": "code",
      "source": [
        "x_test_scaled = scaler.fit_transform(x_test)\n",
        "x_test_scaled.shape"
      ],
      "metadata": {
        "id": "vxUYRa8qmfI5",
        "colab": {
          "base_uri": "https://localhost:8080/"
        },
        "outputId": "cd01892e-26d8-4b77-bebe-5109f7fc502a"
      },
      "execution_count": null,
      "outputs": [
        {
          "output_type": "execute_result",
          "data": {
            "text/plain": [
              "(154, 8)"
            ]
          },
          "metadata": {},
          "execution_count": 12
        }
      ]
    },
    {
      "cell_type": "code",
      "source": [
        "y_test.shape"
      ],
      "metadata": {
        "id": "JxXQZ0s5mjEy",
        "colab": {
          "base_uri": "https://localhost:8080/"
        },
        "outputId": "4b47c15e-e78e-41d4-e1a7-532e56487b07"
      },
      "execution_count": null,
      "outputs": [
        {
          "output_type": "execute_result",
          "data": {
            "text/plain": [
              "(154,)"
            ]
          },
          "metadata": {},
          "execution_count": 13
        }
      ]
    },
    {
      "cell_type": "markdown",
      "metadata": {
        "id": "vj9vlvs6jNjE"
      },
      "source": [
        "### 1-4.모델 학습"
      ]
    },
    {
      "cell_type": "markdown",
      "metadata": {
        "id": "CdTbmSGRFlSX"
      },
      "source": [
        "[Sequential 관련 공식문서](https://www.tensorflow.org/api_docs/python/tf/keras/Sequential)\n",
        "\n",
        "[Dense 관련 공식문서](https://www.tensorflow.org/api_docs/python/tf/keras/layers/Dense)"
      ]
    },
    {
      "cell_type": "code",
      "metadata": {
        "id": "BKoReYamCkXr"
      },
      "source": [
        "from tensorflow import keras\n",
        "from keras.models import Sequential\n",
        "from keras.layers import Dense"
      ],
      "execution_count": null,
      "outputs": []
    },
    {
      "cell_type": "code",
      "source": [
        "x_train.shape"
      ],
      "metadata": {
        "colab": {
          "base_uri": "https://localhost:8080/"
        },
        "id": "FIz0M8HhjtCR",
        "outputId": "76133f75-ce31-494d-9b99-8d962c206b02"
      },
      "execution_count": null,
      "outputs": [
        {
          "output_type": "execute_result",
          "data": {
            "text/plain": [
              "(614, 8)"
            ]
          },
          "metadata": {},
          "execution_count": 18
        }
      ]
    },
    {
      "cell_type": "code",
      "metadata": {
        "id": "_5P-rjg5Ckdq"
      },
      "source": [
        "NB_EPOCHS = 100  # num of epochs\n",
        "BATCH_SIZE = 16\n",
        "\n",
        "## 모델 정의\n",
        "model1 = Sequential()\n",
        "\n",
        "model1.add(Dense(16, input_dim = x_train.shape[-1],activation='relu',kernel_initializer='random_normal'))\n",
        "model1.add(Dense(8, activation='relu'))\n",
        "model1.add(Dense(8, activation='relu'))\n",
        "model1.add(Dense(1, activation='sigmoid'))\n",
        "\n",
        "# 모델 컴파일\n",
        "model1.compile(loss='binary_crossentropy',optimizer='adam',metrics=['accuracy'])"
      ],
      "execution_count": null,
      "outputs": []
    },
    {
      "cell_type": "code",
      "metadata": {
        "id": "2CSggSzWDpow",
        "colab": {
          "base_uri": "https://localhost:8080/"
        },
        "outputId": "5221837e-e068-4749-b1f2-e0c922faafbf"
      },
      "source": [
        "# 모델 학습\n",
        "# verbose: 0 = silent, 1 = progress bar, 2 = one line per epoch\n",
        "history1 = model1.fit(x_train_scaled, y_train, validation_data=(x_test_scaled, y_test),epochs=NB_EPOCHS,batch_size=BATCH_SIZE,verbose=2)"
      ],
      "execution_count": null,
      "outputs": [
        {
          "output_type": "stream",
          "name": "stdout",
          "text": [
            "Epoch 1/100\n",
            "39/39 - 7s - loss: 0.6895 - accuracy: 0.6075 - val_loss: 0.6819 - val_accuracy: 0.7468 - 7s/epoch - 182ms/step\n",
            "Epoch 2/100\n",
            "39/39 - 0s - loss: 0.6669 - accuracy: 0.7557 - val_loss: 0.6620 - val_accuracy: 0.7468 - 158ms/epoch - 4ms/step\n",
            "Epoch 3/100\n",
            "39/39 - 0s - loss: 0.6385 - accuracy: 0.7655 - val_loss: 0.6333 - val_accuracy: 0.7662 - 164ms/epoch - 4ms/step\n",
            "Epoch 4/100\n",
            "39/39 - 0s - loss: 0.6000 - accuracy: 0.7704 - val_loss: 0.5949 - val_accuracy: 0.7597 - 159ms/epoch - 4ms/step\n",
            "Epoch 5/100\n",
            "39/39 - 0s - loss: 0.5476 - accuracy: 0.7638 - val_loss: 0.5457 - val_accuracy: 0.7792 - 162ms/epoch - 4ms/step\n",
            "Epoch 6/100\n",
            "39/39 - 0s - loss: 0.4968 - accuracy: 0.7671 - val_loss: 0.5138 - val_accuracy: 0.7792 - 155ms/epoch - 4ms/step\n",
            "Epoch 7/100\n",
            "39/39 - 0s - loss: 0.4698 - accuracy: 0.7704 - val_loss: 0.5018 - val_accuracy: 0.7792 - 156ms/epoch - 4ms/step\n",
            "Epoch 8/100\n",
            "39/39 - 0s - loss: 0.4628 - accuracy: 0.7769 - val_loss: 0.4950 - val_accuracy: 0.7662 - 166ms/epoch - 4ms/step\n",
            "Epoch 9/100\n",
            "39/39 - 0s - loss: 0.4538 - accuracy: 0.7899 - val_loss: 0.4939 - val_accuracy: 0.7597 - 163ms/epoch - 4ms/step\n",
            "Epoch 10/100\n",
            "39/39 - 0s - loss: 0.4513 - accuracy: 0.7899 - val_loss: 0.4953 - val_accuracy: 0.7662 - 165ms/epoch - 4ms/step\n",
            "Epoch 11/100\n",
            "39/39 - 0s - loss: 0.4490 - accuracy: 0.7850 - val_loss: 0.4945 - val_accuracy: 0.7532 - 156ms/epoch - 4ms/step\n",
            "Epoch 12/100\n",
            "39/39 - 0s - loss: 0.4476 - accuracy: 0.7883 - val_loss: 0.4968 - val_accuracy: 0.7597 - 166ms/epoch - 4ms/step\n",
            "Epoch 13/100\n",
            "39/39 - 0s - loss: 0.4456 - accuracy: 0.7899 - val_loss: 0.4977 - val_accuracy: 0.7532 - 159ms/epoch - 4ms/step\n",
            "Epoch 14/100\n",
            "39/39 - 0s - loss: 0.4435 - accuracy: 0.7883 - val_loss: 0.4976 - val_accuracy: 0.7532 - 166ms/epoch - 4ms/step\n",
            "Epoch 15/100\n",
            "39/39 - 0s - loss: 0.4421 - accuracy: 0.7883 - val_loss: 0.4984 - val_accuracy: 0.7532 - 166ms/epoch - 4ms/step\n",
            "Epoch 16/100\n",
            "39/39 - 0s - loss: 0.4399 - accuracy: 0.7850 - val_loss: 0.4969 - val_accuracy: 0.7597 - 160ms/epoch - 4ms/step\n",
            "Epoch 17/100\n",
            "39/39 - 0s - loss: 0.4403 - accuracy: 0.7818 - val_loss: 0.5002 - val_accuracy: 0.7532 - 150ms/epoch - 4ms/step\n",
            "Epoch 18/100\n",
            "39/39 - 0s - loss: 0.4384 - accuracy: 0.7883 - val_loss: 0.5004 - val_accuracy: 0.7597 - 164ms/epoch - 4ms/step\n",
            "Epoch 19/100\n",
            "39/39 - 0s - loss: 0.4363 - accuracy: 0.7866 - val_loss: 0.5024 - val_accuracy: 0.7532 - 164ms/epoch - 4ms/step\n",
            "Epoch 20/100\n",
            "39/39 - 0s - loss: 0.4349 - accuracy: 0.7834 - val_loss: 0.5023 - val_accuracy: 0.7662 - 212ms/epoch - 5ms/step\n",
            "Epoch 21/100\n",
            "39/39 - 0s - loss: 0.4334 - accuracy: 0.7850 - val_loss: 0.5047 - val_accuracy: 0.7532 - 190ms/epoch - 5ms/step\n",
            "Epoch 22/100\n",
            "39/39 - 0s - loss: 0.4337 - accuracy: 0.7834 - val_loss: 0.5055 - val_accuracy: 0.7597 - 151ms/epoch - 4ms/step\n",
            "Epoch 23/100\n",
            "39/39 - 0s - loss: 0.4309 - accuracy: 0.7883 - val_loss: 0.5086 - val_accuracy: 0.7468 - 157ms/epoch - 4ms/step\n",
            "Epoch 24/100\n",
            "39/39 - 0s - loss: 0.4312 - accuracy: 0.7883 - val_loss: 0.5067 - val_accuracy: 0.7468 - 152ms/epoch - 4ms/step\n",
            "Epoch 25/100\n",
            "39/39 - 0s - loss: 0.4290 - accuracy: 0.7850 - val_loss: 0.5120 - val_accuracy: 0.7468 - 153ms/epoch - 4ms/step\n",
            "Epoch 26/100\n",
            "39/39 - 0s - loss: 0.4279 - accuracy: 0.7915 - val_loss: 0.5103 - val_accuracy: 0.7532 - 155ms/epoch - 4ms/step\n",
            "Epoch 27/100\n",
            "39/39 - 0s - loss: 0.4263 - accuracy: 0.7866 - val_loss: 0.5106 - val_accuracy: 0.7532 - 163ms/epoch - 4ms/step\n",
            "Epoch 28/100\n",
            "39/39 - 0s - loss: 0.4243 - accuracy: 0.7899 - val_loss: 0.5112 - val_accuracy: 0.7532 - 153ms/epoch - 4ms/step\n",
            "Epoch 29/100\n",
            "39/39 - 0s - loss: 0.4236 - accuracy: 0.7964 - val_loss: 0.5139 - val_accuracy: 0.7468 - 158ms/epoch - 4ms/step\n",
            "Epoch 30/100\n",
            "39/39 - 0s - loss: 0.4224 - accuracy: 0.7915 - val_loss: 0.5146 - val_accuracy: 0.7468 - 164ms/epoch - 4ms/step\n",
            "Epoch 31/100\n",
            "39/39 - 0s - loss: 0.4223 - accuracy: 0.7948 - val_loss: 0.5128 - val_accuracy: 0.7468 - 160ms/epoch - 4ms/step\n",
            "Epoch 32/100\n",
            "39/39 - 0s - loss: 0.4217 - accuracy: 0.7899 - val_loss: 0.5165 - val_accuracy: 0.7273 - 163ms/epoch - 4ms/step\n",
            "Epoch 33/100\n",
            "39/39 - 0s - loss: 0.4218 - accuracy: 0.7932 - val_loss: 0.5141 - val_accuracy: 0.7403 - 166ms/epoch - 4ms/step\n",
            "Epoch 34/100\n",
            "39/39 - 0s - loss: 0.4188 - accuracy: 0.7866 - val_loss: 0.5148 - val_accuracy: 0.7403 - 209ms/epoch - 5ms/step\n",
            "Epoch 35/100\n",
            "39/39 - 0s - loss: 0.4171 - accuracy: 0.7932 - val_loss: 0.5183 - val_accuracy: 0.7468 - 165ms/epoch - 4ms/step\n",
            "Epoch 36/100\n",
            "39/39 - 0s - loss: 0.4164 - accuracy: 0.7915 - val_loss: 0.5195 - val_accuracy: 0.7208 - 154ms/epoch - 4ms/step\n",
            "Epoch 37/100\n",
            "39/39 - 0s - loss: 0.4150 - accuracy: 0.7948 - val_loss: 0.5225 - val_accuracy: 0.7403 - 190ms/epoch - 5ms/step\n",
            "Epoch 38/100\n",
            "39/39 - 0s - loss: 0.4157 - accuracy: 0.7915 - val_loss: 0.5203 - val_accuracy: 0.7273 - 244ms/epoch - 6ms/step\n",
            "Epoch 39/100\n",
            "39/39 - 0s - loss: 0.4139 - accuracy: 0.7883 - val_loss: 0.5252 - val_accuracy: 0.7273 - 260ms/epoch - 7ms/step\n",
            "Epoch 40/100\n",
            "39/39 - 0s - loss: 0.4134 - accuracy: 0.7932 - val_loss: 0.5249 - val_accuracy: 0.7403 - 234ms/epoch - 6ms/step\n",
            "Epoch 41/100\n",
            "39/39 - 0s - loss: 0.4105 - accuracy: 0.7932 - val_loss: 0.5224 - val_accuracy: 0.7273 - 229ms/epoch - 6ms/step\n",
            "Epoch 42/100\n",
            "39/39 - 0s - loss: 0.4098 - accuracy: 0.7980 - val_loss: 0.5222 - val_accuracy: 0.7338 - 277ms/epoch - 7ms/step\n",
            "Epoch 43/100\n",
            "39/39 - 0s - loss: 0.4101 - accuracy: 0.7915 - val_loss: 0.5248 - val_accuracy: 0.7338 - 274ms/epoch - 7ms/step\n",
            "Epoch 44/100\n",
            "39/39 - 0s - loss: 0.4106 - accuracy: 0.7932 - val_loss: 0.5241 - val_accuracy: 0.7338 - 267ms/epoch - 7ms/step\n",
            "Epoch 45/100\n",
            "39/39 - 0s - loss: 0.4095 - accuracy: 0.7883 - val_loss: 0.5263 - val_accuracy: 0.7208 - 259ms/epoch - 7ms/step\n",
            "Epoch 46/100\n",
            "39/39 - 0s - loss: 0.4078 - accuracy: 0.7964 - val_loss: 0.5243 - val_accuracy: 0.7273 - 298ms/epoch - 8ms/step\n",
            "Epoch 47/100\n",
            "39/39 - 0s - loss: 0.4049 - accuracy: 0.8029 - val_loss: 0.5273 - val_accuracy: 0.7338 - 253ms/epoch - 6ms/step\n",
            "Epoch 48/100\n",
            "39/39 - 0s - loss: 0.4055 - accuracy: 0.7980 - val_loss: 0.5266 - val_accuracy: 0.7273 - 256ms/epoch - 7ms/step\n",
            "Epoch 49/100\n",
            "39/39 - 0s - loss: 0.4035 - accuracy: 0.7997 - val_loss: 0.5274 - val_accuracy: 0.7403 - 265ms/epoch - 7ms/step\n",
            "Epoch 50/100\n",
            "39/39 - 0s - loss: 0.4056 - accuracy: 0.8029 - val_loss: 0.5255 - val_accuracy: 0.7338 - 234ms/epoch - 6ms/step\n",
            "Epoch 51/100\n",
            "39/39 - 0s - loss: 0.4029 - accuracy: 0.7964 - val_loss: 0.5298 - val_accuracy: 0.7208 - 155ms/epoch - 4ms/step\n",
            "Epoch 52/100\n",
            "39/39 - 0s - loss: 0.4021 - accuracy: 0.7980 - val_loss: 0.5327 - val_accuracy: 0.7338 - 158ms/epoch - 4ms/step\n",
            "Epoch 53/100\n",
            "39/39 - 0s - loss: 0.4014 - accuracy: 0.7997 - val_loss: 0.5304 - val_accuracy: 0.7338 - 147ms/epoch - 4ms/step\n",
            "Epoch 54/100\n",
            "39/39 - 0s - loss: 0.3995 - accuracy: 0.7997 - val_loss: 0.5339 - val_accuracy: 0.7403 - 145ms/epoch - 4ms/step\n",
            "Epoch 55/100\n",
            "39/39 - 0s - loss: 0.3998 - accuracy: 0.7980 - val_loss: 0.5342 - val_accuracy: 0.7403 - 157ms/epoch - 4ms/step\n",
            "Epoch 56/100\n",
            "39/39 - 0s - loss: 0.3990 - accuracy: 0.8029 - val_loss: 0.5338 - val_accuracy: 0.7468 - 161ms/epoch - 4ms/step\n",
            "Epoch 57/100\n",
            "39/39 - 0s - loss: 0.4000 - accuracy: 0.7997 - val_loss: 0.5362 - val_accuracy: 0.7338 - 158ms/epoch - 4ms/step\n",
            "Epoch 58/100\n",
            "39/39 - 0s - loss: 0.3982 - accuracy: 0.7964 - val_loss: 0.5344 - val_accuracy: 0.7338 - 149ms/epoch - 4ms/step\n",
            "Epoch 59/100\n",
            "39/39 - 0s - loss: 0.3964 - accuracy: 0.8013 - val_loss: 0.5356 - val_accuracy: 0.7468 - 150ms/epoch - 4ms/step\n",
            "Epoch 60/100\n",
            "39/39 - 0s - loss: 0.3947 - accuracy: 0.7997 - val_loss: 0.5398 - val_accuracy: 0.7338 - 156ms/epoch - 4ms/step\n",
            "Epoch 61/100\n",
            "39/39 - 0s - loss: 0.3954 - accuracy: 0.8062 - val_loss: 0.5396 - val_accuracy: 0.7403 - 162ms/epoch - 4ms/step\n",
            "Epoch 62/100\n",
            "39/39 - 0s - loss: 0.3938 - accuracy: 0.8062 - val_loss: 0.5357 - val_accuracy: 0.7338 - 157ms/epoch - 4ms/step\n",
            "Epoch 63/100\n",
            "39/39 - 0s - loss: 0.3930 - accuracy: 0.8111 - val_loss: 0.5395 - val_accuracy: 0.7468 - 169ms/epoch - 4ms/step\n",
            "Epoch 64/100\n",
            "39/39 - 0s - loss: 0.3936 - accuracy: 0.8013 - val_loss: 0.5415 - val_accuracy: 0.7403 - 161ms/epoch - 4ms/step\n",
            "Epoch 65/100\n",
            "39/39 - 0s - loss: 0.3914 - accuracy: 0.8046 - val_loss: 0.5421 - val_accuracy: 0.7468 - 164ms/epoch - 4ms/step\n",
            "Epoch 66/100\n",
            "39/39 - 0s - loss: 0.3905 - accuracy: 0.8078 - val_loss: 0.5418 - val_accuracy: 0.7338 - 156ms/epoch - 4ms/step\n",
            "Epoch 67/100\n",
            "39/39 - 0s - loss: 0.3904 - accuracy: 0.8094 - val_loss: 0.5416 - val_accuracy: 0.7468 - 159ms/epoch - 4ms/step\n",
            "Epoch 68/100\n",
            "39/39 - 0s - loss: 0.3917 - accuracy: 0.8029 - val_loss: 0.5442 - val_accuracy: 0.7468 - 156ms/epoch - 4ms/step\n",
            "Epoch 69/100\n",
            "39/39 - 0s - loss: 0.3893 - accuracy: 0.8111 - val_loss: 0.5451 - val_accuracy: 0.7403 - 174ms/epoch - 4ms/step\n",
            "Epoch 70/100\n",
            "39/39 - 0s - loss: 0.3875 - accuracy: 0.8111 - val_loss: 0.5473 - val_accuracy: 0.7532 - 160ms/epoch - 4ms/step\n",
            "Epoch 71/100\n",
            "39/39 - 0s - loss: 0.3869 - accuracy: 0.8127 - val_loss: 0.5463 - val_accuracy: 0.7532 - 145ms/epoch - 4ms/step\n",
            "Epoch 72/100\n",
            "39/39 - 0s - loss: 0.3855 - accuracy: 0.8127 - val_loss: 0.5510 - val_accuracy: 0.7403 - 146ms/epoch - 4ms/step\n",
            "Epoch 73/100\n",
            "39/39 - 0s - loss: 0.3840 - accuracy: 0.8160 - val_loss: 0.5496 - val_accuracy: 0.7532 - 197ms/epoch - 5ms/step\n",
            "Epoch 74/100\n",
            "39/39 - 0s - loss: 0.3860 - accuracy: 0.8176 - val_loss: 0.5567 - val_accuracy: 0.7532 - 160ms/epoch - 4ms/step\n",
            "Epoch 75/100\n",
            "39/39 - 0s - loss: 0.3858 - accuracy: 0.8111 - val_loss: 0.5520 - val_accuracy: 0.7597 - 178ms/epoch - 5ms/step\n",
            "Epoch 76/100\n",
            "39/39 - 0s - loss: 0.3814 - accuracy: 0.8208 - val_loss: 0.5541 - val_accuracy: 0.7468 - 152ms/epoch - 4ms/step\n",
            "Epoch 77/100\n",
            "39/39 - 0s - loss: 0.3816 - accuracy: 0.8208 - val_loss: 0.5564 - val_accuracy: 0.7597 - 143ms/epoch - 4ms/step\n",
            "Epoch 78/100\n",
            "39/39 - 0s - loss: 0.3811 - accuracy: 0.8192 - val_loss: 0.5557 - val_accuracy: 0.7468 - 149ms/epoch - 4ms/step\n",
            "Epoch 79/100\n",
            "39/39 - 0s - loss: 0.3794 - accuracy: 0.8176 - val_loss: 0.5566 - val_accuracy: 0.7338 - 163ms/epoch - 4ms/step\n",
            "Epoch 80/100\n",
            "39/39 - 0s - loss: 0.3783 - accuracy: 0.8160 - val_loss: 0.5628 - val_accuracy: 0.7532 - 166ms/epoch - 4ms/step\n",
            "Epoch 81/100\n",
            "39/39 - 0s - loss: 0.3779 - accuracy: 0.8176 - val_loss: 0.5647 - val_accuracy: 0.7532 - 164ms/epoch - 4ms/step\n",
            "Epoch 82/100\n",
            "39/39 - 0s - loss: 0.3782 - accuracy: 0.8192 - val_loss: 0.5631 - val_accuracy: 0.7597 - 163ms/epoch - 4ms/step\n",
            "Epoch 83/100\n",
            "39/39 - 0s - loss: 0.3768 - accuracy: 0.8241 - val_loss: 0.5671 - val_accuracy: 0.7468 - 148ms/epoch - 4ms/step\n",
            "Epoch 84/100\n",
            "39/39 - 0s - loss: 0.3749 - accuracy: 0.8225 - val_loss: 0.5668 - val_accuracy: 0.7468 - 146ms/epoch - 4ms/step\n",
            "Epoch 85/100\n",
            "39/39 - 0s - loss: 0.3735 - accuracy: 0.8176 - val_loss: 0.5715 - val_accuracy: 0.7468 - 146ms/epoch - 4ms/step\n",
            "Epoch 86/100\n",
            "39/39 - 0s - loss: 0.3725 - accuracy: 0.8176 - val_loss: 0.5702 - val_accuracy: 0.7532 - 198ms/epoch - 5ms/step\n",
            "Epoch 87/100\n",
            "39/39 - 0s - loss: 0.3708 - accuracy: 0.8257 - val_loss: 0.5740 - val_accuracy: 0.7532 - 153ms/epoch - 4ms/step\n",
            "Epoch 88/100\n",
            "39/39 - 0s - loss: 0.3701 - accuracy: 0.8192 - val_loss: 0.5725 - val_accuracy: 0.7468 - 195ms/epoch - 5ms/step\n",
            "Epoch 89/100\n",
            "39/39 - 0s - loss: 0.3694 - accuracy: 0.8322 - val_loss: 0.5709 - val_accuracy: 0.7597 - 160ms/epoch - 4ms/step\n",
            "Epoch 90/100\n",
            "39/39 - 0s - loss: 0.3710 - accuracy: 0.8339 - val_loss: 0.5736 - val_accuracy: 0.7403 - 157ms/epoch - 4ms/step\n",
            "Epoch 91/100\n",
            "39/39 - 0s - loss: 0.3685 - accuracy: 0.8322 - val_loss: 0.5708 - val_accuracy: 0.7532 - 157ms/epoch - 4ms/step\n",
            "Epoch 92/100\n",
            "39/39 - 0s - loss: 0.3680 - accuracy: 0.8388 - val_loss: 0.5736 - val_accuracy: 0.7468 - 204ms/epoch - 5ms/step\n",
            "Epoch 93/100\n",
            "39/39 - 0s - loss: 0.3673 - accuracy: 0.8322 - val_loss: 0.5749 - val_accuracy: 0.7403 - 158ms/epoch - 4ms/step\n",
            "Epoch 94/100\n",
            "39/39 - 0s - loss: 0.3662 - accuracy: 0.8388 - val_loss: 0.5801 - val_accuracy: 0.7403 - 153ms/epoch - 4ms/step\n",
            "Epoch 95/100\n",
            "39/39 - 0s - loss: 0.3671 - accuracy: 0.8306 - val_loss: 0.5793 - val_accuracy: 0.7468 - 157ms/epoch - 4ms/step\n",
            "Epoch 96/100\n",
            "39/39 - 0s - loss: 0.3642 - accuracy: 0.8420 - val_loss: 0.5753 - val_accuracy: 0.7403 - 147ms/epoch - 4ms/step\n",
            "Epoch 97/100\n",
            "39/39 - 0s - loss: 0.3653 - accuracy: 0.8274 - val_loss: 0.5814 - val_accuracy: 0.7403 - 146ms/epoch - 4ms/step\n",
            "Epoch 98/100\n",
            "39/39 - 0s - loss: 0.3646 - accuracy: 0.8355 - val_loss: 0.5799 - val_accuracy: 0.7532 - 156ms/epoch - 4ms/step\n",
            "Epoch 99/100\n",
            "39/39 - 0s - loss: 0.3609 - accuracy: 0.8404 - val_loss: 0.5841 - val_accuracy: 0.7403 - 207ms/epoch - 5ms/step\n",
            "Epoch 100/100\n",
            "39/39 - 0s - loss: 0.3621 - accuracy: 0.8322 - val_loss: 0.5824 - val_accuracy: 0.7468 - 155ms/epoch - 4ms/step\n"
          ]
        }
      ]
    },
    {
      "cell_type": "markdown",
      "metadata": {
        "id": "7w7_sC4tjR_5"
      },
      "source": [
        "### 1-5.모델 예측 및 평가"
      ]
    },
    {
      "cell_type": "code",
      "metadata": {
        "id": "wqqSs6zMKo5D"
      },
      "source": [
        "# 학습 결과 그래프 출력\n",
        "def modelplot(history, data, val_data):\n",
        "  plt.plot(history.history[data])\n",
        "  plt.plot(history.history[val_data])\n",
        "  plt.title('Model'+ data)\n",
        "  plt.ylabel(data)\n",
        "  plt.xlabel('epoch')\n",
        "  plt.legend(['train', 'test'])\n",
        "  plt.show()"
      ],
      "execution_count": null,
      "outputs": []
    },
    {
      "cell_type": "code",
      "metadata": {
        "id": "OA_O2rEAMcug",
        "colab": {
          "base_uri": "https://localhost:8080/",
          "height": 472
        },
        "outputId": "c37af862-6d51-4592-d88b-fb9bcf69ecb3"
      },
      "source": [
        "modelplot(history1, 'loss', 'val_loss')"
      ],
      "execution_count": null,
      "outputs": [
        {
          "output_type": "display_data",
          "data": {
            "text/plain": [
              "<Figure size 640x480 with 1 Axes>"
            ],
            "image/png": "[encoded data removed]"
          },
          "metadata": {}
        }
      ]
    },
    {
      "cell_type": "code",
      "metadata": {
        "id": "05s2wglHMnnt",
        "colab": {
          "base_uri": "https://localhost:8080/",
          "height": 472
        },
        "outputId": "0f75aff0-e75f-44a4-f5d3-d417f4cd607b"
      },
      "source": [
        "modelplot(history1, 'accuracy', 'val_accuracy')"
      ],
      "execution_count": null,
      "outputs": [
        {
          "output_type": "display_data",
          "data": {
            "text/plain": [
              "<Figure size 640x480 with 1 Axes>"
            ],
            "image/png": "[encoded data removed]"
          },
          "metadata": {}
        }
      ]
    },
    {
      "cell_type": "markdown",
      "source": [
        "### 1-6.모델의 과적합 방지하기\n"
      ],
      "metadata": {
        "id": "x37-_mXDDeY0"
      }
    },
    {
      "cell_type": "markdown",
      "source": [
        "\n",
        "#### EarlyStopping\n",
        "    \n",
        "- 모델의 과적합을 막기 위해 매 epoch 마다 검증 데이터에 대한 오류(validation loss)를 측정하여 모델의 훈련 종료를 제어합니다.\n",
        "- 과적합이 발생하기 전 까지 training loss와 validaion loss 둘다 감소하지만, 과적합이 일어나면 training loss는 감소하는 반면에 validation loss는 증가합니다. 이때, early stopping은 validation loss가 증가하는 시점에서 훈련을 멈추도록 조종합니다.\n"
      ],
      "metadata": {
        "id": "FXF_nep_OeRs"
      }
    },
    {
      "cell_type": "code",
      "source": [
        "from keras.callbacks import EarlyStopping\n",
        "\n",
        "custom_early_stopping = EarlyStopping(\n",
        "    monitor='val_loss',  # accuracy도 가능\n",
        "    patience=10,\n",
        "    restore_best_weights=True\n",
        ")"
      ],
      "metadata": {
        "id": "9vfElp8EDiI5"
      },
      "execution_count": null,
      "outputs": []
    },
    {
      "cell_type": "code",
      "metadata": {
        "id": "2akJC4psFNQX"
      },
      "source": [
        "NB_EPOCHS = 100  # num of epochs\n",
        "BATCH_SIZE = 16\n",
        "\n",
        "## 모델 정의\n",
        "model2 = Sequential()\n",
        "\n",
        "model2.add(Dense(16, input_dim=8, kernel_initializer='random_normal', activation='relu'))\n",
        "model2.add(Dense(8, kernel_initializer='random_normal', activation='relu'))\n",
        "model2.add(Dense(8, kernel_initializer='random_normal', activation='relu'))\n",
        "model2.add(Dense(1, kernel_initializer='random_normal', activation='sigmoid'))\n",
        "\n",
        "# 모델 컴파일\n",
        "model2.compile(loss='binary_crossentropy', optimizer='adam', metrics=['accuracy'])"
      ],
      "execution_count": null,
      "outputs": []
    },
    {
      "cell_type": "code",
      "metadata": {
        "id": "xiq8Msn7FNQY",
        "colab": {
          "base_uri": "https://localhost:8080/"
        },
        "outputId": "d09e26db-4b34-4909-f1e4-337b6c5c7a02"
      },
      "source": [
        "# 모델 학습에 early_stopping 추가\n",
        "# verbose: 0 = silent, 1 = progress bar, 2 = one line per epoch\n",
        "history2 = model2.fit(x_train_scaled, y_train,\n",
        "                     validation_data=(x_test_scaled, y_test),\n",
        "                     epochs=NB_EPOCHS, batch_size=BATCH_SIZE,\n",
        "                     verbose=2,\n",
        "                     callbacks=[custom_early_stopping])"
      ],
      "execution_count": null,
      "outputs": [
        {
          "output_type": "stream",
          "name": "stdout",
          "text": [
            "Epoch 1/100\n",
            "39/39 - 2s - loss: 0.6905 - accuracy: 0.6531 - val_loss: 0.6874 - val_accuracy: 0.6494 - 2s/epoch - 55ms/step\n",
            "Epoch 2/100\n",
            "39/39 - 0s - loss: 0.6812 - accuracy: 0.6515 - val_loss: 0.6722 - val_accuracy: 0.6494 - 196ms/epoch - 5ms/step\n",
            "Epoch 3/100\n",
            "39/39 - 0s - loss: 0.6388 - accuracy: 0.6515 - val_loss: 0.6088 - val_accuracy: 0.6494 - 293ms/epoch - 8ms/step\n",
            "Epoch 4/100\n",
            "39/39 - 0s - loss: 0.5509 - accuracy: 0.6515 - val_loss: 0.5515 - val_accuracy: 0.6494 - 263ms/epoch - 7ms/step\n",
            "Epoch 5/100\n",
            "39/39 - 0s - loss: 0.5098 - accuracy: 0.7215 - val_loss: 0.5413 - val_accuracy: 0.7662 - 268ms/epoch - 7ms/step\n",
            "Epoch 6/100\n",
            "39/39 - 0s - loss: 0.4958 - accuracy: 0.7720 - val_loss: 0.5347 - val_accuracy: 0.7662 - 277ms/epoch - 7ms/step\n",
            "Epoch 7/100\n",
            "39/39 - 0s - loss: 0.4836 - accuracy: 0.7590 - val_loss: 0.5282 - val_accuracy: 0.7597 - 270ms/epoch - 7ms/step\n",
            "Epoch 8/100\n",
            "39/39 - 0s - loss: 0.4738 - accuracy: 0.7720 - val_loss: 0.5231 - val_accuracy: 0.7727 - 280ms/epoch - 7ms/step\n",
            "Epoch 9/100\n",
            "39/39 - 0s - loss: 0.4667 - accuracy: 0.7752 - val_loss: 0.5217 - val_accuracy: 0.7727 - 266ms/epoch - 7ms/step\n",
            "Epoch 10/100\n",
            "39/39 - 0s - loss: 0.4624 - accuracy: 0.7687 - val_loss: 0.5224 - val_accuracy: 0.7727 - 275ms/epoch - 7ms/step\n",
            "Epoch 11/100\n",
            "39/39 - 0s - loss: 0.4597 - accuracy: 0.7704 - val_loss: 0.5217 - val_accuracy: 0.7727 - 268ms/epoch - 7ms/step\n",
            "Epoch 12/100\n",
            "39/39 - 0s - loss: 0.4576 - accuracy: 0.7752 - val_loss: 0.5220 - val_accuracy: 0.7597 - 256ms/epoch - 7ms/step\n",
            "Epoch 13/100\n",
            "39/39 - 0s - loss: 0.4547 - accuracy: 0.7736 - val_loss: 0.5214 - val_accuracy: 0.7532 - 273ms/epoch - 7ms/step\n",
            "Epoch 14/100\n",
            "39/39 - 0s - loss: 0.4536 - accuracy: 0.7752 - val_loss: 0.5207 - val_accuracy: 0.7532 - 280ms/epoch - 7ms/step\n",
            "Epoch 15/100\n",
            "39/39 - 0s - loss: 0.4506 - accuracy: 0.7769 - val_loss: 0.5201 - val_accuracy: 0.7597 - 162ms/epoch - 4ms/step\n",
            "Epoch 16/100\n",
            "39/39 - 0s - loss: 0.4510 - accuracy: 0.7818 - val_loss: 0.5203 - val_accuracy: 0.7597 - 145ms/epoch - 4ms/step\n",
            "Epoch 17/100\n",
            "39/39 - 0s - loss: 0.4486 - accuracy: 0.7834 - val_loss: 0.5188 - val_accuracy: 0.7468 - 158ms/epoch - 4ms/step\n",
            "Epoch 18/100\n",
            "39/39 - 0s - loss: 0.4476 - accuracy: 0.7834 - val_loss: 0.5204 - val_accuracy: 0.7468 - 153ms/epoch - 4ms/step\n",
            "Epoch 19/100\n",
            "39/39 - 0s - loss: 0.4467 - accuracy: 0.7818 - val_loss: 0.5184 - val_accuracy: 0.7468 - 165ms/epoch - 4ms/step\n",
            "Epoch 20/100\n",
            "39/39 - 0s - loss: 0.4462 - accuracy: 0.7801 - val_loss: 0.5184 - val_accuracy: 0.7532 - 152ms/epoch - 4ms/step\n",
            "Epoch 21/100\n",
            "39/39 - 0s - loss: 0.4447 - accuracy: 0.7850 - val_loss: 0.5183 - val_accuracy: 0.7532 - 165ms/epoch - 4ms/step\n",
            "Epoch 22/100\n",
            "39/39 - 0s - loss: 0.4440 - accuracy: 0.7834 - val_loss: 0.5184 - val_accuracy: 0.7468 - 153ms/epoch - 4ms/step\n",
            "Epoch 23/100\n",
            "39/39 - 0s - loss: 0.4426 - accuracy: 0.7818 - val_loss: 0.5178 - val_accuracy: 0.7468 - 157ms/epoch - 4ms/step\n",
            "Epoch 24/100\n",
            "39/39 - 0s - loss: 0.4431 - accuracy: 0.7834 - val_loss: 0.5208 - val_accuracy: 0.7403 - 160ms/epoch - 4ms/step\n",
            "Epoch 25/100\n",
            "39/39 - 0s - loss: 0.4420 - accuracy: 0.7818 - val_loss: 0.5164 - val_accuracy: 0.7468 - 152ms/epoch - 4ms/step\n",
            "Epoch 26/100\n",
            "39/39 - 0s - loss: 0.4404 - accuracy: 0.7866 - val_loss: 0.5166 - val_accuracy: 0.7468 - 163ms/epoch - 4ms/step\n",
            "Epoch 27/100\n",
            "39/39 - 0s - loss: 0.4401 - accuracy: 0.7818 - val_loss: 0.5165 - val_accuracy: 0.7468 - 154ms/epoch - 4ms/step\n",
            "Epoch 28/100\n",
            "39/39 - 0s - loss: 0.4387 - accuracy: 0.7834 - val_loss: 0.5160 - val_accuracy: 0.7468 - 154ms/epoch - 4ms/step\n",
            "Epoch 29/100\n",
            "39/39 - 0s - loss: 0.4380 - accuracy: 0.7834 - val_loss: 0.5172 - val_accuracy: 0.7468 - 148ms/epoch - 4ms/step\n",
            "Epoch 30/100\n",
            "39/39 - 0s - loss: 0.4372 - accuracy: 0.7866 - val_loss: 0.5158 - val_accuracy: 0.7468 - 157ms/epoch - 4ms/step\n",
            "Epoch 31/100\n",
            "39/39 - 0s - loss: 0.4373 - accuracy: 0.7866 - val_loss: 0.5163 - val_accuracy: 0.7468 - 188ms/epoch - 5ms/step\n",
            "Epoch 32/100\n",
            "39/39 - 0s - loss: 0.4365 - accuracy: 0.7818 - val_loss: 0.5162 - val_accuracy: 0.7468 - 169ms/epoch - 4ms/step\n",
            "Epoch 33/100\n",
            "39/39 - 0s - loss: 0.4353 - accuracy: 0.7883 - val_loss: 0.5180 - val_accuracy: 0.7468 - 198ms/epoch - 5ms/step\n",
            "Epoch 34/100\n",
            "39/39 - 0s - loss: 0.4348 - accuracy: 0.7801 - val_loss: 0.5162 - val_accuracy: 0.7532 - 163ms/epoch - 4ms/step\n",
            "Epoch 35/100\n",
            "39/39 - 0s - loss: 0.4347 - accuracy: 0.7850 - val_loss: 0.5173 - val_accuracy: 0.7468 - 159ms/epoch - 4ms/step\n",
            "Epoch 36/100\n",
            "39/39 - 0s - loss: 0.4338 - accuracy: 0.7834 - val_loss: 0.5175 - val_accuracy: 0.7532 - 151ms/epoch - 4ms/step\n",
            "Epoch 37/100\n",
            "39/39 - 0s - loss: 0.4335 - accuracy: 0.7850 - val_loss: 0.5157 - val_accuracy: 0.7597 - 155ms/epoch - 4ms/step\n",
            "Epoch 38/100\n",
            "39/39 - 0s - loss: 0.4322 - accuracy: 0.7818 - val_loss: 0.5176 - val_accuracy: 0.7597 - 202ms/epoch - 5ms/step\n",
            "Epoch 39/100\n",
            "39/39 - 0s - loss: 0.4332 - accuracy: 0.7785 - val_loss: 0.5183 - val_accuracy: 0.7597 - 153ms/epoch - 4ms/step\n",
            "Epoch 40/100\n",
            "39/39 - 0s - loss: 0.4325 - accuracy: 0.7818 - val_loss: 0.5158 - val_accuracy: 0.7532 - 158ms/epoch - 4ms/step\n",
            "Epoch 41/100\n",
            "39/39 - 0s - loss: 0.4305 - accuracy: 0.7801 - val_loss: 0.5161 - val_accuracy: 0.7597 - 195ms/epoch - 5ms/step\n",
            "Epoch 42/100\n",
            "39/39 - 0s - loss: 0.4306 - accuracy: 0.7818 - val_loss: 0.5177 - val_accuracy: 0.7532 - 151ms/epoch - 4ms/step\n",
            "Epoch 43/100\n",
            "39/39 - 0s - loss: 0.4299 - accuracy: 0.7785 - val_loss: 0.5179 - val_accuracy: 0.7532 - 178ms/epoch - 5ms/step\n",
            "Epoch 44/100\n",
            "39/39 - 0s - loss: 0.4290 - accuracy: 0.7850 - val_loss: 0.5172 - val_accuracy: 0.7532 - 161ms/epoch - 4ms/step\n",
            "Epoch 45/100\n",
            "39/39 - 0s - loss: 0.4287 - accuracy: 0.7834 - val_loss: 0.5171 - val_accuracy: 0.7597 - 162ms/epoch - 4ms/step\n",
            "Epoch 46/100\n",
            "39/39 - 0s - loss: 0.4282 - accuracy: 0.7883 - val_loss: 0.5194 - val_accuracy: 0.7662 - 154ms/epoch - 4ms/step\n",
            "Epoch 47/100\n",
            "39/39 - 0s - loss: 0.4284 - accuracy: 0.7866 - val_loss: 0.5177 - val_accuracy: 0.7532 - 169ms/epoch - 4ms/step\n"
          ]
        }
      ]
    },
    {
      "cell_type": "code",
      "source": [
        "modelplot(history2, 'loss', 'val_loss')"
      ],
      "metadata": {
        "id": "Tcel0yeHFiaC",
        "colab": {
          "base_uri": "https://localhost:8080/",
          "height": 472
        },
        "outputId": "acf59843-a1e1-4252-9981-56509206c0d7"
      },
      "execution_count": null,
      "outputs": [
        {
          "output_type": "display_data",
          "data": {
            "text/plain": [
              "<Figure size 640x480 with 1 Axes>"
            ],
            "image/png": "[encoded data removed]"
          },
          "metadata": {}
        }
      ]
    },
    {
      "cell_type": "code",
      "source": [
        "modelplot(history2, 'accuracy', 'val_accuracy')"
      ],
      "metadata": {
        "id": "gr7cxR2sFlIQ",
        "colab": {
          "base_uri": "https://localhost:8080/",
          "height": 472
        },
        "outputId": "82c87469-2a74-4234-9003-03abe51a5614"
      },
      "execution_count": null,
      "outputs": [
        {
          "output_type": "display_data",
          "data": {
            "text/plain": [
              "<Figure size 640x480 with 1 Axes>"
            ],
            "image/png": "[encoded data removed]"
          },
          "metadata": {}
        }
      ]
    },
    {
      "cell_type": "code",
      "source": [
        "# model.evaluate로 평가하기\n",
        "score = model2.evaluate(x=x_test_scaled, y=y_test, verbose=1)\n",
        "print('Test loss:', score[0])\n",
        "print('Test accuracy:', score[1])"
      ],
      "metadata": {
        "id": "Xm8_lJMINCFV",
        "colab": {
          "base_uri": "https://localhost:8080/"
        },
        "outputId": "a19da091-beaf-43b8-f7cd-19444bd0cc67"
      },
      "execution_count": null,
      "outputs": [
        {
          "output_type": "stream",
          "name": "stdout",
          "text": [
            "5/5 [==============================] - 0s 4ms/step - loss: 0.5157 - accuracy: 0.7597\n",
            "Test loss: 0.5157171487808228\n",
            "Test accuracy: 0.7597402334213257\n"
          ]
        }
      ]
    },
    {
      "cell_type": "markdown",
      "source": [
        "#### Dropout\n",
        "\n",
        "   <img src=\"https://wikidocs.net/images/page/61374/%EB%93%9C%EB%A1%AD%EC%95%84%EC%9B%83.PNG\">\n",
        "\n",
        "\n",
        "  - 훈련 중에 무작위로 선택된 노드를 무시하는 것으로, 학습 과정에서 신경망의 일부를 사용하지 않는 방법\n",
        "  - 예를 들어, 위의 코드에서는 Dropout의 비율을 0.5로 설정하여 학습 과정마다 랜덤으로 절반의 노드를 탈락시킴.\n",
        "  - 네트워크가 특정 가중치에 덜 민감해지므로 학습 데이터를 과중학습하는 것을 방지함.\n",
        "  - 매번 랜덤 선택으로 노드를 Dropout하므로 서로 다른 신경망들을  사용하는 것 같은 효과를 낼 수 있음."
      ],
      "metadata": {
        "id": "NMMTabGKOmC6"
      }
    },
    {
      "cell_type": "code",
      "source": [
        "from keras.layers import Dropout\n",
        "\n",
        "NB_EPOCHS = 100  # num of epochs\n",
        "BATCH_SIZE = 16\n",
        "\n",
        "## 모델 정의\n",
        "model3 = Sequential()\n",
        "\n",
        "model3.add(Dense(16, input_dim=8, kernel_initializer='random_normal', activation='relu'))\n",
        "model3.add(Dropout(0.5))\n",
        "model3.add(Dense(8, kernel_initializer='random_normal', activation='relu'))\n",
        "model3.add(Dropout(0.5))\n",
        "model3.add(Dense(8, kernel_initializer='random_normal', activation='relu'))\n",
        "model3.add(Dropout(0.5))\n",
        "model3.add(Dense(1, kernel_initializer='random_normal', activation='sigmoid'))\n",
        "\n",
        "# 모델 컴파일\n",
        "model3.compile(loss='binary_crossentropy', optimizer='adam', metrics=['accuracy'])"
      ],
      "metadata": {
        "id": "F_IoMK3iIPSY"
      },
      "execution_count": null,
      "outputs": []
    },
    {
      "cell_type": "code",
      "source": [
        "# 모델 학습\n",
        "history3 = model3.fit(x_train_scaled, y_train,\n",
        "                     validation_data=(x_test_scaled, y_test),\n",
        "                     epochs=NB_EPOCHS, batch_size=BATCH_SIZE,\n",
        "                     verbose=2,\n",
        "                     callbacks=[custom_early_stopping])"
      ],
      "metadata": {
        "id": "uV97h7qUPE3_",
        "colab": {
          "base_uri": "https://localhost:8080/"
        },
        "outputId": "1253c623-8c94-4c2c-c7d4-b41fce83e979"
      },
      "execution_count": null,
      "outputs": [
        {
          "output_type": "stream",
          "name": "stdout",
          "text": [
            "Epoch 1/100\n",
            "39/39 - 2s - loss: 0.6904 - accuracy: 0.6466 - val_loss: 0.6881 - val_accuracy: 0.6494 - 2s/epoch - 48ms/step\n",
            "Epoch 2/100\n",
            "39/39 - 0s - loss: 0.6842 - accuracy: 0.6515 - val_loss: 0.6796 - val_accuracy: 0.6494 - 165ms/epoch - 4ms/step\n",
            "Epoch 3/100\n",
            "39/39 - 0s - loss: 0.6708 - accuracy: 0.6515 - val_loss: 0.6558 - val_accuracy: 0.6494 - 176ms/epoch - 5ms/step\n",
            "Epoch 4/100\n",
            "39/39 - 0s - loss: 0.6303 - accuracy: 0.6547 - val_loss: 0.6046 - val_accuracy: 0.6494 - 169ms/epoch - 4ms/step\n",
            "Epoch 5/100\n",
            "39/39 - 0s - loss: 0.5750 - accuracy: 0.6678 - val_loss: 0.5561 - val_accuracy: 0.6429 - 177ms/epoch - 5ms/step\n",
            "Epoch 6/100\n",
            "39/39 - 0s - loss: 0.5675 - accuracy: 0.6906 - val_loss: 0.5377 - val_accuracy: 0.7532 - 168ms/epoch - 4ms/step\n",
            "Epoch 7/100\n",
            "39/39 - 0s - loss: 0.5487 - accuracy: 0.7215 - val_loss: 0.5286 - val_accuracy: 0.7662 - 166ms/epoch - 4ms/step\n",
            "Epoch 8/100\n",
            "39/39 - 0s - loss: 0.5287 - accuracy: 0.7378 - val_loss: 0.5199 - val_accuracy: 0.7662 - 177ms/epoch - 5ms/step\n",
            "Epoch 9/100\n",
            "39/39 - 0s - loss: 0.5602 - accuracy: 0.7215 - val_loss: 0.5163 - val_accuracy: 0.7792 - 176ms/epoch - 5ms/step\n",
            "Epoch 10/100\n",
            "39/39 - 0s - loss: 0.5272 - accuracy: 0.7362 - val_loss: 0.5143 - val_accuracy: 0.7857 - 270ms/epoch - 7ms/step\n",
            "Epoch 11/100\n",
            "39/39 - 0s - loss: 0.5449 - accuracy: 0.7410 - val_loss: 0.5129 - val_accuracy: 0.7727 - 247ms/epoch - 6ms/step\n",
            "Epoch 12/100\n",
            "39/39 - 0s - loss: 0.5373 - accuracy: 0.7345 - val_loss: 0.5112 - val_accuracy: 0.7922 - 265ms/epoch - 7ms/step\n",
            "Epoch 13/100\n",
            "39/39 - 0s - loss: 0.5375 - accuracy: 0.7459 - val_loss: 0.5101 - val_accuracy: 0.7922 - 278ms/epoch - 7ms/step\n",
            "Epoch 14/100\n",
            "39/39 - 0s - loss: 0.5221 - accuracy: 0.7443 - val_loss: 0.5111 - val_accuracy: 0.7922 - 249ms/epoch - 6ms/step\n",
            "Epoch 15/100\n",
            "39/39 - 0s - loss: 0.5234 - accuracy: 0.7150 - val_loss: 0.5117 - val_accuracy: 0.7857 - 235ms/epoch - 6ms/step\n",
            "Epoch 16/100\n",
            "39/39 - 0s - loss: 0.5201 - accuracy: 0.7524 - val_loss: 0.5117 - val_accuracy: 0.7857 - 269ms/epoch - 7ms/step\n",
            "Epoch 17/100\n",
            "39/39 - 0s - loss: 0.5116 - accuracy: 0.7476 - val_loss: 0.5110 - val_accuracy: 0.7857 - 289ms/epoch - 7ms/step\n",
            "Epoch 18/100\n",
            "39/39 - 0s - loss: 0.5173 - accuracy: 0.7117 - val_loss: 0.5108 - val_accuracy: 0.7792 - 254ms/epoch - 7ms/step\n",
            "Epoch 19/100\n",
            "39/39 - 0s - loss: 0.5445 - accuracy: 0.7248 - val_loss: 0.5143 - val_accuracy: 0.7857 - 231ms/epoch - 6ms/step\n",
            "Epoch 20/100\n",
            "39/39 - 0s - loss: 0.5189 - accuracy: 0.7134 - val_loss: 0.5158 - val_accuracy: 0.7857 - 227ms/epoch - 6ms/step\n",
            "Epoch 21/100\n",
            "39/39 - 0s - loss: 0.5209 - accuracy: 0.7296 - val_loss: 0.5163 - val_accuracy: 0.7792 - 270ms/epoch - 7ms/step\n",
            "Epoch 22/100\n",
            "39/39 - 0s - loss: 0.5057 - accuracy: 0.7296 - val_loss: 0.5165 - val_accuracy: 0.7662 - 275ms/epoch - 7ms/step\n",
            "Epoch 23/100\n",
            "39/39 - 0s - loss: 0.5174 - accuracy: 0.7313 - val_loss: 0.5154 - val_accuracy: 0.7727 - 180ms/epoch - 5ms/step\n"
          ]
        }
      ]
    },
    {
      "cell_type": "code",
      "source": [
        "modelplot(history3, 'loss', 'val_loss')"
      ],
      "metadata": {
        "id": "TYtBbHEyPE6c",
        "colab": {
          "base_uri": "https://localhost:8080/",
          "height": 472
        },
        "outputId": "1678d957-4646-4a89-c8b2-fc4ca7e57f04"
      },
      "execution_count": null,
      "outputs": [
        {
          "output_type": "display_data",
          "data": {
            "text/plain": [
              "<Figure size 640x480 with 1 Axes>"
            ],
            "image/png": "[encoded data removed]"
          },
          "metadata": {}
        }
      ]
    },
    {
      "cell_type": "code",
      "source": [
        "modelplot(history3, 'accuracy', 'val_accuracy')"
      ],
      "metadata": {
        "id": "xhaSCHOWPE83",
        "colab": {
          "base_uri": "https://localhost:8080/",
          "height": 472
        },
        "outputId": "2e540e5d-9e01-4d27-9cfe-271ae429caf5"
      },
      "execution_count": null,
      "outputs": [
        {
          "output_type": "display_data",
          "data": {
            "text/plain": [
              "<Figure size 640x480 with 1 Axes>"
            ],
            "image/png": "[encoded data removed]"
          },
          "metadata": {}
        }
      ]
    },
    {
      "cell_type": "code",
      "source": [
        "# model.evaluate로 평가하기\n",
        "score = model3.evaluate(x=x_test_scaled, y=y_test, verbose=1)\n",
        "print('Test loss:', score[0])\n",
        "print('Test accuracy:', score[1])"
      ],
      "metadata": {
        "id": "__83RHSLPE_6",
        "colab": {
          "base_uri": "https://localhost:8080/"
        },
        "outputId": "ace501e7-cbe0-4b37-c309-0b800842a419"
      },
      "execution_count": null,
      "outputs": [
        {
          "output_type": "stream",
          "name": "stdout",
          "text": [
            "5/5 [==============================] - 0s 3ms/step - loss: 0.5101 - accuracy: 0.7922\n",
            "Test loss: 0.5101328492164612\n",
            "Test accuracy: 0.7922077775001526\n"
          ]
        }
      ]
    },
    {
      "cell_type": "markdown",
      "source": [
        "### 1-7.모델의 크기 늘이기"
      ],
      "metadata": {
        "id": "0fsASgbcQlsj"
      }
    },
    {
      "cell_type": "code",
      "source": [
        "NB_EPOCHS = 100  # num of epochs\n",
        "BATCH_SIZE = 16\n",
        "\n",
        "## 모델 정의\n",
        "model4 = Sequential()\n",
        "\n",
        "model4.add(Dense(128, input_dim=8, kernel_initializer='random_normal', activation='relu'))\n",
        "model4.add(Dropout(0.5))\n",
        "model4.add(Dense(64, kernel_initializer='random_normal', activation='relu'))\n",
        "model4.add(Dropout(0.5))\n",
        "model4.add(Dense(64, kernel_initializer='random_normal', activation='relu'))\n",
        "model4.add(Dropout(0.5))\n",
        "model4.add(Dense(8, kernel_initializer='random_normal', activation='relu'))\n",
        "model4.add(Dropout(0.5))\n",
        "model4.add(Dense(1, kernel_initializer='random_normal', activation='sigmoid'))\n",
        "\n",
        "# 모델 컴파일\n",
        "model4.compile(loss='binary_crossentropy', optimizer='adam', metrics=['accuracy'])"
      ],
      "metadata": {
        "id": "4bQQneiPQtOD"
      },
      "execution_count": null,
      "outputs": []
    },
    {
      "cell_type": "code",
      "source": [
        "# 모델 학습\n",
        "history4 = model4.fit(x_train_scaled, y_train,\n",
        "                     validation_data=(x_test_scaled, y_test),\n",
        "                     epochs=NB_EPOCHS, batch_size=BATCH_SIZE,\n",
        "                     verbose=2,\n",
        "                     callbacks=[custom_early_stopping])"
      ],
      "metadata": {
        "id": "WPyKvS7mQ_Jn",
        "colab": {
          "base_uri": "https://localhost:8080/"
        },
        "outputId": "ee7cac9f-05e1-4daa-e81b-1973ece0ce28"
      },
      "execution_count": null,
      "outputs": [
        {
          "output_type": "stream",
          "name": "stdout",
          "text": [
            "Epoch 1/100\n",
            "39/39 - 4s - loss: 0.6903 - accuracy: 0.6466 - val_loss: 0.6868 - val_accuracy: 0.6494 - 4s/epoch - 93ms/step\n",
            "Epoch 2/100\n",
            "39/39 - 0s - loss: 0.6696 - accuracy: 0.6515 - val_loss: 0.6198 - val_accuracy: 0.6494 - 294ms/epoch - 8ms/step\n",
            "Epoch 3/100\n",
            "39/39 - 0s - loss: 0.5754 - accuracy: 0.6515 - val_loss: 0.5503 - val_accuracy: 0.6494 - 177ms/epoch - 5ms/step\n",
            "Epoch 4/100\n",
            "39/39 - 0s - loss: 0.5538 - accuracy: 0.6515 - val_loss: 0.5471 - val_accuracy: 0.6494 - 180ms/epoch - 5ms/step\n",
            "Epoch 5/100\n",
            "39/39 - 0s - loss: 0.5333 - accuracy: 0.6759 - val_loss: 0.5421 - val_accuracy: 0.7727 - 176ms/epoch - 5ms/step\n",
            "Epoch 6/100\n",
            "39/39 - 0s - loss: 0.5172 - accuracy: 0.7313 - val_loss: 0.5315 - val_accuracy: 0.7857 - 181ms/epoch - 5ms/step\n",
            "Epoch 7/100\n",
            "39/39 - 0s - loss: 0.5175 - accuracy: 0.7622 - val_loss: 0.5165 - val_accuracy: 0.7987 - 172ms/epoch - 4ms/step\n",
            "Epoch 8/100\n",
            "39/39 - 0s - loss: 0.5173 - accuracy: 0.7671 - val_loss: 0.5230 - val_accuracy: 0.7468 - 179ms/epoch - 5ms/step\n",
            "Epoch 9/100\n",
            "39/39 - 0s - loss: 0.5057 - accuracy: 0.7622 - val_loss: 0.5200 - val_accuracy: 0.7727 - 174ms/epoch - 4ms/step\n",
            "Epoch 10/100\n",
            "39/39 - 0s - loss: 0.5113 - accuracy: 0.7720 - val_loss: 0.5275 - val_accuracy: 0.7468 - 170ms/epoch - 4ms/step\n",
            "Epoch 11/100\n",
            "39/39 - 0s - loss: 0.4945 - accuracy: 0.7948 - val_loss: 0.5241 - val_accuracy: 0.7403 - 176ms/epoch - 5ms/step\n",
            "Epoch 12/100\n",
            "39/39 - 0s - loss: 0.5132 - accuracy: 0.7671 - val_loss: 0.5176 - val_accuracy: 0.7727 - 177ms/epoch - 5ms/step\n",
            "Epoch 13/100\n",
            "39/39 - 0s - loss: 0.4963 - accuracy: 0.7785 - val_loss: 0.5232 - val_accuracy: 0.7468 - 187ms/epoch - 5ms/step\n",
            "Epoch 14/100\n",
            "39/39 - 0s - loss: 0.5078 - accuracy: 0.7818 - val_loss: 0.5268 - val_accuracy: 0.7532 - 176ms/epoch - 5ms/step\n",
            "Epoch 15/100\n",
            "39/39 - 0s - loss: 0.5181 - accuracy: 0.7720 - val_loss: 0.5249 - val_accuracy: 0.7532 - 170ms/epoch - 4ms/step\n",
            "Epoch 16/100\n",
            "39/39 - 0s - loss: 0.4578 - accuracy: 0.7752 - val_loss: 0.5204 - val_accuracy: 0.7597 - 179ms/epoch - 5ms/step\n",
            "Epoch 17/100\n",
            "39/39 - 0s - loss: 0.5065 - accuracy: 0.7834 - val_loss: 0.5234 - val_accuracy: 0.7403 - 207ms/epoch - 5ms/step\n"
          ]
        }
      ]
    },
    {
      "cell_type": "code",
      "source": [
        "modelplot(history4, 'loss', 'val_loss')"
      ],
      "metadata": {
        "id": "qXK826VrQ_L0",
        "colab": {
          "base_uri": "https://localhost:8080/",
          "height": 472
        },
        "outputId": "51215766-24b0-437d-da62-994a2e5e8f6a"
      },
      "execution_count": null,
      "outputs": [
        {
          "output_type": "display_data",
          "data": {
            "text/plain": [
              "<Figure size 640x480 with 1 Axes>"
            ],
            "image/png": "[encoded data removed]"
          },
          "metadata": {}
        }
      ]
    },
    {
      "cell_type": "code",
      "source": [
        "modelplot(history4, 'accuracy', 'val_accuracy')"
      ],
      "metadata": {
        "id": "WbNjodARQ_Oc",
        "colab": {
          "base_uri": "https://localhost:8080/",
          "height": 472
        },
        "outputId": "f6bf816d-21eb-4bbc-b1be-635d4676786d"
      },
      "execution_count": null,
      "outputs": [
        {
          "output_type": "display_data",
          "data": {
            "text/plain": [
              "<Figure size 640x480 with 1 Axes>"
            ],
            "image/png": "[encoded data removed]"
          },
          "metadata": {}
        }
      ]
    },
    {
      "cell_type": "code",
      "source": [
        "# model.evaluate로 평가하기\n",
        "score = model4.evaluate(x=x_test_scaled, y=y_test, verbose=1)\n",
        "print('Test loss:', score[0])\n",
        "print('Test accuracy:', score[1])"
      ],
      "metadata": {
        "id": "ISegkRWgRLC2",
        "colab": {
          "base_uri": "https://localhost:8080/"
        },
        "outputId": "a6422af3-9d0a-45d5-d40e-e66463cfd18e"
      },
      "execution_count": null,
      "outputs": [
        {
          "output_type": "stream",
          "name": "stdout",
          "text": [
            "5/5 [==============================] - 0s 3ms/step - loss: 0.5165 - accuracy: 0.7987\n",
            "Test loss: 0.5165408849716187\n",
            "Test accuracy: 0.798701286315918\n"
          ]
        }
      ]
    },
    {
      "cell_type": "markdown",
      "metadata": {
        "id": "9HOvl3_vR5OF"
      },
      "source": [
        "--------------\n",
        "## 2.딥러닝 모델로 다중 분류 문제 해결하기\n"
      ]
    },
    {
      "cell_type": "markdown",
      "metadata": {
        "id": "g_DpzIgcR5OG"
      },
      "source": [
        "\n",
        "### 2-1.문제 정의(분류 문제)\n",
        "\n",
        "- H-R도\n",
        "\n",
        "<img src=\"https://www.sciencetimes.co.kr/wp-content/uploads/2022/03/Screen-Shot-2022-03-13-at-21.37.21-454x480.png\" width=400px>\n"
      ]
    },
    {
      "cell_type": "markdown",
      "metadata": {
        "id": "kP1Vz_U6R5OG"
      },
      "source": [
        "\n",
        "### 2-2.데이터 수집(캐글 데이터셋 이용)"
      ]
    },
    {
      "cell_type": "code",
      "metadata": {
        "id": "O3VQ0Bl4R5OG",
        "colab": {
          "base_uri": "https://localhost:8080/"
        },
        "outputId": "c8bec313-be99-49d6-f61a-fab597be0813"
      },
      "source": [
        "from google.colab import drive\n",
        "drive.mount('/content/drive')"
      ],
      "execution_count": null,
      "outputs": [
        {
          "output_type": "stream",
          "name": "stdout",
          "text": [
            "Drive already mounted at /content/drive; to attempt to forcibly remount, call drive.mount(\"/content/drive\", force_remount=True).\n"
          ]
        }
      ]
    },
    {
      "cell_type": "code",
      "metadata": {
        "id": "3Yh0ZYMnR5OH"
      },
      "source": [
        "import os\n",
        "os.environ['KAGGLE_CONFIG_DIR'] = '/content/drive/My Drive/Colab Notebooks/.kaggle'"
      ],
      "execution_count": null,
      "outputs": []
    },
    {
      "cell_type": "code",
      "metadata": {
        "id": "4nCC9aSVR5OH",
        "colab": {
          "base_uri": "https://localhost:8080/"
        },
        "outputId": "079045b3-f13d-4b65-89d5-c450a53ffe9a"
      },
      "source": [
        "# 데이터셋 다운로드\n",
        "!kaggle datasets download -d deepu1109/star-dataset"
      ],
      "execution_count": null,
      "outputs": [
        {
          "output_type": "stream",
          "name": "stdout",
          "text": [
            "Downloading star-dataset.zip to /content\n",
            "\r  0% 0.00/3.16k [00:00<?, ?B/s]\n",
            "\r100% 3.16k/3.16k [00:00<00:00, 3.57MB/s]\n"
          ]
        }
      ]
    },
    {
      "cell_type": "code",
      "metadata": {
        "id": "t0PV5XvOR5OH",
        "colab": {
          "base_uri": "https://localhost:8080/"
        },
        "outputId": "35ba5dd9-4f80-4013-87af-adf422853fee"
      },
      "source": [
        "# zip파일 압축 해제 후 현재 디렉토리의 파일 리스트 보기\n",
        "!unzip star-dataset.zip\n",
        "!ls"
      ],
      "execution_count": null,
      "outputs": [
        {
          "output_type": "stream",
          "name": "stdout",
          "text": [
            "Archive:  star-dataset.zip\n",
            "  inflating: 6 class csv.csv         \n",
            "'6 class csv.csv'   drive\t\t\t\t sample_data\n",
            " diabetes.csv\t    pima-indians-diabetes-database.zip\t star-dataset.zip\n"
          ]
        }
      ]
    },
    {
      "cell_type": "markdown",
      "metadata": {
        "id": "xBQ-7XmqR5OI"
      },
      "source": [
        "### 2-3.데이터 전처리"
      ]
    },
    {
      "cell_type": "code",
      "metadata": {
        "id": "S0iYlYncR5OI",
        "colab": {
          "base_uri": "https://localhost:8080/",
          "height": 206
        },
        "outputId": "5319eb63-f542-4584-9fc2-923fb6bb392e"
      },
      "source": [
        "import numpy as np\n",
        "import pandas as pd\n",
        "import matplotlib.pyplot as plt\n",
        "%matplotlib inline\n",
        "\n",
        "seed = 7\n",
        "np.random.seed(seed)\n",
        "\n",
        "# csv 파일을 pandas dataframe으로 읽기\n",
        "df = pd.read_csv('6 class csv.csv')\n",
        "\n",
        "# 상위 5개 행을 출력\n",
        "df.head(5)"
      ],
      "execution_count": null,
      "outputs": [
        {
          "output_type": "execute_result",
          "data": {
            "text/plain": [
              "   Temperature (K)  Luminosity(L/Lo)  Radius(R/Ro)  Absolute magnitude(Mv)  \\\n",
              "0             3068          0.002400        0.1700                   16.12   \n",
              "1             3042          0.000500        0.1542                   16.60   \n",
              "2             2600          0.000300        0.1020                   18.70   \n",
              "3             2800          0.000200        0.1600                   16.65   \n",
              "4             1939          0.000138        0.1030                   20.06   \n",
              "\n",
              "   Star type Star color Spectral Class  \n",
              "0          0        Red              M  \n",
              "1          0        Red              M  \n",
              "2          0        Red              M  \n",
              "3          0        Red              M  \n",
              "4          0        Red              M  "
            ],
            "text/html": [
              "\n",
              "  <div id=\"df-04957a77-7bbe-4352-9f1b-e6cac23c3af8\">\n",
              "    <div class=\"colab-df-container\">\n",
              "      <div>\n",
              "<style scoped>\n",
              "    .dataframe tbody tr th:only-of-type {\n",
              "        vertical-align: middle;\n",
              "    }\n",
              "\n",
              "    .dataframe tbody tr th {\n",
              "        vertical-align: top;\n",
              "    }\n",
              "\n",
              "    .dataframe thead th {\n",
              "        text-align: right;\n",
              "    }\n",
              "</style>\n",
              "<table border=\"1\" class=\"dataframe\">\n",
              "  <thead>\n",
              "    <tr style=\"text-align: right;\">\n",
              "      <th></th>\n",
              "      <th>Temperature (K)</th>\n",
              "      <th>Luminosity(L/Lo)</th>\n",
              "      <th>Radius(R/Ro)</th>\n",
              "      <th>Absolute magnitude(Mv)</th>\n",
              "      <th>Star type</th>\n",
              "      <th>Star color</th>\n",
              "      <th>Spectral Class</th>\n",
              "    </tr>\n",
              "  </thead>\n",
              "  <tbody>\n",
              "    <tr>\n",
              "      <th>0</th>\n",
              "      <td>3068</td>\n",
              "      <td>0.002400</td>\n",
              "      <td>0.1700</td>\n",
              "      <td>16.12</td>\n",
              "      <td>0</td>\n",
              "      <td>Red</td>\n",
              "      <td>M</td>\n",
              "    </tr>\n",
              "    <tr>\n",
              "      <th>1</th>\n",
              "      <td>3042</td>\n",
              "      <td>0.000500</td>\n",
              "      <td>0.1542</td>\n",
              "      <td>16.60</td>\n",
              "      <td>0</td>\n",
              "      <td>Red</td>\n",
              "      <td>M</td>\n",
              "    </tr>\n",
              "    <tr>\n",
              "      <th>2</th>\n",
              "      <td>2600</td>\n",
              "      <td>0.000300</td>\n",
              "      <td>0.1020</td>\n",
              "      <td>18.70</td>\n",
              "      <td>0</td>\n",
              "      <td>Red</td>\n",
              "      <td>M</td>\n",
              "    </tr>\n",
              "    <tr>\n",
              "      <th>3</th>\n",
              "      <td>2800</td>\n",
              "      <td>0.000200</td>\n",
              "      <td>0.1600</td>\n",
              "      <td>16.65</td>\n",
              "      <td>0</td>\n",
              "      <td>Red</td>\n",
              "      <td>M</td>\n",
              "    </tr>\n",
              "    <tr>\n",
              "      <th>4</th>\n",
              "      <td>1939</td>\n",
              "      <td>0.000138</td>\n",
              "      <td>0.1030</td>\n",
              "      <td>20.06</td>\n",
              "      <td>0</td>\n",
              "      <td>Red</td>\n",
              "      <td>M</td>\n",
              "    </tr>\n",
              "  </tbody>\n",
              "</table>\n",
              "</div>\n",
              "      <button class=\"colab-df-convert\" onclick=\"convertToInteractive('df-04957a77-7bbe-4352-9f1b-e6cac23c3af8')\"\n",
              "              title=\"Convert this dataframe to an interactive table.\"\n",
              "              style=\"display:none;\">\n",
              "        \n",
              "  <svg xmlns=\"http://www.w3.org/2000/svg\" height=\"24px\"viewBox=\"0 0 24 24\"\n",
              "       width=\"24px\">\n",
              "    <path d=\"M0 0h24v24H0V0z\" fill=\"none\"/>\n",
              "    <path d=\"M18.56 5.44l.94 2.06.94-2.06 2.06-.94-2.06-.94-.94-2.06-.94 2.06-2.06.94zm-11 1L8.5 8.5l.94-2.06 2.06-.94-2.06-.94L8.5 2.5l-.94 2.06-2.06.94zm10 10l.94 2.06.94-2.06 2.06-.94-2.06-.94-.94-2.06-.94 2.06-2.06.94z\"/><path d=\"M17.41 7.96l-1.37-1.37c-.4-.4-.92-.59-1.43-.59-.52 0-1.04.2-1.43.59L10.3 9.45l-7.72 7.72c-.78.78-.78 2.05 0 2.83L4 21.41c.39.39.9.59 1.41.59.51 0 1.02-.2 1.41-.59l7.78-7.78 2.81-2.81c.8-.78.8-2.07 0-2.86zM5.41 20L4 18.59l7.72-7.72 1.47 1.35L5.41 20z\"/>\n",
              "  </svg>\n",
              "      </button>\n",
              "      \n",
              "  <style>\n",
              "    .colab-df-container {\n",
              "      display:flex;\n",
              "      flex-wrap:wrap;\n",
              "      gap: 12px;\n",
              "    }\n",
              "\n",
              "    .colab-df-convert {\n",
              "      background-color: #E8F0FE;\n",
              "      border: none;\n",
              "      border-radius: 50%;\n",
              "      cursor: pointer;\n",
              "      display: none;\n",
              "      fill: #1967D2;\n",
              "      height: 32px;\n",
              "      padding: 0 0 0 0;\n",
              "      width: 32px;\n",
              "    }\n",
              "\n",
              "    .colab-df-convert:hover {\n",
              "      background-color: #E2EBFA;\n",
              "      box-shadow: 0px 1px 2px rgba(60, 64, 67, 0.3), 0px 1px 3px 1px rgba(60, 64, 67, 0.15);\n",
              "      fill: #174EA6;\n",
              "    }\n",
              "\n",
              "    [theme=dark] .colab-df-convert {\n",
              "      background-color: #3B4455;\n",
              "      fill: #D2E3FC;\n",
              "    }\n",
              "\n",
              "    [theme=dark] .colab-df-convert:hover {\n",
              "      background-color: #434B5C;\n",
              "      box-shadow: 0px 1px 3px 1px rgba(0, 0, 0, 0.15);\n",
              "      filter: drop-shadow(0px 1px 2px rgba(0, 0, 0, 0.3));\n",
              "      fill: #FFFFFF;\n",
              "    }\n",
              "  </style>\n",
              "\n",
              "      <script>\n",
              "        const buttonEl =\n",
              "          document.querySelector('#df-04957a77-7bbe-4352-9f1b-e6cac23c3af8 button.colab-df-convert');\n",
              "        buttonEl.style.display =\n",
              "          google.colab.kernel.accessAllowed ? 'block' : 'none';\n",
              "\n",
              "        async function convertToInteractive(key) {\n",
              "          const element = document.querySelector('#df-04957a77-7bbe-4352-9f1b-e6cac23c3af8');\n",
              "          const dataTable =\n",
              "            await google.colab.kernel.invokeFunction('convertToInteractive',\n",
              "                                                     [key], {});\n",
              "          if (!dataTable) return;\n",
              "\n",
              "          const docLinkHtml = 'Like what you see? Visit the ' +\n",
              "            '<a target=\"_blank\" href=https://colab.research.google.com/notebooks/data_table.ipynb>data table notebook</a>'\n",
              "            + ' to learn more about interactive tables.';\n",
              "          element.innerHTML = '';\n",
              "          dataTable['output_type'] = 'display_data';\n",
              "          await google.colab.output.renderOutput(dataTable, element);\n",
              "          const docLink = document.createElement('div');\n",
              "          docLink.innerHTML = docLinkHtml;\n",
              "          element.appendChild(docLink);\n",
              "        }\n",
              "      </script>\n",
              "    </div>\n",
              "  </div>\n",
              "  "
            ]
          },
          "metadata": {},
          "execution_count": 46
        }
      ]
    },
    {
      "cell_type": "code",
      "source": [
        "# Star type 칼럼의 value별 count\n",
        "# Brown Dwarf -> Star Type = 0\n",
        "# Red Dwarf -> Star Type = 1\n",
        "# White Dwarf-> Star Type = 2\n",
        "# Main Sequence -> Star Type = 3\n",
        "# Supergiant -> Star Type = 4\n",
        "# Hypergiant -> Star Type = 5\n",
        "\n",
        "# The Luminosity and radius of each star is calculated w.r.t. that of the values of Sun.\n",
        "# Lo = 3.828 x 10^26 Watts\n",
        "# Ro = 6.9551 x 10^8 m\n",
        "print(df['Star type'].value_counts())"
      ],
      "metadata": {
        "id": "wpzuQYL0Sgg1",
        "colab": {
          "base_uri": "https://localhost:8080/"
        },
        "outputId": "4a0182c8-a6cb-4832-e37b-a8e8dad25268"
      },
      "execution_count": null,
      "outputs": [
        {
          "output_type": "stream",
          "name": "stdout",
          "text": [
            "0    40\n",
            "1    40\n",
            "2    40\n",
            "3    40\n",
            "4    40\n",
            "5    40\n",
            "Name: Star type, dtype: int64\n"
          ]
        }
      ]
    },
    {
      "cell_type": "code",
      "source": [
        "# surface temperature: O < B < A < F < G < K < M\n",
        "df['Spectral Class'].value_counts()"
      ],
      "metadata": {
        "id": "48mkGgkCWZZg",
        "colab": {
          "base_uri": "https://localhost:8080/"
        },
        "outputId": "2db7698b-9d8f-4f64-b141-788927e87afe"
      },
      "execution_count": null,
      "outputs": [
        {
          "output_type": "execute_result",
          "data": {
            "text/plain": [
              "M    111\n",
              "B     46\n",
              "O     40\n",
              "A     19\n",
              "F     17\n",
              "K      6\n",
              "G      1\n",
              "Name: Spectral Class, dtype: int64"
            ]
          },
          "metadata": {},
          "execution_count": 48
        }
      ]
    },
    {
      "cell_type": "code",
      "source": [
        "df['Star color'].value_counts()"
      ],
      "metadata": {
        "id": "oW7PwQA0Xay4",
        "colab": {
          "base_uri": "https://localhost:8080/"
        },
        "outputId": "4687df1f-c5e6-4961-f4bc-57f3484803b3"
      },
      "execution_count": null,
      "outputs": [
        {
          "output_type": "execute_result",
          "data": {
            "text/plain": [
              "Red                   112\n",
              "Blue                   55\n",
              "Blue-white             26\n",
              "Blue White             10\n",
              "yellow-white            8\n",
              "White                   7\n",
              "Blue white              3\n",
              "Yellowish White         3\n",
              "white                   3\n",
              "Whitish                 2\n",
              "Orange                  2\n",
              "yellowish               2\n",
              "Pale yellow orange      1\n",
              "White-Yellow            1\n",
              "Blue                    1\n",
              "Yellowish               1\n",
              "Orange-Red              1\n",
              "Blue white              1\n",
              "Blue-White              1\n",
              "Name: Star color, dtype: int64"
            ]
          },
          "metadata": {},
          "execution_count": 49
        }
      ]
    },
    {
      "cell_type": "code",
      "source": [
        "df.info()"
      ],
      "metadata": {
        "id": "JdNmlp25SjLa",
        "colab": {
          "base_uri": "https://localhost:8080/"
        },
        "outputId": "42915a06-dfe2-4b3c-9484-039907ed2027"
      },
      "execution_count": null,
      "outputs": [
        {
          "output_type": "stream",
          "name": "stdout",
          "text": [
            "<class 'pandas.core.frame.DataFrame'>\n",
            "RangeIndex: 240 entries, 0 to 239\n",
            "Data columns (total 7 columns):\n",
            " #   Column                  Non-Null Count  Dtype  \n",
            "---  ------                  --------------  -----  \n",
            " 0   Temperature (K)         240 non-null    int64  \n",
            " 1   Luminosity(L/Lo)        240 non-null    float64\n",
            " 2   Radius(R/Ro)            240 non-null    float64\n",
            " 3   Absolute magnitude(Mv)  240 non-null    float64\n",
            " 4   Star type               240 non-null    int64  \n",
            " 5   Star color              240 non-null    object \n",
            " 6   Spectral Class          240 non-null    object \n",
            "dtypes: float64(3), int64(2), object(2)\n",
            "memory usage: 13.2+ KB\n"
          ]
        }
      ]
    },
    {
      "cell_type": "code",
      "source": [
        "# 칼럼 간 상관관계 확인하기\n",
        "df.corr()"
      ],
      "metadata": {
        "id": "c_O9-mQCXG8z",
        "colab": {
          "base_uri": "https://localhost:8080/",
          "height": 206
        },
        "outputId": "5a6ee066-4767-4bf4-adc5-5a5ad3ea0e6a"
      },
      "execution_count": null,
      "outputs": [
        {
          "output_type": "execute_result",
          "data": {
            "text/plain": [
              "                        Temperature (K)  Luminosity(L/Lo)  Radius(R/Ro)  \\\n",
              "Temperature (K)                1.000000          0.393404      0.064216   \n",
              "Luminosity(L/Lo)               0.393404          1.000000      0.526516   \n",
              "Radius(R/Ro)                   0.064216          0.526516      1.000000   \n",
              "Absolute magnitude(Mv)        -0.420261         -0.692619     -0.608728   \n",
              "Star type                      0.411129          0.676845      0.660975   \n",
              "\n",
              "                        Absolute magnitude(Mv)  Star type  \n",
              "Temperature (K)                      -0.420261   0.411129  \n",
              "Luminosity(L/Lo)                     -0.692619   0.676845  \n",
              "Radius(R/Ro)                         -0.608728   0.660975  \n",
              "Absolute magnitude(Mv)                1.000000  -0.955276  \n",
              "Star type                            -0.955276   1.000000  "
            ],
            "text/html": [
              "\n",
              "  <div id=\"df-747420bc-ad42-420a-9d0a-16381b77d0ec\">\n",
              "    <div class=\"colab-df-container\">\n",
              "      <div>\n",
              "<style scoped>\n",
              "    .dataframe tbody tr th:only-of-type {\n",
              "        vertical-align: middle;\n",
              "    }\n",
              "\n",
              "    .dataframe tbody tr th {\n",
              "        vertical-align: top;\n",
              "    }\n",
              "\n",
              "    .dataframe thead th {\n",
              "        text-align: right;\n",
              "    }\n",
              "</style>\n",
              "<table border=\"1\" class=\"dataframe\">\n",
              "  <thead>\n",
              "    <tr style=\"text-align: right;\">\n",
              "      <th></th>\n",
              "      <th>Temperature (K)</th>\n",
              "      <th>Luminosity(L/Lo)</th>\n",
              "      <th>Radius(R/Ro)</th>\n",
              "      <th>Absolute magnitude(Mv)</th>\n",
              "      <th>Star type</th>\n",
              "    </tr>\n",
              "  </thead>\n",
              "  <tbody>\n",
              "    <tr>\n",
              "      <th>Temperature (K)</th>\n",
              "      <td>1.000000</td>\n",
              "      <td>0.393404</td>\n",
              "      <td>0.064216</td>\n",
              "      <td>-0.420261</td>\n",
              "      <td>0.411129</td>\n",
              "    </tr>\n",
              "    <tr>\n",
              "      <th>Luminosity(L/Lo)</th>\n",
              "      <td>0.393404</td>\n",
              "      <td>1.000000</td>\n",
              "      <td>0.526516</td>\n",
              "      <td>-0.692619</td>\n",
              "      <td>0.676845</td>\n",
              "    </tr>\n",
              "    <tr>\n",
              "      <th>Radius(R/Ro)</th>\n",
              "      <td>0.064216</td>\n",
              "      <td>0.526516</td>\n",
              "      <td>1.000000</td>\n",
              "      <td>-0.608728</td>\n",
              "      <td>0.660975</td>\n",
              "    </tr>\n",
              "    <tr>\n",
              "      <th>Absolute magnitude(Mv)</th>\n",
              "      <td>-0.420261</td>\n",
              "      <td>-0.692619</td>\n",
              "      <td>-0.608728</td>\n",
              "      <td>1.000000</td>\n",
              "      <td>-0.955276</td>\n",
              "    </tr>\n",
              "    <tr>\n",
              "      <th>Star type</th>\n",
              "      <td>0.411129</td>\n",
              "      <td>0.676845</td>\n",
              "      <td>0.660975</td>\n",
              "      <td>-0.955276</td>\n",
              "      <td>1.000000</td>\n",
              "    </tr>\n",
              "  </tbody>\n",
              "</table>\n",
              "</div>\n",
              "      <button class=\"colab-df-convert\" onclick=\"convertToInteractive('df-747420bc-ad42-420a-9d0a-16381b77d0ec')\"\n",
              "              title=\"Convert this dataframe to an interactive table.\"\n",
              "              style=\"display:none;\">\n",
              "        \n",
              "  <svg xmlns=\"http://www.w3.org/2000/svg\" height=\"24px\"viewBox=\"0 0 24 24\"\n",
              "       width=\"24px\">\n",
              "    <path d=\"M0 0h24v24H0V0z\" fill=\"none\"/>\n",
              "    <path d=\"M18.56 5.44l.94 2.06.94-2.06 2.06-.94-2.06-.94-.94-2.06-.94 2.06-2.06.94zm-11 1L8.5 8.5l.94-2.06 2.06-.94-2.06-.94L8.5 2.5l-.94 2.06-2.06.94zm10 10l.94 2.06.94-2.06 2.06-.94-2.06-.94-.94-2.06-.94 2.06-2.06.94z\"/><path d=\"M17.41 7.96l-1.37-1.37c-.4-.4-.92-.59-1.43-.59-.52 0-1.04.2-1.43.59L10.3 9.45l-7.72 7.72c-.78.78-.78 2.05 0 2.83L4 21.41c.39.39.9.59 1.41.59.51 0 1.02-.2 1.41-.59l7.78-7.78 2.81-2.81c.8-.78.8-2.07 0-2.86zM5.41 20L4 18.59l7.72-7.72 1.47 1.35L5.41 20z\"/>\n",
              "  </svg>\n",
              "      </button>\n",
              "      \n",
              "  <style>\n",
              "    .colab-df-container {\n",
              "      display:flex;\n",
              "      flex-wrap:wrap;\n",
              "      gap: 12px;\n",
              "    }\n",
              "\n",
              "    .colab-df-convert {\n",
              "      background-color: #E8F0FE;\n",
              "      border: none;\n",
              "      border-radius: 50%;\n",
              "      cursor: pointer;\n",
              "      display: none;\n",
              "      fill: #1967D2;\n",
              "      height: 32px;\n",
              "      padding: 0 0 0 0;\n",
              "      width: 32px;\n",
              "    }\n",
              "\n",
              "    .colab-df-convert:hover {\n",
              "      background-color: #E2EBFA;\n",
              "      box-shadow: 0px 1px 2px rgba(60, 64, 67, 0.3), 0px 1px 3px 1px rgba(60, 64, 67, 0.15);\n",
              "      fill: #174EA6;\n",
              "    }\n",
              "\n",
              "    [theme=dark] .colab-df-convert {\n",
              "      background-color: #3B4455;\n",
              "      fill: #D2E3FC;\n",
              "    }\n",
              "\n",
              "    [theme=dark] .colab-df-convert:hover {\n",
              "      background-color: #434B5C;\n",
              "      box-shadow: 0px 1px 3px 1px rgba(0, 0, 0, 0.15);\n",
              "      filter: drop-shadow(0px 1px 2px rgba(0, 0, 0, 0.3));\n",
              "      fill: #FFFFFF;\n",
              "    }\n",
              "  </style>\n",
              "\n",
              "      <script>\n",
              "        const buttonEl =\n",
              "          document.querySelector('#df-747420bc-ad42-420a-9d0a-16381b77d0ec button.colab-df-convert');\n",
              "        buttonEl.style.display =\n",
              "          google.colab.kernel.accessAllowed ? 'block' : 'none';\n",
              "\n",
              "        async function convertToInteractive(key) {\n",
              "          const element = document.querySelector('#df-747420bc-ad42-420a-9d0a-16381b77d0ec');\n",
              "          const dataTable =\n",
              "            await google.colab.kernel.invokeFunction('convertToInteractive',\n",
              "                                                     [key], {});\n",
              "          if (!dataTable) return;\n",
              "\n",
              "          const docLinkHtml = 'Like what you see? Visit the ' +\n",
              "            '<a target=\"_blank\" href=https://colab.research.google.com/notebooks/data_table.ipynb>data table notebook</a>'\n",
              "            + ' to learn more about interactive tables.';\n",
              "          element.innerHTML = '';\n",
              "          dataTable['output_type'] = 'display_data';\n",
              "          await google.colab.output.renderOutput(dataTable, element);\n",
              "          const docLink = document.createElement('div');\n",
              "          docLink.innerHTML = docLinkHtml;\n",
              "          element.appendChild(docLink);\n",
              "        }\n",
              "      </script>\n",
              "    </div>\n",
              "  </div>\n",
              "  "
            ]
          },
          "metadata": {},
          "execution_count": 52
        }
      ]
    },
    {
      "cell_type": "code",
      "source": [
        "import matplotlib.pyplot as plt\n",
        "import seaborn as sns\n",
        "\n",
        "# 히트맵으로 칼럼 간 상관관계 확인하기\n",
        "sns.heatmap(data=df.corr(),annot = True)"
      ],
      "metadata": {
        "id": "Pwomao0eWuVW",
        "colab": {
          "base_uri": "https://localhost:8080/",
          "height": 610
        },
        "outputId": "78f86d4a-4b74-469e-a4c1-f824fdacfd64"
      },
      "execution_count": null,
      "outputs": [
        {
          "output_type": "execute_result",
          "data": {
            "text/plain": [
              "<Axes: >"
            ]
          },
          "metadata": {},
          "execution_count": 53
        },
        {
          "output_type": "display_data",
          "data": {
            "text/plain": [
              "<Figure size 640x480 with 2 Axes>"
            ],
            "image/png": "[encoded data removed]"
          },
          "metadata": {}
        }
      ]
    },
    {
      "cell_type": "code",
      "source": [
        "from sklearn.preprocessing import LabelEncoder\n",
        "labelencoder = LabelEncoder()\n",
        "\n",
        "# 범주형 데이터 인코딩하기\n",
        "df['Star_color'] = labelencoder.fit_transform(df['Star color'])\n",
        "df['Spectral_Class'] = labelencoder.fit_transform(df['Spectral Class'])\n",
        "df.head()"
      ],
      "metadata": {
        "id": "ghY4ncuDWuYd",
        "colab": {
          "base_uri": "https://localhost:8080/",
          "height": 267
        },
        "outputId": "77cb1928-9d36-4cc9-8a5c-8a99c9366f1f"
      },
      "execution_count": null,
      "outputs": [
        {
          "output_type": "execute_result",
          "data": {
            "text/plain": [
              "   Temperature (K)  Luminosity(L/Lo)  Radius(R/Ro)  Absolute magnitude(Mv)  \\\n",
              "0             3068          0.002400        0.1700                   16.12   \n",
              "1             3042          0.000500        0.1542                   16.60   \n",
              "2             2600          0.000300        0.1020                   18.70   \n",
              "3             2800          0.000200        0.1600                   16.65   \n",
              "4             1939          0.000138        0.1030                   20.06   \n",
              "\n",
              "   Star type Star color Spectral Class  Star_color  Spectral_Class  \n",
              "0          0        Red              M          10               5  \n",
              "1          0        Red              M          10               5  \n",
              "2          0        Red              M          10               5  \n",
              "3          0        Red              M          10               5  \n",
              "4          0        Red              M          10               5  "
            ],
            "text/html": [
              "\n",
              "  <div id=\"df-73cd0f1c-ff6c-4191-95f7-cc31568777b7\">\n",
              "    <div class=\"colab-df-container\">\n",
              "      <div>\n",
              "<style scoped>\n",
              "    .dataframe tbody tr th:only-of-type {\n",
              "        vertical-align: middle;\n",
              "    }\n",
              "\n",
              "    .dataframe tbody tr th {\n",
              "        vertical-align: top;\n",
              "    }\n",
              "\n",
              "    .dataframe thead th {\n",
              "        text-align: right;\n",
              "    }\n",
              "</style>\n",
              "<table border=\"1\" class=\"dataframe\">\n",
              "  <thead>\n",
              "    <tr style=\"text-align: right;\">\n",
              "      <th></th>\n",
              "      <th>Temperature (K)</th>\n",
              "      <th>Luminosity(L/Lo)</th>\n",
              "      <th>Radius(R/Ro)</th>\n",
              "      <th>Absolute magnitude(Mv)</th>\n",
              "      <th>Star type</th>\n",
              "      <th>Star color</th>\n",
              "      <th>Spectral Class</th>\n",
              "      <th>Star_color</th>\n",
              "      <th>Spectral_Class</th>\n",
              "    </tr>\n",
              "  </thead>\n",
              "  <tbody>\n",
              "    <tr>\n",
              "      <th>0</th>\n",
              "      <td>3068</td>\n",
              "      <td>0.002400</td>\n",
              "      <td>0.1700</td>\n",
              "      <td>16.12</td>\n",
              "      <td>0</td>\n",
              "      <td>Red</td>\n",
              "      <td>M</td>\n",
              "      <td>10</td>\n",
              "      <td>5</td>\n",
              "    </tr>\n",
              "    <tr>\n",
              "      <th>1</th>\n",
              "      <td>3042</td>\n",
              "      <td>0.000500</td>\n",
              "      <td>0.1542</td>\n",
              "      <td>16.60</td>\n",
              "      <td>0</td>\n",
              "      <td>Red</td>\n",
              "      <td>M</td>\n",
              "      <td>10</td>\n",
              "      <td>5</td>\n",
              "    </tr>\n",
              "    <tr>\n",
              "      <th>2</th>\n",
              "      <td>2600</td>\n",
              "      <td>0.000300</td>\n",
              "      <td>0.1020</td>\n",
              "      <td>18.70</td>\n",
              "      <td>0</td>\n",
              "      <td>Red</td>\n",
              "      <td>M</td>\n",
              "      <td>10</td>\n",
              "      <td>5</td>\n",
              "    </tr>\n",
              "    <tr>\n",
              "      <th>3</th>\n",
              "      <td>2800</td>\n",
              "      <td>0.000200</td>\n",
              "      <td>0.1600</td>\n",
              "      <td>16.65</td>\n",
              "      <td>0</td>\n",
              "      <td>Red</td>\n",
              "      <td>M</td>\n",
              "      <td>10</td>\n",
              "      <td>5</td>\n",
              "    </tr>\n",
              "    <tr>\n",
              "      <th>4</th>\n",
              "      <td>1939</td>\n",
              "      <td>0.000138</td>\n",
              "      <td>0.1030</td>\n",
              "      <td>20.06</td>\n",
              "      <td>0</td>\n",
              "      <td>Red</td>\n",
              "      <td>M</td>\n",
              "      <td>10</td>\n",
              "      <td>5</td>\n",
              "    </tr>\n",
              "  </tbody>\n",
              "</table>\n",
              "</div>\n",
              "      <button class=\"colab-df-convert\" onclick=\"convertToInteractive('df-73cd0f1c-ff6c-4191-95f7-cc31568777b7')\"\n",
              "              title=\"Convert this dataframe to an interactive table.\"\n",
              "              style=\"display:none;\">\n",
              "        \n",
              "  <svg xmlns=\"http://www.w3.org/2000/svg\" height=\"24px\"viewBox=\"0 0 24 24\"\n",
              "       width=\"24px\">\n",
              "    <path d=\"M0 0h24v24H0V0z\" fill=\"none\"/>\n",
              "    <path d=\"M18.56 5.44l.94 2.06.94-2.06 2.06-.94-2.06-.94-.94-2.06-.94 2.06-2.06.94zm-11 1L8.5 8.5l.94-2.06 2.06-.94-2.06-.94L8.5 2.5l-.94 2.06-2.06.94zm10 10l.94 2.06.94-2.06 2.06-.94-2.06-.94-.94-2.06-.94 2.06-2.06.94z\"/><path d=\"M17.41 7.96l-1.37-1.37c-.4-.4-.92-.59-1.43-.59-.52 0-1.04.2-1.43.59L10.3 9.45l-7.72 7.72c-.78.78-.78 2.05 0 2.83L4 21.41c.39.39.9.59 1.41.59.51 0 1.02-.2 1.41-.59l7.78-7.78 2.81-2.81c.8-.78.8-2.07 0-2.86zM5.41 20L4 18.59l7.72-7.72 1.47 1.35L5.41 20z\"/>\n",
              "  </svg>\n",
              "      </button>\n",
              "      \n",
              "  <style>\n",
              "    .colab-df-container {\n",
              "      display:flex;\n",
              "      flex-wrap:wrap;\n",
              "      gap: 12px;\n",
              "    }\n",
              "\n",
              "    .colab-df-convert {\n",
              "      background-color: #E8F0FE;\n",
              "      border: none;\n",
              "      border-radius: 50%;\n",
              "      cursor: pointer;\n",
              "      display: none;\n",
              "      fill: #1967D2;\n",
              "      height: 32px;\n",
              "      padding: 0 0 0 0;\n",
              "      width: 32px;\n",
              "    }\n",
              "\n",
              "    .colab-df-convert:hover {\n",
              "      background-color: #E2EBFA;\n",
              "      box-shadow: 0px 1px 2px rgba(60, 64, 67, 0.3), 0px 1px 3px 1px rgba(60, 64, 67, 0.15);\n",
              "      fill: #174EA6;\n",
              "    }\n",
              "\n",
              "    [theme=dark] .colab-df-convert {\n",
              "      background-color: #3B4455;\n",
              "      fill: #D2E3FC;\n",
              "    }\n",
              "\n",
              "    [theme=dark] .colab-df-convert:hover {\n",
              "      background-color: #434B5C;\n",
              "      box-shadow: 0px 1px 3px 1px rgba(0, 0, 0, 0.15);\n",
              "      filter: drop-shadow(0px 1px 2px rgba(0, 0, 0, 0.3));\n",
              "      fill: #FFFFFF;\n",
              "    }\n",
              "  </style>\n",
              "\n",
              "      <script>\n",
              "        const buttonEl =\n",
              "          document.querySelector('#df-73cd0f1c-ff6c-4191-95f7-cc31568777b7 button.colab-df-convert');\n",
              "        buttonEl.style.display =\n",
              "          google.colab.kernel.accessAllowed ? 'block' : 'none';\n",
              "\n",
              "        async function convertToInteractive(key) {\n",
              "          const element = document.querySelector('#df-73cd0f1c-ff6c-4191-95f7-cc31568777b7');\n",
              "          const dataTable =\n",
              "            await google.colab.kernel.invokeFunction('convertToInteractive',\n",
              "                                                     [key], {});\n",
              "          if (!dataTable) return;\n",
              "\n",
              "          const docLinkHtml = 'Like what you see? Visit the ' +\n",
              "            '<a target=\"_blank\" href=https://colab.research.google.com/notebooks/data_table.ipynb>data table notebook</a>'\n",
              "            + ' to learn more about interactive tables.';\n",
              "          element.innerHTML = '';\n",
              "          dataTable['output_type'] = 'display_data';\n",
              "          await google.colab.output.renderOutput(dataTable, element);\n",
              "          const docLink = document.createElement('div');\n",
              "          docLink.innerHTML = docLinkHtml;\n",
              "          element.appendChild(docLink);\n",
              "        }\n",
              "      </script>\n",
              "    </div>\n",
              "  </div>\n",
              "  "
            ]
          },
          "metadata": {},
          "execution_count": 54
        }
      ]
    },
    {
      "cell_type": "code",
      "source": [
        "x = df.drop(['Star color','Spectral Class','Star type'],axis=1)\n",
        "y = df['Star type']"
      ],
      "metadata": {
        "id": "jU-pQ9UPWubt"
      },
      "execution_count": null,
      "outputs": []
    },
    {
      "cell_type": "code",
      "source": [
        "x.head()"
      ],
      "metadata": {
        "id": "Rrtn-UElZx-3",
        "colab": {
          "base_uri": "https://localhost:8080/",
          "height": 206
        },
        "outputId": "c825f0db-8c19-49d1-c1ec-16229cd4fc3c"
      },
      "execution_count": null,
      "outputs": [
        {
          "output_type": "execute_result",
          "data": {
            "text/plain": [
              "   Temperature (K)  Luminosity(L/Lo)  Radius(R/Ro)  Absolute magnitude(Mv)  \\\n",
              "0             3068          0.002400        0.1700                   16.12   \n",
              "1             3042          0.000500        0.1542                   16.60   \n",
              "2             2600          0.000300        0.1020                   18.70   \n",
              "3             2800          0.000200        0.1600                   16.65   \n",
              "4             1939          0.000138        0.1030                   20.06   \n",
              "\n",
              "   Star_color  Spectral_Class  \n",
              "0          10               5  \n",
              "1          10               5  \n",
              "2          10               5  \n",
              "3          10               5  \n",
              "4          10               5  "
            ],
            "text/html": [
              "\n",
              "  <div id=\"df-8f7f2b09-d5a7-4a51-801c-495dbe568cb6\">\n",
              "    <div class=\"colab-df-container\">\n",
              "      <div>\n",
              "<style scoped>\n",
              "    .dataframe tbody tr th:only-of-type {\n",
              "        vertical-align: middle;\n",
              "    }\n",
              "\n",
              "    .dataframe tbody tr th {\n",
              "        vertical-align: top;\n",
              "    }\n",
              "\n",
              "    .dataframe thead th {\n",
              "        text-align: right;\n",
              "    }\n",
              "</style>\n",
              "<table border=\"1\" class=\"dataframe\">\n",
              "  <thead>\n",
              "    <tr style=\"text-align: right;\">\n",
              "      <th></th>\n",
              "      <th>Temperature (K)</th>\n",
              "      <th>Luminosity(L/Lo)</th>\n",
              "      <th>Radius(R/Ro)</th>\n",
              "      <th>Absolute magnitude(Mv)</th>\n",
              "      <th>Star_color</th>\n",
              "      <th>Spectral_Class</th>\n",
              "    </tr>\n",
              "  </thead>\n",
              "  <tbody>\n",
              "    <tr>\n",
              "      <th>0</th>\n",
              "      <td>3068</td>\n",
              "      <td>0.002400</td>\n",
              "      <td>0.1700</td>\n",
              "      <td>16.12</td>\n",
              "      <td>10</td>\n",
              "      <td>5</td>\n",
              "    </tr>\n",
              "    <tr>\n",
              "      <th>1</th>\n",
              "      <td>3042</td>\n",
              "      <td>0.000500</td>\n",
              "      <td>0.1542</td>\n",
              "      <td>16.60</td>\n",
              "      <td>10</td>\n",
              "      <td>5</td>\n",
              "    </tr>\n",
              "    <tr>\n",
              "      <th>2</th>\n",
              "      <td>2600</td>\n",
              "      <td>0.000300</td>\n",
              "      <td>0.1020</td>\n",
              "      <td>18.70</td>\n",
              "      <td>10</td>\n",
              "      <td>5</td>\n",
              "    </tr>\n",
              "    <tr>\n",
              "      <th>3</th>\n",
              "      <td>2800</td>\n",
              "      <td>0.000200</td>\n",
              "      <td>0.1600</td>\n",
              "      <td>16.65</td>\n",
              "      <td>10</td>\n",
              "      <td>5</td>\n",
              "    </tr>\n",
              "    <tr>\n",
              "      <th>4</th>\n",
              "      <td>1939</td>\n",
              "      <td>0.000138</td>\n",
              "      <td>0.1030</td>\n",
              "      <td>20.06</td>\n",
              "      <td>10</td>\n",
              "      <td>5</td>\n",
              "    </tr>\n",
              "  </tbody>\n",
              "</table>\n",
              "</div>\n",
              "      <button class=\"colab-df-convert\" onclick=\"convertToInteractive('df-8f7f2b09-d5a7-4a51-801c-495dbe568cb6')\"\n",
              "              title=\"Convert this dataframe to an interactive table.\"\n",
              "              style=\"display:none;\">\n",
              "        \n",
              "  <svg xmlns=\"http://www.w3.org/2000/svg\" height=\"24px\"viewBox=\"0 0 24 24\"\n",
              "       width=\"24px\">\n",
              "    <path d=\"M0 0h24v24H0V0z\" fill=\"none\"/>\n",
              "    <path d=\"M18.56 5.44l.94 2.06.94-2.06 2.06-.94-2.06-.94-.94-2.06-.94 2.06-2.06.94zm-11 1L8.5 8.5l.94-2.06 2.06-.94-2.06-.94L8.5 2.5l-.94 2.06-2.06.94zm10 10l.94 2.06.94-2.06 2.06-.94-2.06-.94-.94-2.06-.94 2.06-2.06.94z\"/><path d=\"M17.41 7.96l-1.37-1.37c-.4-.4-.92-.59-1.43-.59-.52 0-1.04.2-1.43.59L10.3 9.45l-7.72 7.72c-.78.78-.78 2.05 0 2.83L4 21.41c.39.39.9.59 1.41.59.51 0 1.02-.2 1.41-.59l7.78-7.78 2.81-2.81c.8-.78.8-2.07 0-2.86zM5.41 20L4 18.59l7.72-7.72 1.47 1.35L5.41 20z\"/>\n",
              "  </svg>\n",
              "      </button>\n",
              "      \n",
              "  <style>\n",
              "    .colab-df-container {\n",
              "      display:flex;\n",
              "      flex-wrap:wrap;\n",
              "      gap: 12px;\n",
              "    }\n",
              "\n",
              "    .colab-df-convert {\n",
              "      background-color: #E8F0FE;\n",
              "      border: none;\n",
              "      border-radius: 50%;\n",
              "      cursor: pointer;\n",
              "      display: none;\n",
              "      fill: #1967D2;\n",
              "      height: 32px;\n",
              "      padding: 0 0 0 0;\n",
              "      width: 32px;\n",
              "    }\n",
              "\n",
              "    .colab-df-convert:hover {\n",
              "      background-color: #E2EBFA;\n",
              "      box-shadow: 0px 1px 2px rgba(60, 64, 67, 0.3), 0px 1px 3px 1px rgba(60, 64, 67, 0.15);\n",
              "      fill: #174EA6;\n",
              "    }\n",
              "\n",
              "    [theme=dark] .colab-df-convert {\n",
              "      background-color: #3B4455;\n",
              "      fill: #D2E3FC;\n",
              "    }\n",
              "\n",
              "    [theme=dark] .colab-df-convert:hover {\n",
              "      background-color: #434B5C;\n",
              "      box-shadow: 0px 1px 3px 1px rgba(0, 0, 0, 0.15);\n",
              "      filter: drop-shadow(0px 1px 2px rgba(0, 0, 0, 0.3));\n",
              "      fill: #FFFFFF;\n",
              "    }\n",
              "  </style>\n",
              "\n",
              "      <script>\n",
              "        const buttonEl =\n",
              "          document.querySelector('#df-8f7f2b09-d5a7-4a51-801c-495dbe568cb6 button.colab-df-convert');\n",
              "        buttonEl.style.display =\n",
              "          google.colab.kernel.accessAllowed ? 'block' : 'none';\n",
              "\n",
              "        async function convertToInteractive(key) {\n",
              "          const element = document.querySelector('#df-8f7f2b09-d5a7-4a51-801c-495dbe568cb6');\n",
              "          const dataTable =\n",
              "            await google.colab.kernel.invokeFunction('convertToInteractive',\n",
              "                                                     [key], {});\n",
              "          if (!dataTable) return;\n",
              "\n",
              "          const docLinkHtml = 'Like what you see? Visit the ' +\n",
              "            '<a target=\"_blank\" href=https://colab.research.google.com/notebooks/data_table.ipynb>data table notebook</a>'\n",
              "            + ' to learn more about interactive tables.';\n",
              "          element.innerHTML = '';\n",
              "          dataTable['output_type'] = 'display_data';\n",
              "          await google.colab.output.renderOutput(dataTable, element);\n",
              "          const docLink = document.createElement('div');\n",
              "          docLink.innerHTML = docLinkHtml;\n",
              "          element.appendChild(docLink);\n",
              "        }\n",
              "      </script>\n",
              "    </div>\n",
              "  </div>\n",
              "  "
            ]
          },
          "metadata": {},
          "execution_count": 56
        }
      ]
    },
    {
      "cell_type": "code",
      "source": [
        "from sklearn.model_selection import train_test_split\n",
        "\n",
        "x_train, x_test, y_train, y_test = train_test_split(x, y, test_size = 0.2, random_state = 156, stratify=y)"
      ],
      "metadata": {
        "id": "eL04t3UeR5OI"
      },
      "execution_count": null,
      "outputs": []
    },
    {
      "cell_type": "code",
      "source": [
        "from sklearn.preprocessing import StandardScaler\n",
        "\n",
        "scaler = StandardScaler()\n",
        "x_train_scaled = scaler.fit_transform(x_train)\n",
        "x_test_scaled = scaler.fit_transform(x_test)"
      ],
      "metadata": {
        "id": "KQ8OIOkNWueL"
      },
      "execution_count": null,
      "outputs": []
    },
    {
      "cell_type": "code",
      "source": [
        "x_train_scaled[:5]"
      ],
      "metadata": {
        "id": "jAiSXgMOhSEw",
        "colab": {
          "base_uri": "https://localhost:8080/"
        },
        "outputId": "6842a645-3b61-4352-e51f-b580a79b9c13"
      },
      "execution_count": null,
      "outputs": [
        {
          "output_type": "execute_result",
          "data": {
            "text/plain": [
              "array([[-0.7030318 ,  0.1033823 ,  1.66175076, -1.44067689,  0.56063338,\n",
              "         0.57988403],\n",
              "       [-0.77133693, -0.60749411, -0.45969895,  1.32573592,  0.56063338,\n",
              "         0.57988403],\n",
              "       [ 0.39812962,  0.69577932, -0.38059668, -0.99558337, -1.4935958 ,\n",
              "         1.05978806],\n",
              "       [-0.32787107, -0.60749411, -0.45984996,  0.92145055,  0.35521046,\n",
              "        -0.85982805],\n",
              "       [-0.71027629,  0.49267177,  2.45830401, -1.49287336,  0.56063338,\n",
              "         0.57988403]])"
            ]
          },
          "metadata": {},
          "execution_count": 59
        }
      ]
    },
    {
      "cell_type": "markdown",
      "source": [
        "### 2-4.모델 학습"
      ],
      "metadata": {
        "id": "MOQz4oxScPwN"
      }
    },
    {
      "cell_type": "markdown",
      "source": [
        "#### 소프트맥스 함수(Softmax)\n",
        "\n",
        "- 신경망의 출력층에서 사용되는 활성화 함수로, 분류문제에 주로 사용되는 함수\n",
        "\n",
        "<img src=\"https://i.ytimg.com/vi/lvNdl7yg4Pg/maxresdefault.jpg\" width=600px>"
      ],
      "metadata": {
        "id": "fIxZZelQhmis"
      }
    },
    {
      "cell_type": "code",
      "source": [
        "import numpy as np\n",
        "\n",
        "def softmax(arr):\n",
        "    exp_arr = np.exp(arr)\n",
        "    return exp_arr/np.sum(exp_arr)"
      ],
      "metadata": {
        "id": "92msF74Ljcej"
      },
      "execution_count": null,
      "outputs": []
    },
    {
      "cell_type": "code",
      "source": [
        "a = [2.0, 1.0, 0.1]\n",
        "softmax(a)"
      ],
      "metadata": {
        "id": "hlmQ8u_Uj67O",
        "colab": {
          "base_uri": "https://localhost:8080/"
        },
        "outputId": "d91edb51-0da2-4e08-a92c-cb4e40f4d9f3"
      },
      "execution_count": null,
      "outputs": [
        {
          "output_type": "execute_result",
          "data": {
            "text/plain": [
              "array([0.65900114, 0.24243297, 0.09856589])"
            ]
          },
          "metadata": {},
          "execution_count": 61
        }
      ]
    },
    {
      "cell_type": "code",
      "source": [
        "# 소프트맥스 함수 적용 시 어레이의 합\n",
        "np.sum(softmax(a))"
      ],
      "metadata": {
        "id": "XtdIZHWtkGx4",
        "colab": {
          "base_uri": "https://localhost:8080/"
        },
        "outputId": "de8059fa-c16a-4e3e-dab6-d6e29a6f9c8f"
      },
      "execution_count": null,
      "outputs": [
        {
          "output_type": "execute_result",
          "data": {
            "text/plain": [
              "1.0"
            ]
          },
          "metadata": {},
          "execution_count": 62
        }
      ]
    },
    {
      "cell_type": "code",
      "source": [
        "# 최댓값 인덱스 확인하기\n",
        "np.argmax(softmax(a))"
      ],
      "metadata": {
        "id": "aFcVTSHkkD7P",
        "colab": {
          "base_uri": "https://localhost:8080/"
        },
        "outputId": "5de2a58f-0750-4c8b-c2d8-1177b633e6e2"
      },
      "execution_count": null,
      "outputs": [
        {
          "output_type": "execute_result",
          "data": {
            "text/plain": [
              "0"
            ]
          },
          "metadata": {},
          "execution_count": 63
        }
      ]
    },
    {
      "cell_type": "markdown",
      "source": [
        "#### 파라미터 수 계산하기\n",
        "\n",
        "- 한개 layer의 파라미터 수: (입력데이터별 W개수 + 1개의 bias)*노드의 수\n",
        " * 입력층이자 첫번째 은닉층: 896 = (6+1(bias))*128\n",
        " * 두 번째 은닉층: 4128=(128+1(bias))*32\n",
        " * 출력층: 198=(32+1(bias))*6"
      ],
      "metadata": {
        "id": "OS_de4jxallP"
      }
    },
    {
      "cell_type": "code",
      "source": [
        "modelA = Sequential()\n",
        "modelA.add(Dense(128, input_dim=x_train_scaled.shape[-1],activation='relu'))\n",
        "modelA.add(Dense(32,activation = 'relu'))\n",
        "modelA.add(Dense(6,activation = 'softmax'))\n",
        "\n",
        "modelA.compile(loss='sparse_categorical_crossentropy',optimizer = 'adam',metrics=['accuracy'])\n",
        "modelA.summary()"
      ],
      "metadata": {
        "id": "uZyAr8RzYOSi",
        "colab": {
          "base_uri": "https://localhost:8080/"
        },
        "outputId": "25ac6c26-ce93-4d52-bc2d-185bc661299d"
      },
      "execution_count": null,
      "outputs": [
        {
          "output_type": "stream",
          "name": "stdout",
          "text": [
            "Model: \"sequential_4\"\n",
            "_________________________________________________________________\n",
            " Layer (type)                Output Shape              Param #   \n",
            "=================================================================\n",
            " dense_17 (Dense)            (None, 128)               896       \n",
            "                                                                 \n",
            " dense_18 (Dense)            (None, 32)                4128      \n",
            "                                                                 \n",
            " dense_19 (Dense)            (None, 6)                 198       \n",
            "                                                                 \n",
            "=================================================================\n",
            "Total params: 5,222\n",
            "Trainable params: 5,222\n",
            "Non-trainable params: 0\n",
            "_________________________________________________________________\n"
          ]
        }
      ]
    },
    {
      "cell_type": "code",
      "source": [
        "historyA = modelA.fit(x_train_scaled, y_train,\n",
        "                      validation_data=(x_test_scaled, y_test),\n",
        "                      epochs = 100)"
      ],
      "metadata": {
        "id": "FZbWqbL0YOVA",
        "colab": {
          "base_uri": "https://localhost:8080/"
        },
        "outputId": "e0dda4cd-0614-4b0a-bf30-7f42f2aa3fec"
      },
      "execution_count": null,
      "outputs": [
        {
          "output_type": "stream",
          "name": "stdout",
          "text": [
            "Epoch 1/100\n",
            "6/6 [==============================] - 2s 41ms/step - loss: 1.7559 - accuracy: 0.1823 - val_loss: 1.6532 - val_accuracy: 0.3125\n",
            "Epoch 2/100\n",
            "6/6 [==============================] - 0s 13ms/step - loss: 1.5849 - accuracy: 0.5000 - val_loss: 1.4999 - val_accuracy: 0.6250\n",
            "Epoch 3/100\n",
            "6/6 [==============================] - 0s 15ms/step - loss: 1.4412 - accuracy: 0.6615 - val_loss: 1.3734 - val_accuracy: 0.7500\n",
            "Epoch 4/100\n",
            "6/6 [==============================] - 0s 13ms/step - loss: 1.3174 - accuracy: 0.7656 - val_loss: 1.2568 - val_accuracy: 0.7500\n",
            "Epoch 5/100\n",
            "6/6 [==============================] - 0s 14ms/step - loss: 1.2025 - accuracy: 0.7708 - val_loss: 1.1488 - val_accuracy: 0.7292\n",
            "Epoch 6/100\n",
            "6/6 [==============================] - 0s 14ms/step - loss: 1.0946 - accuracy: 0.7656 - val_loss: 1.0502 - val_accuracy: 0.7292\n",
            "Epoch 7/100\n",
            "6/6 [==============================] - 0s 14ms/step - loss: 0.9918 - accuracy: 0.7760 - val_loss: 0.9571 - val_accuracy: 0.7708\n",
            "Epoch 8/100\n",
            "6/6 [==============================] - 0s 11ms/step - loss: 0.8926 - accuracy: 0.7812 - val_loss: 0.8693 - val_accuracy: 0.7500\n",
            "Epoch 9/100\n",
            "6/6 [==============================] - 0s 11ms/step - loss: 0.7993 - accuracy: 0.7760 - val_loss: 0.7847 - val_accuracy: 0.7500\n",
            "Epoch 10/100\n",
            "6/6 [==============================] - 0s 11ms/step - loss: 0.7119 - accuracy: 0.7708 - val_loss: 0.7114 - val_accuracy: 0.7708\n",
            "Epoch 11/100\n",
            "6/6 [==============================] - 0s 14ms/step - loss: 0.6326 - accuracy: 0.8177 - val_loss: 0.6430 - val_accuracy: 0.8333\n",
            "Epoch 12/100\n",
            "6/6 [==============================] - 0s 13ms/step - loss: 0.5676 - accuracy: 0.8646 - val_loss: 0.5830 - val_accuracy: 0.8542\n",
            "Epoch 13/100\n",
            "6/6 [==============================] - 0s 12ms/step - loss: 0.5062 - accuracy: 0.8906 - val_loss: 0.5315 - val_accuracy: 0.8750\n",
            "Epoch 14/100\n",
            "6/6 [==============================] - 0s 12ms/step - loss: 0.4597 - accuracy: 0.9010 - val_loss: 0.4919 - val_accuracy: 0.8750\n",
            "Epoch 15/100\n",
            "6/6 [==============================] - 0s 11ms/step - loss: 0.4198 - accuracy: 0.9479 - val_loss: 0.4533 - val_accuracy: 0.9167\n",
            "Epoch 16/100\n",
            "6/6 [==============================] - 0s 15ms/step - loss: 0.3859 - accuracy: 0.9531 - val_loss: 0.4232 - val_accuracy: 0.8958\n",
            "Epoch 17/100\n",
            "6/6 [==============================] - 0s 14ms/step - loss: 0.3576 - accuracy: 0.9531 - val_loss: 0.3994 - val_accuracy: 0.8958\n",
            "Epoch 18/100\n",
            "6/6 [==============================] - 0s 12ms/step - loss: 0.3348 - accuracy: 0.9583 - val_loss: 0.3791 - val_accuracy: 0.9375\n",
            "Epoch 19/100\n",
            "6/6 [==============================] - 0s 14ms/step - loss: 0.3139 - accuracy: 0.9635 - val_loss: 0.3589 - val_accuracy: 0.9375\n",
            "Epoch 20/100\n",
            "6/6 [==============================] - 0s 12ms/step - loss: 0.2960 - accuracy: 0.9688 - val_loss: 0.3423 - val_accuracy: 0.9583\n",
            "Epoch 21/100\n",
            "6/6 [==============================] - 0s 15ms/step - loss: 0.2805 - accuracy: 0.9688 - val_loss: 0.3230 - val_accuracy: 0.9583\n",
            "Epoch 22/100\n",
            "6/6 [==============================] - 0s 14ms/step - loss: 0.2679 - accuracy: 0.9688 - val_loss: 0.3054 - val_accuracy: 0.9792\n",
            "Epoch 23/100\n",
            "6/6 [==============================] - 0s 15ms/step - loss: 0.2520 - accuracy: 0.9792 - val_loss: 0.2950 - val_accuracy: 0.9583\n",
            "Epoch 24/100\n",
            "6/6 [==============================] - 0s 15ms/step - loss: 0.2387 - accuracy: 0.9740 - val_loss: 0.2854 - val_accuracy: 0.9583\n",
            "Epoch 25/100\n",
            "6/6 [==============================] - 0s 13ms/step - loss: 0.2280 - accuracy: 0.9688 - val_loss: 0.2718 - val_accuracy: 0.9583\n",
            "Epoch 26/100\n",
            "6/6 [==============================] - 0s 11ms/step - loss: 0.2157 - accuracy: 0.9740 - val_loss: 0.2621 - val_accuracy: 0.9792\n",
            "Epoch 27/100\n",
            "6/6 [==============================] - 0s 16ms/step - loss: 0.2060 - accuracy: 0.9792 - val_loss: 0.2514 - val_accuracy: 0.9792\n",
            "Epoch 28/100\n",
            "6/6 [==============================] - 0s 14ms/step - loss: 0.1967 - accuracy: 0.9844 - val_loss: 0.2418 - val_accuracy: 0.9792\n",
            "Epoch 29/100\n",
            "6/6 [==============================] - 0s 14ms/step - loss: 0.1874 - accuracy: 0.9740 - val_loss: 0.2324 - val_accuracy: 0.9583\n",
            "Epoch 30/100\n",
            "6/6 [==============================] - 0s 14ms/step - loss: 0.1825 - accuracy: 0.9844 - val_loss: 0.2236 - val_accuracy: 0.9792\n",
            "Epoch 31/100\n",
            "6/6 [==============================] - 0s 15ms/step - loss: 0.1704 - accuracy: 0.9896 - val_loss: 0.2110 - val_accuracy: 0.9792\n",
            "Epoch 32/100\n",
            "6/6 [==============================] - 0s 16ms/step - loss: 0.1623 - accuracy: 0.9792 - val_loss: 0.2036 - val_accuracy: 0.9792\n",
            "Epoch 33/100\n",
            "6/6 [==============================] - 0s 11ms/step - loss: 0.1549 - accuracy: 0.9844 - val_loss: 0.1967 - val_accuracy: 0.9792\n",
            "Epoch 34/100\n",
            "6/6 [==============================] - 0s 12ms/step - loss: 0.1501 - accuracy: 0.9844 - val_loss: 0.1888 - val_accuracy: 0.9583\n",
            "Epoch 35/100\n",
            "6/6 [==============================] - 0s 14ms/step - loss: 0.1423 - accuracy: 0.9792 - val_loss: 0.1819 - val_accuracy: 0.9792\n",
            "Epoch 36/100\n",
            "6/6 [==============================] - 0s 14ms/step - loss: 0.1343 - accuracy: 0.9896 - val_loss: 0.1743 - val_accuracy: 0.9792\n",
            "Epoch 37/100\n",
            "6/6 [==============================] - 0s 15ms/step - loss: 0.1280 - accuracy: 0.9896 - val_loss: 0.1676 - val_accuracy: 0.9792\n",
            "Epoch 38/100\n",
            "6/6 [==============================] - 0s 14ms/step - loss: 0.1232 - accuracy: 0.9844 - val_loss: 0.1581 - val_accuracy: 0.9792\n",
            "Epoch 39/100\n",
            "6/6 [==============================] - 0s 15ms/step - loss: 0.1170 - accuracy: 0.9896 - val_loss: 0.1534 - val_accuracy: 0.9792\n",
            "Epoch 40/100\n",
            "6/6 [==============================] - 0s 14ms/step - loss: 0.1127 - accuracy: 0.9896 - val_loss: 0.1510 - val_accuracy: 0.9792\n",
            "Epoch 41/100\n",
            "6/6 [==============================] - 0s 15ms/step - loss: 0.1076 - accuracy: 0.9896 - val_loss: 0.1447 - val_accuracy: 0.9792\n",
            "Epoch 42/100\n",
            "6/6 [==============================] - 0s 16ms/step - loss: 0.1036 - accuracy: 0.9896 - val_loss: 0.1422 - val_accuracy: 0.9792\n",
            "Epoch 43/100\n",
            "6/6 [==============================] - 0s 17ms/step - loss: 0.0983 - accuracy: 0.9948 - val_loss: 0.1348 - val_accuracy: 1.0000\n",
            "Epoch 44/100\n",
            "6/6 [==============================] - 0s 17ms/step - loss: 0.0951 - accuracy: 0.9896 - val_loss: 0.1276 - val_accuracy: 1.0000\n",
            "Epoch 45/100\n",
            "6/6 [==============================] - 0s 13ms/step - loss: 0.0912 - accuracy: 0.9844 - val_loss: 0.1244 - val_accuracy: 1.0000\n",
            "Epoch 46/100\n",
            "6/6 [==============================] - 0s 13ms/step - loss: 0.0885 - accuracy: 0.9948 - val_loss: 0.1251 - val_accuracy: 1.0000\n",
            "Epoch 47/100\n",
            "6/6 [==============================] - 0s 10ms/step - loss: 0.0842 - accuracy: 0.9948 - val_loss: 0.1163 - val_accuracy: 1.0000\n",
            "Epoch 48/100\n",
            "6/6 [==============================] - 0s 8ms/step - loss: 0.0815 - accuracy: 0.9948 - val_loss: 0.1126 - val_accuracy: 1.0000\n",
            "Epoch 49/100\n",
            "6/6 [==============================] - 0s 11ms/step - loss: 0.0788 - accuracy: 0.9896 - val_loss: 0.1082 - val_accuracy: 1.0000\n",
            "Epoch 50/100\n",
            "6/6 [==============================] - 0s 8ms/step - loss: 0.0753 - accuracy: 1.0000 - val_loss: 0.1072 - val_accuracy: 1.0000\n",
            "Epoch 51/100\n",
            "6/6 [==============================] - 0s 11ms/step - loss: 0.0741 - accuracy: 1.0000 - val_loss: 0.1093 - val_accuracy: 1.0000\n",
            "Epoch 52/100\n",
            "6/6 [==============================] - 0s 13ms/step - loss: 0.0717 - accuracy: 0.9948 - val_loss: 0.1015 - val_accuracy: 1.0000\n",
            "Epoch 53/100\n",
            "6/6 [==============================] - 0s 8ms/step - loss: 0.0689 - accuracy: 1.0000 - val_loss: 0.1011 - val_accuracy: 1.0000\n",
            "Epoch 54/100\n",
            "6/6 [==============================] - 0s 11ms/step - loss: 0.0656 - accuracy: 1.0000 - val_loss: 0.0965 - val_accuracy: 1.0000\n",
            "Epoch 55/100\n",
            "6/6 [==============================] - 0s 11ms/step - loss: 0.0633 - accuracy: 1.0000 - val_loss: 0.0930 - val_accuracy: 1.0000\n",
            "Epoch 56/100\n",
            "6/6 [==============================] - 0s 12ms/step - loss: 0.0618 - accuracy: 1.0000 - val_loss: 0.0918 - val_accuracy: 1.0000\n",
            "Epoch 57/100\n",
            "6/6 [==============================] - 0s 12ms/step - loss: 0.0592 - accuracy: 1.0000 - val_loss: 0.0881 - val_accuracy: 1.0000\n",
            "Epoch 58/100\n",
            "6/6 [==============================] - 0s 8ms/step - loss: 0.0579 - accuracy: 1.0000 - val_loss: 0.0849 - val_accuracy: 1.0000\n",
            "Epoch 59/100\n",
            "6/6 [==============================] - 0s 8ms/step - loss: 0.0556 - accuracy: 1.0000 - val_loss: 0.0841 - val_accuracy: 1.0000\n",
            "Epoch 60/100\n",
            "6/6 [==============================] - 0s 8ms/step - loss: 0.0539 - accuracy: 1.0000 - val_loss: 0.0875 - val_accuracy: 1.0000\n",
            "Epoch 61/100\n",
            "6/6 [==============================] - 0s 11ms/step - loss: 0.0529 - accuracy: 1.0000 - val_loss: 0.0847 - val_accuracy: 1.0000\n",
            "Epoch 62/100\n",
            "6/6 [==============================] - 0s 8ms/step - loss: 0.0509 - accuracy: 1.0000 - val_loss: 0.0774 - val_accuracy: 1.0000\n",
            "Epoch 63/100\n",
            "6/6 [==============================] - 0s 9ms/step - loss: 0.0497 - accuracy: 1.0000 - val_loss: 0.0775 - val_accuracy: 1.0000\n",
            "Epoch 64/100\n",
            "6/6 [==============================] - 0s 11ms/step - loss: 0.0478 - accuracy: 1.0000 - val_loss: 0.0769 - val_accuracy: 1.0000\n",
            "Epoch 65/100\n",
            "6/6 [==============================] - 0s 12ms/step - loss: 0.0467 - accuracy: 1.0000 - val_loss: 0.0754 - val_accuracy: 1.0000\n",
            "Epoch 66/100\n",
            "6/6 [==============================] - 0s 9ms/step - loss: 0.0450 - accuracy: 1.0000 - val_loss: 0.0717 - val_accuracy: 1.0000\n",
            "Epoch 67/100\n",
            "6/6 [==============================] - 0s 12ms/step - loss: 0.0438 - accuracy: 1.0000 - val_loss: 0.0707 - val_accuracy: 1.0000\n",
            "Epoch 68/100\n",
            "6/6 [==============================] - 0s 12ms/step - loss: 0.0426 - accuracy: 1.0000 - val_loss: 0.0706 - val_accuracy: 1.0000\n",
            "Epoch 69/100\n",
            "6/6 [==============================] - 0s 8ms/step - loss: 0.0420 - accuracy: 1.0000 - val_loss: 0.0680 - val_accuracy: 1.0000\n",
            "Epoch 70/100\n",
            "6/6 [==============================] - 0s 13ms/step - loss: 0.0411 - accuracy: 1.0000 - val_loss: 0.0720 - val_accuracy: 1.0000\n",
            "Epoch 71/100\n",
            "6/6 [==============================] - 0s 8ms/step - loss: 0.0397 - accuracy: 1.0000 - val_loss: 0.0663 - val_accuracy: 1.0000\n",
            "Epoch 72/100\n",
            "6/6 [==============================] - 0s 11ms/step - loss: 0.0397 - accuracy: 1.0000 - val_loss: 0.0619 - val_accuracy: 1.0000\n",
            "Epoch 73/100\n",
            "6/6 [==============================] - 0s 13ms/step - loss: 0.0377 - accuracy: 1.0000 - val_loss: 0.0658 - val_accuracy: 1.0000\n",
            "Epoch 74/100\n",
            "6/6 [==============================] - 0s 8ms/step - loss: 0.0365 - accuracy: 1.0000 - val_loss: 0.0655 - val_accuracy: 1.0000\n",
            "Epoch 75/100\n",
            "6/6 [==============================] - 0s 9ms/step - loss: 0.0361 - accuracy: 1.0000 - val_loss: 0.0606 - val_accuracy: 1.0000\n",
            "Epoch 76/100\n",
            "6/6 [==============================] - 0s 11ms/step - loss: 0.0355 - accuracy: 1.0000 - val_loss: 0.0613 - val_accuracy: 1.0000\n",
            "Epoch 77/100\n",
            "6/6 [==============================] - 0s 8ms/step - loss: 0.0340 - accuracy: 1.0000 - val_loss: 0.0588 - val_accuracy: 1.0000\n",
            "Epoch 78/100\n",
            "6/6 [==============================] - 0s 9ms/step - loss: 0.0333 - accuracy: 1.0000 - val_loss: 0.0559 - val_accuracy: 1.0000\n",
            "Epoch 79/100\n",
            "6/6 [==============================] - 0s 8ms/step - loss: 0.0326 - accuracy: 1.0000 - val_loss: 0.0570 - val_accuracy: 1.0000\n",
            "Epoch 80/100\n",
            "6/6 [==============================] - 0s 8ms/step - loss: 0.0338 - accuracy: 1.0000 - val_loss: 0.0638 - val_accuracy: 1.0000\n",
            "Epoch 81/100\n",
            "6/6 [==============================] - 0s 11ms/step - loss: 0.0312 - accuracy: 1.0000 - val_loss: 0.0536 - val_accuracy: 1.0000\n",
            "Epoch 82/100\n",
            "6/6 [==============================] - 0s 11ms/step - loss: 0.0320 - accuracy: 1.0000 - val_loss: 0.0514 - val_accuracy: 1.0000\n",
            "Epoch 83/100\n",
            "6/6 [==============================] - 0s 8ms/step - loss: 0.0300 - accuracy: 1.0000 - val_loss: 0.0577 - val_accuracy: 1.0000\n",
            "Epoch 84/100\n",
            "6/6 [==============================] - 0s 8ms/step - loss: 0.0299 - accuracy: 1.0000 - val_loss: 0.0577 - val_accuracy: 1.0000\n",
            "Epoch 85/100\n",
            "6/6 [==============================] - 0s 12ms/step - loss: 0.0285 - accuracy: 1.0000 - val_loss: 0.0505 - val_accuracy: 1.0000\n",
            "Epoch 86/100\n",
            "6/6 [==============================] - 0s 12ms/step - loss: 0.0287 - accuracy: 1.0000 - val_loss: 0.0496 - val_accuracy: 1.0000\n",
            "Epoch 87/100\n",
            "6/6 [==============================] - 0s 9ms/step - loss: 0.0278 - accuracy: 1.0000 - val_loss: 0.0535 - val_accuracy: 1.0000\n",
            "Epoch 88/100\n",
            "6/6 [==============================] - 0s 11ms/step - loss: 0.0289 - accuracy: 1.0000 - val_loss: 0.0536 - val_accuracy: 1.0000\n",
            "Epoch 89/100\n",
            "6/6 [==============================] - 0s 11ms/step - loss: 0.0261 - accuracy: 1.0000 - val_loss: 0.0458 - val_accuracy: 1.0000\n",
            "Epoch 90/100\n",
            "6/6 [==============================] - 0s 10ms/step - loss: 0.0266 - accuracy: 1.0000 - val_loss: 0.0474 - val_accuracy: 1.0000\n",
            "Epoch 91/100\n",
            "6/6 [==============================] - 0s 11ms/step - loss: 0.0251 - accuracy: 1.0000 - val_loss: 0.0495 - val_accuracy: 1.0000\n",
            "Epoch 92/100\n",
            "6/6 [==============================] - 0s 11ms/step - loss: 0.0261 - accuracy: 1.0000 - val_loss: 0.0523 - val_accuracy: 1.0000\n",
            "Epoch 93/100\n",
            "6/6 [==============================] - 0s 11ms/step - loss: 0.0242 - accuracy: 1.0000 - val_loss: 0.0441 - val_accuracy: 1.0000\n",
            "Epoch 94/100\n",
            "6/6 [==============================] - 0s 8ms/step - loss: 0.0243 - accuracy: 1.0000 - val_loss: 0.0444 - val_accuracy: 1.0000\n",
            "Epoch 95/100\n",
            "6/6 [==============================] - 0s 8ms/step - loss: 0.0238 - accuracy: 1.0000 - val_loss: 0.0470 - val_accuracy: 1.0000\n",
            "Epoch 96/100\n",
            "6/6 [==============================] - 0s 8ms/step - loss: 0.0234 - accuracy: 1.0000 - val_loss: 0.0451 - val_accuracy: 1.0000\n",
            "Epoch 97/100\n",
            "6/6 [==============================] - 0s 11ms/step - loss: 0.0225 - accuracy: 1.0000 - val_loss: 0.0421 - val_accuracy: 1.0000\n",
            "Epoch 98/100\n",
            "6/6 [==============================] - 0s 11ms/step - loss: 0.0227 - accuracy: 1.0000 - val_loss: 0.0426 - val_accuracy: 1.0000\n",
            "Epoch 99/100\n",
            "6/6 [==============================] - 0s 8ms/step - loss: 0.0223 - accuracy: 1.0000 - val_loss: 0.0420 - val_accuracy: 1.0000\n",
            "Epoch 100/100\n",
            "6/6 [==============================] - 0s 11ms/step - loss: 0.0212 - accuracy: 1.0000 - val_loss: 0.0452 - val_accuracy: 1.0000\n"
          ]
        }
      ]
    },
    {
      "cell_type": "markdown",
      "source": [
        "### 2-5.모델 예측 및 평가"
      ],
      "metadata": {
        "id": "e5AFsmMNghvy"
      }
    },
    {
      "cell_type": "code",
      "source": [
        "# 학습 결과 그래프 출력\n",
        "def modelplot(history, data, val_data):\n",
        "  plt.plot(history.history[data])\n",
        "  plt.plot(history.history[val_data])\n",
        "  plt.title('Model'+ data)\n",
        "  plt.ylabel(data)\n",
        "  plt.xlabel('epoch')\n",
        "  plt.legend(['train', 'test'])\n",
        "  plt.show()"
      ],
      "metadata": {
        "id": "RdZx-CrTYOX3"
      },
      "execution_count": null,
      "outputs": []
    },
    {
      "cell_type": "code",
      "source": [
        "modelplot(historyA, 'loss', 'val_loss')"
      ],
      "metadata": {
        "id": "ZZbZFmeWYOaR",
        "colab": {
          "base_uri": "https://localhost:8080/",
          "height": 472
        },
        "outputId": "623e5b81-378a-4c72-9815-e80c5376ecb6"
      },
      "execution_count": null,
      "outputs": [
        {
          "output_type": "display_data",
          "data": {
            "text/plain": [
              "<Figure size 640x480 with 1 Axes>"
            ],
            "image/png": "[encoded data removed]"
          },
          "metadata": {}
        }
      ]
    },
    {
      "cell_type": "code",
      "source": [
        "modelplot(historyA, 'accuracy', 'val_accuracy')"
      ],
      "metadata": {
        "id": "2AOizKc5NS-b",
        "colab": {
          "base_uri": "https://localhost:8080/",
          "height": 472
        },
        "outputId": "dc90f15b-a4d8-4501-eaee-ebd5bd14886f"
      },
      "execution_count": null,
      "outputs": [
        {
          "output_type": "display_data",
          "data": {
            "text/plain": [
              "<Figure size 640x480 with 1 Axes>"
            ],
            "image/png": "[encoded data removed]"
          },
          "metadata": {}
        }
      ]
    },
    {
      "cell_type": "code",
      "source": [
        "# model.evaluate로 평가하기\n",
        "score = modelA.evaluate(x=x_test_scaled, y=y_test, verbose=1)\n",
        "print('Test loss:', score[0])\n",
        "print('Test accuracy:', score[1])"
      ],
      "metadata": {
        "id": "MdH8UWCuRLH-",
        "colab": {
          "base_uri": "https://localhost:8080/"
        },
        "outputId": "13ff723c-07d0-4928-ed63-c7568105ba84"
      },
      "execution_count": null,
      "outputs": [
        {
          "output_type": "stream",
          "name": "stdout",
          "text": [
            "2/2 [==============================] - 0s 7ms/step - loss: 0.0452 - accuracy: 1.0000\n",
            "Test loss: 0.04516221210360527\n",
            "Test accuracy: 1.0\n"
          ]
        }
      ]
    },
    {
      "cell_type": "code",
      "source": [
        "#시각화를 위한 함수 visual() 정의\n",
        "def visual(X_array, y_array):\n",
        "  for i in range(0, len(y_array)):\n",
        "      if y_array[i] == 0 :\n",
        "          a = plt.scatter(X_array[i][0],X_array[i][3], s = 30 , c = 'brown', marker = '.')\n",
        "      elif y_array[i]== 1 :\n",
        "          b = plt.scatter(X_array[i][0],X_array[i][3],s = 50 , c = 'red',marker = '.')\n",
        "      elif y_array[i]== 2 :\n",
        "          c = plt.scatter(X_array[i][0],X_array[i][3],s = 75 , c = 'gray',marker = '.')\n",
        "      elif y_array[i]== 3 :\n",
        "          d = plt.scatter(X_array[i][0],X_array[i][3],s = 90 , c = 'green',marker = '.')\n",
        "      elif y_array[i]== 4 :\n",
        "          e = plt.scatter(X_array[i][0],X_array[i][3],s = 100 , c = 'orange',marker = 'o')\n",
        "      elif y_array[i]== 5 :\n",
        "          f = plt.scatter(X_array[i][0],X_array[i][3],s = 150 , c = 'blue',marker = 'o')\n",
        "  plt.xlabel(\"Temperature(K)\")\n",
        "  plt.ylabel(\"Absolute Magnitude(Mv)\")\n",
        "  plt.title(\"H-R Diagram of Trained Stars \")\n",
        "  plt.legend((a,b,c,d,e,f),('Brown Dwarf','Red Dwarf','White Dwarf','Main Sequence','Supergiant','Hypergiant'))\n",
        "  m = np.linspace(0,40000,100)\n",
        "  n = (0*m) -7.5\n",
        "  plt.plot(m,n,'--m')\n",
        "  f = np.linspace(0,6000,100)\n",
        "  g = (0*f)+15.4\n",
        "  plt.plot(f,g,'--c')\n",
        "  plt.scatter(5778,4.83,s = 95, c= 'yellow',marker = 'o' ) #태양 정보 추가\n",
        "  plt.gca().invert_xaxis()\n",
        "  plt.gca().invert_yaxis()\n",
        "  plt.show()"
      ],
      "metadata": {
        "id": "ELRwpEjqQ_Qq"
      },
      "execution_count": null,
      "outputs": []
    },
    {
      "cell_type": "code",
      "source": [
        "# test 데이터셋 시각화\n",
        "visual(np.array(x_test), np.array(y_test))"
      ],
      "metadata": {
        "id": "SaSoFazJchp7",
        "colab": {
          "base_uri": "https://localhost:8080/",
          "height": 472
        },
        "outputId": "58474737-261c-444b-bd73-4a613ca014bb"
      },
      "execution_count": null,
      "outputs": [
        {
          "output_type": "display_data",
          "data": {
            "text/plain": [
              "<Figure size 640x480 with 1 Axes>"
            ],
            "image/png": "[encoded data removed]"
          },
          "metadata": {}
        }
      ]
    },
    {
      "cell_type": "code",
      "source": [
        "predicted = np.argmax(modelA.predict(x_test_scaled), axis=1)\n",
        "predicted"
      ],
      "metadata": {
        "id": "0YweFyqLgGm3",
        "colab": {
          "base_uri": "https://localhost:8080/"
        },
        "outputId": "d71a9abb-1613-4559-b6c1-5b084bb1d715"
      },
      "execution_count": null,
      "outputs": [
        {
          "output_type": "stream",
          "name": "stdout",
          "text": [
            "2/2 [==============================] - 0s 5ms/step\n"
          ]
        },
        {
          "output_type": "execute_result",
          "data": {
            "text/plain": [
              "array([4, 5, 0, 1, 2, 1, 1, 0, 2, 3, 1, 4, 3, 2, 2, 4, 4, 1, 1, 3, 4, 1,\n",
              "       5, 2, 5, 0, 0, 3, 2, 4, 5, 0, 0, 3, 0, 4, 2, 5, 3, 0, 3, 5, 5, 5,\n",
              "       2, 1, 4, 3])"
            ]
          },
          "metadata": {},
          "execution_count": 72
        }
      ]
    },
    {
      "cell_type": "code",
      "source": [
        "# 모델 예측 결과 시각화\n",
        "visual(np.array(x_test), predicted)"
      ],
      "metadata": {
        "id": "wxeWPKWue7Y_",
        "colab": {
          "base_uri": "https://localhost:8080/",
          "height": 472
        },
        "outputId": "8b0429bf-1c3c-4895-a91d-04c75d68e10d"
      },
      "execution_count": null,
      "outputs": [
        {
          "output_type": "display_data",
          "data": {
            "text/plain": [
              "<Figure size 640x480 with 1 Axes>"
            ],
            "image/png": "[encoded data removed]"
          },
          "metadata": {}
        }
      ]
    },
    {
      "cell_type": "code",
      "source": [],
      "metadata": {
        "id": "fgT7WWf8wkML"
      },
      "execution_count": null,
      "outputs": []
    }
  ]
}